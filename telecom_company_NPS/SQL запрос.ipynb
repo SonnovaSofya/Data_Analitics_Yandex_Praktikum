{
 "cells": [
  {
   "cell_type": "code",
   "execution_count": 1,
   "id": "4ef42c8f",
   "metadata": {
    "tags": [
     "aa81075c-062f-4de0-b5fe-14c73dc7468e"
    ]
   },
   "outputs": [],
   "source": [
    "import pandas as pd\n",
    "import numpy as np\n",
    "\n",
    "from sqlalchemy import create_engine"
   ]
  },
  {
   "cell_type": "code",
   "execution_count": 2,
   "id": "af4ac566",
   "metadata": {},
   "outputs": [],
   "source": [
    "path_to_db = '/datasets/telecomm_csi.db'\n",
    "engine = create_engine(f'sqlite:///{path_to_db}', echo = False)"
   ]
  },
  {
   "cell_type": "code",
   "execution_count": 6,
   "id": "45b6d6f3",
   "metadata": {},
   "outputs": [],
   "source": [
    "query = '''SELECT u.user_id, \n",
    "                  u.lt_day,\n",
    "                  (CASE\n",
    "                    WHEN u.lt_day < 366 THEN 'новый клиент'\n",
    "                    ELSE 'старый клиент'\n",
    "                   END) AS is_new,\n",
    "                  u.age,\n",
    "                  (CASE\n",
    "                   WHEN u.gender_segment = 1.0 THEN 'женщина'\n",
    "                   WHEN u.gender_segment == 0.0 THEN 'мужчина'\n",
    "                  END) AS gender_segment, \n",
    "                  u.os_name,\n",
    "                  u.cpe_type_name,\n",
    "                  l.country, \n",
    "                  l.city,\n",
    "                  a.title AS age_segment,\n",
    "                  t.title AS traffic_segment,\n",
    "                  lt.title AS lifetime_segment,\n",
    "                  u.nps_score,\n",
    "                  (CASE\n",
    "                    WHEN u.nps_score < 7 THEN 'критики'\n",
    "                    WHEN u.nps_score < 9 THEN 'нейтралы'\n",
    "                    ELSE 'cторонники'\n",
    "                   END) AS nps_group\n",
    "            FROM user AS u \n",
    "            JOIN location AS l ON l.location_id=u.location_id\n",
    "            JOIN age_segment AS a ON u.age_gr_id=a.age_gr_id\n",
    "            JOIN traffic_segment AS t ON u.tr_gr_id=t.tr_gr_id\n",
    "            JOIN lifetime_segment AS lt ON u.lt_gr_id=lt.lt_gr_id'''\n"
   ]
  },
  {
   "cell_type": "code",
   "execution_count": 7,
   "id": "6b329fe2",
   "metadata": {},
   "outputs": [
    {
     "data": {
      "text/html": [
       "<div>\n",
       "<style scoped>\n",
       "    .dataframe tbody tr th:only-of-type {\n",
       "        vertical-align: middle;\n",
       "    }\n",
       "\n",
       "    .dataframe tbody tr th {\n",
       "        vertical-align: top;\n",
       "    }\n",
       "\n",
       "    .dataframe thead th {\n",
       "        text-align: right;\n",
       "    }\n",
       "</style>\n",
       "<table border=\"1\" class=\"dataframe\">\n",
       "  <thead>\n",
       "    <tr style=\"text-align: right;\">\n",
       "      <th></th>\n",
       "      <th>user_id</th>\n",
       "      <th>lt_day</th>\n",
       "      <th>is_new</th>\n",
       "      <th>age</th>\n",
       "      <th>gender_segment</th>\n",
       "      <th>os_name</th>\n",
       "      <th>cpe_type_name</th>\n",
       "      <th>country</th>\n",
       "      <th>city</th>\n",
       "      <th>age_segment</th>\n",
       "      <th>traffic_segment</th>\n",
       "      <th>lifetime_segment</th>\n",
       "      <th>nps_score</th>\n",
       "      <th>nps_group</th>\n",
       "    </tr>\n",
       "  </thead>\n",
       "  <tbody>\n",
       "    <tr>\n",
       "      <th>0</th>\n",
       "      <td>A001A2</td>\n",
       "      <td>2320</td>\n",
       "      <td>старый клиент</td>\n",
       "      <td>45.0</td>\n",
       "      <td>женщина</td>\n",
       "      <td>ANDROID</td>\n",
       "      <td>SMARTPHONE</td>\n",
       "      <td>Россия</td>\n",
       "      <td>Уфа</td>\n",
       "      <td>05 45-54</td>\n",
       "      <td>04 1-5</td>\n",
       "      <td>08 36+</td>\n",
       "      <td>10</td>\n",
       "      <td>cторонники</td>\n",
       "    </tr>\n",
       "    <tr>\n",
       "      <th>1</th>\n",
       "      <td>A001WF</td>\n",
       "      <td>2344</td>\n",
       "      <td>старый клиент</td>\n",
       "      <td>53.0</td>\n",
       "      <td>мужчина</td>\n",
       "      <td>ANDROID</td>\n",
       "      <td>SMARTPHONE</td>\n",
       "      <td>Россия</td>\n",
       "      <td>Киров</td>\n",
       "      <td>05 45-54</td>\n",
       "      <td>04 1-5</td>\n",
       "      <td>08 36+</td>\n",
       "      <td>10</td>\n",
       "      <td>cторонники</td>\n",
       "    </tr>\n",
       "    <tr>\n",
       "      <th>2</th>\n",
       "      <td>A003Q7</td>\n",
       "      <td>467</td>\n",
       "      <td>старый клиент</td>\n",
       "      <td>57.0</td>\n",
       "      <td>мужчина</td>\n",
       "      <td>ANDROID</td>\n",
       "      <td>SMARTPHONE</td>\n",
       "      <td>Россия</td>\n",
       "      <td>Москва</td>\n",
       "      <td>06 55-64</td>\n",
       "      <td>08 20-25</td>\n",
       "      <td>06 13-24</td>\n",
       "      <td>10</td>\n",
       "      <td>cторонники</td>\n",
       "    </tr>\n",
       "  </tbody>\n",
       "</table>\n",
       "</div>"
      ],
      "text/plain": [
       "  user_id  lt_day         is_new   age gender_segment  os_name cpe_type_name  \\\n",
       "0  A001A2    2320  старый клиент  45.0        женщина  ANDROID    SMARTPHONE   \n",
       "1  A001WF    2344  старый клиент  53.0        мужчина  ANDROID    SMARTPHONE   \n",
       "2  A003Q7     467  старый клиент  57.0        мужчина  ANDROID    SMARTPHONE   \n",
       "\n",
       "  country    city age_segment traffic_segment lifetime_segment  nps_score  \\\n",
       "0  Россия     Уфа    05 45-54          04 1-5           08 36+         10   \n",
       "1  Россия   Киров    05 45-54          04 1-5           08 36+         10   \n",
       "2  Россия  Москва    06 55-64        08 20-25         06 13-24         10   \n",
       "\n",
       "    nps_group  \n",
       "0  cторонники  \n",
       "1  cторонники  \n",
       "2  cторонники  "
      ]
     },
     "execution_count": 7,
     "metadata": {},
     "output_type": "execute_result"
    }
   ],
   "source": [
    "df = pd.read_sql(query, engine)\n",
    "df.head(3)"
   ]
  },
  {
   "cell_type": "code",
   "execution_count": 8,
   "id": "e342b211",
   "metadata": {},
   "outputs": [],
   "source": [
    "df.to_csv('telecomm_csi_tableau.csv', index=False)"
   ]
  },
  {
   "cell_type": "code",
   "execution_count": null,
   "id": "b4fa5e27",
   "metadata": {},
   "outputs": [],
   "source": []
  }
 ],
 "metadata": {
  "ExecuteTimeLog": [
   {
    "duration": 752,
    "start_time": "2021-10-03T17:40:52.731Z"
   },
   {
    "duration": 20,
    "start_time": "2021-10-03T17:40:53.486Z"
   },
   {
    "duration": 4,
    "start_time": "2021-10-03T17:41:04.638Z"
   },
   {
    "duration": 461,
    "start_time": "2021-10-03T17:41:04.912Z"
   },
   {
    "duration": 284,
    "start_time": "2021-10-03T17:41:05.376Z"
   },
   {
    "duration": 574,
    "start_time": "2021-10-06T07:55:05.029Z"
   },
   {
    "duration": 6,
    "start_time": "2021-10-06T07:55:05.605Z"
   },
   {
    "duration": 3,
    "start_time": "2021-10-06T07:55:14.685Z"
   },
   {
    "duration": 406,
    "start_time": "2021-10-06T07:55:15.522Z"
   },
   {
    "duration": 67,
    "start_time": "2021-10-06T07:55:15.929Z"
   },
   {
    "duration": 4,
    "start_time": "2021-12-10T19:07:51.830Z"
   },
   {
    "duration": 4,
    "start_time": "2021-12-10T19:07:54.599Z"
   },
   {
    "duration": 4,
    "start_time": "2021-12-10T19:37:50.207Z"
   },
   {
    "duration": 352,
    "start_time": "2021-12-10T19:37:51.932Z"
   },
   {
    "duration": 1193,
    "start_time": "2021-12-10T19:37:56.809Z"
   },
   {
    "duration": 16,
    "start_time": "2021-12-10T19:37:58.788Z"
   },
   {
    "duration": 3,
    "start_time": "2021-12-10T19:37:59.353Z"
   },
   {
    "duration": 399,
    "start_time": "2021-12-10T19:38:00.089Z"
   },
   {
    "duration": 383,
    "start_time": "2021-12-10T20:03:51.879Z"
   },
   {
    "duration": 3,
    "start_time": "2021-12-10T20:03:55.371Z"
   },
   {
    "duration": 385,
    "start_time": "2021-12-10T20:03:56.294Z"
   },
   {
    "duration": 545,
    "start_time": "2022-06-03T18:21:30.917Z"
   },
   {
    "duration": 20,
    "start_time": "2022-06-03T18:21:31.464Z"
   },
   {
    "duration": 3,
    "start_time": "2022-06-03T18:21:31.768Z"
   },
   {
    "duration": 563,
    "start_time": "2022-06-03T18:21:32.376Z"
   },
   {
    "duration": 5,
    "start_time": "2022-06-03T18:21:33.464Z"
   },
   {
    "duration": 4,
    "start_time": "2022-06-03T18:23:53.285Z"
   },
   {
    "duration": 6066,
    "start_time": "2022-06-03T18:23:54.562Z"
   },
   {
    "duration": 5395,
    "start_time": "2022-06-03T18:24:15.194Z"
   }
  ],
  "kernelspec": {
   "display_name": "Python 3 (ipykernel)",
   "language": "python",
   "name": "python3"
  },
  "language_info": {
   "codemirror_mode": {
    "name": "ipython",
    "version": 3
   },
   "file_extension": ".py",
   "mimetype": "text/x-python",
   "name": "python",
   "nbconvert_exporter": "python",
   "pygments_lexer": "ipython3",
   "version": "3.9.7"
  },
  "toc": {
   "base_numbering": 1,
   "nav_menu": {},
   "number_sections": true,
   "sideBar": true,
   "skip_h1_title": true,
   "title_cell": "Table of Contents",
   "title_sidebar": "Contents",
   "toc_cell": false,
   "toc_position": {},
   "toc_section_display": true,
   "toc_window_display": false
  }
 },
 "nbformat": 4,
 "nbformat_minor": 5
}
