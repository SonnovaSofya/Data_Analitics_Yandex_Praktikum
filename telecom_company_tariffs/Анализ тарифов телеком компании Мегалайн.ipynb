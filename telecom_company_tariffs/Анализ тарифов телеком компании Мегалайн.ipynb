{
 "cells": [
  {
   "cell_type": "markdown",
   "id": "e2c7e7ef",
   "metadata": {},
   "source": [
    "# Описание проекта"
   ]
  },
  {
   "cell_type": "markdown",
   "id": "daa19521",
   "metadata": {},
   "source": [
    "**Данные для анализа:**  данные о небольшой выборке клиентов (500 человек) федерального оператора сотовой связи «Мегалайна».\n",
    "\n",
    "**Цель:** Выявить какой из двух тарифов Smart или Ultra приносит больше денег.\n",
    "\n",
    "**Задачи:** Провести анализ поведения пользователей в зависимости от тарифа - кто они, откуда, каким тарифом пользуются, сколько \n",
    "звонков и сообщений каждый отправил за 2018 год. Провести сравнение получаемой выручки от различных тарифов. \n",
    "\n",
    "**Заказчик:** Коммерческому отделу компании «Мегалайн» требуется предварительный анализ тарифов, чтобы скорректировать рекламный бюджет"
   ]
  },
  {
   "cell_type": "markdown",
   "id": "915023e2",
   "metadata": {},
   "source": [
    "# Загрузка и описание данных "
   ]
  },
  {
   "cell_type": "code",
   "execution_count": 1,
   "id": "fea93c6b",
   "metadata": {},
   "outputs": [],
   "source": [
    "import pandas as pd\n",
    "from io import BytesIO\n",
    "import requests\n",
    "import math\n",
    "import numpy as np\n",
    "import seaborn as sns\n",
    "import matplotlib.pyplot as plt\n",
    "from scipy import stats as st"
   ]
  },
  {
   "cell_type": "code",
   "execution_count": 2,
   "id": "7a9abc6e",
   "metadata": {},
   "outputs": [
    {
     "data": {
      "text/html": [
       "<div>\n",
       "<style scoped>\n",
       "    .dataframe tbody tr th:only-of-type {\n",
       "        vertical-align: middle;\n",
       "    }\n",
       "\n",
       "    .dataframe tbody tr th {\n",
       "        vertical-align: top;\n",
       "    }\n",
       "\n",
       "    .dataframe thead th {\n",
       "        text-align: right;\n",
       "    }\n",
       "</style>\n",
       "<table border=\"1\" class=\"dataframe\">\n",
       "  <thead>\n",
       "    <tr style=\"text-align: right;\">\n",
       "      <th></th>\n",
       "      <th>id</th>\n",
       "      <th>call_date</th>\n",
       "      <th>duration</th>\n",
       "      <th>user_id</th>\n",
       "    </tr>\n",
       "  </thead>\n",
       "  <tbody>\n",
       "    <tr>\n",
       "      <th>0</th>\n",
       "      <td>1000_0</td>\n",
       "      <td>2018-07-25</td>\n",
       "      <td>0.00</td>\n",
       "      <td>1000</td>\n",
       "    </tr>\n",
       "    <tr>\n",
       "      <th>1</th>\n",
       "      <td>1000_1</td>\n",
       "      <td>2018-08-17</td>\n",
       "      <td>0.00</td>\n",
       "      <td>1000</td>\n",
       "    </tr>\n",
       "    <tr>\n",
       "      <th>2</th>\n",
       "      <td>1000_2</td>\n",
       "      <td>2018-06-11</td>\n",
       "      <td>2.85</td>\n",
       "      <td>1000</td>\n",
       "    </tr>\n",
       "    <tr>\n",
       "      <th>3</th>\n",
       "      <td>1000_3</td>\n",
       "      <td>2018-09-21</td>\n",
       "      <td>13.80</td>\n",
       "      <td>1000</td>\n",
       "    </tr>\n",
       "    <tr>\n",
       "      <th>4</th>\n",
       "      <td>1000_4</td>\n",
       "      <td>2018-12-15</td>\n",
       "      <td>5.18</td>\n",
       "      <td>1000</td>\n",
       "    </tr>\n",
       "  </tbody>\n",
       "</table>\n",
       "</div>"
      ],
      "text/plain": [
       "       id   call_date  duration  user_id\n",
       "0  1000_0  2018-07-25      0.00     1000\n",
       "1  1000_1  2018-08-17      0.00     1000\n",
       "2  1000_2  2018-06-11      2.85     1000\n",
       "3  1000_3  2018-09-21     13.80     1000\n",
       "4  1000_4  2018-12-15      5.18     1000"
      ]
     },
     "execution_count": 2,
     "metadata": {},
     "output_type": "execute_result"
    }
   ],
   "source": [
    "spreadsheet_id = '1-6z-HxHsKSLXiz0aQxjbhFnkS3iYNvAVrAtgYVtu8Ww'\n",
    "file_name = 'https://docs.google.com/spreadsheets/d/{}/export?format=csv'.format(spreadsheet_id)\n",
    "r = requests.get(file_name)\n",
    "calls = pd.read_csv(BytesIO(r.content))\n",
    "calls.head()"
   ]
  },
  {
   "cell_type": "code",
   "execution_count": 3,
   "id": "0880d21e",
   "metadata": {},
   "outputs": [
    {
     "data": {
      "text/html": [
       "<div>\n",
       "<style scoped>\n",
       "    .dataframe tbody tr th:only-of-type {\n",
       "        vertical-align: middle;\n",
       "    }\n",
       "\n",
       "    .dataframe tbody tr th {\n",
       "        vertical-align: top;\n",
       "    }\n",
       "\n",
       "    .dataframe thead th {\n",
       "        text-align: right;\n",
       "    }\n",
       "</style>\n",
       "<table border=\"1\" class=\"dataframe\">\n",
       "  <thead>\n",
       "    <tr style=\"text-align: right;\">\n",
       "      <th></th>\n",
       "      <th>Unnamed: 0</th>\n",
       "      <th>id</th>\n",
       "      <th>mb_used</th>\n",
       "      <th>session_date</th>\n",
       "      <th>user_id</th>\n",
       "    </tr>\n",
       "  </thead>\n",
       "  <tbody>\n",
       "    <tr>\n",
       "      <th>0</th>\n",
       "      <td>0</td>\n",
       "      <td>1000_0</td>\n",
       "      <td>112.95</td>\n",
       "      <td>2018-11-25</td>\n",
       "      <td>1000</td>\n",
       "    </tr>\n",
       "    <tr>\n",
       "      <th>1</th>\n",
       "      <td>1</td>\n",
       "      <td>1000_1</td>\n",
       "      <td>1052.81</td>\n",
       "      <td>2018-09-07</td>\n",
       "      <td>1000</td>\n",
       "    </tr>\n",
       "    <tr>\n",
       "      <th>2</th>\n",
       "      <td>2</td>\n",
       "      <td>1000_2</td>\n",
       "      <td>1197.26</td>\n",
       "      <td>2018-06-25</td>\n",
       "      <td>1000</td>\n",
       "    </tr>\n",
       "    <tr>\n",
       "      <th>3</th>\n",
       "      <td>3</td>\n",
       "      <td>1000_3</td>\n",
       "      <td>550.27</td>\n",
       "      <td>2018-08-22</td>\n",
       "      <td>1000</td>\n",
       "    </tr>\n",
       "    <tr>\n",
       "      <th>4</th>\n",
       "      <td>4</td>\n",
       "      <td>1000_4</td>\n",
       "      <td>302.56</td>\n",
       "      <td>2018-09-24</td>\n",
       "      <td>1000</td>\n",
       "    </tr>\n",
       "  </tbody>\n",
       "</table>\n",
       "</div>"
      ],
      "text/plain": [
       "   Unnamed: 0      id  mb_used session_date  user_id\n",
       "0           0  1000_0   112.95   2018-11-25     1000\n",
       "1           1  1000_1  1052.81   2018-09-07     1000\n",
       "2           2  1000_2  1197.26   2018-06-25     1000\n",
       "3           3  1000_3   550.27   2018-08-22     1000\n",
       "4           4  1000_4   302.56   2018-09-24     1000"
      ]
     },
     "execution_count": 3,
     "metadata": {},
     "output_type": "execute_result"
    }
   ],
   "source": [
    "spreadsheet_id = '1T9VDOJn3UIxrAqWGB3FMQKvjNNRMQ0-NkS0Kl3Xcw3M'\n",
    "file_name = 'https://docs.google.com/spreadsheets/d/{}/export?format=csv'.format(spreadsheet_id)\n",
    "r = requests.get(file_name)\n",
    "internet = pd.read_csv(BytesIO(r.content))\n",
    "internet.head()"
   ]
  },
  {
   "cell_type": "code",
   "execution_count": 4,
   "id": "e4509fc6",
   "metadata": {},
   "outputs": [
    {
     "data": {
      "text/html": [
       "<div>\n",
       "<style scoped>\n",
       "    .dataframe tbody tr th:only-of-type {\n",
       "        vertical-align: middle;\n",
       "    }\n",
       "\n",
       "    .dataframe tbody tr th {\n",
       "        vertical-align: top;\n",
       "    }\n",
       "\n",
       "    .dataframe thead th {\n",
       "        text-align: right;\n",
       "    }\n",
       "</style>\n",
       "<table border=\"1\" class=\"dataframe\">\n",
       "  <thead>\n",
       "    <tr style=\"text-align: right;\">\n",
       "      <th></th>\n",
       "      <th>id</th>\n",
       "      <th>message_date</th>\n",
       "      <th>user_id</th>\n",
       "    </tr>\n",
       "  </thead>\n",
       "  <tbody>\n",
       "    <tr>\n",
       "      <th>0</th>\n",
       "      <td>1000_0</td>\n",
       "      <td>2018-06-27</td>\n",
       "      <td>1000</td>\n",
       "    </tr>\n",
       "    <tr>\n",
       "      <th>1</th>\n",
       "      <td>1000_1</td>\n",
       "      <td>2018-10-08</td>\n",
       "      <td>1000</td>\n",
       "    </tr>\n",
       "    <tr>\n",
       "      <th>2</th>\n",
       "      <td>1000_2</td>\n",
       "      <td>2018-08-04</td>\n",
       "      <td>1000</td>\n",
       "    </tr>\n",
       "    <tr>\n",
       "      <th>3</th>\n",
       "      <td>1000_3</td>\n",
       "      <td>2018-06-16</td>\n",
       "      <td>1000</td>\n",
       "    </tr>\n",
       "    <tr>\n",
       "      <th>4</th>\n",
       "      <td>1000_4</td>\n",
       "      <td>2018-12-05</td>\n",
       "      <td>1000</td>\n",
       "    </tr>\n",
       "  </tbody>\n",
       "</table>\n",
       "</div>"
      ],
      "text/plain": [
       "       id message_date  user_id\n",
       "0  1000_0   2018-06-27     1000\n",
       "1  1000_1   2018-10-08     1000\n",
       "2  1000_2   2018-08-04     1000\n",
       "3  1000_3   2018-06-16     1000\n",
       "4  1000_4   2018-12-05     1000"
      ]
     },
     "execution_count": 4,
     "metadata": {},
     "output_type": "execute_result"
    }
   ],
   "source": [
    "spreadsheet_id = '1FHns_rkThbRaiFlp8FMMv7jE9FJks9nDnAyUbd0KwaE'\n",
    "file_name = 'https://docs.google.com/spreadsheets/d/{}/export?format=csv'.format(spreadsheet_id)\n",
    "r = requests.get(file_name)\n",
    "messages = pd.read_csv(BytesIO(r.content))\n",
    "messages.head()"
   ]
  },
  {
   "cell_type": "code",
   "execution_count": 5,
   "id": "a39913ee",
   "metadata": {},
   "outputs": [
    {
     "data": {
      "text/html": [
       "<div>\n",
       "<style scoped>\n",
       "    .dataframe tbody tr th:only-of-type {\n",
       "        vertical-align: middle;\n",
       "    }\n",
       "\n",
       "    .dataframe tbody tr th {\n",
       "        vertical-align: top;\n",
       "    }\n",
       "\n",
       "    .dataframe thead th {\n",
       "        text-align: right;\n",
       "    }\n",
       "</style>\n",
       "<table border=\"1\" class=\"dataframe\">\n",
       "  <thead>\n",
       "    <tr style=\"text-align: right;\">\n",
       "      <th></th>\n",
       "      <th>messages_included</th>\n",
       "      <th>mb_per_month_included</th>\n",
       "      <th>minutes_included</th>\n",
       "      <th>rub_monthly_fee</th>\n",
       "      <th>rub_per_gb</th>\n",
       "      <th>rub_per_message</th>\n",
       "      <th>rub_per_minute</th>\n",
       "      <th>tariff_name</th>\n",
       "    </tr>\n",
       "  </thead>\n",
       "  <tbody>\n",
       "    <tr>\n",
       "      <th>0</th>\n",
       "      <td>50</td>\n",
       "      <td>15360</td>\n",
       "      <td>500</td>\n",
       "      <td>550</td>\n",
       "      <td>200</td>\n",
       "      <td>3</td>\n",
       "      <td>3</td>\n",
       "      <td>smart</td>\n",
       "    </tr>\n",
       "    <tr>\n",
       "      <th>1</th>\n",
       "      <td>1000</td>\n",
       "      <td>30720</td>\n",
       "      <td>3000</td>\n",
       "      <td>1950</td>\n",
       "      <td>150</td>\n",
       "      <td>1</td>\n",
       "      <td>1</td>\n",
       "      <td>ultra</td>\n",
       "    </tr>\n",
       "  </tbody>\n",
       "</table>\n",
       "</div>"
      ],
      "text/plain": [
       "   messages_included  mb_per_month_included  minutes_included  \\\n",
       "0                 50                  15360               500   \n",
       "1               1000                  30720              3000   \n",
       "\n",
       "   rub_monthly_fee  rub_per_gb  rub_per_message  rub_per_minute tariff_name  \n",
       "0              550         200                3               3       smart  \n",
       "1             1950         150                1               1       ultra  "
      ]
     },
     "execution_count": 5,
     "metadata": {},
     "output_type": "execute_result"
    }
   ],
   "source": [
    "spreadsheet_id = '1tgrp6qzb2fXN92yGUyP11x2KK25eUDGaBd6KyJ7a1NU'\n",
    "file_name = 'https://docs.google.com/spreadsheets/d/{}/export?format=csv'.format(spreadsheet_id)\n",
    "r = requests.get(file_name)\n",
    "tarrifs = pd.read_csv(BytesIO(r.content))\n",
    "tarrifs.head()"
   ]
  },
  {
   "cell_type": "code",
   "execution_count": 6,
   "id": "50d1ea12",
   "metadata": {},
   "outputs": [
    {
     "data": {
      "text/html": [
       "<div>\n",
       "<style scoped>\n",
       "    .dataframe tbody tr th:only-of-type {\n",
       "        vertical-align: middle;\n",
       "    }\n",
       "\n",
       "    .dataframe tbody tr th {\n",
       "        vertical-align: top;\n",
       "    }\n",
       "\n",
       "    .dataframe thead th {\n",
       "        text-align: right;\n",
       "    }\n",
       "</style>\n",
       "<table border=\"1\" class=\"dataframe\">\n",
       "  <thead>\n",
       "    <tr style=\"text-align: right;\">\n",
       "      <th></th>\n",
       "      <th>user_id</th>\n",
       "      <th>age</th>\n",
       "      <th>churn_date</th>\n",
       "      <th>city</th>\n",
       "      <th>first_name</th>\n",
       "      <th>last_name</th>\n",
       "      <th>reg_date</th>\n",
       "      <th>tariff</th>\n",
       "    </tr>\n",
       "  </thead>\n",
       "  <tbody>\n",
       "    <tr>\n",
       "      <th>0</th>\n",
       "      <td>1000</td>\n",
       "      <td>52</td>\n",
       "      <td>NaN</td>\n",
       "      <td>Краснодар</td>\n",
       "      <td>Рафаил</td>\n",
       "      <td>Верещагин</td>\n",
       "      <td>2018-05-25</td>\n",
       "      <td>ultra</td>\n",
       "    </tr>\n",
       "    <tr>\n",
       "      <th>1</th>\n",
       "      <td>1001</td>\n",
       "      <td>41</td>\n",
       "      <td>NaN</td>\n",
       "      <td>Москва</td>\n",
       "      <td>Иван</td>\n",
       "      <td>Ежов</td>\n",
       "      <td>2018-11-01</td>\n",
       "      <td>smart</td>\n",
       "    </tr>\n",
       "    <tr>\n",
       "      <th>2</th>\n",
       "      <td>1002</td>\n",
       "      <td>59</td>\n",
       "      <td>NaN</td>\n",
       "      <td>Стерлитамак</td>\n",
       "      <td>Евгений</td>\n",
       "      <td>Абрамович</td>\n",
       "      <td>2018-06-17</td>\n",
       "      <td>smart</td>\n",
       "    </tr>\n",
       "    <tr>\n",
       "      <th>3</th>\n",
       "      <td>1003</td>\n",
       "      <td>23</td>\n",
       "      <td>NaN</td>\n",
       "      <td>Москва</td>\n",
       "      <td>Белла</td>\n",
       "      <td>Белякова</td>\n",
       "      <td>2018-08-17</td>\n",
       "      <td>ultra</td>\n",
       "    </tr>\n",
       "    <tr>\n",
       "      <th>4</th>\n",
       "      <td>1004</td>\n",
       "      <td>68</td>\n",
       "      <td>NaN</td>\n",
       "      <td>Новокузнецк</td>\n",
       "      <td>Татьяна</td>\n",
       "      <td>Авдеенко</td>\n",
       "      <td>2018-05-14</td>\n",
       "      <td>ultra</td>\n",
       "    </tr>\n",
       "  </tbody>\n",
       "</table>\n",
       "</div>"
      ],
      "text/plain": [
       "   user_id  age churn_date         city first_name  last_name    reg_date  \\\n",
       "0     1000   52        NaN    Краснодар     Рафаил  Верещагин  2018-05-25   \n",
       "1     1001   41        NaN       Москва       Иван       Ежов  2018-11-01   \n",
       "2     1002   59        NaN  Стерлитамак    Евгений  Абрамович  2018-06-17   \n",
       "3     1003   23        NaN       Москва      Белла   Белякова  2018-08-17   \n",
       "4     1004   68        NaN  Новокузнецк    Татьяна   Авдеенко  2018-05-14   \n",
       "\n",
       "  tariff  \n",
       "0  ultra  \n",
       "1  smart  \n",
       "2  smart  \n",
       "3  ultra  \n",
       "4  ultra  "
      ]
     },
     "execution_count": 6,
     "metadata": {},
     "output_type": "execute_result"
    }
   ],
   "source": [
    "spreadsheet_id = '1Xcr0vlAXVoKpxfa71jI9y-k7V9ggotnWEE95Zn6Q4eM'\n",
    "file_name = 'https://docs.google.com/spreadsheets/d/{}/export?format=csv'.format(spreadsheet_id)\n",
    "r = requests.get(file_name)\n",
    "users = pd.read_csv(BytesIO(r.content))\n",
    "users.head()"
   ]
  },
  {
   "cell_type": "markdown",
   "id": "e807c65f",
   "metadata": {},
   "source": [
    "Предоставлены следующие данные для анализа:  \n",
    "   * `calls` - id и дата звонка с длительностью созвона и с привязкой к id пользователя  \n",
    "   * `internet` - id и дата сессии проведенной в интернете с кол-ом использованного трафика с привязкой к id пользователя\n",
    "   * `messages` - id и дата отправленного сообщения с привязкой к id пользователя\n",
    "   * `tarrifs` - подробные данные о предлагаемых тарифах \n",
    "   * `users` - информация о пользователях: id, возраст, дата отказа от услуг оператора (если такое произошло), город, ФИО, дата регистрации и подключенный тариф\n",
    "   \n",
    "   "
   ]
  },
  {
   "cell_type": "markdown",
   "id": "22eddccc",
   "metadata": {},
   "source": [
    "# Предобработка данных"
   ]
  },
  {
   "cell_type": "markdown",
   "id": "a0326f6d",
   "metadata": {},
   "source": [
    "## Тип данных"
   ]
  },
  {
   "cell_type": "markdown",
   "id": "e95d3382",
   "metadata": {},
   "source": [
    "Проверим все ли данные соответсвуют необходимому типу для удобства дальнейше работы"
   ]
  },
  {
   "cell_type": "code",
   "execution_count": 7,
   "id": "3572c24c",
   "metadata": {},
   "outputs": [
    {
     "name": "stdout",
     "output_type": "stream",
     "text": [
      "<class 'pandas.core.frame.DataFrame'>\n",
      "RangeIndex: 202607 entries, 0 to 202606\n",
      "Data columns (total 4 columns):\n",
      " #   Column     Non-Null Count   Dtype  \n",
      "---  ------     --------------   -----  \n",
      " 0   id         202607 non-null  object \n",
      " 1   call_date  202607 non-null  object \n",
      " 2   duration   202607 non-null  float64\n",
      " 3   user_id    202607 non-null  int64  \n",
      "dtypes: float64(1), int64(1), object(2)\n",
      "memory usage: 6.2+ MB\n"
     ]
    }
   ],
   "source": [
    "calls.info()\n",
    "\n",
    "# поменять тип в колонке с датой\n",
    "# поменять тип user_id с int на string"
   ]
  },
  {
   "cell_type": "code",
   "execution_count": 8,
   "id": "69ec253e",
   "metadata": {},
   "outputs": [
    {
     "name": "stdout",
     "output_type": "stream",
     "text": [
      "<class 'pandas.core.frame.DataFrame'>\n",
      "RangeIndex: 149396 entries, 0 to 149395\n",
      "Data columns (total 5 columns):\n",
      " #   Column        Non-Null Count   Dtype  \n",
      "---  ------        --------------   -----  \n",
      " 0   Unnamed: 0    149396 non-null  int64  \n",
      " 1   id            149396 non-null  object \n",
      " 2   mb_used       149396 non-null  float64\n",
      " 3   session_date  149396 non-null  object \n",
      " 4   user_id       149396 non-null  int64  \n",
      "dtypes: float64(1), int64(2), object(2)\n",
      "memory usage: 5.7+ MB\n"
     ]
    }
   ],
   "source": [
    "internet.info()\n",
    "\n",
    "# поменять тип в колонке с датой\n",
    "# поменять тип user_id с int на string\n",
    "# удалить первую колонку, которая дублирует индексы"
   ]
  },
  {
   "cell_type": "code",
   "execution_count": 9,
   "id": "747ae7ce",
   "metadata": {},
   "outputs": [
    {
     "name": "stdout",
     "output_type": "stream",
     "text": [
      "<class 'pandas.core.frame.DataFrame'>\n",
      "RangeIndex: 123036 entries, 0 to 123035\n",
      "Data columns (total 3 columns):\n",
      " #   Column        Non-Null Count   Dtype \n",
      "---  ------        --------------   ----- \n",
      " 0   id            123036 non-null  object\n",
      " 1   message_date  123036 non-null  object\n",
      " 2   user_id       123036 non-null  int64 \n",
      "dtypes: int64(1), object(2)\n",
      "memory usage: 2.8+ MB\n"
     ]
    }
   ],
   "source": [
    "messages.info()\n",
    "\n",
    "# поменять тип в колонке с датой\n",
    "# поменять тип user_id с int на string"
   ]
  },
  {
   "cell_type": "code",
   "execution_count": 10,
   "id": "ab94fbe1",
   "metadata": {},
   "outputs": [
    {
     "name": "stdout",
     "output_type": "stream",
     "text": [
      "<class 'pandas.core.frame.DataFrame'>\n",
      "RangeIndex: 2 entries, 0 to 1\n",
      "Data columns (total 8 columns):\n",
      " #   Column                 Non-Null Count  Dtype \n",
      "---  ------                 --------------  ----- \n",
      " 0   messages_included      2 non-null      int64 \n",
      " 1   mb_per_month_included  2 non-null      int64 \n",
      " 2   minutes_included       2 non-null      int64 \n",
      " 3   rub_monthly_fee        2 non-null      int64 \n",
      " 4   rub_per_gb             2 non-null      int64 \n",
      " 5   rub_per_message        2 non-null      int64 \n",
      " 6   rub_per_minute         2 non-null      int64 \n",
      " 7   tariff_name            2 non-null      object\n",
      "dtypes: int64(7), object(1)\n",
      "memory usage: 256.0+ bytes\n"
     ]
    }
   ],
   "source": [
    "tarrifs.info()\n",
    "\n",
    "# все типы данных корректны"
   ]
  },
  {
   "cell_type": "code",
   "execution_count": 11,
   "id": "66b1bbd8",
   "metadata": {},
   "outputs": [
    {
     "name": "stdout",
     "output_type": "stream",
     "text": [
      "<class 'pandas.core.frame.DataFrame'>\n",
      "RangeIndex: 500 entries, 0 to 499\n",
      "Data columns (total 8 columns):\n",
      " #   Column      Non-Null Count  Dtype \n",
      "---  ------      --------------  ----- \n",
      " 0   user_id     500 non-null    int64 \n",
      " 1   age         500 non-null    int64 \n",
      " 2   churn_date  38 non-null     object\n",
      " 3   city        500 non-null    object\n",
      " 4   first_name  500 non-null    object\n",
      " 5   last_name   500 non-null    object\n",
      " 6   reg_date    500 non-null    object\n",
      " 7   tariff      500 non-null    object\n",
      "dtypes: int64(2), object(6)\n",
      "memory usage: 31.4+ KB\n"
     ]
    }
   ],
   "source": [
    "users.info()\n",
    "\n",
    "# поменять тип в колонках с датой\n",
    "# поменять тип user_id с int на string"
   ]
  },
  {
   "cell_type": "code",
   "execution_count": 12,
   "id": "b8bfb5f2",
   "metadata": {},
   "outputs": [],
   "source": [
    "# Переведем колонки с датой в тип datetime\n",
    "calls['call_date'] = pd.to_datetime(calls['call_date']) \n",
    "internet['session_date'] = pd.to_datetime(internet['session_date']) \n",
    "messages['message_date'] = pd.to_datetime(messages['message_date']) \n",
    "users['churn_date'] = pd.to_datetime(users['churn_date']) \n",
    "users['reg_date'] = pd.to_datetime(users['reg_date']) "
   ]
  },
  {
   "cell_type": "code",
   "execution_count": 13,
   "id": "10115adb",
   "metadata": {},
   "outputs": [],
   "source": [
    "# Переводим user_id из int в str\n",
    "calls['user_id'] = calls['user_id'].astype(str) \n",
    "internet['user_id'] = internet['user_id'].astype(str)\n",
    "messages['user_id'] = messages['user_id'].astype(str)\n",
    "users['user_id'] = users['user_id'].astype(str)\n",
    "users['user_id'] = users['user_id'].astype(str)"
   ]
  },
  {
   "cell_type": "code",
   "execution_count": 14,
   "id": "203b1b1a",
   "metadata": {},
   "outputs": [],
   "source": [
    "# Удаляем лишнюю колонку, дублирующую индексы датафрейма\n",
    "internet = internet.drop(['Unnamed: 0'], axis=1)"
   ]
  },
  {
   "cell_type": "markdown",
   "id": "4802ba3c",
   "metadata": {},
   "source": [
    "## Дубликаты и пропущенные значения"
   ]
  },
  {
   "cell_type": "markdown",
   "id": "08f4cee9",
   "metadata": {},
   "source": [
    "Пропущенные значения наблюдаем только в таблице `users` в колонке `churn_date`. Значение в этой колонке присутствует только у тех пользователей, которые отказались от услуг данного телеком оператора. Соответсвенно у остальных данные в колонке отсутсвуют"
   ]
  },
  {
   "cell_type": "code",
   "execution_count": 15,
   "id": "08e0f682",
   "metadata": {},
   "outputs": [
    {
     "data": {
      "text/plain": [
       "0"
      ]
     },
     "execution_count": 15,
     "metadata": {},
     "output_type": "execute_result"
    }
   ],
   "source": [
    "users.duplicated().sum()"
   ]
  },
  {
   "cell_type": "code",
   "execution_count": 16,
   "id": "fd696b3f",
   "metadata": {},
   "outputs": [
    {
     "data": {
      "text/plain": [
       "0"
      ]
     },
     "execution_count": 16,
     "metadata": {},
     "output_type": "execute_result"
    }
   ],
   "source": [
    "messages.duplicated().sum()"
   ]
  },
  {
   "cell_type": "code",
   "execution_count": 17,
   "id": "670837af",
   "metadata": {},
   "outputs": [
    {
     "data": {
      "text/plain": [
       "0"
      ]
     },
     "execution_count": 17,
     "metadata": {},
     "output_type": "execute_result"
    }
   ],
   "source": [
    "internet.duplicated().sum()"
   ]
  },
  {
   "cell_type": "code",
   "execution_count": 18,
   "id": "12d14bd8",
   "metadata": {},
   "outputs": [
    {
     "data": {
      "text/plain": [
       "0"
      ]
     },
     "execution_count": 18,
     "metadata": {},
     "output_type": "execute_result"
    }
   ],
   "source": [
    "calls.duplicated().sum()"
   ]
  },
  {
   "cell_type": "markdown",
   "id": "99150b22",
   "metadata": {},
   "source": [
    "Явные дубликаты в таблицах также отсутсвуют. "
   ]
  },
  {
   "cell_type": "markdown",
   "id": "e5f7bae4",
   "metadata": {},
   "source": [
    "## Аномальные значения"
   ]
  },
  {
   "cell_type": "code",
   "execution_count": 19,
   "id": "9bac681b",
   "metadata": {},
   "outputs": [
    {
     "data": {
      "text/plain": [
       "count    202607.000000\n",
       "mean          6.755887\n",
       "std           5.843365\n",
       "min           0.000000\n",
       "25%           1.300000\n",
       "50%           6.000000\n",
       "75%          10.700000\n",
       "max          38.000000\n",
       "Name: duration, dtype: float64"
      ]
     },
     "execution_count": 19,
     "metadata": {},
     "output_type": "execute_result"
    }
   ],
   "source": [
    "calls['duration'].describe()"
   ]
  },
  {
   "cell_type": "markdown",
   "id": "ede724cc",
   "metadata": {},
   "source": [
    "Все значения продолжительности разговора находятся в пределах разумного, отсутствие выбросов скорее вызывает недоумение. Самый продолжительный разговор достигает 38 минут. Возможно данные уже заранее были подготовлены, и аномально длинные созвоны были отсеяны. \n",
    "\n",
    "Отрицательные значения отсутствует, нулевые значения обозначают пропущенные звонки"
   ]
  },
  {
   "cell_type": "code",
   "execution_count": 20,
   "id": "41b4eb82",
   "metadata": {},
   "outputs": [
    {
     "data": {
      "text/plain": [
       "count    149396.000000\n",
       "mean        370.192426\n",
       "std         278.300951\n",
       "min           0.000000\n",
       "25%         138.187500\n",
       "50%         348.015000\n",
       "75%         559.552500\n",
       "max        1724.830000\n",
       "Name: mb_used, dtype: float64"
      ]
     },
     "execution_count": 20,
     "metadata": {},
     "output_type": "execute_result"
    }
   ],
   "source": [
    "internet['mb_used'].describe()"
   ]
  },
  {
   "cell_type": "code",
   "execution_count": 21,
   "id": "e92495c8",
   "metadata": {},
   "outputs": [
    {
     "data": {
      "text/plain": [
       "<AxesSubplot:>"
      ]
     },
     "execution_count": 21,
     "metadata": {},
     "output_type": "execute_result"
    },
    {
     "data": {
      "image/png": "[encoded data removed]",
      "text/plain": [
       "<Figure size 432x288 with 1 Axes>"
      ]
     },
     "metadata": {
      "needs_background": "light"
     },
     "output_type": "display_data"
    }
   ],
   "source": [
    "internet.boxplot(['mb_used'])"
   ]
  },
  {
   "cell_type": "code",
   "execution_count": 22,
   "id": "92677a7a",
   "metadata": {},
   "outputs": [
    {
     "data": {
      "text/plain": [
       "19598"
      ]
     },
     "execution_count": 22,
     "metadata": {},
     "output_type": "execute_result"
    }
   ],
   "source": [
    "internet.query('mb_used == 0')['mb_used'].count()\n",
    "# Всего наблюдаем 19598 сессий с нулевым трафиком. "
   ]
  },
  {
   "cell_type": "markdown",
   "id": "042e24fd",
   "metadata": {},
   "source": [
    "Аналогичная ситуация с интренет трафиком. Аномальные значения отсутствуют. \n",
    "\n",
    "Однако, наблюдаем около 20тыс сессий с нулевым трафиком. Для чего эти сессии отмечены в датасете?\n",
    "Возможно это какой-то баг с несколькими пользователями?"
   ]
  },
  {
   "cell_type": "code",
   "execution_count": 23,
   "id": "d9d53746",
   "metadata": {},
   "outputs": [
    {
     "data": {
      "text/plain": [
       "array(['1000', '1001', '1002', '1003', '1004', '1005', '1006', '1007',\n",
       "       '1008', '1009', '1010', '1011', '1012', '1013', '1014', '1015',\n",
       "       '1016', '1017', '1018', '1019', '1020', '1021', '1022', '1023',\n",
       "       '1024', '1025', '1026', '1027', '1028', '1029', '1030', '1031',\n",
       "       '1032', '1033', '1034', '1035', '1036', '1037', '1038', '1039',\n",
       "       '1040', '1041', '1042', '1043', '1044', '1045', '1046', '1047',\n",
       "       '1048', '1049', '1050', '1051', '1052', '1053', '1054', '1055',\n",
       "       '1056', '1057', '1058', '1059', '1060', '1061', '1062', '1063',\n",
       "       '1064', '1065', '1066', '1067', '1068', '1069', '1070', '1071',\n",
       "       '1072', '1073', '1074', '1075', '1076', '1077', '1078', '1079',\n",
       "       '1080', '1081', '1082', '1083', '1084', '1085', '1086', '1087',\n",
       "       '1088', '1089', '1090', '1091', '1092', '1093', '1094', '1095',\n",
       "       '1096', '1097', '1098', '1099', '1100', '1101', '1102', '1103',\n",
       "       '1104', '1105', '1106', '1107', '1108', '1109', '1110', '1111',\n",
       "       '1112', '1113', '1114', '1115', '1116', '1117', '1118', '1119',\n",
       "       '1120', '1121', '1122', '1123', '1124', '1125', '1126', '1127',\n",
       "       '1129', '1130', '1131', '1132', '1133', '1134', '1135', '1136',\n",
       "       '1137', '1138', '1139', '1140', '1141', '1142', '1143', '1144',\n",
       "       '1145', '1146', '1147', '1148', '1149', '1150', '1151', '1152',\n",
       "       '1153', '1154', '1155', '1156', '1157', '1158', '1159', '1160',\n",
       "       '1161', '1162', '1163', '1164', '1165', '1166', '1167', '1168',\n",
       "       '1169', '1170', '1171', '1172', '1173', '1174', '1175', '1176',\n",
       "       '1177', '1178', '1179', '1180', '1181', '1182', '1183', '1184',\n",
       "       '1185', '1186', '1187', '1188', '1189', '1190', '1191', '1192',\n",
       "       '1193', '1194', '1195', '1196', '1197', '1198', '1199', '1200',\n",
       "       '1201', '1202', '1203', '1204', '1205', '1206', '1207', '1208',\n",
       "       '1209', '1210', '1211', '1212', '1213', '1214', '1215', '1216',\n",
       "       '1217', '1218', '1219', '1220', '1221', '1222', '1223', '1224',\n",
       "       '1225', '1226', '1227', '1228', '1229', '1230', '1231', '1232',\n",
       "       '1233', '1234', '1235', '1236', '1237', '1238', '1239', '1240',\n",
       "       '1241', '1242', '1243', '1244', '1245', '1246', '1247', '1248',\n",
       "       '1249', '1250', '1251', '1252', '1253', '1254', '1255', '1256',\n",
       "       '1257', '1258', '1259', '1260', '1261', '1262', '1263', '1264',\n",
       "       '1265', '1266', '1267', '1268', '1269', '1270', '1271', '1272',\n",
       "       '1274', '1275', '1276', '1277', '1278', '1279', '1280', '1281',\n",
       "       '1282', '1283', '1284', '1285', '1286', '1287', '1288', '1289',\n",
       "       '1290', '1291', '1292', '1293', '1294', '1295', '1296', '1297',\n",
       "       '1298', '1299', '1300', '1301', '1302', '1303', '1304', '1305',\n",
       "       '1306', '1307', '1308', '1309', '1310', '1311', '1312', '1313',\n",
       "       '1314', '1315', '1316', '1317', '1318', '1319', '1320', '1321',\n",
       "       '1322', '1323', '1324', '1325', '1326', '1327', '1328', '1329',\n",
       "       '1330', '1331', '1332', '1333', '1334', '1335', '1336', '1337',\n",
       "       '1338', '1339', '1340', '1341', '1342', '1344', '1345', '1346',\n",
       "       '1347', '1348', '1349', '1350', '1351', '1352', '1353', '1354',\n",
       "       '1355', '1356', '1357', '1358', '1359', '1360', '1361', '1362',\n",
       "       '1363', '1364', '1365', '1366', '1367', '1368', '1369', '1370',\n",
       "       '1372', '1373', '1374', '1375', '1376', '1377', '1378', '1379',\n",
       "       '1380', '1381', '1382', '1383', '1384', '1385', '1386', '1387',\n",
       "       '1388', '1389', '1390', '1391', '1392', '1393', '1394', '1395',\n",
       "       '1396', '1398', '1400', '1401', '1402', '1403', '1404', '1405',\n",
       "       '1406', '1407', '1408', '1409', '1410', '1411', '1412', '1413',\n",
       "       '1414', '1415', '1416', '1417', '1418', '1419', '1420', '1421',\n",
       "       '1422', '1423', '1424', '1425', '1426', '1427', '1428', '1429',\n",
       "       '1430', '1431', '1432', '1433', '1434', '1435', '1436', '1437',\n",
       "       '1438', '1439', '1440', '1441', '1442', '1443', '1444', '1445',\n",
       "       '1446', '1447', '1448', '1449', '1450', '1451', '1452', '1453',\n",
       "       '1454', '1455', '1456', '1457', '1458', '1459', '1460', '1461',\n",
       "       '1462', '1463', '1464', '1465', '1466', '1467', '1468', '1469',\n",
       "       '1470', '1471', '1472', '1473', '1474', '1475', '1476', '1477',\n",
       "       '1478', '1479', '1480', '1481', '1482', '1483', '1484', '1485',\n",
       "       '1486', '1487', '1488', '1489', '1490', '1491', '1492', '1493',\n",
       "       '1494', '1495', '1496', '1497', '1498', '1499'], dtype=object)"
      ]
     },
     "execution_count": 23,
     "metadata": {},
     "output_type": "execute_result"
    }
   ],
   "source": [
    "internet.query('mb_used == 0')['user_id'].unique()"
   ]
  },
  {
   "cell_type": "markdown",
   "id": "ab663e80",
   "metadata": {},
   "source": [
    "Видим, что буквально у каждого пользователя бывают сессии с нулевым трафиком. \n",
    "Предлагаем убрать из датасета строки с нулевым трафиком, так как они не несут для нас никакой полезной информации. "
   ]
  },
  {
   "cell_type": "code",
   "execution_count": 24,
   "id": "5ceae4c2",
   "metadata": {},
   "outputs": [
    {
     "data": {
      "text/plain": [
       "count    129798.000000\n",
       "mean        426.087210\n",
       "std         255.596447\n",
       "min           0.030000\n",
       "25%         227.460000\n",
       "50%         400.540000\n",
       "75%         592.947500\n",
       "max        1724.830000\n",
       "Name: mb_used, dtype: float64"
      ]
     },
     "execution_count": 24,
     "metadata": {},
     "output_type": "execute_result"
    }
   ],
   "source": [
    "internet = internet[internet['mb_used'] > 0]\n",
    "internet['mb_used'].describe()"
   ]
  },
  {
   "cell_type": "code",
   "execution_count": 25,
   "id": "1b325081",
   "metadata": {},
   "outputs": [
    {
     "data": {
      "text/plain": [
       "count    500.00000\n",
       "mean      46.58800\n",
       "std       16.66763\n",
       "min       18.00000\n",
       "25%       32.00000\n",
       "50%       46.00000\n",
       "75%       62.00000\n",
       "max       75.00000\n",
       "Name: age, dtype: float64"
      ]
     },
     "execution_count": 25,
     "metadata": {},
     "output_type": "execute_result"
    }
   ],
   "source": [
    "users['age'].describe()"
   ]
  },
  {
   "cell_type": "markdown",
   "id": "0c907b66",
   "metadata": {},
   "source": [
    "Возраст пользователей начинается от 18 лет, и в выборке отсутствуют люди старше 75 лет. Аномалий нет. Идем дальше"
   ]
  },
  {
   "cell_type": "markdown",
   "id": "a02e2e0e",
   "metadata": {},
   "source": [
    "## Дополнительная проверка качества данных"
   ]
  },
  {
   "cell_type": "markdown",
   "id": "0f7579e7",
   "metadata": {},
   "source": [
    "Подробнее изучим таблицу с данными о пользователях (users): \n",
    "\n",
    "   * Убедимся, что написание населенных пунктов корректное\n",
    "   * Убедимся, что в таблицу действительно включены пользователи только двух тарифов (smart и ultra)"
   ]
  },
  {
   "cell_type": "code",
   "execution_count": 26,
   "id": "de444919",
   "metadata": {},
   "outputs": [
    {
     "data": {
      "text/plain": [
       "array(['Краснодар', 'Москва', 'Стерлитамак', 'Новокузнецк',\n",
       "       'Набережные Челны', 'Ульяновск', 'Челябинск', 'Пермь', 'Тюмень',\n",
       "       'Самара', 'Санкт-Петербург', 'Иваново', 'Чебоксары', 'Омск', 'Уфа',\n",
       "       'Томск', 'Чита', 'Мурманск', 'Петрозаводск', 'Тверь',\n",
       "       'Екатеринбург', 'Махачкала', 'Вологда', 'Череповец', 'Ярославль',\n",
       "       'Сочи', 'Хабаровск', 'Ставрополь', 'Рязань', 'Улан-Удэ', 'Тула',\n",
       "       'Саратов', 'Ростов-на-Дону', 'Казань', 'Иркутск', 'Курск',\n",
       "       'Калуга', 'Якутск', 'Астрахань', 'Химки', 'Владикавказ',\n",
       "       'Волгоград', 'Саранск', 'Ижевск', 'Новосибирск', 'Брянск',\n",
       "       'Тольятти', 'Нижний Тагил', 'Орёл', 'Белгород', 'Воронеж',\n",
       "       'Волжский', 'Курган', 'Барнаул', 'Красноярск', 'Архангельск',\n",
       "       'Липецк', 'Кемерово', 'Киров', 'Сургут', 'Пенза', 'Магнитогорск',\n",
       "       'Нижний Новгород', 'Кострома', 'Владивосток', 'Тамбов', 'Балашиха',\n",
       "       'Севастополь', 'Калининград', 'Оренбург', 'Смоленск',\n",
       "       'Нижневартовск', 'Владимир', 'Новороссийск', 'Грозный', 'Подольск'],\n",
       "      dtype=object)"
      ]
     },
     "execution_count": 26,
     "metadata": {},
     "output_type": "execute_result"
    }
   ],
   "source": [
    "users['city'].unique()"
   ]
  },
  {
   "cell_type": "markdown",
   "id": "39b49c8a",
   "metadata": {},
   "source": [
    "Написание населенных пунктов унифицированно. Отсутсвуют одинаковые пункты с различным написанием "
   ]
  },
  {
   "cell_type": "code",
   "execution_count": 27,
   "id": "8b99d334",
   "metadata": {},
   "outputs": [
    {
     "data": {
      "text/plain": [
       "array(['ultra', 'smart'], dtype=object)"
      ]
     },
     "execution_count": 27,
     "metadata": {},
     "output_type": "execute_result"
    }
   ],
   "source": [
    "users['tariff'].unique()"
   ]
  },
  {
   "cell_type": "markdown",
   "id": "c4900771",
   "metadata": {},
   "source": [
    "Все корректно. В таблице наблюдаем пользователей двух тарифов, которые необходимо исследовать"
   ]
  },
  {
   "cell_type": "markdown",
   "id": "b26a768a",
   "metadata": {},
   "source": [
    "## Расчет и добавление параметров для анализа"
   ]
  },
  {
   "cell_type": "markdown",
   "id": "114e40de",
   "metadata": {},
   "source": [
    "### Количество сделанных звонков и израсходованных минут разговора по месяцам\n"
   ]
  },
  {
   "cell_type": "markdown",
   "id": "61ed6521",
   "metadata": {},
   "source": [
    "Обратим внимание на примечание к данным:\n",
    "\n",
    "«Мегалайн» всегда округляет секунды до минут. Каждый звонок округляется отдельно: даже если он длился всего 1 секунду, будет засчитан как 1 минута.\n",
    "\n",
    "\n"
   ]
  },
  {
   "cell_type": "markdown",
   "id": "80ec9730",
   "metadata": {},
   "source": [
    "Округлим все звонки до минут вверх "
   ]
  },
  {
   "cell_type": "code",
   "execution_count": 28,
   "id": "4801894d",
   "metadata": {},
   "outputs": [],
   "source": [
    "calls['duration_rounded'] = calls['duration'].apply(lambda x: math.ceil(x))"
   ]
  },
  {
   "cell_type": "markdown",
   "id": "3848fd38",
   "metadata": {},
   "source": [
    "Теперь непосредственно посчитаем кол-во звонком и минут, сгруппировав данные  по пользователям и месяцу"
   ]
  },
  {
   "cell_type": "code",
   "execution_count": 29,
   "id": "dd1a4b86",
   "metadata": {},
   "outputs": [],
   "source": [
    "# Вытащим из даты месяц\n",
    "calls['month'] = calls['call_date'].dt.month"
   ]
  },
  {
   "cell_type": "code",
   "execution_count": 30,
   "id": "969f2b83",
   "metadata": {},
   "outputs": [
    {
     "data": {
      "text/html": [
       "<div>\n",
       "<style scoped>\n",
       "    .dataframe tbody tr th:only-of-type {\n",
       "        vertical-align: middle;\n",
       "    }\n",
       "\n",
       "    .dataframe tbody tr th {\n",
       "        vertical-align: top;\n",
       "    }\n",
       "\n",
       "    .dataframe thead th {\n",
       "        text-align: right;\n",
       "    }\n",
       "</style>\n",
       "<table border=\"1\" class=\"dataframe\">\n",
       "  <thead>\n",
       "    <tr style=\"text-align: right;\">\n",
       "      <th></th>\n",
       "      <th>user_id</th>\n",
       "      <th>month</th>\n",
       "      <th>calls_cnt</th>\n",
       "      <th>duration_rounded</th>\n",
       "    </tr>\n",
       "  </thead>\n",
       "  <tbody>\n",
       "    <tr>\n",
       "      <th>0</th>\n",
       "      <td>1000</td>\n",
       "      <td>5</td>\n",
       "      <td>22</td>\n",
       "      <td>159</td>\n",
       "    </tr>\n",
       "    <tr>\n",
       "      <th>1</th>\n",
       "      <td>1000</td>\n",
       "      <td>6</td>\n",
       "      <td>43</td>\n",
       "      <td>172</td>\n",
       "    </tr>\n",
       "    <tr>\n",
       "      <th>2</th>\n",
       "      <td>1000</td>\n",
       "      <td>7</td>\n",
       "      <td>47</td>\n",
       "      <td>340</td>\n",
       "    </tr>\n",
       "    <tr>\n",
       "      <th>3</th>\n",
       "      <td>1000</td>\n",
       "      <td>8</td>\n",
       "      <td>52</td>\n",
       "      <td>408</td>\n",
       "    </tr>\n",
       "    <tr>\n",
       "      <th>4</th>\n",
       "      <td>1000</td>\n",
       "      <td>9</td>\n",
       "      <td>58</td>\n",
       "      <td>466</td>\n",
       "    </tr>\n",
       "    <tr>\n",
       "      <th>5</th>\n",
       "      <td>1000</td>\n",
       "      <td>10</td>\n",
       "      <td>57</td>\n",
       "      <td>350</td>\n",
       "    </tr>\n",
       "    <tr>\n",
       "      <th>6</th>\n",
       "      <td>1000</td>\n",
       "      <td>11</td>\n",
       "      <td>43</td>\n",
       "      <td>338</td>\n",
       "    </tr>\n",
       "    <tr>\n",
       "      <th>7</th>\n",
       "      <td>1000</td>\n",
       "      <td>12</td>\n",
       "      <td>46</td>\n",
       "      <td>333</td>\n",
       "    </tr>\n",
       "    <tr>\n",
       "      <th>8</th>\n",
       "      <td>1001</td>\n",
       "      <td>11</td>\n",
       "      <td>59</td>\n",
       "      <td>430</td>\n",
       "    </tr>\n",
       "    <tr>\n",
       "      <th>9</th>\n",
       "      <td>1001</td>\n",
       "      <td>12</td>\n",
       "      <td>63</td>\n",
       "      <td>414</td>\n",
       "    </tr>\n",
       "  </tbody>\n",
       "</table>\n",
       "</div>"
      ],
      "text/plain": [
       "  user_id  month  calls_cnt  duration_rounded\n",
       "0    1000      5         22               159\n",
       "1    1000      6         43               172\n",
       "2    1000      7         47               340\n",
       "3    1000      8         52               408\n",
       "4    1000      9         58               466\n",
       "5    1000     10         57               350\n",
       "6    1000     11         43               338\n",
       "7    1000     12         46               333\n",
       "8    1001     11         59               430\n",
       "9    1001     12         63               414"
      ]
     },
     "execution_count": 30,
     "metadata": {},
     "output_type": "execute_result"
    }
   ],
   "source": [
    "calls_by_month = calls.groupby(\n",
    "    ['user_id', 'month']).agg(\n",
    "    {'id':'count', 'duration_rounded':'sum'}).reset_index().rename(\n",
    "    columns={'id': 'calls_cnt'})\n",
    "calls_by_month.head(10)"
   ]
  },
  {
   "cell_type": "markdown",
   "id": "da6a96b3",
   "metadata": {},
   "source": [
    "### Количество отправленных сообщений по месяцам"
   ]
  },
  {
   "cell_type": "markdown",
   "id": "94cdc3d4",
   "metadata": {},
   "source": [
    "Аналогично посчитаем кол-во отправленных сообщений по месяцам для каждого пользователя"
   ]
  },
  {
   "cell_type": "code",
   "execution_count": 31,
   "id": "1adca880",
   "metadata": {},
   "outputs": [],
   "source": [
    "# Вытащим из даты месяц\n",
    "messages['month'] = messages['message_date'].dt.month "
   ]
  },
  {
   "cell_type": "code",
   "execution_count": 32,
   "id": "26f9cc9c",
   "metadata": {},
   "outputs": [
    {
     "data": {
      "text/html": [
       "<div>\n",
       "<style scoped>\n",
       "    .dataframe tbody tr th:only-of-type {\n",
       "        vertical-align: middle;\n",
       "    }\n",
       "\n",
       "    .dataframe tbody tr th {\n",
       "        vertical-align: top;\n",
       "    }\n",
       "\n",
       "    .dataframe thead th {\n",
       "        text-align: right;\n",
       "    }\n",
       "</style>\n",
       "<table border=\"1\" class=\"dataframe\">\n",
       "  <thead>\n",
       "    <tr style=\"text-align: right;\">\n",
       "      <th></th>\n",
       "      <th>user_id</th>\n",
       "      <th>month</th>\n",
       "      <th>messages_cnt</th>\n",
       "    </tr>\n",
       "  </thead>\n",
       "  <tbody>\n",
       "    <tr>\n",
       "      <th>0</th>\n",
       "      <td>1000</td>\n",
       "      <td>5</td>\n",
       "      <td>22</td>\n",
       "    </tr>\n",
       "    <tr>\n",
       "      <th>1</th>\n",
       "      <td>1000</td>\n",
       "      <td>6</td>\n",
       "      <td>60</td>\n",
       "    </tr>\n",
       "    <tr>\n",
       "      <th>2</th>\n",
       "      <td>1000</td>\n",
       "      <td>7</td>\n",
       "      <td>75</td>\n",
       "    </tr>\n",
       "    <tr>\n",
       "      <th>3</th>\n",
       "      <td>1000</td>\n",
       "      <td>8</td>\n",
       "      <td>81</td>\n",
       "    </tr>\n",
       "    <tr>\n",
       "      <th>4</th>\n",
       "      <td>1000</td>\n",
       "      <td>9</td>\n",
       "      <td>57</td>\n",
       "    </tr>\n",
       "    <tr>\n",
       "      <th>5</th>\n",
       "      <td>1000</td>\n",
       "      <td>10</td>\n",
       "      <td>73</td>\n",
       "    </tr>\n",
       "    <tr>\n",
       "      <th>6</th>\n",
       "      <td>1000</td>\n",
       "      <td>11</td>\n",
       "      <td>58</td>\n",
       "    </tr>\n",
       "    <tr>\n",
       "      <th>7</th>\n",
       "      <td>1000</td>\n",
       "      <td>12</td>\n",
       "      <td>70</td>\n",
       "    </tr>\n",
       "    <tr>\n",
       "      <th>8</th>\n",
       "      <td>1002</td>\n",
       "      <td>6</td>\n",
       "      <td>4</td>\n",
       "    </tr>\n",
       "    <tr>\n",
       "      <th>9</th>\n",
       "      <td>1002</td>\n",
       "      <td>7</td>\n",
       "      <td>11</td>\n",
       "    </tr>\n",
       "  </tbody>\n",
       "</table>\n",
       "</div>"
      ],
      "text/plain": [
       "  user_id  month  messages_cnt\n",
       "0    1000      5            22\n",
       "1    1000      6            60\n",
       "2    1000      7            75\n",
       "3    1000      8            81\n",
       "4    1000      9            57\n",
       "5    1000     10            73\n",
       "6    1000     11            58\n",
       "7    1000     12            70\n",
       "8    1002      6             4\n",
       "9    1002      7            11"
      ]
     },
     "execution_count": 32,
     "metadata": {},
     "output_type": "execute_result"
    }
   ],
   "source": [
    "messages_by_month = messages.groupby(\n",
    "    ['user_id', 'month']).agg(\n",
    "    {'id':'count'}).reset_index().rename(\n",
    "    columns={'id':'messages_cnt'})\n",
    "messages_by_month.head(10)"
   ]
  },
  {
   "cell_type": "markdown",
   "id": "cc8612c3",
   "metadata": {},
   "source": [
    "### Объем израсходованного интернет-трафика по месяцам"
   ]
  },
  {
   "cell_type": "markdown",
   "id": "329dd57c",
   "metadata": {},
   "source": [
    "Повторяем схему с интренет-трафиком"
   ]
  },
  {
   "cell_type": "code",
   "execution_count": 33,
   "id": "451f8542",
   "metadata": {},
   "outputs": [],
   "source": [
    "# Вытащим из даты месяц\n",
    "internet['month'] = internet['session_date'].dt.month "
   ]
  },
  {
   "cell_type": "code",
   "execution_count": 34,
   "id": "efbdad32",
   "metadata": {},
   "outputs": [
    {
     "data": {
      "text/html": [
       "<div>\n",
       "<style scoped>\n",
       "    .dataframe tbody tr th:only-of-type {\n",
       "        vertical-align: middle;\n",
       "    }\n",
       "\n",
       "    .dataframe tbody tr th {\n",
       "        vertical-align: top;\n",
       "    }\n",
       "\n",
       "    .dataframe thead th {\n",
       "        text-align: right;\n",
       "    }\n",
       "</style>\n",
       "<table border=\"1\" class=\"dataframe\">\n",
       "  <thead>\n",
       "    <tr style=\"text-align: right;\">\n",
       "      <th></th>\n",
       "      <th>user_id</th>\n",
       "      <th>month</th>\n",
       "      <th>mb_used</th>\n",
       "    </tr>\n",
       "  </thead>\n",
       "  <tbody>\n",
       "    <tr>\n",
       "      <th>0</th>\n",
       "      <td>1000</td>\n",
       "      <td>5</td>\n",
       "      <td>2253.49</td>\n",
       "    </tr>\n",
       "    <tr>\n",
       "      <th>1</th>\n",
       "      <td>1000</td>\n",
       "      <td>6</td>\n",
       "      <td>23233.77</td>\n",
       "    </tr>\n",
       "    <tr>\n",
       "      <th>2</th>\n",
       "      <td>1000</td>\n",
       "      <td>7</td>\n",
       "      <td>14003.64</td>\n",
       "    </tr>\n",
       "    <tr>\n",
       "      <th>3</th>\n",
       "      <td>1000</td>\n",
       "      <td>8</td>\n",
       "      <td>14055.93</td>\n",
       "    </tr>\n",
       "    <tr>\n",
       "      <th>4</th>\n",
       "      <td>1000</td>\n",
       "      <td>9</td>\n",
       "      <td>14568.91</td>\n",
       "    </tr>\n",
       "    <tr>\n",
       "      <th>...</th>\n",
       "      <td>...</td>\n",
       "      <td>...</td>\n",
       "      <td>...</td>\n",
       "    </tr>\n",
       "    <tr>\n",
       "      <th>3196</th>\n",
       "      <td>1498</td>\n",
       "      <td>10</td>\n",
       "      <td>20579.36</td>\n",
       "    </tr>\n",
       "    <tr>\n",
       "      <th>3197</th>\n",
       "      <td>1499</td>\n",
       "      <td>9</td>\n",
       "      <td>1845.75</td>\n",
       "    </tr>\n",
       "    <tr>\n",
       "      <th>3198</th>\n",
       "      <td>1499</td>\n",
       "      <td>10</td>\n",
       "      <td>17788.51</td>\n",
       "    </tr>\n",
       "    <tr>\n",
       "      <th>3199</th>\n",
       "      <td>1499</td>\n",
       "      <td>11</td>\n",
       "      <td>17963.31</td>\n",
       "    </tr>\n",
       "    <tr>\n",
       "      <th>3200</th>\n",
       "      <td>1499</td>\n",
       "      <td>12</td>\n",
       "      <td>13055.58</td>\n",
       "    </tr>\n",
       "  </tbody>\n",
       "</table>\n",
       "<p>3201 rows × 3 columns</p>\n",
       "</div>"
      ],
      "text/plain": [
       "     user_id  month   mb_used\n",
       "0       1000      5   2253.49\n",
       "1       1000      6  23233.77\n",
       "2       1000      7  14003.64\n",
       "3       1000      8  14055.93\n",
       "4       1000      9  14568.91\n",
       "...      ...    ...       ...\n",
       "3196    1498     10  20579.36\n",
       "3197    1499      9   1845.75\n",
       "3198    1499     10  17788.51\n",
       "3199    1499     11  17963.31\n",
       "3200    1499     12  13055.58\n",
       "\n",
       "[3201 rows x 3 columns]"
      ]
     },
     "execution_count": 34,
     "metadata": {},
     "output_type": "execute_result"
    }
   ],
   "source": [
    "internet_by_month = internet.groupby(\n",
    "    ['user_id', 'month']).agg(\n",
    "    {'mb_used':'sum'}).reset_index()\n",
    "internet_by_month"
   ]
  },
  {
   "cell_type": "markdown",
   "id": "f97e8641",
   "metadata": {},
   "source": [
    "Обращаемся ко второму примечанию:\n",
    "\n",
    "«Мегалайн» всегда округляет мегабайты — до гигабайт. Для веб-трафика отдельные сессии не считаются. Вместо этого общая сумма за месяц округляется в бо́льшую сторону. Если абонент использует 1025 мегабайт в этом месяце, с него возьмут плату за 2 гигабайта."
   ]
  },
  {
   "cell_type": "markdown",
   "id": "05c5125d",
   "metadata": {},
   "source": [
    "Для дальнейшего удобства округлим трафик до ближайшего кол-ва ГБ вверх. "
   ]
  },
  {
   "cell_type": "code",
   "execution_count": 35,
   "id": "510375dc",
   "metadata": {},
   "outputs": [
    {
     "data": {
      "text/html": [
       "<div>\n",
       "<style scoped>\n",
       "    .dataframe tbody tr th:only-of-type {\n",
       "        vertical-align: middle;\n",
       "    }\n",
       "\n",
       "    .dataframe tbody tr th {\n",
       "        vertical-align: top;\n",
       "    }\n",
       "\n",
       "    .dataframe thead th {\n",
       "        text-align: right;\n",
       "    }\n",
       "</style>\n",
       "<table border=\"1\" class=\"dataframe\">\n",
       "  <thead>\n",
       "    <tr style=\"text-align: right;\">\n",
       "      <th></th>\n",
       "      <th>user_id</th>\n",
       "      <th>month</th>\n",
       "      <th>mb_used</th>\n",
       "      <th>gb_used</th>\n",
       "    </tr>\n",
       "  </thead>\n",
       "  <tbody>\n",
       "    <tr>\n",
       "      <th>0</th>\n",
       "      <td>1000</td>\n",
       "      <td>5</td>\n",
       "      <td>2253.49</td>\n",
       "      <td>3</td>\n",
       "    </tr>\n",
       "    <tr>\n",
       "      <th>1</th>\n",
       "      <td>1000</td>\n",
       "      <td>6</td>\n",
       "      <td>23233.77</td>\n",
       "      <td>23</td>\n",
       "    </tr>\n",
       "    <tr>\n",
       "      <th>2</th>\n",
       "      <td>1000</td>\n",
       "      <td>7</td>\n",
       "      <td>14003.64</td>\n",
       "      <td>14</td>\n",
       "    </tr>\n",
       "    <tr>\n",
       "      <th>3</th>\n",
       "      <td>1000</td>\n",
       "      <td>8</td>\n",
       "      <td>14055.93</td>\n",
       "      <td>14</td>\n",
       "    </tr>\n",
       "    <tr>\n",
       "      <th>4</th>\n",
       "      <td>1000</td>\n",
       "      <td>9</td>\n",
       "      <td>14568.91</td>\n",
       "      <td>15</td>\n",
       "    </tr>\n",
       "  </tbody>\n",
       "</table>\n",
       "</div>"
      ],
      "text/plain": [
       "  user_id  month   mb_used  gb_used\n",
       "0    1000      5   2253.49        3\n",
       "1    1000      6  23233.77       23\n",
       "2    1000      7  14003.64       14\n",
       "3    1000      8  14055.93       14\n",
       "4    1000      9  14568.91       15"
      ]
     },
     "execution_count": 35,
     "metadata": {},
     "output_type": "execute_result"
    }
   ],
   "source": [
    "internet_by_month['gb_used'] = internet_by_month['mb_used'].apply(lambda x: math.ceil(x/1024))\n",
    "internet_by_month.head()"
   ]
  },
  {
   "cell_type": "markdown",
   "id": "505a54e8",
   "metadata": {},
   "source": [
    "### Помесячную выручку с каждого пользователя"
   ]
  },
  {
   "cell_type": "markdown",
   "id": "37645536",
   "metadata": {},
   "source": [
    "Для начала объединим таблицы, чтобы получить профиль пользователей по месяцам с информацией об использованном трафике, сообщениях, звонках.  "
   ]
  },
  {
   "cell_type": "code",
   "execution_count": 36,
   "id": "b253532e",
   "metadata": {},
   "outputs": [
    {
     "data": {
      "text/html": [
       "<div>\n",
       "<style scoped>\n",
       "    .dataframe tbody tr th:only-of-type {\n",
       "        vertical-align: middle;\n",
       "    }\n",
       "\n",
       "    .dataframe tbody tr th {\n",
       "        vertical-align: top;\n",
       "    }\n",
       "\n",
       "    .dataframe thead th {\n",
       "        text-align: right;\n",
       "    }\n",
       "</style>\n",
       "<table border=\"1\" class=\"dataframe\">\n",
       "  <thead>\n",
       "    <tr style=\"text-align: right;\">\n",
       "      <th></th>\n",
       "      <th>user_id</th>\n",
       "      <th>month</th>\n",
       "      <th>messages_cnt</th>\n",
       "      <th>calls_cnt</th>\n",
       "      <th>duration_rounded</th>\n",
       "    </tr>\n",
       "  </thead>\n",
       "  <tbody>\n",
       "    <tr>\n",
       "      <th>0</th>\n",
       "      <td>1000</td>\n",
       "      <td>5</td>\n",
       "      <td>22.0</td>\n",
       "      <td>22.0</td>\n",
       "      <td>159.0</td>\n",
       "    </tr>\n",
       "    <tr>\n",
       "      <th>1</th>\n",
       "      <td>1000</td>\n",
       "      <td>6</td>\n",
       "      <td>60.0</td>\n",
       "      <td>43.0</td>\n",
       "      <td>172.0</td>\n",
       "    </tr>\n",
       "    <tr>\n",
       "      <th>2</th>\n",
       "      <td>1000</td>\n",
       "      <td>7</td>\n",
       "      <td>75.0</td>\n",
       "      <td>47.0</td>\n",
       "      <td>340.0</td>\n",
       "    </tr>\n",
       "    <tr>\n",
       "      <th>3</th>\n",
       "      <td>1000</td>\n",
       "      <td>8</td>\n",
       "      <td>81.0</td>\n",
       "      <td>52.0</td>\n",
       "      <td>408.0</td>\n",
       "    </tr>\n",
       "    <tr>\n",
       "      <th>4</th>\n",
       "      <td>1000</td>\n",
       "      <td>9</td>\n",
       "      <td>57.0</td>\n",
       "      <td>58.0</td>\n",
       "      <td>466.0</td>\n",
       "    </tr>\n",
       "  </tbody>\n",
       "</table>\n",
       "</div>"
      ],
      "text/plain": [
       "  user_id  month  messages_cnt  calls_cnt  duration_rounded\n",
       "0    1000      5          22.0       22.0             159.0\n",
       "1    1000      6          60.0       43.0             172.0\n",
       "2    1000      7          75.0       47.0             340.0\n",
       "3    1000      8          81.0       52.0             408.0\n",
       "4    1000      9          57.0       58.0             466.0"
      ]
     },
     "execution_count": 36,
     "metadata": {},
     "output_type": "execute_result"
    }
   ],
   "source": [
    "# Проводим объединение в несколько шагов\n",
    "messages_calls = (messages_by_month.merge(\n",
    "    calls_by_month, left_on=['user_id', 'month'],\n",
    "    right_on=['user_id', 'month'], how='outer'))\n",
    "messages_calls.head()"
   ]
  },
  {
   "cell_type": "code",
   "execution_count": 37,
   "id": "a5a9c3af",
   "metadata": {},
   "outputs": [
    {
     "data": {
      "text/html": [
       "<div>\n",
       "<style scoped>\n",
       "    .dataframe tbody tr th:only-of-type {\n",
       "        vertical-align: middle;\n",
       "    }\n",
       "\n",
       "    .dataframe tbody tr th {\n",
       "        vertical-align: top;\n",
       "    }\n",
       "\n",
       "    .dataframe thead th {\n",
       "        text-align: right;\n",
       "    }\n",
       "</style>\n",
       "<table border=\"1\" class=\"dataframe\">\n",
       "  <thead>\n",
       "    <tr style=\"text-align: right;\">\n",
       "      <th></th>\n",
       "      <th>user_id</th>\n",
       "      <th>month</th>\n",
       "      <th>messages_cnt</th>\n",
       "      <th>calls_cnt</th>\n",
       "      <th>duration_rounded</th>\n",
       "      <th>mb_used</th>\n",
       "      <th>gb_used</th>\n",
       "    </tr>\n",
       "  </thead>\n",
       "  <tbody>\n",
       "    <tr>\n",
       "      <th>0</th>\n",
       "      <td>1000</td>\n",
       "      <td>5</td>\n",
       "      <td>22.0</td>\n",
       "      <td>22.0</td>\n",
       "      <td>159.0</td>\n",
       "      <td>2253.49</td>\n",
       "      <td>3.0</td>\n",
       "    </tr>\n",
       "    <tr>\n",
       "      <th>1</th>\n",
       "      <td>1000</td>\n",
       "      <td>6</td>\n",
       "      <td>60.0</td>\n",
       "      <td>43.0</td>\n",
       "      <td>172.0</td>\n",
       "      <td>23233.77</td>\n",
       "      <td>23.0</td>\n",
       "    </tr>\n",
       "    <tr>\n",
       "      <th>2</th>\n",
       "      <td>1000</td>\n",
       "      <td>7</td>\n",
       "      <td>75.0</td>\n",
       "      <td>47.0</td>\n",
       "      <td>340.0</td>\n",
       "      <td>14003.64</td>\n",
       "      <td>14.0</td>\n",
       "    </tr>\n",
       "    <tr>\n",
       "      <th>3</th>\n",
       "      <td>1000</td>\n",
       "      <td>8</td>\n",
       "      <td>81.0</td>\n",
       "      <td>52.0</td>\n",
       "      <td>408.0</td>\n",
       "      <td>14055.93</td>\n",
       "      <td>14.0</td>\n",
       "    </tr>\n",
       "    <tr>\n",
       "      <th>4</th>\n",
       "      <td>1000</td>\n",
       "      <td>9</td>\n",
       "      <td>57.0</td>\n",
       "      <td>58.0</td>\n",
       "      <td>466.0</td>\n",
       "      <td>14568.91</td>\n",
       "      <td>15.0</td>\n",
       "    </tr>\n",
       "  </tbody>\n",
       "</table>\n",
       "</div>"
      ],
      "text/plain": [
       "  user_id  month  messages_cnt  calls_cnt  duration_rounded   mb_used  gb_used\n",
       "0    1000      5          22.0       22.0             159.0   2253.49      3.0\n",
       "1    1000      6          60.0       43.0             172.0  23233.77     23.0\n",
       "2    1000      7          75.0       47.0             340.0  14003.64     14.0\n",
       "3    1000      8          81.0       52.0             408.0  14055.93     14.0\n",
       "4    1000      9          57.0       58.0             466.0  14568.91     15.0"
      ]
     },
     "execution_count": 37,
     "metadata": {},
     "output_type": "execute_result"
    }
   ],
   "source": [
    "mes_calls_net = (\n",
    "    messages_calls.merge(\n",
    "        internet_by_month, on=['user_id', 'month'], how='outer'))\n",
    "mes_calls_net.head()"
   ]
  },
  {
   "cell_type": "code",
   "execution_count": 38,
   "id": "1ad19117",
   "metadata": {},
   "outputs": [
    {
     "data": {
      "text/html": [
       "<div>\n",
       "<style scoped>\n",
       "    .dataframe tbody tr th:only-of-type {\n",
       "        vertical-align: middle;\n",
       "    }\n",
       "\n",
       "    .dataframe tbody tr th {\n",
       "        vertical-align: top;\n",
       "    }\n",
       "\n",
       "    .dataframe thead th {\n",
       "        text-align: right;\n",
       "    }\n",
       "</style>\n",
       "<table border=\"1\" class=\"dataframe\">\n",
       "  <thead>\n",
       "    <tr style=\"text-align: right;\">\n",
       "      <th></th>\n",
       "      <th>user_id</th>\n",
       "      <th>month</th>\n",
       "      <th>messages_cnt</th>\n",
       "      <th>calls_cnt</th>\n",
       "      <th>duration_rounded</th>\n",
       "      <th>mb_used</th>\n",
       "      <th>gb_used</th>\n",
       "      <th>tariff</th>\n",
       "      <th>reg_date</th>\n",
       "      <th>churn_date</th>\n",
       "      <th>city</th>\n",
       "    </tr>\n",
       "  </thead>\n",
       "  <tbody>\n",
       "    <tr>\n",
       "      <th>0</th>\n",
       "      <td>1000</td>\n",
       "      <td>5</td>\n",
       "      <td>22.0</td>\n",
       "      <td>22.0</td>\n",
       "      <td>159.0</td>\n",
       "      <td>2253.49</td>\n",
       "      <td>3.0</td>\n",
       "      <td>ultra</td>\n",
       "      <td>2018-05-25</td>\n",
       "      <td>NaT</td>\n",
       "      <td>Краснодар</td>\n",
       "    </tr>\n",
       "    <tr>\n",
       "      <th>1</th>\n",
       "      <td>1000</td>\n",
       "      <td>6</td>\n",
       "      <td>60.0</td>\n",
       "      <td>43.0</td>\n",
       "      <td>172.0</td>\n",
       "      <td>23233.77</td>\n",
       "      <td>23.0</td>\n",
       "      <td>ultra</td>\n",
       "      <td>2018-05-25</td>\n",
       "      <td>NaT</td>\n",
       "      <td>Краснодар</td>\n",
       "    </tr>\n",
       "    <tr>\n",
       "      <th>2</th>\n",
       "      <td>1000</td>\n",
       "      <td>7</td>\n",
       "      <td>75.0</td>\n",
       "      <td>47.0</td>\n",
       "      <td>340.0</td>\n",
       "      <td>14003.64</td>\n",
       "      <td>14.0</td>\n",
       "      <td>ultra</td>\n",
       "      <td>2018-05-25</td>\n",
       "      <td>NaT</td>\n",
       "      <td>Краснодар</td>\n",
       "    </tr>\n",
       "    <tr>\n",
       "      <th>3</th>\n",
       "      <td>1000</td>\n",
       "      <td>8</td>\n",
       "      <td>81.0</td>\n",
       "      <td>52.0</td>\n",
       "      <td>408.0</td>\n",
       "      <td>14055.93</td>\n",
       "      <td>14.0</td>\n",
       "      <td>ultra</td>\n",
       "      <td>2018-05-25</td>\n",
       "      <td>NaT</td>\n",
       "      <td>Краснодар</td>\n",
       "    </tr>\n",
       "    <tr>\n",
       "      <th>4</th>\n",
       "      <td>1000</td>\n",
       "      <td>9</td>\n",
       "      <td>57.0</td>\n",
       "      <td>58.0</td>\n",
       "      <td>466.0</td>\n",
       "      <td>14568.91</td>\n",
       "      <td>15.0</td>\n",
       "      <td>ultra</td>\n",
       "      <td>2018-05-25</td>\n",
       "      <td>NaT</td>\n",
       "      <td>Краснодар</td>\n",
       "    </tr>\n",
       "  </tbody>\n",
       "</table>\n",
       "</div>"
      ],
      "text/plain": [
       "  user_id  month  messages_cnt  calls_cnt  duration_rounded   mb_used  \\\n",
       "0    1000      5          22.0       22.0             159.0   2253.49   \n",
       "1    1000      6          60.0       43.0             172.0  23233.77   \n",
       "2    1000      7          75.0       47.0             340.0  14003.64   \n",
       "3    1000      8          81.0       52.0             408.0  14055.93   \n",
       "4    1000      9          57.0       58.0             466.0  14568.91   \n",
       "\n",
       "   gb_used tariff   reg_date churn_date       city  \n",
       "0      3.0  ultra 2018-05-25        NaT  Краснодар  \n",
       "1     23.0  ultra 2018-05-25        NaT  Краснодар  \n",
       "2     14.0  ultra 2018-05-25        NaT  Краснодар  \n",
       "3     14.0  ultra 2018-05-25        NaT  Краснодар  \n",
       "4     15.0  ultra 2018-05-25        NaT  Краснодар  "
      ]
     },
     "execution_count": 38,
     "metadata": {},
     "output_type": "execute_result"
    }
   ],
   "source": [
    "users_profile = (\n",
    "    mes_calls_net.merge(\n",
    "        users[['user_id', 'tariff', 'reg_date', 'churn_date', 'city']], on='user_id')) \n",
    "users_profile.head()"
   ]
  },
  {
   "cell_type": "markdown",
   "id": "c1bbc299",
   "metadata": {},
   "source": [
    "Получены профили пользователей. Теперь добавим к этим данным информацию о тарифах. "
   ]
  },
  {
   "cell_type": "code",
   "execution_count": 39,
   "id": "0a8dfdf9",
   "metadata": {},
   "outputs": [
    {
     "data": {
      "text/html": [
       "<div>\n",
       "<style scoped>\n",
       "    .dataframe tbody tr th:only-of-type {\n",
       "        vertical-align: middle;\n",
       "    }\n",
       "\n",
       "    .dataframe tbody tr th {\n",
       "        vertical-align: top;\n",
       "    }\n",
       "\n",
       "    .dataframe thead th {\n",
       "        text-align: right;\n",
       "    }\n",
       "</style>\n",
       "<table border=\"1\" class=\"dataframe\">\n",
       "  <thead>\n",
       "    <tr style=\"text-align: right;\">\n",
       "      <th></th>\n",
       "      <th>user_id</th>\n",
       "      <th>month</th>\n",
       "      <th>messages_cnt</th>\n",
       "      <th>calls_cnt</th>\n",
       "      <th>duration_rounded</th>\n",
       "      <th>mb_used</th>\n",
       "      <th>gb_used</th>\n",
       "      <th>tariff</th>\n",
       "      <th>reg_date</th>\n",
       "      <th>churn_date</th>\n",
       "      <th>city</th>\n",
       "      <th>messages_included</th>\n",
       "      <th>mb_per_month_included</th>\n",
       "      <th>minutes_included</th>\n",
       "      <th>rub_monthly_fee</th>\n",
       "      <th>rub_per_gb</th>\n",
       "      <th>rub_per_message</th>\n",
       "      <th>rub_per_minute</th>\n",
       "      <th>tariff_name</th>\n",
       "    </tr>\n",
       "  </thead>\n",
       "  <tbody>\n",
       "    <tr>\n",
       "      <th>0</th>\n",
       "      <td>1000</td>\n",
       "      <td>5</td>\n",
       "      <td>22.0</td>\n",
       "      <td>22.0</td>\n",
       "      <td>159.0</td>\n",
       "      <td>2253.49</td>\n",
       "      <td>3.0</td>\n",
       "      <td>ultra</td>\n",
       "      <td>2018-05-25</td>\n",
       "      <td>NaT</td>\n",
       "      <td>Краснодар</td>\n",
       "      <td>1000</td>\n",
       "      <td>30720</td>\n",
       "      <td>3000</td>\n",
       "      <td>1950</td>\n",
       "      <td>150</td>\n",
       "      <td>1</td>\n",
       "      <td>1</td>\n",
       "      <td>ultra</td>\n",
       "    </tr>\n",
       "    <tr>\n",
       "      <th>1</th>\n",
       "      <td>1000</td>\n",
       "      <td>6</td>\n",
       "      <td>60.0</td>\n",
       "      <td>43.0</td>\n",
       "      <td>172.0</td>\n",
       "      <td>23233.77</td>\n",
       "      <td>23.0</td>\n",
       "      <td>ultra</td>\n",
       "      <td>2018-05-25</td>\n",
       "      <td>NaT</td>\n",
       "      <td>Краснодар</td>\n",
       "      <td>1000</td>\n",
       "      <td>30720</td>\n",
       "      <td>3000</td>\n",
       "      <td>1950</td>\n",
       "      <td>150</td>\n",
       "      <td>1</td>\n",
       "      <td>1</td>\n",
       "      <td>ultra</td>\n",
       "    </tr>\n",
       "    <tr>\n",
       "      <th>2</th>\n",
       "      <td>1000</td>\n",
       "      <td>7</td>\n",
       "      <td>75.0</td>\n",
       "      <td>47.0</td>\n",
       "      <td>340.0</td>\n",
       "      <td>14003.64</td>\n",
       "      <td>14.0</td>\n",
       "      <td>ultra</td>\n",
       "      <td>2018-05-25</td>\n",
       "      <td>NaT</td>\n",
       "      <td>Краснодар</td>\n",
       "      <td>1000</td>\n",
       "      <td>30720</td>\n",
       "      <td>3000</td>\n",
       "      <td>1950</td>\n",
       "      <td>150</td>\n",
       "      <td>1</td>\n",
       "      <td>1</td>\n",
       "      <td>ultra</td>\n",
       "    </tr>\n",
       "    <tr>\n",
       "      <th>3</th>\n",
       "      <td>1000</td>\n",
       "      <td>8</td>\n",
       "      <td>81.0</td>\n",
       "      <td>52.0</td>\n",
       "      <td>408.0</td>\n",
       "      <td>14055.93</td>\n",
       "      <td>14.0</td>\n",
       "      <td>ultra</td>\n",
       "      <td>2018-05-25</td>\n",
       "      <td>NaT</td>\n",
       "      <td>Краснодар</td>\n",
       "      <td>1000</td>\n",
       "      <td>30720</td>\n",
       "      <td>3000</td>\n",
       "      <td>1950</td>\n",
       "      <td>150</td>\n",
       "      <td>1</td>\n",
       "      <td>1</td>\n",
       "      <td>ultra</td>\n",
       "    </tr>\n",
       "    <tr>\n",
       "      <th>4</th>\n",
       "      <td>1000</td>\n",
       "      <td>9</td>\n",
       "      <td>57.0</td>\n",
       "      <td>58.0</td>\n",
       "      <td>466.0</td>\n",
       "      <td>14568.91</td>\n",
       "      <td>15.0</td>\n",
       "      <td>ultra</td>\n",
       "      <td>2018-05-25</td>\n",
       "      <td>NaT</td>\n",
       "      <td>Краснодар</td>\n",
       "      <td>1000</td>\n",
       "      <td>30720</td>\n",
       "      <td>3000</td>\n",
       "      <td>1950</td>\n",
       "      <td>150</td>\n",
       "      <td>1</td>\n",
       "      <td>1</td>\n",
       "      <td>ultra</td>\n",
       "    </tr>\n",
       "  </tbody>\n",
       "</table>\n",
       "</div>"
      ],
      "text/plain": [
       "  user_id  month  messages_cnt  calls_cnt  duration_rounded   mb_used  \\\n",
       "0    1000      5          22.0       22.0             159.0   2253.49   \n",
       "1    1000      6          60.0       43.0             172.0  23233.77   \n",
       "2    1000      7          75.0       47.0             340.0  14003.64   \n",
       "3    1000      8          81.0       52.0             408.0  14055.93   \n",
       "4    1000      9          57.0       58.0             466.0  14568.91   \n",
       "\n",
       "   gb_used tariff   reg_date churn_date       city  messages_included  \\\n",
       "0      3.0  ultra 2018-05-25        NaT  Краснодар               1000   \n",
       "1     23.0  ultra 2018-05-25        NaT  Краснодар               1000   \n",
       "2     14.0  ultra 2018-05-25        NaT  Краснодар               1000   \n",
       "3     14.0  ultra 2018-05-25        NaT  Краснодар               1000   \n",
       "4     15.0  ultra 2018-05-25        NaT  Краснодар               1000   \n",
       "\n",
       "   mb_per_month_included  minutes_included  rub_monthly_fee  rub_per_gb  \\\n",
       "0                  30720              3000             1950         150   \n",
       "1                  30720              3000             1950         150   \n",
       "2                  30720              3000             1950         150   \n",
       "3                  30720              3000             1950         150   \n",
       "4                  30720              3000             1950         150   \n",
       "\n",
       "   rub_per_message  rub_per_minute tariff_name  \n",
       "0                1               1       ultra  \n",
       "1                1               1       ultra  \n",
       "2                1               1       ultra  \n",
       "3                1               1       ultra  \n",
       "4                1               1       ultra  "
      ]
     },
     "execution_count": 39,
     "metadata": {},
     "output_type": "execute_result"
    }
   ],
   "source": [
    "services_use = (\n",
    "    users_profile.merge(\n",
    "        tarrifs, left_on='tariff', right_on='tariff_name'))\n",
    "services_use.head()"
   ]
  },
  {
   "cell_type": "code",
   "execution_count": 40,
   "id": "ed2330a1",
   "metadata": {},
   "outputs": [],
   "source": [
    "# Переводим информацию о бесплатном лимите на интренет-трафик \n",
    "# из мегабайт в гигабайты. \n",
    "services_use['gb_per_month_included'] = services_use['mb_per_month_included'].apply(lambda x: x/1024) "
   ]
  },
  {
   "cell_type": "markdown",
   "id": "a770b2bc",
   "metadata": {},
   "source": [
    "Найдем кол-во звонков, СМС и интернет-трафика превышающие бесплатный лимит."
   ]
  },
  {
   "cell_type": "code",
   "execution_count": 41,
   "id": "3ff8dbed",
   "metadata": {},
   "outputs": [],
   "source": [
    "services_use['messages_over_limit'] = services_use['messages_cnt'] - services_use['messages_included']\n",
    "# В случае наличия недоиспользованного лимита значение в столбце обнуляем \n",
    "services_use.loc[services_use['messages_over_limit'] < 0, 'messages_over_limit'] = 0 "
   ]
  },
  {
   "cell_type": "code",
   "execution_count": 42,
   "id": "6574e5f4",
   "metadata": {},
   "outputs": [],
   "source": [
    "services_use['calls_over_limit'] = services_use['duration_rounded'] - services_use['minutes_included']\n",
    "# В случае наличия недоиспользованного лимита значение в столбце обнуляем \n",
    "services_use.loc[services_use['calls_over_limit'] < 0, 'calls_over_limit'] = 0"
   ]
  },
  {
   "cell_type": "code",
   "execution_count": 43,
   "id": "8cf8178d",
   "metadata": {},
   "outputs": [],
   "source": [
    "services_use['internet_over_limit'] = services_use['gb_used'] - services_use['gb_per_month_included']\n",
    "# В случае наличия недоиспользованного лимита значение в столбце обнуляем \n",
    "services_use.loc[services_use['internet_over_limit'] < 0, 'internet_over_limit'] = 0"
   ]
  },
  {
   "cell_type": "markdown",
   "id": "456d4149",
   "metadata": {},
   "source": [
    "Находим выручку отдельно от звонков, интернет-трафика и сообщений сверх бесплатного лимита"
   ]
  },
  {
   "cell_type": "code",
   "execution_count": 44,
   "id": "fe95351c",
   "metadata": {},
   "outputs": [],
   "source": [
    "services_use['calls_profit'] = services_use['calls_over_limit']*services_use['rub_per_minute']\n",
    "services_use['internet_profit'] = services_use['internet_over_limit']*services_use['rub_per_gb'] \n",
    "services_use['messages_profit'] = services_use['messages_over_limit']*services_use['rub_per_message']"
   ]
  },
  {
   "cell_type": "markdown",
   "id": "6dfa4e36",
   "metadata": {},
   "source": [
    "Находим помесячную выручку с каждого пользователя "
   ]
  },
  {
   "cell_type": "code",
   "execution_count": 45,
   "id": "ec0a2b65",
   "metadata": {},
   "outputs": [
    {
     "data": {
      "text/html": [
       "<div>\n",
       "<style scoped>\n",
       "    .dataframe tbody tr th:only-of-type {\n",
       "        vertical-align: middle;\n",
       "    }\n",
       "\n",
       "    .dataframe tbody tr th {\n",
       "        vertical-align: top;\n",
       "    }\n",
       "\n",
       "    .dataframe thead th {\n",
       "        text-align: right;\n",
       "    }\n",
       "</style>\n",
       "<table border=\"1\" class=\"dataframe\">\n",
       "  <thead>\n",
       "    <tr style=\"text-align: right;\">\n",
       "      <th></th>\n",
       "      <th>user_id</th>\n",
       "      <th>month</th>\n",
       "      <th>messages_cnt</th>\n",
       "      <th>calls_cnt</th>\n",
       "      <th>duration_rounded</th>\n",
       "      <th>mb_used</th>\n",
       "      <th>gb_used</th>\n",
       "      <th>tariff</th>\n",
       "      <th>reg_date</th>\n",
       "      <th>churn_date</th>\n",
       "      <th>...</th>\n",
       "      <th>rub_per_minute</th>\n",
       "      <th>tariff_name</th>\n",
       "      <th>gb_per_month_included</th>\n",
       "      <th>messages_over_limit</th>\n",
       "      <th>calls_over_limit</th>\n",
       "      <th>internet_over_limit</th>\n",
       "      <th>calls_profit</th>\n",
       "      <th>internet_profit</th>\n",
       "      <th>messages_profit</th>\n",
       "      <th>profit</th>\n",
       "    </tr>\n",
       "  </thead>\n",
       "  <tbody>\n",
       "    <tr>\n",
       "      <th>0</th>\n",
       "      <td>1000</td>\n",
       "      <td>5</td>\n",
       "      <td>22.0</td>\n",
       "      <td>22.0</td>\n",
       "      <td>159.0</td>\n",
       "      <td>2253.49</td>\n",
       "      <td>3.0</td>\n",
       "      <td>ultra</td>\n",
       "      <td>2018-05-25</td>\n",
       "      <td>NaT</td>\n",
       "      <td>...</td>\n",
       "      <td>1</td>\n",
       "      <td>ultra</td>\n",
       "      <td>30.0</td>\n",
       "      <td>0.0</td>\n",
       "      <td>0.0</td>\n",
       "      <td>0.0</td>\n",
       "      <td>0.0</td>\n",
       "      <td>0.0</td>\n",
       "      <td>0.0</td>\n",
       "      <td>1950.0</td>\n",
       "    </tr>\n",
       "    <tr>\n",
       "      <th>1</th>\n",
       "      <td>1000</td>\n",
       "      <td>6</td>\n",
       "      <td>60.0</td>\n",
       "      <td>43.0</td>\n",
       "      <td>172.0</td>\n",
       "      <td>23233.77</td>\n",
       "      <td>23.0</td>\n",
       "      <td>ultra</td>\n",
       "      <td>2018-05-25</td>\n",
       "      <td>NaT</td>\n",
       "      <td>...</td>\n",
       "      <td>1</td>\n",
       "      <td>ultra</td>\n",
       "      <td>30.0</td>\n",
       "      <td>0.0</td>\n",
       "      <td>0.0</td>\n",
       "      <td>0.0</td>\n",
       "      <td>0.0</td>\n",
       "      <td>0.0</td>\n",
       "      <td>0.0</td>\n",
       "      <td>1950.0</td>\n",
       "    </tr>\n",
       "    <tr>\n",
       "      <th>2</th>\n",
       "      <td>1000</td>\n",
       "      <td>7</td>\n",
       "      <td>75.0</td>\n",
       "      <td>47.0</td>\n",
       "      <td>340.0</td>\n",
       "      <td>14003.64</td>\n",
       "      <td>14.0</td>\n",
       "      <td>ultra</td>\n",
       "      <td>2018-05-25</td>\n",
       "      <td>NaT</td>\n",
       "      <td>...</td>\n",
       "      <td>1</td>\n",
       "      <td>ultra</td>\n",
       "      <td>30.0</td>\n",
       "      <td>0.0</td>\n",
       "      <td>0.0</td>\n",
       "      <td>0.0</td>\n",
       "      <td>0.0</td>\n",
       "      <td>0.0</td>\n",
       "      <td>0.0</td>\n",
       "      <td>1950.0</td>\n",
       "    </tr>\n",
       "    <tr>\n",
       "      <th>3</th>\n",
       "      <td>1000</td>\n",
       "      <td>8</td>\n",
       "      <td>81.0</td>\n",
       "      <td>52.0</td>\n",
       "      <td>408.0</td>\n",
       "      <td>14055.93</td>\n",
       "      <td>14.0</td>\n",
       "      <td>ultra</td>\n",
       "      <td>2018-05-25</td>\n",
       "      <td>NaT</td>\n",
       "      <td>...</td>\n",
       "      <td>1</td>\n",
       "      <td>ultra</td>\n",
       "      <td>30.0</td>\n",
       "      <td>0.0</td>\n",
       "      <td>0.0</td>\n",
       "      <td>0.0</td>\n",
       "      <td>0.0</td>\n",
       "      <td>0.0</td>\n",
       "      <td>0.0</td>\n",
       "      <td>1950.0</td>\n",
       "    </tr>\n",
       "    <tr>\n",
       "      <th>4</th>\n",
       "      <td>1000</td>\n",
       "      <td>9</td>\n",
       "      <td>57.0</td>\n",
       "      <td>58.0</td>\n",
       "      <td>466.0</td>\n",
       "      <td>14568.91</td>\n",
       "      <td>15.0</td>\n",
       "      <td>ultra</td>\n",
       "      <td>2018-05-25</td>\n",
       "      <td>NaT</td>\n",
       "      <td>...</td>\n",
       "      <td>1</td>\n",
       "      <td>ultra</td>\n",
       "      <td>30.0</td>\n",
       "      <td>0.0</td>\n",
       "      <td>0.0</td>\n",
       "      <td>0.0</td>\n",
       "      <td>0.0</td>\n",
       "      <td>0.0</td>\n",
       "      <td>0.0</td>\n",
       "      <td>1950.0</td>\n",
       "    </tr>\n",
       "  </tbody>\n",
       "</table>\n",
       "<p>5 rows × 27 columns</p>\n",
       "</div>"
      ],
      "text/plain": [
       "  user_id  month  messages_cnt  calls_cnt  duration_rounded   mb_used  \\\n",
       "0    1000      5          22.0       22.0             159.0   2253.49   \n",
       "1    1000      6          60.0       43.0             172.0  23233.77   \n",
       "2    1000      7          75.0       47.0             340.0  14003.64   \n",
       "3    1000      8          81.0       52.0             408.0  14055.93   \n",
       "4    1000      9          57.0       58.0             466.0  14568.91   \n",
       "\n",
       "   gb_used tariff   reg_date churn_date  ... rub_per_minute  tariff_name  \\\n",
       "0      3.0  ultra 2018-05-25        NaT  ...              1        ultra   \n",
       "1     23.0  ultra 2018-05-25        NaT  ...              1        ultra   \n",
       "2     14.0  ultra 2018-05-25        NaT  ...              1        ultra   \n",
       "3     14.0  ultra 2018-05-25        NaT  ...              1        ultra   \n",
       "4     15.0  ultra 2018-05-25        NaT  ...              1        ultra   \n",
       "\n",
       "   gb_per_month_included  messages_over_limit  calls_over_limit  \\\n",
       "0                   30.0                  0.0               0.0   \n",
       "1                   30.0                  0.0               0.0   \n",
       "2                   30.0                  0.0               0.0   \n",
       "3                   30.0                  0.0               0.0   \n",
       "4                   30.0                  0.0               0.0   \n",
       "\n",
       "   internet_over_limit  calls_profit  internet_profit messages_profit  profit  \n",
       "0                  0.0           0.0              0.0             0.0  1950.0  \n",
       "1                  0.0           0.0              0.0             0.0  1950.0  \n",
       "2                  0.0           0.0              0.0             0.0  1950.0  \n",
       "3                  0.0           0.0              0.0             0.0  1950.0  \n",
       "4                  0.0           0.0              0.0             0.0  1950.0  \n",
       "\n",
       "[5 rows x 27 columns]"
      ]
     },
     "execution_count": 45,
     "metadata": {},
     "output_type": "execute_result"
    }
   ],
   "source": [
    "services_use['profit'] = services_use[['rub_monthly_fee', 'calls_profit', 'messages_profit', 'internet_profit']].sum(axis=1)                   \n",
    "services_use.head()"
   ]
  },
  {
   "cell_type": "markdown",
   "id": "a5f6f0bc",
   "metadata": {},
   "source": [
    "# Анализ данных"
   ]
  },
  {
   "cell_type": "markdown",
   "id": "74d259d1",
   "metadata": {},
   "source": [
    "Опишите поведение клиентов оператора, исходя из выборки. Сколько минут разговора, сколько сообщений и какой объём интернет-трафика требуется пользователям каждого тарифа в месяц? Посчитайте среднее количество, дисперсию и стандартное отклонение. Постройте гистограммы. Опишите распределения."
   ]
  },
  {
   "cell_type": "markdown",
   "id": "04727bd0",
   "metadata": {},
   "source": [
    "Сгруппируем данные по пользователям, месяцу и тарифу. Это позволяет найти сколько минут разговора, сколько сообщений и какой объём интернет-трафика требуется пользователям каждого тарифа в месяц"
   ]
  },
  {
   "cell_type": "code",
   "execution_count": 46,
   "id": "04122c1c",
   "metadata": {
    "scrolled": false
   },
   "outputs": [
    {
     "data": {
      "text/html": [
       "<div>\n",
       "<style scoped>\n",
       "    .dataframe tbody tr th:only-of-type {\n",
       "        vertical-align: middle;\n",
       "    }\n",
       "\n",
       "    .dataframe tbody tr th {\n",
       "        vertical-align: top;\n",
       "    }\n",
       "\n",
       "    .dataframe thead th {\n",
       "        text-align: right;\n",
       "    }\n",
       "</style>\n",
       "<table border=\"1\" class=\"dataframe\">\n",
       "  <thead>\n",
       "    <tr style=\"text-align: right;\">\n",
       "      <th></th>\n",
       "      <th>user_id</th>\n",
       "      <th>month</th>\n",
       "      <th>tariff</th>\n",
       "      <th>city</th>\n",
       "      <th>duration_rounded</th>\n",
       "      <th>gb_used</th>\n",
       "      <th>messages_cnt</th>\n",
       "    </tr>\n",
       "  </thead>\n",
       "  <tbody>\n",
       "    <tr>\n",
       "      <th>0</th>\n",
       "      <td>1000</td>\n",
       "      <td>5</td>\n",
       "      <td>ultra</td>\n",
       "      <td>Краснодар</td>\n",
       "      <td>159.0</td>\n",
       "      <td>3.0</td>\n",
       "      <td>22.0</td>\n",
       "    </tr>\n",
       "    <tr>\n",
       "      <th>1</th>\n",
       "      <td>1000</td>\n",
       "      <td>6</td>\n",
       "      <td>ultra</td>\n",
       "      <td>Краснодар</td>\n",
       "      <td>172.0</td>\n",
       "      <td>23.0</td>\n",
       "      <td>60.0</td>\n",
       "    </tr>\n",
       "    <tr>\n",
       "      <th>2</th>\n",
       "      <td>1000</td>\n",
       "      <td>7</td>\n",
       "      <td>ultra</td>\n",
       "      <td>Краснодар</td>\n",
       "      <td>340.0</td>\n",
       "      <td>14.0</td>\n",
       "      <td>75.0</td>\n",
       "    </tr>\n",
       "    <tr>\n",
       "      <th>3</th>\n",
       "      <td>1000</td>\n",
       "      <td>8</td>\n",
       "      <td>ultra</td>\n",
       "      <td>Краснодар</td>\n",
       "      <td>408.0</td>\n",
       "      <td>14.0</td>\n",
       "      <td>81.0</td>\n",
       "    </tr>\n",
       "    <tr>\n",
       "      <th>4</th>\n",
       "      <td>1000</td>\n",
       "      <td>9</td>\n",
       "      <td>ultra</td>\n",
       "      <td>Краснодар</td>\n",
       "      <td>466.0</td>\n",
       "      <td>15.0</td>\n",
       "      <td>57.0</td>\n",
       "    </tr>\n",
       "    <tr>\n",
       "      <th>5</th>\n",
       "      <td>1000</td>\n",
       "      <td>10</td>\n",
       "      <td>ultra</td>\n",
       "      <td>Краснодар</td>\n",
       "      <td>350.0</td>\n",
       "      <td>15.0</td>\n",
       "      <td>73.0</td>\n",
       "    </tr>\n",
       "    <tr>\n",
       "      <th>6</th>\n",
       "      <td>1000</td>\n",
       "      <td>11</td>\n",
       "      <td>ultra</td>\n",
       "      <td>Краснодар</td>\n",
       "      <td>338.0</td>\n",
       "      <td>15.0</td>\n",
       "      <td>58.0</td>\n",
       "    </tr>\n",
       "    <tr>\n",
       "      <th>7</th>\n",
       "      <td>1000</td>\n",
       "      <td>12</td>\n",
       "      <td>ultra</td>\n",
       "      <td>Краснодар</td>\n",
       "      <td>333.0</td>\n",
       "      <td>10.0</td>\n",
       "      <td>70.0</td>\n",
       "    </tr>\n",
       "    <tr>\n",
       "      <th>8</th>\n",
       "      <td>1001</td>\n",
       "      <td>11</td>\n",
       "      <td>smart</td>\n",
       "      <td>Москва</td>\n",
       "      <td>430.0</td>\n",
       "      <td>18.0</td>\n",
       "      <td>0.0</td>\n",
       "    </tr>\n",
       "    <tr>\n",
       "      <th>9</th>\n",
       "      <td>1001</td>\n",
       "      <td>12</td>\n",
       "      <td>smart</td>\n",
       "      <td>Москва</td>\n",
       "      <td>414.0</td>\n",
       "      <td>14.0</td>\n",
       "      <td>0.0</td>\n",
       "    </tr>\n",
       "  </tbody>\n",
       "</table>\n",
       "</div>"
      ],
      "text/plain": [
       "  user_id  month tariff       city  duration_rounded  gb_used  messages_cnt\n",
       "0    1000      5  ultra  Краснодар             159.0      3.0          22.0\n",
       "1    1000      6  ultra  Краснодар             172.0     23.0          60.0\n",
       "2    1000      7  ultra  Краснодар             340.0     14.0          75.0\n",
       "3    1000      8  ultra  Краснодар             408.0     14.0          81.0\n",
       "4    1000      9  ultra  Краснодар             466.0     15.0          57.0\n",
       "5    1000     10  ultra  Краснодар             350.0     15.0          73.0\n",
       "6    1000     11  ultra  Краснодар             338.0     15.0          58.0\n",
       "7    1000     12  ultra  Краснодар             333.0     10.0          70.0\n",
       "8    1001     11  smart     Москва             430.0     18.0           0.0\n",
       "9    1001     12  smart     Москва             414.0     14.0           0.0"
      ]
     },
     "execution_count": 46,
     "metadata": {},
     "output_type": "execute_result"
    }
   ],
   "source": [
    "data_by_user_tariff_month = (\n",
    "    services_use.groupby(['user_id','month','tariff', 'city'])[['duration_rounded', 'gb_used', 'messages_cnt']].sum().reset_index())\n",
    "    \n",
    "data_by_user_tariff_month.head(10)"
   ]
  },
  {
   "cell_type": "markdown",
   "id": "4e5174f2",
   "metadata": {},
   "source": [
    "## Среднее, дисперия, стандартное отклонение"
   ]
  },
  {
   "cell_type": "markdown",
   "id": "a50bd2a8",
   "metadata": {},
   "source": [
    "Расчитаем среднее, дисперсию и стандартное отклонение по кол-ву минут разговора, кол-ву сообщений, объему интренет-трафика для каждого тарифа"
   ]
  },
  {
   "cell_type": "markdown",
   "id": "1fbde36e",
   "metadata": {},
   "source": [
    "### Количество минут разговора"
   ]
  },
  {
   "cell_type": "code",
   "execution_count": 47,
   "id": "45c042b9",
   "metadata": {},
   "outputs": [
    {
     "data": {
      "text/plain": [
       "417.9349484073576"
      ]
     },
     "execution_count": 47,
     "metadata": {},
     "output_type": "execute_result"
    }
   ],
   "source": [
    "mean_calls_smart = data_by_user_tariff_month.query('tariff == \"smart\"')['duration_rounded'].mean()\n",
    "mean_calls_smart"
   ]
  },
  {
   "cell_type": "code",
   "execution_count": 48,
   "id": "7a484a79",
   "metadata": {},
   "outputs": [
    {
     "data": {
      "text/plain": [
       "526.6233502538071"
      ]
     },
     "execution_count": 48,
     "metadata": {},
     "output_type": "execute_result"
    }
   ],
   "source": [
    "data_by_user_tariff_month.query('tariff == \"ultra\"')['duration_rounded'].mean()"
   ]
  },
  {
   "cell_type": "code",
   "execution_count": 49,
   "id": "46331f09",
   "metadata": {},
   "outputs": [
    {
     "data": {
      "text/plain": [
       "36219.315784344246"
      ]
     },
     "execution_count": 49,
     "metadata": {},
     "output_type": "execute_result"
    }
   ],
   "source": [
    "np.var(data_by_user_tariff_month.query('tariff == \"smart\"')['duration_rounded'], ddof=1)"
   ]
  },
  {
   "cell_type": "code",
   "execution_count": 50,
   "id": "8408168d",
   "metadata": {},
   "outputs": [
    {
     "data": {
      "text/plain": [
       "100873.63339730092"
      ]
     },
     "execution_count": 50,
     "metadata": {},
     "output_type": "execute_result"
    }
   ],
   "source": [
    "np.var(data_by_user_tariff_month.query('tariff == \"ultra\"')['duration_rounded'], ddof=1)"
   ]
  },
  {
   "cell_type": "code",
   "execution_count": 51,
   "id": "1be109cb",
   "metadata": {},
   "outputs": [
    {
     "data": {
      "text/plain": [
       "190.3137298892128"
      ]
     },
     "execution_count": 51,
     "metadata": {},
     "output_type": "execute_result"
    }
   ],
   "source": [
    "np.std(data_by_user_tariff_month.query('tariff == \"smart\"')['duration_rounded'], ddof=1)"
   ]
  },
  {
   "cell_type": "code",
   "execution_count": 52,
   "id": "8d1efe06",
   "metadata": {},
   "outputs": [
    {
     "data": {
      "text/plain": [
       "317.6060978591263"
      ]
     },
     "execution_count": 52,
     "metadata": {},
     "output_type": "execute_result"
    }
   ],
   "source": [
    "np.std(data_by_user_tariff_month.query('tariff == \"ultra\"')['duration_rounded'], ddof=1)"
   ]
  },
  {
   "cell_type": "markdown",
   "id": "bef00bb9",
   "metadata": {},
   "source": [
    "### Количество сообщений"
   ]
  },
  {
   "cell_type": "code",
   "execution_count": 53,
   "id": "96b4067f",
   "metadata": {},
   "outputs": [
    {
     "data": {
      "text/plain": [
       "33.384028712427096"
      ]
     },
     "execution_count": 53,
     "metadata": {},
     "output_type": "execute_result"
    }
   ],
   "source": [
    "mean_sms = data_by_user_tariff_month.query('tariff == \"smart\"')['messages_cnt'].mean()\n",
    "mean_sms"
   ]
  },
  {
   "cell_type": "code",
   "execution_count": 54,
   "id": "681a7619",
   "metadata": {},
   "outputs": [
    {
     "data": {
      "text/plain": [
       "49.36345177664975"
      ]
     },
     "execution_count": 54,
     "metadata": {},
     "output_type": "execute_result"
    }
   ],
   "source": [
    "data_by_user_tariff_month.query('tariff == \"ultra\"')['messages_cnt'].mean()"
   ]
  },
  {
   "cell_type": "code",
   "execution_count": 55,
   "id": "d2f8507d",
   "metadata": {},
   "outputs": [
    {
     "data": {
      "text/plain": [
       "796.8129584480083"
      ]
     },
     "execution_count": 55,
     "metadata": {},
     "output_type": "execute_result"
    }
   ],
   "source": [
    "np.var(data_by_user_tariff_month.query('tariff == \"smart\"')['messages_cnt'], ddof=1)"
   ]
  },
  {
   "cell_type": "code",
   "execution_count": 56,
   "id": "d38b3a81",
   "metadata": {},
   "outputs": [
    {
     "data": {
      "text/plain": [
       "2285.2661425446836"
      ]
     },
     "execution_count": 56,
     "metadata": {},
     "output_type": "execute_result"
    }
   ],
   "source": [
    "np.var(data_by_user_tariff_month.query('tariff == \"ultra\"')['messages_cnt'], ddof=1)"
   ]
  },
  {
   "cell_type": "code",
   "execution_count": 57,
   "id": "9539abc2",
   "metadata": {},
   "outputs": [
    {
     "data": {
      "text/plain": [
       "28.22787555676141"
      ]
     },
     "execution_count": 57,
     "metadata": {},
     "output_type": "execute_result"
    }
   ],
   "source": [
    "std_sms_smart = np.std(data_by_user_tariff_month.query('tariff == \"smart\"')['messages_cnt'], ddof=1)\n",
    "std_sms_smart"
   ]
  },
  {
   "cell_type": "code",
   "execution_count": 58,
   "id": "9b8e8847",
   "metadata": {},
   "outputs": [
    {
     "data": {
      "text/plain": [
       "47.80445735017482"
      ]
     },
     "execution_count": 58,
     "metadata": {},
     "output_type": "execute_result"
    }
   ],
   "source": [
    "np.std(data_by_user_tariff_month.query('tariff == \"ultra\"')['messages_cnt'], ddof=1)"
   ]
  },
  {
   "cell_type": "markdown",
   "id": "b70a9efc",
   "metadata": {},
   "source": [
    "### Объем интернет трафика"
   ]
  },
  {
   "cell_type": "code",
   "execution_count": 59,
   "id": "477048c8",
   "metadata": {},
   "outputs": [
    {
     "data": {
      "text/plain": [
       "16.328847016599372"
      ]
     },
     "execution_count": 59,
     "metadata": {},
     "output_type": "execute_result"
    }
   ],
   "source": [
    "data_by_user_tariff_month.query('tariff == \"smart\"')['gb_used'].mean()"
   ]
  },
  {
   "cell_type": "code",
   "execution_count": 60,
   "id": "e449b938",
   "metadata": {},
   "outputs": [
    {
     "data": {
      "text/plain": [
       "19.494416243654822"
      ]
     },
     "execution_count": 60,
     "metadata": {},
     "output_type": "execute_result"
    }
   ],
   "source": [
    "data_by_user_tariff_month.query('tariff == \"ultra\"')['gb_used'].mean()"
   ]
  },
  {
   "cell_type": "code",
   "execution_count": 61,
   "id": "cd8557dd",
   "metadata": {},
   "outputs": [
    {
     "data": {
      "text/plain": [
       "33.02870517811158"
      ]
     },
     "execution_count": 61,
     "metadata": {},
     "output_type": "execute_result"
    }
   ],
   "source": [
    "np.var(data_by_user_tariff_month.query('tariff == \"smart\"')['gb_used'], ddof=1)"
   ]
  },
  {
   "cell_type": "code",
   "execution_count": 62,
   "id": "8448f707",
   "metadata": {},
   "outputs": [
    {
     "data": {
      "text/plain": [
       "97.09168626965469"
      ]
     },
     "execution_count": 62,
     "metadata": {},
     "output_type": "execute_result"
    }
   ],
   "source": [
    "np.var(data_by_user_tariff_month.query('tariff == \"ultra\"')['gb_used'], ddof=1)"
   ]
  },
  {
   "cell_type": "code",
   "execution_count": 63,
   "id": "2487f362",
   "metadata": {},
   "outputs": [
    {
     "data": {
      "text/plain": [
       "5.747060568509052"
      ]
     },
     "execution_count": 63,
     "metadata": {},
     "output_type": "execute_result"
    }
   ],
   "source": [
    "np.std(data_by_user_tariff_month.query('tariff == \"smart\"')['gb_used'], ddof=1)"
   ]
  },
  {
   "cell_type": "code",
   "execution_count": 64,
   "id": "4ee6ea9a",
   "metadata": {},
   "outputs": [
    {
     "data": {
      "text/plain": [
       "9.853511367510299"
      ]
     },
     "execution_count": 64,
     "metadata": {},
     "output_type": "execute_result"
    }
   ],
   "source": [
    "np.std(data_by_user_tariff_month.query('tariff == \"ultra\"')['gb_used'], ddof=1)"
   ]
  },
  {
   "cell_type": "markdown",
   "id": "bdd42eb1",
   "metadata": {},
   "source": [
    "## Гистограммы"
   ]
  },
  {
   "cell_type": "markdown",
   "id": "6be34d81",
   "metadata": {},
   "source": [
    "### Количество минут разговора"
   ]
  },
  {
   "cell_type": "markdown",
   "id": "c60b9620",
   "metadata": {},
   "source": [
    "Наблюдаем нормальное распределение для обоих тарифов. Оба распредлеения немного скошены справо.\n",
    "\n",
    "У более дорогого тарифа (ultra) больше разброс в кол-ве минут. В тариф включено 3000 бесплатных минут, и судя по графику никто из пользователей этого тарифа не использует лимит полностью. Среднее значения тарифа ultra составляет только 526 минут. Наоборот, видим, что немалая доля пользователей этого тарифа пользуется звонками в меньшей степени чем пользователи второго тарифа (smart)\n",
    "\n",
    "У второго тарифа (smart) месячный лимит на звонки составляет 500 минут. Среднее значение - 417 минут, то есть в среднем пользователи этого тарифа практически полностью расходуют лимит, значит они могут приносить дополнительный доход компании за расход минут свыше 500. \n"
   ]
  },
  {
   "cell_type": "code",
   "execution_count": 65,
   "id": "4787c245",
   "metadata": {},
   "outputs": [
    {
     "data": {
      "image/png": "[encoded data removed]",
      "text/plain": [
       "<Figure size 432x288 with 1 Axes>"
      ]
     },
     "metadata": {
      "needs_background": "light"
     },
     "output_type": "display_data"
    }
   ],
   "source": [
    "plt.hist(data_by_user_tariff_month.query('tariff == \"smart\"')['duration_rounded'], bins=10, alpha=0.5, density=True);\n",
    "plt.hist(data_by_user_tariff_month.query('tariff == \"ultra\"')['duration_rounded'], bins=10, alpha=0.7, density=True);\n",
    "plt.legend(['smart', 'ultra'])\n",
    "plt.title('Гистограма минут разговора за месяц в 2018 году');"
   ]
  },
  {
   "cell_type": "markdown",
   "id": "5b6a9691",
   "metadata": {},
   "source": [
    "### Количество сообщений"
   ]
  },
  {
   "cell_type": "markdown",
   "id": "11d82340",
   "metadata": {},
   "source": [
    "Наблюдаем экспоненциальное распределение. Большинство пользователей не отправляют сообщения вовсе. Оправление сообщение становится наимененее востребованной услугой с появлением мессенджеров и социальных сетей.\n",
    "\n",
    "Обратимся вновь к описанию тарифов. В тариф smart в месяц входит 50 бесплатных СМС. Среднее кол-во сообщений в месяц для этого тарифа - 33. \n",
    "\n",
    "В тариф ultra входит 1000 бесплатных СМС. Видим повтор ситуации со звонками. Ни один из пользователей данного тарифа не использует лимит по сообщениям полность. Максимальное кол-во сообщений в месяц не доходит даже до 300 шт.  \n",
    "\n"
   ]
  },
  {
   "cell_type": "markdown",
   "id": "550e6822",
   "metadata": {},
   "source": [
    "<div class=\"alert alert-info\" style=\"border:solid blue 2px; padding: 20px\"> <b>Комментарий студента:</b> Или это тоже нормальное распределение сильно скошенное вправо? Как его отличить от экспоненциального? </div>\n",
    "   \n"
   ]
  },
  {
   "cell_type": "code",
   "execution_count": 66,
   "id": "27d0007e",
   "metadata": {},
   "outputs": [
    {
     "data": {
      "image/png": "[encoded data removed]",
      "text/plain": [
       "<Figure size 432x288 with 1 Axes>"
      ]
     },
     "metadata": {
      "needs_background": "light"
     },
     "output_type": "display_data"
    }
   ],
   "source": [
    "plt.hist(data_by_user_tariff_month.query('tariff == \"smart\"')['messages_cnt'], bins=10, alpha=0.5, density=True);\n",
    "plt.hist(data_by_user_tariff_month.query('tariff == \"ultra\"')['messages_cnt'], bins=10, alpha=0.7, density=True);\n",
    "plt.legend(['smart', 'ultra'])\n",
    "plt.title('Гистограма кол-ва отправленных СМС за месяц в 2018 году');"
   ]
  },
  {
   "cell_type": "markdown",
   "id": "27f137de",
   "metadata": {},
   "source": [
    "### Объем интернет-трафика"
   ]
  },
  {
   "cell_type": "markdown",
   "id": "ca1f11df",
   "metadata": {},
   "source": [
    "Вновь наблюдаем нормальное распределение. По графику видим, что у тарифа smart маленькое отклонение, большинство значений находится рядом со средним. У более дорогого тарифа дисперсия больше.\n",
    "\n",
    "\n",
    "Согласно описанию тарифов smart включает 15гб бесплатного интернета в месяц. При этом среднее значение объема трафика превышает 16гб, то есть в среднем пользователь превышает лимит, значит ему приходится доплачивать дополнительно\n",
    "\n",
    "\n",
    "Тариф ultra включает в два раза больше трафика - 30гб. При этом среднее значение составляет 19.5гб. Большая часть пользователей этого тарифа укладывается в рамки бесплатного лимита. \n"
   ]
  },
  {
   "cell_type": "code",
   "execution_count": 67,
   "id": "3134d41f",
   "metadata": {},
   "outputs": [
    {
     "data": {
      "image/png": "[encoded data removed]",
      "text/plain": [
       "<Figure size 432x288 with 1 Axes>"
      ]
     },
     "metadata": {
      "needs_background": "light"
     },
     "output_type": "display_data"
    }
   ],
   "source": [
    "plt.hist(data_by_user_tariff_month.query('tariff == \"smart\"')['gb_used'], bins=10, alpha=0.5, density=True);\n",
    "plt.hist(data_by_user_tariff_month.query('tariff == \"ultra\"')['gb_used'], bins=10, alpha=0.7, density=True);\n",
    "plt.legend(['smart', 'ultra'])\n",
    "plt.title('Гистограма использованного интернет-трафика за месяц в 2018 году');\n"
   ]
  },
  {
   "cell_type": "markdown",
   "id": "88540905",
   "metadata": {},
   "source": [
    "## Вывод "
   ]
  },
  {
   "cell_type": "markdown",
   "id": "af50d4e6",
   "metadata": {},
   "source": [
    "Проанализировав поведение пользователей двух тарифов и сопоставив с тарифными пакетами приходим к выводу, что у этих тарифов различный принцип действия:\n",
    "\n",
    "1. **Тариф Smart**\n",
    "\n",
    "Пользователи данного тарифа отдают невысокий месячный платеж. Однако, судя по графикам средний пользователь этого тарифа доплачивает за интренет, так как не вмещается в рамки бесплатного лимита. Звонки и СМС в данном тарифе также используются практически по максимуму, соответсвенно многим пользователям приходится доплачивать за них также. \n",
    "\n",
    "2. **Тариф Ultra**\n",
    "\n",
    "Лимиты по звонкам и сообщениям в тарифе ultra явно установлены таким образом, чтобы пользователю не приходилось доплачивать за эти услуги дополнительно. Единственное за что пользователь потенциально будет доплачивать - интренет-трафик. Хотя большинство пользователей тарифа укладываются и в лимит интернет-трафика. \n",
    "\n",
    "То есть у человека будет четкое понимание, что ему раз в месяц необходимо держать на счете сумму месячного платежа - 1950 рублей. И дополнительных издержек он скорее всего не понесет\n",
    "\n"
   ]
  },
  {
   "cell_type": "markdown",
   "id": "2ff64661",
   "metadata": {},
   "source": [
    "# Проверка гипотез"
   ]
  },
  {
   "cell_type": "markdown",
   "id": "c7ea246e",
   "metadata": {},
   "source": [
    "## Средняя выручка с пользователей тарифов Ultra и Smart различается"
   ]
  },
  {
   "cell_type": "code",
   "execution_count": 68,
   "id": "4c929b89",
   "metadata": {},
   "outputs": [
    {
     "data": {
      "text/html": [
       "<div>\n",
       "<style scoped>\n",
       "    .dataframe tbody tr th:only-of-type {\n",
       "        vertical-align: middle;\n",
       "    }\n",
       "\n",
       "    .dataframe tbody tr th {\n",
       "        vertical-align: top;\n",
       "    }\n",
       "\n",
       "    .dataframe thead th {\n",
       "        text-align: right;\n",
       "    }\n",
       "</style>\n",
       "<table border=\"1\" class=\"dataframe\">\n",
       "  <thead>\n",
       "    <tr style=\"text-align: right;\">\n",
       "      <th></th>\n",
       "      <th>user_id</th>\n",
       "      <th>month</th>\n",
       "      <th>tariff</th>\n",
       "      <th>profit</th>\n",
       "    </tr>\n",
       "  </thead>\n",
       "  <tbody>\n",
       "    <tr>\n",
       "      <th>0</th>\n",
       "      <td>1000</td>\n",
       "      <td>5</td>\n",
       "      <td>ultra</td>\n",
       "      <td>1950.0</td>\n",
       "    </tr>\n",
       "    <tr>\n",
       "      <th>1</th>\n",
       "      <td>1000</td>\n",
       "      <td>6</td>\n",
       "      <td>ultra</td>\n",
       "      <td>1950.0</td>\n",
       "    </tr>\n",
       "    <tr>\n",
       "      <th>2</th>\n",
       "      <td>1000</td>\n",
       "      <td>7</td>\n",
       "      <td>ultra</td>\n",
       "      <td>1950.0</td>\n",
       "    </tr>\n",
       "    <tr>\n",
       "      <th>3</th>\n",
       "      <td>1000</td>\n",
       "      <td>8</td>\n",
       "      <td>ultra</td>\n",
       "      <td>1950.0</td>\n",
       "    </tr>\n",
       "    <tr>\n",
       "      <th>4</th>\n",
       "      <td>1000</td>\n",
       "      <td>9</td>\n",
       "      <td>ultra</td>\n",
       "      <td>1950.0</td>\n",
       "    </tr>\n",
       "    <tr>\n",
       "      <th>...</th>\n",
       "      <td>...</td>\n",
       "      <td>...</td>\n",
       "      <td>...</td>\n",
       "      <td>...</td>\n",
       "    </tr>\n",
       "    <tr>\n",
       "      <th>3209</th>\n",
       "      <td>1498</td>\n",
       "      <td>10</td>\n",
       "      <td>smart</td>\n",
       "      <td>1750.0</td>\n",
       "    </tr>\n",
       "    <tr>\n",
       "      <th>3210</th>\n",
       "      <td>1499</td>\n",
       "      <td>9</td>\n",
       "      <td>smart</td>\n",
       "      <td>550.0</td>\n",
       "    </tr>\n",
       "    <tr>\n",
       "      <th>3211</th>\n",
       "      <td>1499</td>\n",
       "      <td>10</td>\n",
       "      <td>smart</td>\n",
       "      <td>1150.0</td>\n",
       "    </tr>\n",
       "    <tr>\n",
       "      <th>3212</th>\n",
       "      <td>1499</td>\n",
       "      <td>11</td>\n",
       "      <td>smart</td>\n",
       "      <td>1513.0</td>\n",
       "    </tr>\n",
       "    <tr>\n",
       "      <th>3213</th>\n",
       "      <td>1499</td>\n",
       "      <td>12</td>\n",
       "      <td>smart</td>\n",
       "      <td>598.0</td>\n",
       "    </tr>\n",
       "  </tbody>\n",
       "</table>\n",
       "<p>3214 rows × 4 columns</p>\n",
       "</div>"
      ],
      "text/plain": [
       "     user_id  month tariff  profit\n",
       "0       1000      5  ultra  1950.0\n",
       "1       1000      6  ultra  1950.0\n",
       "2       1000      7  ultra  1950.0\n",
       "3       1000      8  ultra  1950.0\n",
       "4       1000      9  ultra  1950.0\n",
       "...      ...    ...    ...     ...\n",
       "3209    1498     10  smart  1750.0\n",
       "3210    1499      9  smart   550.0\n",
       "3211    1499     10  smart  1150.0\n",
       "3212    1499     11  smart  1513.0\n",
       "3213    1499     12  smart   598.0\n",
       "\n",
       "[3214 rows x 4 columns]"
      ]
     },
     "execution_count": 68,
     "metadata": {},
     "output_type": "execute_result"
    }
   ],
   "source": [
    "revenue_by_tariff = services_use.groupby(['user_id', 'month', 'tariff'])['profit'].sum().reset_index()\n",
    "revenue_by_tariff"
   ]
  },
  {
   "cell_type": "markdown",
   "id": "089ea4d6",
   "metadata": {},
   "source": [
    "Построили график с распределением выручки с пользователей. Как и предполагалось, видим, что по тарифу ultra подавляющее большинство пользователей оплачивают месячный платеж 1950 руб. \n",
    "У второго тарифа разброс выручки больше"
   ]
  },
  {
   "cell_type": "code",
   "execution_count": 69,
   "id": "04da5690",
   "metadata": {},
   "outputs": [
    {
     "data": {
      "image/png": "[encoded data removed]",
      "text/plain": [
       "<Figure size 432x288 with 1 Axes>"
      ]
     },
     "metadata": {
      "needs_background": "light"
     },
     "output_type": "display_data"
    }
   ],
   "source": [
    "plt.hist(revenue_by_tariff.query('tariff == \"smart\"')['profit'], bins=10, alpha=0.5, density=True);\n",
    "plt.hist(revenue_by_tariff.query('tariff == \"ultra\"')['profit'], bins=10, alpha=0.7, density=True);\n",
    "plt.legend(['smart', 'ultra'])\n",
    "plt.title('Гистограма выручки с пользователей в 2018 году с разбивкой по тарифам');"
   ]
  },
  {
   "cell_type": "markdown",
   "id": "fb7086b2",
   "metadata": {},
   "source": [
    "Найдем среднее значение выручки по данным выборкам"
   ]
  },
  {
   "cell_type": "code",
   "execution_count": 70,
   "id": "6fbd3dd4",
   "metadata": {},
   "outputs": [
    {
     "data": {
      "text/plain": [
       "1289.9735307312696"
      ]
     },
     "execution_count": 70,
     "metadata": {},
     "output_type": "execute_result"
    }
   ],
   "source": [
    "revenue_by_tariff.query('tariff == \"smart\"')['profit'].mean()"
   ]
  },
  {
   "cell_type": "code",
   "execution_count": 71,
   "id": "7217999e",
   "metadata": {},
   "outputs": [
    {
     "data": {
      "text/plain": [
       "2070.1522842639592"
      ]
     },
     "execution_count": 71,
     "metadata": {},
     "output_type": "execute_result"
    }
   ],
   "source": [
    "revenue_by_tariff.query('tariff == \"ultra\"')['profit'].mean()"
   ]
  },
  {
   "cell_type": "markdown",
   "id": "5f133e61",
   "metadata": {},
   "source": [
    "Проверим гипотезу о равенстве среднего двух генеральных совокупностей по взятым из них выборкам"
   ]
  },
  {
   "cell_type": "markdown",
   "id": "37adddb4",
   "metadata": {},
   "source": [
    "Нулевая гипотеза всегда формулируется так, чтобы использовать знак равенства\n",
    "\n",
    "**H0:** Средняя выручка с пользователей тарифов Ultra и Smart совпадает \n",
    "\n",
    "Выдвинем двухстороннюю гипотезу \n",
    "\n",
    "**H1:** Средняя выручка с пользователей тарифов Ultra и Smart различается"
   ]
  },
  {
   "cell_type": "code",
   "execution_count": 72,
   "id": "f853fa52",
   "metadata": {},
   "outputs": [
    {
     "name": "stdout",
     "output_type": "stream",
     "text": [
      "p-значение: 4.2606313931076085e-250\n",
      "Отвергаем нулевую гипотезу\n"
     ]
    }
   ],
   "source": [
    "alpha = .05 # критический уровень статистической значимости\n",
    "# если p-value окажется меньше него - отвергнем гипотезу\n",
    "\n",
    "results = (st.ttest_ind(\n",
    "    revenue_by_tariff.query('tariff == \"smart\"')['profit'], # выборка с данными выручки по тарифу smart\n",
    "    revenue_by_tariff.query('tariff == \"ultra\"')['profit'], # выборка с данными выручки по тарифу ultra \n",
    "    equal_var=False)) # использовали дополнительный параметр, указав, что у ген совокупностей дисперсия должна отличаться. \n",
    "                      # Сделали данное предположение исходя из различного принципа действия тарифов \n",
    "\n",
    "print('p-значение:', results.pvalue)\n",
    "\n",
    "if results.pvalue < alpha:\n",
    "    print(\"Отвергаем нулевую гипотезу\")\n",
    "else:\n",
    "    print(\"Не получилось отвергнуть нулевую гипотезу\")"
   ]
  },
  {
   "cell_type": "markdown",
   "id": "82f85b6e",
   "metadata": {},
   "source": [
    "Согласно полученным результатам средняя выручка от различных тарифов все же отличается. По нашей выборки видим, что средняя выручка по тарифу smart составила 1289 рублей, по тарифу ultra 2070 рублей."
   ]
  },
  {
   "cell_type": "markdown",
   "id": "04342699",
   "metadata": {},
   "source": [
    "## Cредняя выручка c пользователей из Москвы отличается от выручки c пользователей из других регионов\n"
   ]
  },
  {
   "cell_type": "code",
   "execution_count": 73,
   "id": "c71033e9",
   "metadata": {},
   "outputs": [],
   "source": [
    "# Создаем функцию разделения городов на Москву и другие\n",
    "\n",
    "def capital(services_use):\n",
    "    if services_use['city'] == 'Москва':\n",
    "        return 'да'\n",
    "    else:\n",
    "        return 'нет'"
   ]
  },
  {
   "cell_type": "code",
   "execution_count": 74,
   "id": "7226d357",
   "metadata": {},
   "outputs": [],
   "source": [
    "# Создаем новый столбец с разделением на Москву и другие города\n",
    "services_use['capital'] = services_use.apply(capital, axis=1)"
   ]
  },
  {
   "cell_type": "code",
   "execution_count": 75,
   "id": "5a6c9088",
   "metadata": {},
   "outputs": [
    {
     "data": {
      "text/html": [
       "<div>\n",
       "<style scoped>\n",
       "    .dataframe tbody tr th:only-of-type {\n",
       "        vertical-align: middle;\n",
       "    }\n",
       "\n",
       "    .dataframe tbody tr th {\n",
       "        vertical-align: top;\n",
       "    }\n",
       "\n",
       "    .dataframe thead th {\n",
       "        text-align: right;\n",
       "    }\n",
       "</style>\n",
       "<table border=\"1\" class=\"dataframe\">\n",
       "  <thead>\n",
       "    <tr style=\"text-align: right;\">\n",
       "      <th></th>\n",
       "      <th>user_id</th>\n",
       "      <th>month</th>\n",
       "      <th>capital</th>\n",
       "      <th>tariff</th>\n",
       "      <th>profit</th>\n",
       "    </tr>\n",
       "  </thead>\n",
       "  <tbody>\n",
       "    <tr>\n",
       "      <th>0</th>\n",
       "      <td>1000</td>\n",
       "      <td>5</td>\n",
       "      <td>нет</td>\n",
       "      <td>ultra</td>\n",
       "      <td>1950.0</td>\n",
       "    </tr>\n",
       "    <tr>\n",
       "      <th>1</th>\n",
       "      <td>1000</td>\n",
       "      <td>6</td>\n",
       "      <td>нет</td>\n",
       "      <td>ultra</td>\n",
       "      <td>1950.0</td>\n",
       "    </tr>\n",
       "    <tr>\n",
       "      <th>2</th>\n",
       "      <td>1000</td>\n",
       "      <td>7</td>\n",
       "      <td>нет</td>\n",
       "      <td>ultra</td>\n",
       "      <td>1950.0</td>\n",
       "    </tr>\n",
       "    <tr>\n",
       "      <th>3</th>\n",
       "      <td>1000</td>\n",
       "      <td>8</td>\n",
       "      <td>нет</td>\n",
       "      <td>ultra</td>\n",
       "      <td>1950.0</td>\n",
       "    </tr>\n",
       "    <tr>\n",
       "      <th>4</th>\n",
       "      <td>1000</td>\n",
       "      <td>9</td>\n",
       "      <td>нет</td>\n",
       "      <td>ultra</td>\n",
       "      <td>1950.0</td>\n",
       "    </tr>\n",
       "    <tr>\n",
       "      <th>...</th>\n",
       "      <td>...</td>\n",
       "      <td>...</td>\n",
       "      <td>...</td>\n",
       "      <td>...</td>\n",
       "      <td>...</td>\n",
       "    </tr>\n",
       "    <tr>\n",
       "      <th>3209</th>\n",
       "      <td>1498</td>\n",
       "      <td>10</td>\n",
       "      <td>нет</td>\n",
       "      <td>smart</td>\n",
       "      <td>1750.0</td>\n",
       "    </tr>\n",
       "    <tr>\n",
       "      <th>3210</th>\n",
       "      <td>1499</td>\n",
       "      <td>9</td>\n",
       "      <td>нет</td>\n",
       "      <td>smart</td>\n",
       "      <td>550.0</td>\n",
       "    </tr>\n",
       "    <tr>\n",
       "      <th>3211</th>\n",
       "      <td>1499</td>\n",
       "      <td>10</td>\n",
       "      <td>нет</td>\n",
       "      <td>smart</td>\n",
       "      <td>1150.0</td>\n",
       "    </tr>\n",
       "    <tr>\n",
       "      <th>3212</th>\n",
       "      <td>1499</td>\n",
       "      <td>11</td>\n",
       "      <td>нет</td>\n",
       "      <td>smart</td>\n",
       "      <td>1513.0</td>\n",
       "    </tr>\n",
       "    <tr>\n",
       "      <th>3213</th>\n",
       "      <td>1499</td>\n",
       "      <td>12</td>\n",
       "      <td>нет</td>\n",
       "      <td>smart</td>\n",
       "      <td>598.0</td>\n",
       "    </tr>\n",
       "  </tbody>\n",
       "</table>\n",
       "<p>3214 rows × 5 columns</p>\n",
       "</div>"
      ],
      "text/plain": [
       "     user_id  month capital tariff  profit\n",
       "0       1000      5     нет  ultra  1950.0\n",
       "1       1000      6     нет  ultra  1950.0\n",
       "2       1000      7     нет  ultra  1950.0\n",
       "3       1000      8     нет  ultra  1950.0\n",
       "4       1000      9     нет  ultra  1950.0\n",
       "...      ...    ...     ...    ...     ...\n",
       "3209    1498     10     нет  smart  1750.0\n",
       "3210    1499      9     нет  smart   550.0\n",
       "3211    1499     10     нет  smart  1150.0\n",
       "3212    1499     11     нет  smart  1513.0\n",
       "3213    1499     12     нет  smart   598.0\n",
       "\n",
       "[3214 rows x 5 columns]"
      ]
     },
     "execution_count": 75,
     "metadata": {},
     "output_type": "execute_result"
    }
   ],
   "source": [
    "revenue_by_city = services_use.groupby(['user_id', 'month', 'capital', 'tariff'])['profit'].sum().reset_index()\n",
    "revenue_by_city"
   ]
  },
  {
   "cell_type": "code",
   "execution_count": 76,
   "id": "bb5d1007",
   "metadata": {},
   "outputs": [
    {
     "data": {
      "text/html": [
       "<div>\n",
       "<style scoped>\n",
       "    .dataframe tbody tr th:only-of-type {\n",
       "        vertical-align: middle;\n",
       "    }\n",
       "\n",
       "    .dataframe tbody tr th {\n",
       "        vertical-align: top;\n",
       "    }\n",
       "\n",
       "    .dataframe thead th {\n",
       "        text-align: right;\n",
       "    }\n",
       "</style>\n",
       "<table border=\"1\" class=\"dataframe\">\n",
       "  <thead>\n",
       "    <tr style=\"text-align: right;\">\n",
       "      <th></th>\n",
       "      <th>user_id</th>\n",
       "      <th>month</th>\n",
       "      <th>tariff</th>\n",
       "      <th>profit</th>\n",
       "    </tr>\n",
       "    <tr>\n",
       "      <th>capital</th>\n",
       "      <th></th>\n",
       "      <th></th>\n",
       "      <th></th>\n",
       "      <th></th>\n",
       "    </tr>\n",
       "  </thead>\n",
       "  <tbody>\n",
       "    <tr>\n",
       "      <th>да</th>\n",
       "      <td>611</td>\n",
       "      <td>611</td>\n",
       "      <td>611</td>\n",
       "      <td>611</td>\n",
       "    </tr>\n",
       "    <tr>\n",
       "      <th>нет</th>\n",
       "      <td>2603</td>\n",
       "      <td>2603</td>\n",
       "      <td>2603</td>\n",
       "      <td>2603</td>\n",
       "    </tr>\n",
       "  </tbody>\n",
       "</table>\n",
       "</div>"
      ],
      "text/plain": [
       "         user_id  month  tariff  profit\n",
       "capital                                \n",
       "да           611    611     611     611\n",
       "нет         2603   2603    2603    2603"
      ]
     },
     "execution_count": 76,
     "metadata": {},
     "output_type": "execute_result"
    }
   ],
   "source": [
    "revenue_by_city.groupby('capital').count()"
   ]
  },
  {
   "cell_type": "markdown",
   "id": "07b226dd",
   "metadata": {},
   "source": [
    "**H0:** Cредняя выручка c пользователей из Москвы совпадает с выручкой c пользователей из других регионов\n",
    "\n",
    "Выдвинем двухстороннюю гипотезу \n",
    "\n",
    "**H1:** Cредняя выручка c пользователей из Москвы отличается от выручки c пользователей из других регионов"
   ]
  },
  {
   "cell_type": "markdown",
   "id": "799a6d82",
   "metadata": {},
   "source": [
    "Проверим гипотезу о равенстве среднего двух генеральных совокупностей по взятым из них выборкам. Проверим данную гипотезу отдельно для каждого из тарифов"
   ]
  },
  {
   "cell_type": "code",
   "execution_count": 77,
   "id": "2ad35279",
   "metadata": {},
   "outputs": [
    {
     "name": "stdout",
     "output_type": "stream",
     "text": [
      "p-значение: 0.15468343176376667\n",
      "Не получилось отвергнуть нулевую гипотезу\n"
     ]
    }
   ],
   "source": [
    "# Проверяем гипотезу для тарифа Smart \n",
    "\n",
    "alpha = .05 # критический уровень статистической значимости\n",
    "# если p-value окажется меньше него - отвегнем гипотезу\n",
    "\n",
    "results = (st.ttest_ind(\n",
    "    revenue_by_city.query('capital == \"да\" and tariff == \"smart\"')['profit'], # выборка с данными выручки по Москве\n",
    "    revenue_by_city.query('capital == \"нет\" and tariff == \"smart\"')['profit'], # выборка с данными выручки по другим городам \n",
    "    equal_var=False)) # использовали дополнительный параметр, указав, что у ген совокупностей дисперсия должна отличаться. \n",
    "                      # Сделали данное предположение исходя из различного принципа действия тарифов \n",
    "\n",
    "print('p-значение:', results.pvalue)\n",
    "\n",
    "if results.pvalue < alpha:\n",
    "    print(\"Отвергаем нулевую гипотезу\")\n",
    "else:\n",
    "    print(\"Не получилось отвергнуть нулевую гипотезу\")"
   ]
  },
  {
   "cell_type": "code",
   "execution_count": 78,
   "id": "22facb79",
   "metadata": {},
   "outputs": [
    {
     "name": "stdout",
     "output_type": "stream",
     "text": [
      "p-значение: 0.8544997530689904\n",
      "Не получилось отвергнуть нулевую гипотезу\n"
     ]
    }
   ],
   "source": [
    "# Проверяем гипотезу для тарифа Ultra \n",
    "\n",
    "alpha = .05 # критический уровень статистической значимости\n",
    "# если p-value окажется меньше него - отвегнем гипотезу\n",
    "\n",
    "results = (st.ttest_ind(\n",
    "    revenue_by_city.query('capital == \"да\" and tariff == \"ultra\"')['profit'], # выборка с данными выручки по Москве\n",
    "    revenue_by_city.query('capital == \"нет\" and tariff == \"ultra\"')['profit'], # выборка с данными выручки по другим городам \n",
    "    equal_var=False)) # использовали дополнительный параметр, указав, что у ген совокупностей дисперсия должна отличаться. \n",
    "                      # Сделали данное предположение исходя из различного принципа действия тарифов \n",
    "\n",
    "print('p-значение:', results.pvalue)\n",
    "\n",
    "if results.pvalue < alpha:\n",
    "    print(\"Отвергаем нулевую гипотезу\")\n",
    "else:\n",
    "    print(\"Не получилось отвергнуть нулевую гипотезу\")"
   ]
  },
  {
   "cell_type": "markdown",
   "id": "217adda3",
   "metadata": {},
   "source": [
    "Полученное значение p-value при проверки обоих тарифов говорит о том, что вероятность получить такое или большее различие случайно велико (15% для тарифа smart и 85% для тарифа ultra). Это слишком большая вероятность, чтобы делать вывод о значимом различии между выручкой из Москвы и других городов."
   ]
  },
  {
   "cell_type": "markdown",
   "id": "017d7a3d",
   "metadata": {},
   "source": [
    "**Попробуем добавить к Москве пригород - Подольск и Химки.**"
   ]
  },
  {
   "cell_type": "code",
   "execution_count": 79,
   "id": "e5ba2b4a",
   "metadata": {},
   "outputs": [],
   "source": [
    "# Создаем функцию разделения городов на Москву+Химки+Подольск и другие\n",
    "\n",
    "def mos_reg(services_use):\n",
    "    if (services_use['city'] == 'Москва' or services_use['city'] == 'Химки' or services_use['city'] == 'Подольск'):\n",
    "        return 'да'\n",
    "    else:\n",
    "        return 'нет'"
   ]
  },
  {
   "cell_type": "code",
   "execution_count": 80,
   "id": "24bf041e",
   "metadata": {},
   "outputs": [],
   "source": [
    "# Создаем новый столбец с разделением на Москву и другие города\n",
    "services_use['mos_reg'] = services_use.apply(mos_reg, axis=1)"
   ]
  },
  {
   "cell_type": "code",
   "execution_count": 81,
   "id": "efd229c9",
   "metadata": {},
   "outputs": [
    {
     "data": {
      "text/html": [
       "<div>\n",
       "<style scoped>\n",
       "    .dataframe tbody tr th:only-of-type {\n",
       "        vertical-align: middle;\n",
       "    }\n",
       "\n",
       "    .dataframe tbody tr th {\n",
       "        vertical-align: top;\n",
       "    }\n",
       "\n",
       "    .dataframe thead th {\n",
       "        text-align: right;\n",
       "    }\n",
       "</style>\n",
       "<table border=\"1\" class=\"dataframe\">\n",
       "  <thead>\n",
       "    <tr style=\"text-align: right;\">\n",
       "      <th></th>\n",
       "      <th>user_id</th>\n",
       "      <th>month</th>\n",
       "      <th>mos_reg</th>\n",
       "      <th>tariff</th>\n",
       "      <th>profit</th>\n",
       "    </tr>\n",
       "  </thead>\n",
       "  <tbody>\n",
       "    <tr>\n",
       "      <th>0</th>\n",
       "      <td>1000</td>\n",
       "      <td>5</td>\n",
       "      <td>нет</td>\n",
       "      <td>ultra</td>\n",
       "      <td>1950.0</td>\n",
       "    </tr>\n",
       "    <tr>\n",
       "      <th>1</th>\n",
       "      <td>1000</td>\n",
       "      <td>6</td>\n",
       "      <td>нет</td>\n",
       "      <td>ultra</td>\n",
       "      <td>1950.0</td>\n",
       "    </tr>\n",
       "    <tr>\n",
       "      <th>2</th>\n",
       "      <td>1000</td>\n",
       "      <td>7</td>\n",
       "      <td>нет</td>\n",
       "      <td>ultra</td>\n",
       "      <td>1950.0</td>\n",
       "    </tr>\n",
       "    <tr>\n",
       "      <th>3</th>\n",
       "      <td>1000</td>\n",
       "      <td>8</td>\n",
       "      <td>нет</td>\n",
       "      <td>ultra</td>\n",
       "      <td>1950.0</td>\n",
       "    </tr>\n",
       "    <tr>\n",
       "      <th>4</th>\n",
       "      <td>1000</td>\n",
       "      <td>9</td>\n",
       "      <td>нет</td>\n",
       "      <td>ultra</td>\n",
       "      <td>1950.0</td>\n",
       "    </tr>\n",
       "    <tr>\n",
       "      <th>...</th>\n",
       "      <td>...</td>\n",
       "      <td>...</td>\n",
       "      <td>...</td>\n",
       "      <td>...</td>\n",
       "      <td>...</td>\n",
       "    </tr>\n",
       "    <tr>\n",
       "      <th>3209</th>\n",
       "      <td>1498</td>\n",
       "      <td>10</td>\n",
       "      <td>нет</td>\n",
       "      <td>smart</td>\n",
       "      <td>1750.0</td>\n",
       "    </tr>\n",
       "    <tr>\n",
       "      <th>3210</th>\n",
       "      <td>1499</td>\n",
       "      <td>9</td>\n",
       "      <td>нет</td>\n",
       "      <td>smart</td>\n",
       "      <td>550.0</td>\n",
       "    </tr>\n",
       "    <tr>\n",
       "      <th>3211</th>\n",
       "      <td>1499</td>\n",
       "      <td>10</td>\n",
       "      <td>нет</td>\n",
       "      <td>smart</td>\n",
       "      <td>1150.0</td>\n",
       "    </tr>\n",
       "    <tr>\n",
       "      <th>3212</th>\n",
       "      <td>1499</td>\n",
       "      <td>11</td>\n",
       "      <td>нет</td>\n",
       "      <td>smart</td>\n",
       "      <td>1513.0</td>\n",
       "    </tr>\n",
       "    <tr>\n",
       "      <th>3213</th>\n",
       "      <td>1499</td>\n",
       "      <td>12</td>\n",
       "      <td>нет</td>\n",
       "      <td>smart</td>\n",
       "      <td>598.0</td>\n",
       "    </tr>\n",
       "  </tbody>\n",
       "</table>\n",
       "<p>3214 rows × 5 columns</p>\n",
       "</div>"
      ],
      "text/plain": [
       "     user_id  month mos_reg tariff  profit\n",
       "0       1000      5     нет  ultra  1950.0\n",
       "1       1000      6     нет  ultra  1950.0\n",
       "2       1000      7     нет  ultra  1950.0\n",
       "3       1000      8     нет  ultra  1950.0\n",
       "4       1000      9     нет  ultra  1950.0\n",
       "...      ...    ...     ...    ...     ...\n",
       "3209    1498     10     нет  smart  1750.0\n",
       "3210    1499      9     нет  smart   550.0\n",
       "3211    1499     10     нет  smart  1150.0\n",
       "3212    1499     11     нет  smart  1513.0\n",
       "3213    1499     12     нет  smart   598.0\n",
       "\n",
       "[3214 rows x 5 columns]"
      ]
     },
     "execution_count": 81,
     "metadata": {},
     "output_type": "execute_result"
    }
   ],
   "source": [
    "revenue_by_mos_reg = services_use.groupby(['user_id', 'month', 'mos_reg', 'tariff'])['profit'].sum().reset_index()\n",
    "revenue_by_mos_reg\n"
   ]
  },
  {
   "cell_type": "code",
   "execution_count": 82,
   "id": "b380eec2",
   "metadata": {},
   "outputs": [
    {
     "data": {
      "text/html": [
       "<div>\n",
       "<style scoped>\n",
       "    .dataframe tbody tr th:only-of-type {\n",
       "        vertical-align: middle;\n",
       "    }\n",
       "\n",
       "    .dataframe tbody tr th {\n",
       "        vertical-align: top;\n",
       "    }\n",
       "\n",
       "    .dataframe thead th {\n",
       "        text-align: right;\n",
       "    }\n",
       "</style>\n",
       "<table border=\"1\" class=\"dataframe\">\n",
       "  <thead>\n",
       "    <tr style=\"text-align: right;\">\n",
       "      <th></th>\n",
       "      <th>user_id</th>\n",
       "      <th>month</th>\n",
       "      <th>tariff</th>\n",
       "      <th>profit</th>\n",
       "    </tr>\n",
       "    <tr>\n",
       "      <th>mos_reg</th>\n",
       "      <th></th>\n",
       "      <th></th>\n",
       "      <th></th>\n",
       "      <th></th>\n",
       "    </tr>\n",
       "  </thead>\n",
       "  <tbody>\n",
       "    <tr>\n",
       "      <th>да</th>\n",
       "      <td>628</td>\n",
       "      <td>628</td>\n",
       "      <td>628</td>\n",
       "      <td>628</td>\n",
       "    </tr>\n",
       "    <tr>\n",
       "      <th>нет</th>\n",
       "      <td>2586</td>\n",
       "      <td>2586</td>\n",
       "      <td>2586</td>\n",
       "      <td>2586</td>\n",
       "    </tr>\n",
       "  </tbody>\n",
       "</table>\n",
       "</div>"
      ],
      "text/plain": [
       "         user_id  month  tariff  profit\n",
       "mos_reg                                \n",
       "да           628    628     628     628\n",
       "нет         2586   2586    2586    2586"
      ]
     },
     "execution_count": 82,
     "metadata": {},
     "output_type": "execute_result"
    }
   ],
   "source": [
    "revenue_by_mos_reg.groupby('mos_reg').count()"
   ]
  },
  {
   "cell_type": "code",
   "execution_count": 83,
   "id": "ca50d039",
   "metadata": {},
   "outputs": [
    {
     "name": "stdout",
     "output_type": "stream",
     "text": [
      "p-значение: 0.05379075157657935\n",
      "Не получилось отвергнуть нулевую гипотезу\n"
     ]
    }
   ],
   "source": [
    "alpha = .05 # критический уровень статистической значимости\n",
    "# если p-value окажется меньше него - отвегнем гипотезу\n",
    "\n",
    "results = (st.ttest_ind(\n",
    "    revenue_by_mos_reg.query('mos_reg == \"да\" and tariff == \"smart\"')['profit'], # выборка с данными выручки по Москве+Химкам+Подольску \n",
    "    revenue_by_mos_reg.query('mos_reg == \"нет\" and tariff == \"smart\"')['profit'], # выборка с данными выручки по другим городам \n",
    "    equal_var=False)) # использовали дополнительный параметр, указав, что у ген совокупностей дисперсия должна отличаться. \n",
    "                      # Сделали данное предположение исходя из различного принципа действия тарифов \n",
    "\n",
    "print('p-значение:', results.pvalue)\n",
    "\n",
    "if results.pvalue < alpha:\n",
    "    print(\"Отвергаем нулевую гипотезу\")\n",
    "else:\n",
    "    print(\"Не получилось отвергнуть нулевую гипотезу\")"
   ]
  },
  {
   "cell_type": "code",
   "execution_count": 84,
   "id": "eb1d6abc",
   "metadata": {},
   "outputs": [
    {
     "name": "stdout",
     "output_type": "stream",
     "text": [
      "p-значение: 0.8544997530689904\n",
      "Не получилось отвергнуть нулевую гипотезу\n"
     ]
    }
   ],
   "source": [
    "alpha = .05 # критический уровень статистической значимости\n",
    "# если p-value окажется меньше него - отвегнем гипотезу\n",
    "\n",
    "results = (st.ttest_ind(\n",
    "    revenue_by_mos_reg.query('mos_reg == \"да\" and tariff == \"ultra\"')['profit'], # выборка с данными выручки по Москве+Химкам+Подольску \n",
    "    revenue_by_mos_reg.query('mos_reg == \"нет\" and tariff == \"ultra\"')['profit'], # выборка с данными выручки по другим городам \n",
    "    equal_var=False)) # использовали дополнительный параметр, указав, что у ген совокупностей дисперсия должна отличаться. \n",
    "                      # Сделали данное предположение исходя из различного принципа действия тарифов \n",
    "\n",
    "print('p-значение:', results.pvalue)\n",
    "\n",
    "if results.pvalue < alpha:\n",
    "    print(\"Отвергаем нулевую гипотезу\")\n",
    "else:\n",
    "    print(\"Не получилось отвергнуть нулевую гипотезу\")"
   ]
  },
  {
   "cell_type": "markdown",
   "id": "b7bf4207",
   "metadata": {},
   "source": [
    "Полученное значение p-value не позволяет отвергнуть нулевую гипотезу для обоих тарифов smart, для тарифа ultra нулевая гипотеза не отвергается. "
   ]
  },
  {
   "cell_type": "markdown",
   "id": "c74b1bdb",
   "metadata": {},
   "source": [
    "Однако, мы видим различия по тарифам. У тарифа smart полученное p-value имеет пограничное значение. Если увеличить критический уровень статистической значмости, то нулевую гипотезу можно было бы отвергнуть. "
   ]
  },
  {
   "cell_type": "code",
   "execution_count": 85,
   "id": "d563de96",
   "metadata": {},
   "outputs": [
    {
     "data": {
      "text/plain": [
       "1223.697270471464"
      ]
     },
     "execution_count": 85,
     "metadata": {},
     "output_type": "execute_result"
    }
   ],
   "source": [
    "revenue_by_mos_reg.query('mos_reg == \"да\" and tariff == \"smart\"')['profit'].mean()"
   ]
  },
  {
   "cell_type": "code",
   "execution_count": 86,
   "id": "062b71d7",
   "metadata": {},
   "outputs": [
    {
     "data": {
      "text/plain": [
       "1304.6007667031763"
      ]
     },
     "execution_count": 86,
     "metadata": {},
     "output_type": "execute_result"
    }
   ],
   "source": [
    "revenue_by_mos_reg.query('mos_reg == \"нет\" and tariff == \"smart\"')['profit'].mean()"
   ]
  },
  {
   "cell_type": "markdown",
   "id": "c671536f",
   "metadata": {},
   "source": [
    "Интересно, что средняя выручка у рассматриваемой выборки в регионах несколько выше чем в Москве. Можно предположить, что в Москве на каждом шагу есть бесплатный доступ к Wi-Fi, соответсвенно люди из регионов будут тратить больше мобильного интернет-трафика чем Москвичи."
   ]
  },
  {
   "cell_type": "markdown",
   "id": "a3bb4599",
   "metadata": {},
   "source": [
    "Сравним пользователей тарифа Smart:\n",
    "   1. Кол-во Москвичей по отшению к кол-ву людей из регионов, в случае когда пользователи тратят доп средства на интренет трафик \n",
    "   \n",
    "   2. Кол-во Москвичей по отшению к кол-ву людей из регионов, в случае когда пользователи укладываются в бесплатный лимит\n",
    "   \n",
    "Если 1 < 2, то имеет место предположение про бесплатные точки Wi-Fi\n"
   ]
  },
  {
   "cell_type": "code",
   "execution_count": 87,
   "id": "a72db743",
   "metadata": {},
   "outputs": [
    {
     "data": {
      "text/plain": [
       "0.17101226993865032"
      ]
     },
     "execution_count": 87,
     "metadata": {},
     "output_type": "execute_result"
    }
   ],
   "source": [
    "# Кол-во Москвичей по отшению к кол-ву людей из регионов, в случае когда пользователи тратят доп средства на интренет трафик\n",
    "data_by_user_tariff_month.query(\n",
    "    'tariff == \"smart\" and gb_used > 15.0 and (city ==\"Москва\" or city==\"Химки\" or city==\"Подольск\")')['user_id'].count() / data_by_user_tariff_month.query(\n",
    "    'tariff == \"smart\" and gb_used > 15.0 and (city !=\"Москва\" or city!=\"Химки\" or city!=\"Подольск\")')['user_id'].count()"
   ]
  },
  {
   "cell_type": "code",
   "execution_count": 88,
   "id": "6c96696c",
   "metadata": {},
   "outputs": [
    {
     "data": {
      "text/plain": [
       "0.1945945945945946"
      ]
     },
     "execution_count": 88,
     "metadata": {},
     "output_type": "execute_result"
    }
   ],
   "source": [
    "# Кол-во Москвичей по отшению к кол-ву людей из регионов, в случае когда пользователи укладываются в бесплатный лимит\n",
    "data_by_user_tariff_month.query(\n",
    "    'tariff == \"smart\" and gb_used <= 15.0 and (city ==\"Москва\" or city==\"Химки\" or city==\"Подольск\")')['user_id'].count() / data_by_user_tariff_month.query(\n",
    "    'tariff == \"smart\" and gb_used <= 15.0 and (city !=\"Москва\" or city!=\"Химки\" or city!=\"Подольск\")')['user_id'].count()"
   ]
  },
  {
   "cell_type": "markdown",
   "id": "98957e5b",
   "metadata": {},
   "source": [
    "# Общий вывод"
   ]
  },
  {
   "cell_type": "markdown",
   "id": "e197e6d6",
   "metadata": {},
   "source": [
    "В исследовании проанализировали небольшую выборку (500 клиентов) телеком оператора «Мегалайн». \n",
    "\n",
    "Было необходимо проанализировать поведение пользователей и сделать вывод - какой из двух тарифов Smart или Ultra лучше.\n",
    "\n",
    "***Тарифы Smart и Ultra расчитаны на людей с различным типом поведения:***\n",
    "\n",
    "   1. **Тариф Smart**\n",
    "\n",
    "Пользователи данного тарифа хотят получить лучшее соотношение цены-качества. Они отдают невысокий месячный платеж, при этом платят за допонительные траты по мере необходимости. Судя по графикам средний пользователь этого тарифа доплачивает за интренет, так как не вмещается в рамки бесплатного лимита. Звонки и СМС в данном тарифе также используются практически по максимуму, соответсвенно многим пользователям приходится доплачивать за них также. \n",
    "\n",
    "   2. **Тариф Ultra**\n",
    "\n",
    "Пользователи этого тарифа готовы заплатить больше, при этом зачастую тратя не сильно больше лимитов чем пользователи тарифа smart. Лимиты по звонкам и сообщениям в тарифе ultra явно установлены таким образом, чтобы пользователю не приходилось беспокоиться о том, что лимит закончится в течение месяца. Единственное за что пользователь потенциально будет доплачивать - интренет-трафик. Хотя большинство пользователей тарифа укладываются и в лимит интернет-трафика. \n",
    "\n",
    "\n",
    "**Соответственно у пользователей Smart потенциально может быть сильно больше доп платежей сверх месячного тарифа. Какой же из тарифов в среднем приносит больше выручки?**\n",
    "\n",
    "   1. Отвергнута гипотеза о том, что средняя выручка с тарифов Ultra и Smart равняется. Значит есть разница в средней выручки с этих тарифов. Судя по средней выручки тарифов преоставленной выборки, тариф ultra приносит больше дохода компании. Среднняя выручка smart - 1289 рублей, средняя выручка ultra - 2070 рублей.\n",
    " \n",
    " \n",
    "   2. Не отвергнута гипотеза о том, что Для пользователей тарифа Smart отвергнута гипотеза о том, что средняя выручка c пользователей из Москвы равняется выручки c пользователей из других регионов. Однако, у тарифа Smart полученное p-value имеет пограничное значение. Если увеличить критический уровень статистической значмости, то нулевую гипотезу можно было бы отвергнуть.  И тогда получится, что пользователи Smart из регионов приносят больше выручки. "
   ]
  },
  {
   "cell_type": "markdown",
   "id": "0293a04c",
   "metadata": {},
   "source": [
    "**Рекомендации:**\n",
    "\n",
    "Тариф Ultra приносит в среднем больше выручки. Стоит обратить внимание потенциальных пользователей именно на данный тариф.\n",
    "\n",
    "Однако, стоит подробнее изучить эффективность рекламных затрат на привлечение пользоватей. . Выручка с нового пользователя Ultra будет выше, но и поиск  клиента на более дорогой тариф потенциально может стоить дороже. \n"
   ]
  },
  {
   "cell_type": "code",
   "execution_count": null,
   "id": "85a29173",
   "metadata": {},
   "outputs": [],
   "source": []
  }
 ],
 "metadata": {
  "kernelspec": {
   "display_name": "Python 3",
   "language": "python",
   "name": "python3"
  },
  "language_info": {
   "codemirror_mode": {
    "name": "ipython",
    "version": 3
   },
   "file_extension": ".py",
   "mimetype": "text/x-python",
   "name": "python",
   "nbconvert_exporter": "python",
   "pygments_lexer": "ipython3",
   "version": "3.8.8"
  }
 },
 "nbformat": 4,
 "nbformat_minor": 5
}
