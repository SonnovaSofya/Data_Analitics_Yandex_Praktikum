{
 "cells": [
  {
   "cell_type": "markdown",
   "id": "7c5ca1e2",
   "metadata": {},
   "source": [
    "# Вводные по проекту "
   ]
  },
  {
   "cell_type": "markdown",
   "id": "21b7ef5d",
   "metadata": {},
   "source": [
    "**Проблема:**\n",
    "Развлекательное приложение Procrastinate Pro+ последние несколько месяцев терпит убытки, несмотря на огромные вложения в рекламу. \n",
    "\n",
    "**Цель:** Разобраться в причинах и помочь компании выйти в плюс.\n",
    "\n",
    "**Задачи:**\n",
    "   * откуда приходят пользователи и какими устройствами они пользуются,\n",
    "   * сколько стоит привлечение пользователей из различных рекламных каналов;\n",
    "   * сколько денег приносит каждый клиент,\n",
    "   * когда расходы на привлечение клиента окупаются,\n",
    "   * какие факторы мешают привлечению клиентов.\n",
    "\n",
    "**Данные для анализа:** Данные о пользователях, привлечённых с 1 мая по 27 октября 2019 года:\n",
    "   * лог сервера с данными об их посещениях,\n",
    "   * выгрузка их покупок за этот период,\n",
    "   * рекламные расходы."
   ]
  },
  {
   "cell_type": "markdown",
   "id": "7789f99f",
   "metadata": {},
   "source": [
    "## Выгрузка данных"
   ]
  },
  {
   "cell_type": "code",
   "execution_count": 1,
   "id": "7bb76b42",
   "metadata": {},
   "outputs": [],
   "source": [
    "import pandas as pd\n",
    "import seaborn as sns\n",
    "from io import BytesIO\n",
    "import requests\n",
    "import numpy as np\n",
    "from datetime import datetime, timedelta\n",
    "from matplotlib import pyplot as plt"
   ]
  },
  {
   "cell_type": "code",
   "execution_count": 2,
   "id": "f8014547",
   "metadata": {},
   "outputs": [],
   "source": [
    "spreadsheet_costs = '1Pd8cGa-vjX16u9JmwLi3BdWHiAZNDqup1HywXEZiccA'\n",
    "file_name = 'https://docs.google.com/spreadsheets/d/{}/export?format=csv'.format(spreadsheet_costs)\n",
    "r = requests.get(file_name)\n",
    "costs = pd.read_csv(BytesIO(r.content))\n",
    "\n",
    "spreadsheet_orders = '1T8211rh2E9fuf8cI7SMSyDDLzmHsW5ZYZApoAS3H4lA'\n",
    "file_name = 'https://docs.google.com/spreadsheets/d/{}/export?format=csv'.format(spreadsheet_orders)\n",
    "r = requests.get(file_name)\n",
    "orders = pd.read_csv(BytesIO(r.content))\n",
    "\n",
    "spreadsheet_visits = '1rvdR44qhgXuF7jVEF05y0xR7-eWxlUhyi0zq-4TMszQ'\n",
    "file_name = 'https://docs.google.com/spreadsheets/d/{}/export?format=csv'.format(spreadsheet_visits)\n",
    "r = requests.get(file_name)\n",
    "visits = pd.read_csv(BytesIO(r.content))\n"
   ]
  },
  {
   "cell_type": "code",
   "execution_count": 3,
   "id": "607000db",
   "metadata": {},
   "outputs": [
    {
     "data": {
      "text/html": [
       "<div>\n",
       "<style scoped>\n",
       "    .dataframe tbody tr th:only-of-type {\n",
       "        vertical-align: middle;\n",
       "    }\n",
       "\n",
       "    .dataframe tbody tr th {\n",
       "        vertical-align: top;\n",
       "    }\n",
       "\n",
       "    .dataframe thead th {\n",
       "        text-align: right;\n",
       "    }\n",
       "</style>\n",
       "<table border=\"1\" class=\"dataframe\">\n",
       "  <thead>\n",
       "    <tr style=\"text-align: right;\">\n",
       "      <th></th>\n",
       "      <th>dt</th>\n",
       "      <th>Channel</th>\n",
       "      <th>costs</th>\n",
       "    </tr>\n",
       "  </thead>\n",
       "  <tbody>\n",
       "    <tr>\n",
       "      <th>0</th>\n",
       "      <td>2019-05-01</td>\n",
       "      <td>FaceBoom</td>\n",
       "      <td>113.3</td>\n",
       "    </tr>\n",
       "    <tr>\n",
       "      <th>1</th>\n",
       "      <td>2019-05-02</td>\n",
       "      <td>FaceBoom</td>\n",
       "      <td>78.1</td>\n",
       "    </tr>\n",
       "    <tr>\n",
       "      <th>2</th>\n",
       "      <td>2019-05-03</td>\n",
       "      <td>FaceBoom</td>\n",
       "      <td>85.8</td>\n",
       "    </tr>\n",
       "    <tr>\n",
       "      <th>3</th>\n",
       "      <td>2019-05-04</td>\n",
       "      <td>FaceBoom</td>\n",
       "      <td>136.4</td>\n",
       "    </tr>\n",
       "    <tr>\n",
       "      <th>4</th>\n",
       "      <td>2019-05-05</td>\n",
       "      <td>FaceBoom</td>\n",
       "      <td>122.1</td>\n",
       "    </tr>\n",
       "  </tbody>\n",
       "</table>\n",
       "</div>"
      ],
      "text/plain": [
       "           dt   Channel  costs\n",
       "0  2019-05-01  FaceBoom  113.3\n",
       "1  2019-05-02  FaceBoom   78.1\n",
       "2  2019-05-03  FaceBoom   85.8\n",
       "3  2019-05-04  FaceBoom  136.4\n",
       "4  2019-05-05  FaceBoom  122.1"
      ]
     },
     "execution_count": 3,
     "metadata": {},
     "output_type": "execute_result"
    }
   ],
   "source": [
    "costs.head()"
   ]
  },
  {
   "cell_type": "code",
   "execution_count": 4,
   "id": "4e6108c5",
   "metadata": {},
   "outputs": [
    {
     "name": "stdout",
     "output_type": "stream",
     "text": [
      "<class 'pandas.core.frame.DataFrame'>\n",
      "RangeIndex: 1800 entries, 0 to 1799\n",
      "Data columns (total 3 columns):\n",
      " #   Column   Non-Null Count  Dtype  \n",
      "---  ------   --------------  -----  \n",
      " 0   dt       1800 non-null   object \n",
      " 1   Channel  1800 non-null   object \n",
      " 2   costs    1800 non-null   float64\n",
      "dtypes: float64(1), object(2)\n",
      "memory usage: 42.3+ KB\n"
     ]
    }
   ],
   "source": [
    "costs.info()"
   ]
  },
  {
   "cell_type": "code",
   "execution_count": 5,
   "id": "af75fc76",
   "metadata": {},
   "outputs": [
    {
     "data": {
      "text/html": [
       "<div>\n",
       "<style scoped>\n",
       "    .dataframe tbody tr th:only-of-type {\n",
       "        vertical-align: middle;\n",
       "    }\n",
       "\n",
       "    .dataframe tbody tr th {\n",
       "        vertical-align: top;\n",
       "    }\n",
       "\n",
       "    .dataframe thead th {\n",
       "        text-align: right;\n",
       "    }\n",
       "</style>\n",
       "<table border=\"1\" class=\"dataframe\">\n",
       "  <thead>\n",
       "    <tr style=\"text-align: right;\">\n",
       "      <th></th>\n",
       "      <th>User Id</th>\n",
       "      <th>Event Dt</th>\n",
       "      <th>Revenue</th>\n",
       "    </tr>\n",
       "  </thead>\n",
       "  <tbody>\n",
       "    <tr>\n",
       "      <th>0</th>\n",
       "      <td>188246423999</td>\n",
       "      <td>2019-05-01 23:09:52</td>\n",
       "      <td>4.99</td>\n",
       "    </tr>\n",
       "    <tr>\n",
       "      <th>1</th>\n",
       "      <td>174361394180</td>\n",
       "      <td>2019-05-01 12:24:04</td>\n",
       "      <td>4.99</td>\n",
       "    </tr>\n",
       "    <tr>\n",
       "      <th>2</th>\n",
       "      <td>529610067795</td>\n",
       "      <td>2019-05-01 11:34:04</td>\n",
       "      <td>4.99</td>\n",
       "    </tr>\n",
       "    <tr>\n",
       "      <th>3</th>\n",
       "      <td>319939546352</td>\n",
       "      <td>2019-05-01 15:34:40</td>\n",
       "      <td>4.99</td>\n",
       "    </tr>\n",
       "    <tr>\n",
       "      <th>4</th>\n",
       "      <td>366000285810</td>\n",
       "      <td>2019-05-01 13:59:51</td>\n",
       "      <td>4.99</td>\n",
       "    </tr>\n",
       "  </tbody>\n",
       "</table>\n",
       "</div>"
      ],
      "text/plain": [
       "        User Id             Event Dt  Revenue\n",
       "0  188246423999  2019-05-01 23:09:52     4.99\n",
       "1  174361394180  2019-05-01 12:24:04     4.99\n",
       "2  529610067795  2019-05-01 11:34:04     4.99\n",
       "3  319939546352  2019-05-01 15:34:40     4.99\n",
       "4  366000285810  2019-05-01 13:59:51     4.99"
      ]
     },
     "execution_count": 5,
     "metadata": {},
     "output_type": "execute_result"
    }
   ],
   "source": [
    "orders.head()"
   ]
  },
  {
   "cell_type": "code",
   "execution_count": 6,
   "id": "8e6b48d4",
   "metadata": {},
   "outputs": [
    {
     "name": "stdout",
     "output_type": "stream",
     "text": [
      "<class 'pandas.core.frame.DataFrame'>\n",
      "RangeIndex: 40212 entries, 0 to 40211\n",
      "Data columns (total 3 columns):\n",
      " #   Column    Non-Null Count  Dtype  \n",
      "---  ------    --------------  -----  \n",
      " 0   User Id   40212 non-null  int64  \n",
      " 1   Event Dt  40212 non-null  object \n",
      " 2   Revenue   40212 non-null  float64\n",
      "dtypes: float64(1), int64(1), object(1)\n",
      "memory usage: 942.6+ KB\n"
     ]
    }
   ],
   "source": [
    "orders.info()"
   ]
  },
  {
   "cell_type": "code",
   "execution_count": 7,
   "id": "851a0292",
   "metadata": {},
   "outputs": [
    {
     "data": {
      "text/html": [
       "<div>\n",
       "<style scoped>\n",
       "    .dataframe tbody tr th:only-of-type {\n",
       "        vertical-align: middle;\n",
       "    }\n",
       "\n",
       "    .dataframe tbody tr th {\n",
       "        vertical-align: top;\n",
       "    }\n",
       "\n",
       "    .dataframe thead th {\n",
       "        text-align: right;\n",
       "    }\n",
       "</style>\n",
       "<table border=\"1\" class=\"dataframe\">\n",
       "  <thead>\n",
       "    <tr style=\"text-align: right;\">\n",
       "      <th></th>\n",
       "      <th>User Id</th>\n",
       "      <th>Region</th>\n",
       "      <th>Device</th>\n",
       "      <th>Channel</th>\n",
       "      <th>Session Start</th>\n",
       "      <th>Session End</th>\n",
       "    </tr>\n",
       "  </thead>\n",
       "  <tbody>\n",
       "    <tr>\n",
       "      <th>0</th>\n",
       "      <td>981449118918</td>\n",
       "      <td>United States</td>\n",
       "      <td>iPhone</td>\n",
       "      <td>organic</td>\n",
       "      <td>2019-05-01 02:36:01</td>\n",
       "      <td>2019-05-01 02:45:01</td>\n",
       "    </tr>\n",
       "    <tr>\n",
       "      <th>1</th>\n",
       "      <td>278965908054</td>\n",
       "      <td>United States</td>\n",
       "      <td>iPhone</td>\n",
       "      <td>organic</td>\n",
       "      <td>2019-05-01 04:46:31</td>\n",
       "      <td>2019-05-01 04:47:35</td>\n",
       "    </tr>\n",
       "    <tr>\n",
       "      <th>2</th>\n",
       "      <td>590706206550</td>\n",
       "      <td>United States</td>\n",
       "      <td>Mac</td>\n",
       "      <td>organic</td>\n",
       "      <td>2019-05-01 14:09:25</td>\n",
       "      <td>2019-05-01 15:32:08</td>\n",
       "    </tr>\n",
       "    <tr>\n",
       "      <th>3</th>\n",
       "      <td>326433527971</td>\n",
       "      <td>United States</td>\n",
       "      <td>Android</td>\n",
       "      <td>TipTop</td>\n",
       "      <td>2019-05-01 00:29:59</td>\n",
       "      <td>2019-05-01 00:54:25</td>\n",
       "    </tr>\n",
       "    <tr>\n",
       "      <th>4</th>\n",
       "      <td>349773784594</td>\n",
       "      <td>United States</td>\n",
       "      <td>Mac</td>\n",
       "      <td>organic</td>\n",
       "      <td>2019-05-01 03:33:35</td>\n",
       "      <td>2019-05-01 03:57:40</td>\n",
       "    </tr>\n",
       "  </tbody>\n",
       "</table>\n",
       "</div>"
      ],
      "text/plain": [
       "        User Id         Region   Device  Channel        Session Start  \\\n",
       "0  981449118918  United States   iPhone  organic  2019-05-01 02:36:01   \n",
       "1  278965908054  United States   iPhone  organic  2019-05-01 04:46:31   \n",
       "2  590706206550  United States      Mac  organic  2019-05-01 14:09:25   \n",
       "3  326433527971  United States  Android   TipTop  2019-05-01 00:29:59   \n",
       "4  349773784594  United States      Mac  organic  2019-05-01 03:33:35   \n",
       "\n",
       "           Session End  \n",
       "0  2019-05-01 02:45:01  \n",
       "1  2019-05-01 04:47:35  \n",
       "2  2019-05-01 15:32:08  \n",
       "3  2019-05-01 00:54:25  \n",
       "4  2019-05-01 03:57:40  "
      ]
     },
     "execution_count": 7,
     "metadata": {},
     "output_type": "execute_result"
    }
   ],
   "source": [
    "visits.head()"
   ]
  },
  {
   "cell_type": "code",
   "execution_count": 8,
   "id": "e270c70b",
   "metadata": {},
   "outputs": [
    {
     "name": "stdout",
     "output_type": "stream",
     "text": [
      "<class 'pandas.core.frame.DataFrame'>\n",
      "RangeIndex: 309901 entries, 0 to 309900\n",
      "Data columns (total 6 columns):\n",
      " #   Column         Non-Null Count   Dtype \n",
      "---  ------         --------------   ----- \n",
      " 0   User Id        309901 non-null  int64 \n",
      " 1   Region         309901 non-null  object\n",
      " 2   Device         309901 non-null  object\n",
      " 3   Channel        309901 non-null  object\n",
      " 4   Session Start  309901 non-null  object\n",
      " 5   Session End    309901 non-null  object\n",
      "dtypes: int64(1), object(5)\n",
      "memory usage: 14.2+ MB\n"
     ]
    }
   ],
   "source": [
    "visits.info()"
   ]
  },
  {
   "cell_type": "markdown",
   "id": "048977b3",
   "metadata": {},
   "source": [
    "## Предобработка данных"
   ]
  },
  {
   "cell_type": "markdown",
   "id": "934a32fb",
   "metadata": {},
   "source": [
    "### Названия колонок"
   ]
  },
  {
   "cell_type": "markdown",
   "id": "d6832bac",
   "metadata": {},
   "source": [
    "Переименуем колонки - преведем все к единому формату"
   ]
  },
  {
   "cell_type": "code",
   "execution_count": 9,
   "id": "da7d37fe",
   "metadata": {},
   "outputs": [],
   "source": [
    "costs.columns = 'dt', 'channel', 'cost'\n",
    "orders.columns = 'user_id', 'event_dt', 'revenue'\n",
    "visits.columns = 'user_id', 'region', 'device', 'channel', 'session_start', 'session_end'"
   ]
  },
  {
   "cell_type": "markdown",
   "id": "d18f3d8c",
   "metadata": {},
   "source": [
    "### Тип данных"
   ]
  },
  {
   "cell_type": "markdown",
   "id": "a3c88c85",
   "metadata": {},
   "source": [
    "Во всех датасетах колонки с указанием даты предоставлены в виде типа данных `object`. Переведем данные в тип `datetime`"
   ]
  },
  {
   "cell_type": "code",
   "execution_count": 10,
   "id": "64edc6b2",
   "metadata": {},
   "outputs": [],
   "source": [
    "visits['session_start'] = pd.to_datetime(visits['session_start'])\n",
    "visits['session_end'] = pd.to_datetime(visits['session_end'])\n",
    "orders['event_dt'] = pd.to_datetime(orders['event_dt'])\n",
    "costs['dt'] = pd.to_datetime(costs['dt']).dt.date "
   ]
  },
  {
   "cell_type": "code",
   "execution_count": 11,
   "id": "32718268",
   "metadata": {},
   "outputs": [
    {
     "data": {
      "text/html": [
       "<div>\n",
       "<style scoped>\n",
       "    .dataframe tbody tr th:only-of-type {\n",
       "        vertical-align: middle;\n",
       "    }\n",
       "\n",
       "    .dataframe tbody tr th {\n",
       "        vertical-align: top;\n",
       "    }\n",
       "\n",
       "    .dataframe thead th {\n",
       "        text-align: right;\n",
       "    }\n",
       "</style>\n",
       "<table border=\"1\" class=\"dataframe\">\n",
       "  <thead>\n",
       "    <tr style=\"text-align: right;\">\n",
       "      <th></th>\n",
       "      <th>dt</th>\n",
       "      <th>channel</th>\n",
       "      <th>cost</th>\n",
       "    </tr>\n",
       "  </thead>\n",
       "  <tbody>\n",
       "    <tr>\n",
       "      <th>0</th>\n",
       "      <td>2019-05-01</td>\n",
       "      <td>FaceBoom</td>\n",
       "      <td>113.3</td>\n",
       "    </tr>\n",
       "    <tr>\n",
       "      <th>1</th>\n",
       "      <td>2019-05-02</td>\n",
       "      <td>FaceBoom</td>\n",
       "      <td>78.1</td>\n",
       "    </tr>\n",
       "    <tr>\n",
       "      <th>2</th>\n",
       "      <td>2019-05-03</td>\n",
       "      <td>FaceBoom</td>\n",
       "      <td>85.8</td>\n",
       "    </tr>\n",
       "    <tr>\n",
       "      <th>3</th>\n",
       "      <td>2019-05-04</td>\n",
       "      <td>FaceBoom</td>\n",
       "      <td>136.4</td>\n",
       "    </tr>\n",
       "    <tr>\n",
       "      <th>4</th>\n",
       "      <td>2019-05-05</td>\n",
       "      <td>FaceBoom</td>\n",
       "      <td>122.1</td>\n",
       "    </tr>\n",
       "  </tbody>\n",
       "</table>\n",
       "</div>"
      ],
      "text/plain": [
       "           dt   channel   cost\n",
       "0  2019-05-01  FaceBoom  113.3\n",
       "1  2019-05-02  FaceBoom   78.1\n",
       "2  2019-05-03  FaceBoom   85.8\n",
       "3  2019-05-04  FaceBoom  136.4\n",
       "4  2019-05-05  FaceBoom  122.1"
      ]
     },
     "execution_count": 11,
     "metadata": {},
     "output_type": "execute_result"
    }
   ],
   "source": [
    "costs.head()"
   ]
  },
  {
   "cell_type": "code",
   "execution_count": 12,
   "id": "eb16b2a3",
   "metadata": {},
   "outputs": [
    {
     "data": {
      "text/html": [
       "<div>\n",
       "<style scoped>\n",
       "    .dataframe tbody tr th:only-of-type {\n",
       "        vertical-align: middle;\n",
       "    }\n",
       "\n",
       "    .dataframe tbody tr th {\n",
       "        vertical-align: top;\n",
       "    }\n",
       "\n",
       "    .dataframe thead th {\n",
       "        text-align: right;\n",
       "    }\n",
       "</style>\n",
       "<table border=\"1\" class=\"dataframe\">\n",
       "  <thead>\n",
       "    <tr style=\"text-align: right;\">\n",
       "      <th></th>\n",
       "      <th>user_id</th>\n",
       "      <th>region</th>\n",
       "      <th>device</th>\n",
       "      <th>channel</th>\n",
       "      <th>session_start</th>\n",
       "      <th>session_end</th>\n",
       "    </tr>\n",
       "  </thead>\n",
       "  <tbody>\n",
       "    <tr>\n",
       "      <th>0</th>\n",
       "      <td>981449118918</td>\n",
       "      <td>United States</td>\n",
       "      <td>iPhone</td>\n",
       "      <td>organic</td>\n",
       "      <td>2019-05-01 02:36:01</td>\n",
       "      <td>2019-05-01 02:45:01</td>\n",
       "    </tr>\n",
       "    <tr>\n",
       "      <th>1</th>\n",
       "      <td>278965908054</td>\n",
       "      <td>United States</td>\n",
       "      <td>iPhone</td>\n",
       "      <td>organic</td>\n",
       "      <td>2019-05-01 04:46:31</td>\n",
       "      <td>2019-05-01 04:47:35</td>\n",
       "    </tr>\n",
       "    <tr>\n",
       "      <th>2</th>\n",
       "      <td>590706206550</td>\n",
       "      <td>United States</td>\n",
       "      <td>Mac</td>\n",
       "      <td>organic</td>\n",
       "      <td>2019-05-01 14:09:25</td>\n",
       "      <td>2019-05-01 15:32:08</td>\n",
       "    </tr>\n",
       "    <tr>\n",
       "      <th>3</th>\n",
       "      <td>326433527971</td>\n",
       "      <td>United States</td>\n",
       "      <td>Android</td>\n",
       "      <td>TipTop</td>\n",
       "      <td>2019-05-01 00:29:59</td>\n",
       "      <td>2019-05-01 00:54:25</td>\n",
       "    </tr>\n",
       "    <tr>\n",
       "      <th>4</th>\n",
       "      <td>349773784594</td>\n",
       "      <td>United States</td>\n",
       "      <td>Mac</td>\n",
       "      <td>organic</td>\n",
       "      <td>2019-05-01 03:33:35</td>\n",
       "      <td>2019-05-01 03:57:40</td>\n",
       "    </tr>\n",
       "  </tbody>\n",
       "</table>\n",
       "</div>"
      ],
      "text/plain": [
       "        user_id         region   device  channel       session_start  \\\n",
       "0  981449118918  United States   iPhone  organic 2019-05-01 02:36:01   \n",
       "1  278965908054  United States   iPhone  organic 2019-05-01 04:46:31   \n",
       "2  590706206550  United States      Mac  organic 2019-05-01 14:09:25   \n",
       "3  326433527971  United States  Android   TipTop 2019-05-01 00:29:59   \n",
       "4  349773784594  United States      Mac  organic 2019-05-01 03:33:35   \n",
       "\n",
       "          session_end  \n",
       "0 2019-05-01 02:45:01  \n",
       "1 2019-05-01 04:47:35  \n",
       "2 2019-05-01 15:32:08  \n",
       "3 2019-05-01 00:54:25  \n",
       "4 2019-05-01 03:57:40  "
      ]
     },
     "execution_count": 12,
     "metadata": {},
     "output_type": "execute_result"
    }
   ],
   "source": [
    "visits.head()"
   ]
  },
  {
   "cell_type": "code",
   "execution_count": 13,
   "id": "1680d96a",
   "metadata": {},
   "outputs": [
    {
     "data": {
      "text/html": [
       "<div>\n",
       "<style scoped>\n",
       "    .dataframe tbody tr th:only-of-type {\n",
       "        vertical-align: middle;\n",
       "    }\n",
       "\n",
       "    .dataframe tbody tr th {\n",
       "        vertical-align: top;\n",
       "    }\n",
       "\n",
       "    .dataframe thead th {\n",
       "        text-align: right;\n",
       "    }\n",
       "</style>\n",
       "<table border=\"1\" class=\"dataframe\">\n",
       "  <thead>\n",
       "    <tr style=\"text-align: right;\">\n",
       "      <th></th>\n",
       "      <th>user_id</th>\n",
       "      <th>event_dt</th>\n",
       "      <th>revenue</th>\n",
       "    </tr>\n",
       "  </thead>\n",
       "  <tbody>\n",
       "    <tr>\n",
       "      <th>0</th>\n",
       "      <td>188246423999</td>\n",
       "      <td>2019-05-01 23:09:52</td>\n",
       "      <td>4.99</td>\n",
       "    </tr>\n",
       "    <tr>\n",
       "      <th>1</th>\n",
       "      <td>174361394180</td>\n",
       "      <td>2019-05-01 12:24:04</td>\n",
       "      <td>4.99</td>\n",
       "    </tr>\n",
       "    <tr>\n",
       "      <th>2</th>\n",
       "      <td>529610067795</td>\n",
       "      <td>2019-05-01 11:34:04</td>\n",
       "      <td>4.99</td>\n",
       "    </tr>\n",
       "    <tr>\n",
       "      <th>3</th>\n",
       "      <td>319939546352</td>\n",
       "      <td>2019-05-01 15:34:40</td>\n",
       "      <td>4.99</td>\n",
       "    </tr>\n",
       "    <tr>\n",
       "      <th>4</th>\n",
       "      <td>366000285810</td>\n",
       "      <td>2019-05-01 13:59:51</td>\n",
       "      <td>4.99</td>\n",
       "    </tr>\n",
       "  </tbody>\n",
       "</table>\n",
       "</div>"
      ],
      "text/plain": [
       "        user_id            event_dt  revenue\n",
       "0  188246423999 2019-05-01 23:09:52     4.99\n",
       "1  174361394180 2019-05-01 12:24:04     4.99\n",
       "2  529610067795 2019-05-01 11:34:04     4.99\n",
       "3  319939546352 2019-05-01 15:34:40     4.99\n",
       "4  366000285810 2019-05-01 13:59:51     4.99"
      ]
     },
     "execution_count": 13,
     "metadata": {},
     "output_type": "execute_result"
    }
   ],
   "source": [
    "orders.head()"
   ]
  },
  {
   "cell_type": "markdown",
   "id": "e0e32ff3",
   "metadata": {},
   "source": [
    "### Дубликаты и пропуске"
   ]
  },
  {
   "cell_type": "markdown",
   "id": "7f238900",
   "metadata": {},
   "source": [
    "Явные пропуски отсутствуют, так как кол=во наблюдений в каждом параметре внутри одного датафрейма совпадает. Проверим наличие явных дубликатов"
   ]
  },
  {
   "cell_type": "code",
   "execution_count": 14,
   "id": "a84d4890",
   "metadata": {},
   "outputs": [
    {
     "data": {
      "text/plain": [
       "0"
      ]
     },
     "execution_count": 14,
     "metadata": {},
     "output_type": "execute_result"
    }
   ],
   "source": [
    "costs.duplicated().sum()"
   ]
  },
  {
   "cell_type": "code",
   "execution_count": 15,
   "id": "09cef152",
   "metadata": {},
   "outputs": [
    {
     "data": {
      "text/plain": [
       "0"
      ]
     },
     "execution_count": 15,
     "metadata": {},
     "output_type": "execute_result"
    }
   ],
   "source": [
    "visits.duplicated().sum()"
   ]
  },
  {
   "cell_type": "code",
   "execution_count": 16,
   "id": "15a1647e",
   "metadata": {},
   "outputs": [
    {
     "data": {
      "text/plain": [
       "0"
      ]
     },
     "execution_count": 16,
     "metadata": {},
     "output_type": "execute_result"
    }
   ],
   "source": [
    "orders.duplicated().sum()"
   ]
  },
  {
   "cell_type": "markdown",
   "id": "4cdd1a72",
   "metadata": {},
   "source": [
    "### Аномальные значения"
   ]
  },
  {
   "cell_type": "code",
   "execution_count": 17,
   "id": "87e32a7f",
   "metadata": {},
   "outputs": [
    {
     "data": {
      "text/plain": [
       "count    1800.000000\n",
       "mean       58.609611\n",
       "std       107.740223\n",
       "min         0.800000\n",
       "25%         6.495000\n",
       "50%        12.285000\n",
       "75%        33.600000\n",
       "max       630.000000\n",
       "Name: cost, dtype: float64"
      ]
     },
     "execution_count": 17,
     "metadata": {},
     "output_type": "execute_result"
    }
   ],
   "source": [
    "costs['cost'].describe()"
   ]
  },
  {
   "cell_type": "code",
   "execution_count": 18,
   "id": "c49a09d0",
   "metadata": {},
   "outputs": [
    {
     "data": {
      "text/plain": [
       "array([ 4.99,  5.99,  9.99, 49.99, 19.99])"
      ]
     },
     "execution_count": 18,
     "metadata": {},
     "output_type": "execute_result"
    }
   ],
   "source": [
    "orders['revenue'].unique()"
   ]
  },
  {
   "cell_type": "markdown",
   "id": "9f53ce48",
   "metadata": {},
   "source": [
    "## Функции для расчета и анализа LTV, ROI, удержания и конверсии"
   ]
  },
  {
   "cell_type": "code",
   "execution_count": 19,
   "id": "cdb94d3f",
   "metadata": {},
   "outputs": [],
   "source": [
    "# функция для создания пользовательских профилей \n",
    "\n",
    "def get_profiles(visits, orders, costs):\n",
    "\n",
    "    # находим параметры первых посещений\n",
    "    profiles = (\n",
    "        visits.sort_values(by=['user_id', 'session_start'])\n",
    "        .groupby('user_id')\n",
    "        .agg(\n",
    "            {\n",
    "                'session_start': 'first',\n",
    "                'channel': 'first',\n",
    "                'device': 'first',\n",
    "                'region': 'first',\n",
    "            }\n",
    "        )\n",
    "        .rename(columns={'session_start': 'first_ts'})\n",
    "        .reset_index()\n",
    "    )\n",
    "\n",
    "    # для когортного анализа определяем дату первого посещения\n",
    "    # и первый день месяца, в который это посещение произошло\n",
    "    profiles['dt'] = profiles['first_ts'].dt.date\n",
    "    profiles['month'] = profiles['first_ts'].astype('datetime64[M]')\n",
    "\n",
    "    # добавляем признак платящих пользователей\n",
    "    profiles['payer'] = profiles['user_id'].isin(orders['user_id'].unique())\n",
    "\n",
    "\n",
    "    # считаем количество уникальных пользователей\n",
    "    # с одинаковыми источником и датой привлечения\n",
    "    new_users = (\n",
    "        profiles.groupby(['dt', 'channel'])\n",
    "        .agg({'user_id': 'nunique'})\n",
    "        .rename(columns={'user_id': 'unique_users'})\n",
    "        .reset_index()\n",
    "    )\n",
    "\n",
    "    # объединяем траты на рекламу и число привлечённых пользователей\n",
    "    costs = costs.merge(new_users, on=['dt', 'channel'], how='left')\n",
    "\n",
    "    # делим рекламные расходы на число привлечённых пользователей\n",
    "    costs['acquisition_cost'] = costs['cost'] / costs['unique_users']\n",
    "\n",
    "    # добавляем стоимость привлечения в профили\n",
    "    profiles = profiles.merge(\n",
    "        costs[['dt', 'channel', 'acquisition_cost']],\n",
    "        on=['dt', 'channel'],\n",
    "        how='left',\n",
    "    )\n",
    "\n",
    "    # стоимость привлечения органических пользователей равна нулю\n",
    "    profiles['acquisition_cost'] = profiles['acquisition_cost'].fillna(0)\n",
    "\n",
    "    return profiles\n",
    " \n"
   ]
  },
  {
   "cell_type": "code",
   "execution_count": 20,
   "id": "d08e5f7e",
   "metadata": {},
   "outputs": [],
   "source": [
    "# функция для расчёта удержания\n",
    "\n",
    "def get_retention(\n",
    "    profiles,\n",
    "    sessions,\n",
    "    observation_date,\n",
    "    horizon_days,\n",
    "    dimensions=[],\n",
    "    ignore_horizon=False,\n",
    "):\n",
    "\n",
    "    # добавляем столбец payer в передаваемый dimensions список\n",
    "    dimensions = ['payer'] + dimensions\n",
    "\n",
    "    # исключаем пользователей, не «доживших» до горизонта анализа\n",
    "    last_suitable_acquisition_date = observation_date\n",
    "    if not ignore_horizon:\n",
    "        last_suitable_acquisition_date = observation_date - timedelta(\n",
    "            days=horizon_days - 1\n",
    "        )\n",
    "    result_raw = profiles.query('dt <= @last_suitable_acquisition_date')\n",
    "\n",
    "    # собираем «сырые» данные для расчёта удержания\n",
    "    result_raw = result_raw.merge(\n",
    "        sessions[['user_id', 'session_start']], on='user_id', how='left'\n",
    "    )\n",
    "    result_raw['lifetime'] = (\n",
    "        result_raw['session_start'] - result_raw['first_ts']\n",
    "    ).dt.days\n",
    "\n",
    "    # функция для группировки таблицы по желаемым признакам\n",
    "    def group_by_dimensions(df, dims, horizon_days):\n",
    "        result = df.pivot_table(\n",
    "            index=dims, columns='lifetime', values='user_id', aggfunc='nunique'\n",
    "        )\n",
    "        cohort_sizes = (\n",
    "            df.groupby(dims)\n",
    "            .agg({'user_id': 'nunique'})\n",
    "            .rename(columns={'user_id': 'cohort_size'})\n",
    "        )\n",
    "        result = cohort_sizes.merge(result, on=dims, how='left').fillna(0)\n",
    "        result = result.div(result['cohort_size'], axis=0)\n",
    "        result = result[['cohort_size'] + list(range(horizon_days))]\n",
    "        result['cohort_size'] = cohort_sizes\n",
    "        return result\n",
    "\n",
    "    # получаем таблицу удержания\n",
    "    result_grouped = group_by_dimensions(result_raw, dimensions, horizon_days)\n",
    "\n",
    "    # получаем таблицу динамики удержания\n",
    "    result_in_time = group_by_dimensions(\n",
    "        result_raw, dimensions + ['dt'], horizon_days\n",
    "    )\n",
    "\n",
    "    # возвращаем обе таблицы и сырые данные\n",
    "    return result_raw, result_grouped, result_in_time "
   ]
  },
  {
   "cell_type": "code",
   "execution_count": 21,
   "id": "ebd12840",
   "metadata": {},
   "outputs": [],
   "source": [
    "\n",
    "# функция для расчёта конверсии\n",
    "\n",
    "def get_conversion(\n",
    "    profiles,\n",
    "    purchases,\n",
    "    observation_date,\n",
    "    horizon_days,\n",
    "    dimensions=[],\n",
    "    ignore_horizon=False,\n",
    "):\n",
    "\n",
    "    # исключаем пользователей, не «доживших» до горизонта анализа\n",
    "    last_suitable_acquisition_date = observation_date\n",
    "    if not ignore_horizon:\n",
    "        last_suitable_acquisition_date = observation_date - timedelta(\n",
    "            days=horizon_days - 1\n",
    "        )\n",
    "    result_raw = profiles.query('dt <= @last_suitable_acquisition_date')\n",
    "\n",
    "    # определяем дату и время первой покупки для каждого пользователя\n",
    "    first_purchases = (\n",
    "        purchases.sort_values(by=['user_id', 'event_dt'])\n",
    "        .groupby('user_id')\n",
    "        .agg({'event_dt': 'first'})\n",
    "        .reset_index()\n",
    "    )\n",
    "\n",
    "    # добавляем данные о покупках в профили\n",
    "    result_raw = result_raw.merge(\n",
    "        first_purchases[['user_id', 'event_dt']], on='user_id', how='left'\n",
    "    )\n",
    "\n",
    "    # рассчитываем лайфтайм для каждой покупки\n",
    "    result_raw['lifetime'] = (\n",
    "        result_raw['event_dt'] - result_raw['first_ts']\n",
    "    ).dt.days\n",
    "\n",
    "    # группируем по cohort, если в dimensions ничего нет\n",
    "    if len(dimensions) == 0:\n",
    "        result_raw['cohort'] = 'All users' \n",
    "        dimensions = dimensions + ['cohort']\n",
    "\n",
    "    # функция для группировки таблицы по желаемым признакам\n",
    "    def group_by_dimensions(df, dims, horizon_days):\n",
    "        result = df.pivot_table(\n",
    "            index=dims, columns='lifetime', values='user_id', aggfunc='nunique'\n",
    "        )\n",
    "        result = result.fillna(0).cumsum(axis = 1)\n",
    "        cohort_sizes = (\n",
    "            df.groupby(dims)\n",
    "            .agg({'user_id': 'nunique'})\n",
    "            .rename(columns={'user_id': 'cohort_size'})\n",
    "        )\n",
    "        result = cohort_sizes.merge(result, on=dims, how='left').fillna(0)\n",
    "        # делим каждую «ячейку» в строке на размер когорты\n",
    "        # и получаем conversion rate\n",
    "        result = result.div(result['cohort_size'], axis=0)\n",
    "        result = result[['cohort_size'] + list(range(horizon_days))]\n",
    "        result['cohort_size'] = cohort_sizes\n",
    "        return result\n",
    "\n",
    "    # получаем таблицу конверсии\n",
    "    result_grouped = group_by_dimensions(result_raw, dimensions, horizon_days)\n",
    "\n",
    "    # для таблицы динамики конверсии убираем 'cohort' из dimensions\n",
    "    if 'cohort' in dimensions: \n",
    "        dimensions = []\n",
    "\n",
    "    # получаем таблицу динамики конверсии\n",
    "    result_in_time = group_by_dimensions(\n",
    "        result_raw, dimensions + ['dt'], horizon_days\n",
    "    )\n",
    "\n",
    "    # возвращаем обе таблицы и сырые данные\n",
    "    return result_raw, result_grouped, result_in_time "
   ]
  },
  {
   "cell_type": "code",
   "execution_count": 22,
   "id": "751b5bea",
   "metadata": {},
   "outputs": [],
   "source": [
    "# функция для расчёта LTV и ROI\n",
    "\n",
    "def get_ltv(\n",
    "    profiles,\n",
    "    purchases,\n",
    "    observation_date,\n",
    "    horizon_days,\n",
    "    dimensions=[],\n",
    "    ignore_horizon=False,\n",
    "):\n",
    "\n",
    "    # исключаем пользователей, не «доживших» до горизонта анализа\n",
    "    last_suitable_acquisition_date = observation_date\n",
    "    if not ignore_horizon:\n",
    "        last_suitable_acquisition_date = observation_date - timedelta(\n",
    "            days=horizon_days - 1\n",
    "        )\n",
    "    result_raw = profiles.query('dt <= @last_suitable_acquisition_date')\n",
    "    # добавляем данные о покупках в профили\n",
    "    result_raw = result_raw.merge(\n",
    "        purchases[['user_id', 'event_dt', 'revenue']], on='user_id', how='left'\n",
    "    )\n",
    "    # рассчитываем лайфтайм пользователя для каждой покупки\n",
    "    result_raw['lifetime'] = (\n",
    "        result_raw['event_dt'] - result_raw['first_ts']\n",
    "    ).dt.days\n",
    "    # группируем по cohort, если в dimensions ничего нет\n",
    "    if len(dimensions) == 0:\n",
    "        result_raw['cohort'] = 'All users'\n",
    "        dimensions = dimensions + ['cohort']\n",
    "\n",
    "    # функция группировки по желаемым признакам\n",
    "    def group_by_dimensions(df, dims, horizon_days):\n",
    "        # строим «треугольную» таблицу выручки\n",
    "        result = df.pivot_table(\n",
    "            index=dims, columns='lifetime', values='revenue', aggfunc='sum'\n",
    "        )\n",
    "        # находим сумму выручки с накоплением\n",
    "        result = result.fillna(0).cumsum(axis=1)\n",
    "        # вычисляем размеры когорт\n",
    "        cohort_sizes = (\n",
    "            df.groupby(dims)\n",
    "            .agg({'user_id': 'nunique'})\n",
    "            .rename(columns={'user_id': 'cohort_size'})\n",
    "        )\n",
    "        # объединяем размеры когорт и таблицу выручки\n",
    "        result = cohort_sizes.merge(result, on=dims, how='left').fillna(0)\n",
    "        # считаем LTV: делим каждую «ячейку» в строке на размер когорты\n",
    "        result = result.div(result['cohort_size'], axis=0)\n",
    "        # исключаем все лайфтаймы, превышающие горизонт анализа\n",
    "        result = result[['cohort_size'] + list(range(horizon_days))]\n",
    "        # восстанавливаем размеры когорт\n",
    "        result['cohort_size'] = cohort_sizes\n",
    "\n",
    "        # собираем датафрейм с данными пользователей и значениями CAC, \n",
    "        # добавляя параметры из dimensions\n",
    "        cac = df[['user_id', 'acquisition_cost'] + dims].drop_duplicates()\n",
    "\n",
    "        # считаем средний CAC по параметрам из dimensions\n",
    "        cac = (\n",
    "            cac.groupby(dims)\n",
    "            .agg({'acquisition_cost': 'mean'})\n",
    "            .rename(columns={'acquisition_cost': 'cac'})\n",
    "        )\n",
    "\n",
    "        # считаем ROI: делим LTV на CAC\n",
    "        roi = result.div(cac['cac'], axis=0)\n",
    "\n",
    "        # удаляем строки с бесконечным ROI\n",
    "        roi = roi[~roi['cohort_size'].isin([np.inf])]\n",
    "\n",
    "        # восстанавливаем размеры когорт в таблице ROI\n",
    "        roi['cohort_size'] = cohort_sizes\n",
    "\n",
    "        # добавляем CAC в таблицу ROI\n",
    "        roi['cac'] = cac['cac']\n",
    "\n",
    "        # в финальной таблице оставляем размеры когорт, CAC\n",
    "        # и ROI в лайфтаймы, не превышающие горизонт анализа\n",
    "        roi = roi[['cohort_size', 'cac'] + list(range(horizon_days))]\n",
    "\n",
    "        # возвращаем таблицы LTV и ROI\n",
    "        return result, roi\n",
    "\n",
    "    # получаем таблицы LTV и ROI\n",
    "    result_grouped, roi_grouped = group_by_dimensions(\n",
    "        result_raw, dimensions, horizon_days\n",
    "    )\n",
    "\n",
    "    # для таблиц динамики убираем 'cohort' из dimensions\n",
    "    if 'cohort' in dimensions:\n",
    "        dimensions = []\n",
    "\n",
    "    # получаем таблицы динамики LTV и ROI\n",
    "    result_in_time, roi_in_time = group_by_dimensions(\n",
    "        result_raw, dimensions + ['dt'], horizon_days\n",
    "    )\n",
    "\n",
    "    return (\n",
    "        result_raw,  # сырые данные\n",
    "        result_grouped,  # таблица LTV\n",
    "        result_in_time,  # таблица динамики LTV\n",
    "        roi_grouped,  # таблица ROI\n",
    "        roi_in_time,  # таблица динамики ROI\n",
    "    ) \n"
   ]
  },
  {
   "cell_type": "code",
   "execution_count": 23,
   "id": "16edbd99",
   "metadata": {},
   "outputs": [],
   "source": [
    "# функция для сглаживания фрейма\n",
    "\n",
    "def filter_data(df, window):\n",
    "    # для каждого столбца применяем скользящее среднее\n",
    "    for column in df.columns.values:\n",
    "        df[column] = df[column].rolling(window).mean() \n",
    "    return df "
   ]
  },
  {
   "cell_type": "code",
   "execution_count": 24,
   "id": "ec160c91",
   "metadata": {},
   "outputs": [],
   "source": [
    "# функция для визуализации удержания\n",
    "\n",
    "def plot_retention(retention, retention_history, horizon, window=7):\n",
    "\n",
    "    # задаём размер сетки для графиков\n",
    "    plt.figure(figsize=(15, 10))\n",
    "\n",
    "    # исключаем размеры когорт и удержание первого дня\n",
    "    retention = retention.drop(columns=['cohort_size', 0])\n",
    "    # в таблице динамики оставляем только нужный лайфтайм\n",
    "    retention_history = retention_history.drop(columns=['cohort_size'])[\n",
    "        [horizon - 1]\n",
    "    ]\n",
    "\n",
    "    # если в индексах таблицы удержания только payer,\n",
    "    # добавляем второй признак — cohort\n",
    "    if retention.index.nlevels == 1:\n",
    "        retention['cohort'] = 'All users'\n",
    "        retention = retention.reset_index().set_index(['cohort', 'payer'])\n",
    "\n",
    "    # в таблице графиков — два столбца и две строки, четыре ячейки\n",
    "    # в первой строим кривые удержания платящих пользователей\n",
    "    ax1 = plt.subplot(2, 2, 1)\n",
    "    retention.query('payer == True').droplevel('payer').T.plot(\n",
    "        grid=True, ax=ax1\n",
    "    )\n",
    "    plt.legend()\n",
    "    plt.xlabel('Лайфтайм')\n",
    "    plt.title('Удержание платящих пользователей')\n",
    "\n",
    "    # во второй ячейке строим кривые удержания неплатящих\n",
    "    # вертикальная ось — от графика из первой ячейки\n",
    "    ax2 = plt.subplot(2, 2, 2, sharey=ax1)\n",
    "    retention.query('payer == False').droplevel('payer').T.plot(\n",
    "        grid=True, ax=ax2\n",
    "    )\n",
    "    plt.legend()\n",
    "    plt.xlabel('Лайфтайм')\n",
    "    plt.title('Удержание неплатящих пользователей')\n",
    "\n",
    "    # в третьей ячейке — динамика удержания платящих\n",
    "    ax3 = plt.subplot(2, 2, 3)\n",
    "    # получаем названия столбцов для сводной таблицы\n",
    "    columns = [\n",
    "        name\n",
    "        for name in retention_history.index.names\n",
    "        if name not in ['dt', 'payer']\n",
    "    ]\n",
    "    # фильтруем данные и строим график\n",
    "    filtered_data = retention_history.query('payer == True').pivot_table(\n",
    "        index='dt', columns=columns, values=horizon - 1, aggfunc='mean'\n",
    "    )\n",
    "    filter_data(filtered_data, window).plot(grid=True, ax=ax3)\n",
    "    plt.xlabel('Дата привлечения')\n",
    "    plt.title(\n",
    "        'Динамика удержания платящих пользователей на {}-й день'.format(\n",
    "            horizon\n",
    "        )\n",
    "    )\n",
    "\n",
    "    # в чётвертой ячейке — динамика удержания неплатящих\n",
    "    ax4 = plt.subplot(2, 2, 4, sharey=ax3)\n",
    "    # фильтруем данные и строим график\n",
    "    filtered_data = retention_history.query('payer == False').pivot_table(\n",
    "        index='dt', columns=columns, values=horizon - 1, aggfunc='mean'\n",
    "    )\n",
    "    filter_data(filtered_data, window).plot(grid=True, ax=ax4)\n",
    "    plt.xlabel('Дата привлечения')\n",
    "    plt.title(\n",
    "        'Динамика удержания неплатящих пользователей на {}-й день'.format(\n",
    "            horizon\n",
    "        )\n",
    "    )\n",
    "    \n",
    "    plt.tight_layout()\n",
    "    plt.show()"
   ]
  },
  {
   "cell_type": "code",
   "execution_count": 25,
   "id": "0c5ca9b5",
   "metadata": {},
   "outputs": [],
   "source": [
    "# функция для визуализации конверсии\n",
    "\n",
    "def plot_conversion(conversion, conversion_history, horizon, window=7):\n",
    "\n",
    "    # задаём размер сетки для графиков\n",
    "    plt.figure(figsize=(15, 5))\n",
    "\n",
    "    # исключаем размеры когорт\n",
    "    conversion = conversion.drop(columns=['cohort_size'])\n",
    "    # в таблице динамики оставляем только нужный лайфтайм\n",
    "    conversion_history = conversion_history.drop(columns=['cohort_size'])[\n",
    "        [horizon - 1]\n",
    "    ]\n",
    "\n",
    "    # первый график — кривые конверсии\n",
    "    ax1 = plt.subplot(1, 2, 1)\n",
    "    conversion.T.plot(grid=True, ax=ax1)\n",
    "    plt.legend()\n",
    "    plt.xlabel('Лайфтайм')\n",
    "    plt.title('Конверсия пользователей')\n",
    "\n",
    "    # второй график — динамика конверсии\n",
    "    ax2 = plt.subplot(1, 2, 2, sharey=ax1)\n",
    "    columns = [\n",
    "        # столбцами сводной таблицы станут все столбцы индекса, кроме даты\n",
    "        name for name in conversion_history.index.names if name not in ['dt']\n",
    "    ]\n",
    "    filtered_data = conversion_history.pivot_table(\n",
    "        index='dt', columns=columns, values=horizon - 1, aggfunc='mean'\n",
    "    )\n",
    "    filter_data(filtered_data, window).plot(grid=True, ax=ax2)\n",
    "    plt.xlabel('Дата привлечения')\n",
    "    plt.title('Динамика конверсии пользователей на {}-й день'.format(horizon))\n",
    "\n",
    "    plt.tight_layout()\n",
    "    plt.show()"
   ]
  },
  {
   "cell_type": "code",
   "execution_count": 26,
   "id": "d2b3eff6",
   "metadata": {},
   "outputs": [],
   "source": [
    "# функция для визуализации LTV и ROI\n",
    "\n",
    "def plot_ltv_roi(ltv, ltv_history, roi, roi_history, horizon, window=7):\n",
    "\n",
    "    # задаём сетку отрисовки графиков\n",
    "    plt.figure(figsize=(20, 10))\n",
    "\n",
    "    # из таблицы ltv исключаем размеры когорт\n",
    "    ltv = ltv.drop(columns=['cohort_size'])\n",
    "    # в таблице динамики ltv оставляем только нужный лайфтайм\n",
    "    ltv_history = ltv_history.drop(columns=['cohort_size'])[[horizon - 1]]\n",
    "\n",
    "    # стоимость привлечения запишем в отдельный фрейм\n",
    "    cac_history = roi_history[['cac']]\n",
    "\n",
    "    # из таблицы roi исключаем размеры когорт и cac\n",
    "    roi = roi.drop(columns=['cohort_size', 'cac'])\n",
    "    # в таблице динамики roi оставляем только нужный лайфтайм\n",
    "    roi_history = roi_history.drop(columns=['cohort_size', 'cac'])[\n",
    "        [horizon - 1]\n",
    "    ]\n",
    "\n",
    "    # первый график — кривые ltv\n",
    "    ax1 = plt.subplot(2, 3, 1)\n",
    "    ltv.T.plot(grid=True, ax=ax1)\n",
    "    plt.legend()\n",
    "    plt.xlabel('Лайфтайм')\n",
    "    plt.title('LTV')\n",
    "\n",
    "    # второй график — динамика ltv\n",
    "    ax2 = plt.subplot(2, 3, 2, sharey=ax1)\n",
    "    # столбцами сводной таблицы станут все столбцы индекса, кроме даты\n",
    "    columns = [name for name in ltv_history.index.names if name not in ['dt']]\n",
    "    filtered_data = ltv_history.pivot_table(\n",
    "        index='dt', columns=columns, values=horizon - 1, aggfunc='mean'\n",
    "    )\n",
    "    filter_data(filtered_data, window).plot(grid=True, ax=ax2)\n",
    "    plt.xlabel('Дата привлечения')\n",
    "    plt.title('Динамика LTV пользователей на {}-й день'.format(horizon))\n",
    "\n",
    "    # третий график — динамика cac\n",
    "    ax3 = plt.subplot(2, 3, 3, sharey=ax1)\n",
    "    # столбцами сводной таблицы станут все столбцы индекса, кроме даты\n",
    "    columns = [name for name in cac_history.index.names if name not in ['dt']]\n",
    "    filtered_data = cac_history.pivot_table(\n",
    "        index='dt', columns=columns, values='cac', aggfunc='mean'\n",
    "    )\n",
    "    filter_data(filtered_data, window).plot(grid=True, ax=ax3)\n",
    "    plt.xlabel('Дата привлечения')\n",
    "    plt.title('Динамика стоимости привлечения пользователей')\n",
    "\n",
    "    # четвёртый график — кривые roi\n",
    "    ax4 = plt.subplot(2, 3, 4)\n",
    "    roi.T.plot(grid=True, ax=ax4)\n",
    "    plt.axhline(y=1, color='red', linestyle='--', label='Уровень окупаемости')\n",
    "    plt.legend()\n",
    "    plt.xlabel('Лайфтайм')\n",
    "    plt.title('ROI')\n",
    "\n",
    "    # пятый график — динамика roi\n",
    "    ax5 = plt.subplot(2, 3, 5, sharey=ax4)\n",
    "    # столбцами сводной таблицы станут все столбцы индекса, кроме даты\n",
    "    columns = [name for name in roi_history.index.names if name not in ['dt']]\n",
    "    filtered_data = roi_history.pivot_table(\n",
    "        index='dt', columns=columns, values=horizon - 1, aggfunc='mean'\n",
    "    )\n",
    "    filter_data(filtered_data, window).plot(grid=True, ax=ax5)\n",
    "    plt.axhline(y=1, color='red', linestyle='--', label='Уровень окупаемости')\n",
    "    plt.xlabel('Дата привлечения')\n",
    "    plt.title('Динамика ROI пользователей на {}-й день'.format(horizon))\n",
    "\n",
    "    plt.tight_layout()\n",
    "    plt.show() "
   ]
  },
  {
   "cell_type": "markdown",
   "id": "46a6ba72",
   "metadata": {},
   "source": [
    "## Исследовательский анализ данных"
   ]
  },
  {
   "cell_type": "markdown",
   "id": "8c05a53c",
   "metadata": {},
   "source": [
    "### Создание пользовательских профилей \n",
    "Определение минимальной и максимальной даты привлечения пользователей"
   ]
  },
  {
   "cell_type": "code",
   "execution_count": 27,
   "id": "3dd46a07",
   "metadata": {},
   "outputs": [
    {
     "data": {
      "text/html": [
       "<div>\n",
       "<style scoped>\n",
       "    .dataframe tbody tr th:only-of-type {\n",
       "        vertical-align: middle;\n",
       "    }\n",
       "\n",
       "    .dataframe tbody tr th {\n",
       "        vertical-align: top;\n",
       "    }\n",
       "\n",
       "    .dataframe thead th {\n",
       "        text-align: right;\n",
       "    }\n",
       "</style>\n",
       "<table border=\"1\" class=\"dataframe\">\n",
       "  <thead>\n",
       "    <tr style=\"text-align: right;\">\n",
       "      <th></th>\n",
       "      <th>user_id</th>\n",
       "      <th>first_ts</th>\n",
       "      <th>channel</th>\n",
       "      <th>device</th>\n",
       "      <th>region</th>\n",
       "      <th>dt</th>\n",
       "      <th>month</th>\n",
       "      <th>payer</th>\n",
       "      <th>acquisition_cost</th>\n",
       "    </tr>\n",
       "  </thead>\n",
       "  <tbody>\n",
       "    <tr>\n",
       "      <th>0</th>\n",
       "      <td>599326</td>\n",
       "      <td>2019-05-07 20:58:57</td>\n",
       "      <td>FaceBoom</td>\n",
       "      <td>Mac</td>\n",
       "      <td>United States</td>\n",
       "      <td>2019-05-07</td>\n",
       "      <td>2019-05-01</td>\n",
       "      <td>True</td>\n",
       "      <td>1.088172</td>\n",
       "    </tr>\n",
       "    <tr>\n",
       "      <th>1</th>\n",
       "      <td>4919697</td>\n",
       "      <td>2019-07-09 12:46:07</td>\n",
       "      <td>FaceBoom</td>\n",
       "      <td>iPhone</td>\n",
       "      <td>United States</td>\n",
       "      <td>2019-07-09</td>\n",
       "      <td>2019-07-01</td>\n",
       "      <td>False</td>\n",
       "      <td>1.107237</td>\n",
       "    </tr>\n",
       "    <tr>\n",
       "      <th>2</th>\n",
       "      <td>6085896</td>\n",
       "      <td>2019-10-01 09:58:33</td>\n",
       "      <td>organic</td>\n",
       "      <td>iPhone</td>\n",
       "      <td>France</td>\n",
       "      <td>2019-10-01</td>\n",
       "      <td>2019-10-01</td>\n",
       "      <td>False</td>\n",
       "      <td>0.000000</td>\n",
       "    </tr>\n",
       "    <tr>\n",
       "      <th>3</th>\n",
       "      <td>22593348</td>\n",
       "      <td>2019-08-22 21:35:48</td>\n",
       "      <td>AdNonSense</td>\n",
       "      <td>PC</td>\n",
       "      <td>Germany</td>\n",
       "      <td>2019-08-22</td>\n",
       "      <td>2019-08-01</td>\n",
       "      <td>False</td>\n",
       "      <td>0.988235</td>\n",
       "    </tr>\n",
       "    <tr>\n",
       "      <th>4</th>\n",
       "      <td>31989216</td>\n",
       "      <td>2019-10-02 00:07:44</td>\n",
       "      <td>YRabbit</td>\n",
       "      <td>iPhone</td>\n",
       "      <td>United States</td>\n",
       "      <td>2019-10-02</td>\n",
       "      <td>2019-10-01</td>\n",
       "      <td>False</td>\n",
       "      <td>0.230769</td>\n",
       "    </tr>\n",
       "  </tbody>\n",
       "</table>\n",
       "</div>"
      ],
      "text/plain": [
       "    user_id            first_ts     channel  device         region  \\\n",
       "0    599326 2019-05-07 20:58:57    FaceBoom     Mac  United States   \n",
       "1   4919697 2019-07-09 12:46:07    FaceBoom  iPhone  United States   \n",
       "2   6085896 2019-10-01 09:58:33     organic  iPhone         France   \n",
       "3  22593348 2019-08-22 21:35:48  AdNonSense      PC        Germany   \n",
       "4  31989216 2019-10-02 00:07:44     YRabbit  iPhone  United States   \n",
       "\n",
       "           dt      month  payer  acquisition_cost  \n",
       "0  2019-05-07 2019-05-01   True          1.088172  \n",
       "1  2019-07-09 2019-07-01  False          1.107237  \n",
       "2  2019-10-01 2019-10-01  False          0.000000  \n",
       "3  2019-08-22 2019-08-01  False          0.988235  \n",
       "4  2019-10-02 2019-10-01  False          0.230769  "
      ]
     },
     "execution_count": 27,
     "metadata": {},
     "output_type": "execute_result"
    }
   ],
   "source": [
    "profiles = get_profiles(visits, orders, costs)\n",
    "profiles.head()"
   ]
  },
  {
   "cell_type": "code",
   "execution_count": 28,
   "id": "83eeeea4",
   "metadata": {},
   "outputs": [
    {
     "data": {
      "text/plain": [
       "Timestamp('2019-05-01 00:00:41')"
      ]
     },
     "execution_count": 28,
     "metadata": {},
     "output_type": "execute_result"
    }
   ],
   "source": [
    "min_date = profiles['first_ts'].min()\n",
    "min_date"
   ]
  },
  {
   "cell_type": "code",
   "execution_count": 29,
   "id": "0ccdd7b9",
   "metadata": {},
   "outputs": [
    {
     "data": {
      "text/plain": [
       "Timestamp('2019-10-27 23:59:04')"
      ]
     },
     "execution_count": 29,
     "metadata": {},
     "output_type": "execute_result"
    }
   ],
   "source": [
    "max_date = profiles['first_ts'].max()\n",
    "max_date"
   ]
  },
  {
   "cell_type": "markdown",
   "id": "ca8349fe",
   "metadata": {},
   "source": [
    "### Пользователи по странам\n",
    "Выяснить, из каких стран пользователи приходят в приложение и на какую страну приходится больше всего платящих пользователей. Построить таблицу, отражающую количество пользователей и долю платящих из каждой страны."
   ]
  },
  {
   "cell_type": "code",
   "execution_count": 30,
   "id": "55e838ca",
   "metadata": {},
   "outputs": [
    {
     "data": {
      "text/html": [
       "<div>\n",
       "<style scoped>\n",
       "    .dataframe tbody tr th:only-of-type {\n",
       "        vertical-align: middle;\n",
       "    }\n",
       "\n",
       "    .dataframe tbody tr th {\n",
       "        vertical-align: top;\n",
       "    }\n",
       "\n",
       "    .dataframe thead th {\n",
       "        text-align: right;\n",
       "    }\n",
       "</style>\n",
       "<table border=\"1\" class=\"dataframe\">\n",
       "  <thead>\n",
       "    <tr style=\"text-align: right;\">\n",
       "      <th></th>\n",
       "      <th>region</th>\n",
       "      <th>count_user</th>\n",
       "    </tr>\n",
       "  </thead>\n",
       "  <tbody>\n",
       "    <tr>\n",
       "      <th>1</th>\n",
       "      <td>Germany</td>\n",
       "      <td>14981</td>\n",
       "    </tr>\n",
       "    <tr>\n",
       "      <th>0</th>\n",
       "      <td>France</td>\n",
       "      <td>17450</td>\n",
       "    </tr>\n",
       "    <tr>\n",
       "      <th>2</th>\n",
       "      <td>UK</td>\n",
       "      <td>17575</td>\n",
       "    </tr>\n",
       "    <tr>\n",
       "      <th>3</th>\n",
       "      <td>United States</td>\n",
       "      <td>100002</td>\n",
       "    </tr>\n",
       "  </tbody>\n",
       "</table>\n",
       "</div>"
      ],
      "text/plain": [
       "          region  count_user\n",
       "1        Germany       14981\n",
       "0         France       17450\n",
       "2             UK       17575\n",
       "3  United States      100002"
      ]
     },
     "execution_count": 30,
     "metadata": {},
     "output_type": "execute_result"
    }
   ],
   "source": [
    "# Кол-во пользователей по странам\n",
    "profiles_by_countries = (profiles.groupby('region')\n",
    "                         .agg({'region': 'count'})\n",
    "                         .rename(columns={'region': 'count_user'})\n",
    "                         .reset_index()\n",
    "                         .sort_values(by='count_user'))\n",
    "profiles_by_countries"
   ]
  },
  {
   "cell_type": "code",
   "execution_count": 31,
   "id": "23ae066f",
   "metadata": {},
   "outputs": [
    {
     "data": {
      "text/html": [
       "<div>\n",
       "<style scoped>\n",
       "    .dataframe tbody tr th:only-of-type {\n",
       "        vertical-align: middle;\n",
       "    }\n",
       "\n",
       "    .dataframe tbody tr th {\n",
       "        vertical-align: top;\n",
       "    }\n",
       "\n",
       "    .dataframe thead th {\n",
       "        text-align: right;\n",
       "    }\n",
       "</style>\n",
       "<table border=\"1\" class=\"dataframe\">\n",
       "  <thead>\n",
       "    <tr style=\"text-align: right;\">\n",
       "      <th></th>\n",
       "      <th>region</th>\n",
       "      <th>count_user</th>\n",
       "    </tr>\n",
       "  </thead>\n",
       "  <tbody>\n",
       "    <tr>\n",
       "      <th>1</th>\n",
       "      <td>Germany</td>\n",
       "      <td>616</td>\n",
       "    </tr>\n",
       "    <tr>\n",
       "      <th>0</th>\n",
       "      <td>France</td>\n",
       "      <td>663</td>\n",
       "    </tr>\n",
       "    <tr>\n",
       "      <th>2</th>\n",
       "      <td>UK</td>\n",
       "      <td>700</td>\n",
       "    </tr>\n",
       "    <tr>\n",
       "      <th>3</th>\n",
       "      <td>United States</td>\n",
       "      <td>6902</td>\n",
       "    </tr>\n",
       "  </tbody>\n",
       "</table>\n",
       "</div>"
      ],
      "text/plain": [
       "          region  count_user\n",
       "1        Germany         616\n",
       "0         France         663\n",
       "2             UK         700\n",
       "3  United States        6902"
      ]
     },
     "execution_count": 31,
     "metadata": {},
     "output_type": "execute_result"
    }
   ],
   "source": [
    "# Кол-во платящих пользователей по странам\n",
    "payers_by_countries = (profiles.query('payer == True')\n",
    "                       .groupby('region')\n",
    "                       .agg({'region': 'count'})\n",
    "                       .rename(columns={'region': 'count_user'})\n",
    "                       .reset_index()\n",
    "                       .sort_values(by='count_user'))\n",
    "payers_by_countries"
   ]
  },
  {
   "cell_type": "code",
   "execution_count": 32,
   "id": "48c79244",
   "metadata": {},
   "outputs": [
    {
     "data": {
      "text/html": [
       "<div>\n",
       "<style scoped>\n",
       "    .dataframe tbody tr th:only-of-type {\n",
       "        vertical-align: middle;\n",
       "    }\n",
       "\n",
       "    .dataframe tbody tr th {\n",
       "        vertical-align: top;\n",
       "    }\n",
       "\n",
       "    .dataframe thead th {\n",
       "        text-align: right;\n",
       "    }\n",
       "</style>\n",
       "<table border=\"1\" class=\"dataframe\">\n",
       "  <thead>\n",
       "    <tr style=\"text-align: right;\">\n",
       "      <th></th>\n",
       "      <th>region</th>\n",
       "      <th>count_user</th>\n",
       "      <th>payer_share</th>\n",
       "    </tr>\n",
       "  </thead>\n",
       "  <tbody>\n",
       "    <tr>\n",
       "      <th>1</th>\n",
       "      <td>Germany</td>\n",
       "      <td>14981</td>\n",
       "      <td>4.111875</td>\n",
       "    </tr>\n",
       "    <tr>\n",
       "      <th>0</th>\n",
       "      <td>France</td>\n",
       "      <td>17450</td>\n",
       "      <td>3.799427</td>\n",
       "    </tr>\n",
       "    <tr>\n",
       "      <th>2</th>\n",
       "      <td>UK</td>\n",
       "      <td>17575</td>\n",
       "      <td>3.982930</td>\n",
       "    </tr>\n",
       "    <tr>\n",
       "      <th>3</th>\n",
       "      <td>United States</td>\n",
       "      <td>100002</td>\n",
       "      <td>6.901862</td>\n",
       "    </tr>\n",
       "  </tbody>\n",
       "</table>\n",
       "</div>"
      ],
      "text/plain": [
       "          region  count_user  payer_share\n",
       "1        Germany       14981     4.111875\n",
       "0         France       17450     3.799427\n",
       "2             UK       17575     3.982930\n",
       "3  United States      100002     6.901862"
      ]
     },
     "execution_count": 32,
     "metadata": {},
     "output_type": "execute_result"
    }
   ],
   "source": [
    "profiles_by_countries['payer_share'] = ( payers_by_countries['count_user'] / profiles_by_countries['count_user'] * 100).sort_values()\n",
    "profiles_by_countries"
   ]
  },
  {
   "cell_type": "markdown",
   "id": "21ab1f59",
   "metadata": {},
   "source": [
    "Наибольшая доля платящих пользователей приходится на США(`6.9%`). Наимньшая доля платящей аудитории во Франции (`3.8%`) и Великобритании (`4%`)"
   ]
  },
  {
   "cell_type": "markdown",
   "id": "0cca3abb",
   "metadata": {},
   "source": [
    "###  Пользователи по типу устройства\n",
    "Изучить какими устройствами пользуются клиенты, и какие устройства предпочитают платящие пользователи. Построить таблицу, отражающую количество пользователей и долю платящих для каждого устройства."
   ]
  },
  {
   "cell_type": "code",
   "execution_count": 33,
   "id": "67a71c0b",
   "metadata": {},
   "outputs": [
    {
     "data": {
      "text/html": [
       "<div>\n",
       "<style scoped>\n",
       "    .dataframe tbody tr th:only-of-type {\n",
       "        vertical-align: middle;\n",
       "    }\n",
       "\n",
       "    .dataframe tbody tr th {\n",
       "        vertical-align: top;\n",
       "    }\n",
       "\n",
       "    .dataframe thead th {\n",
       "        text-align: right;\n",
       "    }\n",
       "</style>\n",
       "<table border=\"1\" class=\"dataframe\">\n",
       "  <thead>\n",
       "    <tr style=\"text-align: right;\">\n",
       "      <th></th>\n",
       "      <th>device</th>\n",
       "      <th>count_user</th>\n",
       "    </tr>\n",
       "  </thead>\n",
       "  <tbody>\n",
       "    <tr>\n",
       "      <th>0</th>\n",
       "      <td>Android</td>\n",
       "      <td>35032</td>\n",
       "    </tr>\n",
       "    <tr>\n",
       "      <th>1</th>\n",
       "      <td>Mac</td>\n",
       "      <td>30042</td>\n",
       "    </tr>\n",
       "    <tr>\n",
       "      <th>2</th>\n",
       "      <td>PC</td>\n",
       "      <td>30455</td>\n",
       "    </tr>\n",
       "    <tr>\n",
       "      <th>3</th>\n",
       "      <td>iPhone</td>\n",
       "      <td>54479</td>\n",
       "    </tr>\n",
       "  </tbody>\n",
       "</table>\n",
       "</div>"
      ],
      "text/plain": [
       "    device  count_user\n",
       "0  Android       35032\n",
       "1      Mac       30042\n",
       "2       PC       30455\n",
       "3   iPhone       54479"
      ]
     },
     "execution_count": 33,
     "metadata": {},
     "output_type": "execute_result"
    }
   ],
   "source": [
    "profiles_by_device = (profiles.groupby('device')\n",
    "    .agg({'device': 'count'})\n",
    "    .rename(columns={'device': 'count_user'})\n",
    "    .reset_index())\n",
    "profiles_by_device"
   ]
  },
  {
   "cell_type": "code",
   "execution_count": 34,
   "id": "d8a38a9b",
   "metadata": {},
   "outputs": [
    {
     "data": {
      "text/html": [
       "<div>\n",
       "<style scoped>\n",
       "    .dataframe tbody tr th:only-of-type {\n",
       "        vertical-align: middle;\n",
       "    }\n",
       "\n",
       "    .dataframe tbody tr th {\n",
       "        vertical-align: top;\n",
       "    }\n",
       "\n",
       "    .dataframe thead th {\n",
       "        text-align: right;\n",
       "    }\n",
       "</style>\n",
       "<table border=\"1\" class=\"dataframe\">\n",
       "  <thead>\n",
       "    <tr style=\"text-align: right;\">\n",
       "      <th></th>\n",
       "      <th>device</th>\n",
       "      <th>count_user</th>\n",
       "    </tr>\n",
       "  </thead>\n",
       "  <tbody>\n",
       "    <tr>\n",
       "      <th>0</th>\n",
       "      <td>Android</td>\n",
       "      <td>2050</td>\n",
       "    </tr>\n",
       "    <tr>\n",
       "      <th>1</th>\n",
       "      <td>Mac</td>\n",
       "      <td>1912</td>\n",
       "    </tr>\n",
       "    <tr>\n",
       "      <th>2</th>\n",
       "      <td>PC</td>\n",
       "      <td>1537</td>\n",
       "    </tr>\n",
       "    <tr>\n",
       "      <th>3</th>\n",
       "      <td>iPhone</td>\n",
       "      <td>3382</td>\n",
       "    </tr>\n",
       "  </tbody>\n",
       "</table>\n",
       "</div>"
      ],
      "text/plain": [
       "    device  count_user\n",
       "0  Android        2050\n",
       "1      Mac        1912\n",
       "2       PC        1537\n",
       "3   iPhone        3382"
      ]
     },
     "execution_count": 34,
     "metadata": {},
     "output_type": "execute_result"
    }
   ],
   "source": [
    "payers_by_device = (profiles.query('payer == True')\n",
    "                       .groupby('device')\n",
    "                       .agg({'device': 'count'})\n",
    "                       .rename(columns={'device': 'count_user'})\n",
    "                       .reset_index())\n",
    "payers_by_device"
   ]
  },
  {
   "cell_type": "code",
   "execution_count": 35,
   "id": "e87c1a11",
   "metadata": {},
   "outputs": [
    {
     "data": {
      "text/html": [
       "<div>\n",
       "<style scoped>\n",
       "    .dataframe tbody tr th:only-of-type {\n",
       "        vertical-align: middle;\n",
       "    }\n",
       "\n",
       "    .dataframe tbody tr th {\n",
       "        vertical-align: top;\n",
       "    }\n",
       "\n",
       "    .dataframe thead th {\n",
       "        text-align: right;\n",
       "    }\n",
       "</style>\n",
       "<table border=\"1\" class=\"dataframe\">\n",
       "  <thead>\n",
       "    <tr style=\"text-align: right;\">\n",
       "      <th></th>\n",
       "      <th>device</th>\n",
       "      <th>count_user</th>\n",
       "      <th>payer_share</th>\n",
       "    </tr>\n",
       "  </thead>\n",
       "  <tbody>\n",
       "    <tr>\n",
       "      <th>0</th>\n",
       "      <td>Android</td>\n",
       "      <td>35032</td>\n",
       "      <td>5.851793</td>\n",
       "    </tr>\n",
       "    <tr>\n",
       "      <th>1</th>\n",
       "      <td>Mac</td>\n",
       "      <td>30042</td>\n",
       "      <td>6.364423</td>\n",
       "    </tr>\n",
       "    <tr>\n",
       "      <th>2</th>\n",
       "      <td>PC</td>\n",
       "      <td>30455</td>\n",
       "      <td>5.046790</td>\n",
       "    </tr>\n",
       "    <tr>\n",
       "      <th>3</th>\n",
       "      <td>iPhone</td>\n",
       "      <td>54479</td>\n",
       "      <td>6.207897</td>\n",
       "    </tr>\n",
       "  </tbody>\n",
       "</table>\n",
       "</div>"
      ],
      "text/plain": [
       "    device  count_user  payer_share\n",
       "0  Android       35032     5.851793\n",
       "1      Mac       30042     6.364423\n",
       "2       PC       30455     5.046790\n",
       "3   iPhone       54479     6.207897"
      ]
     },
     "execution_count": 35,
     "metadata": {},
     "output_type": "execute_result"
    }
   ],
   "source": [
    "profiles_by_device['payer_share'] = ( payers_by_device['count_user'] / profiles_by_device['count_user'] * 100).sort_values()\n",
    "profiles_by_device"
   ]
  },
  {
   "cell_type": "markdown",
   "id": "ac07d9c3",
   "metadata": {},
   "source": [
    "Наиболее популярные устройства, через которые клиенты пользуются сервисом - iPhone и MAC. Среди пользователей с другими ОС наблюдаем чуть меньшую долю платящей аудитории"
   ]
  },
  {
   "cell_type": "markdown",
   "id": "49806482",
   "metadata": {},
   "source": [
    "###  Рекламные источники привлечения \n",
    "и определите каналы, из которых пришло больше всего платящих пользователей. Построим таблицу, отражающую количество пользователей и долю платящих для каждого канала привлечения.\n"
   ]
  },
  {
   "cell_type": "code",
   "execution_count": 36,
   "id": "c7a43609",
   "metadata": {},
   "outputs": [
    {
     "data": {
      "text/html": [
       "<div>\n",
       "<style scoped>\n",
       "    .dataframe tbody tr th:only-of-type {\n",
       "        vertical-align: middle;\n",
       "    }\n",
       "\n",
       "    .dataframe tbody tr th {\n",
       "        vertical-align: top;\n",
       "    }\n",
       "\n",
       "    .dataframe thead th {\n",
       "        text-align: right;\n",
       "    }\n",
       "</style>\n",
       "<table border=\"1\" class=\"dataframe\">\n",
       "  <thead>\n",
       "    <tr style=\"text-align: right;\">\n",
       "      <th></th>\n",
       "      <th>channel</th>\n",
       "      <th>count_user</th>\n",
       "    </tr>\n",
       "  </thead>\n",
       "  <tbody>\n",
       "    <tr>\n",
       "      <th>0</th>\n",
       "      <td>AdNonSense</td>\n",
       "      <td>3880</td>\n",
       "    </tr>\n",
       "    <tr>\n",
       "      <th>1</th>\n",
       "      <td>FaceBoom</td>\n",
       "      <td>29144</td>\n",
       "    </tr>\n",
       "    <tr>\n",
       "      <th>2</th>\n",
       "      <td>LeapBob</td>\n",
       "      <td>8553</td>\n",
       "    </tr>\n",
       "    <tr>\n",
       "      <th>3</th>\n",
       "      <td>MediaTornado</td>\n",
       "      <td>4364</td>\n",
       "    </tr>\n",
       "    <tr>\n",
       "      <th>4</th>\n",
       "      <td>OppleCreativeMedia</td>\n",
       "      <td>8605</td>\n",
       "    </tr>\n",
       "    <tr>\n",
       "      <th>5</th>\n",
       "      <td>RocketSuperAds</td>\n",
       "      <td>4448</td>\n",
       "    </tr>\n",
       "    <tr>\n",
       "      <th>6</th>\n",
       "      <td>TipTop</td>\n",
       "      <td>19561</td>\n",
       "    </tr>\n",
       "    <tr>\n",
       "      <th>7</th>\n",
       "      <td>WahooNetBanner</td>\n",
       "      <td>8553</td>\n",
       "    </tr>\n",
       "    <tr>\n",
       "      <th>8</th>\n",
       "      <td>YRabbit</td>\n",
       "      <td>4312</td>\n",
       "    </tr>\n",
       "    <tr>\n",
       "      <th>9</th>\n",
       "      <td>lambdaMediaAds</td>\n",
       "      <td>2149</td>\n",
       "    </tr>\n",
       "    <tr>\n",
       "      <th>10</th>\n",
       "      <td>organic</td>\n",
       "      <td>56439</td>\n",
       "    </tr>\n",
       "  </tbody>\n",
       "</table>\n",
       "</div>"
      ],
      "text/plain": [
       "               channel  count_user\n",
       "0           AdNonSense        3880\n",
       "1             FaceBoom       29144\n",
       "2              LeapBob        8553\n",
       "3         MediaTornado        4364\n",
       "4   OppleCreativeMedia        8605\n",
       "5       RocketSuperAds        4448\n",
       "6               TipTop       19561\n",
       "7       WahooNetBanner        8553\n",
       "8              YRabbit        4312\n",
       "9       lambdaMediaAds        2149\n",
       "10             organic       56439"
      ]
     },
     "execution_count": 36,
     "metadata": {},
     "output_type": "execute_result"
    }
   ],
   "source": [
    "profiles_by_channel = (profiles.groupby('channel')\n",
    "    .agg({'channel':'count'})\n",
    "    .rename(columns={'channel': 'count_user'})\n",
    "    .reset_index())\n",
    "profiles_by_channel"
   ]
  },
  {
   "cell_type": "code",
   "execution_count": 37,
   "id": "1a83d2d7",
   "metadata": {},
   "outputs": [
    {
     "data": {
      "text/html": [
       "<div>\n",
       "<style scoped>\n",
       "    .dataframe tbody tr th:only-of-type {\n",
       "        vertical-align: middle;\n",
       "    }\n",
       "\n",
       "    .dataframe tbody tr th {\n",
       "        vertical-align: top;\n",
       "    }\n",
       "\n",
       "    .dataframe thead th {\n",
       "        text-align: right;\n",
       "    }\n",
       "</style>\n",
       "<table border=\"1\" class=\"dataframe\">\n",
       "  <thead>\n",
       "    <tr style=\"text-align: right;\">\n",
       "      <th></th>\n",
       "      <th>channel</th>\n",
       "      <th>count_user</th>\n",
       "    </tr>\n",
       "  </thead>\n",
       "  <tbody>\n",
       "    <tr>\n",
       "      <th>0</th>\n",
       "      <td>AdNonSense</td>\n",
       "      <td>440</td>\n",
       "    </tr>\n",
       "    <tr>\n",
       "      <th>1</th>\n",
       "      <td>FaceBoom</td>\n",
       "      <td>3557</td>\n",
       "    </tr>\n",
       "    <tr>\n",
       "      <th>2</th>\n",
       "      <td>LeapBob</td>\n",
       "      <td>262</td>\n",
       "    </tr>\n",
       "    <tr>\n",
       "      <th>3</th>\n",
       "      <td>MediaTornado</td>\n",
       "      <td>156</td>\n",
       "    </tr>\n",
       "    <tr>\n",
       "      <th>4</th>\n",
       "      <td>OppleCreativeMedia</td>\n",
       "      <td>233</td>\n",
       "    </tr>\n",
       "    <tr>\n",
       "      <th>5</th>\n",
       "      <td>RocketSuperAds</td>\n",
       "      <td>352</td>\n",
       "    </tr>\n",
       "    <tr>\n",
       "      <th>6</th>\n",
       "      <td>TipTop</td>\n",
       "      <td>1878</td>\n",
       "    </tr>\n",
       "    <tr>\n",
       "      <th>7</th>\n",
       "      <td>WahooNetBanner</td>\n",
       "      <td>453</td>\n",
       "    </tr>\n",
       "    <tr>\n",
       "      <th>8</th>\n",
       "      <td>YRabbit</td>\n",
       "      <td>165</td>\n",
       "    </tr>\n",
       "    <tr>\n",
       "      <th>9</th>\n",
       "      <td>lambdaMediaAds</td>\n",
       "      <td>225</td>\n",
       "    </tr>\n",
       "    <tr>\n",
       "      <th>10</th>\n",
       "      <td>organic</td>\n",
       "      <td>1160</td>\n",
       "    </tr>\n",
       "  </tbody>\n",
       "</table>\n",
       "</div>"
      ],
      "text/plain": [
       "               channel  count_user\n",
       "0           AdNonSense         440\n",
       "1             FaceBoom        3557\n",
       "2              LeapBob         262\n",
       "3         MediaTornado         156\n",
       "4   OppleCreativeMedia         233\n",
       "5       RocketSuperAds         352\n",
       "6               TipTop        1878\n",
       "7       WahooNetBanner         453\n",
       "8              YRabbit         165\n",
       "9       lambdaMediaAds         225\n",
       "10             organic        1160"
      ]
     },
     "execution_count": 37,
     "metadata": {},
     "output_type": "execute_result"
    }
   ],
   "source": [
    "payers_by_channel = (profiles.query('payer == True')\n",
    "                       .groupby('channel')\n",
    "                       .agg({'channel': 'count'})\n",
    "                       .rename(columns={'channel': 'count_user'})\n",
    "                       .reset_index())\n",
    "payers_by_channel"
   ]
  },
  {
   "cell_type": "code",
   "execution_count": 38,
   "id": "63b7e80d",
   "metadata": {},
   "outputs": [
    {
     "data": {
      "text/html": [
       "<div>\n",
       "<style scoped>\n",
       "    .dataframe tbody tr th:only-of-type {\n",
       "        vertical-align: middle;\n",
       "    }\n",
       "\n",
       "    .dataframe tbody tr th {\n",
       "        vertical-align: top;\n",
       "    }\n",
       "\n",
       "    .dataframe thead th {\n",
       "        text-align: right;\n",
       "    }\n",
       "</style>\n",
       "<table border=\"1\" class=\"dataframe\">\n",
       "  <thead>\n",
       "    <tr style=\"text-align: right;\">\n",
       "      <th></th>\n",
       "      <th>channel</th>\n",
       "      <th>count_user</th>\n",
       "      <th>payer_share</th>\n",
       "    </tr>\n",
       "  </thead>\n",
       "  <tbody>\n",
       "    <tr>\n",
       "      <th>0</th>\n",
       "      <td>AdNonSense</td>\n",
       "      <td>3880</td>\n",
       "      <td>11.340206</td>\n",
       "    </tr>\n",
       "    <tr>\n",
       "      <th>1</th>\n",
       "      <td>FaceBoom</td>\n",
       "      <td>29144</td>\n",
       "      <td>12.204914</td>\n",
       "    </tr>\n",
       "    <tr>\n",
       "      <th>2</th>\n",
       "      <td>LeapBob</td>\n",
       "      <td>8553</td>\n",
       "      <td>3.063253</td>\n",
       "    </tr>\n",
       "    <tr>\n",
       "      <th>3</th>\n",
       "      <td>MediaTornado</td>\n",
       "      <td>4364</td>\n",
       "      <td>3.574702</td>\n",
       "    </tr>\n",
       "    <tr>\n",
       "      <th>4</th>\n",
       "      <td>OppleCreativeMedia</td>\n",
       "      <td>8605</td>\n",
       "      <td>2.707728</td>\n",
       "    </tr>\n",
       "    <tr>\n",
       "      <th>5</th>\n",
       "      <td>RocketSuperAds</td>\n",
       "      <td>4448</td>\n",
       "      <td>7.913669</td>\n",
       "    </tr>\n",
       "    <tr>\n",
       "      <th>6</th>\n",
       "      <td>TipTop</td>\n",
       "      <td>19561</td>\n",
       "      <td>9.600736</td>\n",
       "    </tr>\n",
       "    <tr>\n",
       "      <th>7</th>\n",
       "      <td>WahooNetBanner</td>\n",
       "      <td>8553</td>\n",
       "      <td>5.296387</td>\n",
       "    </tr>\n",
       "    <tr>\n",
       "      <th>8</th>\n",
       "      <td>YRabbit</td>\n",
       "      <td>4312</td>\n",
       "      <td>3.826531</td>\n",
       "    </tr>\n",
       "    <tr>\n",
       "      <th>9</th>\n",
       "      <td>lambdaMediaAds</td>\n",
       "      <td>2149</td>\n",
       "      <td>10.469986</td>\n",
       "    </tr>\n",
       "    <tr>\n",
       "      <th>10</th>\n",
       "      <td>organic</td>\n",
       "      <td>56439</td>\n",
       "      <td>2.055316</td>\n",
       "    </tr>\n",
       "  </tbody>\n",
       "</table>\n",
       "</div>"
      ],
      "text/plain": [
       "               channel  count_user  payer_share\n",
       "0           AdNonSense        3880    11.340206\n",
       "1             FaceBoom       29144    12.204914\n",
       "2              LeapBob        8553     3.063253\n",
       "3         MediaTornado        4364     3.574702\n",
       "4   OppleCreativeMedia        8605     2.707728\n",
       "5       RocketSuperAds        4448     7.913669\n",
       "6               TipTop       19561     9.600736\n",
       "7       WahooNetBanner        8553     5.296387\n",
       "8              YRabbit        4312     3.826531\n",
       "9       lambdaMediaAds        2149    10.469986\n",
       "10             organic       56439     2.055316"
      ]
     },
     "execution_count": 38,
     "metadata": {},
     "output_type": "execute_result"
    }
   ],
   "source": [
    "profiles_by_channel['payer_share'] = ( payers_by_channel['count_user'] / profiles_by_channel['count_user'] * 100).sort_values()\n",
    "profiles_by_channel"
   ]
  },
  {
   "cell_type": "markdown",
   "id": "933c1ac0",
   "metadata": {},
   "source": [
    "Больше всего платящих пользователей приходит через каналы `FaceBoom, AdNonSense, lambdaMediaAds`"
   ]
  },
  {
   "cell_type": "markdown",
   "id": "e8e23924",
   "metadata": {},
   "source": [
    "**Выводы**\n",
    "\n",
    "Сформировали профили пользователей и вычислили общую аудиторию и доли платящей аудитории по странам, типам устройст и рекламным каналам. \n",
    "\n",
    "Больше всего платящих в США - 6.9%     \n",
    "По каналам больше всего платящих привлеченых  FaceBoom - 12,2%, так же в лидерах AdNonSense- 11.34% и lambdaMediaAds - 10.47%\n"
   ]
  },
  {
   "cell_type": "markdown",
   "id": "61141280",
   "metadata": {},
   "source": [
    "## Маркетинг\n"
   ]
  },
  {
   "cell_type": "markdown",
   "id": "8d960f19",
   "metadata": {},
   "source": [
    "###  Расходы на маркетинг\n",
    "Посчитать общую сумму расходов на маркетинг. Выяснить, как траты распределены по источникам. Визуализируем изменения метрик во времени."
   ]
  },
  {
   "cell_type": "code",
   "execution_count": 39,
   "id": "9e4066a4",
   "metadata": {},
   "outputs": [
    {
     "data": {
      "text/plain": [
       "105497.30000000002"
      ]
     },
     "execution_count": 39,
     "metadata": {},
     "output_type": "execute_result"
    }
   ],
   "source": [
    "costs['cost'].sum()"
   ]
  },
  {
   "cell_type": "code",
   "execution_count": 40,
   "id": "07cc038c",
   "metadata": {},
   "outputs": [
    {
     "data": {
      "text/html": [
       "<div>\n",
       "<style scoped>\n",
       "    .dataframe tbody tr th:only-of-type {\n",
       "        vertical-align: middle;\n",
       "    }\n",
       "\n",
       "    .dataframe tbody tr th {\n",
       "        vertical-align: top;\n",
       "    }\n",
       "\n",
       "    .dataframe thead th {\n",
       "        text-align: right;\n",
       "    }\n",
       "</style>\n",
       "<table border=\"1\" class=\"dataframe\">\n",
       "  <thead>\n",
       "    <tr style=\"text-align: right;\">\n",
       "      <th></th>\n",
       "      <th>cost</th>\n",
       "    </tr>\n",
       "    <tr>\n",
       "      <th>channel</th>\n",
       "      <th></th>\n",
       "    </tr>\n",
       "  </thead>\n",
       "  <tbody>\n",
       "    <tr>\n",
       "      <th>TipTop</th>\n",
       "      <td>54751.30</td>\n",
       "    </tr>\n",
       "    <tr>\n",
       "      <th>FaceBoom</th>\n",
       "      <td>32445.60</td>\n",
       "    </tr>\n",
       "    <tr>\n",
       "      <th>WahooNetBanner</th>\n",
       "      <td>5151.00</td>\n",
       "    </tr>\n",
       "    <tr>\n",
       "      <th>AdNonSense</th>\n",
       "      <td>3911.25</td>\n",
       "    </tr>\n",
       "    <tr>\n",
       "      <th>OppleCreativeMedia</th>\n",
       "      <td>2151.25</td>\n",
       "    </tr>\n",
       "    <tr>\n",
       "      <th>RocketSuperAds</th>\n",
       "      <td>1833.00</td>\n",
       "    </tr>\n",
       "    <tr>\n",
       "      <th>LeapBob</th>\n",
       "      <td>1797.60</td>\n",
       "    </tr>\n",
       "    <tr>\n",
       "      <th>lambdaMediaAds</th>\n",
       "      <td>1557.60</td>\n",
       "    </tr>\n",
       "    <tr>\n",
       "      <th>MediaTornado</th>\n",
       "      <td>954.48</td>\n",
       "    </tr>\n",
       "    <tr>\n",
       "      <th>YRabbit</th>\n",
       "      <td>944.22</td>\n",
       "    </tr>\n",
       "  </tbody>\n",
       "</table>\n",
       "</div>"
      ],
      "text/plain": [
       "                        cost\n",
       "channel                     \n",
       "TipTop              54751.30\n",
       "FaceBoom            32445.60\n",
       "WahooNetBanner       5151.00\n",
       "AdNonSense           3911.25\n",
       "OppleCreativeMedia   2151.25\n",
       "RocketSuperAds       1833.00\n",
       "LeapBob              1797.60\n",
       "lambdaMediaAds       1557.60\n",
       "MediaTornado          954.48\n",
       "YRabbit               944.22"
      ]
     },
     "execution_count": 40,
     "metadata": {},
     "output_type": "execute_result"
    }
   ],
   "source": [
    "costs.groupby('channel').sum().sort_values(by='cost', ascending=False)"
   ]
  },
  {
   "cell_type": "code",
   "execution_count": 41,
   "id": "6a798295",
   "metadata": {},
   "outputs": [
    {
     "name": "stdout",
     "output_type": "stream",
     "text": [
      "<class 'pandas.core.frame.DataFrame'>\n",
      "RangeIndex: 1800 entries, 0 to 1799\n",
      "Data columns (total 3 columns):\n",
      " #   Column   Non-Null Count  Dtype  \n",
      "---  ------   --------------  -----  \n",
      " 0   dt       1800 non-null   object \n",
      " 1   channel  1800 non-null   object \n",
      " 2   cost     1800 non-null   float64\n",
      "dtypes: float64(1), object(2)\n",
      "memory usage: 42.3+ KB\n"
     ]
    }
   ],
   "source": [
    "costs.info()"
   ]
  },
  {
   "cell_type": "code",
   "execution_count": 42,
   "id": "233a115c",
   "metadata": {},
   "outputs": [],
   "source": [
    "costs['dt'] = pd.to_datetime(costs['dt']) "
   ]
  },
  {
   "cell_type": "code",
   "execution_count": 43,
   "id": "a7c7759f",
   "metadata": {},
   "outputs": [
    {
     "data": {
      "text/plain": [
       "Text(0, 0.5, 'Затраты')"
      ]
     },
     "execution_count": 43,
     "metadata": {},
     "output_type": "execute_result"
    },
    {
     "data": {
      "image/png": "[encoded data removed]",
      "text/plain": [
       "<Figure size 1080x576 with 1 Axes>"
      ]
     },
     "metadata": {
      "needs_background": "light"
     },
     "output_type": "display_data"
    }
   ],
   "source": [
    "plt.figure(\n",
    "    figsize=(15, 8)\n",
    ")  # Важно! Этот код нужно писать до момента создания графика\n",
    "plot = sns.lineplot(\n",
    "    x='dt', y='cost', hue='channel', data=costs\n",
    ") \n",
    "\n",
    "# Название графика и осей\n",
    "\n",
    "plot.set_title(\"Динамика затрат по каналам привлечения\")\n",
    "plot.set_xlabel('Дата')\n",
    "plot.set_ylabel('Затраты')"
   ]
  },
  {
   "cell_type": "markdown",
   "id": "57c402e7",
   "metadata": {},
   "source": [
    "Топ-3 канала по количеству затрат на рекламу:\n",
    "\n",
    "   * TipTop\t- 54751.30\n",
    "   \n",
    "   * FaceBoom -\t32445.60\n",
    "   \n",
    "   * WahooNetBanner - 5151.00\n",
    "   \n",
    "   \n",
    "На графике виден растущий тренд в расходах на рекламу у TipTop и менее активный растущий тренд у FaceBoom.  Кроме того, наблюдаются повышенные траты в начале каждого месяца, и  дальнейшее сниженные трат в середине и ближе к концу месяца.   \n"
   ]
  },
  {
   "cell_type": "markdown",
   "id": "16a81cb8",
   "metadata": {},
   "source": [
    "### Стоимость привлечения\n",
    "\n",
    "Узнаем, сколько в среднем стоило привлечение одного пользователя из каждого источника. Рассчитаем средний `CAC` на одного пользователя для всего проекта и для каждого источника трафика. "
   ]
  },
  {
   "cell_type": "markdown",
   "id": "9f8f19ba",
   "metadata": {},
   "source": [
    "При создании профилей пользователей добавили колонку `acquisition_cost` с указанием затрат на привлечение  пользователя"
   ]
  },
  {
   "cell_type": "markdown",
   "id": "280d68de",
   "metadata": {},
   "source": [
    "Исключим из анализа CAC и окупаемости рекламы органических пользователей, так как на них не затрачивался бюджет "
   ]
  },
  {
   "cell_type": "code",
   "execution_count": 44,
   "id": "7b8e0f49",
   "metadata": {},
   "outputs": [
    {
     "data": {
      "text/html": [
       "<div>\n",
       "<style scoped>\n",
       "    .dataframe tbody tr th:only-of-type {\n",
       "        vertical-align: middle;\n",
       "    }\n",
       "\n",
       "    .dataframe tbody tr th {\n",
       "        vertical-align: top;\n",
       "    }\n",
       "\n",
       "    .dataframe thead th {\n",
       "        text-align: right;\n",
       "    }\n",
       "</style>\n",
       "<table border=\"1\" class=\"dataframe\">\n",
       "  <thead>\n",
       "    <tr style=\"text-align: right;\">\n",
       "      <th></th>\n",
       "      <th>user_id</th>\n",
       "      <th>first_ts</th>\n",
       "      <th>channel</th>\n",
       "      <th>device</th>\n",
       "      <th>region</th>\n",
       "      <th>dt</th>\n",
       "      <th>month</th>\n",
       "      <th>payer</th>\n",
       "      <th>acquisition_cost</th>\n",
       "    </tr>\n",
       "  </thead>\n",
       "  <tbody>\n",
       "    <tr>\n",
       "      <th>0</th>\n",
       "      <td>599326</td>\n",
       "      <td>2019-05-07 20:58:57</td>\n",
       "      <td>FaceBoom</td>\n",
       "      <td>Mac</td>\n",
       "      <td>United States</td>\n",
       "      <td>2019-05-07</td>\n",
       "      <td>2019-05-01</td>\n",
       "      <td>True</td>\n",
       "      <td>1.088172</td>\n",
       "    </tr>\n",
       "    <tr>\n",
       "      <th>1</th>\n",
       "      <td>4919697</td>\n",
       "      <td>2019-07-09 12:46:07</td>\n",
       "      <td>FaceBoom</td>\n",
       "      <td>iPhone</td>\n",
       "      <td>United States</td>\n",
       "      <td>2019-07-09</td>\n",
       "      <td>2019-07-01</td>\n",
       "      <td>False</td>\n",
       "      <td>1.107237</td>\n",
       "    </tr>\n",
       "    <tr>\n",
       "      <th>3</th>\n",
       "      <td>22593348</td>\n",
       "      <td>2019-08-22 21:35:48</td>\n",
       "      <td>AdNonSense</td>\n",
       "      <td>PC</td>\n",
       "      <td>Germany</td>\n",
       "      <td>2019-08-22</td>\n",
       "      <td>2019-08-01</td>\n",
       "      <td>False</td>\n",
       "      <td>0.988235</td>\n",
       "    </tr>\n",
       "    <tr>\n",
       "      <th>4</th>\n",
       "      <td>31989216</td>\n",
       "      <td>2019-10-02 00:07:44</td>\n",
       "      <td>YRabbit</td>\n",
       "      <td>iPhone</td>\n",
       "      <td>United States</td>\n",
       "      <td>2019-10-02</td>\n",
       "      <td>2019-10-01</td>\n",
       "      <td>False</td>\n",
       "      <td>0.230769</td>\n",
       "    </tr>\n",
       "    <tr>\n",
       "      <th>7</th>\n",
       "      <td>46006712</td>\n",
       "      <td>2019-06-30 03:46:29</td>\n",
       "      <td>AdNonSense</td>\n",
       "      <td>Android</td>\n",
       "      <td>France</td>\n",
       "      <td>2019-06-30</td>\n",
       "      <td>2019-06-01</td>\n",
       "      <td>True</td>\n",
       "      <td>1.008000</td>\n",
       "    </tr>\n",
       "  </tbody>\n",
       "</table>\n",
       "</div>"
      ],
      "text/plain": [
       "    user_id            first_ts     channel   device         region  \\\n",
       "0    599326 2019-05-07 20:58:57    FaceBoom      Mac  United States   \n",
       "1   4919697 2019-07-09 12:46:07    FaceBoom   iPhone  United States   \n",
       "3  22593348 2019-08-22 21:35:48  AdNonSense       PC        Germany   \n",
       "4  31989216 2019-10-02 00:07:44     YRabbit   iPhone  United States   \n",
       "7  46006712 2019-06-30 03:46:29  AdNonSense  Android         France   \n",
       "\n",
       "           dt      month  payer  acquisition_cost  \n",
       "0  2019-05-07 2019-05-01   True          1.088172  \n",
       "1  2019-07-09 2019-07-01  False          1.107237  \n",
       "3  2019-08-22 2019-08-01  False          0.988235  \n",
       "4  2019-10-02 2019-10-01  False          0.230769  \n",
       "7  2019-06-30 2019-06-01   True          1.008000  "
      ]
     },
     "execution_count": 44,
     "metadata": {},
     "output_type": "execute_result"
    }
   ],
   "source": [
    "profiles_2 = profiles.query('channel != \"organic\"')\n",
    "profiles_2.head()"
   ]
  },
  {
   "cell_type": "code",
   "execution_count": 45,
   "id": "cf966810",
   "metadata": {},
   "outputs": [
    {
     "data": {
      "text/plain": [
       "1.127481323942928"
      ]
     },
     "execution_count": 45,
     "metadata": {},
     "output_type": "execute_result"
    }
   ],
   "source": [
    "profiles_2['acquisition_cost'].mean()"
   ]
  },
  {
   "cell_type": "code",
   "execution_count": null,
   "id": "fc22729c",
   "metadata": {},
   "outputs": [
    {
     "data": {
      "text/html": [
       "<div>\n",
       "<style scoped>\n",
       "    .dataframe tbody tr th:only-of-type {\n",
       "        vertical-align: middle;\n",
       "    }\n",
       "\n",
       "    .dataframe tbody tr th {\n",
       "        vertical-align: top;\n",
       "    }\n",
       "\n",
       "    .dataframe thead th {\n",
       "        text-align: right;\n",
       "    }\n",
       "</style>\n",
       "<table border=\"1\" class=\"dataframe\">\n",
       "  <thead>\n",
       "    <tr style=\"text-align: right;\">\n",
       "      <th></th>\n",
       "      <th>acquisition_cost</th>\n",
       "    </tr>\n",
       "    <tr>\n",
       "      <th>channel</th>\n",
       "      <th></th>\n",
       "    </tr>\n",
       "  </thead>\n",
       "  <tbody>\n",
       "    <tr>\n",
       "      <th>TipTop</th>\n",
       "      <td>2.799003</td>\n",
       "    </tr>\n",
       "    <tr>\n",
       "      <th>FaceBoom</th>\n",
       "      <td>1.113286</td>\n",
       "    </tr>\n",
       "    <tr>\n",
       "      <th>AdNonSense</th>\n",
       "      <td>1.008054</td>\n",
       "    </tr>\n",
       "    <tr>\n",
       "      <th>lambdaMediaAds</th>\n",
       "      <td>0.724802</td>\n",
       "    </tr>\n",
       "    <tr>\n",
       "      <th>WahooNetBanner</th>\n",
       "      <td>0.602245</td>\n",
       "    </tr>\n",
       "    <tr>\n",
       "      <th>RocketSuperAds</th>\n",
       "      <td>0.412095</td>\n",
       "    </tr>\n",
       "    <tr>\n",
       "      <th>OppleCreativeMedia</th>\n",
       "      <td>0.250000</td>\n",
       "    </tr>\n",
       "    <tr>\n",
       "      <th>YRabbit</th>\n",
       "      <td>0.218975</td>\n",
       "    </tr>\n",
       "    <tr>\n",
       "      <th>MediaTornado</th>\n",
       "      <td>0.218717</td>\n",
       "    </tr>\n",
       "    <tr>\n",
       "      <th>LeapBob</th>\n",
       "      <td>0.210172</td>\n",
       "    </tr>\n",
       "  </tbody>\n",
       "</table>\n",
       "</div>"
      ],
      "text/plain": [
       "                    acquisition_cost\n",
       "channel                             \n",
       "TipTop                      2.799003\n",
       "FaceBoom                    1.113286\n",
       "AdNonSense                  1.008054\n",
       "lambdaMediaAds              0.724802\n",
       "WahooNetBanner              0.602245\n",
       "RocketSuperAds              0.412095\n",
       "OppleCreativeMedia          0.250000\n",
       "YRabbit                     0.218975\n",
       "MediaTornado                0.218717\n",
       "LeapBob                     0.210172"
      ]
     },
     "execution_count": 46,
     "metadata": {},
     "output_type": "execute_result"
    }
   ],
   "source": [
    "profiles_2.groupby('channel')['acquisition_cost'].mean().to_frame().sort_values(by='acquisition_cost', ascending=False)"
   ]
  },
  {
   "cell_type": "markdown",
   "id": "cf64b62d",
   "metadata": {},
   "source": [
    "В средняя стоимость привлечения одного пользователя - `1.13`\n",
    "\n",
    "Если взглянуть на стоимость зависимости от канала привлечения, то картина отличается. \n",
    "Самым дорогая стоимость привлечения через `TipTop` - `2.8`"
   ]
  },
  {
   "cell_type": "markdown",
   "id": "334de5bb",
   "metadata": {},
   "source": [
    "В данном разделе мы ознакомились с общими затратами на рекламу для всего проекта и в зависимости от каналов привлечения. \n",
    "Нашли средний `CAC` также для одного пользователя всего проекта и с разбивкой по каналам привлечения.  \n",
    "\n",
    "Далее нам предстоит оценить, насколько окупаются затраты приложения на рекламу по всему проекту и по отдельным каналам.  "
   ]
  },
  {
   "cell_type": "markdown",
   "id": "1da4fa7f",
   "metadata": {},
   "source": [
    "## Оценка окупаемости рекламы"
   ]
  },
  {
   "cell_type": "markdown",
   "id": "676e8bfb",
   "metadata": {},
   "source": [
    "### Общая окупаемость рекламы \n",
    "Постройте графики LTV и ROI, а также графики динамики LTV, CAC и ROI.\n",
    "\n",
    "Используя графики LTV, ROI и CAC, проанализируйте окупаемость рекламы. Считайте, что на календаре 1 ноября 2019 года, а в бизнес-плане заложено, что пользователи должны окупаться не позднее чем через две недели после привлечения. Необходимость включения в анализ органических пользователей определите самостоятельно."
   ]
  },
  {
   "cell_type": "code",
   "execution_count": null,
   "id": "bf32fa55",
   "metadata": {},
   "outputs": [],
   "source": [
    "# считаем LTV и ROI\n",
    "ltv_raw, ltv_grouped, ltv_history, roi_grouped, roi_history = get_ltv(\n",
    "    profiles_2, orders, datetime(2019, 10, 1).date(), 14)    "
   ]
  },
  {
   "cell_type": "code",
   "execution_count": null,
   "id": "c4bf3254",
   "metadata": {},
   "outputs": [],
   "source": [
    "# строим графики\n",
    "plot_ltv_roi(ltv_grouped, ltv_history, roi_grouped, roi_history, 14) "
   ]
  },
  {
   "cell_type": "markdown",
   "id": "3554aa8c",
   "metadata": {},
   "source": [
    "По графикам можно сделать следующие выводы:\n",
    "\n",
    "   * Затраты на рекламу не окупаются. ROI в конце 2 недель — чуть выше 80%. Нужно понять, из-за чего реклама не окупается, и как повысить этот показатель. \n",
    "   * CAC возрастает. Значит, рекламный бюджет увеличивется со временем. Почему и за счет каких каналов/стран?\n",
    "   * LTV достаточно стабилен. Наблюдаем повторяющиеся колебания. Вспомним, что траты на рекламу возрастали в начале каждого месяца. В целом, качество пользователей не ухудшается.\n",
    "\n",
    "Чтобы разобраться в причинах низкого показателя окупаемости, пройдёмся по всем доступным характеристикам пользователей — стране, источнику и устройству первого посещения."
   ]
  },
  {
   "cell_type": "markdown",
   "id": "d0ad80f1",
   "metadata": {},
   "source": [
    "### Окупаемость рекламы с разбивкой по рекламным каналам\n",
    "Проанализируем окупаемость рекламы с разбивкой по рекламным каналам. Пострим графики LTV и ROI, а также графики динамики LTV, CAC и ROI."
   ]
  },
  {
   "cell_type": "code",
   "execution_count": null,
   "id": "a1c78fed",
   "metadata": {},
   "outputs": [],
   "source": [
    "ltv_raw, ltv_grouped, ltv_history, roi_grouped, roi_history = get_ltv(\n",
    "    profiles_2, orders, datetime(2019, 10, 1).date(), 14, dimensions=['channel']\n",
    ")\n"
   ]
  },
  {
   "cell_type": "code",
   "execution_count": null,
   "id": "35ab73c5",
   "metadata": {},
   "outputs": [],
   "source": [
    "plot_ltv_roi(\n",
    "    ltv_grouped, ltv_history, roi_grouped, roi_history, 14, window=14\n",
    ") "
   ]
  },
  {
   "cell_type": "markdown",
   "id": "f0fc6ee1",
   "metadata": {},
   "source": [
    "С разбивкой видно какие каналы эффективнее.\n",
    "\n",
    "Вот что говорят графики:\n",
    "\n",
    "   * Реклама окупается, но не во всех каналах. ROI у AdNonSense, FaceBoom и TipTop меньше 100%. Значит акцентируем свое внимание на этих трех каналах.\n",
    "   * С наибольшим профитом окупился канал YRabbit, достигая пика окупаемости к середине июля.    \n",
    "   * Практически у всех каналов стоимость привлечения стабильна. Сильно выбивается из общей картины резкий рост стоимости привлечения у TipTop. Действительно, у TipTop и затраты на рекламу сильно росли в течение рассматриваемого периода.\n",
    "   * Самый волатильный канал по динамике LTV - lambda_MediaAdsLTV, но при этом этот же канал достигает самых высоких показателей LTV. \n",
    "  "
   ]
  },
  {
   "cell_type": "markdown",
   "id": "d7474df6",
   "metadata": {},
   "source": [
    "###  Окупаемость рекламы с разбивкой по странам\n",
    "Проанализируйте окупаемость рекламы с разбивкой по странам. Постройте графики LTV и ROI, а также графики динамики LTV, CAC и ROI.\n",
    "Опишите обнаруженные проблемы и напишите промежуточные выводы."
   ]
  },
  {
   "cell_type": "code",
   "execution_count": null,
   "id": "8b4ed863",
   "metadata": {},
   "outputs": [],
   "source": [
    "ltv_raw, ltv_grouped, ltv_history, roi_grouped, roi_history = get_ltv(\n",
    "    profiles_2, orders, datetime(2019, 10, 1).date(), 14, dimensions=['region']\n",
    ")\n"
   ]
  },
  {
   "cell_type": "code",
   "execution_count": null,
   "id": "fb89813a",
   "metadata": {},
   "outputs": [],
   "source": [
    "plot_ltv_roi(\n",
    "    ltv_grouped, ltv_history, roi_grouped, roi_history, 14, window=14\n",
    ") "
   ]
  },
  {
   "cell_type": "markdown",
   "id": "6677f1b0",
   "metadata": {},
   "source": [
    "Вот что говорят графики:\n",
    "\n",
    "   * Реклама окупается во всех регионах кроме США. При том наилучшая окупаемость наблюдается в Великобритании (более 160%), у Франции и Германии окупаемость практически одинакова и почти достигает 150%. \n",
    "   * Окупаемость США превышала 100% в мае, после чего пошла вниз, это вероятнее всего связано с тем, что стоимость привлечения пользователей из США резко стала возрастать в июне. Из прошлого пункта вспомним, что динаммика стоимости росла сильно у канала TipTop. Нужно проверить, из каких стран приводят пользователей через TipTop.\n",
    "   * Наиболее высокий показатель LTV демонстрирует США. В целом у всех стран наблюдается небольшая волатильность динамики LTV, но придерживаются примерно единого уровня.\n",
    "  "
   ]
  },
  {
   "cell_type": "markdown",
   "id": "801d714d",
   "metadata": {},
   "source": [
    "Сгруппировали `profiles` по странам и рекламным каналам. Видим, что для пользователей Европы и США использовались различные рекламные каналы. \n",
    "\n",
    "Такие каналы, как FaceBoom и TipTop применялись только на аудиторию США. Канал AdNonSense применялся для стран Европы. \n",
    "\n",
    "Значит рост стоимости привлечения пользователей из США напрямую связан с ростом рекламы на канале TikTop"
   ]
  },
  {
   "cell_type": "code",
   "execution_count": null,
   "id": "6060c267",
   "metadata": {},
   "outputs": [],
   "source": [
    "profiles_2.groupby(['region', 'channel']).agg({'user_id': 'count'})"
   ]
  },
  {
   "cell_type": "markdown",
   "id": "60cac82b",
   "metadata": {},
   "source": [
    "### Конверсия и удержание с разбивкой по устройствам, странам, рекламным каналам\n",
    "Построим и изучим графики конверсии и удержания с разбивкой по устройствам, странам, рекламным каналам.\n",
    "\n",
    "\n",
    "Окупается ли реклама в целом?\n",
    "Какие устройства, страны и каналы могут снижать окупаемость рекламы?\n",
    "Чем могут быть вызваны проблемы окупаемости?\n",
    "Опишите возможные причины обнаруженных проблем и промежуточные рекомендации для рекламного отдела."
   ]
  },
  {
   "cell_type": "markdown",
   "id": "4a91c8d4",
   "metadata": {},
   "source": [
    "#### Конверсия и удержание по устройствам"
   ]
  },
  {
   "cell_type": "code",
   "execution_count": null,
   "id": "f5bbf915",
   "metadata": {
    "scrolled": false
   },
   "outputs": [],
   "source": [
    "#конверсия по устройствам\n",
    "conversion_raw, conversion_grouped, conversion_history = get_conversion(\n",
    "    profiles_2, orders, datetime(2019, 10, 1).date(), 14, dimensions=['device']\n",
    ")\n",
    "\n",
    "plot_conversion(conversion_grouped, conversion_history, 14) "
   ]
  },
  {
   "cell_type": "code",
   "execution_count": null,
   "id": "64a2fafc",
   "metadata": {},
   "outputs": [],
   "source": [
    "# удержание по устройствам\n",
    "retention_raw, retention_grouped, retention_history = get_retention(\n",
    "    profiles_2, visits, datetime(2019, 10, 1).date(), 14, dimensions=['device']\n",
    ")\n",
    "\n",
    "plot_retention(retention_grouped, retention_history, 14) "
   ]
  },
  {
   "cell_type": "markdown",
   "id": "e489b45b",
   "metadata": {},
   "source": [
    "   * Конверсия у пользователей MAC наиболее высокая, в то время как пользователи PC с другмими ОС показывают наименьший уровень конверсии.\n",
    "   * Хотя пользователи PC менее охотно платят за приложение, но они показывают самый высокий показатель удержания"
   ]
  },
  {
   "cell_type": "markdown",
   "id": "5eb2856a",
   "metadata": {},
   "source": [
    "#### Конверсия и удержание по странам"
   ]
  },
  {
   "cell_type": "code",
   "execution_count": null,
   "id": "eacca027",
   "metadata": {},
   "outputs": [],
   "source": [
    "#конверсия по странам\n",
    "conversion_raw, conversion_grouped, conversion_history = get_conversion(\n",
    "    profiles_2, orders, datetime(2019, 10, 1).date(), 14, dimensions=['region']\n",
    ")\n",
    "\n",
    "plot_conversion(conversion_grouped, conversion_history, 14)"
   ]
  },
  {
   "cell_type": "code",
   "execution_count": null,
   "id": "956d1fc2",
   "metadata": {},
   "outputs": [],
   "source": [
    "# удержание по странам\n",
    "retention_raw, retention_grouped, retention_history = get_retention(\n",
    "    profiles_2, visits, datetime(2019, 10, 1).date(), 14, dimensions=['region']\n",
    ")\n",
    "\n",
    "plot_retention(retention_grouped, retention_history, 14) "
   ]
  },
  {
   "cell_type": "markdown",
   "id": "e31e0c68",
   "metadata": {},
   "source": [
    "   * Конверсия пользователей из США сильно выделяется на фоне других стран\n",
    "   * Но при этом у клиентов из США стабильно ниже показатель удержания. \n",
    "   "
   ]
  },
  {
   "cell_type": "markdown",
   "id": "cc7dca4e",
   "metadata": {},
   "source": [
    "#### Конверсия и удержание по рекламным каналам"
   ]
  },
  {
   "cell_type": "code",
   "execution_count": null,
   "id": "88e9ceda",
   "metadata": {},
   "outputs": [],
   "source": [
    "# конверсия рекламным каналам\n",
    "conversion_raw, conversion_grouped, conversion_history = get_conversion(\n",
    "    profiles_2, orders, datetime(2019, 10, 1).date(), 14, dimensions=['channel']\n",
    ")\n",
    "\n",
    "plot_conversion(conversion_grouped, conversion_history, 14)"
   ]
  },
  {
   "cell_type": "code",
   "execution_count": null,
   "id": "cbfa9007",
   "metadata": {},
   "outputs": [],
   "source": [
    "# удержание по каналам\n",
    "retention_raw, retention_grouped, retention_history = get_retention(\n",
    "    profiles_2, visits, datetime(2019, 10, 1).date(), 14, dimensions=['channel']\n",
    ")\n",
    "\n",
    "plot_retention(retention_grouped, retention_history, 14) "
   ]
  },
  {
   "cell_type": "markdown",
   "id": "7b249c55",
   "metadata": {},
   "source": [
    "   * AdNonSense и FaceBoom хуже других каналов удерживают привлеченых потребителей.  \n",
    "   * Одновременно с этим именно эти каналы показывают наибольшие значения конверсии\n",
    "\n",
    "Возможно реклама размещенная на этих каналах цепляет потребителя, но дезинформирует, преувеличивает положительные особенности приложения. \n",
    "Поэтому пользователи активно переходят из этих каналов и совершают платные действия, но быстро разочаровываются и уходят из приложения. "
   ]
  },
  {
   "cell_type": "markdown",
   "id": "b740828e",
   "metadata": {},
   "source": [
    "## Выводы"
   ]
  },
  {
   "cell_type": "markdown",
   "id": "73e6b4b3",
   "metadata": {},
   "source": [
    "### Причины неэффективности"
   ]
  },
  {
   "cell_type": "markdown",
   "id": "6c5a31bd",
   "metadata": {},
   "source": [
    "ROI ниже 100% у TipTop, FaceBoom и  AdNonSense. \n",
    "\n",
    "**TipTop** - рекламный канал для пользователей из США. Второй источник по кол-ву привлеченных пользователей (19561 человека).\n",
    "\n",
    "Основные проблемы:\n",
    "   * Наиболшие затраты на рекламу среди всех каналов\n",
    "   * Затраты на привлечение новых пользователей растут с каждым месяцем. Средняя стоимость привлечения (acquisition_cost) пользователя из TipTop равна 2.8 по отношению к среднему значению 0.7\n",
    "    \n",
    "**Faceboom** - рекламный канал для пользователей из США. Главные источник по кол-ву привлеченных пользователей (29144 человека).\n",
    "\n",
    "Основные проблемы:\n",
    "   * Высокие затраты на рекламу среди всех каналов.\n",
    "   * Затраты на привлечение пользователей выше среднее. acquisition_cost FaceBoom равен 1.1.\n",
    "   * FaceBoom хуже других каналов удерживают привлеченых потребителей\n",
    "\n",
    "**AdNonSense** - рекламный канал для пользователей из Европы. \n",
    "   \n",
    "Основные проблемы:\n",
    "   * В Европе на этот канал приходится наибольшее кол-во затрат на рекламу\n",
    "   * AdNonSense на равне с Faceboom плохо удерживают привлеченых потребителей\n",
    "   \n",
    "   \n",
    "У обоих каналов `FaceBoom` и `AdNonSense` отличные показатели конверсии. То есть люди охотно реагируют на рекламу и производят платные действия в приложении. Однако, очень быстро эти пользователи покадают приложение.   \n",
    "\n",
    "Также ROI ниже 100% у пользователей из США, но это связано с тем, что два самых неокупаемых канала (TipTop и FaceBoom) работают как раз для жителей США.  \n"
   ]
  },
  {
   "cell_type": "markdown",
   "id": "b5e5c716",
   "metadata": {},
   "source": [
    "### Рекомендации"
   ]
  },
  {
   "cell_type": "markdown",
   "id": "5b757bc0",
   "metadata": {},
   "source": [
    "Для улучшния эффективности рекламы стоит в первую очередь разобраться с работой самых убыточных каналов рекламы TipTop, FaceBoom и AdNonSense.\n",
    "\n",
    "   * Нужно выяснить чем вызван постоянный рост затрат на рекламу в `TipTop` и по возможности снизить траты, или уменьшить вложения в данный канал. Так как мы можем увидеть, что от увеличения вложений конверсия или качество удержания клиентов не улучшилось\n",
    "   \n",
    "   \n",
    "   * У `FaceBoom` и `AdNonSense` наблюдаются схожие истории. Рекомендуется проверить качество и содержание рекламы, размещеной на этих каналах. Выявить, чем реклама на данных каналах отличается от дургой рекламы. Возможно реклама дезинформмирует пользователей.\n",
    "   * Если не получается найти явных особенностей рекламы, которые могут вводить пользователей в заблуждений, то рекомендуется снизить затраты на эти каналы рекламы. \n",
    "   \n",
    "   \n",
    "   * Освободившиеся деньги рекомендуется вкладывать в каналы, которые на данный момент более эффективны для бизнеса. \n",
    "   Например, у `lambdaMediaAds` высокая конверия и удержание и один из наиболее высоких показателей ROI \n",
    "   \n",
    " "
   ]
  }
 ],
 "metadata": {
  "ExecuteTimeLog": [
   {
    "duration": 151,
    "start_time": "2022-02-13T13:32:33.566Z"
   },
   {
    "duration": 746,
    "start_time": "2022-02-13T13:33:08.549Z"
   },
   {
    "duration": 2,
    "start_time": "2022-02-13T13:33:09.297Z"
   },
   {
    "duration": 11174,
    "start_time": "2022-02-13T13:33:09.301Z"
   },
   {
    "duration": 10,
    "start_time": "2022-02-13T13:33:20.477Z"
   },
   {
    "duration": 5,
    "start_time": "2022-02-13T13:33:20.489Z"
   },
   {
    "duration": 6,
    "start_time": "2022-02-13T13:33:20.496Z"
   },
   {
    "duration": 7,
    "start_time": "2022-02-13T13:33:20.503Z"
   },
   {
    "duration": 7,
    "start_time": "2022-02-13T13:33:20.513Z"
   },
   {
    "duration": 87,
    "start_time": "2022-02-13T13:33:20.522Z"
   },
   {
    "duration": 5,
    "start_time": "2022-02-13T13:33:20.611Z"
   },
   {
    "duration": 149,
    "start_time": "2022-02-13T13:33:20.617Z"
   },
   {
    "duration": 9,
    "start_time": "2022-02-13T13:33:20.767Z"
   },
   {
    "duration": 11,
    "start_time": "2022-02-13T13:33:20.777Z"
   },
   {
    "duration": 7,
    "start_time": "2022-02-13T13:33:20.790Z"
   },
   {
    "duration": 6,
    "start_time": "2022-02-13T13:33:20.798Z"
   },
   {
    "duration": 8,
    "start_time": "2022-02-13T13:33:20.805Z"
   },
   {
    "duration": 9,
    "start_time": "2022-02-13T13:33:20.815Z"
   },
   {
    "duration": 11,
    "start_time": "2022-02-13T13:33:20.825Z"
   },
   {
    "duration": 11,
    "start_time": "2022-02-13T13:33:20.838Z"
   },
   {
    "duration": 28,
    "start_time": "2022-02-13T13:33:20.851Z"
   },
   {
    "duration": 8,
    "start_time": "2022-02-13T13:33:20.880Z"
   },
   {
    "duration": 10,
    "start_time": "2022-02-13T13:33:20.890Z"
   },
   {
    "duration": 470,
    "start_time": "2022-02-13T13:33:20.904Z"
   },
   {
    "duration": 4,
    "start_time": "2022-02-13T13:33:21.376Z"
   },
   {
    "duration": 5,
    "start_time": "2022-02-13T13:33:21.381Z"
   },
   {
    "duration": 23,
    "start_time": "2022-02-13T13:33:21.388Z"
   },
   {
    "duration": 15,
    "start_time": "2022-02-13T13:33:21.413Z"
   },
   {
    "duration": 10,
    "start_time": "2022-02-13T13:33:21.429Z"
   },
   {
    "duration": 29,
    "start_time": "2022-02-13T13:33:21.472Z"
   },
   {
    "duration": 14,
    "start_time": "2022-02-13T13:33:21.503Z"
   },
   {
    "duration": 7,
    "start_time": "2022-02-13T13:33:21.518Z"
   },
   {
    "duration": 20,
    "start_time": "2022-02-13T13:33:21.527Z"
   },
   {
    "duration": 12,
    "start_time": "2022-02-13T13:33:21.572Z"
   },
   {
    "duration": 8,
    "start_time": "2022-02-13T13:33:21.586Z"
   },
   {
    "duration": 5,
    "start_time": "2022-02-13T13:33:21.595Z"
   },
   {
    "duration": 10,
    "start_time": "2022-02-13T13:33:21.601Z"
   },
   {
    "duration": 7,
    "start_time": "2022-02-13T13:33:21.612Z"
   },
   {
    "duration": 68,
    "start_time": "2022-02-13T13:33:21.620Z"
   },
   {
    "duration": 8,
    "start_time": "2022-02-13T13:33:21.689Z"
   },
   {
    "duration": 229,
    "start_time": "2022-02-13T13:33:21.698Z"
   },
   {
    "duration": 15,
    "start_time": "2022-02-13T13:33:21.928Z"
   },
   {
    "duration": 4,
    "start_time": "2022-02-13T13:33:21.945Z"
   },
   {
    "duration": 34,
    "start_time": "2022-02-13T13:33:21.951Z"
   },
   {
    "duration": 281,
    "start_time": "2022-02-13T13:33:21.986Z"
   },
   {
    "duration": 1503,
    "start_time": "2022-02-13T13:33:22.269Z"
   },
   {
    "duration": 442,
    "start_time": "2022-02-13T13:33:23.774Z"
   },
   {
    "duration": 2098,
    "start_time": "2022-02-13T13:33:24.218Z"
   },
   {
    "duration": 321,
    "start_time": "2022-02-13T13:33:26.318Z"
   },
   {
    "duration": 1677,
    "start_time": "2022-02-13T13:33:26.641Z"
   },
   {
    "duration": 27,
    "start_time": "2022-02-13T13:33:28.319Z"
   },
   {
    "duration": 994,
    "start_time": "2022-02-13T13:33:28.347Z"
   },
   {
    "duration": 2140,
    "start_time": "2022-02-13T13:33:29.342Z"
   },
   {
    "duration": 1015,
    "start_time": "2022-02-13T13:33:31.484Z"
   },
   {
    "duration": 1933,
    "start_time": "2022-02-13T13:33:32.501Z"
   },
   {
    "duration": 1275,
    "start_time": "2022-02-13T13:33:34.436Z"
   },
   {
    "duration": 2423,
    "start_time": "2022-02-13T13:33:35.713Z"
   },
   {
    "duration": 115,
    "start_time": "2022-02-13T14:07:31.098Z"
   },
   {
    "duration": 86,
    "start_time": "2022-02-13T14:16:54.913Z"
   },
   {
    "duration": 100,
    "start_time": "2022-02-13T14:48:40.710Z"
   },
   {
    "duration": 88,
    "start_time": "2022-02-13T14:57:36.844Z"
   },
   {
    "duration": 84,
    "start_time": "2022-02-13T15:03:57.037Z"
   },
   {
    "duration": 662,
    "start_time": "2022-02-13T15:13:55.917Z"
   },
   {
    "duration": 2272,
    "start_time": "2022-02-13T15:13:56.580Z"
   },
   {
    "duration": 16521,
    "start_time": "2022-02-13T15:13:58.854Z"
   },
   {
    "duration": 10,
    "start_time": "2022-02-13T15:14:15.377Z"
   },
   {
    "duration": 1068,
    "start_time": "2022-02-13T15:14:15.389Z"
   },
   {
    "duration": 1543,
    "start_time": "2022-02-13T15:14:16.459Z"
   },
   {
    "duration": 1637,
    "start_time": "2022-02-13T15:14:18.004Z"
   },
   {
    "duration": 864,
    "start_time": "2022-02-13T15:14:19.644Z"
   },
   {
    "duration": 949,
    "start_time": "2022-02-13T15:14:20.510Z"
   },
   {
    "duration": 962,
    "start_time": "2022-02-13T15:14:21.460Z"
   },
   {
    "duration": 816,
    "start_time": "2022-02-13T15:14:22.424Z"
   },
   {
    "duration": 1267,
    "start_time": "2022-02-13T15:14:23.241Z"
   },
   {
    "duration": 985,
    "start_time": "2022-02-13T15:14:24.510Z"
   },
   {
    "duration": 874,
    "start_time": "2022-02-13T15:14:25.497Z"
   },
   {
    "duration": 1265,
    "start_time": "2022-02-13T15:14:26.373Z"
   },
   {
    "duration": 1315,
    "start_time": "2022-02-13T15:14:27.640Z"
   },
   {
    "duration": 1324,
    "start_time": "2022-02-13T15:14:28.957Z"
   },
   {
    "duration": 1988,
    "start_time": "2022-02-13T15:14:30.283Z"
   },
   {
    "duration": 1502,
    "start_time": "2022-02-13T15:14:32.273Z"
   },
   {
    "duration": 787,
    "start_time": "2022-02-13T15:14:33.777Z"
   },
   {
    "duration": 1442,
    "start_time": "2022-02-13T15:14:34.566Z"
   },
   {
    "duration": 1166,
    "start_time": "2022-02-13T15:14:36.010Z"
   },
   {
    "duration": 1973,
    "start_time": "2022-02-13T15:14:37.181Z"
   },
   {
    "duration": 138,
    "start_time": "2022-02-13T15:14:39.157Z"
   },
   {
    "duration": 850,
    "start_time": "2022-02-13T15:14:39.297Z"
   },
   {
    "duration": 1450,
    "start_time": "2022-02-13T15:14:40.149Z"
   },
   {
    "duration": 997,
    "start_time": "2022-02-13T15:14:41.601Z"
   },
   {
    "duration": 1155,
    "start_time": "2022-02-13T15:14:42.599Z"
   },
   {
    "duration": 804,
    "start_time": "2022-02-13T15:14:43.756Z"
   },
   {
    "duration": 1071,
    "start_time": "2022-02-13T15:14:44.561Z"
   },
   {
    "duration": 873,
    "start_time": "2022-02-13T15:14:45.634Z"
   },
   {
    "duration": 675,
    "start_time": "2022-02-13T15:14:46.509Z"
   },
   {
    "duration": 830,
    "start_time": "2022-02-13T15:14:47.186Z"
   },
   {
    "duration": 798,
    "start_time": "2022-02-13T15:14:48.018Z"
   },
   {
    "duration": 788,
    "start_time": "2022-02-13T15:14:48.818Z"
   },
   {
    "duration": 998,
    "start_time": "2022-02-13T15:14:49.607Z"
   },
   {
    "duration": 494,
    "start_time": "2022-02-13T15:14:50.607Z"
   },
   {
    "duration": 919,
    "start_time": "2022-02-13T15:14:51.103Z"
   },
   {
    "duration": 886,
    "start_time": "2022-02-13T15:14:52.024Z"
   },
   {
    "duration": 1414,
    "start_time": "2022-02-13T15:14:52.912Z"
   },
   {
    "duration": 1676,
    "start_time": "2022-02-13T15:14:54.328Z"
   },
   {
    "duration": 1848,
    "start_time": "2022-02-13T15:14:56.006Z"
   },
   {
    "duration": 516,
    "start_time": "2022-02-13T15:14:57.856Z"
   },
   {
    "duration": 1297,
    "start_time": "2022-02-13T15:14:58.374Z"
   },
   {
    "duration": 2348,
    "start_time": "2022-02-13T15:14:59.673Z"
   },
   {
    "duration": 359,
    "start_time": "2022-02-13T15:15:02.023Z"
   },
   {
    "duration": 4235,
    "start_time": "2022-02-13T15:15:02.384Z"
   },
   {
    "duration": 545,
    "start_time": "2022-02-13T15:15:06.622Z"
   },
   {
    "duration": 3973,
    "start_time": "2022-02-13T15:15:07.171Z"
   },
   {
    "duration": 41,
    "start_time": "2022-02-13T15:15:11.146Z"
   },
   {
    "duration": 3523,
    "start_time": "2022-02-13T15:15:11.189Z"
   },
   {
    "duration": 3249,
    "start_time": "2022-02-13T15:15:14.714Z"
   },
   {
    "duration": 1572,
    "start_time": "2022-02-13T15:15:17.965Z"
   },
   {
    "duration": 2054,
    "start_time": "2022-02-13T15:15:19.539Z"
   },
   {
    "duration": 1203,
    "start_time": "2022-02-13T15:15:21.594Z"
   },
   {
    "duration": 2572,
    "start_time": "2022-02-13T15:15:22.799Z"
   },
   {
    "duration": 251,
    "start_time": "2022-02-14T13:49:55.957Z"
   },
   {
    "duration": 799,
    "start_time": "2022-02-14T13:50:10.894Z"
   },
   {
    "duration": 11673,
    "start_time": "2022-02-14T13:50:11.695Z"
   },
   {
    "duration": 13,
    "start_time": "2022-02-14T13:50:23.370Z"
   },
   {
    "duration": 24,
    "start_time": "2022-02-14T13:50:23.386Z"
   },
   {
    "duration": 9,
    "start_time": "2022-02-14T13:50:23.412Z"
   },
   {
    "duration": 17,
    "start_time": "2022-02-14T13:50:23.423Z"
   },
   {
    "duration": 16,
    "start_time": "2022-02-14T13:50:23.442Z"
   },
   {
    "duration": 90,
    "start_time": "2022-02-14T13:50:23.460Z"
   },
   {
    "duration": 3,
    "start_time": "2022-02-14T13:50:23.554Z"
   },
   {
    "duration": 171,
    "start_time": "2022-02-14T13:50:23.560Z"
   },
   {
    "duration": 9,
    "start_time": "2022-02-14T13:50:23.733Z"
   },
   {
    "duration": 15,
    "start_time": "2022-02-14T13:50:23.744Z"
   },
   {
    "duration": 20,
    "start_time": "2022-02-14T13:50:23.761Z"
   },
   {
    "duration": 304,
    "start_time": "2022-02-14T13:50:23.783Z"
   },
   {
    "duration": 1518,
    "start_time": "2022-02-14T13:50:22.573Z"
   },
   {
    "duration": 1516,
    "start_time": "2022-02-14T13:50:22.576Z"
   },
   {
    "duration": 1507,
    "start_time": "2022-02-14T13:50:22.586Z"
   },
   {
    "duration": 1497,
    "start_time": "2022-02-14T13:50:22.597Z"
   },
   {
    "duration": 1474,
    "start_time": "2022-02-14T13:50:22.621Z"
   },
   {
    "duration": 1473,
    "start_time": "2022-02-14T13:50:22.623Z"
   },
   {
    "duration": 1431,
    "start_time": "2022-02-14T13:50:22.666Z"
   },
   {
    "duration": 1403,
    "start_time": "2022-02-14T13:50:22.695Z"
   },
   {
    "duration": 1401,
    "start_time": "2022-02-14T13:50:22.698Z"
   },
   {
    "duration": 1400,
    "start_time": "2022-02-14T13:50:22.700Z"
   },
   {
    "duration": 1398,
    "start_time": "2022-02-14T13:50:22.703Z"
   },
   {
    "duration": 1397,
    "start_time": "2022-02-14T13:50:22.705Z"
   },
   {
    "duration": 1395,
    "start_time": "2022-02-14T13:50:22.708Z"
   },
   {
    "duration": 1394,
    "start_time": "2022-02-14T13:50:22.710Z"
   },
   {
    "duration": 1391,
    "start_time": "2022-02-14T13:50:22.714Z"
   },
   {
    "duration": 1389,
    "start_time": "2022-02-14T13:50:22.717Z"
   },
   {
    "duration": 1387,
    "start_time": "2022-02-14T13:50:22.720Z"
   },
   {
    "duration": 1351,
    "start_time": "2022-02-14T13:50:22.758Z"
   },
   {
    "duration": 1349,
    "start_time": "2022-02-14T13:50:22.761Z"
   },
   {
    "duration": 1347,
    "start_time": "2022-02-14T13:50:22.764Z"
   },
   {
    "duration": 1345,
    "start_time": "2022-02-14T13:50:22.767Z"
   },
   {
    "duration": 1344,
    "start_time": "2022-02-14T13:50:22.769Z"
   },
   {
    "duration": 1342,
    "start_time": "2022-02-14T13:50:22.772Z"
   },
   {
    "duration": 1341,
    "start_time": "2022-02-14T13:50:22.774Z"
   },
   {
    "duration": 1339,
    "start_time": "2022-02-14T13:50:22.777Z"
   },
   {
    "duration": 1338,
    "start_time": "2022-02-14T13:50:22.779Z"
   },
   {
    "duration": 1336,
    "start_time": "2022-02-14T13:50:22.782Z"
   },
   {
    "duration": 1335,
    "start_time": "2022-02-14T13:50:22.784Z"
   },
   {
    "duration": 1333,
    "start_time": "2022-02-14T13:50:22.787Z"
   },
   {
    "duration": 1332,
    "start_time": "2022-02-14T13:50:22.789Z"
   },
   {
    "duration": 1330,
    "start_time": "2022-02-14T13:50:22.792Z"
   },
   {
    "duration": 1329,
    "start_time": "2022-02-14T13:50:22.794Z"
   },
   {
    "duration": 1327,
    "start_time": "2022-02-14T13:50:22.797Z"
   },
   {
    "duration": 1326,
    "start_time": "2022-02-14T13:50:22.799Z"
   },
   {
    "duration": 1325,
    "start_time": "2022-02-14T13:50:22.801Z"
   },
   {
    "duration": 1323,
    "start_time": "2022-02-14T13:50:22.804Z"
   },
   {
    "duration": 1321,
    "start_time": "2022-02-14T13:50:22.807Z"
   },
   {
    "duration": 1320,
    "start_time": "2022-02-14T13:50:22.809Z"
   },
   {
    "duration": 1318,
    "start_time": "2022-02-14T13:50:22.812Z"
   },
   {
    "duration": 1315,
    "start_time": "2022-02-14T13:50:22.816Z"
   },
   {
    "duration": 1314,
    "start_time": "2022-02-14T13:50:22.818Z"
   },
   {
    "duration": 1311,
    "start_time": "2022-02-14T13:50:22.822Z"
   },
   {
    "duration": 198,
    "start_time": "2022-02-14T13:58:50.956Z"
   },
   {
    "duration": 8,
    "start_time": "2022-02-14T14:01:09.948Z"
   },
   {
    "duration": 751,
    "start_time": "2022-02-14T14:01:17.259Z"
   },
   {
    "duration": 12138,
    "start_time": "2022-02-14T14:01:18.012Z"
   },
   {
    "duration": 11,
    "start_time": "2022-02-14T14:01:30.153Z"
   },
   {
    "duration": 13,
    "start_time": "2022-02-14T14:01:30.166Z"
   },
   {
    "duration": 37,
    "start_time": "2022-02-14T14:01:30.181Z"
   },
   {
    "duration": 30,
    "start_time": "2022-02-14T14:01:30.220Z"
   },
   {
    "duration": 37,
    "start_time": "2022-02-14T14:01:30.252Z"
   },
   {
    "duration": 86,
    "start_time": "2022-02-14T14:01:30.291Z"
   },
   {
    "duration": 13,
    "start_time": "2022-02-14T14:01:30.381Z"
   },
   {
    "duration": 183,
    "start_time": "2022-02-14T14:01:30.397Z"
   },
   {
    "duration": 9,
    "start_time": "2022-02-14T14:01:30.582Z"
   },
   {
    "duration": 46,
    "start_time": "2022-02-14T14:01:30.593Z"
   },
   {
    "duration": 44,
    "start_time": "2022-02-14T14:01:30.641Z"
   },
   {
    "duration": 23,
    "start_time": "2022-02-14T14:01:30.687Z"
   },
   {
    "duration": 29,
    "start_time": "2022-02-14T14:01:30.713Z"
   },
   {
    "duration": 43,
    "start_time": "2022-02-14T14:01:30.744Z"
   },
   {
    "duration": 21,
    "start_time": "2022-02-14T14:01:30.789Z"
   },
   {
    "duration": 108,
    "start_time": "2022-02-14T14:01:30.812Z"
   },
   {
    "duration": 183,
    "start_time": "2022-02-14T14:01:30.923Z"
   },
   {
    "duration": 143,
    "start_time": "2022-02-14T14:01:31.109Z"
   },
   {
    "duration": 163,
    "start_time": "2022-02-14T14:01:31.254Z"
   },
   {
    "duration": 40,
    "start_time": "2022-02-14T14:01:31.419Z"
   },
   {
    "duration": 595,
    "start_time": "2022-02-14T14:01:31.461Z"
   },
   {
    "duration": 6,
    "start_time": "2022-02-14T14:01:32.058Z"
   },
   {
    "duration": 17,
    "start_time": "2022-02-14T14:01:32.067Z"
   },
   {
    "duration": 40,
    "start_time": "2022-02-14T14:01:32.086Z"
   },
   {
    "duration": 19,
    "start_time": "2022-02-14T14:01:32.132Z"
   },
   {
    "duration": 12,
    "start_time": "2022-02-14T14:01:32.154Z"
   },
   {
    "duration": 53,
    "start_time": "2022-02-14T14:01:32.169Z"
   },
   {
    "duration": 18,
    "start_time": "2022-02-14T14:01:32.224Z"
   },
   {
    "duration": 12,
    "start_time": "2022-02-14T14:01:32.245Z"
   },
   {
    "duration": 98,
    "start_time": "2022-02-14T14:01:32.259Z"
   },
   {
    "duration": 34,
    "start_time": "2022-02-14T14:01:32.360Z"
   },
   {
    "duration": 19,
    "start_time": "2022-02-14T14:01:32.397Z"
   },
   {
    "duration": 11,
    "start_time": "2022-02-14T14:01:32.418Z"
   },
   {
    "duration": 13,
    "start_time": "2022-02-14T14:01:32.431Z"
   },
   {
    "duration": 11,
    "start_time": "2022-02-14T14:01:32.447Z"
   },
   {
    "duration": 11,
    "start_time": "2022-02-14T14:01:32.460Z"
   },
   {
    "duration": 37,
    "start_time": "2022-02-14T14:01:32.473Z"
   },
   {
    "duration": 306,
    "start_time": "2022-02-14T14:01:32.512Z"
   },
   {
    "duration": 19,
    "start_time": "2022-02-14T14:01:32.821Z"
   },
   {
    "duration": 39,
    "start_time": "2022-02-14T14:01:32.842Z"
   },
   {
    "duration": 34,
    "start_time": "2022-02-14T14:01:32.883Z"
   },
   {
    "duration": 353,
    "start_time": "2022-02-14T14:01:32.919Z"
   },
   {
    "duration": 1789,
    "start_time": "2022-02-14T14:01:33.274Z"
   },
   {
    "duration": 430,
    "start_time": "2022-02-14T14:01:35.065Z"
   },
   {
    "duration": 2539,
    "start_time": "2022-02-14T14:01:35.497Z"
   },
   {
    "duration": 447,
    "start_time": "2022-02-14T14:01:38.039Z"
   },
   {
    "duration": 1979,
    "start_time": "2022-02-14T14:01:38.489Z"
   },
   {
    "duration": 45,
    "start_time": "2022-02-14T14:01:40.470Z"
   },
   {
    "duration": 1180,
    "start_time": "2022-02-14T14:01:40.517Z"
   },
   {
    "duration": 2415,
    "start_time": "2022-02-14T14:01:41.699Z"
   },
   {
    "duration": 1273,
    "start_time": "2022-02-14T14:01:44.116Z"
   },
   {
    "duration": 2347,
    "start_time": "2022-02-14T14:01:45.392Z"
   },
   {
    "duration": 1425,
    "start_time": "2022-02-14T14:01:47.741Z"
   },
   {
    "duration": 2694,
    "start_time": "2022-02-14T14:01:49.169Z"
   },
   {
    "duration": 6,
    "start_time": "2022-02-14T14:01:59.978Z"
   },
   {
    "duration": 99,
    "start_time": "2022-02-14T14:02:06.628Z"
   },
   {
    "duration": 10,
    "start_time": "2022-02-14T14:02:16.372Z"
   },
   {
    "duration": 301,
    "start_time": "2022-02-14T14:10:14.940Z"
   },
   {
    "duration": 19,
    "start_time": "2022-02-14T14:10:55.106Z"
   },
   {
    "duration": 10,
    "start_time": "2022-02-14T14:11:08.825Z"
   },
   {
    "duration": 6,
    "start_time": "2022-02-14T14:11:33.546Z"
   },
   {
    "duration": 6,
    "start_time": "2022-02-14T14:11:39.957Z"
   },
   {
    "duration": 6,
    "start_time": "2022-02-14T14:12:52.297Z"
   },
   {
    "duration": 11,
    "start_time": "2022-02-14T14:12:56.458Z"
   },
   {
    "duration": 9,
    "start_time": "2022-02-14T14:13:12.057Z"
   },
   {
    "duration": 10,
    "start_time": "2022-02-14T17:47:00.311Z"
   },
   {
    "duration": 11,
    "start_time": "2022-02-14T17:51:53.830Z"
   },
   {
    "duration": 11,
    "start_time": "2022-02-14T17:53:27.894Z"
   },
   {
    "duration": 269,
    "start_time": "2022-02-15T21:08:17.086Z"
   },
   {
    "duration": 807,
    "start_time": "2022-02-15T21:08:27.192Z"
   },
   {
    "duration": 13107,
    "start_time": "2022-02-15T21:08:28.001Z"
   },
   {
    "duration": 13,
    "start_time": "2022-02-15T21:08:41.112Z"
   },
   {
    "duration": 10,
    "start_time": "2022-02-15T21:08:41.127Z"
   },
   {
    "duration": 14,
    "start_time": "2022-02-15T21:08:41.138Z"
   },
   {
    "duration": 15,
    "start_time": "2022-02-15T21:08:41.154Z"
   },
   {
    "duration": 35,
    "start_time": "2022-02-15T21:08:41.172Z"
   },
   {
    "duration": 62,
    "start_time": "2022-02-15T21:08:41.210Z"
   },
   {
    "duration": 4,
    "start_time": "2022-02-15T21:08:41.275Z"
   },
   {
    "duration": 182,
    "start_time": "2022-02-15T21:08:41.280Z"
   },
   {
    "duration": 8,
    "start_time": "2022-02-15T21:08:41.464Z"
   },
   {
    "duration": 20,
    "start_time": "2022-02-15T21:08:41.474Z"
   },
   {
    "duration": 19,
    "start_time": "2022-02-15T21:08:41.496Z"
   },
   {
    "duration": 15,
    "start_time": "2022-02-15T21:08:41.517Z"
   },
   {
    "duration": 124,
    "start_time": "2022-02-15T21:08:41.533Z"
   },
   {
    "duration": 11,
    "start_time": "2022-02-15T21:08:41.660Z"
   },
   {
    "duration": 9,
    "start_time": "2022-02-15T21:08:41.673Z"
   },
   {
    "duration": 25,
    "start_time": "2022-02-15T21:08:41.684Z"
   },
   {
    "duration": 7,
    "start_time": "2022-02-15T21:08:41.712Z"
   },
   {
    "duration": 17,
    "start_time": "2022-02-15T21:08:41.721Z"
   },
   {
    "duration": 13,
    "start_time": "2022-02-15T21:08:41.740Z"
   },
   {
    "duration": 13,
    "start_time": "2022-02-15T21:08:41.755Z"
   },
   {
    "duration": 13,
    "start_time": "2022-02-15T21:08:41.770Z"
   },
   {
    "duration": 27,
    "start_time": "2022-02-15T21:08:41.785Z"
   },
   {
    "duration": 12,
    "start_time": "2022-02-15T21:08:41.814Z"
   },
   {
    "duration": 16,
    "start_time": "2022-02-15T21:08:41.830Z"
   },
   {
    "duration": 560,
    "start_time": "2022-02-15T21:08:41.848Z"
   },
   {
    "duration": 5,
    "start_time": "2022-02-15T21:08:42.410Z"
   },
   {
    "duration": 12,
    "start_time": "2022-02-15T21:08:42.416Z"
   },
   {
    "duration": 28,
    "start_time": "2022-02-15T21:08:42.430Z"
   },
   {
    "duration": 17,
    "start_time": "2022-02-15T21:08:42.460Z"
   },
   {
    "duration": 35,
    "start_time": "2022-02-15T21:08:42.478Z"
   },
   {
    "duration": 27,
    "start_time": "2022-02-15T21:08:42.515Z"
   },
   {
    "duration": 75,
    "start_time": "2022-02-15T21:08:42.543Z"
   },
   {
    "duration": 10,
    "start_time": "2022-02-15T21:08:42.620Z"
   },
   {
    "duration": 32,
    "start_time": "2022-02-15T21:08:42.631Z"
   },
   {
    "duration": 16,
    "start_time": "2022-02-15T21:08:42.665Z"
   },
   {
    "duration": 30,
    "start_time": "2022-02-15T21:08:42.683Z"
   },
   {
    "duration": 9,
    "start_time": "2022-02-15T21:08:42.715Z"
   },
   {
    "duration": 14,
    "start_time": "2022-02-15T21:08:42.726Z"
   },
   {
    "duration": 9,
    "start_time": "2022-02-15T21:08:42.742Z"
   },
   {
    "duration": 9,
    "start_time": "2022-02-15T21:08:42.753Z"
   },
   {
    "duration": 14,
    "start_time": "2022-02-15T21:08:42.764Z"
   },
   {
    "duration": 285,
    "start_time": "2022-02-15T21:08:42.780Z"
   },
   {
    "duration": 210,
    "start_time": "2022-02-15T21:08:42.857Z"
   },
   {
    "duration": 208,
    "start_time": "2022-02-15T21:08:42.860Z"
   },
   {
    "duration": 205,
    "start_time": "2022-02-15T21:08:42.865Z"
   },
   {
    "duration": 203,
    "start_time": "2022-02-15T21:08:42.868Z"
   },
   {
    "duration": 201,
    "start_time": "2022-02-15T21:08:42.871Z"
   },
   {
    "duration": 199,
    "start_time": "2022-02-15T21:08:42.874Z"
   },
   {
    "duration": 198,
    "start_time": "2022-02-15T21:08:42.877Z"
   },
   {
    "duration": 196,
    "start_time": "2022-02-15T21:08:42.880Z"
   },
   {
    "duration": 187,
    "start_time": "2022-02-15T21:08:42.890Z"
   },
   {
    "duration": 186,
    "start_time": "2022-02-15T21:08:42.892Z"
   },
   {
    "duration": 185,
    "start_time": "2022-02-15T21:08:42.895Z"
   },
   {
    "duration": 183,
    "start_time": "2022-02-15T21:08:42.898Z"
   },
   {
    "duration": 182,
    "start_time": "2022-02-15T21:08:42.901Z"
   },
   {
    "duration": 180,
    "start_time": "2022-02-15T21:08:42.904Z"
   },
   {
    "duration": 179,
    "start_time": "2022-02-15T21:08:42.907Z"
   },
   {
    "duration": 178,
    "start_time": "2022-02-15T21:08:42.909Z"
   },
   {
    "duration": 429,
    "start_time": "2022-02-15T21:09:05.512Z"
   },
   {
    "duration": 355,
    "start_time": "2022-02-15T21:09:19.870Z"
   },
   {
    "duration": 335,
    "start_time": "2022-02-15T21:09:30.859Z"
   },
   {
    "duration": 215,
    "start_time": "2022-02-15T21:10:17.273Z"
   },
   {
    "duration": 709,
    "start_time": "2022-02-15T21:10:27.558Z"
   },
   {
    "duration": 667,
    "start_time": "2022-02-15T21:10:35.922Z"
   },
   {
    "duration": 669,
    "start_time": "2022-02-15T21:11:48.815Z"
   },
   {
    "duration": 659,
    "start_time": "2022-02-15T21:12:11.649Z"
   },
   {
    "duration": 675,
    "start_time": "2022-02-15T21:12:40.921Z"
   },
   {
    "duration": 751,
    "start_time": "2022-02-15T21:13:02.911Z"
   },
   {
    "duration": 19,
    "start_time": "2022-02-15T21:13:28.790Z"
   },
   {
    "duration": 6,
    "start_time": "2022-02-15T21:13:31.977Z"
   },
   {
    "duration": 22,
    "start_time": "2022-02-15T21:13:32.609Z"
   },
   {
    "duration": 18,
    "start_time": "2022-02-15T21:16:05.264Z"
   },
   {
    "duration": 38,
    "start_time": "2022-02-15T21:16:13.018Z"
   },
   {
    "duration": 5,
    "start_time": "2022-02-15T21:16:21.285Z"
   },
   {
    "duration": 5,
    "start_time": "2022-02-15T21:16:35.010Z"
   },
   {
    "duration": 14,
    "start_time": "2022-02-15T21:16:45.325Z"
   },
   {
    "duration": 14,
    "start_time": "2022-02-15T21:17:18.854Z"
   },
   {
    "duration": 15,
    "start_time": "2022-02-15T21:18:16.422Z"
   },
   {
    "duration": 5,
    "start_time": "2022-02-15T21:18:20.442Z"
   },
   {
    "duration": 266,
    "start_time": "2022-02-15T21:18:50.699Z"
   },
   {
    "duration": 2595,
    "start_time": "2022-02-15T21:19:01.169Z"
   },
   {
    "duration": 485,
    "start_time": "2022-02-15T21:23:15.442Z"
   },
   {
    "duration": 2621,
    "start_time": "2022-02-15T21:23:16.962Z"
   },
   {
    "duration": 244,
    "start_time": "2022-02-15T21:23:26.070Z"
   },
   {
    "duration": 1757,
    "start_time": "2022-02-15T21:23:28.159Z"
   },
   {
    "duration": 317,
    "start_time": "2022-02-15T21:23:36.541Z"
   },
   {
    "duration": 2301,
    "start_time": "2022-02-15T21:23:49.239Z"
   },
   {
    "duration": 316,
    "start_time": "2022-02-15T21:25:14.669Z"
   },
   {
    "duration": 2328,
    "start_time": "2022-02-15T21:25:17.061Z"
   },
   {
    "duration": 2368,
    "start_time": "2022-02-15T21:25:53.960Z"
   },
   {
    "duration": 404,
    "start_time": "2022-02-15T21:26:24.630Z"
   },
   {
    "duration": 2386,
    "start_time": "2022-02-15T21:26:28.821Z"
   },
   {
    "duration": 308,
    "start_time": "2022-02-15T21:26:47.342Z"
   },
   {
    "duration": 2565,
    "start_time": "2022-02-15T21:26:48.645Z"
   },
   {
    "duration": 301,
    "start_time": "2022-02-15T21:30:19.920Z"
   },
   {
    "duration": 1937,
    "start_time": "2022-02-15T21:30:20.710Z"
   },
   {
    "duration": 29,
    "start_time": "2022-02-15T21:32:29.233Z"
   },
   {
    "duration": 22,
    "start_time": "2022-02-15T21:32:38.410Z"
   },
   {
    "duration": 1372,
    "start_time": "2022-02-15T21:32:57.853Z"
   },
   {
    "duration": 2157,
    "start_time": "2022-02-15T21:32:59.227Z"
   },
   {
    "duration": 1099,
    "start_time": "2022-02-15T21:33:38.383Z"
   },
   {
    "duration": 2159,
    "start_time": "2022-02-15T21:33:39.484Z"
   },
   {
    "duration": 1474,
    "start_time": "2022-02-15T21:34:09.023Z"
   },
   {
    "duration": 2345,
    "start_time": "2022-02-15T21:34:10.499Z"
   },
   {
    "duration": 19,
    "start_time": "2022-02-15T21:35:09.703Z"
   },
   {
    "duration": 2714,
    "start_time": "2022-02-15T21:42:38.548Z"
   },
   {
    "duration": 2003,
    "start_time": "2022-02-15T21:42:51.751Z"
   },
   {
    "duration": 1626,
    "start_time": "2022-02-16T06:29:06.706Z"
   },
   {
    "duration": 1670,
    "start_time": "2022-02-16T06:29:30.229Z"
   },
   {
    "duration": 10464,
    "start_time": "2022-02-16T06:29:31.902Z"
   },
   {
    "duration": 15,
    "start_time": "2022-02-16T06:29:42.369Z"
   },
   {
    "duration": 26,
    "start_time": "2022-02-16T06:29:42.386Z"
   },
   {
    "duration": 10,
    "start_time": "2022-02-16T06:29:42.415Z"
   },
   {
    "duration": 10,
    "start_time": "2022-02-16T06:29:42.427Z"
   },
   {
    "duration": 12,
    "start_time": "2022-02-16T06:29:42.439Z"
   },
   {
    "duration": 107,
    "start_time": "2022-02-16T06:29:42.456Z"
   },
   {
    "duration": 4,
    "start_time": "2022-02-16T06:29:42.566Z"
   },
   {
    "duration": 225,
    "start_time": "2022-02-16T06:29:42.573Z"
   },
   {
    "duration": 14,
    "start_time": "2022-02-16T06:29:42.800Z"
   },
   {
    "duration": 14,
    "start_time": "2022-02-16T06:29:42.817Z"
   },
   {
    "duration": 11,
    "start_time": "2022-02-16T06:29:42.833Z"
   },
   {
    "duration": 8,
    "start_time": "2022-02-16T06:29:42.847Z"
   },
   {
    "duration": 255,
    "start_time": "2022-02-16T06:29:42.857Z"
   },
   {
    "duration": 14,
    "start_time": "2022-02-16T06:29:43.115Z"
   },
   {
    "duration": 11,
    "start_time": "2022-02-16T06:29:43.132Z"
   },
   {
    "duration": 7,
    "start_time": "2022-02-16T06:29:43.146Z"
   },
   {
    "duration": 56,
    "start_time": "2022-02-16T06:29:43.155Z"
   },
   {
    "duration": 10,
    "start_time": "2022-02-16T06:29:43.214Z"
   },
   {
    "duration": 12,
    "start_time": "2022-02-16T06:29:43.227Z"
   },
   {
    "duration": 15,
    "start_time": "2022-02-16T06:29:43.242Z"
   },
   {
    "duration": 4,
    "start_time": "2022-02-16T06:29:43.263Z"
   },
   {
    "duration": 49,
    "start_time": "2022-02-16T06:29:43.271Z"
   },
   {
    "duration": 9,
    "start_time": "2022-02-16T06:29:43.323Z"
   },
   {
    "duration": 17,
    "start_time": "2022-02-16T06:29:43.334Z"
   },
   {
    "duration": 816,
    "start_time": "2022-02-16T06:29:43.353Z"
   },
   {
    "duration": 7,
    "start_time": "2022-02-16T06:29:44.172Z"
   },
   {
    "duration": 7,
    "start_time": "2022-02-16T06:29:44.181Z"
   },
   {
    "duration": 33,
    "start_time": "2022-02-16T06:29:44.211Z"
   },
   {
    "duration": 24,
    "start_time": "2022-02-16T06:29:44.246Z"
   },
   {
    "duration": 40,
    "start_time": "2022-02-16T06:29:44.272Z"
   },
   {
    "duration": 29,
    "start_time": "2022-02-16T06:29:44.314Z"
   },
   {
    "duration": 20,
    "start_time": "2022-02-16T06:29:44.346Z"
   },
   {
    "duration": 45,
    "start_time": "2022-02-16T06:29:44.369Z"
   },
   {
    "duration": 30,
    "start_time": "2022-02-16T06:29:44.416Z"
   },
   {
    "duration": 20,
    "start_time": "2022-02-16T06:29:44.449Z"
   },
   {
    "duration": 50,
    "start_time": "2022-02-16T06:29:44.472Z"
   },
   {
    "duration": 7,
    "start_time": "2022-02-16T06:29:44.525Z"
   },
   {
    "duration": 14,
    "start_time": "2022-02-16T06:29:44.535Z"
   },
   {
    "duration": 8,
    "start_time": "2022-02-16T06:29:44.551Z"
   },
   {
    "duration": 51,
    "start_time": "2022-02-16T06:29:44.561Z"
   },
   {
    "duration": 1097,
    "start_time": "2022-02-16T06:29:44.615Z"
   },
   {
    "duration": 40,
    "start_time": "2022-02-16T06:29:45.715Z"
   },
   {
    "duration": 6,
    "start_time": "2022-02-16T06:29:45.757Z"
   },
   {
    "duration": 53,
    "start_time": "2022-02-16T06:29:45.765Z"
   },
   {
    "duration": 396,
    "start_time": "2022-02-16T06:29:45.820Z"
   },
   {
    "duration": 2482,
    "start_time": "2022-02-16T06:29:46.218Z"
   },
   {
    "duration": 510,
    "start_time": "2022-02-16T06:29:48.702Z"
   },
   {
    "duration": 3621,
    "start_time": "2022-02-16T06:29:49.217Z"
   },
   {
    "duration": 582,
    "start_time": "2022-02-16T06:29:52.841Z"
   },
   {
    "duration": 2878,
    "start_time": "2022-02-16T06:29:53.426Z"
   },
   {
    "duration": 29,
    "start_time": "2022-02-16T06:29:56.311Z"
   },
   {
    "duration": 1523,
    "start_time": "2022-02-16T06:29:56.343Z"
   },
   {
    "duration": 2962,
    "start_time": "2022-02-16T06:29:57.869Z"
   },
   {
    "duration": 1644,
    "start_time": "2022-02-16T06:30:00.834Z"
   },
   {
    "duration": 2935,
    "start_time": "2022-02-16T06:30:02.481Z"
   },
   {
    "duration": 1736,
    "start_time": "2022-02-16T06:30:05.418Z"
   },
   {
    "duration": 3453,
    "start_time": "2022-02-16T06:30:07.157Z"
   },
   {
    "duration": 205,
    "start_time": "2022-02-16T06:38:51.558Z"
   },
   {
    "duration": 172,
    "start_time": "2022-02-16T06:41:04.251Z"
   },
   {
    "duration": 142,
    "start_time": "2022-02-16T06:41:09.144Z"
   },
   {
    "duration": 237,
    "start_time": "2022-02-16T07:09:30.027Z"
   },
   {
    "duration": 1751,
    "start_time": "2022-02-16T07:15:30.451Z"
   },
   {
    "duration": 15470,
    "start_time": "2022-02-16T07:15:32.204Z"
   },
   {
    "duration": 16,
    "start_time": "2022-02-16T07:15:47.677Z"
   },
   {
    "duration": 10,
    "start_time": "2022-02-16T07:15:47.711Z"
   },
   {
    "duration": 13,
    "start_time": "2022-02-16T07:15:47.723Z"
   },
   {
    "duration": 10,
    "start_time": "2022-02-16T07:15:47.738Z"
   },
   {
    "duration": 18,
    "start_time": "2022-02-16T07:15:47.751Z"
   },
   {
    "duration": 79,
    "start_time": "2022-02-16T07:15:47.813Z"
   },
   {
    "duration": 5,
    "start_time": "2022-02-16T07:15:47.910Z"
   },
   {
    "duration": 609,
    "start_time": "2022-02-16T07:15:47.919Z"
   },
   {
    "duration": 16,
    "start_time": "2022-02-16T07:15:48.531Z"
   },
   {
    "duration": 76,
    "start_time": "2022-02-16T07:15:48.550Z"
   },
   {
    "duration": 14,
    "start_time": "2022-02-16T07:15:48.629Z"
   },
   {
    "duration": 10,
    "start_time": "2022-02-16T07:15:48.647Z"
   },
   {
    "duration": 290,
    "start_time": "2022-02-16T07:15:48.712Z"
   },
   {
    "duration": 16,
    "start_time": "2022-02-16T07:15:49.004Z"
   },
   {
    "duration": 12,
    "start_time": "2022-02-16T07:15:49.022Z"
   },
   {
    "duration": 7,
    "start_time": "2022-02-16T07:15:49.037Z"
   },
   {
    "duration": 10,
    "start_time": "2022-02-16T07:15:49.048Z"
   },
   {
    "duration": 55,
    "start_time": "2022-02-16T07:15:49.061Z"
   },
   {
    "duration": 11,
    "start_time": "2022-02-16T07:15:49.119Z"
   },
   {
    "duration": 14,
    "start_time": "2022-02-16T07:15:49.133Z"
   },
   {
    "duration": 4,
    "start_time": "2022-02-16T07:15:49.156Z"
   },
   {
    "duration": 50,
    "start_time": "2022-02-16T07:15:49.164Z"
   },
   {
    "duration": 10,
    "start_time": "2022-02-16T07:15:49.217Z"
   },
   {
    "duration": 25,
    "start_time": "2022-02-16T07:15:49.230Z"
   },
   {
    "duration": 800,
    "start_time": "2022-02-16T07:15:49.257Z"
   },
   {
    "duration": 5,
    "start_time": "2022-02-16T07:15:50.060Z"
   },
   {
    "duration": 8,
    "start_time": "2022-02-16T07:15:50.067Z"
   },
   {
    "duration": 60,
    "start_time": "2022-02-16T07:15:50.078Z"
   },
   {
    "duration": 26,
    "start_time": "2022-02-16T07:15:50.141Z"
   },
   {
    "duration": 46,
    "start_time": "2022-02-16T07:15:50.169Z"
   },
   {
    "duration": 29,
    "start_time": "2022-02-16T07:15:50.218Z"
   },
   {
    "duration": 20,
    "start_time": "2022-02-16T07:15:50.250Z"
   },
   {
    "duration": 50,
    "start_time": "2022-02-16T07:15:50.272Z"
   },
   {
    "duration": 34,
    "start_time": "2022-02-16T07:15:50.324Z"
   },
   {
    "duration": 59,
    "start_time": "2022-02-16T07:15:50.361Z"
   },
   {
    "duration": 14,
    "start_time": "2022-02-16T07:15:50.422Z"
   },
   {
    "duration": 7,
    "start_time": "2022-02-16T07:15:50.439Z"
   },
   {
    "duration": 15,
    "start_time": "2022-02-16T07:15:50.449Z"
   },
   {
    "duration": 50,
    "start_time": "2022-02-16T07:15:50.467Z"
   },
   {
    "duration": 8,
    "start_time": "2022-02-16T07:15:50.520Z"
   },
   {
    "duration": 1146,
    "start_time": "2022-02-16T07:15:50.531Z"
   },
   {
    "duration": 57,
    "start_time": "2022-02-16T07:15:51.680Z"
   },
   {
    "duration": 7,
    "start_time": "2022-02-16T07:15:51.739Z"
   },
   {
    "duration": 25,
    "start_time": "2022-02-16T07:15:51.749Z"
   },
   {
    "duration": 424,
    "start_time": "2022-02-16T07:15:51.777Z"
   },
   {
    "duration": 2448,
    "start_time": "2022-02-16T07:15:52.203Z"
   },
   {
    "duration": 498,
    "start_time": "2022-02-16T07:15:54.653Z"
   },
   {
    "duration": 3415,
    "start_time": "2022-02-16T07:15:55.154Z"
   },
   {
    "duration": 578,
    "start_time": "2022-02-16T07:15:58.572Z"
   },
   {
    "duration": 3013,
    "start_time": "2022-02-16T07:15:59.152Z"
   },
   {
    "duration": 47,
    "start_time": "2022-02-16T07:16:02.167Z"
   },
   {
    "duration": 1630,
    "start_time": "2022-02-16T07:16:02.218Z"
   },
   {
    "duration": 2986,
    "start_time": "2022-02-16T07:16:03.850Z"
   },
   {
    "duration": 1623,
    "start_time": "2022-02-16T07:16:06.839Z"
   },
   {
    "duration": 2943,
    "start_time": "2022-02-16T07:16:08.464Z"
   },
   {
    "duration": 1690,
    "start_time": "2022-02-16T07:16:11.411Z"
   },
   {
    "duration": 3443,
    "start_time": "2022-02-16T07:16:13.111Z"
   }
  ],
  "kernelspec": {
   "display_name": "Python 3",
   "language": "python",
   "name": "python3"
  },
  "language_info": {
   "codemirror_mode": {
    "name": "ipython",
    "version": 3
   },
   "file_extension": ".py",
   "mimetype": "text/x-python",
   "name": "python",
   "nbconvert_exporter": "python",
   "pygments_lexer": "ipython3",
   "version": "3.8.8"
  },
  "toc": {
   "base_numbering": 1,
   "nav_menu": {},
   "number_sections": true,
   "sideBar": true,
   "skip_h1_title": true,
   "title_cell": "Table of Contents",
   "title_sidebar": "Contents",
   "toc_cell": false,
   "toc_position": {
    "height": "613.778px",
    "left": "467px",
    "top": "174.139px",
    "width": "323.903px"
   },
   "toc_section_display": true,
   "toc_window_display": true
  }
 },
 "nbformat": 4,
 "nbformat_minor": 5
}
