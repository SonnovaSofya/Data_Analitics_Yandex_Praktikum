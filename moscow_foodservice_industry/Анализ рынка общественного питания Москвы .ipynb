{
 "cells": [
  {
   "cell_type": "markdown",
   "id": "80d2bbec",
   "metadata": {},
   "source": [
    "# Описание проекта\n",
    "\n",
    "Вы решили открыть небольшое кафе в Москве. Оно оригинальное — гостей должны обслуживать роботы. Проект многообещающий, но дорогой. Вместе с партнёрами вы решились обратиться к инвесторам. Их интересует текущее положение дел на рынке — сможете ли вы снискать популярность на долгое время, когда все зеваки насмотрятся на роботов-официантов?\n",
    "Вы — гуру аналитики, и партнёры просят вас подготовить исследование рынка. У вас есть открытые данные о заведениях общественного питания в Москве."
   ]
  },
  {
   "cell_type": "markdown",
   "id": "5b2f877e",
   "metadata": {},
   "source": [
    "# Описание данных <a name=\"paragraph1\"></a>"
   ]
  },
  {
   "cell_type": "code",
   "execution_count": 1,
   "id": "b9087f44",
   "metadata": {},
   "outputs": [],
   "source": [
    "import pandas as pd\n",
    "import seaborn as sns\n",
    "import plotly.express as px\n",
    "import matplotlib.pyplot as plt\n",
    "import requests\n",
    "import bs4\n",
    "import urllib.request\n",
    "import re\n",
    "from bs4 import BeautifulSoup\n",
    "from io import BytesIO"
   ]
  },
  {
   "cell_type": "code",
   "execution_count": 2,
   "id": "2f0e295e",
   "metadata": {},
   "outputs": [
    {
     "data": {
      "text/html": [
       "<div>\n",
       "<style scoped>\n",
       "    .dataframe tbody tr th:only-of-type {\n",
       "        vertical-align: middle;\n",
       "    }\n",
       "\n",
       "    .dataframe tbody tr th {\n",
       "        vertical-align: top;\n",
       "    }\n",
       "\n",
       "    .dataframe thead th {\n",
       "        text-align: right;\n",
       "    }\n",
       "</style>\n",
       "<table border=\"1\" class=\"dataframe\">\n",
       "  <thead>\n",
       "    <tr style=\"text-align: right;\">\n",
       "      <th></th>\n",
       "      <th>id</th>\n",
       "      <th>object_name</th>\n",
       "      <th>chain</th>\n",
       "      <th>object_type</th>\n",
       "      <th>address</th>\n",
       "      <th>number</th>\n",
       "    </tr>\n",
       "  </thead>\n",
       "  <tbody>\n",
       "    <tr>\n",
       "      <th>0</th>\n",
       "      <td>151635</td>\n",
       "      <td>СМЕТАНА</td>\n",
       "      <td>нет</td>\n",
       "      <td>кафе</td>\n",
       "      <td>город Москва, улица Егора Абакумова, дом 9</td>\n",
       "      <td>48</td>\n",
       "    </tr>\n",
       "    <tr>\n",
       "      <th>1</th>\n",
       "      <td>77874</td>\n",
       "      <td>Родник</td>\n",
       "      <td>нет</td>\n",
       "      <td>кафе</td>\n",
       "      <td>город Москва, улица Талалихина, дом 2/1, корпус 1</td>\n",
       "      <td>35</td>\n",
       "    </tr>\n",
       "    <tr>\n",
       "      <th>2</th>\n",
       "      <td>24309</td>\n",
       "      <td>Кафе «Академия»</td>\n",
       "      <td>нет</td>\n",
       "      <td>кафе</td>\n",
       "      <td>город Москва, Абельмановская улица, дом 6</td>\n",
       "      <td>95</td>\n",
       "    </tr>\n",
       "    <tr>\n",
       "      <th>3</th>\n",
       "      <td>21894</td>\n",
       "      <td>ПИЦЦЕТОРИЯ</td>\n",
       "      <td>да</td>\n",
       "      <td>кафе</td>\n",
       "      <td>город Москва, Абрамцевская улица, дом 1</td>\n",
       "      <td>40</td>\n",
       "    </tr>\n",
       "    <tr>\n",
       "      <th>4</th>\n",
       "      <td>119365</td>\n",
       "      <td>Кафе «Вишневая метель»</td>\n",
       "      <td>нет</td>\n",
       "      <td>кафе</td>\n",
       "      <td>город Москва, Абрамцевская улица, дом 9, корпус 1</td>\n",
       "      <td>50</td>\n",
       "    </tr>\n",
       "  </tbody>\n",
       "</table>\n",
       "</div>"
      ],
      "text/plain": [
       "       id             object_name chain object_type  \\\n",
       "0  151635                 СМЕТАНА   нет        кафе   \n",
       "1   77874                  Родник   нет        кафе   \n",
       "2   24309         Кафе «Академия»   нет        кафе   \n",
       "3   21894              ПИЦЦЕТОРИЯ    да        кафе   \n",
       "4  119365  Кафе «Вишневая метель»   нет        кафе   \n",
       "\n",
       "                                             address  number  \n",
       "0         город Москва, улица Егора Абакумова, дом 9      48  \n",
       "1  город Москва, улица Талалихина, дом 2/1, корпус 1      35  \n",
       "2          город Москва, Абельмановская улица, дом 6      95  \n",
       "3            город Москва, Абрамцевская улица, дом 1      40  \n",
       "4  город Москва, Абрамцевская улица, дом 9, корпус 1      50  "
      ]
     },
     "execution_count": 2,
     "metadata": {},
     "output_type": "execute_result"
    }
   ],
   "source": [
    "rest_data.head()"
   ]
  },
  {
   "cell_type": "code",
   "execution_count": 3,
   "id": "37a5a64f",
   "metadata": {},
   "outputs": [
    {
     "name": "stdout",
     "output_type": "stream",
     "text": [
      "<class 'pandas.core.frame.DataFrame'>\n",
      "RangeIndex: 15366 entries, 0 to 15365\n",
      "Data columns (total 6 columns):\n",
      " #   Column       Non-Null Count  Dtype \n",
      "---  ------       --------------  ----- \n",
      " 0   id           15366 non-null  int64 \n",
      " 1   object_name  15366 non-null  object\n",
      " 2   chain        15366 non-null  object\n",
      " 3   object_type  15366 non-null  object\n",
      " 4   address      15366 non-null  object\n",
      " 5   number       15366 non-null  int64 \n",
      "dtypes: int64(2), object(4)\n",
      "memory usage: 720.4+ KB\n"
     ]
    }
   ],
   "source": [
    "rest_data.info()"
   ]
  },
  {
   "cell_type": "markdown",
   "id": "63f8ea1e",
   "metadata": {},
   "source": [
    "**Вывод**\n",
    "\n",
    "В нашем распоряжении оказались данные о заведениях общественного питания г. Москвы. Более 15тыс заведений.\n",
    "\n",
    "Заметили, что в датасете отсуствуют пропуски и некорректные типы данных. \n",
    "Проверим датасет на наличие дубликатов и можно будет приступать к анализу данных "
   ]
  },
  {
   "cell_type": "markdown",
   "id": "357c5fea",
   "metadata": {},
   "source": [
    "# Предобработка данных <a name=\"paragraph2\"></a>"
   ]
  },
  {
   "cell_type": "markdown",
   "id": "4a1abda5",
   "metadata": {},
   "source": [
    "## Дубликаты <a name=\"subparagraph1\"></a>"
   ]
  },
  {
   "cell_type": "code",
   "execution_count": 4,
   "id": "cdcb52e1",
   "metadata": {},
   "outputs": [
    {
     "data": {
      "text/plain": [
       "82"
      ]
     },
     "execution_count": 4,
     "metadata": {},
     "output_type": "execute_result"
    }
   ],
   "source": [
    "# Выявили явные дупликаты (повторяется все кроме id). Находим 82 повторяющиеся строки\n",
    "rest_data.duplicated(subset=['object_name', 'chain', 'object_type', 'address', 'number']).sum()"
   ]
  },
  {
   "cell_type": "markdown",
   "id": "24406fb1",
   "metadata": {},
   "source": [
    "Приведем названия всех заведений к нижнему регистру и перепроверим наличие дубликатов"
   ]
  },
  {
   "cell_type": "code",
   "execution_count": 5,
   "id": "8cfab611",
   "metadata": {},
   "outputs": [],
   "source": [
    "rest_data['object_name'] = rest_data['object_name'].str.lower()"
   ]
  },
  {
   "cell_type": "code",
   "execution_count": 6,
   "id": "02df2918",
   "metadata": {},
   "outputs": [
    {
     "data": {
      "text/plain": [
       "85"
      ]
     },
     "execution_count": 6,
     "metadata": {},
     "output_type": "execute_result"
    }
   ],
   "source": [
    "rest_data.duplicated(subset=['object_name', 'chain', 'object_type', 'address', 'number']).sum()"
   ]
  },
  {
   "cell_type": "markdown",
   "id": "7d06e269",
   "metadata": {},
   "source": [
    "Удалим дубликаты из датасета"
   ]
  },
  {
   "cell_type": "code",
   "execution_count": 7,
   "id": "83e7d065",
   "metadata": {},
   "outputs": [],
   "source": [
    "rest_data = rest_data.drop_duplicates(subset=['object_name', 'chain', 'object_type', 'address', 'number'])"
   ]
  },
  {
   "cell_type": "code",
   "execution_count": 8,
   "id": "7296c18f",
   "metadata": {},
   "outputs": [
    {
     "name": "stdout",
     "output_type": "stream",
     "text": [
      "<class 'pandas.core.frame.DataFrame'>\n",
      "Int64Index: 15281 entries, 0 to 15365\n",
      "Data columns (total 6 columns):\n",
      " #   Column       Non-Null Count  Dtype \n",
      "---  ------       --------------  ----- \n",
      " 0   id           15281 non-null  int64 \n",
      " 1   object_name  15281 non-null  object\n",
      " 2   chain        15281 non-null  object\n",
      " 3   object_type  15281 non-null  object\n",
      " 4   address      15281 non-null  object\n",
      " 5   number       15281 non-null  int64 \n",
      "dtypes: int64(2), object(4)\n",
      "memory usage: 835.7+ KB\n"
     ]
    }
   ],
   "source": [
    "rest_data.info()"
   ]
  },
  {
   "cell_type": "markdown",
   "id": "94d84f1d",
   "metadata": {},
   "source": [
    "## Аномальные значения "
   ]
  },
  {
   "cell_type": "markdown",
   "id": "e93196b7",
   "metadata": {},
   "source": [
    "Изучим наш количественный показатель - количество посадочных мест "
   ]
  },
  {
   "cell_type": "code",
   "execution_count": 9,
   "id": "067de269",
   "metadata": {},
   "outputs": [
    {
     "data": {
      "text/plain": [
       "count    15281.000000\n",
       "mean        59.788234\n",
       "std         74.843042\n",
       "min          0.000000\n",
       "25%         14.000000\n",
       "50%         40.000000\n",
       "75%         80.000000\n",
       "max       1700.000000\n",
       "Name: number, dtype: float64"
      ]
     },
     "execution_count": 9,
     "metadata": {},
     "output_type": "execute_result"
    }
   ],
   "source": [
    "rest_data['number'].describe()"
   ]
  },
  {
   "cell_type": "code",
   "execution_count": 10,
   "id": "6019f6fe",
   "metadata": {},
   "outputs": [
    {
     "data": {
      "text/plain": [
       "1588"
      ]
     },
     "execution_count": 10,
     "metadata": {},
     "output_type": "execute_result"
    }
   ],
   "source": [
    "rest_data[rest_data['number'] == 0]['number'].count()"
   ]
  },
  {
   "cell_type": "code",
   "execution_count": 11,
   "id": "13f9a6bf",
   "metadata": {},
   "outputs": [
    {
     "data": {
      "text/plain": [
       "123"
      ]
     },
     "execution_count": 11,
     "metadata": {},
     "output_type": "execute_result"
    }
   ],
   "source": [
    "rest_data[rest_data['number'] > 300]['number'].count()"
   ]
  },
  {
   "cell_type": "code",
   "execution_count": 12,
   "id": "8ff2fd85",
   "metadata": {},
   "outputs": [
    {
     "data": {
      "text/plain": [
       "Text(0, 0.5, 'Количество посадочных мест')"
      ]
     },
     "execution_count": 12,
     "metadata": {},
     "output_type": "execute_result"
    },
    {
     "data": {
      "image/png": "[encoded data removed]",
      "text/plain": [
       "<Figure size 432x288 with 1 Axes>"
      ]
     },
     "metadata": {
      "needs_background": "light"
     },
     "output_type": "display_data"
    }
   ],
   "source": [
    "pic = sns.violinplot(y=rest_data[\"number\"], color='#69b3a2')\n",
    "pic.set_ylim(-100, 500)\n",
    "\n",
    "pic.set_title(\"Распределение количества посадочных мест\")\n",
    "pic.set_xlabel('')\n",
    "pic.set_ylabel('Количество посадочных мест')"
   ]
  },
  {
   "cell_type": "markdown",
   "id": "0b9013a8",
   "metadata": {},
   "source": [
    "**Вывод**\n",
    "\n",
    "   * Удалили из датасета дубликаты\n",
    "   * Изучили количественный показатель - кол-во посадочных мест\n",
    "       * Медианное количество посадочных мест - 40. Уведели, что в датасете есть аномально большие показатели данного параметра. 3 квантиль - 80 посадочных мест. Макс значение - 1700 посадочных мест. Решаем оставить аномальные значения в датасете, так как это могут быть значимые/популярные заведения общственного питания\n",
    "       "
   ]
  },
  {
   "cell_type": "markdown",
   "id": "ba356c88",
   "metadata": {},
   "source": [
    "# Исследовательская часть <a name=\"paragraph3\"></a>"
   ]
  },
  {
   "cell_type": "markdown",
   "id": "95fb3aaa",
   "metadata": {},
   "source": [
    "## Соотношение видов объектов общественного питания по количеству\n"
   ]
  },
  {
   "cell_type": "markdown",
   "id": "c0a74ec6",
   "metadata": {},
   "source": [
    "Сгруппируем данные по типу объекта (кафе, ресторан, столовая и тд) и построим столбчатую диаграмму"
   ]
  },
  {
   "cell_type": "code",
   "execution_count": 13,
   "id": "26d5c80c",
   "metadata": {},
   "outputs": [
    {
     "data": {
      "text/html": [
       "<div>\n",
       "<style scoped>\n",
       "    .dataframe tbody tr th:only-of-type {\n",
       "        vertical-align: middle;\n",
       "    }\n",
       "\n",
       "    .dataframe tbody tr th {\n",
       "        vertical-align: top;\n",
       "    }\n",
       "\n",
       "    .dataframe thead th {\n",
       "        text-align: right;\n",
       "    }\n",
       "</style>\n",
       "<table border=\"1\" class=\"dataframe\">\n",
       "  <thead>\n",
       "    <tr style=\"text-align: right;\">\n",
       "      <th></th>\n",
       "      <th>object_type</th>\n",
       "      <th>id</th>\n",
       "    </tr>\n",
       "  </thead>\n",
       "  <tbody>\n",
       "    <tr>\n",
       "      <th>3</th>\n",
       "      <td>кафе</td>\n",
       "      <td>6071</td>\n",
       "    </tr>\n",
       "    <tr>\n",
       "      <th>8</th>\n",
       "      <td>столовая</td>\n",
       "      <td>2584</td>\n",
       "    </tr>\n",
       "    <tr>\n",
       "      <th>7</th>\n",
       "      <td>ресторан</td>\n",
       "      <td>2282</td>\n",
       "    </tr>\n",
       "    <tr>\n",
       "      <th>6</th>\n",
       "      <td>предприятие быстрого обслуживания</td>\n",
       "      <td>1897</td>\n",
       "    </tr>\n",
       "    <tr>\n",
       "      <th>0</th>\n",
       "      <td>бар</td>\n",
       "      <td>855</td>\n",
       "    </tr>\n",
       "    <tr>\n",
       "      <th>1</th>\n",
       "      <td>буфет</td>\n",
       "      <td>576</td>\n",
       "    </tr>\n",
       "    <tr>\n",
       "      <th>4</th>\n",
       "      <td>кафетерий</td>\n",
       "      <td>395</td>\n",
       "    </tr>\n",
       "    <tr>\n",
       "      <th>2</th>\n",
       "      <td>закусочная</td>\n",
       "      <td>348</td>\n",
       "    </tr>\n",
       "    <tr>\n",
       "      <th>5</th>\n",
       "      <td>магазин (отдел кулинарии)</td>\n",
       "      <td>273</td>\n",
       "    </tr>\n",
       "  </tbody>\n",
       "</table>\n",
       "</div>"
      ],
      "text/plain": [
       "                         object_type    id\n",
       "3                               кафе  6071\n",
       "8                           столовая  2584\n",
       "7                           ресторан  2282\n",
       "6  предприятие быстрого обслуживания  1897\n",
       "0                                бар   855\n",
       "1                              буфет   576\n",
       "4                          кафетерий   395\n",
       "2                         закусочная   348\n",
       "5          магазин (отдел кулинарии)   273"
      ]
     },
     "execution_count": 13,
     "metadata": {},
     "output_type": "execute_result"
    }
   ],
   "source": [
    "objects = rest_data.groupby('object_type')['id'].count().reset_index().sort_values(by='id', ascending=False)\n",
    "objects"
   ]
  },
  {
   "cell_type": "code",
   "execution_count": 14,
   "id": "a9cf6f62",
   "metadata": {},
   "outputs": [
    {
     "data": {
      "text/plain": [
       "Text(0, 0.5, 'Тип объекта общественного питания')"
      ]
     },
     "execution_count": 14,
     "metadata": {},
     "output_type": "execute_result"
    },
    {
     "data": {
      "image/png": "[encoded data removed]",
      "text/plain": [
       "<Figure size 1440x576 with 1 Axes>"
      ]
     },
     "metadata": {
      "needs_background": "light"
     },
     "output_type": "display_data"
    }
   ],
   "source": [
    "#Устанавливаем размер графика\n",
    "plt.figure(figsize=(20, 8))\n",
    "\n",
    "#Строим barplot\n",
    "object_types_by_num = sns.barplot(\n",
    "    x=\"id\", \n",
    "    y='object_type',\n",
    "    data=objects,\n",
    "    color='#69b3a2',\n",
    "    ci=None);\n",
    "\n",
    "# Название графика и осей\n",
    "\n",
    "object_types_by_num.set_title(\"Количество объектов общественного питания по типу заведения\")\n",
    "object_types_by_num.set_xlabel('Количество объектов')\n",
    "object_types_by_num.set_ylabel('Тип объекта общественного питания')"
   ]
  },
  {
   "cell_type": "markdown",
   "id": "edb1dd4d",
   "metadata": {},
   "source": [
    "**Вывод**\n",
    "\n",
    "Всего в выборке наблюдаем 9 типов заведений:\n",
    "   \n",
    "   * Кафе\n",
    "   * Столовая\n",
    "   * Ресторан\n",
    "   * Предприятие быстрогоо обслуживания\n",
    "   * Бар\n",
    "   * Буфет\n",
    "   * Кафетерий\n",
    "   * Закусочная\n",
    "   * Магазин (отдел кулинарии)\n",
    "   \n",
    "\n",
    "С большим отрывом (более чем в 2 раза) лидируют \"Кафе\" - более 6тыс заведений.\n",
    "В выборке также встречается более 2тыс столовых и ресторанов и чуть меньше 2 тыс предприятий быстрого обслуживания.\n",
    "\n",
    "Остальные типы заведений встречаются 1тыс и менее раз "
   ]
  },
  {
   "cell_type": "markdown",
   "id": "e717491d",
   "metadata": {},
   "source": [
    "## Соотношение сетевых и несетевых заведений по количеству\n"
   ]
  },
  {
   "cell_type": "code",
   "execution_count": 15,
   "id": "db0a2928",
   "metadata": {},
   "outputs": [
    {
     "data": {
      "text/html": [
       "<div>\n",
       "<style scoped>\n",
       "    .dataframe tbody tr th:only-of-type {\n",
       "        vertical-align: middle;\n",
       "    }\n",
       "\n",
       "    .dataframe tbody tr th {\n",
       "        vertical-align: top;\n",
       "    }\n",
       "\n",
       "    .dataframe thead th {\n",
       "        text-align: right;\n",
       "    }\n",
       "</style>\n",
       "<table border=\"1\" class=\"dataframe\">\n",
       "  <thead>\n",
       "    <tr style=\"text-align: right;\">\n",
       "      <th></th>\n",
       "      <th>chain</th>\n",
       "      <th>id</th>\n",
       "    </tr>\n",
       "  </thead>\n",
       "  <tbody>\n",
       "    <tr>\n",
       "      <th>0</th>\n",
       "      <td>да</td>\n",
       "      <td>2964</td>\n",
       "    </tr>\n",
       "    <tr>\n",
       "      <th>1</th>\n",
       "      <td>нет</td>\n",
       "      <td>12317</td>\n",
       "    </tr>\n",
       "  </tbody>\n",
       "</table>\n",
       "</div>"
      ],
      "text/plain": [
       "  chain     id\n",
       "0    да   2964\n",
       "1   нет  12317"
      ]
     },
     "execution_count": 15,
     "metadata": {},
     "output_type": "execute_result"
    }
   ],
   "source": [
    "chains = rest_data.groupby('chain')['id'].count().reset_index()\n",
    "chains"
   ]
  },
  {
   "cell_type": "code",
   "execution_count": 84,
   "id": "67359cb2",
   "metadata": {},
   "outputs": [
    {
     "data": {
      "image/png": "[encoded data removed]",
      "text/plain": [
       "<Figure size 432x288 with 1 Axes>"
      ]
     },
     "metadata": {},
     "output_type": "display_data"
    }
   ],
   "source": [
    "#Создаем pie chart\n",
    "\n",
    "plt.pie(chains['id'], labels = chains['chain'], colors = ['#fdb4a7', '#69b3a2'], autopct='%.0f%%')\n",
    "plt.title(\"Доля сетевых заведений общественного питания\")\n",
    "plt.show()"
   ]
  },
  {
   "cell_type": "markdown",
   "id": "6318bb03",
   "metadata": {},
   "source": [
    "**Вывод**\n",
    "\n",
    "Около 20% выборки относится к сетевым заведениям "
   ]
  },
  {
   "cell_type": "markdown",
   "id": "848b02b7",
   "metadata": {},
   "source": [
    "## Виды объектов общественного питания с сетевым распространением\n",
    "\n",
    "Выявить для какого вида объекта общественного питания характерно сетевое распространение. Для этого создадим срез, в котором останутся только сетевые заведения, произведем группировку по типу объекта и потроим график\n"
   ]
  },
  {
   "cell_type": "code",
   "execution_count": 17,
   "id": "997eaa77",
   "metadata": {},
   "outputs": [
    {
     "data": {
      "text/html": [
       "<div>\n",
       "<style scoped>\n",
       "    .dataframe tbody tr th:only-of-type {\n",
       "        vertical-align: middle;\n",
       "    }\n",
       "\n",
       "    .dataframe tbody tr th {\n",
       "        vertical-align: top;\n",
       "    }\n",
       "\n",
       "    .dataframe thead th {\n",
       "        text-align: right;\n",
       "    }\n",
       "</style>\n",
       "<table border=\"1\" class=\"dataframe\">\n",
       "  <thead>\n",
       "    <tr style=\"text-align: right;\">\n",
       "      <th></th>\n",
       "      <th>object_type</th>\n",
       "      <th>id</th>\n",
       "    </tr>\n",
       "  </thead>\n",
       "  <tbody>\n",
       "    <tr>\n",
       "      <th>3</th>\n",
       "      <td>кафе</td>\n",
       "      <td>1396</td>\n",
       "    </tr>\n",
       "    <tr>\n",
       "      <th>6</th>\n",
       "      <td>предприятие быстрого обслуживания</td>\n",
       "      <td>788</td>\n",
       "    </tr>\n",
       "    <tr>\n",
       "      <th>7</th>\n",
       "      <td>ресторан</td>\n",
       "      <td>543</td>\n",
       "    </tr>\n",
       "    <tr>\n",
       "      <th>5</th>\n",
       "      <td>магазин (отдел кулинарии)</td>\n",
       "      <td>78</td>\n",
       "    </tr>\n",
       "    <tr>\n",
       "      <th>2</th>\n",
       "      <td>закусочная</td>\n",
       "      <td>56</td>\n",
       "    </tr>\n",
       "    <tr>\n",
       "      <th>4</th>\n",
       "      <td>кафетерий</td>\n",
       "      <td>52</td>\n",
       "    </tr>\n",
       "    <tr>\n",
       "      <th>0</th>\n",
       "      <td>бар</td>\n",
       "      <td>37</td>\n",
       "    </tr>\n",
       "    <tr>\n",
       "      <th>1</th>\n",
       "      <td>буфет</td>\n",
       "      <td>11</td>\n",
       "    </tr>\n",
       "    <tr>\n",
       "      <th>8</th>\n",
       "      <td>столовая</td>\n",
       "      <td>3</td>\n",
       "    </tr>\n",
       "  </tbody>\n",
       "</table>\n",
       "</div>"
      ],
      "text/plain": [
       "                         object_type    id\n",
       "3                               кафе  1396\n",
       "6  предприятие быстрого обслуживания   788\n",
       "7                           ресторан   543\n",
       "5          магазин (отдел кулинарии)    78\n",
       "2                         закусочная    56\n",
       "4                          кафетерий    52\n",
       "0                                бар    37\n",
       "1                              буфет    11\n",
       "8                           столовая     3"
      ]
     },
     "execution_count": 17,
     "metadata": {},
     "output_type": "execute_result"
    }
   ],
   "source": [
    "chained_objects = rest_data[rest_data['chain'] == 'да'].groupby(\n",
    "    'object_type')['id'].count().reset_index().sort_values(by='id', ascending=False).head(10)\n",
    "chained_objects"
   ]
  },
  {
   "cell_type": "code",
   "execution_count": 18,
   "id": "58889987",
   "metadata": {
    "scrolled": true
   },
   "outputs": [
    {
     "data": {
      "text/plain": [
       "Text(0.5, 0, 'Количество объектов')"
      ]
     },
     "execution_count": 18,
     "metadata": {},
     "output_type": "execute_result"
    },
    {
     "data": {
      "image/png": "[encoded data removed]",
      "text/plain": [
       "<Figure size 1440x720 with 1 Axes>"
      ]
     },
     "metadata": {
      "needs_background": "light"
     },
     "output_type": "display_data"
    }
   ],
   "source": [
    "# Устанавливаем размер графика\n",
    "plt.figure(figsize=(20, 10))\n",
    "\n",
    "# Строим barplot\n",
    "a = sns.barplot(\n",
    "    x=\"id\", \n",
    "    y='object_type',\n",
    "    data= chained_objects,\n",
    "    color='#69b3a2', ci=None)\n",
    "\n",
    "# Название графика и осей\n",
    "a.set_title(\"Сетевое распространение по типу объекта общественного питания\")\n",
    "a.set_ylabel(\"Тип объекта общественного питания\")\n",
    "a.set_xlabel('Количество объектов')\n"
   ]
  },
  {
   "cell_type": "markdown",
   "id": "e55527c4",
   "metadata": {},
   "source": [
    "Топ наименований сетевых заведений с наибольшим количеством точек в Москве"
   ]
  },
  {
   "cell_type": "code",
   "execution_count": 19,
   "id": "4c354846",
   "metadata": {},
   "outputs": [
    {
     "data": {
      "text/html": [
       "<div>\n",
       "<style scoped>\n",
       "    .dataframe tbody tr th:only-of-type {\n",
       "        vertical-align: middle;\n",
       "    }\n",
       "\n",
       "    .dataframe tbody tr th {\n",
       "        vertical-align: top;\n",
       "    }\n",
       "\n",
       "    .dataframe thead th {\n",
       "        text-align: right;\n",
       "    }\n",
       "</style>\n",
       "<table border=\"1\" class=\"dataframe\">\n",
       "  <thead>\n",
       "    <tr style=\"text-align: right;\">\n",
       "      <th></th>\n",
       "      <th>object_name</th>\n",
       "      <th>id</th>\n",
       "    </tr>\n",
       "  </thead>\n",
       "  <tbody>\n",
       "    <tr>\n",
       "      <th>0</th>\n",
       "      <td>шоколадница</td>\n",
       "      <td>157</td>\n",
       "    </tr>\n",
       "    <tr>\n",
       "      <th>1</th>\n",
       "      <td>kfc</td>\n",
       "      <td>155</td>\n",
       "    </tr>\n",
       "    <tr>\n",
       "      <th>2</th>\n",
       "      <td>макдоналдс</td>\n",
       "      <td>150</td>\n",
       "    </tr>\n",
       "    <tr>\n",
       "      <th>3</th>\n",
       "      <td>бургер кинг</td>\n",
       "      <td>137</td>\n",
       "    </tr>\n",
       "    <tr>\n",
       "      <th>4</th>\n",
       "      <td>теремок</td>\n",
       "      <td>94</td>\n",
       "    </tr>\n",
       "    <tr>\n",
       "      <th>5</th>\n",
       "      <td>крошка картошка</td>\n",
       "      <td>90</td>\n",
       "    </tr>\n",
       "    <tr>\n",
       "      <th>6</th>\n",
       "      <td>домино'с пицца</td>\n",
       "      <td>90</td>\n",
       "    </tr>\n",
       "    <tr>\n",
       "      <th>7</th>\n",
       "      <td>милти</td>\n",
       "      <td>72</td>\n",
       "    </tr>\n",
       "    <tr>\n",
       "      <th>8</th>\n",
       "      <td>суши wok</td>\n",
       "      <td>72</td>\n",
       "    </tr>\n",
       "    <tr>\n",
       "      <th>9</th>\n",
       "      <td>папа джонс</td>\n",
       "      <td>51</td>\n",
       "    </tr>\n",
       "  </tbody>\n",
       "</table>\n",
       "</div>"
      ],
      "text/plain": [
       "       object_name   id\n",
       "0      шоколадница  157\n",
       "1              kfc  155\n",
       "2       макдоналдс  150\n",
       "3      бургер кинг  137\n",
       "4          теремок   94\n",
       "5  крошка картошка   90\n",
       "6   домино'с пицца   90\n",
       "7            милти   72\n",
       "8         суши wok   72\n",
       "9       папа джонс   51"
      ]
     },
     "execution_count": 19,
     "metadata": {},
     "output_type": "execute_result"
    }
   ],
   "source": [
    "chained_id_count = rest_data[rest_data['chain'] == 'да'].groupby('object_name')['id'].count().sort_values(ascending=False).reset_index().head(10)\n",
    "chained_id_count\n"
   ]
  },
  {
   "cell_type": "code",
   "execution_count": 20,
   "id": "40334b74",
   "metadata": {},
   "outputs": [
    {
     "data": {
      "text/plain": [
       "Text(0.5, 0, 'Количество объектов')"
      ]
     },
     "execution_count": 20,
     "metadata": {},
     "output_type": "execute_result"
    },
    {
     "data": {
      "image/png": "[encoded data removed]",
      "text/plain": [
       "<Figure size 1440x720 with 1 Axes>"
      ]
     },
     "metadata": {
      "needs_background": "light"
     },
     "output_type": "display_data"
    }
   ],
   "source": [
    "# Устанавливаем размер графика\n",
    "plt.figure(figsize=(20, 10))\n",
    "\n",
    "# Строим barplot\n",
    "best_chain = sns.barplot(\n",
    "    x=\"id\", \n",
    "    y='object_name',\n",
    "    data= chained_id_count,\n",
    "    color='#69b3a2',\n",
    "    ci=None)\n",
    "\n",
    "# Название графика и осей\n",
    "best_chain.set_title(\"Топ-10 сетевых объектов общественного питания\")\n",
    "best_chain.set_ylabel(\"Название объекта общественного питания\")\n",
    "best_chain.set_xlabel('Количество объектов')\n"
   ]
  },
  {
   "cell_type": "markdown",
   "id": "f233004a",
   "metadata": {},
   "source": [
    "Добавила в датасет новый столбец с числовым типом данный, отображащий принадлежность заведения к сети. \n",
    "\n",
    "Если заведение сетевое, значение равно 1\n",
    "\n",
    "Если несетевое - 0"
   ]
  },
  {
   "cell_type": "code",
   "execution_count": 21,
   "id": "5b24e5cd",
   "metadata": {},
   "outputs": [
    {
     "data": {
      "text/html": [
       "<div>\n",
       "<style scoped>\n",
       "    .dataframe tbody tr th:only-of-type {\n",
       "        vertical-align: middle;\n",
       "    }\n",
       "\n",
       "    .dataframe tbody tr th {\n",
       "        vertical-align: top;\n",
       "    }\n",
       "\n",
       "    .dataframe thead th {\n",
       "        text-align: right;\n",
       "    }\n",
       "</style>\n",
       "<table border=\"1\" class=\"dataframe\">\n",
       "  <thead>\n",
       "    <tr style=\"text-align: right;\">\n",
       "      <th></th>\n",
       "      <th>id</th>\n",
       "      <th>object_name</th>\n",
       "      <th>chain</th>\n",
       "      <th>object_type</th>\n",
       "      <th>address</th>\n",
       "      <th>number</th>\n",
       "      <th>int_chains</th>\n",
       "    </tr>\n",
       "  </thead>\n",
       "  <tbody>\n",
       "    <tr>\n",
       "      <th>0</th>\n",
       "      <td>151635</td>\n",
       "      <td>сметана</td>\n",
       "      <td>нет</td>\n",
       "      <td>кафе</td>\n",
       "      <td>город Москва, улица Егора Абакумова, дом 9</td>\n",
       "      <td>48</td>\n",
       "      <td>0</td>\n",
       "    </tr>\n",
       "    <tr>\n",
       "      <th>1</th>\n",
       "      <td>77874</td>\n",
       "      <td>родник</td>\n",
       "      <td>нет</td>\n",
       "      <td>кафе</td>\n",
       "      <td>город Москва, улица Талалихина, дом 2/1, корпус 1</td>\n",
       "      <td>35</td>\n",
       "      <td>0</td>\n",
       "    </tr>\n",
       "    <tr>\n",
       "      <th>2</th>\n",
       "      <td>24309</td>\n",
       "      <td>кафе «академия»</td>\n",
       "      <td>нет</td>\n",
       "      <td>кафе</td>\n",
       "      <td>город Москва, Абельмановская улица, дом 6</td>\n",
       "      <td>95</td>\n",
       "      <td>0</td>\n",
       "    </tr>\n",
       "    <tr>\n",
       "      <th>3</th>\n",
       "      <td>21894</td>\n",
       "      <td>пиццетория</td>\n",
       "      <td>да</td>\n",
       "      <td>кафе</td>\n",
       "      <td>город Москва, Абрамцевская улица, дом 1</td>\n",
       "      <td>40</td>\n",
       "      <td>1</td>\n",
       "    </tr>\n",
       "    <tr>\n",
       "      <th>4</th>\n",
       "      <td>119365</td>\n",
       "      <td>кафе «вишневая метель»</td>\n",
       "      <td>нет</td>\n",
       "      <td>кафе</td>\n",
       "      <td>город Москва, Абрамцевская улица, дом 9, корпус 1</td>\n",
       "      <td>50</td>\n",
       "      <td>0</td>\n",
       "    </tr>\n",
       "  </tbody>\n",
       "</table>\n",
       "</div>"
      ],
      "text/plain": [
       "       id             object_name chain object_type  \\\n",
       "0  151635                 сметана   нет        кафе   \n",
       "1   77874                  родник   нет        кафе   \n",
       "2   24309         кафе «академия»   нет        кафе   \n",
       "3   21894              пиццетория    да        кафе   \n",
       "4  119365  кафе «вишневая метель»   нет        кафе   \n",
       "\n",
       "                                             address  number  int_chains  \n",
       "0         город Москва, улица Егора Абакумова, дом 9      48           0  \n",
       "1  город Москва, улица Талалихина, дом 2/1, корпус 1      35           0  \n",
       "2          город Москва, Абельмановская улица, дом 6      95           0  \n",
       "3            город Москва, Абрамцевская улица, дом 1      40           1  \n",
       "4  город Москва, Абрамцевская улица, дом 9, корпус 1      50           0  "
      ]
     },
     "execution_count": 21,
     "metadata": {},
     "output_type": "execute_result"
    }
   ],
   "source": [
    "def int_chains(chain):\n",
    "    if chain == 'да':\n",
    "        return 1\n",
    "    else:\n",
    "        return 0\n",
    "    \n",
    "    \n",
    "rest_data['int_chains'] = rest_data['chain'].apply(int_chains)\n",
    "rest_data.head()    "
   ]
  },
  {
   "cell_type": "markdown",
   "id": "17f9d68b",
   "metadata": {},
   "source": [
    "Группируем заведения по типу объекта и считаем среднее значение по новой колонке. \n",
    "\n",
    "Чем ближе среднее значение к 1, тем больше процент сетевых заведений среди конкретного типа заведений."
   ]
  },
  {
   "cell_type": "code",
   "execution_count": 22,
   "id": "d71afbbf",
   "metadata": {},
   "outputs": [
    {
     "data": {
      "text/html": [
       "<div>\n",
       "<style scoped>\n",
       "    .dataframe tbody tr th:only-of-type {\n",
       "        vertical-align: middle;\n",
       "    }\n",
       "\n",
       "    .dataframe tbody tr th {\n",
       "        vertical-align: top;\n",
       "    }\n",
       "\n",
       "    .dataframe thead th {\n",
       "        text-align: right;\n",
       "    }\n",
       "</style>\n",
       "<table border=\"1\" class=\"dataframe\">\n",
       "  <thead>\n",
       "    <tr style=\"text-align: right;\">\n",
       "      <th></th>\n",
       "      <th>object_type</th>\n",
       "      <th>int_chains</th>\n",
       "    </tr>\n",
       "  </thead>\n",
       "  <tbody>\n",
       "    <tr>\n",
       "      <th>6</th>\n",
       "      <td>предприятие быстрого обслуживания</td>\n",
       "      <td>0.415393</td>\n",
       "    </tr>\n",
       "    <tr>\n",
       "      <th>5</th>\n",
       "      <td>магазин (отдел кулинарии)</td>\n",
       "      <td>0.285714</td>\n",
       "    </tr>\n",
       "    <tr>\n",
       "      <th>7</th>\n",
       "      <td>ресторан</td>\n",
       "      <td>0.237949</td>\n",
       "    </tr>\n",
       "    <tr>\n",
       "      <th>3</th>\n",
       "      <td>кафе</td>\n",
       "      <td>0.229946</td>\n",
       "    </tr>\n",
       "    <tr>\n",
       "      <th>2</th>\n",
       "      <td>закусочная</td>\n",
       "      <td>0.160920</td>\n",
       "    </tr>\n",
       "    <tr>\n",
       "      <th>4</th>\n",
       "      <td>кафетерий</td>\n",
       "      <td>0.131646</td>\n",
       "    </tr>\n",
       "    <tr>\n",
       "      <th>0</th>\n",
       "      <td>бар</td>\n",
       "      <td>0.043275</td>\n",
       "    </tr>\n",
       "    <tr>\n",
       "      <th>1</th>\n",
       "      <td>буфет</td>\n",
       "      <td>0.019097</td>\n",
       "    </tr>\n",
       "    <tr>\n",
       "      <th>8</th>\n",
       "      <td>столовая</td>\n",
       "      <td>0.001161</td>\n",
       "    </tr>\n",
       "  </tbody>\n",
       "</table>\n",
       "</div>"
      ],
      "text/plain": [
       "                         object_type  int_chains\n",
       "6  предприятие быстрого обслуживания    0.415393\n",
       "5          магазин (отдел кулинарии)    0.285714\n",
       "7                           ресторан    0.237949\n",
       "3                               кафе    0.229946\n",
       "2                         закусочная    0.160920\n",
       "4                          кафетерий    0.131646\n",
       "0                                бар    0.043275\n",
       "1                              буфет    0.019097\n",
       "8                           столовая    0.001161"
      ]
     },
     "execution_count": 22,
     "metadata": {},
     "output_type": "execute_result"
    }
   ],
   "source": [
    "rest_data.groupby('object_type')['int_chains'].mean().reset_index().sort_values(by='int_chains', ascending=False)"
   ]
  },
  {
   "cell_type": "markdown",
   "id": "dc015d96",
   "metadata": {},
   "source": [
    "**Вывод**\n",
    "\n",
    "Больше всего сетевое распространение характерно для:\n",
    "\n",
    "   * Предприятий быстрого обсулживания - более 40% таких заведений являются сетевыми \n",
    "   * Магазинов (отделов кулинарии) - 29%\n",
    "   * Ресторанов - 24%\n",
    "   * Кафе - 23%"
   ]
  },
  {
   "cell_type": "markdown",
   "id": "e9362fcf",
   "metadata": {},
   "source": [
    "Чаще всего в выборке сетевые заведения представлены типами \"кафе\" (1396), \"предприятие быстрого обсулуживания\" (791) и \"ресторан\" (544)\n",
    "\n",
    "Топ-10 составляют известные сети предприятий быстрого питания - КФС, Макдоналдс, Бургер Кинг. Также распространены заведения по доставке суши и пиццы. Возглавляет топ крупнейшая в Москве сеть кафе Шоколадница."
   ]
  },
  {
   "cell_type": "markdown",
   "id": "46498349",
   "metadata": {},
   "source": [
    "## Характеристика сетевых заведений\n",
    "\n",
    "Что характерно для сетевых заведений: много заведений с небольшим числом посадочных мест в каждом или мало заведений с большим количеством посадочных мест?"
   ]
  },
  {
   "cell_type": "markdown",
   "id": "b5c48e41",
   "metadata": {},
   "source": [
    "Делаем срез, оставляем только сетевые заведения. Группируем датасет по названию объекта и находим\n",
    "   * кол-во заведений сети\n",
    "   * общее кол-во посадочных мест сети"
   ]
  },
  {
   "cell_type": "code",
   "execution_count": 23,
   "id": "6c6a18c8",
   "metadata": {},
   "outputs": [],
   "source": [
    "chained_id_count = rest_data[rest_data['chain'] == 'да'].groupby('object_name')['id'].count().reset_index()\n",
    "chained_seats_count = rest_data[rest_data['chain'] == 'да'].groupby('object_name')['number'].sum().reset_index()"
   ]
  },
  {
   "cell_type": "markdown",
   "id": "fa3cc7a9",
   "metadata": {},
   "source": [
    "Добавляем параметр `number_per_obj` - среднее количество посадочных мест для одного филиала конкретной сети"
   ]
  },
  {
   "cell_type": "code",
   "execution_count": 24,
   "id": "115ce8e1",
   "metadata": {},
   "outputs": [
    {
     "data": {
      "text/html": [
       "<div>\n",
       "<style scoped>\n",
       "    .dataframe tbody tr th:only-of-type {\n",
       "        vertical-align: middle;\n",
       "    }\n",
       "\n",
       "    .dataframe tbody tr th {\n",
       "        vertical-align: top;\n",
       "    }\n",
       "\n",
       "    .dataframe thead th {\n",
       "        text-align: right;\n",
       "    }\n",
       "</style>\n",
       "<table border=\"1\" class=\"dataframe\">\n",
       "  <thead>\n",
       "    <tr style=\"text-align: right;\">\n",
       "      <th></th>\n",
       "      <th>object_name</th>\n",
       "      <th>id</th>\n",
       "      <th>number</th>\n",
       "      <th>number_per_obj</th>\n",
       "    </tr>\n",
       "  </thead>\n",
       "  <tbody>\n",
       "    <tr>\n",
       "      <th>0</th>\n",
       "      <td>шоколадница</td>\n",
       "      <td>157</td>\n",
       "      <td>8978</td>\n",
       "      <td>57.184713</td>\n",
       "    </tr>\n",
       "    <tr>\n",
       "      <th>1</th>\n",
       "      <td>kfc</td>\n",
       "      <td>155</td>\n",
       "      <td>8578</td>\n",
       "      <td>55.341935</td>\n",
       "    </tr>\n",
       "    <tr>\n",
       "      <th>2</th>\n",
       "      <td>макдоналдс</td>\n",
       "      <td>150</td>\n",
       "      <td>13155</td>\n",
       "      <td>87.700000</td>\n",
       "    </tr>\n",
       "    <tr>\n",
       "      <th>3</th>\n",
       "      <td>бургер кинг</td>\n",
       "      <td>137</td>\n",
       "      <td>6391</td>\n",
       "      <td>46.649635</td>\n",
       "    </tr>\n",
       "    <tr>\n",
       "      <th>4</th>\n",
       "      <td>теремок</td>\n",
       "      <td>94</td>\n",
       "      <td>2407</td>\n",
       "      <td>25.606383</td>\n",
       "    </tr>\n",
       "    <tr>\n",
       "      <th>5</th>\n",
       "      <td>крошка картошка</td>\n",
       "      <td>90</td>\n",
       "      <td>1967</td>\n",
       "      <td>21.855556</td>\n",
       "    </tr>\n",
       "    <tr>\n",
       "      <th>6</th>\n",
       "      <td>домино'с пицца</td>\n",
       "      <td>90</td>\n",
       "      <td>1651</td>\n",
       "      <td>18.344444</td>\n",
       "    </tr>\n",
       "    <tr>\n",
       "      <th>7</th>\n",
       "      <td>милти</td>\n",
       "      <td>72</td>\n",
       "      <td>96</td>\n",
       "      <td>1.333333</td>\n",
       "    </tr>\n",
       "    <tr>\n",
       "      <th>8</th>\n",
       "      <td>суши wok</td>\n",
       "      <td>72</td>\n",
       "      <td>483</td>\n",
       "      <td>6.708333</td>\n",
       "    </tr>\n",
       "    <tr>\n",
       "      <th>9</th>\n",
       "      <td>папа джонс</td>\n",
       "      <td>51</td>\n",
       "      <td>1124</td>\n",
       "      <td>22.039216</td>\n",
       "    </tr>\n",
       "  </tbody>\n",
       "</table>\n",
       "</div>"
      ],
      "text/plain": [
       "       object_name   id  number  number_per_obj\n",
       "0      шоколадница  157    8978       57.184713\n",
       "1              kfc  155    8578       55.341935\n",
       "2       макдоналдс  150   13155       87.700000\n",
       "3      бургер кинг  137    6391       46.649635\n",
       "4          теремок   94    2407       25.606383\n",
       "5  крошка картошка   90    1967       21.855556\n",
       "6   домино'с пицца   90    1651       18.344444\n",
       "7            милти   72      96        1.333333\n",
       "8         суши wok   72     483        6.708333\n",
       "9       папа джонс   51    1124       22.039216"
      ]
     },
     "execution_count": 24,
     "metadata": {},
     "output_type": "execute_result"
    }
   ],
   "source": [
    "chained_obj = chained_id_count.merge(chained_seats_count).sort_values(by='id', ascending=False)\n",
    "chained_obj['number_per_obj'] = chained_obj['number'] / chained_obj['id']\n",
    "# Почему-то к сетевым заведениям попали сети, которым принадлежит только одна точка.\n",
    "# Отфильтровываем такие объекты, чтобы они не портили анализ \n",
    "chained_obj = chained_obj[chained_obj['id'] != 1].reset_index(drop=True) \n",
    "chained_obj.head(10)"
   ]
  },
  {
   "cell_type": "markdown",
   "id": "b36f4331",
   "metadata": {},
   "source": [
    "Определимся, что означает \"большое количество посадочных мест\" и \"много заведений сети\".\n"
   ]
  },
  {
   "cell_type": "markdown",
   "id": "c84c23ab",
   "metadata": {},
   "source": [
    "Изучим подробнее сколько филиалов входят в одну сеть. Медианное значение - 4 заведения"
   ]
  },
  {
   "cell_type": "code",
   "execution_count": 25,
   "id": "b2fd8c4c",
   "metadata": {},
   "outputs": [
    {
     "data": {
      "text/plain": [
       "count    246.000000\n",
       "mean      10.703252\n",
       "std       22.638719\n",
       "min        2.000000\n",
       "25%        2.000000\n",
       "50%        4.000000\n",
       "75%        7.000000\n",
       "max      157.000000\n",
       "Name: id, dtype: float64"
      ]
     },
     "execution_count": 25,
     "metadata": {},
     "output_type": "execute_result"
    }
   ],
   "source": [
    "chained_obj['id'].describe()"
   ]
  },
  {
   "cell_type": "markdown",
   "id": "f70ebb04",
   "metadata": {},
   "source": [
    "Медианное значение кол-ва посадочных мест - 44"
   ]
  },
  {
   "cell_type": "code",
   "execution_count": 26,
   "id": "11ce7b66",
   "metadata": {},
   "outputs": [
    {
     "data": {
      "text/plain": [
       "count    246.000000\n",
       "mean      59.396081\n",
       "std       49.548665\n",
       "min        0.000000\n",
       "25%       21.125000\n",
       "50%       44.000000\n",
       "75%       85.000000\n",
       "max      258.666667\n",
       "Name: number_per_obj, dtype: float64"
      ]
     },
     "execution_count": 26,
     "metadata": {},
     "output_type": "execute_result"
    }
   ],
   "source": [
    "chained_obj['number_per_obj'].describe()"
   ]
  },
  {
   "cell_type": "markdown",
   "id": "b739ed02",
   "metadata": {},
   "source": [
    "Медианное количество заведений в сети - 4 шт. Будем считать, что более 4 филиалов сети -  \"много заведений\".\n",
    "Медианное количество посадочных мест в нашей выборке сетевых заведений -  44. Будем считать, что \"большое количество посадочных мест\" должно превышать 44 посадочных места. "
   ]
  },
  {
   "cell_type": "markdown",
   "id": "12b6ab96",
   "metadata": {},
   "source": [
    "Разделим сети на 4 группы:\n",
    "   * \"broad chain\" и \"high number of seats\" - группа 1\n",
    "   * \"broad chain\" и \"small number of seats\" - группа 2\n",
    "   * \"small chain\" и \"high number of seats\" - группа 3\n",
    "   * \"small chain\" и \"small number of seats\" - группа 4"
   ]
  },
  {
   "cell_type": "markdown",
   "id": "c2467ada",
   "metadata": {},
   "source": [
    "При помощи метода `cut` разделим датасет на группы, во-первых, `broad chain` или `small chain`, во-вторых, `high number of seats` или `small number of seats`"
   ]
  },
  {
   "cell_type": "code",
   "execution_count": 27,
   "id": "5f0e798e",
   "metadata": {},
   "outputs": [
    {
     "data": {
      "text/html": [
       "<div>\n",
       "<style scoped>\n",
       "    .dataframe tbody tr th:only-of-type {\n",
       "        vertical-align: middle;\n",
       "    }\n",
       "\n",
       "    .dataframe tbody tr th {\n",
       "        vertical-align: top;\n",
       "    }\n",
       "\n",
       "    .dataframe thead th {\n",
       "        text-align: right;\n",
       "    }\n",
       "</style>\n",
       "<table border=\"1\" class=\"dataframe\">\n",
       "  <thead>\n",
       "    <tr style=\"text-align: right;\">\n",
       "      <th></th>\n",
       "      <th>object_name</th>\n",
       "      <th>id</th>\n",
       "      <th>number</th>\n",
       "      <th>number_per_obj</th>\n",
       "      <th>obj_frequency</th>\n",
       "      <th>number_levels</th>\n",
       "    </tr>\n",
       "  </thead>\n",
       "  <tbody>\n",
       "    <tr>\n",
       "      <th>0</th>\n",
       "      <td>шоколадница</td>\n",
       "      <td>157</td>\n",
       "      <td>8978</td>\n",
       "      <td>57.184713</td>\n",
       "      <td>broad chain</td>\n",
       "      <td>high number of seats</td>\n",
       "    </tr>\n",
       "    <tr>\n",
       "      <th>1</th>\n",
       "      <td>kfc</td>\n",
       "      <td>155</td>\n",
       "      <td>8578</td>\n",
       "      <td>55.341935</td>\n",
       "      <td>broad chain</td>\n",
       "      <td>high number of seats</td>\n",
       "    </tr>\n",
       "    <tr>\n",
       "      <th>2</th>\n",
       "      <td>макдоналдс</td>\n",
       "      <td>150</td>\n",
       "      <td>13155</td>\n",
       "      <td>87.700000</td>\n",
       "      <td>broad chain</td>\n",
       "      <td>high number of seats</td>\n",
       "    </tr>\n",
       "    <tr>\n",
       "      <th>3</th>\n",
       "      <td>бургер кинг</td>\n",
       "      <td>137</td>\n",
       "      <td>6391</td>\n",
       "      <td>46.649635</td>\n",
       "      <td>broad chain</td>\n",
       "      <td>high number of seats</td>\n",
       "    </tr>\n",
       "    <tr>\n",
       "      <th>4</th>\n",
       "      <td>теремок</td>\n",
       "      <td>94</td>\n",
       "      <td>2407</td>\n",
       "      <td>25.606383</td>\n",
       "      <td>broad chain</td>\n",
       "      <td>small number of seats</td>\n",
       "    </tr>\n",
       "    <tr>\n",
       "      <th>...</th>\n",
       "      <td>...</td>\n",
       "      <td>...</td>\n",
       "      <td>...</td>\n",
       "      <td>...</td>\n",
       "      <td>...</td>\n",
       "      <td>...</td>\n",
       "    </tr>\n",
       "    <tr>\n",
       "      <th>241</th>\n",
       "      <td>кафе «costa coffee»</td>\n",
       "      <td>2</td>\n",
       "      <td>41</td>\n",
       "      <td>20.500000</td>\n",
       "      <td>small chain</td>\n",
       "      <td>small number of seats</td>\n",
       "    </tr>\n",
       "    <tr>\n",
       "      <th>242</th>\n",
       "      <td>изба</td>\n",
       "      <td>2</td>\n",
       "      <td>35</td>\n",
       "      <td>17.500000</td>\n",
       "      <td>small chain</td>\n",
       "      <td>small number of seats</td>\n",
       "    </tr>\n",
       "    <tr>\n",
       "      <th>243</th>\n",
       "      <td>зодиак</td>\n",
       "      <td>2</td>\n",
       "      <td>144</td>\n",
       "      <td>72.000000</td>\n",
       "      <td>small chain</td>\n",
       "      <td>high number of seats</td>\n",
       "    </tr>\n",
       "    <tr>\n",
       "      <th>244</th>\n",
       "      <td>закусочная «бургер кинг»</td>\n",
       "      <td>2</td>\n",
       "      <td>40</td>\n",
       "      <td>20.000000</td>\n",
       "      <td>small chain</td>\n",
       "      <td>small number of seats</td>\n",
       "    </tr>\n",
       "    <tr>\n",
       "      <th>245</th>\n",
       "      <td>илья муромец</td>\n",
       "      <td>2</td>\n",
       "      <td>188</td>\n",
       "      <td>94.000000</td>\n",
       "      <td>small chain</td>\n",
       "      <td>high number of seats</td>\n",
       "    </tr>\n",
       "  </tbody>\n",
       "</table>\n",
       "<p>246 rows × 6 columns</p>\n",
       "</div>"
      ],
      "text/plain": [
       "                  object_name   id  number  number_per_obj obj_frequency  \\\n",
       "0                 шоколадница  157    8978       57.184713   broad chain   \n",
       "1                         kfc  155    8578       55.341935   broad chain   \n",
       "2                  макдоналдс  150   13155       87.700000   broad chain   \n",
       "3                 бургер кинг  137    6391       46.649635   broad chain   \n",
       "4                     теремок   94    2407       25.606383   broad chain   \n",
       "..                        ...  ...     ...             ...           ...   \n",
       "241       кафе «costa coffee»    2      41       20.500000   small chain   \n",
       "242                      изба    2      35       17.500000   small chain   \n",
       "243                    зодиак    2     144       72.000000   small chain   \n",
       "244  закусочная «бургер кинг»    2      40       20.000000   small chain   \n",
       "245              илья муромец    2     188       94.000000   small chain   \n",
       "\n",
       "             number_levels  \n",
       "0     high number of seats  \n",
       "1     high number of seats  \n",
       "2     high number of seats  \n",
       "3     high number of seats  \n",
       "4    small number of seats  \n",
       "..                     ...  \n",
       "241  small number of seats  \n",
       "242  small number of seats  \n",
       "243   high number of seats  \n",
       "244  small number of seats  \n",
       "245   high number of seats  \n",
       "\n",
       "[246 rows x 6 columns]"
      ]
     },
     "execution_count": 27,
     "metadata": {},
     "output_type": "execute_result"
    }
   ],
   "source": [
    "chained_obj['obj_frequency'] = pd.cut(\n",
    "    chained_obj['id'],bins=[0,4,157],labels=['small chain','broad chain']\n",
    ")\n",
    "chained_obj['number_levels'] = pd.cut(\n",
    "    chained_obj['number_per_obj'], bins=[0, 44, 260], labels=['small number of seats', 'high number of seats']\n",
    ")\n",
    "chained_obj"
   ]
  },
  {
   "cell_type": "markdown",
   "id": "9242fb14",
   "metadata": {},
   "source": [
    "Группируем по этим двум категориям (кол-во заведений в сети и кол-во посадочных мест на одно заведение сети)"
   ]
  },
  {
   "cell_type": "code",
   "execution_count": 28,
   "id": "acf7643c",
   "metadata": {},
   "outputs": [
    {
     "data": {
      "text/html": [
       "<div>\n",
       "<style scoped>\n",
       "    .dataframe tbody tr th:only-of-type {\n",
       "        vertical-align: middle;\n",
       "    }\n",
       "\n",
       "    .dataframe tbody tr th {\n",
       "        vertical-align: top;\n",
       "    }\n",
       "\n",
       "    .dataframe thead th {\n",
       "        text-align: right;\n",
       "    }\n",
       "</style>\n",
       "<table border=\"1\" class=\"dataframe\">\n",
       "  <thead>\n",
       "    <tr style=\"text-align: right;\">\n",
       "      <th></th>\n",
       "      <th>obj_frequency</th>\n",
       "      <th>number_levels</th>\n",
       "      <th>object_name</th>\n",
       "    </tr>\n",
       "  </thead>\n",
       "  <tbody>\n",
       "    <tr>\n",
       "      <th>3</th>\n",
       "      <td>broad chain</td>\n",
       "      <td>high number of seats</td>\n",
       "      <td>51</td>\n",
       "    </tr>\n",
       "    <tr>\n",
       "      <th>2</th>\n",
       "      <td>broad chain</td>\n",
       "      <td>small number of seats</td>\n",
       "      <td>58</td>\n",
       "    </tr>\n",
       "    <tr>\n",
       "      <th>0</th>\n",
       "      <td>small chain</td>\n",
       "      <td>small number of seats</td>\n",
       "      <td>61</td>\n",
       "    </tr>\n",
       "    <tr>\n",
       "      <th>1</th>\n",
       "      <td>small chain</td>\n",
       "      <td>high number of seats</td>\n",
       "      <td>71</td>\n",
       "    </tr>\n",
       "  </tbody>\n",
       "</table>\n",
       "</div>"
      ],
      "text/plain": [
       "  obj_frequency          number_levels  object_name\n",
       "3   broad chain   high number of seats           51\n",
       "2   broad chain  small number of seats           58\n",
       "0   small chain  small number of seats           61\n",
       "1   small chain   high number of seats           71"
      ]
     },
     "execution_count": 28,
     "metadata": {},
     "output_type": "execute_result"
    }
   ],
   "source": [
    "chained_obj.groupby(['obj_frequency', 'number_levels'])['object_name'].count().reset_index().sort_values(by='object_name')"
   ]
  },
  {
   "cell_type": "code",
   "execution_count": 29,
   "id": "b4dd0513",
   "metadata": {},
   "outputs": [],
   "source": [
    "chained_obj['category'] = chained_obj[['obj_frequency','number_levels']].apply(lambda s : (s[0],s[1]), axis=1)"
   ]
  },
  {
   "cell_type": "code",
   "execution_count": 30,
   "id": "0bfc3877",
   "metadata": {},
   "outputs": [
    {
     "data": {
      "text/plain": [
       "Text(0.5, 0, 'Количество объектов в сети')"
      ]
     },
     "execution_count": 30,
     "metadata": {},
     "output_type": "execute_result"
    },
    {
     "data": {
      "image/png": "[encoded data removed]",
      "text/plain": [
       "<Figure size 1080x576 with 1 Axes>"
      ]
     },
     "metadata": {
      "needs_background": "light"
     },
     "output_type": "display_data"
    }
   ],
   "source": [
    "# Устанавливаем размер графика\n",
    "plt.figure(figsize=(15, 8))\n",
    "\n",
    "# Строим диаграмму рассеяния\n",
    "# scatterplot = sns.regplot(x=chained_obj[\"id\"], y=chained_obj[\"number_per_obj\"], color='#69b3a2', fit_reg=False, hue='category')\n",
    "\n",
    "scatterplot = sns.scatterplot(data=chained_obj,x=\"id\", y=\"number_per_obj\", color='#69b3a2', hue='category')\n",
    "\n",
    "#scatterplot.set(ylim=(0, 250))\n",
    "scatterplot.set(xlim=(0, 40))\n",
    "\n",
    "scatterplot.set_title(\"Соотношение количества посадочных мест и количества объектов сети\")\n",
    "scatterplot.set_ylabel(\"Количество посадочных мест\")\n",
    "scatterplot.set_xlabel('Количество объектов в сети')"
   ]
  },
  {
   "cell_type": "markdown",
   "id": "ff0141c0",
   "metadata": {},
   "source": [
    "**Вывод**\n",
    "\n",
    "\n",
    "Видим, что у сетей с малым кол-ом точек довольно большое и медианное количество посадочных мест, и также большой разброс посадочных мест. Макс достигает 258 мест.   \n",
    "С другой стороны, сетей с большим количеством точек намного меньше. \n",
    "\n"
   ]
  },
  {
   "cell_type": "markdown",
   "id": "b5a65150",
   "metadata": {},
   "source": [
    "## Cреднее количество посадочных мест \n",
    "\n",
    " Для каждого вида объекта общественного питания опишите среднее количество посадочных мест. Какой вид предоставляет в среднем самое большое количество посадочных мест? Постройте графики."
   ]
  },
  {
   "cell_type": "markdown",
   "id": "18e9f631",
   "metadata": {},
   "source": [
    "Группируем датасет по типу объекта и находим среднее количество посадочных мест. Сохраняем в датафрейм `avg_number_by_type`"
   ]
  },
  {
   "cell_type": "code",
   "execution_count": 31,
   "id": "806b86e3",
   "metadata": {},
   "outputs": [
    {
     "data": {
      "text/html": [
       "<div>\n",
       "<style scoped>\n",
       "    .dataframe tbody tr th:only-of-type {\n",
       "        vertical-align: middle;\n",
       "    }\n",
       "\n",
       "    .dataframe tbody tr th {\n",
       "        vertical-align: top;\n",
       "    }\n",
       "\n",
       "    .dataframe thead th {\n",
       "        text-align: right;\n",
       "    }\n",
       "</style>\n",
       "<table border=\"1\" class=\"dataframe\">\n",
       "  <thead>\n",
       "    <tr style=\"text-align: right;\">\n",
       "      <th></th>\n",
       "      <th>object_type</th>\n",
       "      <th>number</th>\n",
       "    </tr>\n",
       "  </thead>\n",
       "  <tbody>\n",
       "    <tr>\n",
       "      <th>8</th>\n",
       "      <td>столовая</td>\n",
       "      <td>130.337848</td>\n",
       "    </tr>\n",
       "    <tr>\n",
       "      <th>7</th>\n",
       "      <td>ресторан</td>\n",
       "      <td>96.884750</td>\n",
       "    </tr>\n",
       "    <tr>\n",
       "      <th>1</th>\n",
       "      <td>буфет</td>\n",
       "      <td>51.425347</td>\n",
       "    </tr>\n",
       "    <tr>\n",
       "      <th>0</th>\n",
       "      <td>бар</td>\n",
       "      <td>43.533333</td>\n",
       "    </tr>\n",
       "    <tr>\n",
       "      <th>3</th>\n",
       "      <td>кафе</td>\n",
       "      <td>39.785703</td>\n",
       "    </tr>\n",
       "    <tr>\n",
       "      <th>6</th>\n",
       "      <td>предприятие быстрого обслуживания</td>\n",
       "      <td>20.808645</td>\n",
       "    </tr>\n",
       "    <tr>\n",
       "      <th>4</th>\n",
       "      <td>кафетерий</td>\n",
       "      <td>9.184810</td>\n",
       "    </tr>\n",
       "    <tr>\n",
       "      <th>2</th>\n",
       "      <td>закусочная</td>\n",
       "      <td>7.847701</td>\n",
       "    </tr>\n",
       "    <tr>\n",
       "      <th>5</th>\n",
       "      <td>магазин (отдел кулинарии)</td>\n",
       "      <td>5.589744</td>\n",
       "    </tr>\n",
       "  </tbody>\n",
       "</table>\n",
       "</div>"
      ],
      "text/plain": [
       "                         object_type      number\n",
       "8                           столовая  130.337848\n",
       "7                           ресторан   96.884750\n",
       "1                              буфет   51.425347\n",
       "0                                бар   43.533333\n",
       "3                               кафе   39.785703\n",
       "6  предприятие быстрого обслуживания   20.808645\n",
       "4                          кафетерий    9.184810\n",
       "2                         закусочная    7.847701\n",
       "5          магазин (отдел кулинарии)    5.589744"
      ]
     },
     "execution_count": 31,
     "metadata": {},
     "output_type": "execute_result"
    }
   ],
   "source": [
    "avg_number_by_type = rest_data.groupby('object_type')['number'].mean().reset_index().sort_values(by='number', ascending=False)\n",
    "avg_number_by_type"
   ]
  },
  {
   "cell_type": "code",
   "execution_count": 32,
   "id": "2588cd25",
   "metadata": {},
   "outputs": [
    {
     "data": {
      "text/plain": [
       "Text(0.5, 0, 'Среднее количество посадочных мест')"
      ]
     },
     "execution_count": 32,
     "metadata": {},
     "output_type": "execute_result"
    },
    {
     "data": {
      "image/png": "[encoded data removed]",
      "text/plain": [
       "<Figure size 1440x720 with 1 Axes>"
      ]
     },
     "metadata": {
      "needs_background": "light"
     },
     "output_type": "display_data"
    }
   ],
   "source": [
    "# Устанавливаем размер графика\n",
    "plt.figure(figsize=(20, 10))\n",
    "\n",
    "# Строим barplot\n",
    "a = sns.barplot(\n",
    "    x=\"number\", \n",
    "    y='object_type',\n",
    "    data= avg_number_by_type,\n",
    "    color='#69b3a2',\n",
    "    ci=None)\n",
    "\n",
    "# Название графика и осей\n",
    "a.set_title(\"Среднее количество посадочных мест по типу объекта общественного питания\")\n",
    "a.set_ylabel(\"Тип объекта общественного питания\")\n",
    "a.set_xlabel('Среднее количество посадочных мест')\n"
   ]
  },
  {
   "cell_type": "markdown",
   "id": "0d6cbebe",
   "metadata": {},
   "source": [
    "**Вывод**\n",
    "\n",
    "Больше всего посадочных мест в среднем в Столовых (130) и ресторанах (96). Среднее кол-во посадочных мест в кафе - 40\n",
    "   "
   ]
  },
  {
   "cell_type": "markdown",
   "id": "806fdb2e",
   "metadata": {},
   "source": [
    "## Добавить столбец с названием улицы\n"
   ]
  },
  {
   "cell_type": "markdown",
   "id": "e05219bb",
   "metadata": {},
   "source": [
    "Из столбца с адресом выделим нужную нам часть (с названием улицы) используя ключевые слова. Для этого пишем функцию\n",
    "\n",
    "Cписок ключевых слов взят с сайта mosopen, раздел Типы Московских улиц. Ссылка - http://mosopen.ru/streets. \n",
    "Далее добавлены слова, которые не входили в этот список таким образом, чтобы у всех объектов датасета получилось выделить названия улиц\n"
   ]
  },
  {
   "cell_type": "code",
   "execution_count": 33,
   "id": "4db38dc2",
   "metadata": {},
   "outputs": [],
   "source": [
    "def streets(address):\n",
    "    streets_names = [\n",
    "        'улица','проспект','шоссе','проезд','бульвар','переулок','набережная','площадь','вал','аллея', \"квартал\", \"линия\", \"просек\", \"тупик\", 'микрорайон', 'Зеленоград', 'поселение', \"километр\", \"территория\", \"посёлок\"] \n",
    "    sp = address.split(', ')\n",
    "    for index in streets_names:\n",
    "        for x in sp:\n",
    "           if index in x:\n",
    "            return x\n",
    "              "
   ]
  },
  {
   "cell_type": "markdown",
   "id": "e9643258",
   "metadata": {},
   "source": [
    "Применяем функцию к столбцу с адресом"
   ]
  },
  {
   "cell_type": "code",
   "execution_count": 34,
   "id": "3abb69a3",
   "metadata": {},
   "outputs": [],
   "source": [
    "rest_data['street'] = rest_data['address'].apply(streets) "
   ]
  },
  {
   "cell_type": "markdown",
   "id": "13208a11",
   "metadata": {},
   "source": [
    "Приводим названия улиц к единому формату - нижний регистр + избавляемся от указания `улица, проспект, шоссе и тд`"
   ]
  },
  {
   "cell_type": "code",
   "execution_count": 35,
   "id": "6a243c45",
   "metadata": {},
   "outputs": [
    {
     "name": "stderr",
     "output_type": "stream",
     "text": [
      "<ipython-input-35-71581bd85a0b>:1: FutureWarning: The default value of regex will change from True to False in a future version.\n",
      "  rest_data['clean_street'] = rest_data['street'].str.replace('улица|проспект|шоссе|проезд|бульвар|набережная|площадь|вал|аллея|переулок|квартал|линия|просек|тупик|микрорайон|Зеленоград|поселение|километр|территория|посёлок|,|1-я|2-я|3-я|4-я|5-я|1-й|2-й|3-й|4-й|5-й|9-я|7-я', '').str.strip().str.lower()\n"
     ]
    }
   ],
   "source": [
    "rest_data['clean_street'] = rest_data['street'].str.replace('улица|проспект|шоссе|проезд|бульвар|набережная|площадь|вал|аллея|переулок|квартал|линия|просек|тупик|микрорайон|Зеленоград|поселение|километр|территория|посёлок|,|1-я|2-я|3-я|4-я|5-я|1-й|2-й|3-й|4-й|5-й|9-я|7-я', '').str.strip().str.lower()"
   ]
  },
  {
   "cell_type": "code",
   "execution_count": 36,
   "id": "a385c0b6",
   "metadata": {},
   "outputs": [
    {
     "data": {
      "text/html": [
       "<div>\n",
       "<style scoped>\n",
       "    .dataframe tbody tr th:only-of-type {\n",
       "        vertical-align: middle;\n",
       "    }\n",
       "\n",
       "    .dataframe tbody tr th {\n",
       "        vertical-align: top;\n",
       "    }\n",
       "\n",
       "    .dataframe thead th {\n",
       "        text-align: right;\n",
       "    }\n",
       "</style>\n",
       "<table border=\"1\" class=\"dataframe\">\n",
       "  <thead>\n",
       "    <tr style=\"text-align: right;\">\n",
       "      <th></th>\n",
       "      <th>id</th>\n",
       "      <th>object_name</th>\n",
       "      <th>chain</th>\n",
       "      <th>object_type</th>\n",
       "      <th>address</th>\n",
       "      <th>number</th>\n",
       "      <th>int_chains</th>\n",
       "      <th>street</th>\n",
       "      <th>clean_street</th>\n",
       "    </tr>\n",
       "  </thead>\n",
       "  <tbody>\n",
       "    <tr>\n",
       "      <th>0</th>\n",
       "      <td>151635</td>\n",
       "      <td>сметана</td>\n",
       "      <td>нет</td>\n",
       "      <td>кафе</td>\n",
       "      <td>город Москва, улица Егора Абакумова, дом 9</td>\n",
       "      <td>48</td>\n",
       "      <td>0</td>\n",
       "      <td>улица Егора Абакумова</td>\n",
       "      <td>егора абакумова</td>\n",
       "    </tr>\n",
       "    <tr>\n",
       "      <th>1</th>\n",
       "      <td>77874</td>\n",
       "      <td>родник</td>\n",
       "      <td>нет</td>\n",
       "      <td>кафе</td>\n",
       "      <td>город Москва, улица Талалихина, дом 2/1, корпус 1</td>\n",
       "      <td>35</td>\n",
       "      <td>0</td>\n",
       "      <td>улица Талалихина</td>\n",
       "      <td>талалихина</td>\n",
       "    </tr>\n",
       "    <tr>\n",
       "      <th>2</th>\n",
       "      <td>24309</td>\n",
       "      <td>кафе «академия»</td>\n",
       "      <td>нет</td>\n",
       "      <td>кафе</td>\n",
       "      <td>город Москва, Абельмановская улица, дом 6</td>\n",
       "      <td>95</td>\n",
       "      <td>0</td>\n",
       "      <td>Абельмановская улица</td>\n",
       "      <td>абельмановская</td>\n",
       "    </tr>\n",
       "    <tr>\n",
       "      <th>3</th>\n",
       "      <td>21894</td>\n",
       "      <td>пиццетория</td>\n",
       "      <td>да</td>\n",
       "      <td>кафе</td>\n",
       "      <td>город Москва, Абрамцевская улица, дом 1</td>\n",
       "      <td>40</td>\n",
       "      <td>1</td>\n",
       "      <td>Абрамцевская улица</td>\n",
       "      <td>абрамцевская</td>\n",
       "    </tr>\n",
       "    <tr>\n",
       "      <th>4</th>\n",
       "      <td>119365</td>\n",
       "      <td>кафе «вишневая метель»</td>\n",
       "      <td>нет</td>\n",
       "      <td>кафе</td>\n",
       "      <td>город Москва, Абрамцевская улица, дом 9, корпус 1</td>\n",
       "      <td>50</td>\n",
       "      <td>0</td>\n",
       "      <td>Абрамцевская улица</td>\n",
       "      <td>абрамцевская</td>\n",
       "    </tr>\n",
       "    <tr>\n",
       "      <th>5</th>\n",
       "      <td>27429</td>\n",
       "      <td>стол. при гоу сош № 1051</td>\n",
       "      <td>нет</td>\n",
       "      <td>столовая</td>\n",
       "      <td>город Москва, Абрамцевская улица, дом 15, корп...</td>\n",
       "      <td>240</td>\n",
       "      <td>0</td>\n",
       "      <td>Абрамцевская улица</td>\n",
       "      <td>абрамцевская</td>\n",
       "    </tr>\n",
       "    <tr>\n",
       "      <th>6</th>\n",
       "      <td>148815</td>\n",
       "      <td>брусника</td>\n",
       "      <td>да</td>\n",
       "      <td>кафе</td>\n",
       "      <td>город Москва, переулок Сивцев Вражек, дом 6/2</td>\n",
       "      <td>10</td>\n",
       "      <td>1</td>\n",
       "      <td>переулок Сивцев Вражек</td>\n",
       "      <td>сивцев вражек</td>\n",
       "    </tr>\n",
       "    <tr>\n",
       "      <th>7</th>\n",
       "      <td>20957</td>\n",
       "      <td>буфет мтуси</td>\n",
       "      <td>нет</td>\n",
       "      <td>столовая</td>\n",
       "      <td>город Москва, Авиамоторная улица, дом 8, строе...</td>\n",
       "      <td>90</td>\n",
       "      <td>0</td>\n",
       "      <td>Авиамоторная улица</td>\n",
       "      <td>авиамоторная</td>\n",
       "    </tr>\n",
       "    <tr>\n",
       "      <th>8</th>\n",
       "      <td>20958</td>\n",
       "      <td>кпф семья-1</td>\n",
       "      <td>нет</td>\n",
       "      <td>столовая</td>\n",
       "      <td>город Москва, Авиамоторная улица, дом 8, строе...</td>\n",
       "      <td>150</td>\n",
       "      <td>0</td>\n",
       "      <td>Авиамоторная улица</td>\n",
       "      <td>авиамоторная</td>\n",
       "    </tr>\n",
       "    <tr>\n",
       "      <th>9</th>\n",
       "      <td>28858</td>\n",
       "      <td>столовая мтуси</td>\n",
       "      <td>нет</td>\n",
       "      <td>столовая</td>\n",
       "      <td>город Москва, Авиамоторная улица, дом 8, строе...</td>\n",
       "      <td>120</td>\n",
       "      <td>0</td>\n",
       "      <td>Авиамоторная улица</td>\n",
       "      <td>авиамоторная</td>\n",
       "    </tr>\n",
       "  </tbody>\n",
       "</table>\n",
       "</div>"
      ],
      "text/plain": [
       "       id               object_name chain object_type  \\\n",
       "0  151635                   сметана   нет        кафе   \n",
       "1   77874                    родник   нет        кафе   \n",
       "2   24309           кафе «академия»   нет        кафе   \n",
       "3   21894                пиццетория    да        кафе   \n",
       "4  119365    кафе «вишневая метель»   нет        кафе   \n",
       "5   27429  стол. при гоу сош № 1051   нет    столовая   \n",
       "6  148815                  брусника    да        кафе   \n",
       "7   20957               буфет мтуси   нет    столовая   \n",
       "8   20958               кпф семья-1   нет    столовая   \n",
       "9   28858            столовая мтуси   нет    столовая   \n",
       "\n",
       "                                             address  number  int_chains  \\\n",
       "0         город Москва, улица Егора Абакумова, дом 9      48           0   \n",
       "1  город Москва, улица Талалихина, дом 2/1, корпус 1      35           0   \n",
       "2          город Москва, Абельмановская улица, дом 6      95           0   \n",
       "3            город Москва, Абрамцевская улица, дом 1      40           1   \n",
       "4  город Москва, Абрамцевская улица, дом 9, корпус 1      50           0   \n",
       "5  город Москва, Абрамцевская улица, дом 15, корп...     240           0   \n",
       "6      город Москва, переулок Сивцев Вражек, дом 6/2      10           1   \n",
       "7  город Москва, Авиамоторная улица, дом 8, строе...      90           0   \n",
       "8  город Москва, Авиамоторная улица, дом 8, строе...     150           0   \n",
       "9  город Москва, Авиамоторная улица, дом 8, строе...     120           0   \n",
       "\n",
       "                   street     clean_street  \n",
       "0   улица Егора Абакумова  егора абакумова  \n",
       "1        улица Талалихина       талалихина  \n",
       "2    Абельмановская улица   абельмановская  \n",
       "3      Абрамцевская улица     абрамцевская  \n",
       "4      Абрамцевская улица     абрамцевская  \n",
       "5      Абрамцевская улица     абрамцевская  \n",
       "6  переулок Сивцев Вражек    сивцев вражек  \n",
       "7      Авиамоторная улица     авиамоторная  \n",
       "8      Авиамоторная улица     авиамоторная  \n",
       "9      Авиамоторная улица     авиамоторная  "
      ]
     },
     "execution_count": 36,
     "metadata": {},
     "output_type": "execute_result"
    }
   ],
   "source": [
    "rest_data.head(10)"
   ]
  },
  {
   "cell_type": "markdown",
   "id": "e0c685c1",
   "metadata": {},
   "source": [
    "## Топ-10 улиц по количеству объектов общественного питания \n",
    "Воспользуйтесь внешней информацией и ответьте на вопрос — в каких районах Москвы находятся эти улицы.\n",
    "Начнем с поиска информации о районах Москвы"
   ]
  },
  {
   "cell_type": "markdown",
   "id": "f77e2b7c",
   "metadata": {},
   "source": [
    "### Парсинг данных о районах Москвы  "
   ]
  },
  {
   "cell_type": "markdown",
   "id": "188e3499",
   "metadata": {},
   "source": [
    "Воспользуемся сайтом MosOpen.ru, на котором размещена информация об улицах с разбивкой по районам Москвы.  \n",
    "Для извлечения необходимых данных с HTML страницы будем использовать пакет Beautiful Soup. \n",
    "\n",
    "Для начала откроем страницу с названиями районов Москвы."
   ]
  },
  {
   "cell_type": "code",
   "execution_count": 37,
   "id": "db0b114e",
   "metadata": {},
   "outputs": [
    {
     "data": {
      "text/plain": [
       "<Response [200]>"
      ]
     },
     "execution_count": 37,
     "metadata": {},
     "output_type": "execute_result"
    }
   ],
   "source": [
    "url = 'http://mosopen.ru/streets'\n",
    "reqt = requests.get(url)\n",
    "reqt"
   ]
  },
  {
   "cell_type": "code",
   "execution_count": 38,
   "id": "f4789bc1",
   "metadata": {},
   "outputs": [],
   "source": [
    "parser = bs4.BeautifulSoup(reqt.text, 'lxml')"
   ]
  },
  {
   "cell_type": "code",
   "execution_count": 39,
   "id": "32f21a64",
   "metadata": {
    "collapsed": true,
    "jupyter": {
     "outputs_hidden": true
    },
    "tags": []
   },
   "outputs": [
    {
     "data": {
      "text/plain": [
       "<!DOCTYPE html PUBLIC \"-//W3C//DTD XHTML 1.0 Strict//EN\" \"http://www.w3.org/TR/xhtml1/DTD/xhtml1-strict.dtd\">\n",
       "<html xml:lang=\"ru\" xmlns=\"http://www.w3.org/1999/xhtml\">\n",
       "<head>\n",
       "<title>Улицы Москвы - Электронная Москва</title>\n",
       "<meta content=\"Список всех улиц, расположенных на территории города Москвы\" name=\"Description\"/>\n",
       "<meta content=\"улицы Москвы,улицы города Москвы,улицы онлайн,карта улиц Москвы,названия улиц,найти улицу,улицы онлайн смотреть,улицы по районам,улицы по округам,схема улиц Москвы,новые улицы Москвы,карта улиц,справочник улиц,адреса улиц,Москва\" name=\"Keywords\"/>\n",
       "<meta content=\"text/html; charset=utf-8\" http-equiv=\"content-type\"/>\n",
       "<link href=\"http://mosopen.ru/favicon.ico\" rel=\"shortcut icon\"/>\n",
       "<link href=\"http://mosopen.ru/public/styles/structure.css\" rel=\"stylesheet\" type=\"text/css\"/>\n",
       "<script charset=\"utf-8\" src=\"http://mosopen.ru/public/scripts/jquery.js\" type=\"text/javascript\"></script>\n",
       "<script charset=\"utf-8\" src=\"http://mosopen.ru/public/scripts/common.js\" type=\"text/javascript\"></script>\n",
       "<script charset=\"utf-8\" src=\"http://mosopen.ru/public/scripts/house-search.js\" type=\"text/javascript\"></script>\n",
       "<!--[if IE]>\n",
       "<style type=\"text/css\">\n",
       ".clearfix {zoom:1; display:block;}\n",
       "</style>\n",
       "<![endif]-->\n",
       "</head>\n",
       "<body id=\"tpl_cols_2\">\n",
       "<div id=\"container\">\n",
       "<div id=\"header\">\n",
       "<h1><a href=\"http://mosopen.ru/\"><span>MosOpen.ru — Электронная Москва</span></a></h1>\n",
       "<ul id=\"navmenu-h\">\n",
       "<li id=\"home\"><a href=\"http://mosopen.ru/\">Главная</a></li>\n",
       "<li class=\"current\"><a href=\"http://mosopen.ru/regions\">Территория</a>\n",
       "<ul>\n",
       "<li class=\"sub\"><a href=\"http://mosopen.ru/regions\">Округа и районы</a></li>\n",
       "<li class=\"sub\"><a href=\"http://mosopen.ru/map\">Карта города</a></li>\n",
       "<li><a href=\"http://mosopen.ru/streets\">Улицы Москвы</a></li>\n",
       "<li><a href=\"http://mosopen.ru/streets/post_codes_list\">Почтовые индексы</a></li>\n",
       "<li><a href=\"http://mosopen.ru/metro\">Метро</a></li>\n",
       "</ul>\n",
       "</li>\n",
       "<li><a href=\"http://mosopen.ru/service/index\">Куда обращаться</a></li>\n",
       "<li><a href=\"http://mosopen.ru/goverment\">Органы власти</a>\n",
       "<ul>\n",
       "<li><a href=\"http://mosopen.ru/goverment\">Московские</a></li>\n",
       "<li><a href=\"http://mosopen.ru/goverment/federal\">Федеральные</a></li>\n",
       "</ul>\n",
       "</li>\n",
       "<li><a href=\"http://mosopen.ru/documents\">Правовые акты</a>\n",
       "<ul>\n",
       "<li><a href=\"http://mosopen.ru/documents\">Общие сведения</a></li>\n",
       "<li><a href=\"http://mosopen.ru/documents/all\">Все правовые акты</a></li>\n",
       "<li><a href=\"http://mosopen.ru/documents/search\">Поиск документов</a></li>\n",
       "</ul>\n",
       "</li>\n",
       "</ul>\n",
       "<form accept-charset=\"utf-8\" action=\"http://mosopen.ru/search\" id=\"search\" method=\"post\">\n",
       "<p>\n",
       "<input class=\"search_field\" name=\"search_query\" onblur=\"if(this.value=='') this.value='поиск по сайту...';\" onfocus=\"if(this.value=='поиск по сайту...') this.value='';\" type=\"text\" value=\"поиск по сайту...\"/>\n",
       "<input class=\"search_submit\" name=\"\" title=\"Найти\" type=\"submit\" value=\"\"/>\n",
       "</p>\n",
       "</form>\n",
       "<div class=\"partner_top\"></div>\n",
       "</div><!-- / #header -->\n",
       "<div id=\"content\">\n",
       "<div class=\"breadcrumbs\">\n",
       "<a href=\"http://mosopen.ru/\">Главная страница</a> /\n",
       "      Улицы Москвы \n",
       "    </div>\n",
       "<h1>Улицы Москвы</h1>\n",
       "<p>На сегодняшний день в Москве насчитывается более 3,5 тысяч улиц. В представленном онлайн справочнике вы сможете <em>найти улицу</em>, узнать её <a href=\"http://mosopen.ru/streets/post_codes_list\" title=\"Почтовые индексы Москвы\"><em>почтовый индекс</em></a>, <em>прежние названия</em>, определить <em>к какому району и округу</em> относится улица, посмотреть <em>улицу на карте</em> Москвы, а также ознакомиться с реестром связанных <em>правовых актов</em>, списком расположенных на улице <em>организаций</em> и перечнем улиц с <em>похожим названием</em>.</p>\n",
       "<h2>Алфавитный указатель</h2>\n",
       "<p>Названия улиц расположены в алфавитном порядке. В сложных названиях сохранён обычный порядок слов: Маршала Жукова, ул., Новый Арбат, ул., Егора Абакумова, ул. Исключение сделано для номерных названий, где обратный порядок представляется более удобным: Парковая 1-я, ул., Парковая 2-я, ул. и т.д.</p>\n",
       "<p class=\"alphabet clearfix\">\n",
       "<span><a href=\"http://mosopen.ru/streets/letter/1\" title=\"Список улиц, название которых, начинается с цифры\">#</a></span>\n",
       "<span><a href=\"http://mosopen.ru/streets/letter/2\" title=\"Список улиц на букву «А»\">А</a></span>\n",
       "<span><a href=\"http://mosopen.ru/streets/letter/3\" title=\"Список улиц на букву «Б»\">Б</a></span>\n",
       "<span><a href=\"http://mosopen.ru/streets/letter/4\" title=\"Список улиц на букву «В»\">В</a></span>\n",
       "<span><a href=\"http://mosopen.ru/streets/letter/5\" title=\"Список улиц на букву «Г»\">Г</a></span>\n",
       "<span><a href=\"http://mosopen.ru/streets/letter/6\" title=\"Список улиц на букву «Д»\">Д</a></span>\n",
       "<span><a href=\"http://mosopen.ru/streets/letter/7\" title=\"Список улиц на букву «Е»\">Е</a></span>\n",
       "<span>Ё</span>\n",
       "<span><a href=\"http://mosopen.ru/streets/letter/9\" title=\"Список улиц на букву «Ж»\">Ж</a></span>\n",
       "<span><a href=\"http://mosopen.ru/streets/letter/10\" title=\"Список улиц на букву «З»\">З</a></span>\n",
       "<span><a href=\"http://mosopen.ru/streets/letter/11\" title=\"Список улиц на букву «И»\">И</a></span>\n",
       "<span>Й</span>\n",
       "<span><a href=\"http://mosopen.ru/streets/letter/13\" title=\"Список улиц на букву «К»\">К</a></span>\n",
       "<span><a href=\"http://mosopen.ru/streets/letter/14\" title=\"Список улиц на букву «Л»\">Л</a></span>\n",
       "<span><a href=\"http://mosopen.ru/streets/letter/15\" title=\"Список улиц на букву «М»\">М</a></span>\n",
       "<span><a href=\"http://mosopen.ru/streets/letter/16\" title=\"Список улиц на букву «Н»\">Н</a></span>\n",
       "<span><a href=\"http://mosopen.ru/streets/letter/17\" title=\"Список улиц на букву «О»\">О</a></span>\n",
       "<span><a href=\"http://mosopen.ru/streets/letter/18\" title=\"Список улиц на букву «П»\">П</a></span>\n",
       "<span><a href=\"http://mosopen.ru/streets/letter/19\" title=\"Список улиц на букву «Р»\">Р</a></span>\n",
       "<span><a href=\"http://mosopen.ru/streets/letter/20\" title=\"Список улиц на букву «С»\">С</a></span>\n",
       "<span><a href=\"http://mosopen.ru/streets/letter/21\" title=\"Список улиц на букву «Т»\">Т</a></span>\n",
       "<span><a href=\"http://mosopen.ru/streets/letter/22\" title=\"Список улиц на букву «У»\">У</a></span>\n",
       "<span><a href=\"http://mosopen.ru/streets/letter/23\" title=\"Список улиц на букву «Ф»\">Ф</a></span>\n",
       "<span><a href=\"http://mosopen.ru/streets/letter/24\" title=\"Список улиц на букву «Х»\">Х</a></span>\n",
       "<span><a href=\"http://mosopen.ru/streets/letter/25\" title=\"Список улиц на букву «Ц»\">Ц</a></span>\n",
       "<span><a href=\"http://mosopen.ru/streets/letter/26\" title=\"Список улиц на букву «Ч»\">Ч</a></span>\n",
       "<span><a href=\"http://mosopen.ru/streets/letter/27\" title=\"Список улиц на букву «Ш»\">Ш</a></span>\n",
       "<span><a href=\"http://mosopen.ru/streets/letter/28\" title=\"Список улиц на букву «Щ»\">Щ</a></span>\n",
       "<span>Ы</span>\n",
       "<span><a href=\"http://mosopen.ru/streets/letter/30\" title=\"Список улиц на букву «Э»\">Э</a></span>\n",
       "<span><a href=\"http://mosopen.ru/streets/letter/31\" title=\"Список улиц на букву «Ю»\">Ю</a></span>\n",
       "<span><a href=\"http://mosopen.ru/streets/letter/32\" title=\"Список улиц на букву «Я»\">Я</a></span>\n",
       "</p>\n",
       "<h2>Улицы по округам и районам</h2>\n",
       "<p>Фильтрация списка улиц по районам и административным округам города Москвы. Обращаем ваше внимание на то, что одна и та же улица Москвы может распологаться одновременно в нескольких районах.</p>\n",
       "<script type=\"text/javascript\">\n",
       "function ToggleRegions(obj)\n",
       "{\n",
       "\tvar anchor_letters = document.getElementById('ToggleRegionsByLetters');\n",
       "\tvar anchor_districts = document.getElementById('ToggleRegionsByDistricts');\n",
       "\tvar anchor_map = document.getElementById('ToggleRegionsByMap');\n",
       "\n",
       "\tvar block_letters = document.getElementById('regions_by_letters');\n",
       "\tvar block_districts = document.getElementById('regions_by_districts');\n",
       "\tvar block_map = document.getElementById('regions_by_map');\n",
       "\n",
       "\tif ( ! anchor_letters || ! anchor_districts|| ! anchor_map ) return;\n",
       "\n",
       "\tif (obj.className == 'active') return;\n",
       "\n",
       "\tanchor_letters.className = 'inactive';\n",
       "\tanchor_districts.className = 'inactive';\n",
       "\tanchor_map.className = 'inactive';\n",
       "\n",
       "\tblock_letters.style.display = 'none';\n",
       "\tblock_districts.style.display = 'none';\n",
       "\tblock_map.style.display = 'none';\n",
       "\n",
       "\tif (obj == anchor_letters)\n",
       "\t{\n",
       "\t\tanchor_letters.className = 'active';\n",
       "\t\tblock_letters.style.display = 'block';\n",
       "\t}\n",
       "\telse if (obj == anchor_districts)\n",
       "\t{\n",
       "\t\tanchor_districts.className = 'active';\n",
       "\t\tblock_districts.style.display = 'block';\n",
       "\t}\n",
       "\telse if (obj == anchor_map)\n",
       "\t{\n",
       "\t\tanchor_map.className = 'active';\n",
       "\t\tblock_map.style.display = 'block';\n",
       "\t}\n",
       "}\n",
       "</script>\n",
       "<p class=\"local_toggle\">\n",
       "  Районы Москвы:   \n",
       "  <a class=\"active\" href=\"javascript:void(0)\" id=\"ToggleRegionsByLetters\" onclick=\"ToggleRegions(this); return false;\">по алфавиту</a>   \n",
       "  <a class=\"inactive\" href=\"javascript:void(0)\" id=\"ToggleRegionsByDistricts\" onclick=\"ToggleRegions(this); return false;\">по округам</a>   \n",
       "  <a class=\"inactive\" href=\"javascript:void(0)\" id=\"ToggleRegionsByMap\" onclick=\"ToggleRegions(this); return false;\">на карте</a>\n",
       "</p>\n",
       "<div id=\"regions_by_letters\">\n",
       "<table class=\"regions_list\">\n",
       "<tr>\n",
       "<td>\n",
       "<p>\n",
       "<strong>А</strong>\n",
       "<br/>\n",
       "<a href=\"http://mosopen.ru/region/akademicheskij/streets\" title=\"Улицы Академического района\">Академический</a>,<br/>\n",
       "<a href=\"http://mosopen.ru/region/alekseevskij/streets\" title=\"Улицы Алексеевского района\">Алексеевский</a>,<br/>\n",
       "<a href=\"http://mosopen.ru/region/altufevskij/streets\" title=\"Улицы Алтуфьевского района\">Алтуфьевский</a>,<br/>\n",
       "<a href=\"http://mosopen.ru/region/arbat/streets\" title=\"Улицы района Арбат\">Арбат</a>,<br/>\n",
       "<a href=\"http://mosopen.ru/region/aeroport/streets\" title=\"Улицы района Аэропорт\">Аэропорт</a>. \n",
       "    </p>\n",
       "<p>\n",
       "<strong>Б</strong>\n",
       "<br/>\n",
       "<a href=\"http://mosopen.ru/region/babushkinskij/streets\" title=\"Улицы Бабушкинского района\">Бабушкинский</a>,<br/>\n",
       "<a href=\"http://mosopen.ru/region/basmannyj/streets\" title=\"Улицы Басманного района\">Басманный</a>,<br/>\n",
       "<a href=\"http://mosopen.ru/region/begovoj/streets\" title=\"Улицы района Беговой\">Беговой</a>,<br/>\n",
       "<a href=\"http://mosopen.ru/region/beskudnikovskij/streets\" title=\"Улицы Бескудниковского района\">Бескудниковский</a>,<br/>\n",
       "<a href=\"http://mosopen.ru/region/bibirevo/streets\" title=\"Улицы района Бибирево\">Бибирево</a>,<br/>\n",
       "<a href=\"http://mosopen.ru/region/biryulevo_vostochnoe/streets\" title=\"Улицы района Бирюлёво Восточное\">Бирюлёво Восточное</a>,<br/>\n",
       "<a href=\"http://mosopen.ru/region/biryulevo_zapadnoe/streets\" title=\"Улицы района Бирюлёво Западное\">Бирюлёво Западное</a>,<br/>\n",
       "<a href=\"http://mosopen.ru/region/bogorodskoe/streets\" title=\"Улицы района Богородское\">Богородское</a>,<br/>\n",
       "<a href=\"http://mosopen.ru/region/brateevo/streets\" title=\"Улицы района Братеево\">Братеево</a>,<br/>\n",
       "<a href=\"http://mosopen.ru/region/butovo_severnoe/streets\" title=\"Улицы района Северное Бутово\">Бутово Северное</a>,<br/>\n",
       "<a href=\"http://mosopen.ru/region/butovo_yuzhnoe/streets\" title=\"Улицы района Южное Бутово\">Бутово Южное</a>,<br/>\n",
       "<a href=\"http://mosopen.ru/region/butyrskij/streets\" title=\"Улицы Бутырского района\">Бутырский</a>. \n",
       "    </p>\n",
       "<p>\n",
       "<strong>В</strong>\n",
       "<br/>\n",
       "<a href=\"http://mosopen.ru/region/veshnyaki/streets\" title=\"Улицы района Вешняки\">Вешняки</a>,<br/>\n",
       "<a href=\"http://mosopen.ru/region/vnukovo/streets\" title=\"Улицы района Внуково\">Внуково</a>,<br/>\n",
       "<a href=\"http://mosopen.ru/region/vojkovskij/streets\" title=\"Улицы Войковского района\">Войковский</a>,<br/>\n",
       "<a href=\"http://mosopen.ru/region/vostochnyj/streets\" title=\"Улицы района Восточный\">Восточный</a>,<br/>\n",
       "<a href=\"http://mosopen.ru/region/vyhino-zhulebino/streets\" title=\"Улицы района Выхино-Жулебино\">Выхино-Жулебино</a>. \n",
       "    </p>\n",
       "<p>\n",
       "<strong>Г</strong>\n",
       "<br/>\n",
       "<a href=\"http://mosopen.ru/region/gagarinskij/streets\" title=\"Улицы Гагаринского района\">Гагаринский</a>,<br/>\n",
       "<a href=\"http://mosopen.ru/region/golovinskij/streets\" title=\"Улицы Головинского района\">Головинский</a>,<br/>\n",
       "<a href=\"http://mosopen.ru/region/golyanovo/streets\" title=\"Улицы района Гольяново\">Гольяново</a>. \n",
       "    </p>\n",
       "<p>\n",
       "<strong>Д</strong>\n",
       "<br/>\n",
       "<a href=\"http://mosopen.ru/region/danilovskij/streets\" title=\"Улицы Даниловского района\">Даниловский</a>,<br/>\n",
       "<a href=\"http://mosopen.ru/region/degunino_vostochnoe/streets\" title=\"Улицы района Восточное Дегунино\">Дегунино Восточное</a>,<br/>\n",
       "<a href=\"http://mosopen.ru/region/degunino_zapadnoe/streets\" title=\"Улицы района Западное Дегунино\">Дегунино Западное</a>,<br/>\n",
       "<a href=\"http://mosopen.ru/region/dmitrovskij/streets\" title=\"Улицы Дмитровского района\">Дмитровский</a>,<br/>\n",
       "<a href=\"http://mosopen.ru/region/donskoj/streets\" title=\"Улицы Донского района\">Донской</a>,<br/>\n",
       "<a href=\"http://mosopen.ru/region/dorogomilovo/streets\" title=\"Улицы района Дорогомилово\">Дорогомилово</a>. \n",
       "    </p>\n",
       "</td>\n",
       "<td>\n",
       "<p>\n",
       "<strong>З</strong>\n",
       "<br/>\n",
       "<a href=\"http://mosopen.ru/region/zamoskvoreche/streets\" title=\"Улицы района Замоскворечье\">Замоскворечье</a>,<br/>\n",
       "<a href=\"http://mosopen.ru/region/zyuzino/streets\" title=\"Улицы района Зюзино\">Зюзино</a>,<br/>\n",
       "<a href=\"http://mosopen.ru/region/zyablikovo/streets\" title=\"Улицы района Зябликово\">Зябликово</a>. \n",
       "    </p>\n",
       "<p>\n",
       "<strong>И</strong>\n",
       "<br/>\n",
       "<a href=\"http://mosopen.ru/region/ivanovskoe/streets\" title=\"Улицы района Ивановское\">Ивановское</a>,<br/>\n",
       "<a href=\"http://mosopen.ru/region/izmajlovo_vostochnoe/streets\" title=\"Улицы района Восточное Измайлово\">Измайлово Восточное</a>,<br/>\n",
       "<a href=\"http://mosopen.ru/region/izmajlovo/streets\" title=\"Улицы района Измайлово\">Измайлово</a>,<br/>\n",
       "<a href=\"http://mosopen.ru/region/izmajlovo_severnoe/streets\" title=\"Улицы района Северное Измайлово\">Измайлово Северное</a>. \n",
       "    </p>\n",
       "<p>\n",
       "<strong>К</strong>\n",
       "<br/>\n",
       "<a href=\"http://mosopen.ru/region/kapotnya/streets\" title=\"Улицы района Капотня\">Капотня</a>,<br/>\n",
       "<a href=\"http://mosopen.ru/region/konkovo/streets\" title=\"Улицы района Коньково\">Коньково</a>,<br/>\n",
       "<a href=\"http://mosopen.ru/region/koptevo/streets\" title=\"Улицы района Коптево\">Коптево</a>,<br/>\n",
       "<a href=\"http://mosopen.ru/region/kosino-uhtomskij/streets\" title=\"Улицы района Косино-Ухтомский\">Косино-Ухтомский</a>,<br/>\n",
       "<a href=\"http://mosopen.ru/region/kotlovka/streets\" title=\"Улицы района Котловка\">Котловка</a>,<br/>\n",
       "<a href=\"http://mosopen.ru/region/krasnoselskij/streets\" title=\"Улицы Красносельского района\">Красносельский</a>,<br/>\n",
       "<a href=\"http://mosopen.ru/region/krylatskoe/streets\" title=\"Улицы района Крылатское\">Крылатское</a>,<br/>\n",
       "<a href=\"http://mosopen.ru/region/kryukovo/streets\" title=\"Улицы района Крюково\">Крюково</a>,<br/>\n",
       "<a href=\"http://mosopen.ru/region/kuzminki/streets\" title=\"Улицы района Кузьминки\">Кузьминки</a>,<br/>\n",
       "<a href=\"http://mosopen.ru/region/kuncevo/streets\" title=\"Улицы района Кунцево\">Кунцево</a>,<br/>\n",
       "<a href=\"http://mosopen.ru/region/kurkino/streets\" title=\"Улицы района Куркино\">Куркино</a>. \n",
       "    </p>\n",
       "<p>\n",
       "<strong>Л</strong>\n",
       "<br/>\n",
       "<a href=\"http://mosopen.ru/region/levoberezhnyj/streets\" title=\"Улицы района Левобережный\">Левобережный</a>,<br/>\n",
       "<a href=\"http://mosopen.ru/region/lefortovo/streets\" title=\"Улицы района Лефортово\">Лефортово</a>,<br/>\n",
       "<a href=\"http://mosopen.ru/region/lianozovo/streets\" title=\"Улицы района Лианозово\">Лианозово</a>,<br/>\n",
       "<a href=\"http://mosopen.ru/region/lomonosovskij/streets\" title=\"Улицы Ломоносовского района\">Ломоносовский</a>,<br/>\n",
       "<a href=\"http://mosopen.ru/region/losinoostrovskij/streets\" title=\"Улицы Лосиноостровского района\">Лосиноостровский</a>,<br/>\n",
       "<a href=\"http://mosopen.ru/region/lyublino/streets\" title=\"Улицы района Люблино\">Люблино</a>. \n",
       "    </p>\n",
       "</td>\n",
       "<td>\n",
       "<p>\n",
       "<strong>М</strong>\n",
       "<br/>\n",
       "<a href=\"http://mosopen.ru/region/marfino/streets\" title=\"Улицы района Марфино\">Марфино</a>,<br/>\n",
       "<a href=\"http://mosopen.ru/region/marina_roshcha/streets\" title=\"Улицы района Марьина роща\">Марьина роща</a>,<br/>\n",
       "<a href=\"http://mosopen.ru/region/marino/streets\" title=\"Улицы района Марьино\">Марьино</a>,<br/>\n",
       "<a href=\"http://mosopen.ru/region/matushkino/streets\" title=\"Улицы района Матушкино\">Матушкино</a>,<br/>\n",
       "<a href=\"http://mosopen.ru/region/medvedkovo_severnoe/streets\" title=\"Улицы района Северное Медведково\">Медведково Северное</a>,<br/>\n",
       "<a href=\"http://mosopen.ru/region/medvedkovo_yuzhnoe/streets\" title=\"Улицы района Южное Медведково\">Медведково Южное</a>,<br/>\n",
       "<a href=\"http://mosopen.ru/region/metrogorodok/streets\" title=\"Улицы района Метрогородок\">Метрогородок</a>,<br/>\n",
       "<a href=\"http://mosopen.ru/region/meshchanskij/streets\" title=\"Улицы Мещанского района\">Мещанский</a>,<br/>\n",
       "<a href=\"http://mosopen.ru/region/mitino/streets\" title=\"Улицы района Митино\">Митино</a>,<br/>\n",
       "<a href=\"http://mosopen.ru/region/mozhajskij/streets\" title=\"Улицы Можайского района\">Можайский</a>,<br/>\n",
       "<a href=\"http://mosopen.ru/region/molzhaninovskij/streets\" title=\"Улицы Молжаниновского района\">Молжаниновский</a>,<br/>\n",
       "<a href=\"http://mosopen.ru/region/moskvoreche-saburovo/streets\" title=\"Улицы района Москворечье-Сабурово\">Москворечье-Сабурово</a>. \n",
       "    </p>\n",
       "<p>\n",
       "<strong>Н</strong>\n",
       "<br/>\n",
       "<a href=\"http://mosopen.ru/region/nagatino-sadovniki/streets\" title=\"Улицы района Нагатино-Садовники\">Нагатино-Садовники</a>,<br/>\n",
       "<a href=\"http://mosopen.ru/region/nagatinskij_zaton/streets\" title=\"Улицы района Нагатинский затон\">Нагатинский затон</a>,<br/>\n",
       "<a href=\"http://mosopen.ru/region/nagornyj/streets\" title=\"Улицы Нагорного района\">Нагорный</a>,<br/>\n",
       "<a href=\"http://mosopen.ru/region/nekrasovka/streets\" title=\"Улицы района Некрасовка\">Некрасовка</a>,<br/>\n",
       "<a href=\"http://mosopen.ru/region/nizhegorodskij/streets\" title=\"Улицы Нижегородского района\">Нижегородский</a>,<br/>\n",
       "<a href=\"http://mosopen.ru/region/novo-peredelkino/streets\" title=\"Улицы района Ново-Переделкино\">Ново-Переделкино</a>,<br/>\n",
       "<a href=\"http://mosopen.ru/region/novogireevo/streets\" title=\"Улицы района Новогиреево\">Новогиреево</a>,<br/>\n",
       "<a href=\"http://mosopen.ru/region/novokosino/streets\" title=\"Улицы района Новокосино\">Новокосино</a>. \n",
       "    </p>\n",
       "<p>\n",
       "<strong>О</strong>\n",
       "<br/>\n",
       "<a href=\"http://mosopen.ru/region/obruchevskij/streets\" title=\"Улицы Обручевского района\">Обручевский</a>,<br/>\n",
       "<a href=\"http://mosopen.ru/region/orehovo-borisovo_severnoe/streets\" title=\"Улицы района Орехово-Борисово Северное\">Орехово-Борисово Северное</a>,<br/>\n",
       "<a href=\"http://mosopen.ru/region/orehovo-borisovo_yuzhnoe/streets\" title=\"Улицы района Орехово-Борисово Южное\">Орехово-Борисово Южное</a>,<br/>\n",
       "<a href=\"http://mosopen.ru/region/ostankinskij/streets\" title=\"Улицы Останкинского района\">Останкинский</a>,<br/>\n",
       "<a href=\"http://mosopen.ru/region/otradnoe/streets\" title=\"Улицы района Отрадное\">Отрадное</a>,<br/>\n",
       "<a href=\"http://mosopen.ru/region/ochakovo-matveevskoe/streets\" title=\"Улицы района Очаково-Матвеевское\">Очаково-Матвеевское</a>. \n",
       "    </p>\n",
       "</td>\n",
       "<td>\n",
       "<p>\n",
       "<strong>П</strong>\n",
       "<br/>\n",
       "<a href=\"http://mosopen.ru/region/perovo/streets\" title=\"Улицы района Перово\">Перово</a>,<br/>\n",
       "<a href=\"http://mosopen.ru/region/pechatniki/streets\" title=\"Улицы района Печатники\">Печатники</a>,<br/>\n",
       "<a href=\"http://mosopen.ru/region/pokrovskoe-streshnevo/streets\" title=\"Улицы района Покровское-Стрешнево\">Покровское-Стрешнево</a>,<br/>\n",
       "<a href=\"http://mosopen.ru/region/preobrazhenskoe/streets\" title=\"Улицы района Преображенское\">Преображенское</a>,<br/>\n",
       "<a href=\"http://mosopen.ru/region/presnenskij/streets\" title=\"Улицы Пресненского района\">Пресненский</a>,<br/>\n",
       "<a href=\"http://mosopen.ru/region/prospekt_vernadskogo/streets\" title=\"Улицы района Проспект Вернадского\">Проспект Вернадского</a>. \n",
       "    </p>\n",
       "<p>\n",
       "<strong>Р</strong>\n",
       "<br/>\n",
       "<a href=\"http://mosopen.ru/region/ramenki/streets\" title=\"Улицы района Раменки\">Раменки</a>,<br/>\n",
       "<a href=\"http://mosopen.ru/region/rostokino/streets\" title=\"Улицы района Ростокино\">Ростокино</a>,<br/>\n",
       "<a href=\"http://mosopen.ru/region/ryazanskij/streets\" title=\"Улицы Рязанского района\">Рязанский</a>. \n",
       "    </p>\n",
       "<p>\n",
       "<strong>С</strong>\n",
       "<br/>\n",
       "<a href=\"http://mosopen.ru/region/savelki/streets\" title=\"Улицы района Савёлки\">Савёлки</a>,<br/>\n",
       "<a href=\"http://mosopen.ru/region/savelovskij/streets\" title=\"Улицы Савёловского района\">Савёловский</a>,<br/>\n",
       "<a href=\"http://mosopen.ru/region/sviblovo/streets\" title=\"Улицы района Свиблово\">Свиблово</a>,<br/>\n",
       "<a href=\"http://mosopen.ru/region/severnyj/streets\" title=\"Улицы района Северный\">Северный</a>,<br/>\n",
       "<a href=\"http://mosopen.ru/region/silino/streets\" title=\"Улицы района Силино\">Силино</a>,<br/>\n",
       "<a href=\"http://mosopen.ru/region/sokol/streets\" title=\"Улицы района Сокол\">Сокол</a>,<br/>\n",
       "<a href=\"http://mosopen.ru/region/sokolinaya_gora/streets\" title=\"Улицы района Соколиная гора\">Соколиная гора</a>,<br/>\n",
       "<a href=\"http://mosopen.ru/region/sokolniki/streets\" title=\"Улицы района Сокольники\">Сокольники</a>,<br/>\n",
       "<a href=\"http://mosopen.ru/region/solncevo/streets\" title=\"Улицы района Солнцево\">Солнцево</a>,<br/>\n",
       "<a href=\"http://mosopen.ru/region/staroe_kryukovo/streets\" title=\"Улицы района Старое Крюково\">Старое Крюково</a>,<br/>\n",
       "<a href=\"http://mosopen.ru/region/strogino/streets\" title=\"Улицы района Строгино\">Строгино</a>. \n",
       "    </p>\n",
       "<p>\n",
       "<strong>Т</strong>\n",
       "<br/>\n",
       "<a href=\"http://mosopen.ru/region/taganskij/streets\" title=\"Улицы Таганского района\">Таганский</a>,<br/>\n",
       "<a href=\"http://mosopen.ru/region/tverskoj/streets\" title=\"Улицы Тверского района\">Тверской</a>,<br/>\n",
       "<a href=\"http://mosopen.ru/region/tekstilshchiki/streets\" title=\"Улицы района Текстильщики\">Текстильщики</a>,<br/>\n",
       "<a href=\"http://mosopen.ru/region/teplyj_stan/streets\" title=\"Улицы района Тёплый Стан\">Тёплый Стан</a>,<br/>\n",
       "<a href=\"http://mosopen.ru/region/timiryazevskij/streets\" title=\"Улицы Тимирязевского района\">Тимирязевский</a>,<br/>\n",
       "<a href=\"http://mosopen.ru/region/troparevo-nikulino/streets\" title=\"Улицы района Тропарёво-Никулино\">Тропарёво-Никулино</a>,<br/>\n",
       "<a href=\"http://mosopen.ru/region/tushino_severnoe/streets\" title=\"Улицы района Северное Тушино\">Тушино Северное</a>,<br/>\n",
       "<a href=\"http://mosopen.ru/region/tushino_yuzhnoe/streets\" title=\"Улицы района Южное Тушино\">Тушино Южное</a>. \n",
       "    </p>\n",
       "</td>\n",
       "<td>\n",
       "<p>\n",
       "<strong>Ф</strong>\n",
       "<br/>\n",
       "<a href=\"http://mosopen.ru/region/filevskij_park/streets\" title=\"Улицы района Филёвский парк\">Филёвский парк</a>,<br/>\n",
       "<a href=\"http://mosopen.ru/region/fili-davydkovo/streets\" title=\"Улицы района Фили-Давыдково\">Фили-Давыдково</a>. \n",
       "    </p>\n",
       "<p>\n",
       "<strong>Х</strong>\n",
       "<br/>\n",
       "<a href=\"http://mosopen.ru/region/hamovniki/streets\" title=\"Улицы района Хамовники\">Хамовники</a>,<br/>\n",
       "<a href=\"http://mosopen.ru/region/hovrino/streets\" title=\"Улицы района Ховрино\">Ховрино</a>,<br/>\n",
       "<a href=\"http://mosopen.ru/region/horoshevo-mnevniki/streets\" title=\"Улицы района Хорошёво-Мневники\">Хорошёво-Мневники</a>,<br/>\n",
       "<a href=\"http://mosopen.ru/region/horoshevskij/streets\" title=\"Улицы Хорошёвского района\">Хорошёвский</a>. \n",
       "    </p>\n",
       "<p>\n",
       "<strong>Ц</strong>\n",
       "<br/>\n",
       "<a href=\"http://mosopen.ru/region/caricyno/streets\" title=\"Улицы района Царицыно\">Царицыно</a>. \n",
       "    </p>\n",
       "<p>\n",
       "<strong>Ч</strong>\n",
       "<br/>\n",
       "<a href=\"http://mosopen.ru/region/cheremushki/streets\" title=\"Улицы района Черёмушки\">Черёмушки</a>,<br/>\n",
       "<a href=\"http://mosopen.ru/region/chertanovo_severnoe/streets\" title=\"Улицы района Чертаново Северное\">Чертаново Северное</a>,<br/>\n",
       "<a href=\"http://mosopen.ru/region/chertanovo_centralnoe/streets\" title=\"Улицы района Чертаново Центральное\">Чертаново Центральное</a>,<br/>\n",
       "<a href=\"http://mosopen.ru/region/chertanovo_yuzhnoe/streets\" title=\"Улицы района Чертаново Южное\">Чертаново Южное</a>. \n",
       "    </p>\n",
       "<p>\n",
       "<strong>Щ</strong>\n",
       "<br/>\n",
       "<a href=\"http://mosopen.ru/region/shchukino/streets\" title=\"Улицы района Щукино\">Щукино</a>. \n",
       "    </p>\n",
       "<p>\n",
       "<strong>Ю</strong>\n",
       "<br/>\n",
       "<a href=\"http://mosopen.ru/region/yuzhnoportovyj/streets\" title=\"Улицы Южнопортового района\">Южнопортовый</a>. \n",
       "    </p>\n",
       "<p>\n",
       "<strong>Я</strong>\n",
       "<br/>\n",
       "<a href=\"http://mosopen.ru/region/yakimanka/streets\" title=\"Улицы района Якиманка\">Якиманка</a>,<br/>\n",
       "<a href=\"http://mosopen.ru/region/yaroslavskij/streets\" title=\"Улицы Ярославского района\">Ярославский</a>,<br/>\n",
       "<a href=\"http://mosopen.ru/region/yasenevo/streets\" title=\"Улицы района Ясенево\">Ясенево</a>. \n",
       "    </p>\n",
       "</td>\n",
       "</tr>\n",
       "</table>\n",
       "</div>\n",
       "<div id=\"regions_by_districts\" style=\"display:none;\">\n",
       "<table class=\"regions_list\">\n",
       "<tr>\n",
       "<td>\n",
       "<p>\n",
       "<strong><a href=\"http://mosopen.ru/district/cao/streets\" title=\"Улицы Центрального административного округа\">ЦАО</a></strong>\n",
       "<br/>\n",
       "<a href=\"http://mosopen.ru/region/arbat/streets\" title=\"Улицы района Арбат\">Арбат</a>,<br/>\n",
       "<a href=\"http://mosopen.ru/region/basmannyj/streets\" title=\"Улицы Басманного района\">Басманный</a>,<br/>\n",
       "<a href=\"http://mosopen.ru/region/zamoskvoreche/streets\" title=\"Улицы района Замоскворечье\">Замоскворечье</a>,<br/>\n",
       "<a href=\"http://mosopen.ru/region/krasnoselskij/streets\" title=\"Улицы Красносельского района\">Красносельский</a>,<br/>\n",
       "<a href=\"http://mosopen.ru/region/meshchanskij/streets\" title=\"Улицы Мещанского района\">Мещанский</a>,<br/>\n",
       "<a href=\"http://mosopen.ru/region/presnenskij/streets\" title=\"Улицы Пресненского района\">Пресненский</a>,<br/>\n",
       "<a href=\"http://mosopen.ru/region/taganskij/streets\" title=\"Улицы Таганского района\">Таганский</a>,<br/>\n",
       "<a href=\"http://mosopen.ru/region/tverskoj/streets\" title=\"Улицы Тверского района\">Тверской</a>,<br/>\n",
       "<a href=\"http://mosopen.ru/region/hamovniki/streets\" title=\"Улицы района Хамовники\">Хамовники</a>,<br/>\n",
       "<a href=\"http://mosopen.ru/region/yakimanka/streets\" title=\"Улицы района Якиманка\">Якиманка</a>. \n",
       "    </p>\n",
       "</td>\n",
       "<td>\n",
       "<p>\n",
       "<strong><a href=\"http://mosopen.ru/district/sao/streets\" title=\"Улицы Северного административного округа\">САО</a></strong>\n",
       "<br/>\n",
       "<a href=\"http://mosopen.ru/region/aeroport/streets\" title=\"Улицы района Аэропорт\">Аэропорт</a>,<br/>\n",
       "<a href=\"http://mosopen.ru/region/begovoj/streets\" title=\"Улицы района Беговой\">Беговой</a>,<br/>\n",
       "<a href=\"http://mosopen.ru/region/beskudnikovskij/streets\" title=\"Улицы Бескудниковского района\">Бескудниковский</a>,<br/>\n",
       "<a href=\"http://mosopen.ru/region/vojkovskij/streets\" title=\"Улицы Войковского района\">Войковский</a>,<br/>\n",
       "<a href=\"http://mosopen.ru/region/golovinskij/streets\" title=\"Улицы Головинского района\">Головинский</a>,<br/>\n",
       "<a href=\"http://mosopen.ru/region/degunino_vostochnoe/streets\" title=\"Улицы района Восточное Дегунино\">Дегунино Восточное</a>,<br/>\n",
       "<a href=\"http://mosopen.ru/region/degunino_zapadnoe/streets\" title=\"Улицы района Западное Дегунино\">Дегунино Западное</a>,<br/>\n",
       "<a href=\"http://mosopen.ru/region/dmitrovskij/streets\" title=\"Улицы Дмитровского района\">Дмитровский</a>,<br/>\n",
       "<a href=\"http://mosopen.ru/region/koptevo/streets\" title=\"Улицы района Коптево\">Коптево</a>,<br/>\n",
       "<a href=\"http://mosopen.ru/region/levoberezhnyj/streets\" title=\"Улицы района Левобережный\">Левобережный</a>,<br/>\n",
       "<a href=\"http://mosopen.ru/region/molzhaninovskij/streets\" title=\"Улицы Молжаниновского района\">Молжаниновский</a>,<br/>\n",
       "<a href=\"http://mosopen.ru/region/savelovskij/streets\" title=\"Улицы Савёловского района\">Савёловский</a>,<br/>\n",
       "<a href=\"http://mosopen.ru/region/sokol/streets\" title=\"Улицы района Сокол\">Сокол</a>,<br/>\n",
       "<a href=\"http://mosopen.ru/region/timiryazevskij/streets\" title=\"Улицы Тимирязевского района\">Тимирязевский</a>,<br/>\n",
       "<a href=\"http://mosopen.ru/region/hovrino/streets\" title=\"Улицы района Ховрино\">Ховрино</a>,<br/>\n",
       "<a href=\"http://mosopen.ru/region/horoshevskij/streets\" title=\"Улицы Хорошёвского района\">Хорошёвский</a>. \n",
       "    </p>\n",
       "</td>\n",
       "<td>\n",
       "<p>\n",
       "<strong><a href=\"http://mosopen.ru/district/svao/streets\" title=\"Улицы Северо-Восточного административного округа\">СВАО</a></strong>\n",
       "<br/>\n",
       "<a href=\"http://mosopen.ru/region/alekseevskij/streets\" title=\"Улицы Алексеевского района\">Алексеевский</a>,<br/>\n",
       "<a href=\"http://mosopen.ru/region/altufevskij/streets\" title=\"Улицы Алтуфьевского района\">Алтуфьевский</a>,<br/>\n",
       "<a href=\"http://mosopen.ru/region/babushkinskij/streets\" title=\"Улицы Бабушкинского района\">Бабушкинский</a>,<br/>\n",
       "<a href=\"http://mosopen.ru/region/bibirevo/streets\" title=\"Улицы района Бибирево\">Бибирево</a>,<br/>\n",
       "<a href=\"http://mosopen.ru/region/butyrskij/streets\" title=\"Улицы Бутырского района\">Бутырский</a>,<br/>\n",
       "<a href=\"http://mosopen.ru/region/lianozovo/streets\" title=\"Улицы района Лианозово\">Лианозово</a>,<br/>\n",
       "<a href=\"http://mosopen.ru/region/losinoostrovskij/streets\" title=\"Улицы Лосиноостровского района\">Лосиноостровский</a>,<br/>\n",
       "<a href=\"http://mosopen.ru/region/marfino/streets\" title=\"Улицы района Марфино\">Марфино</a>,<br/>\n",
       "<a href=\"http://mosopen.ru/region/marina_roshcha/streets\" title=\"Улицы района Марьина роща\">Марьина роща</a>,<br/>\n",
       "<a href=\"http://mosopen.ru/region/medvedkovo_severnoe/streets\" title=\"Улицы района Северное Медведково\">Медведково Северное</a>,<br/>\n",
       "<a href=\"http://mosopen.ru/region/medvedkovo_yuzhnoe/streets\" title=\"Улицы района Южное Медведково\">Медведково Южное</a>,<br/>\n",
       "<a href=\"http://mosopen.ru/region/ostankinskij/streets\" title=\"Улицы Останкинского района\">Останкинский</a>,<br/>\n",
       "<a href=\"http://mosopen.ru/region/otradnoe/streets\" title=\"Улицы района Отрадное\">Отрадное</a>,<br/>\n",
       "<a href=\"http://mosopen.ru/region/rostokino/streets\" title=\"Улицы района Ростокино\">Ростокино</a>,<br/>\n",
       "<a href=\"http://mosopen.ru/region/sviblovo/streets\" title=\"Улицы района Свиблово\">Свиблово</a>,<br/>\n",
       "<a href=\"http://mosopen.ru/region/severnyj/streets\" title=\"Улицы района Северный\">Северный</a>,<br/>\n",
       "<a href=\"http://mosopen.ru/region/yaroslavskij/streets\" title=\"Улицы Ярославского района\">Ярославский</a>. \n",
       "    </p>\n",
       "</td>\n",
       "<td>\n",
       "<p>\n",
       "<strong><a href=\"http://mosopen.ru/district/vao/streets\" title=\"Улицы Восточного административного округа\">ВАО</a></strong>\n",
       "<br/>\n",
       "<a href=\"http://mosopen.ru/region/bogorodskoe/streets\" title=\"Улицы района Богородское\">Богородское</a>,<br/>\n",
       "<a href=\"http://mosopen.ru/region/veshnyaki/streets\" title=\"Улицы района Вешняки\">Вешняки</a>,<br/>\n",
       "<a href=\"http://mosopen.ru/region/vostochnyj/streets\" title=\"Улицы района Восточный\">Восточный</a>,<br/>\n",
       "<a href=\"http://mosopen.ru/region/golyanovo/streets\" title=\"Улицы района Гольяново\">Гольяново</a>,<br/>\n",
       "<a href=\"http://mosopen.ru/region/ivanovskoe/streets\" title=\"Улицы района Ивановское\">Ивановское</a>,<br/>\n",
       "<a href=\"http://mosopen.ru/region/izmajlovo_vostochnoe/streets\" title=\"Улицы района Восточное Измайлово\">Измайлово Восточное</a>,<br/>\n",
       "<a href=\"http://mosopen.ru/region/izmajlovo/streets\" title=\"Улицы района Измайлово\">Измайлово</a>,<br/>\n",
       "<a href=\"http://mosopen.ru/region/izmajlovo_severnoe/streets\" title=\"Улицы района Северное Измайлово\">Измайлово Северное</a>,<br/>\n",
       "<a href=\"http://mosopen.ru/region/kosino-uhtomskij/streets\" title=\"Улицы района Косино-Ухтомский\">Косино-Ухтомский</a>,<br/>\n",
       "<a href=\"http://mosopen.ru/region/metrogorodok/streets\" title=\"Улицы района Метрогородок\">Метрогородок</a>,<br/>\n",
       "<a href=\"http://mosopen.ru/region/novogireevo/streets\" title=\"Улицы района Новогиреево\">Новогиреево</a>,<br/>\n",
       "<a href=\"http://mosopen.ru/region/novokosino/streets\" title=\"Улицы района Новокосино\">Новокосино</a>,<br/>\n",
       "<a href=\"http://mosopen.ru/region/perovo/streets\" title=\"Улицы района Перово\">Перово</a>,<br/>\n",
       "<a href=\"http://mosopen.ru/region/preobrazhenskoe/streets\" title=\"Улицы района Преображенское\">Преображенское</a>,<br/>\n",
       "<a href=\"http://mosopen.ru/region/sokolinaya_gora/streets\" title=\"Улицы района Соколиная гора\">Соколиная гора</a>,<br/>\n",
       "<a href=\"http://mosopen.ru/region/sokolniki/streets\" title=\"Улицы района Сокольники\">Сокольники</a>. \n",
       "    </p>\n",
       "</td>\n",
       "<td>\n",
       "<p>\n",
       "<strong><a href=\"http://mosopen.ru/district/uvao/streets\" title=\"Улицы Юго-Восточного административного округа\">ЮВАО</a></strong>\n",
       "<br/>\n",
       "<a href=\"http://mosopen.ru/region/vyhino-zhulebino/streets\" title=\"Улицы района Выхино-Жулебино\">Выхино-Жулебино</a>,<br/>\n",
       "<a href=\"http://mosopen.ru/region/kapotnya/streets\" title=\"Улицы района Капотня\">Капотня</a>,<br/>\n",
       "<a href=\"http://mosopen.ru/region/kuzminki/streets\" title=\"Улицы района Кузьминки\">Кузьминки</a>,<br/>\n",
       "<a href=\"http://mosopen.ru/region/lefortovo/streets\" title=\"Улицы района Лефортово\">Лефортово</a>,<br/>\n",
       "<a href=\"http://mosopen.ru/region/lyublino/streets\" title=\"Улицы района Люблино\">Люблино</a>,<br/>\n",
       "<a href=\"http://mosopen.ru/region/marino/streets\" title=\"Улицы района Марьино\">Марьино</a>,<br/>\n",
       "<a href=\"http://mosopen.ru/region/nekrasovka/streets\" title=\"Улицы района Некрасовка\">Некрасовка</a>,<br/>\n",
       "<a href=\"http://mosopen.ru/region/nizhegorodskij/streets\" title=\"Улицы Нижегородского района\">Нижегородский</a>,<br/>\n",
       "<a href=\"http://mosopen.ru/region/pechatniki/streets\" title=\"Улицы района Печатники\">Печатники</a>,<br/>\n",
       "<a href=\"http://mosopen.ru/region/ryazanskij/streets\" title=\"Улицы Рязанского района\">Рязанский</a>,<br/>\n",
       "<a href=\"http://mosopen.ru/region/tekstilshchiki/streets\" title=\"Улицы района Текстильщики\">Текстильщики</a>,<br/>\n",
       "<a href=\"http://mosopen.ru/region/yuzhnoportovyj/streets\" title=\"Улицы Южнопортового района\">Южнопортовый</a>. \n",
       "    </p>\n",
       "</td>\n",
       "</tr>\n",
       "<tr>\n",
       "<td>\n",
       "<p>\n",
       "<strong><a href=\"http://mosopen.ru/district/uao/streets\" title=\"Улицы Южного административного округа\">ЮАО</a></strong>\n",
       "<br/>\n",
       "<a href=\"http://mosopen.ru/region/biryulevo_vostochnoe/streets\" title=\"Улицы района Бирюлёво Восточное\">Бирюлёво Восточное</a>,<br/>\n",
       "<a href=\"http://mosopen.ru/region/biryulevo_zapadnoe/streets\" title=\"Улицы района Бирюлёво Западное\">Бирюлёво Западное</a>,<br/>\n",
       "<a href=\"http://mosopen.ru/region/brateevo/streets\" title=\"Улицы района Братеево\">Братеево</a>,<br/>\n",
       "<a href=\"http://mosopen.ru/region/danilovskij/streets\" title=\"Улицы Даниловского района\">Даниловский</a>,<br/>\n",
       "<a href=\"http://mosopen.ru/region/donskoj/streets\" title=\"Улицы Донского района\">Донской</a>,<br/>\n",
       "<a href=\"http://mosopen.ru/region/zyablikovo/streets\" title=\"Улицы района Зябликово\">Зябликово</a>,<br/>\n",
       "<a href=\"http://mosopen.ru/region/moskvoreche-saburovo/streets\" title=\"Улицы района Москворечье-Сабурово\">Москворечье-Сабурово</a>,<br/>\n",
       "<a href=\"http://mosopen.ru/region/nagatino-sadovniki/streets\" title=\"Улицы района Нагатино-Садовники\">Нагатино-Садовники</a>,<br/>\n",
       "<a href=\"http://mosopen.ru/region/nagatinskij_zaton/streets\" title=\"Улицы района Нагатинский затон\">Нагатинский затон</a>,<br/>\n",
       "<a href=\"http://mosopen.ru/region/nagornyj/streets\" title=\"Улицы Нагорного района\">Нагорный</a>,<br/>\n",
       "<a href=\"http://mosopen.ru/region/orehovo-borisovo_severnoe/streets\" title=\"Улицы района Орехово-Борисово Северное\">Орехово-Борисово Северное</a>,<br/>\n",
       "<a href=\"http://mosopen.ru/region/orehovo-borisovo_yuzhnoe/streets\" title=\"Улицы района Орехово-Борисово Южное\">Орехово-Борисово Южное</a>,<br/>\n",
       "<a href=\"http://mosopen.ru/region/caricyno/streets\" title=\"Улицы района Царицыно\">Царицыно</a>,<br/>\n",
       "<a href=\"http://mosopen.ru/region/chertanovo_severnoe/streets\" title=\"Улицы района Чертаново Северное\">Чертаново Северное</a>,<br/>\n",
       "<a href=\"http://mosopen.ru/region/chertanovo_centralnoe/streets\" title=\"Улицы района Чертаново Центральное\">Чертаново Центральное</a>,<br/>\n",
       "<a href=\"http://mosopen.ru/region/chertanovo_yuzhnoe/streets\" title=\"Улицы района Чертаново Южное\">Чертаново Южное</a>. \n",
       "    </p>\n",
       "</td>\n",
       "<td>\n",
       "<p>\n",
       "<strong><a href=\"http://mosopen.ru/district/uzao/streets\" title=\"Улицы Юго-Западного административного округа\">ЮЗАО</a></strong>\n",
       "<br/>\n",
       "<a href=\"http://mosopen.ru/region/akademicheskij/streets\" title=\"Улицы Академического района\">Академический</a>,<br/>\n",
       "<a href=\"http://mosopen.ru/region/butovo_severnoe/streets\" title=\"Улицы района Северное Бутово\">Бутово Северное</a>,<br/>\n",
       "<a href=\"http://mosopen.ru/region/butovo_yuzhnoe/streets\" title=\"Улицы района Южное Бутово\">Бутово Южное</a>,<br/>\n",
       "<a href=\"http://mosopen.ru/region/gagarinskij/streets\" title=\"Улицы Гагаринского района\">Гагаринский</a>,<br/>\n",
       "<a href=\"http://mosopen.ru/region/zyuzino/streets\" title=\"Улицы района Зюзино\">Зюзино</a>,<br/>\n",
       "<a href=\"http://mosopen.ru/region/konkovo/streets\" title=\"Улицы района Коньково\">Коньково</a>,<br/>\n",
       "<a href=\"http://mosopen.ru/region/kotlovka/streets\" title=\"Улицы района Котловка\">Котловка</a>,<br/>\n",
       "<a href=\"http://mosopen.ru/region/lomonosovskij/streets\" title=\"Улицы Ломоносовского района\">Ломоносовский</a>,<br/>\n",
       "<a href=\"http://mosopen.ru/region/obruchevskij/streets\" title=\"Улицы Обручевского района\">Обручевский</a>,<br/>\n",
       "<a href=\"http://mosopen.ru/region/teplyj_stan/streets\" title=\"Улицы района Тёплый Стан\">Тёплый Стан</a>,<br/>\n",
       "<a href=\"http://mosopen.ru/region/cheremushki/streets\" title=\"Улицы района Черёмушки\">Черёмушки</a>,<br/>\n",
       "<a href=\"http://mosopen.ru/region/yasenevo/streets\" title=\"Улицы района Ясенево\">Ясенево</a>. \n",
       "    </p>\n",
       "</td>\n",
       "<td>\n",
       "<p>\n",
       "<strong><a href=\"http://mosopen.ru/district/zao/streets\" title=\"Улицы Западного административного округа\">ЗАО</a></strong>\n",
       "<br/>\n",
       "<a href=\"http://mosopen.ru/region/vnukovo/streets\" title=\"Улицы района Внуково\">Внуково</a>,<br/>\n",
       "<a href=\"http://mosopen.ru/region/dorogomilovo/streets\" title=\"Улицы района Дорогомилово\">Дорогомилово</a>,<br/>\n",
       "<a href=\"http://mosopen.ru/region/krylatskoe/streets\" title=\"Улицы района Крылатское\">Крылатское</a>,<br/>\n",
       "<a href=\"http://mosopen.ru/region/kuncevo/streets\" title=\"Улицы района Кунцево\">Кунцево</a>,<br/>\n",
       "<a href=\"http://mosopen.ru/region/mozhajskij/streets\" title=\"Улицы Можайского района\">Можайский</a>,<br/>\n",
       "<a href=\"http://mosopen.ru/region/novo-peredelkino/streets\" title=\"Улицы района Ново-Переделкино\">Ново-Переделкино</a>,<br/>\n",
       "<a href=\"http://mosopen.ru/region/ochakovo-matveevskoe/streets\" title=\"Улицы района Очаково-Матвеевское\">Очаково-Матвеевское</a>,<br/>\n",
       "<a href=\"http://mosopen.ru/region/prospekt_vernadskogo/streets\" title=\"Улицы района Проспект Вернадского\">Проспект Вернадского</a>,<br/>\n",
       "<a href=\"http://mosopen.ru/region/ramenki/streets\" title=\"Улицы района Раменки\">Раменки</a>,<br/>\n",
       "<a href=\"http://mosopen.ru/region/solncevo/streets\" title=\"Улицы района Солнцево\">Солнцево</a>,<br/>\n",
       "<a href=\"http://mosopen.ru/region/troparevo-nikulino/streets\" title=\"Улицы района Тропарёво-Никулино\">Тропарёво-Никулино</a>,<br/>\n",
       "<a href=\"http://mosopen.ru/region/filevskij_park/streets\" title=\"Улицы района Филёвский парк\">Филёвский парк</a>,<br/>\n",
       "<a href=\"http://mosopen.ru/region/fili-davydkovo/streets\" title=\"Улицы района Фили-Давыдково\">Фили-Давыдково</a>. \n",
       "    </p>\n",
       "</td>\n",
       "<td>\n",
       "<p>\n",
       "<strong><a href=\"http://mosopen.ru/district/szao/streets\" title=\"Улицы Северо-Западного административного округа\">СЗАО</a></strong>\n",
       "<br/>\n",
       "<a href=\"http://mosopen.ru/region/kurkino/streets\" title=\"Улицы района Куркино\">Куркино</a>,<br/>\n",
       "<a href=\"http://mosopen.ru/region/mitino/streets\" title=\"Улицы района Митино\">Митино</a>,<br/>\n",
       "<a href=\"http://mosopen.ru/region/pokrovskoe-streshnevo/streets\" title=\"Улицы района Покровское-Стрешнево\">Покровское-Стрешнево</a>,<br/>\n",
       "<a href=\"http://mosopen.ru/region/strogino/streets\" title=\"Улицы района Строгино\">Строгино</a>,<br/>\n",
       "<a href=\"http://mosopen.ru/region/tushino_severnoe/streets\" title=\"Улицы района Северное Тушино\">Тушино Северное</a>,<br/>\n",
       "<a href=\"http://mosopen.ru/region/tushino_yuzhnoe/streets\" title=\"Улицы района Южное Тушино\">Тушино Южное</a>,<br/>\n",
       "<a href=\"http://mosopen.ru/region/horoshevo-mnevniki/streets\" title=\"Улицы района Хорошёво-Мневники\">Хорошёво-Мневники</a>,<br/>\n",
       "<a href=\"http://mosopen.ru/region/shchukino/streets\" title=\"Улицы района Щукино\">Щукино</a>. \n",
       "    </p>\n",
       "</td>\n",
       "<td>\n",
       "<p>\n",
       "<strong><a href=\"http://mosopen.ru/district/zelao/streets\" title=\"Улицы Зеленоградского административного округа\">ЗелАО</a></strong>\n",
       "<br/>\n",
       "<a href=\"http://mosopen.ru/region/kryukovo/streets\" title=\"Улицы района Крюково\">Крюково</a>,<br/>\n",
       "<a href=\"http://mosopen.ru/region/matushkino/streets\" title=\"Улицы района Матушкино\">Матушкино</a>,<br/>\n",
       "<a href=\"http://mosopen.ru/region/savelki/streets\" title=\"Улицы района Савёлки\">Савёлки</a>,<br/>\n",
       "<a href=\"http://mosopen.ru/region/silino/streets\" title=\"Улицы района Силино\">Силино</a>,<br/>\n",
       "<a href=\"http://mosopen.ru/region/staroe_kryukovo/streets\" title=\"Улицы района Старое Крюково\">Старое Крюково</a>. \n",
       "    </p>\n",
       "</td>\n",
       "</tr>\n",
       "</table>\n",
       "</div>\n",
       "<div id=\"regions_by_map\" style=\"display:none;\">\n",
       "<p class=\"center\">\n",
       "<img alt=\"\" height=\"647\" src=\"http://mosopen.ru/public/images/regions_map.gif\" usemap=\"#regions_map\" width=\"587\"/>\n",
       "<map id=\"regions_map\" name=\"regions_map\">\n",
       "<area alt=\"Улицы Академического района\" coords=\"293,398,300,387,317,370,326,384,329,388,325,390,318,405,312,406,312,413,301,406\" href=\"http://mosopen.ru/region/akademicheskij/streets\" shape=\"poly\" title=\"Улицы Академического района\"/>\n",
       "<area alt=\"Улицы Алексеевского района\" coords=\"364,205,367,202,368,206,373,208,378,210,379,215,369,234,364,244,365,256,362,251,354,245,356,232,357,219\" href=\"http://mosopen.ru/region/alekseevskij/streets\" shape=\"poly\" title=\"Улицы Алексеевского района\"/>\n",
       "<area alt=\"Улицы Алтуфьевского района\" coords=\"303,128,310,128,311,130,315,130,319,128,324,130,332,138,317,143,316,153,311,151,306,148\" href=\"http://mosopen.ru/region/altufevskij/streets\" shape=\"poly\" title=\"Улицы Алтуфьевского района\"/>\n",
       "<area alt=\"Улицы района Арбат\" coords=\"309,316,308,307,311,303,315,302,316,300,327,304,333,304,335,305,334,306,331,306,330,310,327,313,323,313,318,315,316,313,312,316,310,315\" href=\"http://mosopen.ru/region/arbat/streets\" shape=\"poly\" title=\"Улицы района Арбат\"/>\n",
       "<area alt=\"Улицы района Аэропорт\" coords=\"268,224,279,225,289,236,300,253,306,256,302,262,276,241,262,236\" href=\"http://mosopen.ru/region/aeroport/streets\" shape=\"poly\" title=\"Улицы района Аэропорт\"/>\n",
       "<area alt=\"Улицы Бабушкинского района\" coords=\"360,157,363,156,366,151,371,147,371,138,374,135,381,135,382,134,384,134,387,142,383,149,383,153,390,160,381,170,381,175,372,167,368,167,362,162\" href=\"http://mosopen.ru/region/babushkinskij/streets\" shape=\"poly\" title=\"Улицы Бабушкинского района\"/>\n",
       "<area alt=\"Улицы Басманного района\" coords=\"350,298,360,286,375,284,376,279,385,273,388,274,392,268,406,269,411,277,401,286,397,283,393,285,390,295,388,297,380,297,380,301,382,306,380,308,376,306,370,302,366,305,359,306,354,304,350,298\" href=\"http://mosopen.ru/region/basmannyj/streets\" shape=\"poly\" title=\"Улицы Басманного района\"/>\n",
       "<area alt=\"Улицы района Беговой\" coords=\"282,254,285,250,302,263,308,255,318,255,316,270,311,275,294,278,293,275,288,270,294,264,288,258,284,257\" href=\"http://mosopen.ru/region/begovoj/streets\" shape=\"poly\" title=\"Улицы района Беговой\"/>\n",
       "<area alt=\"Улицы Бескудниковского района\" coords=\"277,147,279,144,279,142,286,140,289,144,295,141,297,149,303,161,299,161,299,164,302,167,302,172,307,172,307,178,302,177,297,167,286,155,277,148\" href=\"http://mosopen.ru/region/beskudnikovskij/streets\" shape=\"poly\" title=\"Улицы Бескудниковского района\"/>\n",
       "<area alt=\"Улицы района Бибирево\" coords=\"318,98,339,108,356,114,356,117,344,126,337,134,338,136,333,138,326,129,322,128,318,127\" href=\"http://mosopen.ru/region/bibirevo/streets\" shape=\"poly\" title=\"Улицы района Бибирево\"/>\n",
       "<area alt=\"Улицы района Бирюлёво Восточное\" coords=\"359,496,367,491,375,489,382,483,382,483,384,480,386,481,385,488,386,491,388,497,396,500,404,508,405,510,409,511,417,518,420,523,400,537,399,541,396,539,387,545,375,546,373,530,363,502\" href=\"http://mosopen.ru/region/biryulevo_vostochnoe/streets\" shape=\"poly\" title=\"Улицы района Бирюлёво Восточное\"/>\n",
       "<area alt=\"Улицы района Бирюлёво Западное\" coords=\"338,542,340,524,343,515,351,508,359,496,364,506,373,531,373,538,376,546,356,544\" href=\"http://mosopen.ru/region/biryulevo_zapadnoe/streets\" shape=\"poly\" title=\"Улицы района Бирюлёво Западное\"/>\n",
       "<area alt=\"Улицы района Богородское\" coords=\"380,212,381,202,381,193,403,204,429,220,435,226,436,232,425,231,422,230,423,233,412,238,410,236,409,238,403,241,404,235,403,231,399,228,398,228,392,223,393,221,386,218\" href=\"http://mosopen.ru/region/bogorodskoe/streets\" shape=\"poly\" title=\"Улицы района Богородское\"/>\n",
       "<area alt=\"Улицы района Братеево\" coords=\"426,467,424,462,426,457,438,456,461,445,465,444,466,448,465,458,468,469,469,475,472,477,465,484,463,473,460,469,455,468,448,472,446,469,443,470,441,468,432,467\" href=\"http://mosopen.ru/region/brateevo/streets\" shape=\"poly\" title=\"Улицы района Братеево\"/>\n",
       "<area alt=\"Улицы района Северное Бутово\" coords=\"288,528,321,542,327,554,328,554,330,557,323,561,310,577,309,571,303,569,300,569,298,563,292,559,293,551,289,548,283,547,285,543,281,538,288,539,291,534\" href=\"http://mosopen.ru/region/butovo_severnoe/streets\" shape=\"poly\" title=\"Улицы района Северное Бутово\"/>\n",
       "<area alt=\"Улицы района Южное Бутово\" coords=\"294,562,301,570,309,572,309,580,320,566,312,613,328,632,323,635,323,643,310,640,308,634,311,619,299,620,289,626,296,630,296,634,277,641,273,639,284,623,273,613,245,603,235,607,236,592,247,587,281,571,287,574\" href=\"http://mosopen.ru/region/butovo_yuzhnoe/streets\" shape=\"poly\" title=\"Улицы района Южное Бутово\"/>\n",
       "<area alt=\"Улицы Бутырского района\" coords=\"309,197,334,227,331,227,328,235,324,238,324,244,320,252,316,249,316,241,314,234,317,232,312,226,310,218,308,213\" href=\"http://mosopen.ru/region/butyrskij/streets\" shape=\"poly\" title=\"Улицы Бутырского района\"/>\n",
       "<area alt=\"Улицы района Вешняки\" coords=\"454,330,510,311,507,356,505,361,476,345,462,337\" href=\"http://mosopen.ru/region/veshnyaki/streets\" shape=\"poly\" title=\"Улицы района Вешняки\"/>\n",
       "<area alt=\"Улицы района Внуково\" coords=\"19,498,26,488,36,482,46,489,44,499,59,509,69,495,64,490,73,484,75,490,82,482,99,489,101,483,109,486,114,492,113,497,107,499,113,509,65,532,58,527,54,530,57,515,59,510,42,499,39,500,38,504,31,499,20,501\" href=\"http://mosopen.ru/region/vnukovo/streets\" shape=\"poly\" title=\"Улицы района Внуково\"/>\n",
       "<area alt=\"Улицы Войковского района\" coords=\"234,192,237,190,239,192,248,193,257,196,259,203,264,210,267,216,265,219,269,221,267,223,244,223,245,216,249,211,247,206,237,208,236,206,238,204\" href=\"http://mosopen.ru/region/vojkovskij/streets\" shape=\"poly\" title=\"Улицы Войковского района\"/>\n",
       "<area alt=\"Улицы района Восточный\" coords=\"511,225,522,217,528,214,530,210,532,209,531,215,537,216,541,216,550,219,550,223,547,224,542,220,536,224,535,228,530,228,531,233,527,230,525,233,521,231,520,235\" href=\"http://mosopen.ru/region/vostochnyj/streets\" shape=\"poly\" title=\"Улицы района Восточный\"/>\n",
       "<area alt=\"Улицы района Выхино-Жулебино\" coords=\"470,388,477,347,518,372,524,377,522,380,525,384,522,387,525,390,526,391,520,407,498,392,503,406,500,407,494,403,487,406,487,409,482,407,482,402,479,400,482,391,476,390,472,393,469,391\" href=\"http://mosopen.ru/region/vyhino-zhulebino/streets\" shape=\"poly\" title=\"Улицы района Выхино-Жулебино\"/>\n",
       "<area alt=\"Улицы Гагаринского района\" coords=\"276,390,297,363,304,362,310,358,318,368,302,383,297,389,289,402\" href=\"http://mosopen.ru/region/gagarinskij/streets\" shape=\"poly\" title=\"Улицы Гагаринского района\"/>\n",
       "<area alt=\"Улицы Головинского района\" coords=\"229,181,246,178,262,167,259,162,265,156,294,180,272,189,264,188,264,193,258,194,246,190,241,191,238,188,234,190\" href=\"http://mosopen.ru/region/golovinskij/streets\" shape=\"poly\" title=\"Улицы Головинского района\"/>\n",
       "<area alt=\"Улицы района Гольяново\" coords=\"437,231,454,219,463,215,465,209,463,208,460,170,496,202,499,203,500,207,504,213,506,224,489,228,462,230,443,240,437,241\" href=\"http://mosopen.ru/region/golyanovo/streets\" shape=\"poly\" title=\"Улицы района Гольяново\"/>\n",
       "<area alt=\"Улицы Даниловского района\" coords=\"339,350,357,346,360,347,362,338,373,341,378,369,376,395,354,396,349,386,349,369,344,368,337,370,333,362,334,355,338,354\" href=\"http://mosopen.ru/region/danilovskij/streets\" shape=\"poly\" title=\"Улицы Даниловского района\"/>\n",
       "<area alt=\"Улицы района Восточное Дегунино\" coords=\"292,115,301,121,302,135,305,149,308,162,308,172,303,171,303,166,301,164,301,163,304,161,298,149,295,138,293,142,289,144,287,138,285,129,286,128,291,128,291,119\" href=\"http://mosopen.ru/region/degunino_vostochnoe/streets\" shape=\"poly\" title=\"Улицы района Восточное Дегунино\"/>\n",
       "<area alt=\"Улицы района Западное Дегунино\" coords=\"250,122,258,129,262,125,270,142,279,151,298,168,302,177,294,179,285,169,264,153,235,131,245,126,248,123\" href=\"http://mosopen.ru/region/degunino_zapadnoe/streets\" shape=\"poly\" title=\"Улицы района Западное Дегунино\"/>\n",
       "<area alt=\"Улицы Дмитровского района\" coords=\"252,121,272,104,280,102,282,108,290,113,291,128,284,127,284,132,287,140,278,143,278,145,276,146,271,141,262,125,258,128,255,125\" href=\"http://mosopen.ru/region/dmitrovskij/streets\" shape=\"poly\" title=\"Улицы Дмитровского района\"/>\n",
       "<area alt=\"Улицы Донского района\" coords=\"316,363,320,359,324,347,335,351,338,350,337,354,335,353,332,364,336,372,344,368,349,370,349,388,346,385,342,386,343,390,336,391,331,390,323,377\" href=\"http://mosopen.ru/region/donskoj/streets\" shape=\"poly\" title=\"Улицы Донского района\"/>\n",
       "<area alt=\"Улицы района Дорогомилово\" coords=\"246,333,260,326,264,317,268,315,273,318,283,317,294,308,301,306,306,307,308,314,303,328,288,338,282,328,271,332,252,346\" href=\"http://mosopen.ru/region/dorogomilovo/streets\" shape=\"poly\" title=\"Улицы района Дорогомилово\"/>\n",
       "<area alt=\"Улицы района Замоскворечье\" coords=\"348,312,355,314,360,320,363,329,363,334,367,338,361,336,360,340,360,346,355,344,353,346,342,348,340,342,343,340,343,339,346,336,346,317,347,313\" href=\"http://mosopen.ru/region/zamoskvoreche/streets\" shape=\"poly\" title=\"Улицы района Замоскворечье\"/>\n",
       "<area alt=\"Улицы района Зюзино\" coords=\"301,444,314,422,323,423,325,422,331,425,338,425,331,435,332,454,322,453,312,449,305,446,303,446\" href=\"http://mosopen.ru/region/zyuzino/streets\" shape=\"poly\" title=\"Улицы района Зюзино\"/>\n",
       "<area alt=\"Улицы района Зябликово\" coords=\"425,469,432,467,443,470,447,472,454,469,459,470,463,474,457,473,454,478,458,481,458,485,456,488,446,492,427,494,424,481\" href=\"http://mosopen.ru/region/zyablikovo/streets\" shape=\"poly\" title=\"Улицы района Зябликово\"/>\n",
       "<area alt=\"Улицы района Ивановское\" coords=\"491,270,508,265,509,271,512,272,510,277,509,310,498,315,500,310,496,308,498,299,479,295,479,287,492,281\" href=\"http://mosopen.ru/region/ivanovskoe/streets\" shape=\"poly\" title=\"Улицы района Ивановское\"/>\n",
       "<area alt=\"Улицы района Восточное Измайлово\" coords=\"481,240,507,239,508,265,494,268,491,258,478,258,477,248,481,247\" href=\"http://mosopen.ru/region/izmajlovo_vostochnoe/streets\" shape=\"poly\" title=\"Улицы района Восточное Измайлово\"/>\n",
       "<area alt=\"Улицы района Измайлово\" coords=\"437,242,481,239,481,247,476,248,477,259,491,258,494,268,490,270,492,281,443,298,439,288,439,284,437,284,435,262\" href=\"http://mosopen.ru/region/izmajlovo/streets\" shape=\"poly\" title=\"Улицы района Измайлово\"/>\n",
       "<area alt=\"Улицы района Северное Измайлово\" coords=\"443,240,462,231,487,230,507,224,506,228,507,239\" href=\"http://mosopen.ru/region/izmajlovo_severnoe/streets\" shape=\"poly\" title=\"Улицы района Северное Измайлово\"/>\n",
       "<area alt=\"Улицы района Капотня\" coords=\"463,444,469,433,506,433,502,443,491,456,473,477,469,472,466,455,468,445,465,444\" href=\"http://mosopen.ru/region/kapotnya/streets\" shape=\"poly\" title=\"Улицы района Капотня\"/>\n",
       "<area alt=\"Улицы района Коньково\" coords=\"253,453,259,444,264,446,272,434,282,436,293,443,300,444,297,450,285,457,283,469,283,472,279,473,272,478,264,475,268,464\" href=\"http://mosopen.ru/region/konkovo/streets\" shape=\"poly\" title=\"Улицы района Коньково\"/>\n",
       "<area alt=\"Улицы района Коптево\" coords=\"258,195,265,194,267,190,270,190,293,180,297,183,278,197,280,198,281,200,275,202,277,216,281,225,278,223,269,223,270,220,267,219,268,215,263,205,259,201,260,199\" href=\"http://mosopen.ru/region/koptevo/streets\" shape=\"poly\" title=\"Улицы района Коптево\"/>\n",
       "<area alt=\"Улицы района Косино-Ухтомский\" coords=\"506,362,508,355,508,336,513,338,521,336,521,342,530,347,534,346,536,350,541,350,542,346,545,346,563,340,565,336,573,337,584,346,580,353,571,354,571,359,569,364,548,366,536,375,531,381,518,370\" href=\"http://mosopen.ru/region/kosino-uhtomskij/streets\" shape=\"poly\" title=\"Улицы района Косино-Ухтомский\"/>\n",
       "<area alt=\"Улицы района Котловка\" coords=\"312,413,314,407,319,404,328,388,331,390,331,397,334,398,337,397,339,402,333,410,331,412,333,418,335,421,333,424,327,423,325,421,322,421,315,421,317,416\" href=\"http://mosopen.ru/region/kotlovka/streets\" shape=\"poly\" title=\"Улицы района Котловка\"/>\n",
       "<area alt=\"Улицы Красносельского района\" coords=\"351,295,361,284,374,283,375,277,388,270,387,273,391,267,367,260,362,256,360,252,358,255,362,270,359,271,355,281,353,280,351,288,350,292\" href=\"http://mosopen.ru/region/krasnoselskij/streets\" shape=\"poly\" title=\"Улицы Красносельского района\"/>\n",
       "<area alt=\"Улицы района Крылатское\" coords=\"156,283,166,282,169,283,178,282,185,276,204,279,213,275,216,276,227,291,221,303,210,308,205,311,202,309,195,316,173,299\" href=\"http://mosopen.ru/region/krylatskoe/streets\" shape=\"poly\" title=\"Улицы района Крылатское\"/>\n",
       "<area alt=\"Улицы района Крюково\" coords=\"18,40,33,60,43,67,59,72,57,83,61,90,66,91,66,100,56,100,55,93,42,88,38,84,34,87,29,82,27,86,20,81,15,82,14,75,15,58,13,49,17,41\" href=\"http://mosopen.ru/region/kryukovo/streets\" shape=\"poly\" title=\"Улицы района Крюково\"/>\n",
       "<area alt=\"Улицы района Кузьминки\" coords=\"437,364,458,355,463,365,472,367,469,389,467,391,471,394,477,391,481,393,480,400,472,398,470,400,456,393,443,391,445,387,437,366\" href=\"http://mosopen.ru/region/kuzminki/streets\" shape=\"poly\" title=\"Улицы района Кузьминки\"/>\n",
       "<area alt=\"Улицы района Кунцево\" coords=\"213,340,206,325,198,315,194,317,151,281,143,272,148,266,155,260,141,246,139,264,123,282,114,286,117,288,127,288,138,285,143,274,151,283,154,292,154,315,161,338,170,336,190,341\" href=\"http://mosopen.ru/region/kuncevo/streets\" shape=\"poly\" title=\"Улицы района Кунцево\"/>\n",
       "<area alt=\"Улицы района Куркино\" coords=\"154,102,164,93,169,95,171,109,177,110,184,130,185,130,183,138,195,141,196,143,183,152,165,141,160,134,159,136,159,123,161,120,159,116,154,118,150,108,157,106\" href=\"http://mosopen.ru/region/kurkino/streets\" shape=\"poly\" title=\"Улицы района Куркино\"/>\n",
       "<area alt=\"Улицы района Левобережный\" coords=\"207,139,211,134,223,135,229,142,242,166,245,167,249,173,246,175,235,176,228,180,220,158,220,150,213,146,209,143\" href=\"http://mosopen.ru/region/levoberezhnyj/streets\" shape=\"poly\" title=\"Улицы района Левобережный\"/>\n",
       "<area alt=\"Улицы района Лефортово\" coords=\"382,309,381,300,390,298,392,295,396,284,400,288,411,278,418,288,415,302,417,308,429,316,425,331,419,331,413,326,411,319,402,317,400,319,392,314\" href=\"http://mosopen.ru/region/lefortovo/streets\" shape=\"poly\" title=\"Улицы района Лефортово\"/>\n",
       "<area alt=\"Улицы района Лианозово\" coords=\"282,102,310,97,317,98,317,128,312,130,310,127,304,127,303,122,299,117,292,112,283,106\" href=\"http://mosopen.ru/region/lianozovo/streets\" shape=\"poly\" title=\"Улицы района Лианозово\"/>\n",
       "<area alt=\"Улицы Ломоносовского района\" coords=\"262,403,275,391,288,403,292,399,294,401,287,411,285,411,283,418,277,418,270,410\" href=\"http://mosopen.ru/region/lomonosovskij/streets\" shape=\"poly\" title=\"Улицы Ломоносовского района\"/>\n",
       "<area alt=\"Улицы Лосиноостровского района\" coords=\"390,159,384,153,389,140,385,134,387,132,390,126,391,118,394,118,396,116,399,119,410,124,416,130,405,141\" href=\"http://mosopen.ru/region/losinoostrovskij/streets\" shape=\"poly\" title=\"Улицы Лосиноостровского района\"/>\n",
       "<area alt=\"Улицы района Люблино\" coords=\"419,429,418,424,422,420,430,393,429,390,432,389,433,391,451,394,470,401,472,400,481,403,482,407,488,411,488,407,492,404,497,406,503,409,506,426,507,432,487,433,468,432,467,425,462,421,452,417,439,420,431,428,423,434\" href=\"http://mosopen.ru/region/lyublino/streets\" shape=\"poly\" title=\"Улицы района Люблино\"/>\n",
       "<area alt=\"Улицы района Марфино\" coords=\"309,179,317,180,316,187,318,189,313,193,313,199,315,200,320,199,322,197,328,203,330,222,310,197,311,189,309,185\" href=\"http://mosopen.ru/region/marfino/streets\" shape=\"poly\" title=\"Улицы района Марфино\"/>\n",
       "<area alt=\"Улицы района Марьина роща\" coords=\"319,253,325,245,324,239,330,234,331,228,334,227,345,237,353,245,353,254,339,252,340,261,337,266,334,264,330,261,329,263,327,253\" href=\"http://mosopen.ru/region/marina_roshcha/streets\" shape=\"poly\" title=\"Улицы района Марьина роща\"/>\n",
       "<area alt=\"Улицы района Марьино\" coords=\"397,450,417,427,420,432,424,434,430,430,442,421,450,418,462,422,468,431,464,443,438,456,419,454,413,456\" href=\"http://mosopen.ru/region/marino/streets\" shape=\"poly\" title=\"Улицы района Марьино\"/>\n",
       "<area alt=\"Улицы района Матушкино\" coords=\"56,41,53,35,48,31,55,21,50,19,46,13,49,9,55,12,59,12,60,16,72,24,70,28,72,30,72,31,63,29,61,31,61,41,56,41\" href=\"http://mosopen.ru/region/matushkino/streets\" shape=\"poly\" title=\"Улицы района Матушкино\"/>\n",
       "<area alt=\"Улицы района Северное Медведково\" coords=\"343,130,345,127,357,119,357,115,379,117,382,115,385,118,390,118,390,124,386,132,381,132,380,134,372,134,369,139,369,141,356,139,358,132\" href=\"http://mosopen.ru/region/medvedkovo_severnoe/streets\" shape=\"poly\" title=\"Улицы района Северное Медведково\"/>\n",
       "<area alt=\"Улицы района Южное Медведково\" coords=\"338,134,343,130,357,132,354,140,369,143,370,147,364,151,362,155,356,157,354,162,350,156,349,152,340,144,339,139,341,136\" href=\"http://mosopen.ru/region/medvedkovo_yuzhnoe/streets\" shape=\"poly\" title=\"Улицы района Южное Медведково\"/>\n",
       "<area alt=\"Улицы района Метрогородок\" coords=\"403,162,418,145,420,147,426,144,426,141,427,140,460,169,463,214,453,218,437,230,435,224,429,218,408,207,393,197,384,193,385,191,386,188,394,180,396,178,394,170,396,172,398,176,400,181,413,182,418,175,417,162\" href=\"http://mosopen.ru/region/metrogorodok/streets\" shape=\"poly\" title=\"Улицы района Метрогородок\"/>\n",
       "<area alt=\"Улицы Мещанского района\" coords=\"344,296,349,297,349,291,352,280,355,281,358,270,360,270,357,252,354,250,354,254,354,255,341,255,339,264,337,266,341,272,342,278,345,281,344,289,343,292,343,294\" href=\"http://mosopen.ru/region/meshchanskij/streets\" shape=\"poly\" title=\"Улицы Мещанского района\"/>\n",
       "<area alt=\"Улицы района Митино\" coords=\"142,215,139,202,135,197,134,190,139,190,141,185,128,182,134,175,135,165,151,153,161,154,162,163,159,170,162,173,168,170,173,172,171,182,174,194,173,203,166,202,162,202,152,207,149,213\" href=\"http://mosopen.ru/region/mitino/streets\" shape=\"poly\" title=\"Улицы района Митино\"/>\n",
       "<area alt=\"Улицы Можайского района\" coords=\"161,338,171,337,189,341,213,341,218,364,214,364,214,367,200,371,201,369,193,364,193,370,187,367,180,373,182,376,180,377,168,360,165,360,167,356\" href=\"http://mosopen.ru/region/mozhajskij/streets\" shape=\"poly\" title=\"Улицы Можайского района\"/>\n",
       "<area alt=\"Улицы Молжаниновского района\" coords=\"176,90,157,97,153,92,162,82,146,70,139,76,131,64,143,60,133,41,143,42,150,38,174,45,187,40,184,21,165,25,162,17,171,8,193,2,217,7,204,24,187,26,189,38,195,46,186,51,181,61,185,71,178,68,173,83\" href=\"http://mosopen.ru/region/molzhaninovskij/streets\" shape=\"poly\" title=\"Улицы Молжаниновского района\"/>\n",
       "<area alt=\"Улицы района Москворечье-Сабурово\" coords=\"347,458,346,443,346,433,356,436,358,433,373,443,376,438,379,437,387,444,399,452,411,457,425,455,423,462,425,467,414,466,407,469,401,469,399,471,395,470,397,462,393,460,369,458,367,458,361,458,358,454,354,457\" href=\"http://mosopen.ru/region/moskvoreche-saburovo/streets\" shape=\"poly\" title=\"Улицы района Москворечье-Сабурово\"/>\n",
       "<area alt=\"Улицы района Нагатино-Садовники\" coords=\"343,389,343,386,349,388,351,395,356,398,376,395,375,413,372,421,364,435,358,431,356,435,346,432,346,420,348,411,345,389\" href=\"http://mosopen.ru/region/nagatino-sadovniki/streets\" shape=\"poly\" title=\"Улицы района Нагатино-Садовники\"/>\n",
       "<area alt=\"Улицы района Нагатинский затон\" coords=\"365,436,370,430,376,414,377,394,378,376,382,377,384,380,394,380,406,386,411,392,411,400,405,406,395,411,387,416,382,421,381,437,376,437,373,442\" href=\"http://mosopen.ru/region/nagatinskij_zaton/streets\" shape=\"poly\" title=\"Улицы района Нагатинский затон\"/>\n",
       "<area alt=\"Улицы Нагорного района\" coords=\"332,391,338,391,343,390,348,413,345,423,344,436,346,452,343,453,342,455,333,454,332,434,338,425,335,424,336,421,333,417,331,412,338,407,339,401,338,397,334,397,331,395\" href=\"http://mosopen.ru/region/nagornyj/streets\" shape=\"poly\" title=\"Улицы Нагорного района\"/>\n",
       "<area alt=\"Улицы района Некрасовка\" coords=\"546,409,548,402,548,397,557,393,562,396,566,396,571,401,571,407,565,411,556,408,550,411\" href=\"http://mosopen.ru/region/nekrasovka/streets\" shape=\"poly\" title=\"Улицы района Некрасовка\"/>\n",
       "<area alt=\"Улицы Нижегородского района\" coords=\"400,321,403,319,411,319,414,328,417,331,424,332,430,316,439,325,449,327,453,330,448,331,446,336,416,347,413,344,404,350,390,340,393,339,392,335,398,338,402,326\" href=\"http://mosopen.ru/region/nizhegorodskij/streets\" shape=\"poly\" title=\"Улицы Нижегородского района\"/>\n",
       "<area alt=\"Улицы района Ново-Переделкино\" coords=\"126,454,127,446,133,438,138,431,135,428,139,422,145,426,149,420,154,421,154,441,159,442,157,450,158,453,157,456,160,463,165,468,158,476,155,474,152,468,150,470,147,462,139,462,135,465,128,460\" href=\"http://mosopen.ru/region/novo-peredelkino/streets\" shape=\"poly\" title=\"Улицы района Ново-Переделкино\"/>\n",
       "<area alt=\"Улицы района Новогиреево\" coords=\"458,328,466,316,468,316,467,309,479,305,481,305,484,297,497,300,495,309,500,311,497,314\" href=\"http://mosopen.ru/region/novogireevo/streets\" shape=\"poly\" title=\"Улицы района Новогиреево\"/>\n",
       "<area alt=\"Улицы района Новокосино\" coords=\"508,335,510,316,514,318,539,311,543,308,545,320,538,318,532,325,526,326,523,336,514,338,511,336\" href=\"http://mosopen.ru/region/novokosino/streets\" shape=\"poly\" title=\"Улицы района Новокосино\"/>\n",
       "<area alt=\"Улицы Обручевского района\" coords=\"241,444,260,426,272,412,277,419,284,419,286,411,293,416,282,434,272,433,263,445,259,443,252,453,244,448\" href=\"http://mosopen.ru/region/obruchevskij/streets\" shape=\"poly\" title=\"Улицы Обручевского района\"/>\n",
       "<area alt=\"Улицы района Орехово-Борисово Северное\" coords=\"383,481,389,472,392,467,393,462,395,463,395,470,398,473,403,469,408,469,415,467,424,468,424,485,425,492,397,500,390,497,386,491,387,479\" href=\"http://mosopen.ru/region/orehovo-borisovo_severnoe/streets\" shape=\"poly\" title=\"Улицы района Орехово-Борисово Северное\"/>\n",
       "<area alt=\"Улицы района Орехово-Борисово Южное\" coords=\"397,500,403,500,425,492,427,494,447,492,457,487,460,483,458,479,455,478,459,474,463,475,464,485,445,506,427,519,428,524,423,521,421,523,417,516,410,511,406,511,404,507,400,503\" href=\"http://mosopen.ru/region/orehovo-borisovo_yuzhnoe/streets\" shape=\"poly\" title=\"Улицы района Орехово-Борисово Южное\"/>\n",
       "<area alt=\"Улицы Останкинского района\" coords=\"353,244,356,217,363,206,354,200,354,194,349,191,346,186,346,168,343,166,343,171,337,183,317,180,317,185,319,189,314,194,314,198,319,198,322,197,328,202,329,208,331,221\" href=\"http://mosopen.ru/region/ostankinskij/streets\" shape=\"poly\" title=\"Улицы Останкинского района\"/>\n",
       "<area alt=\"Улицы района Отрадное\" coords=\"307,150,317,154,317,145,339,137,338,144,349,153,350,157,352,160,352,166,348,167,342,164,342,170,337,181,309,179,309,162\" href=\"http://mosopen.ru/region/otradnoe/streets\" shape=\"poly\" title=\"Улицы района Отрадное\"/>\n",
       "<area alt=\"Улицы района Очаково-Матвеевское\" coords=\"181,378,188,367,194,371,195,366,201,372,215,368,216,365,227,363,228,358,231,357,232,352,236,348,247,353,245,365,232,375,226,384,236,396,222,411,210,419,207,424,203,426,191,402,187,388\" href=\"http://mosopen.ru/region/ochakovo-matveevskoe/streets\" shape=\"poly\" title=\"Улицы района Очаково-Матвеевское\"/>\n",
       "<area alt=\"Улицы района Перово\" coords=\"418,307,430,303,428,298,430,297,432,299,437,296,438,287,442,298,477,287,477,295,484,297,480,304,476,305,465,308,467,315,464,314,458,328,454,329,449,326,439,323,431,315\" href=\"http://mosopen.ru/region/perovo/streets\" shape=\"poly\" title=\"Улицы района Перово\"/>\n",
       "<area alt=\"Улицы района Печатники\" coords=\"392,379,396,371,393,368,388,358,402,349,404,350,413,345,420,356,423,360,424,369,424,377,428,391,427,395,422,413,419,422,412,431,398,449,383,440,381,436,383,422,389,415,399,411,409,405,413,400,413,393,409,386,401,382\" href=\"http://mosopen.ru/region/pechatniki/streets\" shape=\"poly\" title=\"Улицы района Печатники\"/>\n",
       "<area alt=\"Улицы района Покровское-Стрешнево\" coords=\"175,204,175,200,185,203,190,199,190,197,196,194,199,198,204,196,223,198,228,194,231,190,237,204,233,205,237,209,246,208,248,211,243,216,242,223,235,222,232,227,220,228,214,224,211,232,207,231,201,232,192,227,188,219,188,215,184,208\" href=\"http://mosopen.ru/region/pokrovskoe-streshnevo/streets\" shape=\"poly\" title=\"Улицы района Покровское-Стрешнево\"/>\n",
       "<area alt=\"Улицы района Преображенское\" coords=\"402,267,403,259,407,254,402,242,409,239,410,238,412,238,422,233,424,231,427,232,435,232,436,241,436,252,431,250,428,251,425,255,421,259,414,260,415,262,408,263,407,267\" href=\"http://mosopen.ru/region/preobrazhenskoe/streets\" shape=\"poly\" title=\"Улицы района Преображенское\"/>\n",
       "<area alt=\"Улицы Пресненского района\" coords=\"272,314,264,299,269,296,272,299,280,291,284,283,292,279,311,276,312,279,314,278,324,287,323,290,328,291,335,300,336,302,336,304,332,302,330,304,321,301,315,299,314,301,309,302,308,305,302,303,294,305,282,315,276,316,271,314\" href=\"http://mosopen.ru/region/presnenskij/streets\" shape=\"poly\" title=\"Улицы Пресненского района\"/>\n",
       "<area alt=\"Улицы района Проспект Вернадского\" coords=\"233,399,236,396,239,404,246,400,243,394,245,393,249,395,252,393,257,393,260,404,271,411,258,427,248,415,243,417,236,406,233,405,234,401,234,399\" href=\"http://mosopen.ru/region/prospekt_vernadskogo/streets\" shape=\"poly\" title=\"Улицы района Проспект Вернадского\"/>\n",
       "<area alt=\"Улицы района Раменки\" coords=\"248,352,254,345,267,335,282,329,287,338,283,344,283,354,287,360,297,363,279,386,261,403,257,392,251,392,250,394,244,392,242,393,245,400,240,403,236,394,228,384,237,371,246,365,248,357\" href=\"http://mosopen.ru/region/ramenki/streets\" shape=\"poly\" title=\"Улицы района Раменки\"/>\n",
       "<area alt=\"Улицы района Ростокино\" coords=\"347,183,364,182,371,180,379,182,374,189,378,191,381,203,380,210,371,206,367,204,368,201,365,204,356,199,355,193,350,190\" href=\"http://mosopen.ru/region/rostokino/streets\" shape=\"poly\" title=\"Улицы района Ростокино\"/>\n",
       "<area alt=\"Улицы Рязанского района\" coords=\"432,343,446,338,449,332,452,331,462,339,476,347,473,366,464,364,458,353,439,362\" href=\"http://mosopen.ru/region/ryazanskij/streets\" shape=\"poly\" title=\"Улицы Рязанского района\"/>\n",
       "<area alt=\"Улицы района Савёлки\" coords=\"58,47,68,50,73,53,74,56,78,59,84,57,94,73,98,74,97,70,102,57,99,50,94,50,90,48,97,42,86,35,88,32,85,31,83,32,75,26,73,27,76,31,73,33,66,32,63,33,63,42,57,43,57,46\" href=\"http://mosopen.ru/region/savelki/streets\" shape=\"poly\" title=\"Улицы района Савёлки\"/>\n",
       "<area alt=\"Улицы Савёловского района\" coords=\"290,236,296,238,313,233,315,244,315,250,317,254,307,255,300,252,296,244\" href=\"http://mosopen.ru/region/savelovskij/streets\" shape=\"poly\" title=\"Улицы Савёловского района\"/>\n",
       "<area alt=\"Улицы района Свиблово\" coords=\"347,182,346,168,352,167,354,162,358,158,362,163,367,168,373,168,381,177,380,181,370,180,358,181\" href=\"http://mosopen.ru/region/sviblovo/streets\" shape=\"poly\" title=\"Улицы района Свиблово\"/>\n",
       "<area alt=\"Улицы района Северный\" coords=\"281,101,268,56,286,51,282,41,290,36,294,43,298,43,299,55,295,98\" href=\"http://mosopen.ru/region/severnyj/streets\" shape=\"poly\" title=\"Улицы района Северный\"/>\n",
       "<area alt=\"Улицы района Силино\" coords=\"4,9,22,9,24,14,35,12,44,5,49,8,44,14,49,21,52,23,47,32,50,34,55,42,49,41,41,37,35,40,30,53,3,11\" href=\"http://mosopen.ru/region/silino/streets\" shape=\"poly\" title=\"Улицы района Силино\"/>\n",
       "<area alt=\"Улицы района Сокол\" coords=\"244,223,267,224,260,236,268,240,266,252,257,255,254,249,244,227\" href=\"http://mosopen.ru/region/sokol/streets\" shape=\"poly\" title=\"Улицы района Сокол\"/>\n",
       "<area alt=\"Улицы района Соколиная гора\" coords=\"407,267,408,264,415,263,415,260,420,261,424,258,428,252,434,252,434,262,436,287,436,295,432,298,430,296,426,297,428,302,417,308,416,302,418,288\" href=\"http://mosopen.ru/region/sokolinaya_gora/streets\" shape=\"poly\" title=\"Улицы района Соколиная гора\"/>\n",
       "<area alt=\"Улицы района Сокольники\" coords=\"381,212,386,219,392,221,392,224,398,230,400,230,404,234,400,244,406,253,401,260,401,266,393,266,367,257,366,244\" href=\"http://mosopen.ru/region/sokolniki/streets\" shape=\"poly\" title=\"Улицы района Сокольники\"/>\n",
       "<area alt=\"Улицы района Солнцево\" coords=\"190,403,203,430,197,428,189,429,187,434,190,437,188,442,191,448,189,460,183,469,176,468,173,471,168,471,168,465,163,465,158,457,159,454,158,450,161,442,155,441,155,432,162,432,162,423,167,423,170,428,178,429,189,424,187,419,182,416,183,408\" href=\"http://mosopen.ru/region/solncevo/streets\" shape=\"poly\" title=\"Улицы района Солнцево\"/>\n",
       "<area alt=\"Улицы района Старое Крюково\" coords=\"59,71,40,62,31,54,37,44,41,40,51,44,56,44,56,48,70,53,72,56,67,57,66,58,66,62,61,63,60,68\" href=\"http://mosopen.ru/region/staroe_kryukovo/streets\" shape=\"poly\" title=\"Улицы района Старое Крюково\"/>\n",
       "<area alt=\"Улицы района Строгино\" coords=\"174,206,185,211,188,217,189,224,195,231,201,233,208,232,213,236,211,254,202,261,195,260,191,253,186,253,179,270,180,274,183,277,176,281,167,281,165,279,158,282,156,271,158,259,155,257,159,255,169,235,168,232,170,230\" href=\"http://mosopen.ru/region/strogino/streets\" shape=\"poly\" title=\"Улицы района Строгино\"/>\n",
       "<area alt=\"Улицы Таганского района\" coords=\"354,306,360,307,370,304,380,309,396,318,401,326,398,337,389,329,391,337,388,336,381,342,377,332,372,335,374,340,370,340,363,332,361,320,355,312,352,311,354,307\" href=\"http://mosopen.ru/region/taganskij/streets\" shape=\"poly\" title=\"Улицы Таганского района\"/>\n",
       "<area alt=\"Улицы Тверского района\" coords=\"313,276,319,268,321,254,326,256,328,265,336,267,339,270,341,278,343,281,343,288,341,289,342,296,343,298,348,298,353,305,351,311,343,311,337,314,334,310,331,308,333,307,335,306,339,302,335,298,332,292,328,289,326,290,326,287,323,284,314,276,314,275\" href=\"http://mosopen.ru/region/tverskoj/streets\" shape=\"poly\" title=\"Улицы Тверского района\"/>\n",
       "<area alt=\"Улицы района Текстильщики\" coords=\"416,348,431,343,439,362,436,364,445,387,443,390,428,387,425,377,425,366,423,359\" href=\"http://mosopen.ru/region/tekstilshchiki/streets\" shape=\"poly\" title=\"Улицы района Текстильщики\"/>\n",
       "<area alt=\"Улицы района Тёплый Стан\" coords=\"222,459,241,443,241,447,267,464,266,468,254,487,246,495,245,491\" href=\"http://mosopen.ru/region/teplyj_stan/streets\" shape=\"poly\" title=\"Улицы района Тёплый Стан\"/>\n",
       "<area alt=\"Улицы Тимирязевского района\" coords=\"295,180,300,179,307,180,311,193,307,201,307,215,313,230,316,232,297,237,290,236,283,227,280,218,277,215,277,204,281,200,283,199,281,197,298,184\" href=\"http://mosopen.ru/region/timiryazevskij/streets\" shape=\"poly\" title=\"Улицы Тимирязевского района\"/>\n",
       "<area alt=\"Улицы района Тропарёво-Никулино\" coords=\"204,428,211,420,234,400,233,406,237,408,242,417,248,418,254,422,259,427,236,447,222,458,220,453,212,442\" href=\"http://mosopen.ru/region/troparevo-nikulino/streets\" shape=\"poly\" title=\"Улицы района Тропарёво-Никулино\"/>\n",
       "<area alt=\"Улицы района Северное Тушино\" coords=\"174,174,178,162,185,152,196,144,206,139,208,144,218,151,219,162,224,173,195,178,188,176,178,176\" href=\"http://mosopen.ru/region/tushino_severnoe/streets\" shape=\"poly\" title=\"Улицы района Северное Тушино\"/>\n",
       "<area alt=\"Улицы района Южное Тушино\" coords=\"173,175,191,178,195,180,224,173,231,189,226,195,221,197,203,194,199,198,198,194,195,193,188,196,189,198,185,201,175,198,176,193,172,183\" href=\"http://mosopen.ru/region/tushino_yuzhnoe/streets\" shape=\"poly\" title=\"Улицы района Южное Тушино\"/>\n",
       "<area alt=\"Улицы района Филёвский парк\" coords=\"237,288,246,287,258,296,264,302,269,314,263,318,257,326,245,332,238,319,219,328,216,327,212,329,207,326,208,324,198,314,202,310,210,320,217,323,225,321,232,315,236,307,235,293\" href=\"http://mosopen.ru/region/filevskij_park/streets\" shape=\"poly\" title=\"Улицы района Филёвский парк\"/>\n",
       "<area alt=\"Улицы района Фили-Давыдково\" coords=\"219,363,212,331,217,327,218,328,219,329,238,320,251,346,246,352,237,347,230,352,231,357,227,356,224,359,227,360,226,362,224,361\" href=\"http://mosopen.ru/region/fili-davydkovo/streets\" shape=\"poly\" title=\"Улицы района Фили-Давыдково\"/>\n",
       "<area alt=\"Улицы района Хамовники\" coords=\"310,317,326,314,328,315,331,310,336,313,334,319,332,326,326,331,321,344,311,356,299,361,290,360,285,355,285,346,288,341,300,332,305,326,308,319\" href=\"http://mosopen.ru/region/hamovniki/streets\" shape=\"poly\" title=\"Улицы района Хамовники\"/>\n",
       "<area alt=\"Улицы района Ховрино\" coords=\"233,131,264,155,256,161,261,168,250,173,243,164,229,139,224,135,230,133\" href=\"http://mosopen.ru/region/hovrino/streets\" shape=\"poly\" title=\"Улицы района Ховрино\"/>\n",
       "<area alt=\"Улицы района Хорошёво-Мневники\" coords=\"213,254,218,254,235,259,245,261,255,257,258,274,269,294,263,299,252,289,244,284,237,287,234,295,234,311,227,320,217,322,205,315,206,310,220,305,225,298,227,289,216,272,204,277,181,274,182,266,186,254,190,255,195,260,203,262\" href=\"http://mosopen.ru/region/horoshevo-mnevniki/streets\" shape=\"poly\" title=\"Улицы района Хорошёво-Мневники\"/>\n",
       "<area alt=\"Улицы Хорошёвского района\" coords=\"257,256,268,252,267,246,268,240,278,244,284,249,281,254,286,259,290,260,293,263,287,270,293,277,287,279,281,283,276,292,271,296,267,290,259,273\" href=\"http://mosopen.ru/region/horoshevskij/streets\" shape=\"poly\" title=\"Улицы Хорошёвского района\"/>\n",
       "<area alt=\"Улицы района Царицыно\" coords=\"347,458,355,458,358,455,359,458,368,460,369,459,393,462,390,467,380,484,370,490,364,492,358,496,351,479\" href=\"http://mosopen.ru/region/caricyno/streets\" shape=\"poly\" title=\"Улицы района Царицыно\"/>\n",
       "<area alt=\"Улицы района Черёмушки\" coords=\"289,412,294,401,301,407,316,416,300,444,290,441,283,435,295,416\" href=\"http://mosopen.ru/region/cheremushki/streets\" shape=\"poly\" title=\"Улицы района Черёмушки\"/>\n",
       "<area alt=\"Улицы района Чертаново Северное\" coords=\"313,450,322,454,331,455,342,455,343,453,345,452,348,468,341,466,339,481,321,477,319,478,316,475,317,471,321,467,311,467,310,465,314,458,314,454\" href=\"http://mosopen.ru/region/chertanovo_severnoe/streets\" shape=\"poly\" title=\"Улицы района Чертаново Северное\"/>\n",
       "<area alt=\"Улицы района Чертаново Центральное\" coords=\"314,503,307,499,310,492,310,491,315,485,310,482,316,476,319,479,321,478,339,482,344,467,348,467,350,478,352,485,356,494,354,497,352,500,348,501,335,495,332,504,322,502,319,500,316,501\" href=\"http://mosopen.ru/region/chertanovo_centralnoe/streets\" shape=\"poly\" title=\"Улицы района Чертаново Центральное\"/>\n",
       "<area alt=\"Улицы района Чертаново Южное\" coords=\"308,534,311,526,314,511,314,504,318,501,320,503,332,505,335,497,349,502,354,499,356,495,358,495,353,502,350,509,340,519,338,542,329,540,326,545,329,551,327,554,322,541\" href=\"http://mosopen.ru/region/chertanovo_yuzhnoe/streets\" shape=\"poly\" title=\"Улицы района Чертаново Южное\"/>\n",
       "<area alt=\"Улицы района Щукино\" coords=\"212,253,214,238,213,234,215,226,219,230,230,228,237,224,242,224,245,234,255,253,254,256,245,260,236,257,234,259,219,254,219,251,215,253\" href=\"http://mosopen.ru/region/shchukino/streets\" shape=\"poly\" title=\"Улицы района Щукино\"/>\n",
       "<area alt=\"Улицы Южнопортового района\" coords=\"378,374,379,368,376,351,376,342,374,337,377,335,380,343,387,339,401,349,386,357,393,370,395,370,391,378,385,378\" href=\"http://mosopen.ru/region/yuzhnoportovyj/streets\" shape=\"poly\" title=\"Улицы Южнопортового района\"/>\n",
       "<area alt=\"Улицы района Якиманка\" coords=\"312,358,318,350,324,340,329,329,333,325,336,316,342,313,346,312,347,314,345,317,346,335,345,336,342,337,342,340,338,340,341,349,335,347,334,350,324,345,319,350,321,350,319,357,317,361,313,361,312,359\" href=\"http://mosopen.ru/region/yakimanka/streets\" shape=\"poly\" title=\"Улицы района Якиманка\"/>\n",
       "<area alt=\"Улицы Ярославского района\" coords=\"376,189,382,181,382,171,391,159,417,131,419,133,423,132,423,136,426,139,424,144,420,145,416,144,415,148,401,163,416,164,418,172,413,181,401,179,398,171,393,168,390,172,395,173,392,177,395,179,384,188,384,192,378,191\" href=\"http://mosopen.ru/region/yaroslavskij/streets\" shape=\"poly\" title=\"Улицы Ярославского района\"/>\n",
       "<area alt=\"Улицы района Ясенево\" coords=\"246,496,263,476,272,479,284,471,287,457,299,450,301,445,312,449,312,454,313,456,309,466,317,468,313,477,307,483,313,485,308,497,303,497,313,505,310,525,308,535,287,526,261,514\" href=\"http://mosopen.ru/region/yasenevo/streets\" shape=\"poly\" title=\"Улицы района Ясенево\"/>\n",
       "<area alt=\"Улицы Центрального административного округа\" coords=\"8,184,58,202\" href=\"http://mosopen.ru/district/cao/streets\" shape=\"rect\" title=\"Улицы Центрального административного округа\"/>\n",
       "<area alt=\"Улицы Северного административного округа\" coords=\"8,206,58,224\" href=\"http://mosopen.ru/district/sao/streets\" shape=\"rect\" title=\"Улицы Северного административного округа\"/>\n",
       "<area alt=\"Улицы Северо-Восточного административного округа\" coords=\"8,226,66,244\" href=\"http://mosopen.ru/district/svao/streets\" shape=\"rect\" title=\"Улицы Северо-Восточного административного округа\"/>\n",
       "<area alt=\"Улицы Восточного административного округа\" coords=\"8,248,58,266\" href=\"http://mosopen.ru/district/vao/streets\" shape=\"rect\" title=\"Улицы Восточного административного округа\"/>\n",
       "<area alt=\"Улицы Юго-Восточного административного округа\" coords=\"8,268,70,286\" href=\"http://mosopen.ru/district/uvao/streets\" shape=\"rect\" title=\"Улицы Юго-Восточного административного округа\"/>\n",
       "<area alt=\"Улицы Южного административного округа\" coords=\"8,290,62,308\" href=\"http://mosopen.ru/district/uao/streets\" shape=\"rect\" title=\"Улицы Южного административного округа\"/>\n",
       "<area alt=\"Улицы Юго-Западного административного округа\" coords=\"8,310,68,328\" href=\"http://mosopen.ru/district/uzao/streets\" shape=\"rect\" title=\"Улицы Юго-Западного административного округа\"/>\n",
       "<area alt=\"Улицы Западного административного округа\" coords=\"8,332,58,350\" href=\"http://mosopen.ru/district/zao/streets\" shape=\"rect\" title=\"Улицы Западного административного округа\"/>\n",
       "<area alt=\"Улицы Северо-Западного административного округа\" coords=\"8,352,66,370\" href=\"http://mosopen.ru/district/szao/streets\" shape=\"rect\" title=\"Улицы Северо-Западного административного округа\"/>\n",
       "<area alt=\"Улицы Зеленоградского административного округа\" coords=\"8,374,70,392\" href=\"http://mosopen.ru/district/zelao/streets\" shape=\"rect\" title=\"Улицы Зеленоградского административного округа\"/>\n",
       "</map>\n",
       "</p>\n",
       "</div>\n",
       "<h2>Типы улиц</h2>\n",
       "<p>\n",
       "В связи с развитием города, внешний вид улиц зачастую меняется, поэтому названия типов некоторых улиц довольно условны. Например, переулок может перестать быть переулком, но название может остаться прежним.</p>\n",
       "<p>Типы (виды) улиц Москвы: \n",
       "  <a href=\"http://mosopen.ru/streets/type/9\" title=\"Аллеи Москвы\">аллеи</a>,  \n",
       "  <a href=\"http://mosopen.ru/streets/type/8\" title=\"Бульвары Москвы\">бульвары</a>,  \n",
       "  <a href=\"http://mosopen.ru/streets/type/20\" title=\"Деревни Москвы\">деревни</a>,  \n",
       "  <a href=\"http://mosopen.ru/streets/type/18\" title=\"Кварталы Москвы\">кварталы</a>,  \n",
       "  <a href=\"http://mosopen.ru/streets/type/17\" title=\"Линии Москвы\">линии</a>,  \n",
       "  <a href=\"http://mosopen.ru/streets/type/16\" title=\"Микрорайоны Москвы\">микрорайоны</a>,  \n",
       "  <a href=\"http://mosopen.ru/streets/type/11\" title=\"Мосты Москвы\">мосты</a>,  \n",
       "  <a href=\"http://mosopen.ru/streets/type/5\" title=\"Набережные Москвы\">набережные</a>,  \n",
       "  <a href=\"http://mosopen.ru/streets/type/19\" title=\"Парки Москвы\">парки</a>,  \n",
       "  <a href=\"http://mosopen.ru/streets/type/2\" title=\"Переулки Москвы\">переулки</a>,  \n",
       "  <a href=\"http://mosopen.ru/streets/type/4\" title=\"Площади Москвы\">площади</a>,  \n",
       "  <a href=\"http://mosopen.ru/streets/type/15\" title=\"Посёлки Москвы\">посёлки</a>,  \n",
       "  <a href=\"http://mosopen.ru/streets/type/3\" title=\"Проезды Москвы\">проезды</a>,  \n",
       "  <a href=\"http://mosopen.ru/streets/type/32\" title=\"Проектируемые проезды Москвы\">проектируемые проезды</a>,  \n",
       "  <a href=\"http://mosopen.ru/streets/type/14\" title=\"Просеки Москвы\">просеки</a>,  \n",
       "  <a href=\"http://mosopen.ru/streets/type/10\" title=\"Проспекты Москвы\">проспекты</a>,  \n",
       "  <a href=\"http://mosopen.ru/streets/type/7\" title=\"Тупики Москвы\">тупики</a> и  \n",
       "  <a href=\"http://mosopen.ru/streets/type/6\" title=\"Шоссе Москвы\">шоссе</a>. \n",
       "</p>\n",
       "<h2>Реестр адресов</h2>\n",
       "<p>Реестр адресов расположенных на территории города Москвы. Характеристика каждого объекта содержит информацию о принадлежности адреса к улице, району и административному округу, почтовый индекс дома, ближайшие станции метро, расположение на карте Москвы, а так же сведения об обслуживающих органах власти.</p>\n",
       "<p>В форме поиска необходимо указать букву с которой начинается название улицы, затем выбрать улицу и номер дома.</p>\n",
       "<form action=\"#\" class=\"search_common_form houses_search_form\" method=\"get\">\n",
       "<table>\n",
       "<tr>\n",
       "<th style=\"width:72px\">Буква</th>\n",
       "<th style=\"width:432px\">Улица</th>\n",
       "<th style=\"width:198px\">Дом</th>\n",
       "</tr>\n",
       "<tr>\n",
       "<td>\n",
       "<select id=\"houseSearchLetterId\" name=\"house_search[letter_id]\" style=\"width:54px;\">\n",
       "<option value=\"1\">#</option>\n",
       "<option selected=\"selected\" value=\"2\">А</option>\n",
       "<option value=\"3\">Б</option>\n",
       "<option value=\"4\">В</option>\n",
       "<option value=\"5\">Г</option>\n",
       "<option value=\"6\">Д</option>\n",
       "<option value=\"7\">Е</option>\n",
       "<option value=\"9\">Ж</option>\n",
       "<option value=\"10\">З</option>\n",
       "<option value=\"11\">И</option>\n",
       "<option value=\"13\">К</option>\n",
       "<option value=\"14\">Л</option>\n",
       "<option value=\"15\">М</option>\n",
       "<option value=\"16\">Н</option>\n",
       "<option value=\"17\">О</option>\n",
       "<option value=\"18\">П</option>\n",
       "<option value=\"19\">Р</option>\n",
       "<option value=\"20\">С</option>\n",
       "<option value=\"21\">Т</option>\n",
       "<option value=\"22\">У</option>\n",
       "<option value=\"23\">Ф</option>\n",
       "<option value=\"24\">Х</option>\n",
       "<option value=\"25\">Ц</option>\n",
       "<option value=\"26\">Ч</option>\n",
       "<option value=\"27\">Ш</option>\n",
       "<option value=\"28\">Щ</option>\n",
       "<option value=\"30\">Э</option>\n",
       "<option value=\"31\">Ю</option>\n",
       "<option value=\"32\">Я</option>\n",
       "</select>\n",
       "</td>\n",
       "<td>\n",
       "<select id=\"houseSearchStreetId\" name=\"house_search[street_id]\" style=\"width:414px;\">\n",
       "<option value=\"0\">— улицы на букву «А» —</option>\n",
       "<option value=\"30\">Абельмановская Застава, площадь</option>\n",
       "<option value=\"20\">Абельмановская улица</option>\n",
       "<option value=\"45\">Абрамцевская просека</option>\n",
       "<option value=\"40\">Абрамцевская улица</option>\n",
       "<option value=\"50\">Абрикосовский переулок</option>\n",
       "<option value=\"60\">Авангардная улица</option>\n",
       "<option value=\"15667\">Авиаконструктора Микояна, улица</option>\n",
       "<option value=\"15720\">Авиаконструктора Миля, улица</option>\n",
       "<option value=\"27195\">Авиаконструктора Сухого, улица</option>\n",
       "<option value=\"29132\">Авиаконструктора Яковлева, улица</option>\n",
       "<option value=\"70\">Авиамоторная улица</option>\n",
       "<option value=\"85\">Авиаторов, улица</option>\n",
       "<option value=\"80\">Авиационная улица</option>\n",
       "<option value=\"90\">Авиационный переулок</option>\n",
       "<option value=\"110\">Автозаводская площадь</option>\n",
       "<option value=\"120\">Автозаводская улица</option>\n",
       "<option value=\"130\">Автозаводский 1-й, проезд</option>\n",
       "<option value=\"140\">Автозаводский 2-й, проезд</option>\n",
       "<option value=\"150\">Автозаводский 3-й, проезд</option>\n",
       "<option value=\"93001\">Автозаводский мост</option>\n",
       "<option value=\"160\">Автомобильный проезд</option>\n",
       "<option value=\"170\">Автомоторная улица</option>\n",
       "<option value=\"13100\">Адмирала Лазарева, улица</option>\n",
       "<option value=\"14590\">Адмирала Макарова, улица</option>\n",
       "<option value=\"23759\">Адмирала Руднева, улица</option>\n",
       "<option value=\"29265\">Адмирала Ушакова, бульвар</option>\n",
       "<option value=\"190\">Азовская улица</option>\n",
       "<option value=\"195\">Айвазовского, улица</option>\n",
       "<option value=\"575\">Академика Анохина, улица</option>\n",
       "<option value=\"753\">Академика Арцимовича, улица</option>\n",
       "<option value=\"1055\">Академика Бакулева, улица</option>\n",
       "<option value=\"2388\">Академика Бочвара, улица</option>\n",
       "<option value=\"2815\">Академика Варги, улица</option>\n",
       "<option value=\"3415\">Академика Виноградова, улица</option>\n",
       "<option value=\"3460\">Академика Вишневского, площадь</option>\n",
       "<option value=\"3790\">Академика Волгина, улица</option>\n",
       "<option value=\"4872\">Академика Глушко, улица</option>\n",
       "<option value=\"8060\">Академика Зелинского, улица</option>\n",
       "<option value=\"8725\">Академика Ильюшина, улица</option>\n",
       "<option value=\"9440\">Академика Капицы, улица</option>\n",
       "<option value=\"9895\">Академика Келдыша, площадь</option>\n",
       "<option value=\"10750\">Академика Комарова, улица</option>\n",
       "<option value=\"11180\">Академика Королёва, улица</option>\n",
       "<option value=\"12810\">Академика Курчатова, площадь</option>\n",
       "<option value=\"12820\">Академика Курчатова, улица</option>\n",
       "<option value=\"14310\">Академика Люльки, площадь</option>\n",
       "<option value=\"15715\">Академика Миллионщикова, улица</option>\n",
       "<option value=\"17245\">Академика Несмеянова, улица</option>\n",
       "<option value=\"19131\">Академика Опарина, улица</option>\n",
       "<option value=\"19640\">Академика Павлова, улица</option>\n",
       "<option value=\"20445\">Академика Петрова, площадь</option>\n",
       "<option value=\"20475\">Академика Петровского, улица</option>\n",
       "<option value=\"20651\">Академика Пилюгина, улица</option>\n",
       "<option value=\"21565\">Академика Понтрягина, улица</option>\n",
       "<option value=\"24535\">Академика Сахарова, проспект</option>\n",
       "<option value=\"24815\">Академика Семёнова, улица</option>\n",
       "<option value=\"25435\">Академика Скрябина, улица</option>\n",
       "<option value=\"27575\">Академика Тамма, площадь</option>\n",
       "<option value=\"28655\">Академика Туполева, набережная</option>\n",
       "<option value=\"30237\">Академика Хохлова, улица</option>\n",
       "<option value=\"30633\">Академика Челомея, улица</option>\n",
       "<option value=\"32485\">Академика Янгеля, улица</option>\n",
       "<option value=\"210\">Академический проезд</option>\n",
       "<option value=\"230\">Акулово, посёлок</option>\n",
       "<option value=\"65115\">Алабушевская улица</option>\n",
       "<option value=\"240\">Алабяна, улица</option>\n",
       "<option value=\"14150\">Александра Лукьянова, улица</option>\n",
       "<option value=\"17080\">Александра Невского, переулок</option>\n",
       "<option value=\"17090\">Александра Невского, улица</option>\n",
       "<option value=\"10800\">Александра Солженицына, улица</option>\n",
       "<option value=\"65119\">Александровка, улица</option>\n",
       "<option value=\"6140\">Алексея Дикого, улица</option>\n",
       "<option value=\"24620\">Алексея Свиридова, улица</option>\n",
       "<option value=\"295\">Алексинская улица</option>\n",
       "<option value=\"305\">Алма-Атинская улица</option>\n",
       "<option value=\"310\">Алтайская улица</option>\n",
       "<option value=\"330\">Алтуфьевское шоссе</option>\n",
       "<option value=\"360\">Алымов переулок</option>\n",
       "<option value=\"350\">Алымова улица</option>\n",
       "<option value=\"370\">Алябьева, улица</option>\n",
       "<option value=\"300\">Алёшкинский проезд</option>\n",
       "<option value=\"390\">Амбулаторный 1-й, проезд</option>\n",
       "<option value=\"400\">Амбулаторный 2-й, проезд</option>\n",
       "<option value=\"380\">Амбулаторный переулок</option>\n",
       "<option value=\"9035\">Амилкара Кабрала, площадь</option>\n",
       "<option value=\"93002\">Аминьевский мост</option>\n",
       "<option value=\"420\">Аминьевское шоссе</option>\n",
       "<option value=\"430\">Амундсена, улица</option>\n",
       "<option value=\"440\">Амурская улица</option>\n",
       "<option value=\"445\">Амурский переулок</option>\n",
       "<option value=\"450\">Анадырский проезд</option>\n",
       "<option value=\"460\">Ананьевский переулок</option>\n",
       "<option value=\"7380\">Анатолия Живова, улица</option>\n",
       "<option value=\"470\">Ангарская улица</option>\n",
       "<option value=\"472\">Ангелов переулок</option>\n",
       "<option value=\"21955\">Андреевка, улица</option>\n",
       "<option value=\"490\">Андреево-Забелинская улица</option>\n",
       "<option value=\"500\">Андреевская набережная</option>\n",
       "<option value=\"60167\">Андреевский мост</option>\n",
       "<option value=\"510\">Андроновское шоссе</option>\n",
       "<option value=\"540\">Андроньевская набережная</option>\n",
       "<option value=\"22300\">Андроньевская площадь</option>\n",
       "<option value=\"542\">Андроньевский проезд</option>\n",
       "<option value=\"545\">Андропова, проспект</option>\n",
       "<option value=\"550\">Анненская улица</option>\n",
       "<option value=\"560\">Анненский проезд</option>\n",
       "<option value=\"24725\">Анны Северьяновой, улица</option>\n",
       "<option value=\"580\">Аносова, улица</option>\n",
       "<option value=\"590\">Антонова-Овсеенко, улица</option>\n",
       "<option value=\"600\">Апакова, проезд</option>\n",
       "<option value=\"755\">Аптекарский переулок</option>\n",
       "<option value=\"640\">Арбат, улица</option>\n",
       "<option value=\"610\">Арбатецкая улица</option>\n",
       "<option value=\"620\">Арбатская площадь</option>\n",
       "<option value=\"660\">Арбатские Ворота, площадь</option>\n",
       "<option value=\"670\">Арбатский переулок</option>\n",
       "<option value=\"680\">Аргуновская улица</option>\n",
       "<option value=\"690\">Аристарховский переулок</option>\n",
       "<option value=\"700\">Армавирская улица</option>\n",
       "<option value=\"710\">Армянский переулок</option>\n",
       "<option value=\"720\">Артамонова, улица</option>\n",
       "<option value=\"730\">Артековская улица</option>\n",
       "<option value=\"745\">Артюхиной, улица</option>\n",
       "<option value=\"27860\">Архангельский переулок</option>\n",
       "<option value=\"760\">Архивный 1-й, переулок</option>\n",
       "<option value=\"3550\">Архитектора Власова, улица</option>\n",
       "<option value=\"790\">Асеева, улица</option>\n",
       "<option value=\"93003\">Астаховский мост</option>\n",
       "<option value=\"810\">Астрадамская улица</option>\n",
       "<option value=\"820\">Астрадамский проезд</option>\n",
       "<option value=\"840\">Астраханский переулок</option>\n",
       "<option value=\"850\">Атарбекова, улица</option>\n",
       "<option value=\"870\">Ащеулов переулок</option>\n",
       "<option value=\"880\">Аэродромная улица</option>\n",
       "<option value=\"890\">Аэропорта, проезд</option>\n",
       "<option value=\"900\">Аэропортовская 1-я, улица</option>\n",
       "<option value=\"910\">Аэрофлотская улица</option>\n",
       "</select>\n",
       "</td>\n",
       "<td>\n",
       "<select disabled=\"disabled\" id=\"houseSearchHouseId\" name=\"house_search[house_id]\" style=\"width:198px;\">\n",
       "<option value=\"0\">— выбор дома —</option>\n",
       "</select>\n",
       "</td>\n",
       "</tr>\n",
       "</table>\n",
       "<div id=\"houseSearchInfo\">\n",
       "<p class=\"error\">Выберите улицу из списка</p>\n",
       "</div>\n",
       "</form>\n",
       "<div class=\"context_bottom\">\n",
       "<div class=\"context-g\" id=\"context_id_70000\">\n",
       "<div class=\"context-wrap\">\n",
       "<script async=\"\" src=\"//pagead2.googlesyndication.com/pagead/js/adsbygoogle.js\"></script>\n",
       "<!-- context_bottom_blue -->\n",
       "<ins class=\"adsbygoogle\" data-ad-client=\"ca-pub-2962702152053408\" data-ad-slot=\"4583035449\" style=\"display:inline-block;width:468px;height:60px\"></ins>\n",
       "<script>\n",
       "(adsbygoogle = window.adsbygoogle || []).push({});\n",
       "</script>\n",
       "</div>\n",
       "</div>\n",
       "</div>\n",
       "<dl class=\"related\">\n",
       "<dt>Смотрите также</dt>\n",
       "<dd><a href=\"http://mosopen.ru/streets/post_codes_list\">Почтовые индексы Москвы</a></dd>\n",
       "</dl>\n",
       "</div><!-- / #content -->\n",
       "<div id=\"sidebar\">\n",
       "<dl class=\"nav1\">\n",
       "<dt>Территория Москвы</dt>\n",
       "<dd><a href=\"http://mosopen.ru/regions\" title=\"Административные округа и районы Москвы\">Округа и районы</a></dd>\n",
       "<dd class=\"current\"><a href=\"http://mosopen.ru/streets\" title=\"Список всех улиц Москвы\">Улицы Москвы</a></dd>\n",
       "<dd><a href=\"http://mosopen.ru/map\" title=\"Интерактивная карта Москвы\">Карта города</a></dd>\n",
       "<dd><a href=\"http://mosopen.ru/streets/post_codes_list\" title=\"Почтовые индексы Москвы\">Почтовые индексы</a></dd>\n",
       "<dd><a href=\"http://mosopen.ru/metro\" title=\"Московский Метрополитен\">Метро</a></dd>\n",
       "</dl>\n",
       "<div class=\"partner_side\">\n",
       "<a href=\"http://www.rusfond.ru\" target=\"_blank\"><img alt=\"Русфонд\" height=\"400\" src=\"http://mosopen.ru/public/images/rusfond.gif\" width=\"240\"/></a>\n",
       "</div>\n",
       "<div class=\"find_error\">Нашли ошибку? <a href=\"http://mosopen.ru/feedback\">Сообщите нам об этом!</a></div>\n",
       "</div><!-- / #sidebar -->\n",
       "<div id=\"footer\">\n",
       "<div class=\"clearfix\">\n",
       "<p><span>© 2008—2022 Интернет-портал «MosOpen.ru — Электронная Москва»</span> Использование материалов разрешается при обязательной установке активной гиперссылки на сайт MosOpen.ru (<a href=\"http://mosopen.ru/\">mosopen.ru</a>) рядом с опубликованным материалом, для печатных изданий — с формулировкой «по материалам интернет-портала MosOpen.ru»</p>\n",
       "<ul class=\"clearfix\">\n",
       "<li><a href=\"http://mosopen.ru/\">Главная страница</a></li>\n",
       "<li><a href=\"http://mosopen.ru/sitemap\">Карта сайта</a></li>\n",
       "<li><a href=\"http://mosopen.ru/search\">Поиск по сайту</a></li>\n",
       "<li><a href=\"http://mosopen.ru/feedback\">Обратная связь</a></li>\n",
       "</ul>\n",
       "</div>\n",
       "</div><!-- / #footer -->\n",
       "</div><!-- / #container -->\n",
       "<!-- Yandex.Metrika counter -->\n",
       "<div style=\"display:none;\"><script type=\"text/javascript\">\n",
       "(function(w, c) {\n",
       "    (w[c] = w[c] || []).push(function() {\n",
       "        try {\n",
       "            w.yaCounter260233 = new Ya.Metrika({id:260233,\n",
       "                    clickmap:true,\n",
       "                    trackLinks:true,\n",
       "                    accurateTrackBounce:true});\n",
       "        }\n",
       "        catch(e) { }\n",
       "    });\n",
       "})(window, 'yandex_metrika_callbacks');\n",
       "</script></div>\n",
       "<script defer=\"defer\" src=\"//mc.yandex.ru/metrika/watch.js\" type=\"text/javascript\"></script>\n",
       "<noscript><div><img alt=\"\" src=\"//mc.yandex.ru/watch/260233\" style=\"position:absolute; left:-9999px;\"/></div></noscript>\n",
       "<!-- /Yandex.Metrika counter -->\n",
       "</body>\n",
       "</html>"
      ]
     },
     "execution_count": 39,
     "metadata": {},
     "output_type": "execute_result"
    }
   ],
   "source": [
    "parser"
   ]
  },
  {
   "cell_type": "markdown",
   "id": "842428ec",
   "metadata": {},
   "source": [
    "Пробегаемся по коду и находим кусок, в котором находится название района и ссылка на страницу соответствующего района с нзваниями всех улиц.\n",
    " \n",
    " Пример:\n",
    " `<a href=\"http://mosopen.ru/region/akademicheskij/streets\" title=\"Улицы Академического района\">Академический</a>,<br/>`\n",
    "\n",
    "\n",
    "Замечаем, что все ссылки с районами начинаются с `http://mosopen.ru/region/`. Однако, на странице эти ссылки встречаются несколько раз, поэтому после парсинга необходимо будет удалить дубликаты. \n",
    "\n",
    "Создаем список `links`, в который собираем все подходящие нам ссылки. Также создаем список `region_names`, в который собираем все названия районов.\n",
    "\n",
    "Далее объеденяем их в один датафрейм `df`"
   ]
  },
  {
   "cell_type": "code",
   "execution_count": 40,
   "id": "c0df8d13",
   "metadata": {},
   "outputs": [],
   "source": [
    "links = []\n",
    "region_names = []\n",
    "\n",
    "for link in parser.findAll('a', attrs={'href': re.compile(\"^http://mosopen.ru/region/\")}):\n",
    "    links.append(link.get('href'))  \n",
    "    region_names.append(link.next_element)\n",
    "\n",
    "    \n",
    "links_1 = pd.Series(links, name='reg_link')\n",
    "reg_names_1 = pd.Series(region_names, name='reg_name')    "
   ]
  },
  {
   "cell_type": "code",
   "execution_count": 41,
   "id": "80c9773b",
   "metadata": {},
   "outputs": [
    {
     "data": {
      "text/plain": [
       "0       http://mosopen.ru/region/akademicheskij/streets\n",
       "1         http://mosopen.ru/region/alekseevskij/streets\n",
       "2          http://mosopen.ru/region/altufevskij/streets\n",
       "3                http://mosopen.ru/region/arbat/streets\n",
       "4             http://mosopen.ru/region/aeroport/streets\n",
       "                             ...                       \n",
       "245           http://mosopen.ru/region/kryukovo/streets\n",
       "246         http://mosopen.ru/region/matushkino/streets\n",
       "247            http://mosopen.ru/region/savelki/streets\n",
       "248             http://mosopen.ru/region/silino/streets\n",
       "249    http://mosopen.ru/region/staroe_kryukovo/streets\n",
       "Name: reg_link, Length: 250, dtype: object"
      ]
     },
     "execution_count": 41,
     "metadata": {},
     "output_type": "execute_result"
    }
   ],
   "source": [
    "links_1"
   ]
  },
  {
   "cell_type": "code",
   "execution_count": 42,
   "id": "3aa482bc",
   "metadata": {},
   "outputs": [
    {
     "data": {
      "text/plain": [
       "0       Академический\n",
       "1        Алексеевский\n",
       "2        Алтуфьевский\n",
       "3               Арбат\n",
       "4            Аэропорт\n",
       "            ...      \n",
       "245           Крюково\n",
       "246         Матушкино\n",
       "247           Савёлки\n",
       "248            Силино\n",
       "249    Старое Крюково\n",
       "Name: reg_name, Length: 250, dtype: object"
      ]
     },
     "execution_count": 42,
     "metadata": {},
     "output_type": "execute_result"
    }
   ],
   "source": [
    "reg_names_1"
   ]
  },
  {
   "cell_type": "markdown",
   "id": "2c125c15",
   "metadata": {},
   "source": [
    "Объединяем серии в один датафрейм, удаляем дубликаты"
   ]
  },
  {
   "cell_type": "code",
   "execution_count": 43,
   "id": "3a0dd977",
   "metadata": {
    "scrolled": true
   },
   "outputs": [
    {
     "data": {
      "text/html": [
       "<div>\n",
       "<style scoped>\n",
       "    .dataframe tbody tr th:only-of-type {\n",
       "        vertical-align: middle;\n",
       "    }\n",
       "\n",
       "    .dataframe tbody tr th {\n",
       "        vertical-align: top;\n",
       "    }\n",
       "\n",
       "    .dataframe thead th {\n",
       "        text-align: right;\n",
       "    }\n",
       "</style>\n",
       "<table border=\"1\" class=\"dataframe\">\n",
       "  <thead>\n",
       "    <tr style=\"text-align: right;\">\n",
       "      <th></th>\n",
       "      <th>reg_name</th>\n",
       "      <th>reg_link</th>\n",
       "    </tr>\n",
       "  </thead>\n",
       "  <tbody>\n",
       "    <tr>\n",
       "      <th>0</th>\n",
       "      <td>Академический</td>\n",
       "      <td>http://mosopen.ru/region/akademicheskij/streets</td>\n",
       "    </tr>\n",
       "    <tr>\n",
       "      <th>1</th>\n",
       "      <td>Алексеевский</td>\n",
       "      <td>http://mosopen.ru/region/alekseevskij/streets</td>\n",
       "    </tr>\n",
       "    <tr>\n",
       "      <th>2</th>\n",
       "      <td>Алтуфьевский</td>\n",
       "      <td>http://mosopen.ru/region/altufevskij/streets</td>\n",
       "    </tr>\n",
       "    <tr>\n",
       "      <th>3</th>\n",
       "      <td>Арбат</td>\n",
       "      <td>http://mosopen.ru/region/arbat/streets</td>\n",
       "    </tr>\n",
       "    <tr>\n",
       "      <th>4</th>\n",
       "      <td>Аэропорт</td>\n",
       "      <td>http://mosopen.ru/region/aeroport/streets</td>\n",
       "    </tr>\n",
       "    <tr>\n",
       "      <th>...</th>\n",
       "      <td>...</td>\n",
       "      <td>...</td>\n",
       "    </tr>\n",
       "    <tr>\n",
       "      <th>120</th>\n",
       "      <td>Щукино</td>\n",
       "      <td>http://mosopen.ru/region/shchukino/streets</td>\n",
       "    </tr>\n",
       "    <tr>\n",
       "      <th>121</th>\n",
       "      <td>Южнопортовый</td>\n",
       "      <td>http://mosopen.ru/region/yuzhnoportovyj/streets</td>\n",
       "    </tr>\n",
       "    <tr>\n",
       "      <th>122</th>\n",
       "      <td>Якиманка</td>\n",
       "      <td>http://mosopen.ru/region/yakimanka/streets</td>\n",
       "    </tr>\n",
       "    <tr>\n",
       "      <th>123</th>\n",
       "      <td>Ярославский</td>\n",
       "      <td>http://mosopen.ru/region/yaroslavskij/streets</td>\n",
       "    </tr>\n",
       "    <tr>\n",
       "      <th>124</th>\n",
       "      <td>Ясенево</td>\n",
       "      <td>http://mosopen.ru/region/yasenevo/streets</td>\n",
       "    </tr>\n",
       "  </tbody>\n",
       "</table>\n",
       "<p>125 rows × 2 columns</p>\n",
       "</div>"
      ],
      "text/plain": [
       "          reg_name                                         reg_link\n",
       "0    Академический  http://mosopen.ru/region/akademicheskij/streets\n",
       "1     Алексеевский    http://mosopen.ru/region/alekseevskij/streets\n",
       "2     Алтуфьевский     http://mosopen.ru/region/altufevskij/streets\n",
       "3            Арбат           http://mosopen.ru/region/arbat/streets\n",
       "4         Аэропорт        http://mosopen.ru/region/aeroport/streets\n",
       "..             ...                                              ...\n",
       "120         Щукино       http://mosopen.ru/region/shchukino/streets\n",
       "121   Южнопортовый  http://mosopen.ru/region/yuzhnoportovyj/streets\n",
       "122       Якиманка       http://mosopen.ru/region/yakimanka/streets\n",
       "123    Ярославский    http://mosopen.ru/region/yaroslavskij/streets\n",
       "124        Ясенево        http://mosopen.ru/region/yasenevo/streets\n",
       "\n",
       "[125 rows x 2 columns]"
      ]
     },
     "execution_count": 43,
     "metadata": {},
     "output_type": "execute_result"
    }
   ],
   "source": [
    "df = reg_names_1.to_frame().join(links_1).drop_duplicates().reset_index(drop=True)\n",
    "df"
   ]
  },
  {
   "cell_type": "markdown",
   "id": "23554aee",
   "metadata": {},
   "source": [
    "С применением цикла проходимся по всем ссылкам районов и парсим оттуда названия улиц, ссылку на страницу (будем использовать как id района). Дополнительно соберем информацию о том, к какому округу относится район. Объединяем все в один датафрейм"
   ]
  },
  {
   "cell_type": "code",
   "execution_count": 44,
   "id": "de70d64a",
   "metadata": {},
   "outputs": [],
   "source": [
    "str_name = []\n",
    "dist_name = []\n",
    "link = []\n",
    "\n",
    "for i in df['reg_link']:\n",
    "    html_page = urllib.request.urlopen(i)\n",
    "    soup = BeautifulSoup(html_page, \"html.parser\")\n",
    "    for street in soup.findAll('a', attrs={'href': re.compile(\"^http://mosopen.ru/street/\")}):\n",
    "        str_name.append(street.next_element)\n",
    "        link.append(i)\n",
    "        a = soup.find(href = re.compile(\"^http://mosopen.ru/district/\"))\n",
    "        dist_name.append(a.next_element)\n",
    "        "
   ]
  },
  {
   "cell_type": "code",
   "execution_count": 45,
   "id": "800a9673",
   "metadata": {},
   "outputs": [],
   "source": [
    "str_name_2 = pd.Series(str_name, name='street_name')\n",
    "links_2 = pd.Series(link, name='reg_link')   \n",
    "dist_name_2 = pd.Series(dist_name, name='dist_name')"
   ]
  },
  {
   "cell_type": "code",
   "execution_count": 46,
   "id": "4f7b9e4f",
   "metadata": {},
   "outputs": [
    {
     "data": {
      "text/html": [
       "<div>\n",
       "<style scoped>\n",
       "    .dataframe tbody tr th:only-of-type {\n",
       "        vertical-align: middle;\n",
       "    }\n",
       "\n",
       "    .dataframe tbody tr th {\n",
       "        vertical-align: top;\n",
       "    }\n",
       "\n",
       "    .dataframe thead th {\n",
       "        text-align: right;\n",
       "    }\n",
       "</style>\n",
       "<table border=\"1\" class=\"dataframe\">\n",
       "  <thead>\n",
       "    <tr style=\"text-align: right;\">\n",
       "      <th></th>\n",
       "      <th>street_name</th>\n",
       "      <th>reg_link</th>\n",
       "      <th>dist_name</th>\n",
       "    </tr>\n",
       "  </thead>\n",
       "  <tbody>\n",
       "    <tr>\n",
       "      <th>0</th>\n",
       "      <td>60-летия Октября, проспект</td>\n",
       "      <td>http://mosopen.ru/region/akademicheskij/streets</td>\n",
       "      <td>ЮЗАО</td>\n",
       "    </tr>\n",
       "    <tr>\n",
       "      <th>1</th>\n",
       "      <td>Большая Черёмушкинская улица</td>\n",
       "      <td>http://mosopen.ru/region/akademicheskij/streets</td>\n",
       "      <td>ЮЗАО</td>\n",
       "    </tr>\n",
       "    <tr>\n",
       "      <th>2</th>\n",
       "      <td>Вавилова, улица</td>\n",
       "      <td>http://mosopen.ru/region/akademicheskij/streets</td>\n",
       "      <td>ЮЗАО</td>\n",
       "    </tr>\n",
       "    <tr>\n",
       "      <th>3</th>\n",
       "      <td>Винокурова, улица</td>\n",
       "      <td>http://mosopen.ru/region/akademicheskij/streets</td>\n",
       "      <td>ЮЗАО</td>\n",
       "    </tr>\n",
       "    <tr>\n",
       "      <th>4</th>\n",
       "      <td>Гримау, улица</td>\n",
       "      <td>http://mosopen.ru/region/akademicheskij/streets</td>\n",
       "      <td>ЮЗАО</td>\n",
       "    </tr>\n",
       "    <tr>\n",
       "      <th>...</th>\n",
       "      <td>...</td>\n",
       "      <td>...</td>\n",
       "      <td>...</td>\n",
       "    </tr>\n",
       "    <tr>\n",
       "      <th>4183</th>\n",
       "      <td>Соловьиный проезд</td>\n",
       "      <td>http://mosopen.ru/region/yasenevo/streets</td>\n",
       "      <td>ЮЗАО</td>\n",
       "    </tr>\n",
       "    <tr>\n",
       "      <th>4184</th>\n",
       "      <td>Тарусская улица</td>\n",
       "      <td>http://mosopen.ru/region/yasenevo/streets</td>\n",
       "      <td>ЮЗАО</td>\n",
       "    </tr>\n",
       "    <tr>\n",
       "      <th>4185</th>\n",
       "      <td>Тютчевская аллея</td>\n",
       "      <td>http://mosopen.ru/region/yasenevo/streets</td>\n",
       "      <td>ЮЗАО</td>\n",
       "    </tr>\n",
       "    <tr>\n",
       "      <th>4186</th>\n",
       "      <td>Узкое, посёлок</td>\n",
       "      <td>http://mosopen.ru/region/yasenevo/streets</td>\n",
       "      <td>ЮЗАО</td>\n",
       "    </tr>\n",
       "    <tr>\n",
       "      <th>4187</th>\n",
       "      <td>Ясногорская улица</td>\n",
       "      <td>http://mosopen.ru/region/yasenevo/streets</td>\n",
       "      <td>ЮЗАО</td>\n",
       "    </tr>\n",
       "  </tbody>\n",
       "</table>\n",
       "<p>4188 rows × 3 columns</p>\n",
       "</div>"
      ],
      "text/plain": [
       "                       street_name  \\\n",
       "0       60-летия Октября, проспект   \n",
       "1     Большая Черёмушкинская улица   \n",
       "2                  Вавилова, улица   \n",
       "3                Винокурова, улица   \n",
       "4                    Гримау, улица   \n",
       "...                            ...   \n",
       "4183             Соловьиный проезд   \n",
       "4184               Тарусская улица   \n",
       "4185              Тютчевская аллея   \n",
       "4186                Узкое, посёлок   \n",
       "4187             Ясногорская улица   \n",
       "\n",
       "                                             reg_link dist_name  \n",
       "0     http://mosopen.ru/region/akademicheskij/streets      ЮЗАО  \n",
       "1     http://mosopen.ru/region/akademicheskij/streets      ЮЗАО  \n",
       "2     http://mosopen.ru/region/akademicheskij/streets      ЮЗАО  \n",
       "3     http://mosopen.ru/region/akademicheskij/streets      ЮЗАО  \n",
       "4     http://mosopen.ru/region/akademicheskij/streets      ЮЗАО  \n",
       "...                                               ...       ...  \n",
       "4183        http://mosopen.ru/region/yasenevo/streets      ЮЗАО  \n",
       "4184        http://mosopen.ru/region/yasenevo/streets      ЮЗАО  \n",
       "4185        http://mosopen.ru/region/yasenevo/streets      ЮЗАО  \n",
       "4186        http://mosopen.ru/region/yasenevo/streets      ЮЗАО  \n",
       "4187        http://mosopen.ru/region/yasenevo/streets      ЮЗАО  \n",
       "\n",
       "[4188 rows x 3 columns]"
      ]
     },
     "execution_count": 46,
     "metadata": {},
     "output_type": "execute_result"
    }
   ],
   "source": [
    "df_2 = str_name_2.to_frame().join(links_2).join(dist_name_2)\n",
    "df_2"
   ]
  },
  {
   "cell_type": "markdown",
   "id": "92bf8061",
   "metadata": {},
   "source": [
    "Объединяем с ранее созданным датафреймом `df` по ссылке на веб страницу (в данном случае ссылка выступает в роли id района).\n",
    "Получаем итоговую таблицу с названием улицы и соответсвующим ей районом Москвы."
   ]
  },
  {
   "cell_type": "code",
   "execution_count": 47,
   "id": "a6d50f7f",
   "metadata": {},
   "outputs": [],
   "source": [
    "street_district = pd.merge(left = df_2, right = df, how = 'left', on = 'reg_link')"
   ]
  },
  {
   "cell_type": "markdown",
   "id": "beb91431",
   "metadata": {},
   "source": [
    "Для дальнейшего объединения нового датафрейма с нашим изначальных необходимо привести названия улиц к единому формату. \n",
    "Избавляемся от слов `'улица','проспект','шоссе' и тд` и приводим все к нижнему регистру. "
   ]
  },
  {
   "cell_type": "code",
   "execution_count": 48,
   "id": "5003cc70",
   "metadata": {},
   "outputs": [
    {
     "name": "stderr",
     "output_type": "stream",
     "text": [
      "<ipython-input-48-1b3f0c3de058>:1: FutureWarning: The default value of regex will change from True to False in a future version.\n",
      "  street_district['clean_street'] = street_district['street_name'].str.replace(\n"
     ]
    },
    {
     "data": {
      "text/html": [
       "<div>\n",
       "<style scoped>\n",
       "    .dataframe tbody tr th:only-of-type {\n",
       "        vertical-align: middle;\n",
       "    }\n",
       "\n",
       "    .dataframe tbody tr th {\n",
       "        vertical-align: top;\n",
       "    }\n",
       "\n",
       "    .dataframe thead th {\n",
       "        text-align: right;\n",
       "    }\n",
       "</style>\n",
       "<table border=\"1\" class=\"dataframe\">\n",
       "  <thead>\n",
       "    <tr style=\"text-align: right;\">\n",
       "      <th></th>\n",
       "      <th>street_name</th>\n",
       "      <th>reg_link</th>\n",
       "      <th>dist_name</th>\n",
       "      <th>reg_name</th>\n",
       "      <th>clean_street</th>\n",
       "    </tr>\n",
       "  </thead>\n",
       "  <tbody>\n",
       "    <tr>\n",
       "      <th>0</th>\n",
       "      <td>60-летия Октября, проспект</td>\n",
       "      <td>http://mosopen.ru/region/akademicheskij/streets</td>\n",
       "      <td>ЮЗАО</td>\n",
       "      <td>Академический</td>\n",
       "      <td>60-летия октября</td>\n",
       "    </tr>\n",
       "    <tr>\n",
       "      <th>1</th>\n",
       "      <td>Большая Черёмушкинская улица</td>\n",
       "      <td>http://mosopen.ru/region/akademicheskij/streets</td>\n",
       "      <td>ЮЗАО</td>\n",
       "      <td>Академический</td>\n",
       "      <td>большая черёмушкинская</td>\n",
       "    </tr>\n",
       "    <tr>\n",
       "      <th>2</th>\n",
       "      <td>Вавилова, улица</td>\n",
       "      <td>http://mosopen.ru/region/akademicheskij/streets</td>\n",
       "      <td>ЮЗАО</td>\n",
       "      <td>Академический</td>\n",
       "      <td>вавилова</td>\n",
       "    </tr>\n",
       "    <tr>\n",
       "      <th>3</th>\n",
       "      <td>Винокурова, улица</td>\n",
       "      <td>http://mosopen.ru/region/akademicheskij/streets</td>\n",
       "      <td>ЮЗАО</td>\n",
       "      <td>Академический</td>\n",
       "      <td>винокурова</td>\n",
       "    </tr>\n",
       "    <tr>\n",
       "      <th>4</th>\n",
       "      <td>Гримау, улица</td>\n",
       "      <td>http://mosopen.ru/region/akademicheskij/streets</td>\n",
       "      <td>ЮЗАО</td>\n",
       "      <td>Академический</td>\n",
       "      <td>гримау</td>\n",
       "    </tr>\n",
       "    <tr>\n",
       "      <th>...</th>\n",
       "      <td>...</td>\n",
       "      <td>...</td>\n",
       "      <td>...</td>\n",
       "      <td>...</td>\n",
       "      <td>...</td>\n",
       "    </tr>\n",
       "    <tr>\n",
       "      <th>4183</th>\n",
       "      <td>Соловьиный проезд</td>\n",
       "      <td>http://mosopen.ru/region/yasenevo/streets</td>\n",
       "      <td>ЮЗАО</td>\n",
       "      <td>Ясенево</td>\n",
       "      <td>соловьиный</td>\n",
       "    </tr>\n",
       "    <tr>\n",
       "      <th>4184</th>\n",
       "      <td>Тарусская улица</td>\n",
       "      <td>http://mosopen.ru/region/yasenevo/streets</td>\n",
       "      <td>ЮЗАО</td>\n",
       "      <td>Ясенево</td>\n",
       "      <td>тарусская</td>\n",
       "    </tr>\n",
       "    <tr>\n",
       "      <th>4185</th>\n",
       "      <td>Тютчевская аллея</td>\n",
       "      <td>http://mosopen.ru/region/yasenevo/streets</td>\n",
       "      <td>ЮЗАО</td>\n",
       "      <td>Ясенево</td>\n",
       "      <td>тютчевская</td>\n",
       "    </tr>\n",
       "    <tr>\n",
       "      <th>4186</th>\n",
       "      <td>Узкое, посёлок</td>\n",
       "      <td>http://mosopen.ru/region/yasenevo/streets</td>\n",
       "      <td>ЮЗАО</td>\n",
       "      <td>Ясенево</td>\n",
       "      <td>узкое</td>\n",
       "    </tr>\n",
       "    <tr>\n",
       "      <th>4187</th>\n",
       "      <td>Ясногорская улица</td>\n",
       "      <td>http://mosopen.ru/region/yasenevo/streets</td>\n",
       "      <td>ЮЗАО</td>\n",
       "      <td>Ясенево</td>\n",
       "      <td>ясногорская</td>\n",
       "    </tr>\n",
       "  </tbody>\n",
       "</table>\n",
       "<p>4188 rows × 5 columns</p>\n",
       "</div>"
      ],
      "text/plain": [
       "                       street_name  \\\n",
       "0       60-летия Октября, проспект   \n",
       "1     Большая Черёмушкинская улица   \n",
       "2                  Вавилова, улица   \n",
       "3                Винокурова, улица   \n",
       "4                    Гримау, улица   \n",
       "...                            ...   \n",
       "4183             Соловьиный проезд   \n",
       "4184               Тарусская улица   \n",
       "4185              Тютчевская аллея   \n",
       "4186                Узкое, посёлок   \n",
       "4187             Ясногорская улица   \n",
       "\n",
       "                                             reg_link dist_name  \\\n",
       "0     http://mosopen.ru/region/akademicheskij/streets      ЮЗАО   \n",
       "1     http://mosopen.ru/region/akademicheskij/streets      ЮЗАО   \n",
       "2     http://mosopen.ru/region/akademicheskij/streets      ЮЗАО   \n",
       "3     http://mosopen.ru/region/akademicheskij/streets      ЮЗАО   \n",
       "4     http://mosopen.ru/region/akademicheskij/streets      ЮЗАО   \n",
       "...                                               ...       ...   \n",
       "4183        http://mosopen.ru/region/yasenevo/streets      ЮЗАО   \n",
       "4184        http://mosopen.ru/region/yasenevo/streets      ЮЗАО   \n",
       "4185        http://mosopen.ru/region/yasenevo/streets      ЮЗАО   \n",
       "4186        http://mosopen.ru/region/yasenevo/streets      ЮЗАО   \n",
       "4187        http://mosopen.ru/region/yasenevo/streets      ЮЗАО   \n",
       "\n",
       "           reg_name            clean_street  \n",
       "0     Академический        60-летия октября  \n",
       "1     Академический  большая черёмушкинская  \n",
       "2     Академический                вавилова  \n",
       "3     Академический              винокурова  \n",
       "4     Академический                  гримау  \n",
       "...             ...                     ...  \n",
       "4183        Ясенево              соловьиный  \n",
       "4184        Ясенево               тарусская  \n",
       "4185        Ясенево              тютчевская  \n",
       "4186        Ясенево                   узкое  \n",
       "4187        Ясенево             ясногорская  \n",
       "\n",
       "[4188 rows x 5 columns]"
      ]
     },
     "execution_count": 48,
     "metadata": {},
     "output_type": "execute_result"
    }
   ],
   "source": [
    "street_district['clean_street'] = street_district['street_name'].str.replace(\n",
    "    'улица|проспект|шоссе|проезд|бульвар|набережная|площадь|вал|аллея|переулок|квартал|линия|просек|тупик|микрорайон|Зеленоград|поселение|километр|территория|посёлок|,|1-я|2-я|3-я|4-я|5-я|1-й|2-й|3-й|4-й|5-й|9-я|7-я', ''\n",
    ").str.strip().str.lower()\n",
    "street_district"
   ]
  },
  {
   "cell_type": "markdown",
   "id": "967f6488",
   "metadata": {},
   "source": [
    "Группируем датасет по названию улиц и считаем количество регионов для каждой улицы"
   ]
  },
  {
   "cell_type": "code",
   "execution_count": 49,
   "id": "ff22c23e",
   "metadata": {},
   "outputs": [
    {
     "data": {
      "text/html": [
       "<div>\n",
       "<style scoped>\n",
       "    .dataframe tbody tr th:only-of-type {\n",
       "        vertical-align: middle;\n",
       "    }\n",
       "\n",
       "    .dataframe tbody tr th {\n",
       "        vertical-align: top;\n",
       "    }\n",
       "\n",
       "    .dataframe thead th {\n",
       "        text-align: right;\n",
       "    }\n",
       "</style>\n",
       "<table border=\"1\" class=\"dataframe\">\n",
       "  <thead>\n",
       "    <tr style=\"text-align: right;\">\n",
       "      <th></th>\n",
       "      <th>clean_street</th>\n",
       "      <th>reg_name</th>\n",
       "    </tr>\n",
       "  </thead>\n",
       "  <tbody>\n",
       "    <tr>\n",
       "      <th>0</th>\n",
       "      <td>1 мая</td>\n",
       "      <td>1</td>\n",
       "    </tr>\n",
       "    <tr>\n",
       "      <th>1</th>\n",
       "      <td>10-летия октября</td>\n",
       "      <td>1</td>\n",
       "    </tr>\n",
       "    <tr>\n",
       "      <th>2</th>\n",
       "      <td>1812 года</td>\n",
       "      <td>1</td>\n",
       "    </tr>\n",
       "    <tr>\n",
       "      <th>3</th>\n",
       "      <td>1905 года</td>\n",
       "      <td>1</td>\n",
       "    </tr>\n",
       "    <tr>\n",
       "      <th>4</th>\n",
       "      <td>40 лет октября</td>\n",
       "      <td>1</td>\n",
       "    </tr>\n",
       "    <tr>\n",
       "      <th>...</th>\n",
       "      <td>...</td>\n",
       "      <td>...</td>\n",
       "    </tr>\n",
       "    <tr>\n",
       "      <th>3000</th>\n",
       "      <td>яузская</td>\n",
       "      <td>2</td>\n",
       "    </tr>\n",
       "    <tr>\n",
       "      <th>3001</th>\n",
       "      <td>яузские ворота</td>\n",
       "      <td>1</td>\n",
       "    </tr>\n",
       "    <tr>\n",
       "      <th>3002</th>\n",
       "      <td>яузский</td>\n",
       "      <td>1</td>\n",
       "    </tr>\n",
       "    <tr>\n",
       "      <th>3003</th>\n",
       "      <td>яхромская</td>\n",
       "      <td>1</td>\n",
       "    </tr>\n",
       "    <tr>\n",
       "      <th>3004</th>\n",
       "      <td>яхромский</td>\n",
       "      <td>2</td>\n",
       "    </tr>\n",
       "  </tbody>\n",
       "</table>\n",
       "<p>3005 rows × 2 columns</p>\n",
       "</div>"
      ],
      "text/plain": [
       "          clean_street  reg_name\n",
       "0                1 мая         1\n",
       "1     10-летия октября         1\n",
       "2            1812 года         1\n",
       "3            1905 года         1\n",
       "4       40 лет октября         1\n",
       "...                ...       ...\n",
       "3000           яузская         2\n",
       "3001    яузские ворота         1\n",
       "3002           яузский         1\n",
       "3003         яхромская         1\n",
       "3004         яхромский         2\n",
       "\n",
       "[3005 rows x 2 columns]"
      ]
     },
     "execution_count": 49,
     "metadata": {},
     "output_type": "execute_result"
    }
   ],
   "source": [
    "reg_num = street_district.groupby('clean_street')['reg_name'].count().reset_index()\n",
    "reg_num"
   ]
  },
  {
   "cell_type": "markdown",
   "id": "2204a3ca",
   "metadata": {},
   "source": [
    "Создаем в датасете новый столбец `reg_number`, в котором отмечается ко скольким районам относится улица"
   ]
  },
  {
   "cell_type": "code",
   "execution_count": 50,
   "id": "3cb95ca7",
   "metadata": {},
   "outputs": [
    {
     "data": {
      "text/html": [
       "<div>\n",
       "<style scoped>\n",
       "    .dataframe tbody tr th:only-of-type {\n",
       "        vertical-align: middle;\n",
       "    }\n",
       "\n",
       "    .dataframe tbody tr th {\n",
       "        vertical-align: top;\n",
       "    }\n",
       "\n",
       "    .dataframe thead th {\n",
       "        text-align: right;\n",
       "    }\n",
       "</style>\n",
       "<table border=\"1\" class=\"dataframe\">\n",
       "  <thead>\n",
       "    <tr style=\"text-align: right;\">\n",
       "      <th></th>\n",
       "      <th>street_name</th>\n",
       "      <th>reg_link</th>\n",
       "      <th>dist_name</th>\n",
       "      <th>reg_name</th>\n",
       "      <th>clean_street</th>\n",
       "      <th>reg_number</th>\n",
       "    </tr>\n",
       "  </thead>\n",
       "  <tbody>\n",
       "    <tr>\n",
       "      <th>0</th>\n",
       "      <td>60-летия Октября, проспект</td>\n",
       "      <td>http://mosopen.ru/region/akademicheskij/streets</td>\n",
       "      <td>ЮЗАО</td>\n",
       "      <td>Академический</td>\n",
       "      <td>60-летия октября</td>\n",
       "      <td>2</td>\n",
       "    </tr>\n",
       "    <tr>\n",
       "      <th>1</th>\n",
       "      <td>Большая Черёмушкинская улица</td>\n",
       "      <td>http://mosopen.ru/region/akademicheskij/streets</td>\n",
       "      <td>ЮЗАО</td>\n",
       "      <td>Академический</td>\n",
       "      <td>большая черёмушкинская</td>\n",
       "      <td>2</td>\n",
       "    </tr>\n",
       "    <tr>\n",
       "      <th>2</th>\n",
       "      <td>Вавилова, улица</td>\n",
       "      <td>http://mosopen.ru/region/akademicheskij/streets</td>\n",
       "      <td>ЮЗАО</td>\n",
       "      <td>Академический</td>\n",
       "      <td>вавилова</td>\n",
       "      <td>4</td>\n",
       "    </tr>\n",
       "    <tr>\n",
       "      <th>3</th>\n",
       "      <td>Винокурова, улица</td>\n",
       "      <td>http://mosopen.ru/region/akademicheskij/streets</td>\n",
       "      <td>ЮЗАО</td>\n",
       "      <td>Академический</td>\n",
       "      <td>винокурова</td>\n",
       "      <td>2</td>\n",
       "    </tr>\n",
       "    <tr>\n",
       "      <th>4</th>\n",
       "      <td>Гримау, улица</td>\n",
       "      <td>http://mosopen.ru/region/akademicheskij/streets</td>\n",
       "      <td>ЮЗАО</td>\n",
       "      <td>Академический</td>\n",
       "      <td>гримау</td>\n",
       "      <td>1</td>\n",
       "    </tr>\n",
       "  </tbody>\n",
       "</table>\n",
       "</div>"
      ],
      "text/plain": [
       "                    street_name  \\\n",
       "0    60-летия Октября, проспект   \n",
       "1  Большая Черёмушкинская улица   \n",
       "2               Вавилова, улица   \n",
       "3             Винокурова, улица   \n",
       "4                 Гримау, улица   \n",
       "\n",
       "                                          reg_link dist_name       reg_name  \\\n",
       "0  http://mosopen.ru/region/akademicheskij/streets      ЮЗАО  Академический   \n",
       "1  http://mosopen.ru/region/akademicheskij/streets      ЮЗАО  Академический   \n",
       "2  http://mosopen.ru/region/akademicheskij/streets      ЮЗАО  Академический   \n",
       "3  http://mosopen.ru/region/akademicheskij/streets      ЮЗАО  Академический   \n",
       "4  http://mosopen.ru/region/akademicheskij/streets      ЮЗАО  Академический   \n",
       "\n",
       "             clean_street  reg_number  \n",
       "0        60-летия октября           2  \n",
       "1  большая черёмушкинская           2  \n",
       "2                вавилова           4  \n",
       "3              винокурова           2  \n",
       "4                  гримау           1  "
      ]
     },
     "execution_count": 50,
     "metadata": {},
     "output_type": "execute_result"
    }
   ],
   "source": [
    "street_district = street_district.merge(reg_num, how='left', on='clean_street')\n",
    "street_district = street_district.rename(columns={'reg_name_y': 'reg_number', 'reg_name_x':'reg_name'})\n",
    "\n",
    "street_district.head()"
   ]
  },
  {
   "cell_type": "markdown",
   "id": "1e7c8836",
   "metadata": {},
   "source": [
    "Оставляем датасет `street_district` в сохранности на тот случай, если будет необходимо получить все наименования районов для каждой улицы\n",
    "\n",
    "Сохраняем в датасет `wout_duplic_streets` данные из `street_district`, удалив повторяющиеся улицы"
   ]
  },
  {
   "cell_type": "code",
   "execution_count": 51,
   "id": "0a5373d5",
   "metadata": {},
   "outputs": [
    {
     "data": {
      "text/html": [
       "<div>\n",
       "<style scoped>\n",
       "    .dataframe tbody tr th:only-of-type {\n",
       "        vertical-align: middle;\n",
       "    }\n",
       "\n",
       "    .dataframe tbody tr th {\n",
       "        vertical-align: top;\n",
       "    }\n",
       "\n",
       "    .dataframe thead th {\n",
       "        text-align: right;\n",
       "    }\n",
       "</style>\n",
       "<table border=\"1\" class=\"dataframe\">\n",
       "  <thead>\n",
       "    <tr style=\"text-align: right;\">\n",
       "      <th></th>\n",
       "      <th>street_name</th>\n",
       "      <th>reg_link</th>\n",
       "      <th>dist_name</th>\n",
       "      <th>reg_name</th>\n",
       "      <th>clean_street</th>\n",
       "      <th>reg_number</th>\n",
       "    </tr>\n",
       "  </thead>\n",
       "  <tbody>\n",
       "    <tr>\n",
       "      <th>0</th>\n",
       "      <td>60-летия Октября, проспект</td>\n",
       "      <td>http://mosopen.ru/region/akademicheskij/streets</td>\n",
       "      <td>ЮЗАО</td>\n",
       "      <td>Академический</td>\n",
       "      <td>60-летия октября</td>\n",
       "      <td>2</td>\n",
       "    </tr>\n",
       "    <tr>\n",
       "      <th>1</th>\n",
       "      <td>Большая Черёмушкинская улица</td>\n",
       "      <td>http://mosopen.ru/region/akademicheskij/streets</td>\n",
       "      <td>ЮЗАО</td>\n",
       "      <td>Академический</td>\n",
       "      <td>большая черёмушкинская</td>\n",
       "      <td>2</td>\n",
       "    </tr>\n",
       "    <tr>\n",
       "      <th>2</th>\n",
       "      <td>Вавилова, улица</td>\n",
       "      <td>http://mosopen.ru/region/akademicheskij/streets</td>\n",
       "      <td>ЮЗАО</td>\n",
       "      <td>Академический</td>\n",
       "      <td>вавилова</td>\n",
       "      <td>4</td>\n",
       "    </tr>\n",
       "    <tr>\n",
       "      <th>3</th>\n",
       "      <td>Винокурова, улица</td>\n",
       "      <td>http://mosopen.ru/region/akademicheskij/streets</td>\n",
       "      <td>ЮЗАО</td>\n",
       "      <td>Академический</td>\n",
       "      <td>винокурова</td>\n",
       "      <td>2</td>\n",
       "    </tr>\n",
       "    <tr>\n",
       "      <th>4</th>\n",
       "      <td>Гримау, улица</td>\n",
       "      <td>http://mosopen.ru/region/akademicheskij/streets</td>\n",
       "      <td>ЮЗАО</td>\n",
       "      <td>Академический</td>\n",
       "      <td>гримау</td>\n",
       "      <td>1</td>\n",
       "    </tr>\n",
       "    <tr>\n",
       "      <th>...</th>\n",
       "      <td>...</td>\n",
       "      <td>...</td>\n",
       "      <td>...</td>\n",
       "      <td>...</td>\n",
       "      <td>...</td>\n",
       "      <td>...</td>\n",
       "    </tr>\n",
       "    <tr>\n",
       "      <th>3000</th>\n",
       "      <td>Соловьиный проезд</td>\n",
       "      <td>http://mosopen.ru/region/yasenevo/streets</td>\n",
       "      <td>ЮЗАО</td>\n",
       "      <td>Ясенево</td>\n",
       "      <td>соловьиный</td>\n",
       "      <td>1</td>\n",
       "    </tr>\n",
       "    <tr>\n",
       "      <th>3001</th>\n",
       "      <td>Тарусская улица</td>\n",
       "      <td>http://mosopen.ru/region/yasenevo/streets</td>\n",
       "      <td>ЮЗАО</td>\n",
       "      <td>Ясенево</td>\n",
       "      <td>тарусская</td>\n",
       "      <td>1</td>\n",
       "    </tr>\n",
       "    <tr>\n",
       "      <th>3002</th>\n",
       "      <td>Тютчевская аллея</td>\n",
       "      <td>http://mosopen.ru/region/yasenevo/streets</td>\n",
       "      <td>ЮЗАО</td>\n",
       "      <td>Ясенево</td>\n",
       "      <td>тютчевская</td>\n",
       "      <td>1</td>\n",
       "    </tr>\n",
       "    <tr>\n",
       "      <th>3003</th>\n",
       "      <td>Узкое, посёлок</td>\n",
       "      <td>http://mosopen.ru/region/yasenevo/streets</td>\n",
       "      <td>ЮЗАО</td>\n",
       "      <td>Ясенево</td>\n",
       "      <td>узкое</td>\n",
       "      <td>1</td>\n",
       "    </tr>\n",
       "    <tr>\n",
       "      <th>3004</th>\n",
       "      <td>Ясногорская улица</td>\n",
       "      <td>http://mosopen.ru/region/yasenevo/streets</td>\n",
       "      <td>ЮЗАО</td>\n",
       "      <td>Ясенево</td>\n",
       "      <td>ясногорская</td>\n",
       "      <td>1</td>\n",
       "    </tr>\n",
       "  </tbody>\n",
       "</table>\n",
       "<p>3005 rows × 6 columns</p>\n",
       "</div>"
      ],
      "text/plain": [
       "                       street_name  \\\n",
       "0       60-летия Октября, проспект   \n",
       "1     Большая Черёмушкинская улица   \n",
       "2                  Вавилова, улица   \n",
       "3                Винокурова, улица   \n",
       "4                    Гримау, улица   \n",
       "...                            ...   \n",
       "3000             Соловьиный проезд   \n",
       "3001               Тарусская улица   \n",
       "3002              Тютчевская аллея   \n",
       "3003                Узкое, посёлок   \n",
       "3004             Ясногорская улица   \n",
       "\n",
       "                                             reg_link dist_name  \\\n",
       "0     http://mosopen.ru/region/akademicheskij/streets      ЮЗАО   \n",
       "1     http://mosopen.ru/region/akademicheskij/streets      ЮЗАО   \n",
       "2     http://mosopen.ru/region/akademicheskij/streets      ЮЗАО   \n",
       "3     http://mosopen.ru/region/akademicheskij/streets      ЮЗАО   \n",
       "4     http://mosopen.ru/region/akademicheskij/streets      ЮЗАО   \n",
       "...                                               ...       ...   \n",
       "3000        http://mosopen.ru/region/yasenevo/streets      ЮЗАО   \n",
       "3001        http://mosopen.ru/region/yasenevo/streets      ЮЗАО   \n",
       "3002        http://mosopen.ru/region/yasenevo/streets      ЮЗАО   \n",
       "3003        http://mosopen.ru/region/yasenevo/streets      ЮЗАО   \n",
       "3004        http://mosopen.ru/region/yasenevo/streets      ЮЗАО   \n",
       "\n",
       "           reg_name            clean_street  reg_number  \n",
       "0     Академический        60-летия октября           2  \n",
       "1     Академический  большая черёмушкинская           2  \n",
       "2     Академический                вавилова           4  \n",
       "3     Академический              винокурова           2  \n",
       "4     Академический                  гримау           1  \n",
       "...             ...                     ...         ...  \n",
       "3000        Ясенево              соловьиный           1  \n",
       "3001        Ясенево               тарусская           1  \n",
       "3002        Ясенево              тютчевская           1  \n",
       "3003        Ясенево                   узкое           1  \n",
       "3004        Ясенево             ясногорская           1  \n",
       "\n",
       "[3005 rows x 6 columns]"
      ]
     },
     "execution_count": 51,
     "metadata": {},
     "output_type": "execute_result"
    }
   ],
   "source": [
    "wout_duplic_streets = street_district.drop_duplicates(subset=['clean_street']).reset_index(drop=True)\n",
    "wout_duplic_streets"
   ]
  },
  {
   "cell_type": "markdown",
   "id": "c6c647c4",
   "metadata": {},
   "source": [
    "Объединяем изначальный датафрейм `rest_data` с полученным `wout_duplic_streets`. Сохраняем в новый датафрейм `upd_rest_data`"
   ]
  },
  {
   "cell_type": "code",
   "execution_count": 52,
   "id": "69050771",
   "metadata": {
    "scrolled": true
   },
   "outputs": [
    {
     "data": {
      "text/html": [
       "<div>\n",
       "<style scoped>\n",
       "    .dataframe tbody tr th:only-of-type {\n",
       "        vertical-align: middle;\n",
       "    }\n",
       "\n",
       "    .dataframe tbody tr th {\n",
       "        vertical-align: top;\n",
       "    }\n",
       "\n",
       "    .dataframe thead th {\n",
       "        text-align: right;\n",
       "    }\n",
       "</style>\n",
       "<table border=\"1\" class=\"dataframe\">\n",
       "  <thead>\n",
       "    <tr style=\"text-align: right;\">\n",
       "      <th></th>\n",
       "      <th>id</th>\n",
       "      <th>object_name</th>\n",
       "      <th>chain</th>\n",
       "      <th>object_type</th>\n",
       "      <th>address</th>\n",
       "      <th>number</th>\n",
       "      <th>int_chains</th>\n",
       "      <th>street</th>\n",
       "      <th>clean_street</th>\n",
       "      <th>street_name</th>\n",
       "      <th>reg_link</th>\n",
       "      <th>dist_name</th>\n",
       "      <th>reg_name</th>\n",
       "      <th>reg_number</th>\n",
       "    </tr>\n",
       "  </thead>\n",
       "  <tbody>\n",
       "    <tr>\n",
       "      <th>0</th>\n",
       "      <td>151635</td>\n",
       "      <td>сметана</td>\n",
       "      <td>нет</td>\n",
       "      <td>кафе</td>\n",
       "      <td>город Москва, улица Егора Абакумова, дом 9</td>\n",
       "      <td>48</td>\n",
       "      <td>0</td>\n",
       "      <td>улица Егора Абакумова</td>\n",
       "      <td>егора абакумова</td>\n",
       "      <td>Егора Абакумова, улица</td>\n",
       "      <td>http://mosopen.ru/region/yaroslavskij/streets</td>\n",
       "      <td>СВАО</td>\n",
       "      <td>Ярославский</td>\n",
       "      <td>1.0</td>\n",
       "    </tr>\n",
       "    <tr>\n",
       "      <th>1</th>\n",
       "      <td>77874</td>\n",
       "      <td>родник</td>\n",
       "      <td>нет</td>\n",
       "      <td>кафе</td>\n",
       "      <td>город Москва, улица Талалихина, дом 2/1, корпус 1</td>\n",
       "      <td>35</td>\n",
       "      <td>0</td>\n",
       "      <td>улица Талалихина</td>\n",
       "      <td>талалихина</td>\n",
       "      <td>Талалихина, улица</td>\n",
       "      <td>http://mosopen.ru/region/nizhegorodskij/streets</td>\n",
       "      <td>ЮВАО</td>\n",
       "      <td>Нижегородский</td>\n",
       "      <td>2.0</td>\n",
       "    </tr>\n",
       "    <tr>\n",
       "      <th>2</th>\n",
       "      <td>24309</td>\n",
       "      <td>кафе «академия»</td>\n",
       "      <td>нет</td>\n",
       "      <td>кафе</td>\n",
       "      <td>город Москва, Абельмановская улица, дом 6</td>\n",
       "      <td>95</td>\n",
       "      <td>0</td>\n",
       "      <td>Абельмановская улица</td>\n",
       "      <td>абельмановская</td>\n",
       "      <td>Абельмановская улица</td>\n",
       "      <td>http://mosopen.ru/region/taganskij/streets</td>\n",
       "      <td>ЦАО</td>\n",
       "      <td>Таганский</td>\n",
       "      <td>1.0</td>\n",
       "    </tr>\n",
       "    <tr>\n",
       "      <th>3</th>\n",
       "      <td>21894</td>\n",
       "      <td>пиццетория</td>\n",
       "      <td>да</td>\n",
       "      <td>кафе</td>\n",
       "      <td>город Москва, Абрамцевская улица, дом 1</td>\n",
       "      <td>40</td>\n",
       "      <td>1</td>\n",
       "      <td>Абрамцевская улица</td>\n",
       "      <td>абрамцевская</td>\n",
       "      <td>Абрамцевская улица</td>\n",
       "      <td>http://mosopen.ru/region/lianozovo/streets</td>\n",
       "      <td>СВАО</td>\n",
       "      <td>Лианозово</td>\n",
       "      <td>1.0</td>\n",
       "    </tr>\n",
       "    <tr>\n",
       "      <th>4</th>\n",
       "      <td>119365</td>\n",
       "      <td>кафе «вишневая метель»</td>\n",
       "      <td>нет</td>\n",
       "      <td>кафе</td>\n",
       "      <td>город Москва, Абрамцевская улица, дом 9, корпус 1</td>\n",
       "      <td>50</td>\n",
       "      <td>0</td>\n",
       "      <td>Абрамцевская улица</td>\n",
       "      <td>абрамцевская</td>\n",
       "      <td>Абрамцевская улица</td>\n",
       "      <td>http://mosopen.ru/region/lianozovo/streets</td>\n",
       "      <td>СВАО</td>\n",
       "      <td>Лианозово</td>\n",
       "      <td>1.0</td>\n",
       "    </tr>\n",
       "  </tbody>\n",
       "</table>\n",
       "</div>"
      ],
      "text/plain": [
       "       id             object_name chain object_type  \\\n",
       "0  151635                 сметана   нет        кафе   \n",
       "1   77874                  родник   нет        кафе   \n",
       "2   24309         кафе «академия»   нет        кафе   \n",
       "3   21894              пиццетория    да        кафе   \n",
       "4  119365  кафе «вишневая метель»   нет        кафе   \n",
       "\n",
       "                                             address  number  int_chains  \\\n",
       "0         город Москва, улица Егора Абакумова, дом 9      48           0   \n",
       "1  город Москва, улица Талалихина, дом 2/1, корпус 1      35           0   \n",
       "2          город Москва, Абельмановская улица, дом 6      95           0   \n",
       "3            город Москва, Абрамцевская улица, дом 1      40           1   \n",
       "4  город Москва, Абрамцевская улица, дом 9, корпус 1      50           0   \n",
       "\n",
       "                  street     clean_street             street_name  \\\n",
       "0  улица Егора Абакумова  егора абакумова  Егора Абакумова, улица   \n",
       "1       улица Талалихина       талалихина       Талалихина, улица   \n",
       "2   Абельмановская улица   абельмановская    Абельмановская улица   \n",
       "3     Абрамцевская улица     абрамцевская      Абрамцевская улица   \n",
       "4     Абрамцевская улица     абрамцевская      Абрамцевская улица   \n",
       "\n",
       "                                          reg_link dist_name       reg_name  \\\n",
       "0    http://mosopen.ru/region/yaroslavskij/streets      СВАО    Ярославский   \n",
       "1  http://mosopen.ru/region/nizhegorodskij/streets      ЮВАО  Нижегородский   \n",
       "2       http://mosopen.ru/region/taganskij/streets       ЦАО      Таганский   \n",
       "3       http://mosopen.ru/region/lianozovo/streets      СВАО      Лианозово   \n",
       "4       http://mosopen.ru/region/lianozovo/streets      СВАО      Лианозово   \n",
       "\n",
       "   reg_number  \n",
       "0         1.0  \n",
       "1         2.0  \n",
       "2         1.0  \n",
       "3         1.0  \n",
       "4         1.0  "
      ]
     },
     "execution_count": 52,
     "metadata": {},
     "output_type": "execute_result"
    }
   ],
   "source": [
    "upd_rest_data = pd.merge(left=rest_data, right=wout_duplic_streets, how='left', on='clean_street')\n",
    "upd_rest_data.head()"
   ]
  },
  {
   "cell_type": "code",
   "execution_count": 53,
   "id": "41e393a5",
   "metadata": {},
   "outputs": [
    {
     "data": {
      "text/html": [
       "<div>\n",
       "<style scoped>\n",
       "    .dataframe tbody tr th:only-of-type {\n",
       "        vertical-align: middle;\n",
       "    }\n",
       "\n",
       "    .dataframe tbody tr th {\n",
       "        vertical-align: top;\n",
       "    }\n",
       "\n",
       "    .dataframe thead th {\n",
       "        text-align: right;\n",
       "    }\n",
       "</style>\n",
       "<table border=\"1\" class=\"dataframe\">\n",
       "  <thead>\n",
       "    <tr style=\"text-align: right;\">\n",
       "      <th></th>\n",
       "      <th>id</th>\n",
       "      <th>object_name</th>\n",
       "      <th>chain</th>\n",
       "      <th>object_type</th>\n",
       "      <th>address</th>\n",
       "      <th>number</th>\n",
       "      <th>int_chains</th>\n",
       "      <th>street</th>\n",
       "      <th>clean_street</th>\n",
       "      <th>street_name</th>\n",
       "      <th>reg_link</th>\n",
       "      <th>dist_name</th>\n",
       "      <th>reg_name</th>\n",
       "      <th>reg_number</th>\n",
       "    </tr>\n",
       "  </thead>\n",
       "  <tbody>\n",
       "    <tr>\n",
       "      <th>0</th>\n",
       "      <td>151635</td>\n",
       "      <td>сметана</td>\n",
       "      <td>нет</td>\n",
       "      <td>кафе</td>\n",
       "      <td>город Москва, улица Егора Абакумова, дом 9</td>\n",
       "      <td>48</td>\n",
       "      <td>0</td>\n",
       "      <td>улица Егора Абакумова</td>\n",
       "      <td>егора абакумова</td>\n",
       "      <td>Егора Абакумова, улица</td>\n",
       "      <td>http://mosopen.ru/region/yaroslavskij/streets</td>\n",
       "      <td>СВАО</td>\n",
       "      <td>Ярославский</td>\n",
       "      <td>1.0</td>\n",
       "    </tr>\n",
       "    <tr>\n",
       "      <th>1</th>\n",
       "      <td>77874</td>\n",
       "      <td>родник</td>\n",
       "      <td>нет</td>\n",
       "      <td>кафе</td>\n",
       "      <td>город Москва, улица Талалихина, дом 2/1, корпус 1</td>\n",
       "      <td>35</td>\n",
       "      <td>0</td>\n",
       "      <td>улица Талалихина</td>\n",
       "      <td>талалихина</td>\n",
       "      <td>Талалихина, улица</td>\n",
       "      <td>http://mosopen.ru/region/nizhegorodskij/streets</td>\n",
       "      <td>ЮВАО</td>\n",
       "      <td>Нижегородский</td>\n",
       "      <td>2.0</td>\n",
       "    </tr>\n",
       "    <tr>\n",
       "      <th>2</th>\n",
       "      <td>77874</td>\n",
       "      <td>родник</td>\n",
       "      <td>нет</td>\n",
       "      <td>кафе</td>\n",
       "      <td>город Москва, улица Талалихина, дом 2/1, корпус 1</td>\n",
       "      <td>35</td>\n",
       "      <td>0</td>\n",
       "      <td>улица Талалихина</td>\n",
       "      <td>талалихина</td>\n",
       "      <td>Талалихина, улица</td>\n",
       "      <td>http://mosopen.ru/region/taganskij/streets</td>\n",
       "      <td>ЦАО</td>\n",
       "      <td>Таганский</td>\n",
       "      <td>2.0</td>\n",
       "    </tr>\n",
       "    <tr>\n",
       "      <th>3</th>\n",
       "      <td>24309</td>\n",
       "      <td>кафе «академия»</td>\n",
       "      <td>нет</td>\n",
       "      <td>кафе</td>\n",
       "      <td>город Москва, Абельмановская улица, дом 6</td>\n",
       "      <td>95</td>\n",
       "      <td>0</td>\n",
       "      <td>Абельмановская улица</td>\n",
       "      <td>абельмановская</td>\n",
       "      <td>Абельмановская улица</td>\n",
       "      <td>http://mosopen.ru/region/taganskij/streets</td>\n",
       "      <td>ЦАО</td>\n",
       "      <td>Таганский</td>\n",
       "      <td>1.0</td>\n",
       "    </tr>\n",
       "    <tr>\n",
       "      <th>4</th>\n",
       "      <td>21894</td>\n",
       "      <td>пиццетория</td>\n",
       "      <td>да</td>\n",
       "      <td>кафе</td>\n",
       "      <td>город Москва, Абрамцевская улица, дом 1</td>\n",
       "      <td>40</td>\n",
       "      <td>1</td>\n",
       "      <td>Абрамцевская улица</td>\n",
       "      <td>абрамцевская</td>\n",
       "      <td>Абрамцевская улица</td>\n",
       "      <td>http://mosopen.ru/region/lianozovo/streets</td>\n",
       "      <td>СВАО</td>\n",
       "      <td>Лианозово</td>\n",
       "      <td>1.0</td>\n",
       "    </tr>\n",
       "  </tbody>\n",
       "</table>\n",
       "</div>"
      ],
      "text/plain": [
       "       id      object_name chain object_type  \\\n",
       "0  151635          сметана   нет        кафе   \n",
       "1   77874           родник   нет        кафе   \n",
       "2   77874           родник   нет        кафе   \n",
       "3   24309  кафе «академия»   нет        кафе   \n",
       "4   21894       пиццетория    да        кафе   \n",
       "\n",
       "                                             address  number  int_chains  \\\n",
       "0         город Москва, улица Егора Абакумова, дом 9      48           0   \n",
       "1  город Москва, улица Талалихина, дом 2/1, корпус 1      35           0   \n",
       "2  город Москва, улица Талалихина, дом 2/1, корпус 1      35           0   \n",
       "3          город Москва, Абельмановская улица, дом 6      95           0   \n",
       "4            город Москва, Абрамцевская улица, дом 1      40           1   \n",
       "\n",
       "                  street     clean_street             street_name  \\\n",
       "0  улица Егора Абакумова  егора абакумова  Егора Абакумова, улица   \n",
       "1       улица Талалихина       талалихина       Талалихина, улица   \n",
       "2       улица Талалихина       талалихина       Талалихина, улица   \n",
       "3   Абельмановская улица   абельмановская    Абельмановская улица   \n",
       "4     Абрамцевская улица     абрамцевская      Абрамцевская улица   \n",
       "\n",
       "                                          reg_link dist_name       reg_name  \\\n",
       "0    http://mosopen.ru/region/yaroslavskij/streets      СВАО    Ярославский   \n",
       "1  http://mosopen.ru/region/nizhegorodskij/streets      ЮВАО  Нижегородский   \n",
       "2       http://mosopen.ru/region/taganskij/streets       ЦАО      Таганский   \n",
       "3       http://mosopen.ru/region/taganskij/streets       ЦАО      Таганский   \n",
       "4       http://mosopen.ru/region/lianozovo/streets      СВАО      Лианозово   \n",
       "\n",
       "   reg_number  \n",
       "0         1.0  \n",
       "1         2.0  \n",
       "2         2.0  \n",
       "3         1.0  \n",
       "4         1.0  "
      ]
     },
     "execution_count": 53,
     "metadata": {},
     "output_type": "execute_result"
    }
   ],
   "source": [
    "upd_rest_data_all_reg = pd.merge(left=rest_data, right=street_district, how='left', on='clean_street')\n",
    "upd_rest_data_all_reg.head()"
   ]
  },
  {
   "cell_type": "markdown",
   "id": "087fe665",
   "metadata": {},
   "source": [
    "Замечаем, что датафреймы соединились не идеально. То есть были учтены не все детали в названиях улиц."
   ]
  },
  {
   "cell_type": "code",
   "execution_count": 54,
   "id": "7ec13b52",
   "metadata": {},
   "outputs": [
    {
     "name": "stdout",
     "output_type": "stream",
     "text": [
      "<class 'pandas.core.frame.DataFrame'>\n",
      "Int64Index: 15281 entries, 0 to 15280\n",
      "Data columns (total 14 columns):\n",
      " #   Column        Non-Null Count  Dtype  \n",
      "---  ------        --------------  -----  \n",
      " 0   id            15281 non-null  int64  \n",
      " 1   object_name   15281 non-null  object \n",
      " 2   chain         15281 non-null  object \n",
      " 3   object_type   15281 non-null  object \n",
      " 4   address       15281 non-null  object \n",
      " 5   number        15281 non-null  int64  \n",
      " 6   int_chains    15281 non-null  int64  \n",
      " 7   street        15281 non-null  object \n",
      " 8   clean_street  15281 non-null  object \n",
      " 9   street_name   14654 non-null  object \n",
      " 10  reg_link      14654 non-null  object \n",
      " 11  dist_name     14654 non-null  object \n",
      " 12  reg_name      14654 non-null  object \n",
      " 13  reg_number    14654 non-null  float64\n",
      "dtypes: float64(1), int64(3), object(10)\n",
      "memory usage: 1.7+ MB\n"
     ]
    }
   ],
   "source": [
    "upd_rest_data.info()"
   ]
  },
  {
   "cell_type": "code",
   "execution_count": 55,
   "id": "337c816a",
   "metadata": {},
   "outputs": [
    {
     "name": "stdout",
     "output_type": "stream",
     "text": [
      "<class 'pandas.core.frame.DataFrame'>\n",
      "Int64Index: 34520 entries, 0 to 34519\n",
      "Data columns (total 14 columns):\n",
      " #   Column        Non-Null Count  Dtype  \n",
      "---  ------        --------------  -----  \n",
      " 0   id            34520 non-null  int64  \n",
      " 1   object_name   34520 non-null  object \n",
      " 2   chain         34520 non-null  object \n",
      " 3   object_type   34520 non-null  object \n",
      " 4   address       34520 non-null  object \n",
      " 5   number        34520 non-null  int64  \n",
      " 6   int_chains    34520 non-null  int64  \n",
      " 7   street        34520 non-null  object \n",
      " 8   clean_street  34520 non-null  object \n",
      " 9   street_name   33893 non-null  object \n",
      " 10  reg_link      33893 non-null  object \n",
      " 11  dist_name     33893 non-null  object \n",
      " 12  reg_name      33893 non-null  object \n",
      " 13  reg_number    33893 non-null  float64\n",
      "dtypes: float64(1), int64(3), object(10)\n",
      "memory usage: 4.0+ MB\n"
     ]
    }
   ],
   "source": [
    "upd_rest_data_all_reg.info()"
   ]
  },
  {
   "cell_type": "markdown",
   "id": "a81b84ea",
   "metadata": {},
   "source": [
    "Однако, понимаем, что в объедененном датафрейме всего 4.1% строк без информации о районе и округе. Опускаем этот недочет. И переходим к исследовательской части"
   ]
  },
  {
   "cell_type": "code",
   "execution_count": 56,
   "id": "ecb5718e",
   "metadata": {},
   "outputs": [
    {
     "data": {
      "text/plain": [
       "4.1"
      ]
     },
     "execution_count": 56,
     "metadata": {},
     "output_type": "execute_result"
    }
   ],
   "source": [
    "((upd_rest_data[upd_rest_data['reg_link'].isna()]['id'].count() / upd_rest_data['id'].count()) * 100).round(2)"
   ]
  },
  {
   "cell_type": "markdown",
   "id": "ec8ae98b",
   "metadata": {},
   "source": [
    "Найдем топ-10 районов по количеству объектов общественного питания"
   ]
  },
  {
   "cell_type": "code",
   "execution_count": 57,
   "id": "3f7d20a7",
   "metadata": {},
   "outputs": [
    {
     "data": {
      "text/html": [
       "<div>\n",
       "<style scoped>\n",
       "    .dataframe tbody tr th:only-of-type {\n",
       "        vertical-align: middle;\n",
       "    }\n",
       "\n",
       "    .dataframe tbody tr th {\n",
       "        vertical-align: top;\n",
       "    }\n",
       "\n",
       "    .dataframe thead th {\n",
       "        text-align: right;\n",
       "    }\n",
       "</style>\n",
       "<table border=\"1\" class=\"dataframe\">\n",
       "  <thead>\n",
       "    <tr style=\"text-align: right;\">\n",
       "      <th></th>\n",
       "      <th>reg_name</th>\n",
       "      <th>id</th>\n",
       "    </tr>\n",
       "  </thead>\n",
       "  <tbody>\n",
       "    <tr>\n",
       "      <th>0</th>\n",
       "      <td>Басманный</td>\n",
       "      <td>738</td>\n",
       "    </tr>\n",
       "    <tr>\n",
       "      <th>1</th>\n",
       "      <td>Даниловский</td>\n",
       "      <td>728</td>\n",
       "    </tr>\n",
       "    <tr>\n",
       "      <th>2</th>\n",
       "      <td>Пресненский</td>\n",
       "      <td>707</td>\n",
       "    </tr>\n",
       "    <tr>\n",
       "      <th>3</th>\n",
       "      <td>Тверской</td>\n",
       "      <td>538</td>\n",
       "    </tr>\n",
       "    <tr>\n",
       "      <th>4</th>\n",
       "      <td>Академический</td>\n",
       "      <td>409</td>\n",
       "    </tr>\n",
       "    <tr>\n",
       "      <th>5</th>\n",
       "      <td>Арбат</td>\n",
       "      <td>388</td>\n",
       "    </tr>\n",
       "    <tr>\n",
       "      <th>6</th>\n",
       "      <td>Гагаринский</td>\n",
       "      <td>351</td>\n",
       "    </tr>\n",
       "    <tr>\n",
       "      <th>7</th>\n",
       "      <td>Хамовники</td>\n",
       "      <td>344</td>\n",
       "    </tr>\n",
       "    <tr>\n",
       "      <th>8</th>\n",
       "      <td>Мещанский</td>\n",
       "      <td>317</td>\n",
       "    </tr>\n",
       "    <tr>\n",
       "      <th>9</th>\n",
       "      <td>Таганский</td>\n",
       "      <td>297</td>\n",
       "    </tr>\n",
       "  </tbody>\n",
       "</table>\n",
       "</div>"
      ],
      "text/plain": [
       "        reg_name   id\n",
       "0      Басманный  738\n",
       "1    Даниловский  728\n",
       "2    Пресненский  707\n",
       "3       Тверской  538\n",
       "4  Академический  409\n",
       "5          Арбат  388\n",
       "6    Гагаринский  351\n",
       "7      Хамовники  344\n",
       "8      Мещанский  317\n",
       "9      Таганский  297"
      ]
     },
     "execution_count": 57,
     "metadata": {},
     "output_type": "execute_result"
    }
   ],
   "source": [
    "top_reg = upd_rest_data.groupby('reg_name')['id'].count().sort_values(ascending=False).to_frame().reset_index().head(10)\n",
    "top_reg"
   ]
  },
  {
   "cell_type": "code",
   "execution_count": 58,
   "id": "edfa4fa0",
   "metadata": {},
   "outputs": [
    {
     "data": {
      "text/plain": [
       "Text(0.5, 0, 'Количество объектов')"
      ]
     },
     "execution_count": 58,
     "metadata": {},
     "output_type": "execute_result"
    },
    {
     "data": {
      "image/png": "[encoded data removed]",
      "text/plain": [
       "<Figure size 1440x720 with 1 Axes>"
      ]
     },
     "metadata": {
      "needs_background": "light"
     },
     "output_type": "display_data"
    }
   ],
   "source": [
    "# Устанавливаем размер графика\n",
    "plt.figure(figsize=(20, 10))\n",
    "\n",
    "# Строим barplot\n",
    "a = sns.barplot(\n",
    "    x=\"id\", \n",
    "    y='reg_name',\n",
    "    data= top_reg,\n",
    "    color='#69b3a2',\n",
    "    ci=None)\n",
    "\n",
    "# Название графика и осей\n",
    "a.set_title(\"Топ-10 районов по кол-ву объектов\")\n",
    "a.set_ylabel(\"Район Москвы\")\n",
    "a.set_xlabel('Количество объектов')"
   ]
  },
  {
   "cell_type": "markdown",
   "id": "c8497cae",
   "metadata": {},
   "source": [
    "Также находим топ округов"
   ]
  },
  {
   "cell_type": "code",
   "execution_count": 59,
   "id": "0656ac7c",
   "metadata": {},
   "outputs": [
    {
     "data": {
      "text/html": [
       "<div>\n",
       "<style scoped>\n",
       "    .dataframe tbody tr th:only-of-type {\n",
       "        vertical-align: middle;\n",
       "    }\n",
       "\n",
       "    .dataframe tbody tr th {\n",
       "        vertical-align: top;\n",
       "    }\n",
       "\n",
       "    .dataframe thead th {\n",
       "        text-align: right;\n",
       "    }\n",
       "</style>\n",
       "<table border=\"1\" class=\"dataframe\">\n",
       "  <thead>\n",
       "    <tr style=\"text-align: right;\">\n",
       "      <th></th>\n",
       "      <th>dist_name</th>\n",
       "      <th>id</th>\n",
       "    </tr>\n",
       "  </thead>\n",
       "  <tbody>\n",
       "    <tr>\n",
       "      <th>0</th>\n",
       "      <td>ЦАО</td>\n",
       "      <td>3966</td>\n",
       "    </tr>\n",
       "    <tr>\n",
       "      <th>1</th>\n",
       "      <td>ЮАО</td>\n",
       "      <td>1895</td>\n",
       "    </tr>\n",
       "    <tr>\n",
       "      <th>2</th>\n",
       "      <td>ЮЗАО</td>\n",
       "      <td>1586</td>\n",
       "    </tr>\n",
       "    <tr>\n",
       "      <th>3</th>\n",
       "      <td>СВАО</td>\n",
       "      <td>1483</td>\n",
       "    </tr>\n",
       "    <tr>\n",
       "      <th>4</th>\n",
       "      <td>САО</td>\n",
       "      <td>1444</td>\n",
       "    </tr>\n",
       "    <tr>\n",
       "      <th>5</th>\n",
       "      <td>ВАО</td>\n",
       "      <td>1198</td>\n",
       "    </tr>\n",
       "    <tr>\n",
       "      <th>6</th>\n",
       "      <td>ЗАО</td>\n",
       "      <td>1124</td>\n",
       "    </tr>\n",
       "    <tr>\n",
       "      <th>7</th>\n",
       "      <td>ЮВАО</td>\n",
       "      <td>927</td>\n",
       "    </tr>\n",
       "    <tr>\n",
       "      <th>8</th>\n",
       "      <td>СЗАО</td>\n",
       "      <td>779</td>\n",
       "    </tr>\n",
       "    <tr>\n",
       "      <th>9</th>\n",
       "      <td>ЗелАО</td>\n",
       "      <td>252</td>\n",
       "    </tr>\n",
       "  </tbody>\n",
       "</table>\n",
       "</div>"
      ],
      "text/plain": [
       "  dist_name    id\n",
       "0       ЦАО  3966\n",
       "1       ЮАО  1895\n",
       "2      ЮЗАО  1586\n",
       "3      СВАО  1483\n",
       "4       САО  1444\n",
       "5       ВАО  1198\n",
       "6       ЗАО  1124\n",
       "7      ЮВАО   927\n",
       "8      СЗАО   779\n",
       "9     ЗелАО   252"
      ]
     },
     "execution_count": 59,
     "metadata": {},
     "output_type": "execute_result"
    }
   ],
   "source": [
    "top_dist = upd_rest_data.groupby('dist_name')['id'].count().sort_values(ascending=False).to_frame().reset_index()\n",
    "top_dist"
   ]
  },
  {
   "cell_type": "code",
   "execution_count": 60,
   "id": "630ab0c1",
   "metadata": {},
   "outputs": [
    {
     "data": {
      "text/plain": [
       "Text(0.5, 0, 'Количество объектов')"
      ]
     },
     "execution_count": 60,
     "metadata": {},
     "output_type": "execute_result"
    },
    {
     "data": {
      "image/png": "[encoded data removed]",
      "text/plain": [
       "<Figure size 1440x720 with 1 Axes>"
      ]
     },
     "metadata": {
      "needs_background": "light"
     },
     "output_type": "display_data"
    }
   ],
   "source": [
    "# Устанавливаем размер графика\n",
    "plt.figure(figsize=(20, 10))\n",
    "\n",
    "# Строим barplot\n",
    "a = sns.barplot(\n",
    "    x=\"id\", \n",
    "    y='dist_name',\n",
    "    data= top_dist,\n",
    "    color='#69b3a2',\n",
    "    ci=None)\n",
    "\n",
    "# Название графика и осей\n",
    "a.set_title(\"Округа Москвы по кол-ву объектов\")\n",
    "a.set_ylabel(\"Округ Москвы\")\n",
    "a.set_xlabel('Количество объектов')"
   ]
  },
  {
   "cell_type": "markdown",
   "id": "2336cfcc",
   "metadata": {},
   "source": [
    "### Топ 10 улиц + район и округ Москвы"
   ]
  },
  {
   "cell_type": "markdown",
   "id": "72d90a19",
   "metadata": {},
   "source": [
    "Группируем датафрейм по улицам. Находим какое количество заведений относится к конкретной улице, сортируем по убыванию и выводим топ-10."
   ]
  },
  {
   "cell_type": "code",
   "execution_count": 61,
   "id": "062c1f0c",
   "metadata": {},
   "outputs": [
    {
     "data": {
      "text/html": [
       "<div>\n",
       "<style scoped>\n",
       "    .dataframe tbody tr th:only-of-type {\n",
       "        vertical-align: middle;\n",
       "    }\n",
       "\n",
       "    .dataframe tbody tr th {\n",
       "        vertical-align: top;\n",
       "    }\n",
       "\n",
       "    .dataframe thead th {\n",
       "        text-align: right;\n",
       "    }\n",
       "</style>\n",
       "<table border=\"1\" class=\"dataframe\">\n",
       "  <thead>\n",
       "    <tr style=\"text-align: right;\">\n",
       "      <th></th>\n",
       "      <th>street</th>\n",
       "      <th>id</th>\n",
       "    </tr>\n",
       "  </thead>\n",
       "  <tbody>\n",
       "    <tr>\n",
       "      <th>0</th>\n",
       "      <td>проспект Мира</td>\n",
       "      <td>203</td>\n",
       "    </tr>\n",
       "    <tr>\n",
       "      <th>1</th>\n",
       "      <td>Профсоюзная улица</td>\n",
       "      <td>182</td>\n",
       "    </tr>\n",
       "    <tr>\n",
       "      <th>2</th>\n",
       "      <td>Ленинградский проспект</td>\n",
       "      <td>172</td>\n",
       "    </tr>\n",
       "    <tr>\n",
       "      <th>3</th>\n",
       "      <td>Пресненская набережная</td>\n",
       "      <td>167</td>\n",
       "    </tr>\n",
       "    <tr>\n",
       "      <th>4</th>\n",
       "      <td>Варшавское шоссе</td>\n",
       "      <td>165</td>\n",
       "    </tr>\n",
       "    <tr>\n",
       "      <th>5</th>\n",
       "      <td>Ленинский проспект</td>\n",
       "      <td>148</td>\n",
       "    </tr>\n",
       "    <tr>\n",
       "      <th>6</th>\n",
       "      <td>город Зеленоград</td>\n",
       "      <td>131</td>\n",
       "    </tr>\n",
       "    <tr>\n",
       "      <th>7</th>\n",
       "      <td>проспект Вернадского</td>\n",
       "      <td>128</td>\n",
       "    </tr>\n",
       "    <tr>\n",
       "      <th>8</th>\n",
       "      <td>Кутузовский проспект</td>\n",
       "      <td>114</td>\n",
       "    </tr>\n",
       "    <tr>\n",
       "      <th>9</th>\n",
       "      <td>Каширское шоссе</td>\n",
       "      <td>111</td>\n",
       "    </tr>\n",
       "  </tbody>\n",
       "</table>\n",
       "</div>"
      ],
      "text/plain": [
       "                   street   id\n",
       "0           проспект Мира  203\n",
       "1       Профсоюзная улица  182\n",
       "2  Ленинградский проспект  172\n",
       "3  Пресненская набережная  167\n",
       "4        Варшавское шоссе  165\n",
       "5      Ленинский проспект  148\n",
       "6        город Зеленоград  131\n",
       "7    проспект Вернадского  128\n",
       "8    Кутузовский проспект  114\n",
       "9         Каширское шоссе  111"
      ]
     },
     "execution_count": 61,
     "metadata": {},
     "output_type": "execute_result"
    }
   ],
   "source": [
    "top10_streets = upd_rest_data.groupby('street')['id'].count().sort_values(ascending=False).reset_index().head(10)\n",
    "top10_streets"
   ]
  },
  {
   "cell_type": "code",
   "execution_count": 62,
   "id": "4c4ea779",
   "metadata": {},
   "outputs": [
    {
     "data": {
      "text/plain": [
       "Text(0.5, 1.0, 'Топ-10 улиц по количеству объектов общественного питания')"
      ]
     },
     "execution_count": 62,
     "metadata": {},
     "output_type": "execute_result"
    },
    {
     "data": {
      "image/png": "[encoded data removed]",
      "text/plain": [
       "<Figure size 1080x576 with 1 Axes>"
      ]
     },
     "metadata": {
      "needs_background": "light"
     },
     "output_type": "display_data"
    }
   ],
   "source": [
    "plt.figure(figsize=(15, 8))\n",
    "\n",
    "top10 = sns.barplot(x='id', y='street', data=top10_streets, color='#69b3a2')\n",
    "\n",
    "top10.set_xlabel('Количество объектов общественного питания')\n",
    "top10.set_ylabel('Название улицы')\n",
    "top10.set_title('Топ-10 улиц по количеству объектов общественного питания')"
   ]
  },
  {
   "cell_type": "markdown",
   "id": "b2bb3738",
   "metadata": {},
   "source": [
    "Объединим топ-10 улиц с нашим датафреймом, оставляя только топ-10 улиц, чтобы понять к каким районам и округам относятся эти улицы"
   ]
  },
  {
   "cell_type": "code",
   "execution_count": 63,
   "id": "2f2c0b2a",
   "metadata": {},
   "outputs": [
    {
     "data": {
      "text/html": [
       "<div>\n",
       "<style scoped>\n",
       "    .dataframe tbody tr th:only-of-type {\n",
       "        vertical-align: middle;\n",
       "    }\n",
       "\n",
       "    .dataframe tbody tr th {\n",
       "        vertical-align: top;\n",
       "    }\n",
       "\n",
       "    .dataframe thead th {\n",
       "        text-align: right;\n",
       "    }\n",
       "</style>\n",
       "<table border=\"1\" class=\"dataframe\">\n",
       "  <thead>\n",
       "    <tr style=\"text-align: right;\">\n",
       "      <th></th>\n",
       "      <th>street</th>\n",
       "      <th>id_x</th>\n",
       "      <th>id_y</th>\n",
       "      <th>object_name</th>\n",
       "      <th>chain</th>\n",
       "      <th>object_type</th>\n",
       "      <th>address</th>\n",
       "      <th>number</th>\n",
       "      <th>int_chains</th>\n",
       "      <th>clean_street</th>\n",
       "      <th>street_name</th>\n",
       "      <th>reg_link</th>\n",
       "      <th>dist_name</th>\n",
       "      <th>reg_name</th>\n",
       "      <th>reg_number</th>\n",
       "    </tr>\n",
       "  </thead>\n",
       "  <tbody>\n",
       "    <tr>\n",
       "      <th>0</th>\n",
       "      <td>проспект Мира</td>\n",
       "      <td>203</td>\n",
       "      <td>149899</td>\n",
       "      <td>сухарева башня</td>\n",
       "      <td>нет</td>\n",
       "      <td>кафе</td>\n",
       "      <td>город Москва, проспект Мира, дом 5, корпус 1</td>\n",
       "      <td>10</td>\n",
       "      <td>0</td>\n",
       "      <td>мира</td>\n",
       "      <td>Мира, проспект</td>\n",
       "      <td>http://mosopen.ru/region/alekseevskij/streets</td>\n",
       "      <td>СВАО</td>\n",
       "      <td>Алексеевский</td>\n",
       "      <td>8.0</td>\n",
       "    </tr>\n",
       "    <tr>\n",
       "      <th>1</th>\n",
       "      <td>проспект Мира</td>\n",
       "      <td>203</td>\n",
       "      <td>149899</td>\n",
       "      <td>сухарева башня</td>\n",
       "      <td>нет</td>\n",
       "      <td>кафе</td>\n",
       "      <td>город Москва, проспект Мира, дом 5, корпус 1</td>\n",
       "      <td>10</td>\n",
       "      <td>0</td>\n",
       "      <td>мира</td>\n",
       "      <td>Мира, улица</td>\n",
       "      <td>http://mosopen.ru/region/vnukovo/streets</td>\n",
       "      <td>ЗАО</td>\n",
       "      <td>Внуково</td>\n",
       "      <td>8.0</td>\n",
       "    </tr>\n",
       "    <tr>\n",
       "      <th>2</th>\n",
       "      <td>проспект Мира</td>\n",
       "      <td>203</td>\n",
       "      <td>149899</td>\n",
       "      <td>сухарева башня</td>\n",
       "      <td>нет</td>\n",
       "      <td>кафе</td>\n",
       "      <td>город Москва, проспект Мира, дом 5, корпус 1</td>\n",
       "      <td>10</td>\n",
       "      <td>0</td>\n",
       "      <td>мира</td>\n",
       "      <td>Мира, проспект</td>\n",
       "      <td>http://mosopen.ru/region/marina_roshcha/streets</td>\n",
       "      <td>СВАО</td>\n",
       "      <td>Марьина роща</td>\n",
       "      <td>8.0</td>\n",
       "    </tr>\n",
       "    <tr>\n",
       "      <th>3</th>\n",
       "      <td>проспект Мира</td>\n",
       "      <td>203</td>\n",
       "      <td>149899</td>\n",
       "      <td>сухарева башня</td>\n",
       "      <td>нет</td>\n",
       "      <td>кафе</td>\n",
       "      <td>город Москва, проспект Мира, дом 5, корпус 1</td>\n",
       "      <td>10</td>\n",
       "      <td>0</td>\n",
       "      <td>мира</td>\n",
       "      <td>Мира, проспект</td>\n",
       "      <td>http://mosopen.ru/region/meshchanskij/streets</td>\n",
       "      <td>ЦАО</td>\n",
       "      <td>Мещанский</td>\n",
       "      <td>8.0</td>\n",
       "    </tr>\n",
       "    <tr>\n",
       "      <th>4</th>\n",
       "      <td>проспект Мира</td>\n",
       "      <td>203</td>\n",
       "      <td>149899</td>\n",
       "      <td>сухарева башня</td>\n",
       "      <td>нет</td>\n",
       "      <td>кафе</td>\n",
       "      <td>город Москва, проспект Мира, дом 5, корпус 1</td>\n",
       "      <td>10</td>\n",
       "      <td>0</td>\n",
       "      <td>мира</td>\n",
       "      <td>Мира, проспект</td>\n",
       "      <td>http://mosopen.ru/region/ostankinskij/streets</td>\n",
       "      <td>СВАО</td>\n",
       "      <td>Останкинский</td>\n",
       "      <td>8.0</td>\n",
       "    </tr>\n",
       "  </tbody>\n",
       "</table>\n",
       "</div>"
      ],
      "text/plain": [
       "          street  id_x    id_y     object_name chain object_type  \\\n",
       "0  проспект Мира   203  149899  сухарева башня   нет        кафе   \n",
       "1  проспект Мира   203  149899  сухарева башня   нет        кафе   \n",
       "2  проспект Мира   203  149899  сухарева башня   нет        кафе   \n",
       "3  проспект Мира   203  149899  сухарева башня   нет        кафе   \n",
       "4  проспект Мира   203  149899  сухарева башня   нет        кафе   \n",
       "\n",
       "                                        address  number  int_chains  \\\n",
       "0  город Москва, проспект Мира, дом 5, корпус 1      10           0   \n",
       "1  город Москва, проспект Мира, дом 5, корпус 1      10           0   \n",
       "2  город Москва, проспект Мира, дом 5, корпус 1      10           0   \n",
       "3  город Москва, проспект Мира, дом 5, корпус 1      10           0   \n",
       "4  город Москва, проспект Мира, дом 5, корпус 1      10           0   \n",
       "\n",
       "  clean_street     street_name  \\\n",
       "0         мира  Мира, проспект   \n",
       "1         мира     Мира, улица   \n",
       "2         мира  Мира, проспект   \n",
       "3         мира  Мира, проспект   \n",
       "4         мира  Мира, проспект   \n",
       "\n",
       "                                          reg_link dist_name      reg_name  \\\n",
       "0    http://mosopen.ru/region/alekseevskij/streets      СВАО  Алексеевский   \n",
       "1         http://mosopen.ru/region/vnukovo/streets       ЗАО       Внуково   \n",
       "2  http://mosopen.ru/region/marina_roshcha/streets      СВАО  Марьина роща   \n",
       "3    http://mosopen.ru/region/meshchanskij/streets       ЦАО     Мещанский   \n",
       "4    http://mosopen.ru/region/ostankinskij/streets      СВАО  Останкинский   \n",
       "\n",
       "   reg_number  \n",
       "0         8.0  \n",
       "1         8.0  \n",
       "2         8.0  \n",
       "3         8.0  \n",
       "4         8.0  "
      ]
     },
     "execution_count": 63,
     "metadata": {},
     "output_type": "execute_result"
    }
   ],
   "source": [
    "top10 = top10_streets.merge(upd_rest_data_all_reg, how='left', on='street')\n",
    "top10.head()"
   ]
  },
  {
   "cell_type": "code",
   "execution_count": 64,
   "id": "08890e7d",
   "metadata": {},
   "outputs": [
    {
     "data": {
      "text/html": [
       "<div>\n",
       "<style scoped>\n",
       "    .dataframe tbody tr th:only-of-type {\n",
       "        vertical-align: middle;\n",
       "    }\n",
       "\n",
       "    .dataframe tbody tr th {\n",
       "        vertical-align: top;\n",
       "    }\n",
       "\n",
       "    .dataframe thead th {\n",
       "        text-align: right;\n",
       "    }\n",
       "</style>\n",
       "<table border=\"1\" class=\"dataframe\">\n",
       "  <thead>\n",
       "    <tr style=\"text-align: right;\">\n",
       "      <th></th>\n",
       "      <th>street</th>\n",
       "      <th>reg_name</th>\n",
       "    </tr>\n",
       "  </thead>\n",
       "  <tbody>\n",
       "    <tr>\n",
       "      <th>0</th>\n",
       "      <td>Варшавское шоссе</td>\n",
       "      <td>[Бутово Северное, Бутово Южное, Донской, Нагат...</td>\n",
       "    </tr>\n",
       "    <tr>\n",
       "      <th>1</th>\n",
       "      <td>Каширское шоссе</td>\n",
       "      <td>[Москворечье-Сабурово, Нагатино-Садовники, Оре...</td>\n",
       "    </tr>\n",
       "    <tr>\n",
       "      <th>2</th>\n",
       "      <td>Кутузовский проспект</td>\n",
       "      <td>[Дорогомилово, Фили-Давыдково]</td>\n",
       "    </tr>\n",
       "    <tr>\n",
       "      <th>3</th>\n",
       "      <td>Ленинградский проспект</td>\n",
       "      <td>[Аэропорт, Беговой, Сокол, Хорошёвский]</td>\n",
       "    </tr>\n",
       "    <tr>\n",
       "      <th>4</th>\n",
       "      <td>Ленинский проспект</td>\n",
       "      <td>[Гагаринский, Донской, Ломоносовский, Обручевс...</td>\n",
       "    </tr>\n",
       "    <tr>\n",
       "      <th>5</th>\n",
       "      <td>Пресненская набережная</td>\n",
       "      <td>[Пресненский]</td>\n",
       "    </tr>\n",
       "    <tr>\n",
       "      <th>6</th>\n",
       "      <td>Профсоюзная улица</td>\n",
       "      <td>[Академический, Коньково, Обручевский, Тёплый ...</td>\n",
       "    </tr>\n",
       "    <tr>\n",
       "      <th>7</th>\n",
       "      <td>город Зеленоград</td>\n",
       "      <td>[Крюково, Матушкино, Савёлки, Силино, Старое К...</td>\n",
       "    </tr>\n",
       "    <tr>\n",
       "      <th>8</th>\n",
       "      <td>проспект Вернадского</td>\n",
       "      <td>[Гагаринский, Ломоносовский, Проспект Вернадск...</td>\n",
       "    </tr>\n",
       "    <tr>\n",
       "      <th>9</th>\n",
       "      <td>проспект Мира</td>\n",
       "      <td>[Алексеевский, Внуково, Марьина роща, Мещански...</td>\n",
       "    </tr>\n",
       "  </tbody>\n",
       "</table>\n",
       "</div>"
      ],
      "text/plain": [
       "                   street                                           reg_name\n",
       "0        Варшавское шоссе  [Бутово Северное, Бутово Южное, Донской, Нагат...\n",
       "1         Каширское шоссе  [Москворечье-Сабурово, Нагатино-Садовники, Оре...\n",
       "2    Кутузовский проспект                     [Дорогомилово, Фили-Давыдково]\n",
       "3  Ленинградский проспект            [Аэропорт, Беговой, Сокол, Хорошёвский]\n",
       "4      Ленинский проспект  [Гагаринский, Донской, Ломоносовский, Обручевс...\n",
       "5  Пресненская набережная                                      [Пресненский]\n",
       "6       Профсоюзная улица  [Академический, Коньково, Обручевский, Тёплый ...\n",
       "7        город Зеленоград  [Крюково, Матушкино, Савёлки, Силино, Старое К...\n",
       "8    проспект Вернадского  [Гагаринский, Ломоносовский, Проспект Вернадск...\n",
       "9           проспект Мира  [Алексеевский, Внуково, Марьина роща, Мещански..."
      ]
     },
     "execution_count": 64,
     "metadata": {},
     "output_type": "execute_result"
    }
   ],
   "source": [
    "top10.groupby('street')['reg_name'].unique().reset_index()"
   ]
  },
  {
   "cell_type": "markdown",
   "id": "36b7bdf2",
   "metadata": {},
   "source": [
    "### Топ-10 из коротких улиц"
   ]
  },
  {
   "cell_type": "code",
   "execution_count": 65,
   "id": "d217a33c",
   "metadata": {},
   "outputs": [
    {
     "data": {
      "text/html": [
       "<div>\n",
       "<style scoped>\n",
       "    .dataframe tbody tr th:only-of-type {\n",
       "        vertical-align: middle;\n",
       "    }\n",
       "\n",
       "    .dataframe tbody tr th {\n",
       "        vertical-align: top;\n",
       "    }\n",
       "\n",
       "    .dataframe thead th {\n",
       "        text-align: right;\n",
       "    }\n",
       "</style>\n",
       "<table border=\"1\" class=\"dataframe\">\n",
       "  <thead>\n",
       "    <tr style=\"text-align: right;\">\n",
       "      <th></th>\n",
       "      <th>street</th>\n",
       "      <th>id</th>\n",
       "    </tr>\n",
       "  </thead>\n",
       "  <tbody>\n",
       "    <tr>\n",
       "      <th>0</th>\n",
       "      <td>Пресненская набережная</td>\n",
       "      <td>167</td>\n",
       "    </tr>\n",
       "    <tr>\n",
       "      <th>1</th>\n",
       "      <td>Ходынский бульвар</td>\n",
       "      <td>102</td>\n",
       "    </tr>\n",
       "    <tr>\n",
       "      <th>2</th>\n",
       "      <td>улица Новый Арбат</td>\n",
       "      <td>92</td>\n",
       "    </tr>\n",
       "    <tr>\n",
       "      <th>3</th>\n",
       "      <td>улица Ленинская Слобода</td>\n",
       "      <td>89</td>\n",
       "    </tr>\n",
       "    <tr>\n",
       "      <th>4</th>\n",
       "      <td>Пятницкая улица</td>\n",
       "      <td>80</td>\n",
       "    </tr>\n",
       "    <tr>\n",
       "      <th>5</th>\n",
       "      <td>улица Покровка</td>\n",
       "      <td>77</td>\n",
       "    </tr>\n",
       "    <tr>\n",
       "      <th>6</th>\n",
       "      <td>улица Арбат</td>\n",
       "      <td>77</td>\n",
       "    </tr>\n",
       "    <tr>\n",
       "      <th>7</th>\n",
       "      <td>Ярославское шоссе</td>\n",
       "      <td>65</td>\n",
       "    </tr>\n",
       "    <tr>\n",
       "      <th>8</th>\n",
       "      <td>Хорошёвское шоссе</td>\n",
       "      <td>63</td>\n",
       "    </tr>\n",
       "    <tr>\n",
       "      <th>9</th>\n",
       "      <td>улица Маросейка</td>\n",
       "      <td>60</td>\n",
       "    </tr>\n",
       "  </tbody>\n",
       "</table>\n",
       "</div>"
      ],
      "text/plain": [
       "                    street   id\n",
       "0   Пресненская набережная  167\n",
       "1        Ходынский бульвар  102\n",
       "2        улица Новый Арбат   92\n",
       "3  улица Ленинская Слобода   89\n",
       "4          Пятницкая улица   80\n",
       "5           улица Покровка   77\n",
       "6              улица Арбат   77\n",
       "7        Ярославское шоссе   65\n",
       "8        Хорошёвское шоссе   63\n",
       "9          улица Маросейка   60"
      ]
     },
     "execution_count": 65,
     "metadata": {},
     "output_type": "execute_result"
    }
   ],
   "source": [
    "top10_streets_upd = upd_rest_data[upd_rest_data['reg_number'] == 1].groupby('street')['id'].count().sort_values(ascending=False).reset_index().head(10)\n",
    "top10_streets_upd"
   ]
  },
  {
   "cell_type": "code",
   "execution_count": 66,
   "id": "056887a3",
   "metadata": {},
   "outputs": [
    {
     "data": {
      "text/html": [
       "<div>\n",
       "<style scoped>\n",
       "    .dataframe tbody tr th:only-of-type {\n",
       "        vertical-align: middle;\n",
       "    }\n",
       "\n",
       "    .dataframe tbody tr th {\n",
       "        vertical-align: top;\n",
       "    }\n",
       "\n",
       "    .dataframe thead th {\n",
       "        text-align: right;\n",
       "    }\n",
       "</style>\n",
       "<table border=\"1\" class=\"dataframe\">\n",
       "  <thead>\n",
       "    <tr style=\"text-align: right;\">\n",
       "      <th></th>\n",
       "      <th>street</th>\n",
       "      <th>id_x</th>\n",
       "      <th>id_y</th>\n",
       "      <th>object_name</th>\n",
       "      <th>chain</th>\n",
       "      <th>object_type</th>\n",
       "      <th>address</th>\n",
       "      <th>number</th>\n",
       "      <th>int_chains</th>\n",
       "      <th>clean_street</th>\n",
       "      <th>street_name</th>\n",
       "      <th>reg_link</th>\n",
       "      <th>dist_name</th>\n",
       "      <th>reg_name</th>\n",
       "      <th>reg_number</th>\n",
       "    </tr>\n",
       "  </thead>\n",
       "  <tbody>\n",
       "    <tr>\n",
       "      <th>0</th>\n",
       "      <td>Пресненская набережная</td>\n",
       "      <td>167</td>\n",
       "      <td>140422</td>\n",
       "      <td>ресторан «sixty»</td>\n",
       "      <td>нет</td>\n",
       "      <td>ресторан</td>\n",
       "      <td>город Москва, Пресненская набережная, дом 12</td>\n",
       "      <td>300</td>\n",
       "      <td>0</td>\n",
       "      <td>пресненская</td>\n",
       "      <td>Пресненская набережная</td>\n",
       "      <td>http://mosopen.ru/region/presnenskij/streets</td>\n",
       "      <td>ЦАО</td>\n",
       "      <td>Пресненский</td>\n",
       "      <td>1.0</td>\n",
       "    </tr>\n",
       "    <tr>\n",
       "      <th>1</th>\n",
       "      <td>Пресненская набережная</td>\n",
       "      <td>167</td>\n",
       "      <td>156815</td>\n",
       "      <td>кафе «обедбуфет»</td>\n",
       "      <td>нет</td>\n",
       "      <td>буфет</td>\n",
       "      <td>город Москва, Пресненская набережная, дом 10</td>\n",
       "      <td>237</td>\n",
       "      <td>0</td>\n",
       "      <td>пресненская</td>\n",
       "      <td>Пресненская набережная</td>\n",
       "      <td>http://mosopen.ru/region/presnenskij/streets</td>\n",
       "      <td>ЦАО</td>\n",
       "      <td>Пресненский</td>\n",
       "      <td>1.0</td>\n",
       "    </tr>\n",
       "    <tr>\n",
       "      <th>2</th>\n",
       "      <td>Пресненская набережная</td>\n",
       "      <td>167</td>\n",
       "      <td>58489</td>\n",
       "      <td>хлеб насущный</td>\n",
       "      <td>да</td>\n",
       "      <td>кафе</td>\n",
       "      <td>город Москва, Пресненская набережная, дом 10</td>\n",
       "      <td>88</td>\n",
       "      <td>1</td>\n",
       "      <td>пресненская</td>\n",
       "      <td>Пресненская набережная</td>\n",
       "      <td>http://mosopen.ru/region/presnenskij/streets</td>\n",
       "      <td>ЦАО</td>\n",
       "      <td>Пресненский</td>\n",
       "      <td>1.0</td>\n",
       "    </tr>\n",
       "    <tr>\n",
       "      <th>3</th>\n",
       "      <td>Пресненская набережная</td>\n",
       "      <td>167</td>\n",
       "      <td>24296</td>\n",
       "      <td>гудман</td>\n",
       "      <td>да</td>\n",
       "      <td>ресторан</td>\n",
       "      <td>город Москва, Пресненская набережная, дом 10</td>\n",
       "      <td>140</td>\n",
       "      <td>1</td>\n",
       "      <td>пресненская</td>\n",
       "      <td>Пресненская набережная</td>\n",
       "      <td>http://mosopen.ru/region/presnenskij/streets</td>\n",
       "      <td>ЦАО</td>\n",
       "      <td>Пресненский</td>\n",
       "      <td>1.0</td>\n",
       "    </tr>\n",
       "    <tr>\n",
       "      <th>4</th>\n",
       "      <td>Пресненская набережная</td>\n",
       "      <td>167</td>\n",
       "      <td>74554</td>\n",
       "      <td>старбакс</td>\n",
       "      <td>да</td>\n",
       "      <td>кафе</td>\n",
       "      <td>город Москва, Пресненская набережная, дом 10</td>\n",
       "      <td>32</td>\n",
       "      <td>1</td>\n",
       "      <td>пресненская</td>\n",
       "      <td>Пресненская набережная</td>\n",
       "      <td>http://mosopen.ru/region/presnenskij/streets</td>\n",
       "      <td>ЦАО</td>\n",
       "      <td>Пресненский</td>\n",
       "      <td>1.0</td>\n",
       "    </tr>\n",
       "  </tbody>\n",
       "</table>\n",
       "</div>"
      ],
      "text/plain": [
       "                   street  id_x    id_y       object_name chain object_type  \\\n",
       "0  Пресненская набережная   167  140422  ресторан «sixty»   нет    ресторан   \n",
       "1  Пресненская набережная   167  156815  кафе «обедбуфет»   нет       буфет   \n",
       "2  Пресненская набережная   167   58489     хлеб насущный    да        кафе   \n",
       "3  Пресненская набережная   167   24296            гудман    да    ресторан   \n",
       "4  Пресненская набережная   167   74554          старбакс    да        кафе   \n",
       "\n",
       "                                        address  number  int_chains  \\\n",
       "0  город Москва, Пресненская набережная, дом 12     300           0   \n",
       "1  город Москва, Пресненская набережная, дом 10     237           0   \n",
       "2  город Москва, Пресненская набережная, дом 10      88           1   \n",
       "3  город Москва, Пресненская набережная, дом 10     140           1   \n",
       "4  город Москва, Пресненская набережная, дом 10      32           1   \n",
       "\n",
       "  clean_street             street_name  \\\n",
       "0  пресненская  Пресненская набережная   \n",
       "1  пресненская  Пресненская набережная   \n",
       "2  пресненская  Пресненская набережная   \n",
       "3  пресненская  Пресненская набережная   \n",
       "4  пресненская  Пресненская набережная   \n",
       "\n",
       "                                       reg_link dist_name     reg_name  \\\n",
       "0  http://mosopen.ru/region/presnenskij/streets       ЦАО  Пресненский   \n",
       "1  http://mosopen.ru/region/presnenskij/streets       ЦАО  Пресненский   \n",
       "2  http://mosopen.ru/region/presnenskij/streets       ЦАО  Пресненский   \n",
       "3  http://mosopen.ru/region/presnenskij/streets       ЦАО  Пресненский   \n",
       "4  http://mosopen.ru/region/presnenskij/streets       ЦАО  Пресненский   \n",
       "\n",
       "   reg_number  \n",
       "0         1.0  \n",
       "1         1.0  \n",
       "2         1.0  \n",
       "3         1.0  \n",
       "4         1.0  "
      ]
     },
     "execution_count": 66,
     "metadata": {},
     "output_type": "execute_result"
    }
   ],
   "source": [
    "top10_upd = top10_streets_upd.merge(upd_rest_data_all_reg, how='left', on='street')\n",
    "top10_upd.head()"
   ]
  },
  {
   "cell_type": "code",
   "execution_count": 67,
   "id": "dca34462",
   "metadata": {},
   "outputs": [
    {
     "data": {
      "text/html": [
       "<div>\n",
       "<style scoped>\n",
       "    .dataframe tbody tr th:only-of-type {\n",
       "        vertical-align: middle;\n",
       "    }\n",
       "\n",
       "    .dataframe tbody tr th {\n",
       "        vertical-align: top;\n",
       "    }\n",
       "\n",
       "    .dataframe thead th {\n",
       "        text-align: right;\n",
       "    }\n",
       "</style>\n",
       "<table border=\"1\" class=\"dataframe\">\n",
       "  <thead>\n",
       "    <tr style=\"text-align: right;\">\n",
       "      <th></th>\n",
       "      <th>street</th>\n",
       "      <th>reg_name</th>\n",
       "    </tr>\n",
       "  </thead>\n",
       "  <tbody>\n",
       "    <tr>\n",
       "      <th>0</th>\n",
       "      <td>Пресненская набережная</td>\n",
       "      <td>[Пресненский]</td>\n",
       "    </tr>\n",
       "    <tr>\n",
       "      <th>1</th>\n",
       "      <td>Пятницкая улица</td>\n",
       "      <td>[Замоскворечье]</td>\n",
       "    </tr>\n",
       "    <tr>\n",
       "      <th>2</th>\n",
       "      <td>Ходынский бульвар</td>\n",
       "      <td>[Хорошёвский]</td>\n",
       "    </tr>\n",
       "    <tr>\n",
       "      <th>3</th>\n",
       "      <td>Хорошёвское шоссе</td>\n",
       "      <td>[Хорошёвский]</td>\n",
       "    </tr>\n",
       "    <tr>\n",
       "      <th>4</th>\n",
       "      <td>Ярославское шоссе</td>\n",
       "      <td>[Ярославский]</td>\n",
       "    </tr>\n",
       "    <tr>\n",
       "      <th>5</th>\n",
       "      <td>улица Арбат</td>\n",
       "      <td>[Арбат]</td>\n",
       "    </tr>\n",
       "    <tr>\n",
       "      <th>6</th>\n",
       "      <td>улица Ленинская Слобода</td>\n",
       "      <td>[Даниловский]</td>\n",
       "    </tr>\n",
       "    <tr>\n",
       "      <th>7</th>\n",
       "      <td>улица Маросейка</td>\n",
       "      <td>[Басманный]</td>\n",
       "    </tr>\n",
       "    <tr>\n",
       "      <th>8</th>\n",
       "      <td>улица Новый Арбат</td>\n",
       "      <td>[Арбат]</td>\n",
       "    </tr>\n",
       "    <tr>\n",
       "      <th>9</th>\n",
       "      <td>улица Покровка</td>\n",
       "      <td>[Басманный]</td>\n",
       "    </tr>\n",
       "  </tbody>\n",
       "</table>\n",
       "</div>"
      ],
      "text/plain": [
       "                    street         reg_name\n",
       "0   Пресненская набережная    [Пресненский]\n",
       "1          Пятницкая улица  [Замоскворечье]\n",
       "2        Ходынский бульвар    [Хорошёвский]\n",
       "3        Хорошёвское шоссе    [Хорошёвский]\n",
       "4        Ярославское шоссе    [Ярославский]\n",
       "5              улица Арбат          [Арбат]\n",
       "6  улица Ленинская Слобода    [Даниловский]\n",
       "7          улица Маросейка      [Басманный]\n",
       "8        улица Новый Арбат          [Арбат]\n",
       "9           улица Покровка      [Басманный]"
      ]
     },
     "execution_count": 67,
     "metadata": {},
     "output_type": "execute_result"
    }
   ],
   "source": [
    "top10_upd.groupby('street')['reg_name'].unique().reset_index()"
   ]
  },
  {
   "cell_type": "code",
   "execution_count": 68,
   "id": "1df1740d",
   "metadata": {},
   "outputs": [
    {
     "data": {
      "text/html": [
       "<div>\n",
       "<style scoped>\n",
       "    .dataframe tbody tr th:only-of-type {\n",
       "        vertical-align: middle;\n",
       "    }\n",
       "\n",
       "    .dataframe tbody tr th {\n",
       "        vertical-align: top;\n",
       "    }\n",
       "\n",
       "    .dataframe thead th {\n",
       "        text-align: right;\n",
       "    }\n",
       "</style>\n",
       "<table border=\"1\" class=\"dataframe\">\n",
       "  <thead>\n",
       "    <tr style=\"text-align: right;\">\n",
       "      <th></th>\n",
       "      <th>dist_name</th>\n",
       "      <th>id_y</th>\n",
       "    </tr>\n",
       "  </thead>\n",
       "  <tbody>\n",
       "    <tr>\n",
       "      <th>0</th>\n",
       "      <td>ЦАО</td>\n",
       "      <td>553</td>\n",
       "    </tr>\n",
       "    <tr>\n",
       "      <th>1</th>\n",
       "      <td>САО</td>\n",
       "      <td>165</td>\n",
       "    </tr>\n",
       "    <tr>\n",
       "      <th>2</th>\n",
       "      <td>ЮАО</td>\n",
       "      <td>89</td>\n",
       "    </tr>\n",
       "    <tr>\n",
       "      <th>3</th>\n",
       "      <td>СВАО</td>\n",
       "      <td>65</td>\n",
       "    </tr>\n",
       "  </tbody>\n",
       "</table>\n",
       "</div>"
      ],
      "text/plain": [
       "  dist_name  id_y\n",
       "0       ЦАО   553\n",
       "1       САО   165\n",
       "2       ЮАО    89\n",
       "3      СВАО    65"
      ]
     },
     "execution_count": 68,
     "metadata": {},
     "output_type": "execute_result"
    }
   ],
   "source": [
    "top10dist2_upd = top10_upd.groupby('dist_name')['id_y'].count().sort_values(ascending=False).reset_index()\n",
    "top10dist2_upd"
   ]
  },
  {
   "cell_type": "markdown",
   "id": "21902604",
   "metadata": {},
   "source": [
    "Проделываем аналагичную процедуру для округов. "
   ]
  },
  {
   "cell_type": "code",
   "execution_count": 69,
   "id": "8e556bed",
   "metadata": {},
   "outputs": [
    {
     "data": {
      "text/plain": [
       "street\n",
       "Варшавское шоссе                    [ЮЗАО, ЮАО]\n",
       "Каширское шоссе                           [ЮАО]\n",
       "Кутузовский проспект                      [ЗАО]\n",
       "Ленинградский проспект                    [САО]\n",
       "Ленинский проспект        [ЮЗАО, ЮАО, ЗАО, ЦАО]\n",
       "Пресненская набережная                    [ЦАО]\n",
       "Профсоюзная улица                        [ЮЗАО]\n",
       "город Зеленоград                        [ЗелАО]\n",
       "проспект Вернадского                [ЮЗАО, ЗАО]\n",
       "проспект Мира                  [СВАО, ЗАО, ЦАО]\n",
       "Name: dist_name, dtype: object"
      ]
     },
     "execution_count": 69,
     "metadata": {},
     "output_type": "execute_result"
    }
   ],
   "source": [
    "top10dist = top10.groupby('street')['dist_name'].unique()\n",
    "top10dist"
   ]
  },
  {
   "cell_type": "code",
   "execution_count": 70,
   "id": "afedbb28",
   "metadata": {},
   "outputs": [
    {
     "data": {
      "text/html": [
       "<div>\n",
       "<style scoped>\n",
       "    .dataframe tbody tr th:only-of-type {\n",
       "        vertical-align: middle;\n",
       "    }\n",
       "\n",
       "    .dataframe tbody tr th {\n",
       "        vertical-align: top;\n",
       "    }\n",
       "\n",
       "    .dataframe thead th {\n",
       "        text-align: right;\n",
       "    }\n",
       "</style>\n",
       "<table border=\"1\" class=\"dataframe\">\n",
       "  <thead>\n",
       "    <tr style=\"text-align: right;\">\n",
       "      <th></th>\n",
       "      <th>dist_name</th>\n",
       "      <th>id_y</th>\n",
       "    </tr>\n",
       "  </thead>\n",
       "  <tbody>\n",
       "    <tr>\n",
       "      <th>0</th>\n",
       "      <td>ЮЗАО</td>\n",
       "      <td>2270</td>\n",
       "    </tr>\n",
       "    <tr>\n",
       "      <th>1</th>\n",
       "      <td>ЮАО</td>\n",
       "      <td>1582</td>\n",
       "    </tr>\n",
       "    <tr>\n",
       "      <th>2</th>\n",
       "      <td>ЗАО</td>\n",
       "      <td>1339</td>\n",
       "    </tr>\n",
       "    <tr>\n",
       "      <th>3</th>\n",
       "      <td>СВАО</td>\n",
       "      <td>1218</td>\n",
       "    </tr>\n",
       "    <tr>\n",
       "      <th>4</th>\n",
       "      <td>САО</td>\n",
       "      <td>688</td>\n",
       "    </tr>\n",
       "    <tr>\n",
       "      <th>5</th>\n",
       "      <td>ЗелАО</td>\n",
       "      <td>655</td>\n",
       "    </tr>\n",
       "    <tr>\n",
       "      <th>6</th>\n",
       "      <td>ЦАО</td>\n",
       "      <td>518</td>\n",
       "    </tr>\n",
       "  </tbody>\n",
       "</table>\n",
       "</div>"
      ],
      "text/plain": [
       "  dist_name  id_y\n",
       "0      ЮЗАО  2270\n",
       "1       ЮАО  1582\n",
       "2       ЗАО  1339\n",
       "3      СВАО  1218\n",
       "4       САО   688\n",
       "5     ЗелАО   655\n",
       "6       ЦАО   518"
      ]
     },
     "execution_count": 70,
     "metadata": {},
     "output_type": "execute_result"
    }
   ],
   "source": [
    "top10dist2 = top10.groupby('dist_name')['id_y'].count().sort_values(ascending=False).reset_index()\n",
    "top10dist2"
   ]
  },
  {
   "cell_type": "markdown",
   "id": "c8337522",
   "metadata": {},
   "source": [
    "Отобразим, в каких округах находится топ-10 улиц по кол-ву объектов"
   ]
  },
  {
   "cell_type": "code",
   "execution_count": 86,
   "id": "e76b7033",
   "metadata": {},
   "outputs": [
    {
     "data": {
      "image/png": "[encoded data removed]",
      "text/plain": [
       "<Figure size 504x504 with 1 Axes>"
      ]
     },
     "metadata": {},
     "output_type": "display_data"
    }
   ],
   "source": [
    "plt.figure(figsize=(7, 7))\n",
    "\n",
    "# Create a pieplot\n",
    "pie = plt.pie(top10dist2['id_y'], labels=top10dist2['dist_name'])\n",
    "plt.title('Москвоские округа по с Топ улицами по кол-ву объектов')\n",
    "plt.show()\n"
   ]
  },
  {
   "cell_type": "markdown",
   "id": "a5359de5",
   "metadata": {},
   "source": [
    "**Вывод**\n",
    "\n",
    "*Парсинг данных:*\n",
    "\n",
    "1. Собрали информацию об улицах с разбивкой по районам и округам Москвы с сайта с открытыми данными MosOpen.ru. Для получения данных с веб страницы использовали пакет BeautifulSoup. Добавили информацию о районах и округах в датасет. \n",
    "\n",
    "2. Изучили топ районов и округов по кол-ву объектов. Больше всего заведений находится в ЦАО (более 7 тыс), ЮАО (5тыс) и ЮЗАО (4 тыс). Соответсвенно среди районов также лидируют те, которые находятся в центральном и южных округах - Тверской, Басманный, Даниловский,\tПресненский, Мещанский\t\n",
    "\n",
    "\n",
    "*Топ-10 улиц по кол-ву объектов:*\n",
    "\n",
    "1. Применив группировку по улицам, нашли Топ-10 улиц с наибольшим количеством объектов общественного питания:\n",
    "      * проспект Мира\t\n",
    "      * Варшавское шоссе\n",
    "      * Ленинский проспект\n",
    "      * Профсоюзная улица\n",
    "      * Ленинградское шоссе\n",
    "      * Дмитровское шоссе\n",
    "      * Ленинградский проспект\n",
    "      * город Зеленоград\n",
    "      * проспект Вернадского\n",
    "      * Кутузовский проспект\n",
    "       \n",
    "2. Нашли список районов, к которым относится наш топ-10 улиц. Отобразим топ10 районов, так как одна улица может относиться сразу к нескольким районам\n",
    "\n",
    "      * Дорогомилово\n",
    "      * Обручевский\n",
    "      * Тёплый Стан\n",
    "      * Донской\n",
    "      * Ломоносовский\n",
    "      * Нагатино-Садовники\n",
    "      * Гагаринский\n",
    "      * Проспект Вернадского\n",
    "      * Тропарёво-Никулино\n",
    "      * Чертаново Южное\n",
    "      \n",
    "3. Список округов, к которым относятся топ-10 улиц следующий\n",
    "\n",
    "      * ЮЗАО\n",
    "      * ЮАО\n",
    "      * ЗАО\n",
    "      * СВАО\n",
    "      * САО\n",
    "      * ЦАО\n",
    "      \n",
    "Можем заметить, что список округов для всего датасета и топ-10 улиц координально отличается. топ-10 улиц в меньшей степени затрагивают центральный округ\n",
    "      "
   ]
  },
  {
   "cell_type": "markdown",
   "id": "293329ca",
   "metadata": {},
   "source": [
    "## Количество улиц с одним объектом общественного питания + район\n",
    "\n",
    "Воспользуйтесь внешней информацией и ответьте на вопрос — в каких районах Москвы находятся эти улицы?"
   ]
  },
  {
   "cell_type": "markdown",
   "id": "ce530d26",
   "metadata": {},
   "source": [
    "Сгруппировали датасет по улицам, нашли сколько на каждой улице объектов. \n",
    "Сделали срез оставив только улицы с 1 объектом. Всего таких улиц - 403 "
   ]
  },
  {
   "cell_type": "code",
   "execution_count": 72,
   "id": "ec7a255a",
   "metadata": {},
   "outputs": [
    {
     "data": {
      "text/plain": [
       "570"
      ]
     },
     "execution_count": 72,
     "metadata": {},
     "output_type": "execute_result"
    }
   ],
   "source": [
    "streets_by_id_num = upd_rest_data.groupby('street')['id'].count().reset_index().sort_values(by='id')\n",
    "streets_by_id_num = streets_by_id_num[streets_by_id_num['id'] == 1].reset_index(drop=True)\n",
    "streets_by_id_num['street'].count()"
   ]
  },
  {
   "cell_type": "markdown",
   "id": "ba369dd1",
   "metadata": {},
   "source": [
    "Получаем нужный срез с помощью мерджа двух датафреймов"
   ]
  },
  {
   "cell_type": "code",
   "execution_count": 73,
   "id": "6a08c572",
   "metadata": {},
   "outputs": [
    {
     "data": {
      "text/html": [
       "<div>\n",
       "<style scoped>\n",
       "    .dataframe tbody tr th:only-of-type {\n",
       "        vertical-align: middle;\n",
       "    }\n",
       "\n",
       "    .dataframe tbody tr th {\n",
       "        vertical-align: top;\n",
       "    }\n",
       "\n",
       "    .dataframe thead th {\n",
       "        text-align: right;\n",
       "    }\n",
       "</style>\n",
       "<table border=\"1\" class=\"dataframe\">\n",
       "  <thead>\n",
       "    <tr style=\"text-align: right;\">\n",
       "      <th></th>\n",
       "      <th>street</th>\n",
       "      <th>id_x</th>\n",
       "      <th>id_y</th>\n",
       "      <th>object_name</th>\n",
       "      <th>chain</th>\n",
       "      <th>object_type</th>\n",
       "      <th>address</th>\n",
       "      <th>number</th>\n",
       "      <th>int_chains</th>\n",
       "      <th>clean_street</th>\n",
       "      <th>street_name</th>\n",
       "      <th>reg_link</th>\n",
       "      <th>dist_name</th>\n",
       "      <th>reg_name</th>\n",
       "      <th>reg_number</th>\n",
       "    </tr>\n",
       "  </thead>\n",
       "  <tbody>\n",
       "    <tr>\n",
       "      <th>0</th>\n",
       "      <td>Тетеринский переулок</td>\n",
       "      <td>1</td>\n",
       "      <td>29172</td>\n",
       "      <td>пу 33</td>\n",
       "      <td>нет</td>\n",
       "      <td>столовая</td>\n",
       "      <td>город Москва, Тетеринский переулок, дом 2А</td>\n",
       "      <td>100</td>\n",
       "      <td>0</td>\n",
       "      <td>тетеринский</td>\n",
       "      <td>Тетеринский переулок</td>\n",
       "      <td>http://mosopen.ru/region/taganskij/streets</td>\n",
       "      <td>ЦАО</td>\n",
       "      <td>Таганский</td>\n",
       "      <td>1.0</td>\n",
       "    </tr>\n",
       "    <tr>\n",
       "      <th>1</th>\n",
       "      <td>улица Кутузова</td>\n",
       "      <td>1</td>\n",
       "      <td>23728</td>\n",
       "      <td>столовая гбоу города москвы № 1400</td>\n",
       "      <td>нет</td>\n",
       "      <td>столовая</td>\n",
       "      <td>город Москва, улица Кутузова, дом 20</td>\n",
       "      <td>120</td>\n",
       "      <td>0</td>\n",
       "      <td>кутузова</td>\n",
       "      <td>Кутузова, улица</td>\n",
       "      <td>http://mosopen.ru/region/mozhajskij/streets</td>\n",
       "      <td>ЗАО</td>\n",
       "      <td>Можайский</td>\n",
       "      <td>1.0</td>\n",
       "    </tr>\n",
       "    <tr>\n",
       "      <th>2</th>\n",
       "      <td>улица Кубинка</td>\n",
       "      <td>1</td>\n",
       "      <td>23750</td>\n",
       "      <td>столовая гбоу города москвы № 1400</td>\n",
       "      <td>нет</td>\n",
       "      <td>столовая</td>\n",
       "      <td>город Москва, улица Кубинка, дом 20, корпус 1</td>\n",
       "      <td>200</td>\n",
       "      <td>0</td>\n",
       "      <td>кубинка</td>\n",
       "      <td>Кубинка, улица</td>\n",
       "      <td>http://mosopen.ru/region/mozhajskij/streets</td>\n",
       "      <td>ЗАО</td>\n",
       "      <td>Можайский</td>\n",
       "      <td>1.0</td>\n",
       "    </tr>\n",
       "    <tr>\n",
       "      <th>3</th>\n",
       "      <td>Русаковская набережная</td>\n",
       "      <td>1</td>\n",
       "      <td>144462</td>\n",
       "      <td>кафе при азс газпромнефть №134</td>\n",
       "      <td>нет</td>\n",
       "      <td>буфет</td>\n",
       "      <td>город Москва, Русаковская набережная, дом 7</td>\n",
       "      <td>18</td>\n",
       "      <td>0</td>\n",
       "      <td>русаковская</td>\n",
       "      <td>Русаковская улица</td>\n",
       "      <td>http://mosopen.ru/region/krasnoselskij/streets</td>\n",
       "      <td>ЦАО</td>\n",
       "      <td>Красносельский</td>\n",
       "      <td>3.0</td>\n",
       "    </tr>\n",
       "    <tr>\n",
       "      <th>4</th>\n",
       "      <td>улица Крутицкий Вал</td>\n",
       "      <td>1</td>\n",
       "      <td>29407</td>\n",
       "      <td>школа 469</td>\n",
       "      <td>нет</td>\n",
       "      <td>столовая</td>\n",
       "      <td>город Москва, улица Крутицкий Вал, дом 5</td>\n",
       "      <td>240</td>\n",
       "      <td>0</td>\n",
       "      <td>крутицкий вал</td>\n",
       "      <td>Крутицкий Вал, улица</td>\n",
       "      <td>http://mosopen.ru/region/yuzhnoportovyj/streets</td>\n",
       "      <td>ЮВАО</td>\n",
       "      <td>Южнопортовый</td>\n",
       "      <td>1.0</td>\n",
       "    </tr>\n",
       "  </tbody>\n",
       "</table>\n",
       "</div>"
      ],
      "text/plain": [
       "                   street  id_x    id_y                         object_name  \\\n",
       "0    Тетеринский переулок     1   29172                               пу 33   \n",
       "1          улица Кутузова     1   23728  столовая гбоу города москвы № 1400   \n",
       "2           улица Кубинка     1   23750  столовая гбоу города москвы № 1400   \n",
       "3  Русаковская набережная     1  144462      кафе при азс газпромнефть №134   \n",
       "4     улица Крутицкий Вал     1   29407                           школа 469   \n",
       "\n",
       "  chain object_type                                        address  number  \\\n",
       "0   нет    столовая     город Москва, Тетеринский переулок, дом 2А     100   \n",
       "1   нет    столовая           город Москва, улица Кутузова, дом 20     120   \n",
       "2   нет    столовая  город Москва, улица Кубинка, дом 20, корпус 1     200   \n",
       "3   нет       буфет    город Москва, Русаковская набережная, дом 7      18   \n",
       "4   нет    столовая       город Москва, улица Крутицкий Вал, дом 5     240   \n",
       "\n",
       "   int_chains   clean_street           street_name  \\\n",
       "0           0    тетеринский  Тетеринский переулок   \n",
       "1           0       кутузова       Кутузова, улица   \n",
       "2           0        кубинка        Кубинка, улица   \n",
       "3           0    русаковская     Русаковская улица   \n",
       "4           0  крутицкий вал  Крутицкий Вал, улица   \n",
       "\n",
       "                                          reg_link dist_name        reg_name  \\\n",
       "0       http://mosopen.ru/region/taganskij/streets       ЦАО       Таганский   \n",
       "1      http://mosopen.ru/region/mozhajskij/streets       ЗАО       Можайский   \n",
       "2      http://mosopen.ru/region/mozhajskij/streets       ЗАО       Можайский   \n",
       "3   http://mosopen.ru/region/krasnoselskij/streets       ЦАО  Красносельский   \n",
       "4  http://mosopen.ru/region/yuzhnoportovyj/streets      ЮВАО    Южнопортовый   \n",
       "\n",
       "   reg_number  \n",
       "0         1.0  \n",
       "1         1.0  \n",
       "2         1.0  \n",
       "3         3.0  \n",
       "4         1.0  "
      ]
     },
     "execution_count": 73,
     "metadata": {},
     "output_type": "execute_result"
    }
   ],
   "source": [
    "lonely_streets = streets_by_id_num.merge(upd_rest_data, how='left', on='street')\n",
    "lonely_streets.head()"
   ]
  },
  {
   "cell_type": "code",
   "execution_count": 74,
   "id": "da721dd7",
   "metadata": {},
   "outputs": [
    {
     "data": {
      "text/html": [
       "<div>\n",
       "<style scoped>\n",
       "    .dataframe tbody tr th:only-of-type {\n",
       "        vertical-align: middle;\n",
       "    }\n",
       "\n",
       "    .dataframe tbody tr th {\n",
       "        vertical-align: top;\n",
       "    }\n",
       "\n",
       "    .dataframe thead th {\n",
       "        text-align: right;\n",
       "    }\n",
       "</style>\n",
       "<table border=\"1\" class=\"dataframe\">\n",
       "  <thead>\n",
       "    <tr style=\"text-align: right;\">\n",
       "      <th></th>\n",
       "      <th>reg_name</th>\n",
       "      <th>id_y</th>\n",
       "    </tr>\n",
       "  </thead>\n",
       "  <tbody>\n",
       "    <tr>\n",
       "      <th>0</th>\n",
       "      <td>Басманный</td>\n",
       "      <td>25</td>\n",
       "    </tr>\n",
       "    <tr>\n",
       "      <th>1</th>\n",
       "      <td>Таганский</td>\n",
       "      <td>24</td>\n",
       "    </tr>\n",
       "    <tr>\n",
       "      <th>2</th>\n",
       "      <td>Хамовники</td>\n",
       "      <td>21</td>\n",
       "    </tr>\n",
       "    <tr>\n",
       "      <th>3</th>\n",
       "      <td>Арбат</td>\n",
       "      <td>19</td>\n",
       "    </tr>\n",
       "    <tr>\n",
       "      <th>4</th>\n",
       "      <td>Тверской</td>\n",
       "      <td>18</td>\n",
       "    </tr>\n",
       "    <tr>\n",
       "      <th>5</th>\n",
       "      <td>Пресненский</td>\n",
       "      <td>16</td>\n",
       "    </tr>\n",
       "    <tr>\n",
       "      <th>6</th>\n",
       "      <td>Марьина роща</td>\n",
       "      <td>16</td>\n",
       "    </tr>\n",
       "    <tr>\n",
       "      <th>7</th>\n",
       "      <td>Мещанский</td>\n",
       "      <td>15</td>\n",
       "    </tr>\n",
       "    <tr>\n",
       "      <th>8</th>\n",
       "      <td>Даниловский</td>\n",
       "      <td>14</td>\n",
       "    </tr>\n",
       "    <tr>\n",
       "      <th>9</th>\n",
       "      <td>Лефортово</td>\n",
       "      <td>12</td>\n",
       "    </tr>\n",
       "  </tbody>\n",
       "</table>\n",
       "</div>"
      ],
      "text/plain": [
       "       reg_name  id_y\n",
       "0     Басманный    25\n",
       "1     Таганский    24\n",
       "2     Хамовники    21\n",
       "3         Арбат    19\n",
       "4      Тверской    18\n",
       "5   Пресненский    16\n",
       "6  Марьина роща    16\n",
       "7     Мещанский    15\n",
       "8   Даниловский    14\n",
       "9     Лефортово    12"
      ]
     },
     "execution_count": 74,
     "metadata": {},
     "output_type": "execute_result"
    }
   ],
   "source": [
    "lonely_reg = lonely_streets.groupby('reg_name')['id_y'].count().sort_values(ascending=False).to_frame().reset_index().head(10)\n",
    "lonely_reg"
   ]
  },
  {
   "cell_type": "code",
   "execution_count": 75,
   "id": "7239a66e",
   "metadata": {},
   "outputs": [
    {
     "data": {
      "text/html": [
       "<div>\n",
       "<style scoped>\n",
       "    .dataframe tbody tr th:only-of-type {\n",
       "        vertical-align: middle;\n",
       "    }\n",
       "\n",
       "    .dataframe tbody tr th {\n",
       "        vertical-align: top;\n",
       "    }\n",
       "\n",
       "    .dataframe thead th {\n",
       "        text-align: right;\n",
       "    }\n",
       "</style>\n",
       "<table border=\"1\" class=\"dataframe\">\n",
       "  <thead>\n",
       "    <tr style=\"text-align: right;\">\n",
       "      <th></th>\n",
       "      <th>dist_name</th>\n",
       "      <th>id_y</th>\n",
       "    </tr>\n",
       "  </thead>\n",
       "  <tbody>\n",
       "    <tr>\n",
       "      <th>0</th>\n",
       "      <td>ЦАО</td>\n",
       "      <td>167</td>\n",
       "    </tr>\n",
       "    <tr>\n",
       "      <th>1</th>\n",
       "      <td>СВАО</td>\n",
       "      <td>62</td>\n",
       "    </tr>\n",
       "    <tr>\n",
       "      <th>2</th>\n",
       "      <td>ВАО</td>\n",
       "      <td>55</td>\n",
       "    </tr>\n",
       "    <tr>\n",
       "      <th>3</th>\n",
       "      <td>САО</td>\n",
       "      <td>51</td>\n",
       "    </tr>\n",
       "    <tr>\n",
       "      <th>4</th>\n",
       "      <td>ЮВАО</td>\n",
       "      <td>50</td>\n",
       "    </tr>\n",
       "    <tr>\n",
       "      <th>5</th>\n",
       "      <td>ЗАО</td>\n",
       "      <td>43</td>\n",
       "    </tr>\n",
       "    <tr>\n",
       "      <th>6</th>\n",
       "      <td>ЮЗАО</td>\n",
       "      <td>28</td>\n",
       "    </tr>\n",
       "    <tr>\n",
       "      <th>7</th>\n",
       "      <td>СЗАО</td>\n",
       "      <td>25</td>\n",
       "    </tr>\n",
       "    <tr>\n",
       "      <th>8</th>\n",
       "      <td>ЮАО</td>\n",
       "      <td>25</td>\n",
       "    </tr>\n",
       "    <tr>\n",
       "      <th>9</th>\n",
       "      <td>ЗелАО</td>\n",
       "      <td>3</td>\n",
       "    </tr>\n",
       "  </tbody>\n",
       "</table>\n",
       "</div>"
      ],
      "text/plain": [
       "  dist_name  id_y\n",
       "0       ЦАО   167\n",
       "1      СВАО    62\n",
       "2       ВАО    55\n",
       "3       САО    51\n",
       "4      ЮВАО    50\n",
       "5       ЗАО    43\n",
       "6      ЮЗАО    28\n",
       "7      СЗАО    25\n",
       "8       ЮАО    25\n",
       "9     ЗелАО     3"
      ]
     },
     "execution_count": 75,
     "metadata": {},
     "output_type": "execute_result"
    }
   ],
   "source": [
    "lonely_dist = lonely_streets.groupby('dist_name')['id_y'].count().sort_values(ascending=False).to_frame().reset_index().head(10)\n",
    "lonely_dist"
   ]
  },
  {
   "cell_type": "code",
   "execution_count": 76,
   "id": "391c049f",
   "metadata": {},
   "outputs": [],
   "source": [
    "#fig = px.bar(dist_with_lonely_st, x='street', y='district')\n",
    "#fig.show()"
   ]
  },
  {
   "cell_type": "code",
   "execution_count": 77,
   "id": "b89e4086",
   "metadata": {},
   "outputs": [
    {
     "data": {
      "text/plain": [
       "Text(0.5, 1.0, 'Округа с наибольшим кол-ом улиц с единственным объектом общественного питания')"
      ]
     },
     "execution_count": 77,
     "metadata": {},
     "output_type": "execute_result"
    },
    {
     "data": {
      "image/png": "[encoded data removed]",
      "text/plain": [
       "<Figure size 720x432 with 1 Axes>"
      ]
     },
     "metadata": {
      "needs_background": "light"
     },
     "output_type": "display_data"
    }
   ],
   "source": [
    "plt.figure(figsize=(10, 6))\n",
    "\n",
    "fig_dist_with_lonely_st = sns.barplot(x='id_y', y='dist_name', data=lonely_dist, color='#69b3a2')\n",
    "\n",
    "fig_dist_with_lonely_st.set_xlabel('Количество улиц')\n",
    "fig_dist_with_lonely_st.set_ylabel('Округ')\n",
    "fig_dist_with_lonely_st.set_title('Округа с наибольшим кол-ом улиц с единственным объектом общественного питания')"
   ]
  },
  {
   "cell_type": "code",
   "execution_count": 78,
   "id": "1ca39a5e",
   "metadata": {},
   "outputs": [
    {
     "data": {
      "text/plain": [
       "Text(0.5, 1.0, 'Районы с наибольшим кол-ом улиц с единственным объектом общественного питания')"
      ]
     },
     "execution_count": 78,
     "metadata": {},
     "output_type": "execute_result"
    },
    {
     "data": {
      "image/png": "[encoded data removed]",
      "text/plain": [
       "<Figure size 720x432 with 1 Axes>"
      ]
     },
     "metadata": {
      "needs_background": "light"
     },
     "output_type": "display_data"
    }
   ],
   "source": [
    "plt.figure(figsize=(10, 6))\n",
    "\n",
    "fig_dist_with_lonely_st = sns.barplot(x='id_y', y='reg_name', data=lonely_reg, color='#69b3a2')\n",
    "\n",
    "fig_dist_with_lonely_st.set_xlabel('Количество улиц')\n",
    "fig_dist_with_lonely_st.set_ylabel('Район')\n",
    "fig_dist_with_lonely_st.set_title('Районы с наибольшим кол-ом улиц с единственным объектом общественного питания')"
   ]
  },
  {
   "cell_type": "markdown",
   "id": "ba4a71c3",
   "metadata": {},
   "source": [
    "**Вывод**\n",
    "\n",
    "Всего в Москве 403 улицы, на которых расположен единственный объект общественного питания. \n",
    "\n",
    "Основные районы с улицами-одиночками:\n",
    "   * Басманный\n",
    "   * Таганский\n",
    "   * Хамовники\n",
    "   * Пресненский\n",
    "   * Тверской\n",
    "   \n",
    "Основные округа с улицами-одиночками:\n",
    "   * ЦАО\n",
    "   * СВАО\n",
    "   * ВАО\n",
    "   * ЗАО\n",
    "   * ЮВАО"
   ]
  },
  {
   "cell_type": "markdown",
   "id": "81d2d1db",
   "metadata": {},
   "source": [
    "## Распределение количества посадочных мест для улиц с большим количеством объектов общественного питания\n",
    "Посмотрите на распределение количества посадочных мест для улиц с большим количеством объектов общественного питания. Какие закономерности можно выявить?"
   ]
  },
  {
   "cell_type": "code",
   "execution_count": 79,
   "id": "deaa9d68",
   "metadata": {},
   "outputs": [
    {
     "data": {
      "text/plain": [
       "Text(0.5, 1.0, 'Распределение количества посадочных мест для улиц с большим количеством объектов общественного питания')"
      ]
     },
     "execution_count": 79,
     "metadata": {},
     "output_type": "execute_result"
    },
    {
     "data": {
      "image/png": "[encoded data removed]",
      "text/plain": [
       "<Figure size 864x432 with 1 Axes>"
      ]
     },
     "metadata": {
      "needs_background": "light"
     },
     "output_type": "display_data"
    }
   ],
   "source": [
    "plt.figure(figsize=(12, 6))\n",
    "plt.xticks(rotation=25)\n",
    "\n",
    "\n",
    "distrib = sns.violinplot(x=top10['street'], y=top10['number'])\n",
    "\n",
    "distrib.set_ylim(-100, 350)\n",
    "distrib.set_xlabel('Название улицы')\n",
    "distrib.set_ylabel('Количество посадочных мест')\n",
    "distrib.set_title('Распределение количества посадочных мест для улиц с большим количеством объектов общественного питания')\n"
   ]
  },
  {
   "cell_type": "markdown",
   "id": "230b1d1b",
   "metadata": {},
   "source": [
    "**Вывод**\n",
    "\n",
    "Построили скрипичную диагрумму для топ-10 улиц по кол-ву посадочных мест.\n",
    "\n",
    "   * На улицах возглавляющих Топ-10 наблюдается смещение в сторону заведений с меньшим кол-вом  посадочных мест\n",
    "   * Чем ниже улица в топе, тем плавнее распределение"
   ]
  },
  {
   "cell_type": "markdown",
   "id": "77362127",
   "metadata": {},
   "source": [
    "# Общий вывод"
   ]
  },
  {
   "cell_type": "markdown",
   "id": "eea5cac9",
   "metadata": {},
   "source": [
    "Проведено исследование рынка зведений общественного питания Москвы\n",
    "\n",
    "Не новостью стала информация о большом количестве различных заведений общественного питания в Москве - **более 15тыс объектов**\n",
    "\n",
    "Именно формат `кафе` является самым популярным на рынке - более 6тыс заведний, то есть **около 40% всех объектов**. Конкуренция высокая. \n",
    "\n",
    "\n",
    "**Сетевые заведения**\n",
    "\n",
    "Доля сетевых заведений общественного питания в Москве составляет **около 20% от общего количества заведений**.\n",
    "   * Медианное кол-во точек одной сети составляет **4 заведения**\n",
    "   * Преобладают сети с малым кол-вом точек, но с большой посадкой\n",
    "   \n",
    "**Посадочные места**\n",
    "\n",
    "   * Среднее кол-во посадочных мест для `кафе` составляет **40 шт**, для `кафетерия` всего **9**. Это стоит учитывать продумывая подробнее концепцию робокафе. Будет ли это именно кофейня (напитки, выпечка) или планируется полнценное кафе с кухней. \n",
    "\n",
    "\n",
    "**Местоположение**\n",
    "\n",
    "Для начала изучили топ районов и округов по кол-ву объектов по общей выборке. Больше всего заведений находится в ЦАО (более 7 тыс), ЮАО (5тыс) и ЮЗАО (4 тыс). Соответсвенно среди районов также лидируют те, которые находятся в центральном и южных округах - Тверской, Басманный, Даниловский, Пресненский, Мещанский.\t\n",
    "\n",
    "\n",
    "1. *Топ-10 улиц по количеству об объектов общественного питания выглядят следующим образом:*\n",
    "     >* проспект Мира\t\n",
    "     >* Варшавское шоссе\n",
    "     >* Ленинский проспект\n",
    "     >* Профсоюзная улица\n",
    "     >* Ленинградское шоссе\n",
    "     >* Дмитровское шоссе\n",
    "     >* Ленинградский проспект\n",
    "     >* город Зеленоград\n",
    "     >* проспект Вернадского\n",
    "     >* Кутузовский проспект\n",
    "     \n",
    "      \n",
    "     Проверили, в каких округах и районах располагаются данные улицы. В отличие от общей выборки эти топ-10 улиц располагаются далеко не в центральном округе - ЮЗАО, ЮАО, ЗАО, СВАО, САО. \n",
    "     \n",
    "     Заметим, что все улицы в этом списке довольно протяженные. Сюда также вошел целый пригород - Зеленоград. Вероятно, именно  поэтому на этих улицах может располагаться такое большое число заведений общественного питания. \n",
    "     \n",
    "\n",
    "2. *Улицы с единственным заведением общественного питания*\n",
    "\n",
    "    * Всего в Москве 403 улицы, на которых расположен единственный объект общественного питания.\n",
    "\n",
    "    * Основные районы с улицами-одиночками - Басманный (23 улицы), Таганский (20), Хамовники (17), Пресненский (13), Тверской (12)  \n",
    "    * Основные округа с улицами-одиночками. С большим отрывом лидирует ЦАО - 119 улиц. Также значительное количество таких улиц располагается в СВАО (40), ВАО (34), ЗАО (34) и ЮВАО (34)\n",
    "\n",
    "\n",
    "**Итого:**\n",
    "   * Наибольшее количество заведений находится в Центральном округе. Это можно объяснить тем, что там высокая проходимость. Именно в центре множество гуляющих граждан, туристов. Обратная сторона медали заключается в том, что конкуренция в центральных районах очень высока + аренда высока. Сложно привлечь аудиторию именно к вашему заведению. Обратите внимание на улицы с одиночными заведениями\n",
    "   \n",
    "   * Предлагаю обратить внимание на те округа, где на данный момент меньше заведений - северные и восточные районы. Подробнее изучить эти районы, найти подходящие локации с более высокой проходимостью. \n",
    "   \n",
    "   * Расчитывайте кол-во посадочных мест исходя их типа объекта. В среднем для кафе 40 мест, для кафетерия 9. \n",
    "   \n",
    "   \n",
    "\n",
    "**Дальнейшие этапы исследования**\n",
    "\n",
    "   * Подробнее продумать аудиторию заведения, и где в серверных/восточных районах города эту аудиторию можно найти\n",
    "   \n",
    "   * Подробнее изучить адреса заведений в особенности транспортную доступность в северных и восточных районах: \n",
    "      \n",
    "       * Есть ли поблизости остановки общественного транспорта, метро\n",
    "       * Есть ли место для парковки \n",
    "\n",
    "   * Подробнее изучить места расположения сетевых заведений. Проверить гипотезу, о том что лучше избегать расположения нового кафе пососедству со скоплением сетевых заведений:\n",
    "   > Узнаваемость сетевых заведений заведомо высокая. Поэтому можно выдвинуть гипотезу о том, что типичный прохожий отдаст предпочтение одному из знакомых заведений. И в таком случае уровень посещаемости случайных прохожих будет низок. \n",
    "   \n",
    "   \n",
    "   \n",
    "   \n",
    "   "
   ]
  },
  {
   "cell_type": "markdown",
   "id": "7fbe3423",
   "metadata": {},
   "source": [
    "Ссылка на презентацию: https://drive.google.com/file/d/1uScWVRkrkmvA15K6tDSYGMYRphW_rB_t/view?usp=sharing"
   ]
  }
 ],
 "metadata": {
  "ExecuteTimeLog": [
   {
    "duration": 43440,
    "start_time": "2021-11-15T17:23:23.890Z"
   },
   {
    "duration": 145,
    "start_time": "2021-11-15T17:26:44.492Z"
   },
   {
    "duration": 511,
    "start_time": "2021-11-18T11:46:09.982Z"
   },
   {
    "duration": 467,
    "start_time": "2021-11-18T11:46:55.583Z"
   },
   {
    "duration": 285,
    "start_time": "2021-11-18T11:46:55.770Z"
   },
   {
    "duration": 276,
    "start_time": "2021-11-18T11:46:55.782Z"
   },
   {
    "duration": 273,
    "start_time": "2021-11-18T11:46:55.787Z"
   },
   {
    "duration": 270,
    "start_time": "2021-11-18T11:46:55.791Z"
   },
   {
    "duration": 260,
    "start_time": "2021-11-18T11:46:55.802Z"
   },
   {
    "duration": 257,
    "start_time": "2021-11-18T11:46:55.807Z"
   },
   {
    "duration": 248,
    "start_time": "2021-11-18T11:46:55.817Z"
   },
   {
    "duration": 247,
    "start_time": "2021-11-18T11:46:55.820Z"
   },
   {
    "duration": 235,
    "start_time": "2021-11-18T11:46:55.833Z"
   },
   {
    "duration": 232,
    "start_time": "2021-11-18T11:46:55.838Z"
   },
   {
    "duration": 222,
    "start_time": "2021-11-18T11:46:55.849Z"
   },
   {
    "duration": 220,
    "start_time": "2021-11-18T11:46:55.852Z"
   },
   {
    "duration": 219,
    "start_time": "2021-11-18T11:46:55.855Z"
   },
   {
    "duration": 210,
    "start_time": "2021-11-18T11:46:55.865Z"
   },
   {
    "duration": 208,
    "start_time": "2021-11-18T11:46:55.869Z"
   },
   {
    "duration": 206,
    "start_time": "2021-11-18T11:46:55.872Z"
   },
   {
    "duration": 197,
    "start_time": "2021-11-18T11:46:55.882Z"
   },
   {
    "duration": 195,
    "start_time": "2021-11-18T11:46:55.886Z"
   },
   {
    "duration": 191,
    "start_time": "2021-11-18T11:46:55.891Z"
   },
   {
    "duration": 183,
    "start_time": "2021-11-18T11:46:55.900Z"
   },
   {
    "duration": 181,
    "start_time": "2021-11-18T11:46:55.904Z"
   },
   {
    "duration": 178,
    "start_time": "2021-11-18T11:46:55.908Z"
   },
   {
    "duration": 169,
    "start_time": "2021-11-18T11:46:55.918Z"
   },
   {
    "duration": 167,
    "start_time": "2021-11-18T11:46:55.921Z"
   },
   {
    "duration": 158,
    "start_time": "2021-11-18T11:46:55.932Z"
   },
   {
    "duration": 155,
    "start_time": "2021-11-18T11:46:55.936Z"
   },
   {
    "duration": 153,
    "start_time": "2021-11-18T11:46:55.939Z"
   },
   {
    "duration": 143,
    "start_time": "2021-11-18T11:46:55.951Z"
   },
   {
    "duration": 141,
    "start_time": "2021-11-18T11:46:55.954Z"
   },
   {
    "duration": 138,
    "start_time": "2021-11-18T11:46:55.958Z"
   },
   {
    "duration": 129,
    "start_time": "2021-11-18T11:46:55.968Z"
   },
   {
    "duration": 126,
    "start_time": "2021-11-18T11:46:55.971Z"
   },
   {
    "duration": 123,
    "start_time": "2021-11-18T11:46:55.975Z"
   },
   {
    "duration": 115,
    "start_time": "2021-11-18T11:46:55.984Z"
   },
   {
    "duration": 111,
    "start_time": "2021-11-18T11:46:55.989Z"
   },
   {
    "duration": 103,
    "start_time": "2021-11-18T11:46:55.998Z"
   },
   {
    "duration": 101,
    "start_time": "2021-11-18T11:46:56.001Z"
   },
   {
    "duration": 98,
    "start_time": "2021-11-18T11:46:56.005Z"
   },
   {
    "duration": 89,
    "start_time": "2021-11-18T11:46:56.015Z"
   },
   {
    "duration": 86,
    "start_time": "2021-11-18T11:46:56.018Z"
   },
   {
    "duration": 84,
    "start_time": "2021-11-18T11:46:56.021Z"
   },
   {
    "duration": 77,
    "start_time": "2021-11-18T11:46:56.030Z"
   },
   {
    "duration": 74,
    "start_time": "2021-11-18T11:46:56.034Z"
   },
   {
    "duration": 73,
    "start_time": "2021-11-18T11:46:56.036Z"
   },
   {
    "duration": 71,
    "start_time": "2021-11-18T11:46:56.039Z"
   },
   {
    "duration": 63,
    "start_time": "2021-11-18T11:46:56.048Z"
   },
   {
    "duration": 60,
    "start_time": "2021-11-18T11:46:56.052Z"
   },
   {
    "duration": 58,
    "start_time": "2021-11-18T11:46:56.055Z"
   },
   {
    "duration": 49,
    "start_time": "2021-11-18T11:46:56.064Z"
   },
   {
    "duration": 46,
    "start_time": "2021-11-18T11:46:56.068Z"
   },
   {
    "duration": 12,
    "start_time": "2021-11-18T11:46:56.103Z"
   },
   {
    "duration": -7,
    "start_time": "2021-11-18T11:46:56.124Z"
   },
   {
    "duration": -16,
    "start_time": "2021-11-18T11:46:56.134Z"
   },
   {
    "duration": -34,
    "start_time": "2021-11-18T11:46:56.153Z"
   },
   {
    "duration": -38,
    "start_time": "2021-11-18T11:46:56.158Z"
   },
   {
    "duration": -45,
    "start_time": "2021-11-18T11:46:56.166Z"
   },
   {
    "duration": -48,
    "start_time": "2021-11-18T11:46:56.170Z"
   },
   {
    "duration": -63,
    "start_time": "2021-11-18T11:46:56.186Z"
   },
   {
    "duration": -67,
    "start_time": "2021-11-18T11:46:56.191Z"
   },
   {
    "duration": -75,
    "start_time": "2021-11-18T11:46:56.200Z"
   },
   {
    "duration": -88,
    "start_time": "2021-11-18T11:46:56.214Z"
   },
   {
    "duration": -94,
    "start_time": "2021-11-18T11:46:56.221Z"
   },
   {
    "duration": -103,
    "start_time": "2021-11-18T11:46:56.231Z"
   },
   {
    "duration": -105,
    "start_time": "2021-11-18T11:46:56.234Z"
   },
   {
    "duration": -108,
    "start_time": "2021-11-18T11:46:56.237Z"
   },
   {
    "duration": -112,
    "start_time": "2021-11-18T11:46:56.242Z"
   },
   {
    "duration": -60,
    "start_time": "2021-11-18T11:46:56.251Z"
   },
   {
    "duration": -61,
    "start_time": "2021-11-18T11:46:56.254Z"
   },
   {
    "duration": 1491,
    "start_time": "2021-11-18T11:52:45.045Z"
   },
   {
    "duration": 251,
    "start_time": "2021-11-18T12:06:58.032Z"
   },
   {
    "duration": 1458,
    "start_time": "2021-11-18T12:07:08.600Z"
   },
   {
    "duration": 1903,
    "start_time": "2021-11-18T12:07:10.060Z"
   },
   {
    "duration": 8,
    "start_time": "2021-11-18T12:07:11.966Z"
   },
   {
    "duration": 15,
    "start_time": "2021-11-18T12:07:11.976Z"
   },
   {
    "duration": 9,
    "start_time": "2021-11-18T12:07:11.992Z"
   },
   {
    "duration": 17,
    "start_time": "2021-11-18T12:07:12.003Z"
   },
   {
    "duration": 12,
    "start_time": "2021-11-18T12:07:12.022Z"
   },
   {
    "duration": 8,
    "start_time": "2021-11-18T12:07:12.036Z"
   },
   {
    "duration": 9,
    "start_time": "2021-11-18T12:07:12.045Z"
   },
   {
    "duration": 5,
    "start_time": "2021-11-18T12:07:12.056Z"
   },
   {
    "duration": 35,
    "start_time": "2021-11-18T12:07:12.062Z"
   },
   {
    "duration": 450,
    "start_time": "2021-11-18T12:07:12.098Z"
   },
   {
    "duration": 9,
    "start_time": "2021-11-18T12:07:12.550Z"
   },
   {
    "duration": 338,
    "start_time": "2021-11-18T12:07:12.561Z"
   },
   {
    "duration": 8,
    "start_time": "2021-11-18T12:07:12.901Z"
   },
   {
    "duration": 58,
    "start_time": "2021-11-18T12:07:12.910Z"
   },
   {
    "duration": 33,
    "start_time": "2021-11-18T12:07:12.970Z"
   },
   {
    "duration": 354,
    "start_time": "2021-11-18T12:07:13.004Z"
   },
   {
    "duration": 296,
    "start_time": "2021-11-18T12:07:13.065Z"
   },
   {
    "duration": 312,
    "start_time": "2021-11-18T12:07:13.121Z"
   },
   {
    "duration": 310,
    "start_time": "2021-11-18T12:07:13.124Z"
   },
   {
    "duration": 307,
    "start_time": "2021-11-18T12:07:13.128Z"
   },
   {
    "duration": 304,
    "start_time": "2021-11-18T12:07:13.132Z"
   },
   {
    "duration": 301,
    "start_time": "2021-11-18T12:07:13.136Z"
   },
   {
    "duration": 299,
    "start_time": "2021-11-18T12:07:13.139Z"
   },
   {
    "duration": 296,
    "start_time": "2021-11-18T12:07:13.143Z"
   },
   {
    "duration": 288,
    "start_time": "2021-11-18T12:07:13.152Z"
   },
   {
    "duration": 285,
    "start_time": "2021-11-18T12:07:13.156Z"
   },
   {
    "duration": 284,
    "start_time": "2021-11-18T12:07:13.158Z"
   },
   {
    "duration": 281,
    "start_time": "2021-11-18T12:07:13.162Z"
   },
   {
    "duration": 279,
    "start_time": "2021-11-18T12:07:13.165Z"
   },
   {
    "duration": 277,
    "start_time": "2021-11-18T12:07:13.168Z"
   },
   {
    "duration": 275,
    "start_time": "2021-11-18T12:07:13.171Z"
   },
   {
    "duration": 272,
    "start_time": "2021-11-18T12:07:13.175Z"
   },
   {
    "duration": 269,
    "start_time": "2021-11-18T12:07:13.179Z"
   },
   {
    "duration": 260,
    "start_time": "2021-11-18T12:07:13.188Z"
   },
   {
    "duration": 258,
    "start_time": "2021-11-18T12:07:13.191Z"
   },
   {
    "duration": 216,
    "start_time": "2021-11-18T12:07:13.234Z"
   },
   {
    "duration": 215,
    "start_time": "2021-11-18T12:07:13.236Z"
   },
   {
    "duration": 213,
    "start_time": "2021-11-18T12:07:13.239Z"
   },
   {
    "duration": 211,
    "start_time": "2021-11-18T12:07:13.242Z"
   },
   {
    "duration": 209,
    "start_time": "2021-11-18T12:07:13.245Z"
   },
   {
    "duration": 243,
    "start_time": "2021-11-18T12:07:13.248Z"
   },
   {
    "duration": 241,
    "start_time": "2021-11-18T12:07:13.251Z"
   },
   {
    "duration": 232,
    "start_time": "2021-11-18T12:07:13.261Z"
   },
   {
    "duration": 229,
    "start_time": "2021-11-18T12:07:13.265Z"
   },
   {
    "duration": 227,
    "start_time": "2021-11-18T12:07:13.268Z"
   },
   {
    "duration": 225,
    "start_time": "2021-11-18T12:07:13.271Z"
   },
   {
    "duration": 223,
    "start_time": "2021-11-18T12:07:13.274Z"
   },
   {
    "duration": 219,
    "start_time": "2021-11-18T12:07:13.279Z"
   },
   {
    "duration": 216,
    "start_time": "2021-11-18T12:07:13.283Z"
   },
   {
    "duration": 213,
    "start_time": "2021-11-18T12:07:13.287Z"
   },
   {
    "duration": 211,
    "start_time": "2021-11-18T12:07:13.290Z"
   },
   {
    "duration": 180,
    "start_time": "2021-11-18T12:07:13.322Z"
   },
   {
    "duration": 170,
    "start_time": "2021-11-18T12:07:13.333Z"
   },
   {
    "duration": 167,
    "start_time": "2021-11-18T12:07:13.337Z"
   },
   {
    "duration": 166,
    "start_time": "2021-11-18T12:07:13.339Z"
   },
   {
    "duration": 163,
    "start_time": "2021-11-18T12:07:13.343Z"
   },
   {
    "duration": 161,
    "start_time": "2021-11-18T12:07:13.346Z"
   },
   {
    "duration": 159,
    "start_time": "2021-11-18T12:07:13.349Z"
   },
   {
    "duration": 158,
    "start_time": "2021-11-18T12:07:13.351Z"
   },
   {
    "duration": 155,
    "start_time": "2021-11-18T12:07:13.355Z"
   },
   {
    "duration": 154,
    "start_time": "2021-11-18T12:07:13.357Z"
   },
   {
    "duration": 144,
    "start_time": "2021-11-18T12:07:13.368Z"
   },
   {
    "duration": 142,
    "start_time": "2021-11-18T12:07:13.371Z"
   },
   {
    "duration": 140,
    "start_time": "2021-11-18T12:07:13.374Z"
   },
   {
    "duration": 138,
    "start_time": "2021-11-18T12:07:13.377Z"
   },
   {
    "duration": 135,
    "start_time": "2021-11-18T12:07:13.381Z"
   },
   {
    "duration": 133,
    "start_time": "2021-11-18T12:07:13.384Z"
   },
   {
    "duration": 9,
    "start_time": "2021-11-18T12:09:22.756Z"
   },
   {
    "duration": 181,
    "start_time": "2021-11-18T12:09:52.417Z"
   },
   {
    "duration": 191,
    "start_time": "2021-11-18T12:11:29.337Z"
   },
   {
    "duration": 10,
    "start_time": "2021-11-18T12:11:36.049Z"
   },
   {
    "duration": 179,
    "start_time": "2021-11-18T12:11:37.889Z"
   },
   {
    "duration": 12,
    "start_time": "2021-11-18T12:13:32.757Z"
   },
   {
    "duration": 362,
    "start_time": "2021-11-18T12:13:35.079Z"
   },
   {
    "duration": 177,
    "start_time": "2021-11-18T12:13:49.612Z"
   },
   {
    "duration": 13,
    "start_time": "2021-11-18T12:14:52.481Z"
   },
   {
    "duration": 193,
    "start_time": "2021-11-18T12:14:56.294Z"
   },
   {
    "duration": 359,
    "start_time": "2021-11-18T12:15:42.779Z"
   },
   {
    "duration": 13,
    "start_time": "2021-11-18T12:20:07.464Z"
   },
   {
    "duration": 359,
    "start_time": "2021-11-18T12:20:12.948Z"
   },
   {
    "duration": 189,
    "start_time": "2021-11-18T12:20:21.735Z"
   },
   {
    "duration": 3,
    "start_time": "2021-11-18T12:25:42.357Z"
   },
   {
    "duration": 9,
    "start_time": "2021-11-18T12:26:21.521Z"
   },
   {
    "duration": 15,
    "start_time": "2021-11-18T12:26:29.831Z"
   },
   {
    "duration": 8,
    "start_time": "2021-11-18T12:26:50.223Z"
   },
   {
    "duration": 10,
    "start_time": "2021-11-18T12:27:03.947Z"
   },
   {
    "duration": 15,
    "start_time": "2021-11-18T12:28:35.946Z"
   },
   {
    "duration": 179,
    "start_time": "2021-11-18T12:32:43.056Z"
   },
   {
    "duration": 11,
    "start_time": "2021-11-18T12:32:55.139Z"
   },
   {
    "duration": 2647,
    "start_time": "2021-11-18T18:51:19.255Z"
   },
   {
    "duration": 2189,
    "start_time": "2021-11-18T18:51:21.906Z"
   },
   {
    "duration": 14,
    "start_time": "2021-11-18T18:51:24.102Z"
   },
   {
    "duration": 26,
    "start_time": "2021-11-18T18:51:24.119Z"
   },
   {
    "duration": 53,
    "start_time": "2021-11-18T18:51:24.148Z"
   },
   {
    "duration": 26,
    "start_time": "2021-11-18T18:51:24.204Z"
   },
   {
    "duration": 21,
    "start_time": "2021-11-18T18:51:24.235Z"
   },
   {
    "duration": 45,
    "start_time": "2021-11-18T18:51:24.260Z"
   },
   {
    "duration": 15,
    "start_time": "2021-11-18T18:51:24.308Z"
   },
   {
    "duration": 9,
    "start_time": "2021-11-18T18:51:24.326Z"
   },
   {
    "duration": 10,
    "start_time": "2021-11-18T18:51:24.337Z"
   },
   {
    "duration": 586,
    "start_time": "2021-11-18T18:51:24.349Z"
   },
   {
    "duration": 14,
    "start_time": "2021-11-18T18:51:24.937Z"
   },
   {
    "duration": 919,
    "start_time": "2021-11-18T18:51:24.954Z"
   },
   {
    "duration": 28,
    "start_time": "2021-11-18T18:51:25.876Z"
   },
   {
    "duration": 106,
    "start_time": "2021-11-18T18:51:25.907Z"
   },
   {
    "duration": 20,
    "start_time": "2021-11-18T18:51:26.017Z"
   },
   {
    "duration": 760,
    "start_time": "2021-11-18T18:51:26.040Z"
   },
   {
    "duration": 19,
    "start_time": "2021-11-18T18:51:26.803Z"
   },
   {
    "duration": 679,
    "start_time": "2021-11-18T18:51:26.824Z"
   },
   {
    "duration": 23,
    "start_time": "2021-11-18T18:51:27.506Z"
   },
   {
    "duration": 75,
    "start_time": "2021-11-18T18:51:27.535Z"
   },
   {
    "duration": 16,
    "start_time": "2021-11-18T18:51:27.614Z"
   },
   {
    "duration": 75,
    "start_time": "2021-11-18T18:51:27.632Z"
   },
   {
    "duration": 9,
    "start_time": "2021-11-18T18:51:27.710Z"
   },
   {
    "duration": 13,
    "start_time": "2021-11-18T18:51:27.722Z"
   },
   {
    "duration": 68,
    "start_time": "2021-11-18T18:51:27.737Z"
   },
   {
    "duration": 14,
    "start_time": "2021-11-18T18:51:27.808Z"
   },
   {
    "duration": 91,
    "start_time": "2021-11-18T18:51:27.825Z"
   },
   {
    "duration": 951,
    "start_time": "2021-11-18T18:51:27.919Z"
   },
   {
    "duration": 35,
    "start_time": "2021-11-18T18:51:28.874Z"
   },
   {
    "duration": 1317,
    "start_time": "2021-11-18T18:51:28.912Z"
   },
   {
    "duration": 7,
    "start_time": "2021-11-18T18:51:30.232Z"
   },
   {
    "duration": 95,
    "start_time": "2021-11-18T18:51:30.242Z"
   },
   {
    "duration": 84,
    "start_time": "2021-11-18T18:51:30.340Z"
   },
   {
    "duration": 20,
    "start_time": "2021-11-18T18:51:30.427Z"
   },
   {
    "duration": 119,
    "start_time": "2021-11-18T18:51:30.449Z"
   },
   {
    "duration": 78,
    "start_time": "2021-11-18T18:51:30.570Z"
   },
   {
    "duration": 223,
    "start_time": "2021-11-18T18:51:30.651Z"
   },
   {
    "duration": 26,
    "start_time": "2021-11-18T18:51:30.876Z"
   },
   {
    "duration": 18,
    "start_time": "2021-11-18T18:51:30.904Z"
   },
   {
    "duration": 18,
    "start_time": "2021-11-18T18:51:30.924Z"
   },
   {
    "duration": 32,
    "start_time": "2021-11-18T18:51:30.944Z"
   },
   {
    "duration": 15101,
    "start_time": "2021-11-18T18:51:30.979Z"
   },
   {
    "duration": 6,
    "start_time": "2021-11-18T18:51:46.082Z"
   },
   {
    "duration": 26,
    "start_time": "2021-11-18T18:51:46.091Z"
   },
   {
    "duration": 9,
    "start_time": "2021-11-18T18:51:46.120Z"
   },
   {
    "duration": 36,
    "start_time": "2021-11-18T18:51:46.132Z"
   },
   {
    "duration": 68,
    "start_time": "2021-11-18T18:51:46.171Z"
   },
   {
    "duration": 58,
    "start_time": "2021-11-18T18:51:46.242Z"
   },
   {
    "duration": 11,
    "start_time": "2021-11-18T18:51:46.302Z"
   },
   {
    "duration": 16,
    "start_time": "2021-11-18T18:51:46.316Z"
   },
   {
    "duration": 657,
    "start_time": "2021-11-18T18:51:46.335Z"
   },
   {
    "duration": 22,
    "start_time": "2021-11-18T18:51:46.995Z"
   },
   {
    "duration": 620,
    "start_time": "2021-11-18T18:51:47.019Z"
   },
   {
    "duration": 33,
    "start_time": "2021-11-18T18:51:47.641Z"
   },
   {
    "duration": 631,
    "start_time": "2021-11-18T18:51:47.678Z"
   },
   {
    "duration": 60,
    "start_time": "2021-11-18T18:51:48.312Z"
   },
   {
    "duration": 39,
    "start_time": "2021-11-18T18:51:48.374Z"
   },
   {
    "duration": 15,
    "start_time": "2021-11-18T18:51:48.415Z"
   },
   {
    "duration": 195,
    "start_time": "2021-11-18T18:51:48.432Z"
   },
   {
    "duration": 19,
    "start_time": "2021-11-18T18:51:48.629Z"
   },
   {
    "duration": 67,
    "start_time": "2021-11-18T18:51:48.650Z"
   },
   {
    "duration": 17,
    "start_time": "2021-11-18T18:51:48.720Z"
   },
   {
    "duration": 20,
    "start_time": "2021-11-18T18:51:48.740Z"
   },
   {
    "duration": 3,
    "start_time": "2021-11-18T18:51:48.763Z"
   },
   {
    "duration": 421,
    "start_time": "2021-11-18T18:51:48.803Z"
   },
   {
    "duration": 415,
    "start_time": "2021-11-18T18:51:49.226Z"
   },
   {
    "duration": 869,
    "start_time": "2021-11-18T18:51:49.643Z"
   },
   {
    "duration": -4659,
    "start_time": "2021-11-18T18:51:55.175Z"
   },
   {
    "duration": 107,
    "start_time": "2021-11-18T18:52:28.848Z"
   },
   {
    "duration": 12,
    "start_time": "2021-11-18T18:53:40.725Z"
   },
   {
    "duration": 5,
    "start_time": "2021-11-18T19:09:10.552Z"
   },
   {
    "duration": 5,
    "start_time": "2021-11-18T19:10:23.397Z"
   },
   {
    "duration": 2006,
    "start_time": "2021-11-18T19:10:24.724Z"
   },
   {
    "duration": 1584,
    "start_time": "2021-11-18T19:10:33.436Z"
   },
   {
    "duration": 25,
    "start_time": "2021-11-18T19:14:41.813Z"
   },
   {
    "duration": 24,
    "start_time": "2021-11-18T19:15:04.969Z"
   },
   {
    "duration": 24,
    "start_time": "2021-11-18T19:15:09.109Z"
   },
   {
    "duration": 24,
    "start_time": "2021-11-18T19:15:15.621Z"
   },
   {
    "duration": 22,
    "start_time": "2021-11-18T19:15:27.904Z"
   },
   {
    "duration": 5,
    "start_time": "2021-11-18T19:15:36.302Z"
   },
   {
    "duration": 1579,
    "start_time": "2021-11-18T19:15:37.229Z"
   },
   {
    "duration": 314,
    "start_time": "2021-11-18T19:30:50.207Z"
   },
   {
    "duration": 10,
    "start_time": "2021-11-18T19:33:31.498Z"
   },
   {
    "duration": 11,
    "start_time": "2021-11-18T19:35:18.610Z"
   },
   {
    "duration": 340,
    "start_time": "2021-11-18T19:35:22.357Z"
   },
   {
    "duration": 36,
    "start_time": "2021-11-18T19:35:26.765Z"
   },
   {
    "duration": 11,
    "start_time": "2021-11-18T19:37:31.747Z"
   },
   {
    "duration": 18,
    "start_time": "2021-11-18T19:37:37.352Z"
   },
   {
    "duration": 42,
    "start_time": "2021-11-18T19:39:11.460Z"
   },
   {
    "duration": 18,
    "start_time": "2021-11-18T19:39:14.204Z"
   },
   {
    "duration": 325,
    "start_time": "2021-11-18T19:43:23.828Z"
   },
   {
    "duration": 17,
    "start_time": "2021-11-18T19:43:29.753Z"
   },
   {
    "duration": 18,
    "start_time": "2021-11-18T19:43:49.817Z"
   },
   {
    "duration": 9,
    "start_time": "2021-11-18T19:59:03.956Z"
   },
   {
    "duration": 20,
    "start_time": "2021-11-18T19:59:10.210Z"
   },
   {
    "duration": 21,
    "start_time": "2021-11-18T19:59:24.224Z"
   },
   {
    "duration": 39,
    "start_time": "2021-11-18T19:59:42.207Z"
   },
   {
    "duration": 26,
    "start_time": "2021-11-18T19:59:52.682Z"
   },
   {
    "duration": 10,
    "start_time": "2021-11-18T19:59:55.927Z"
   },
   {
    "duration": 18,
    "start_time": "2021-11-18T20:00:13.133Z"
   },
   {
    "duration": 611,
    "start_time": "2021-11-18T20:00:50.510Z"
   },
   {
    "duration": 17,
    "start_time": "2021-11-18T20:00:56.929Z"
   },
   {
    "duration": 601,
    "start_time": "2021-11-18T20:01:02.206Z"
   },
   {
    "duration": 24,
    "start_time": "2021-11-18T20:02:16.859Z"
   },
   {
    "duration": 15,
    "start_time": "2021-11-18T20:02:55.020Z"
   },
   {
    "duration": 15,
    "start_time": "2021-11-18T20:03:17.073Z"
   },
   {
    "duration": 30,
    "start_time": "2021-11-18T20:03:21.486Z"
   },
   {
    "duration": 44,
    "start_time": "2021-11-18T20:03:54.097Z"
   },
   {
    "duration": 27,
    "start_time": "2021-11-18T20:04:04.803Z"
   },
   {
    "duration": 18,
    "start_time": "2021-11-18T20:04:09.940Z"
   },
   {
    "duration": 1793,
    "start_time": "2021-11-19T09:26:25.497Z"
   },
   {
    "duration": 1836,
    "start_time": "2021-11-19T09:26:27.292Z"
   },
   {
    "duration": 9,
    "start_time": "2021-11-19T09:26:29.131Z"
   },
   {
    "duration": 25,
    "start_time": "2021-11-19T09:26:29.142Z"
   },
   {
    "duration": 11,
    "start_time": "2021-11-19T09:26:29.168Z"
   },
   {
    "duration": 32,
    "start_time": "2021-11-19T09:26:29.181Z"
   },
   {
    "duration": 14,
    "start_time": "2021-11-19T09:26:29.215Z"
   },
   {
    "duration": 9,
    "start_time": "2021-11-19T09:26:29.231Z"
   },
   {
    "duration": 11,
    "start_time": "2021-11-19T09:26:29.242Z"
   },
   {
    "duration": 6,
    "start_time": "2021-11-19T09:26:29.255Z"
   },
   {
    "duration": 8,
    "start_time": "2021-11-19T09:26:29.262Z"
   },
   {
    "duration": 510,
    "start_time": "2021-11-19T09:26:29.272Z"
   },
   {
    "duration": 10,
    "start_time": "2021-11-19T09:26:29.783Z"
   },
   {
    "duration": 339,
    "start_time": "2021-11-19T09:26:29.806Z"
   },
   {
    "duration": 8,
    "start_time": "2021-11-19T09:26:30.147Z"
   },
   {
    "duration": 94,
    "start_time": "2021-11-19T09:26:30.157Z"
   },
   {
    "duration": 57,
    "start_time": "2021-11-19T09:26:30.253Z"
   },
   {
    "duration": 483,
    "start_time": "2021-11-19T09:26:30.312Z"
   },
   {
    "duration": 18,
    "start_time": "2021-11-19T09:26:30.796Z"
   },
   {
    "duration": 443,
    "start_time": "2021-11-19T09:26:30.816Z"
   },
   {
    "duration": 21,
    "start_time": "2021-11-19T09:26:31.261Z"
   },
   {
    "duration": 47,
    "start_time": "2021-11-19T09:26:31.284Z"
   },
   {
    "duration": 25,
    "start_time": "2021-11-19T09:26:31.337Z"
   },
   {
    "duration": 25,
    "start_time": "2021-11-19T09:26:31.364Z"
   },
   {
    "duration": 8,
    "start_time": "2021-11-19T09:26:31.391Z"
   },
   {
    "duration": 35,
    "start_time": "2021-11-19T09:26:31.400Z"
   },
   {
    "duration": 31,
    "start_time": "2021-11-19T09:26:31.436Z"
   },
   {
    "duration": 25,
    "start_time": "2021-11-19T09:26:31.468Z"
   },
   {
    "duration": 412,
    "start_time": "2021-11-19T09:26:31.495Z"
   },
   {
    "duration": 12,
    "start_time": "2021-11-19T09:26:31.909Z"
   },
   {
    "duration": 392,
    "start_time": "2021-11-19T09:26:31.923Z"
   },
   {
    "duration": 5,
    "start_time": "2021-11-19T09:26:32.317Z"
   },
   {
    "duration": 36,
    "start_time": "2021-11-19T09:26:32.324Z"
   },
   {
    "duration": 45,
    "start_time": "2021-11-19T09:26:32.362Z"
   },
   {
    "duration": 11,
    "start_time": "2021-11-19T09:26:32.409Z"
   },
   {
    "duration": 108,
    "start_time": "2021-11-19T09:26:32.422Z"
   },
   {
    "duration": 32,
    "start_time": "2021-11-19T09:26:32.531Z"
   },
   {
    "duration": 126,
    "start_time": "2021-11-19T09:26:32.564Z"
   },
   {
    "duration": 16,
    "start_time": "2021-11-19T09:26:32.691Z"
   },
   {
    "duration": 21,
    "start_time": "2021-11-19T09:26:32.709Z"
   },
   {
    "duration": 21,
    "start_time": "2021-11-19T09:26:32.732Z"
   },
   {
    "duration": 19,
    "start_time": "2021-11-19T09:26:32.755Z"
   },
   {
    "duration": 13623,
    "start_time": "2021-11-19T09:26:32.775Z"
   },
   {
    "duration": 4,
    "start_time": "2021-11-19T09:26:46.400Z"
   },
   {
    "duration": 19,
    "start_time": "2021-11-19T09:26:46.406Z"
   },
   {
    "duration": 7,
    "start_time": "2021-11-19T09:26:46.428Z"
   },
   {
    "duration": 27,
    "start_time": "2021-11-19T09:26:46.437Z"
   },
   {
    "duration": 140,
    "start_time": "2021-11-19T09:26:46.466Z"
   },
   {
    "duration": 253,
    "start_time": "2021-11-19T09:26:46.355Z"
   },
   {
    "duration": 252,
    "start_time": "2021-11-19T09:26:46.358Z"
   },
   {
    "duration": 250,
    "start_time": "2021-11-19T09:26:46.361Z"
   },
   {
    "duration": 248,
    "start_time": "2021-11-19T09:26:46.365Z"
   },
   {
    "duration": 246,
    "start_time": "2021-11-19T09:26:46.368Z"
   },
   {
    "duration": 245,
    "start_time": "2021-11-19T09:26:46.371Z"
   },
   {
    "duration": 244,
    "start_time": "2021-11-19T09:26:46.373Z"
   },
   {
    "duration": 243,
    "start_time": "2021-11-19T09:26:46.376Z"
   },
   {
    "duration": 242,
    "start_time": "2021-11-19T09:26:46.378Z"
   },
   {
    "duration": 240,
    "start_time": "2021-11-19T09:26:46.381Z"
   },
   {
    "duration": 238,
    "start_time": "2021-11-19T09:26:46.385Z"
   },
   {
    "duration": 230,
    "start_time": "2021-11-19T09:26:46.394Z"
   },
   {
    "duration": 229,
    "start_time": "2021-11-19T09:26:46.397Z"
   },
   {
    "duration": 227,
    "start_time": "2021-11-19T09:26:46.400Z"
   },
   {
    "duration": 225,
    "start_time": "2021-11-19T09:26:46.403Z"
   },
   {
    "duration": 224,
    "start_time": "2021-11-19T09:26:46.406Z"
   },
   {
    "duration": 221,
    "start_time": "2021-11-19T09:26:46.410Z"
   },
   {
    "duration": 220,
    "start_time": "2021-11-19T09:26:46.413Z"
   },
   {
    "duration": 218,
    "start_time": "2021-11-19T09:26:46.416Z"
   },
   {
    "duration": 215,
    "start_time": "2021-11-19T09:26:46.420Z"
   },
   {
    "duration": 215,
    "start_time": "2021-11-19T09:26:46.422Z"
   },
   {
    "duration": 213,
    "start_time": "2021-11-19T09:26:46.425Z"
   },
   {
    "duration": 210,
    "start_time": "2021-11-19T09:26:46.429Z"
   },
   {
    "duration": 206,
    "start_time": "2021-11-19T09:26:46.435Z"
   },
   {
    "duration": 14,
    "start_time": "2021-11-19T09:30:41.614Z"
   },
   {
    "duration": 1700,
    "start_time": "2021-11-19T09:30:49.023Z"
   },
   {
    "duration": 1150,
    "start_time": "2021-11-19T09:30:50.725Z"
   },
   {
    "duration": 8,
    "start_time": "2021-11-19T09:30:51.878Z"
   },
   {
    "duration": 19,
    "start_time": "2021-11-19T09:30:51.888Z"
   },
   {
    "duration": 10,
    "start_time": "2021-11-19T09:30:51.909Z"
   },
   {
    "duration": 27,
    "start_time": "2021-11-19T09:30:51.921Z"
   },
   {
    "duration": 17,
    "start_time": "2021-11-19T09:30:51.950Z"
   },
   {
    "duration": 8,
    "start_time": "2021-11-19T09:30:51.970Z"
   },
   {
    "duration": 30,
    "start_time": "2021-11-19T09:30:51.980Z"
   },
   {
    "duration": 5,
    "start_time": "2021-11-19T09:30:52.012Z"
   },
   {
    "duration": 6,
    "start_time": "2021-11-19T09:30:52.019Z"
   },
   {
    "duration": 442,
    "start_time": "2021-11-19T09:30:52.026Z"
   },
   {
    "duration": 10,
    "start_time": "2021-11-19T09:30:52.507Z"
   },
   {
    "duration": 549,
    "start_time": "2021-11-19T09:30:52.519Z"
   },
   {
    "duration": 10,
    "start_time": "2021-11-19T09:30:53.070Z"
   },
   {
    "duration": 73,
    "start_time": "2021-11-19T09:30:53.082Z"
   },
   {
    "duration": 12,
    "start_time": "2021-11-19T09:30:53.157Z"
   },
   {
    "duration": 482,
    "start_time": "2021-11-19T09:30:53.171Z"
   },
   {
    "duration": 13,
    "start_time": "2021-11-19T09:30:53.655Z"
   },
   {
    "duration": 392,
    "start_time": "2021-11-19T09:30:53.670Z"
   },
   {
    "duration": 16,
    "start_time": "2021-11-19T09:30:54.064Z"
   },
   {
    "duration": 29,
    "start_time": "2021-11-19T09:30:54.082Z"
   },
   {
    "duration": 13,
    "start_time": "2021-11-19T09:30:54.115Z"
   },
   {
    "duration": 21,
    "start_time": "2021-11-19T09:30:54.131Z"
   },
   {
    "duration": 7,
    "start_time": "2021-11-19T09:30:54.154Z"
   },
   {
    "duration": 9,
    "start_time": "2021-11-19T09:30:54.163Z"
   },
   {
    "duration": 50,
    "start_time": "2021-11-19T09:30:54.174Z"
   },
   {
    "duration": 18,
    "start_time": "2021-11-19T09:30:54.225Z"
   },
   {
    "duration": 382,
    "start_time": "2021-11-19T09:30:54.245Z"
   },
   {
    "duration": 11,
    "start_time": "2021-11-19T09:30:54.629Z"
   },
   {
    "duration": 404,
    "start_time": "2021-11-19T09:30:54.641Z"
   },
   {
    "duration": 3,
    "start_time": "2021-11-19T09:30:55.047Z"
   },
   {
    "duration": 31,
    "start_time": "2021-11-19T09:30:55.052Z"
   },
   {
    "duration": 41,
    "start_time": "2021-11-19T09:30:55.085Z"
   },
   {
    "duration": 11,
    "start_time": "2021-11-19T09:30:55.128Z"
   },
   {
    "duration": 101,
    "start_time": "2021-11-19T09:30:55.141Z"
   },
   {
    "duration": 34,
    "start_time": "2021-11-19T09:30:55.244Z"
   },
   {
    "duration": 127,
    "start_time": "2021-11-19T09:30:55.280Z"
   },
   {
    "duration": 12,
    "start_time": "2021-11-19T09:30:55.409Z"
   },
   {
    "duration": 23,
    "start_time": "2021-11-19T09:30:55.424Z"
   },
   {
    "duration": 7,
    "start_time": "2021-11-19T09:30:55.449Z"
   },
   {
    "duration": 20,
    "start_time": "2021-11-19T09:30:55.458Z"
   },
   {
    "duration": 15054,
    "start_time": "2021-11-19T09:30:55.480Z"
   },
   {
    "duration": 4,
    "start_time": "2021-11-19T09:31:10.536Z"
   },
   {
    "duration": 21,
    "start_time": "2021-11-19T09:31:10.542Z"
   },
   {
    "duration": 11,
    "start_time": "2021-11-19T09:31:10.564Z"
   },
   {
    "duration": 31,
    "start_time": "2021-11-19T09:31:10.577Z"
   },
   {
    "duration": 14,
    "start_time": "2021-11-19T09:31:10.610Z"
   },
   {
    "duration": 22,
    "start_time": "2021-11-19T09:31:10.625Z"
   },
   {
    "duration": 25,
    "start_time": "2021-11-19T09:31:10.649Z"
   },
   {
    "duration": 43,
    "start_time": "2021-11-19T09:31:10.675Z"
   },
   {
    "duration": 7,
    "start_time": "2021-11-19T09:31:10.721Z"
   },
   {
    "duration": 12,
    "start_time": "2021-11-19T09:31:10.730Z"
   },
   {
    "duration": 402,
    "start_time": "2021-11-19T09:31:10.744Z"
   },
   {
    "duration": 14,
    "start_time": "2021-11-19T09:31:11.148Z"
   },
   {
    "duration": 390,
    "start_time": "2021-11-19T09:31:11.165Z"
   },
   {
    "duration": 18,
    "start_time": "2021-11-19T09:31:11.557Z"
   },
   {
    "duration": 373,
    "start_time": "2021-11-19T09:31:11.577Z"
   },
   {
    "duration": 35,
    "start_time": "2021-11-19T09:31:11.952Z"
   },
   {
    "duration": 25,
    "start_time": "2021-11-19T09:31:11.988Z"
   },
   {
    "duration": 18,
    "start_time": "2021-11-19T09:31:12.015Z"
   },
   {
    "duration": 111,
    "start_time": "2021-11-19T09:31:12.035Z"
   },
   {
    "duration": 12,
    "start_time": "2021-11-19T09:31:12.148Z"
   },
   {
    "duration": 27,
    "start_time": "2021-11-19T09:31:12.162Z"
   },
   {
    "duration": 27,
    "start_time": "2021-11-19T09:31:12.191Z"
   },
   {
    "duration": 20,
    "start_time": "2021-11-19T09:31:12.220Z"
   },
   {
    "duration": 10,
    "start_time": "2021-11-19T09:31:12.242Z"
   },
   {
    "duration": 254,
    "start_time": "2021-11-19T09:31:12.258Z"
   },
   {
    "duration": 279,
    "start_time": "2021-11-19T09:31:12.515Z"
   },
   {
    "duration": 856,
    "start_time": "2021-11-19T09:31:12.796Z"
   },
   {
    "duration": 278,
    "start_time": "2021-11-19T09:31:13.377Z"
   },
   {
    "duration": 13,
    "start_time": "2021-11-19T09:34:15.354Z"
   },
   {
    "duration": 15,
    "start_time": "2021-11-19T09:34:26.567Z"
   },
   {
    "duration": 17,
    "start_time": "2021-11-19T09:34:46.728Z"
   },
   {
    "duration": 275,
    "start_time": "2021-11-19T09:35:10.397Z"
   },
   {
    "duration": 14,
    "start_time": "2021-11-19T09:35:12.055Z"
   },
   {
    "duration": 10,
    "start_time": "2021-11-19T09:35:50.105Z"
   },
   {
    "duration": 19,
    "start_time": "2021-11-19T09:35:54.601Z"
   },
   {
    "duration": 20,
    "start_time": "2021-11-19T09:36:54.872Z"
   },
   {
    "duration": 11,
    "start_time": "2021-11-19T09:36:59.988Z"
   },
   {
    "duration": 19,
    "start_time": "2021-11-19T09:37:08.870Z"
   },
   {
    "duration": 20,
    "start_time": "2021-11-19T09:38:25.601Z"
   },
   {
    "duration": 26,
    "start_time": "2021-11-19T09:38:47.087Z"
   },
   {
    "duration": 15,
    "start_time": "2021-11-19T09:38:49.023Z"
   },
   {
    "duration": 19,
    "start_time": "2021-11-19T09:38:50.651Z"
   },
   {
    "duration": 7,
    "start_time": "2021-11-19T09:39:03.349Z"
   },
   {
    "duration": 27,
    "start_time": "2021-11-19T09:39:05.673Z"
   },
   {
    "duration": 16,
    "start_time": "2021-11-19T09:39:07.523Z"
   },
   {
    "duration": 16,
    "start_time": "2021-11-19T09:39:09.371Z"
   },
   {
    "duration": 13,
    "start_time": "2021-11-19T09:39:31.719Z"
   },
   {
    "duration": 13,
    "start_time": "2021-11-19T09:39:37.917Z"
   },
   {
    "duration": 15,
    "start_time": "2021-11-19T09:39:58.835Z"
   },
   {
    "duration": 16,
    "start_time": "2021-11-19T09:42:32.824Z"
   },
   {
    "duration": 17,
    "start_time": "2021-11-19T09:47:35.207Z"
   },
   {
    "duration": 18,
    "start_time": "2021-11-19T09:48:38.263Z"
   },
   {
    "duration": 7,
    "start_time": "2021-11-19T09:48:47.261Z"
   },
   {
    "duration": 9,
    "start_time": "2021-11-19T09:48:48.343Z"
   },
   {
    "duration": 24,
    "start_time": "2021-11-19T09:48:49.556Z"
   },
   {
    "duration": 17,
    "start_time": "2021-11-19T09:48:51.414Z"
   },
   {
    "duration": 121,
    "start_time": "2021-11-19T09:48:52.534Z"
   },
   {
    "duration": 18,
    "start_time": "2021-11-19T09:48:56.398Z"
   },
   {
    "duration": 8,
    "start_time": "2021-11-19T09:49:34.288Z"
   },
   {
    "duration": 27,
    "start_time": "2021-11-19T09:49:35.043Z"
   },
   {
    "duration": 17,
    "start_time": "2021-11-19T09:49:35.659Z"
   },
   {
    "duration": 128,
    "start_time": "2021-11-19T09:49:35.957Z"
   },
   {
    "duration": 17,
    "start_time": "2021-11-19T09:49:36.954Z"
   },
   {
    "duration": 15,
    "start_time": "2021-11-19T09:49:45.224Z"
   },
   {
    "duration": 131,
    "start_time": "2021-11-19T09:52:03.751Z"
   },
   {
    "duration": 133,
    "start_time": "2021-11-19T09:56:05.563Z"
   },
   {
    "duration": 27,
    "start_time": "2021-11-19T10:01:49.054Z"
   },
   {
    "duration": 24,
    "start_time": "2021-11-19T10:01:54.706Z"
   },
   {
    "duration": 7,
    "start_time": "2021-11-19T10:01:55.508Z"
   },
   {
    "duration": 12,
    "start_time": "2021-11-19T10:01:56.026Z"
   },
   {
    "duration": 355,
    "start_time": "2021-11-19T10:01:57.050Z"
   },
   {
    "duration": 11,
    "start_time": "2021-11-19T10:01:58.468Z"
   },
   {
    "duration": 361,
    "start_time": "2021-11-19T10:02:00.675Z"
   },
   {
    "duration": 13,
    "start_time": "2021-11-19T10:02:05.319Z"
   },
   {
    "duration": 335,
    "start_time": "2021-11-19T10:02:06.361Z"
   },
   {
    "duration": 33,
    "start_time": "2021-11-19T10:02:08.836Z"
   },
   {
    "duration": 9,
    "start_time": "2021-11-19T10:02:29.942Z"
   },
   {
    "duration": 5515,
    "start_time": "2021-11-19T10:02:32.324Z"
   },
   {
    "duration": 17,
    "start_time": "2021-11-19T10:26:22.557Z"
   },
   {
    "duration": 16,
    "start_time": "2021-11-19T10:26:32.172Z"
   },
   {
    "duration": 14,
    "start_time": "2021-11-19T10:29:58.544Z"
   },
   {
    "duration": 14,
    "start_time": "2021-11-19T10:30:06.073Z"
   },
   {
    "duration": 13,
    "start_time": "2021-11-19T10:30:07.793Z"
   },
   {
    "duration": 377,
    "start_time": "2021-11-19T10:30:16.652Z"
   },
   {
    "duration": 17,
    "start_time": "2021-11-19T10:30:33.219Z"
   },
   {
    "duration": 7,
    "start_time": "2021-11-19T10:30:42.521Z"
   },
   {
    "duration": 25,
    "start_time": "2021-11-19T10:30:43.802Z"
   },
   {
    "duration": 14,
    "start_time": "2021-11-19T10:30:45.572Z"
   },
   {
    "duration": 15,
    "start_time": "2021-11-19T10:30:47.482Z"
   },
   {
    "duration": 16,
    "start_time": "2021-11-19T10:30:52.212Z"
   },
   {
    "duration": 27,
    "start_time": "2021-11-19T10:30:54.669Z"
   },
   {
    "duration": 22,
    "start_time": "2021-11-19T10:30:56.627Z"
   },
   {
    "duration": 8,
    "start_time": "2021-11-19T10:30:58.052Z"
   },
   {
    "duration": 11,
    "start_time": "2021-11-19T10:30:59.350Z"
   },
   {
    "duration": 366,
    "start_time": "2021-11-19T10:31:01.709Z"
   },
   {
    "duration": 12,
    "start_time": "2021-11-19T10:31:03.146Z"
   },
   {
    "duration": 361,
    "start_time": "2021-11-19T10:31:04.318Z"
   },
   {
    "duration": 13,
    "start_time": "2021-11-19T10:31:07.502Z"
   },
   {
    "duration": 333,
    "start_time": "2021-11-19T10:31:08.851Z"
   },
   {
    "duration": 33,
    "start_time": "2021-11-19T10:31:11.603Z"
   },
   {
    "duration": 28,
    "start_time": "2021-11-19T10:31:32.621Z"
   },
   {
    "duration": 32,
    "start_time": "2021-11-19T10:31:47.026Z"
   },
   {
    "duration": 16,
    "start_time": "2021-11-19T10:35:06.425Z"
   },
   {
    "duration": 26,
    "start_time": "2021-11-19T10:35:48.936Z"
   },
   {
    "duration": 18,
    "start_time": "2021-11-19T10:35:50.229Z"
   },
   {
    "duration": 7,
    "start_time": "2021-11-19T10:35:50.542Z"
   },
   {
    "duration": 8,
    "start_time": "2021-11-19T10:35:57.699Z"
   },
   {
    "duration": 14,
    "start_time": "2021-11-19T10:35:58.098Z"
   },
   {
    "duration": 556,
    "start_time": "2021-11-19T10:35:59.660Z"
   },
   {
    "duration": 18,
    "start_time": "2021-11-19T10:36:01.470Z"
   },
   {
    "duration": 578,
    "start_time": "2021-11-19T10:36:03.407Z"
   },
   {
    "duration": 19,
    "start_time": "2021-11-19T10:36:05.767Z"
   },
   {
    "duration": 390,
    "start_time": "2021-11-19T10:36:07.269Z"
   },
   {
    "duration": 14,
    "start_time": "2021-11-19T10:36:42.124Z"
   },
   {
    "duration": 326,
    "start_time": "2021-11-19T10:36:45.973Z"
   },
   {
    "duration": 419,
    "start_time": "2021-11-19T10:36:56.453Z"
   },
   {
    "duration": 35,
    "start_time": "2021-11-19T10:37:04.371Z"
   },
   {
    "duration": 9,
    "start_time": "2021-11-19T10:37:19.445Z"
   },
   {
    "duration": 16,
    "start_time": "2021-11-19T10:37:33.784Z"
   },
   {
    "duration": 16,
    "start_time": "2021-11-19T10:38:47.038Z"
   },
   {
    "duration": 31,
    "start_time": "2021-11-19T10:39:37.472Z"
   },
   {
    "duration": 17,
    "start_time": "2021-11-19T10:39:48.225Z"
   },
   {
    "duration": 26,
    "start_time": "2021-11-19T10:39:53.992Z"
   },
   {
    "duration": 26,
    "start_time": "2021-11-19T10:40:04.489Z"
   },
   {
    "duration": 9,
    "start_time": "2021-11-19T10:40:24.826Z"
   },
   {
    "duration": 8,
    "start_time": "2021-11-19T10:40:29.635Z"
   },
   {
    "duration": 8,
    "start_time": "2021-11-19T10:40:49.684Z"
   },
   {
    "duration": 16,
    "start_time": "2021-11-19T10:42:12.774Z"
   },
   {
    "duration": 395,
    "start_time": "2021-11-19T10:44:39.110Z"
   },
   {
    "duration": 8,
    "start_time": "2021-11-19T10:44:42.608Z"
   },
   {
    "duration": 12,
    "start_time": "2021-11-19T10:46:02.957Z"
   },
   {
    "duration": 27,
    "start_time": "2021-11-19T10:47:23.661Z"
   },
   {
    "duration": 37,
    "start_time": "2021-11-19T10:47:35.196Z"
   },
   {
    "duration": 27,
    "start_time": "2021-11-19T10:47:48.176Z"
   },
   {
    "duration": 34,
    "start_time": "2021-11-19T10:48:11.634Z"
   },
   {
    "duration": 15,
    "start_time": "2021-11-19T10:48:24.149Z"
   },
   {
    "duration": 8,
    "start_time": "2021-11-19T10:48:30.171Z"
   },
   {
    "duration": 11,
    "start_time": "2021-11-19T10:48:30.794Z"
   },
   {
    "duration": 29,
    "start_time": "2021-11-19T10:49:30.221Z"
   },
   {
    "duration": 31,
    "start_time": "2021-11-19T10:49:44.838Z"
   },
   {
    "duration": 15,
    "start_time": "2021-11-19T10:49:49.149Z"
   },
   {
    "duration": 16,
    "start_time": "2021-11-19T10:50:00.194Z"
   },
   {
    "duration": 33,
    "start_time": "2021-11-19T10:50:45.908Z"
   },
   {
    "duration": 9,
    "start_time": "2021-11-19T10:51:15.990Z"
   },
   {
    "duration": 11,
    "start_time": "2021-11-19T10:51:24.296Z"
   },
   {
    "duration": 15,
    "start_time": "2021-11-19T10:51:38.129Z"
   },
   {
    "duration": 27,
    "start_time": "2021-11-19T10:51:39.145Z"
   },
   {
    "duration": 12,
    "start_time": "2021-11-19T10:51:39.740Z"
   },
   {
    "duration": 5,
    "start_time": "2021-11-19T10:51:47.679Z"
   },
   {
    "duration": 15,
    "start_time": "2021-11-19T10:52:02.505Z"
   },
   {
    "duration": 10,
    "start_time": "2021-11-19T10:52:49.399Z"
   },
   {
    "duration": 13,
    "start_time": "2021-11-19T10:54:01.936Z"
   },
   {
    "duration": 9,
    "start_time": "2021-11-19T10:55:08.386Z"
   },
   {
    "duration": 12,
    "start_time": "2021-11-19T10:55:16.403Z"
   },
   {
    "duration": 443,
    "start_time": "2021-11-19T10:56:07.054Z"
   },
   {
    "duration": 5,
    "start_time": "2021-11-19T10:56:33.846Z"
   },
   {
    "duration": 11,
    "start_time": "2021-11-19T10:56:39.834Z"
   },
   {
    "duration": 7,
    "start_time": "2021-11-19T10:56:46.788Z"
   },
   {
    "duration": 10,
    "start_time": "2021-11-19T10:56:58.182Z"
   },
   {
    "duration": 11001,
    "start_time": "2021-11-19T10:57:07.815Z"
   },
   {
    "duration": 99,
    "start_time": "2021-11-19T10:57:24.766Z"
   },
   {
    "duration": 573,
    "start_time": "2021-11-19T10:58:46.791Z"
   },
   {
    "duration": 651,
    "start_time": "2021-11-19T10:59:03.510Z"
   },
   {
    "duration": 629,
    "start_time": "2021-11-19T10:59:05.530Z"
   },
   {
    "duration": 5,
    "start_time": "2021-11-19T11:01:05.773Z"
   },
   {
    "duration": 12,
    "start_time": "2021-11-19T11:36:31.901Z"
   },
   {
    "duration": 435,
    "start_time": "2021-11-19T11:41:44.252Z"
   },
   {
    "duration": 17,
    "start_time": "2021-11-19T11:41:59.290Z"
   },
   {
    "duration": 669,
    "start_time": "2021-11-19T11:42:00.380Z"
   },
   {
    "duration": 11,
    "start_time": "2021-11-19T11:42:11.742Z"
   },
   {
    "duration": 151,
    "start_time": "2021-11-19T11:45:03.301Z"
   },
   {
    "duration": 97,
    "start_time": "2021-11-19T17:45:05.336Z"
   },
   {
    "duration": 266,
    "start_time": "2021-11-19T17:45:21.571Z"
   },
   {
    "duration": 1589,
    "start_time": "2021-11-19T17:45:24.118Z"
   },
   {
    "duration": 23304,
    "start_time": "2021-11-19T17:45:25.709Z"
   },
   {
    "duration": 7,
    "start_time": "2021-11-19T17:45:49.015Z"
   },
   {
    "duration": 17,
    "start_time": "2021-11-19T17:45:49.023Z"
   },
   {
    "duration": 8,
    "start_time": "2021-11-19T17:45:49.042Z"
   },
   {
    "duration": 17,
    "start_time": "2021-11-19T17:45:49.052Z"
   },
   {
    "duration": 25,
    "start_time": "2021-11-19T17:45:49.071Z"
   },
   {
    "duration": 8,
    "start_time": "2021-11-19T17:45:49.098Z"
   },
   {
    "duration": 8,
    "start_time": "2021-11-19T17:45:49.108Z"
   },
   {
    "duration": 6,
    "start_time": "2021-11-19T17:45:49.118Z"
   },
   {
    "duration": 10,
    "start_time": "2021-11-19T17:45:49.125Z"
   },
   {
    "duration": 509,
    "start_time": "2021-11-19T17:45:49.136Z"
   },
   {
    "duration": 10,
    "start_time": "2021-11-19T17:45:49.647Z"
   },
   {
    "duration": 309,
    "start_time": "2021-11-19T17:45:49.658Z"
   },
   {
    "duration": 8,
    "start_time": "2021-11-19T17:45:49.968Z"
   },
   {
    "duration": 61,
    "start_time": "2021-11-19T17:45:49.978Z"
   },
   {
    "duration": 11,
    "start_time": "2021-11-19T17:45:50.040Z"
   },
   {
    "duration": 420,
    "start_time": "2021-11-19T17:45:50.052Z"
   },
   {
    "duration": 16,
    "start_time": "2021-11-19T17:45:50.474Z"
   },
   {
    "duration": 334,
    "start_time": "2021-11-19T17:45:50.492Z"
   },
   {
    "duration": 14,
    "start_time": "2021-11-19T17:45:50.828Z"
   },
   {
    "duration": 11,
    "start_time": "2021-11-19T17:45:50.843Z"
   },
   {
    "duration": 31,
    "start_time": "2021-11-19T17:45:50.857Z"
   },
   {
    "duration": 17,
    "start_time": "2021-11-19T17:45:50.890Z"
   },
   {
    "duration": 6,
    "start_time": "2021-11-19T17:45:50.908Z"
   },
   {
    "duration": 8,
    "start_time": "2021-11-19T17:45:50.915Z"
   },
   {
    "duration": 19,
    "start_time": "2021-11-19T17:45:50.924Z"
   },
   {
    "duration": 43,
    "start_time": "2021-11-19T17:45:50.944Z"
   },
   {
    "duration": 486,
    "start_time": "2021-11-19T17:45:50.989Z"
   },
   {
    "duration": -6477,
    "start_time": "2021-11-19T17:45:57.954Z"
   },
   {
    "duration": -6479,
    "start_time": "2021-11-19T17:45:57.957Z"
   },
   {
    "duration": -6482,
    "start_time": "2021-11-19T17:45:57.961Z"
   },
   {
    "duration": -6490,
    "start_time": "2021-11-19T17:45:57.970Z"
   },
   {
    "duration": -6494,
    "start_time": "2021-11-19T17:45:57.975Z"
   },
   {
    "duration": -6537,
    "start_time": "2021-11-19T17:45:58.019Z"
   },
   {
    "duration": -6540,
    "start_time": "2021-11-19T17:45:58.023Z"
   },
   {
    "duration": -6541,
    "start_time": "2021-11-19T17:45:58.025Z"
   },
   {
    "duration": -6550,
    "start_time": "2021-11-19T17:45:58.035Z"
   },
   {
    "duration": -6552,
    "start_time": "2021-11-19T17:45:58.038Z"
   },
   {
    "duration": -6554,
    "start_time": "2021-11-19T17:45:58.041Z"
   },
   {
    "duration": -6587,
    "start_time": "2021-11-19T17:45:58.075Z"
   },
   {
    "duration": -6595,
    "start_time": "2021-11-19T17:45:58.085Z"
   },
   {
    "duration": -6597,
    "start_time": "2021-11-19T17:45:58.088Z"
   },
   {
    "duration": -6599,
    "start_time": "2021-11-19T17:45:58.091Z"
   },
   {
    "duration": -6601,
    "start_time": "2021-11-19T17:45:58.094Z"
   },
   {
    "duration": -6603,
    "start_time": "2021-11-19T17:45:58.097Z"
   },
   {
    "duration": -6605,
    "start_time": "2021-11-19T17:45:58.100Z"
   },
   {
    "duration": -6607,
    "start_time": "2021-11-19T17:45:58.103Z"
   },
   {
    "duration": -6609,
    "start_time": "2021-11-19T17:45:58.106Z"
   },
   {
    "duration": -6611,
    "start_time": "2021-11-19T17:45:58.109Z"
   },
   {
    "duration": -6612,
    "start_time": "2021-11-19T17:45:58.111Z"
   },
   {
    "duration": -6614,
    "start_time": "2021-11-19T17:45:58.114Z"
   },
   {
    "duration": -6615,
    "start_time": "2021-11-19T17:45:58.116Z"
   },
   {
    "duration": -6617,
    "start_time": "2021-11-19T17:45:58.119Z"
   },
   {
    "duration": -6618,
    "start_time": "2021-11-19T17:45:58.121Z"
   },
   {
    "duration": -6620,
    "start_time": "2021-11-19T17:45:58.124Z"
   },
   {
    "duration": -6622,
    "start_time": "2021-11-19T17:45:58.127Z"
   },
   {
    "duration": -6624,
    "start_time": "2021-11-19T17:45:58.130Z"
   },
   {
    "duration": -6625,
    "start_time": "2021-11-19T17:45:58.132Z"
   },
   {
    "duration": -6627,
    "start_time": "2021-11-19T17:45:58.135Z"
   },
   {
    "duration": -6628,
    "start_time": "2021-11-19T17:45:58.137Z"
   },
   {
    "duration": -6630,
    "start_time": "2021-11-19T17:45:58.140Z"
   },
   {
    "duration": -6632,
    "start_time": "2021-11-19T17:45:58.143Z"
   },
   {
    "duration": -6633,
    "start_time": "2021-11-19T17:45:58.145Z"
   },
   {
    "duration": -6635,
    "start_time": "2021-11-19T17:45:58.148Z"
   },
   {
    "duration": -6689,
    "start_time": "2021-11-19T17:45:58.203Z"
   },
   {
    "duration": -6691,
    "start_time": "2021-11-19T17:45:58.206Z"
   },
   {
    "duration": -6692,
    "start_time": "2021-11-19T17:45:58.208Z"
   },
   {
    "duration": -6694,
    "start_time": "2021-11-19T17:45:58.211Z"
   },
   {
    "duration": -6696,
    "start_time": "2021-11-19T17:45:58.214Z"
   },
   {
    "duration": -6697,
    "start_time": "2021-11-19T17:45:58.216Z"
   },
   {
    "duration": -6699,
    "start_time": "2021-11-19T17:45:58.219Z"
   },
   {
    "duration": -6701,
    "start_time": "2021-11-19T17:45:58.222Z"
   },
   {
    "duration": -6703,
    "start_time": "2021-11-19T17:45:58.225Z"
   },
   {
    "duration": -6718,
    "start_time": "2021-11-19T17:45:58.241Z"
   },
   {
    "duration": -6720,
    "start_time": "2021-11-19T17:45:58.244Z"
   },
   {
    "duration": -6737,
    "start_time": "2021-11-19T17:45:58.262Z"
   },
   {
    "duration": -6746,
    "start_time": "2021-11-19T17:45:58.272Z"
   },
   {
    "duration": -6749,
    "start_time": "2021-11-19T17:45:58.276Z"
   },
   {
    "duration": -6698,
    "start_time": "2021-11-19T17:45:58.285Z"
   },
   {
    "duration": 24,
    "start_time": "2021-11-19T17:47:46.748Z"
   },
   {
    "duration": 233,
    "start_time": "2021-11-19T17:47:48.976Z"
   },
   {
    "duration": 267,
    "start_time": "2021-11-19T17:48:14.049Z"
   },
   {
    "duration": 231,
    "start_time": "2021-11-19T17:48:18.632Z"
   },
   {
    "duration": 248,
    "start_time": "2021-11-19T17:48:29.393Z"
   },
   {
    "duration": 536,
    "start_time": "2021-11-19T17:48:39.199Z"
   },
   {
    "duration": 432,
    "start_time": "2021-11-19T17:49:14.796Z"
   },
   {
    "duration": 83,
    "start_time": "2021-11-19T17:50:41.385Z"
   },
   {
    "duration": 3,
    "start_time": "2021-11-19T17:51:48.466Z"
   },
   {
    "duration": 5893,
    "start_time": "2021-11-19T17:51:48.478Z"
   },
   {
    "duration": 8,
    "start_time": "2021-11-19T17:51:54.374Z"
   },
   {
    "duration": 17,
    "start_time": "2021-11-19T17:51:54.384Z"
   },
   {
    "duration": 10,
    "start_time": "2021-11-19T17:51:54.403Z"
   },
   {
    "duration": 18,
    "start_time": "2021-11-19T17:51:54.415Z"
   },
   {
    "duration": 13,
    "start_time": "2021-11-19T17:51:54.435Z"
   },
   {
    "duration": 7,
    "start_time": "2021-11-19T17:51:54.450Z"
   },
   {
    "duration": 33,
    "start_time": "2021-11-19T17:51:54.459Z"
   },
   {
    "duration": 7,
    "start_time": "2021-11-19T17:51:54.495Z"
   },
   {
    "duration": 5,
    "start_time": "2021-11-19T17:51:54.505Z"
   },
   {
    "duration": 521,
    "start_time": "2021-11-19T17:51:54.512Z"
   },
   {
    "duration": 10,
    "start_time": "2021-11-19T17:51:55.035Z"
   },
   {
    "duration": 334,
    "start_time": "2021-11-19T17:51:55.047Z"
   },
   {
    "duration": 10,
    "start_time": "2021-11-19T17:51:55.383Z"
   },
   {
    "duration": 66,
    "start_time": "2021-11-19T17:51:55.395Z"
   },
   {
    "duration": 30,
    "start_time": "2021-11-19T17:51:55.463Z"
   },
   {
    "duration": 543,
    "start_time": "2021-11-19T17:51:55.495Z"
   },
   {
    "duration": 19,
    "start_time": "2021-11-19T17:51:56.040Z"
   },
   {
    "duration": 536,
    "start_time": "2021-11-19T17:51:56.061Z"
   },
   {
    "duration": 22,
    "start_time": "2021-11-19T17:51:56.599Z"
   },
   {
    "duration": 14,
    "start_time": "2021-11-19T17:51:56.623Z"
   },
   {
    "duration": 16,
    "start_time": "2021-11-19T17:51:56.639Z"
   },
   {
    "duration": 44,
    "start_time": "2021-11-19T17:51:56.656Z"
   },
   {
    "duration": 8,
    "start_time": "2021-11-19T17:51:56.701Z"
   },
   {
    "duration": 7,
    "start_time": "2021-11-19T17:51:56.711Z"
   },
   {
    "duration": 19,
    "start_time": "2021-11-19T17:51:56.720Z"
   },
   {
    "duration": 11,
    "start_time": "2021-11-19T17:51:56.742Z"
   },
   {
    "duration": 52,
    "start_time": "2021-11-19T17:51:56.755Z"
   },
   {
    "duration": 438,
    "start_time": "2021-11-19T17:51:56.809Z"
   },
   {
    "duration": 10,
    "start_time": "2021-11-19T17:51:57.248Z"
   },
   {
    "duration": 352,
    "start_time": "2021-11-19T17:51:57.259Z"
   },
   {
    "duration": 4,
    "start_time": "2021-11-19T17:51:57.612Z"
   },
   {
    "duration": 24,
    "start_time": "2021-11-19T17:51:57.617Z"
   },
   {
    "duration": 46,
    "start_time": "2021-11-19T17:51:57.643Z"
   },
   {
    "duration": 11,
    "start_time": "2021-11-19T17:51:57.690Z"
   },
   {
    "duration": 99,
    "start_time": "2021-11-19T17:51:57.702Z"
   },
   {
    "duration": 28,
    "start_time": "2021-11-19T17:51:57.802Z"
   },
   {
    "duration": 119,
    "start_time": "2021-11-19T17:51:57.831Z"
   },
   {
    "duration": 9,
    "start_time": "2021-11-19T17:51:57.952Z"
   },
   {
    "duration": 7,
    "start_time": "2021-11-19T17:51:57.963Z"
   },
   {
    "duration": 4,
    "start_time": "2021-11-19T17:51:57.988Z"
   },
   {
    "duration": 11,
    "start_time": "2021-11-19T17:51:57.994Z"
   },
   {
    "duration": 12139,
    "start_time": "2021-11-19T17:51:58.006Z"
   },
   {
    "duration": 5,
    "start_time": "2021-11-19T17:52:10.146Z"
   },
   {
    "duration": 14,
    "start_time": "2021-11-19T17:52:10.153Z"
   },
   {
    "duration": 6,
    "start_time": "2021-11-19T17:52:10.169Z"
   },
   {
    "duration": 20,
    "start_time": "2021-11-19T17:52:10.176Z"
   },
   {
    "duration": 12,
    "start_time": "2021-11-19T17:52:10.198Z"
   },
   {
    "duration": 12,
    "start_time": "2021-11-19T17:52:10.212Z"
   },
   {
    "duration": 12,
    "start_time": "2021-11-19T17:52:10.225Z"
   },
   {
    "duration": 51,
    "start_time": "2021-11-19T17:52:10.238Z"
   },
   {
    "duration": 24,
    "start_time": "2021-11-19T17:52:10.290Z"
   },
   {
    "duration": 17,
    "start_time": "2021-11-19T17:52:10.316Z"
   },
   {
    "duration": 54,
    "start_time": "2021-11-19T17:52:10.334Z"
   },
   {
    "duration": 6,
    "start_time": "2021-11-19T17:52:10.389Z"
   },
   {
    "duration": 15,
    "start_time": "2021-11-19T17:52:10.397Z"
   },
   {
    "duration": 381,
    "start_time": "2021-11-19T17:52:10.413Z"
   },
   {
    "duration": 10,
    "start_time": "2021-11-19T17:52:10.796Z"
   },
   {
    "duration": 335,
    "start_time": "2021-11-19T17:52:10.808Z"
   },
   {
    "duration": 13,
    "start_time": "2021-11-19T17:52:11.144Z"
   },
   {
    "duration": 308,
    "start_time": "2021-11-19T17:52:11.159Z"
   },
   {
    "duration": 39,
    "start_time": "2021-11-19T17:52:11.468Z"
   },
   {
    "duration": 15,
    "start_time": "2021-11-19T17:52:11.508Z"
   },
   {
    "duration": 12,
    "start_time": "2021-11-19T17:52:11.525Z"
   },
   {
    "duration": 23,
    "start_time": "2021-11-19T17:52:11.538Z"
   },
   {
    "duration": 37,
    "start_time": "2021-11-19T17:52:11.562Z"
   },
   {
    "duration": 8,
    "start_time": "2021-11-19T17:52:11.600Z"
   },
   {
    "duration": 10,
    "start_time": "2021-11-19T17:52:11.610Z"
   },
   {
    "duration": 8,
    "start_time": "2021-11-19T17:52:11.621Z"
   },
   {
    "duration": 116,
    "start_time": "2021-11-19T17:52:11.631Z"
   },
   {
    "duration": 10,
    "start_time": "2021-11-19T17:52:11.749Z"
   },
   {
    "duration": 34,
    "start_time": "2021-11-19T17:52:11.761Z"
   },
   {
    "duration": 9,
    "start_time": "2021-11-19T17:52:11.796Z"
   },
   {
    "duration": 8,
    "start_time": "2021-11-19T17:52:11.807Z"
   },
   {
    "duration": 4,
    "start_time": "2021-11-19T17:52:11.817Z"
   },
   {
    "duration": 225,
    "start_time": "2021-11-19T17:52:11.822Z"
   },
   {
    "duration": 221,
    "start_time": "2021-11-19T17:52:12.048Z"
   },
   {
    "duration": 533,
    "start_time": "2021-11-19T17:52:12.270Z"
   },
   {
    "duration": 5,
    "start_time": "2021-11-19T17:52:12.805Z"
   }
  ],
  "kernelspec": {
   "display_name": "Python 3",
   "language": "python",
   "name": "python3"
  },
  "language_info": {
   "codemirror_mode": {
    "name": "ipython",
    "version": 3
   },
   "file_extension": ".py",
   "mimetype": "text/x-python",
   "name": "python",
   "nbconvert_exporter": "python",
   "pygments_lexer": "ipython3",
   "version": "3.8.8"
  },
  "toc": {
   "base_numbering": 1,
   "nav_menu": {
    "height": "655px",
    "width": "379px"
   },
   "number_sections": true,
   "sideBar": true,
   "skip_h1_title": true,
   "title_cell": "Table of Contents",
   "title_sidebar": "Contents",
   "toc_cell": false,
   "toc_position": {},
   "toc_section_display": true,
   "toc_window_display": true
  }
 },
 "nbformat": 4,
 "nbformat_minor": 5
}
