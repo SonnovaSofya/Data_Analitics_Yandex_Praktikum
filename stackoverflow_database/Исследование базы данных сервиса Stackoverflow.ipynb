{
 "cells": [
  {
   "cell_type": "markdown",
   "metadata": {
    "id": "sRW85nPMDWKb"
   },
   "source": [
    "# Описание проекта\n",
    "\n",
    "В этом проекте будем работать с базой данных StackOverflow — сервиса вопросов и ответов о программировании.\n",
    "Данные хранят информацию о постах за 2008 год. Необходимо написать несколько SQL-запросов в Jupyter Notebook по конкретным заданиям.\n"
   ]
  },
  {
   "cell_type": "code",
   "execution_count": 1,
   "metadata": {
    "id": "nlZBlglMDWKe"
   },
   "outputs": [],
   "source": [
    "import pandas as pd\n",
    "import matplotlib.pyplot as plt\n",
    "from sqlalchemy import create_engine "
   ]
  },
  {
   "cell_type": "markdown",
   "metadata": {
    "id": "XnOE3n28DWKg"
   },
   "source": [
    "### Конфигурация для подключения к базе данных `data-analyst-advanced-sql`\n",
    "Эта база данных содержит схему `stackoverflow`, с которой вы будете работать в проекте"
   ]
  },
  {
   "cell_type": "code",
   "execution_count": 2,
   "metadata": {
    "id": "6p-yGp7qDWKg"
   },
   "outputs": [],
   "source": [
    "db_config = {\n",
    "    'user': 'praktikum_student', # имя пользователя\n",
    "    'pwd': 'ХХХ', # пароль\n",
    "    'host': 'ХХХ',\n",
    "    'port': ХХХ, # порт подключения\n",
    "    'db': 'data-analyst-advanced-sql' # название базы данных\n",
    "}  \n",
    "\n",
    "connection_string = 'postgresql://{}:{}@{}:{}/{}'.format(\n",
    "    db_config['user'],\n",
    "    db_config['pwd'],\n",
    "    db_config['host'],\n",
    "    db_config['port'],\n",
    "    db_config['db'],\n",
    ")"
   ]
  },
  {
   "cell_type": "markdown",
   "metadata": {
    "id": "2Rg8ZpS0DWKh"
   },
   "source": [
    "Создание подключения"
   ]
  },
  {
   "cell_type": "code",
   "execution_count": 3,
   "metadata": {
    "id": "DamCUTR6DWKi"
   },
   "outputs": [],
   "source": [
    "engine = create_engine(connection_string) "
   ]
  },
  {
   "cell_type": "markdown",
   "metadata": {
    "id": "bel8XeSlDWKj"
   },
   "source": [
    "Проверим, установилось ли соединение с базой. Напишем простенький запрос.\n",
    "\n",
    "`sample_df` является pandas-датафреймом."
   ]
  },
  {
   "cell_type": "code",
   "execution_count": 4,
   "metadata": {
    "id": "6Z_fw0yLDWKk"
   },
   "outputs": [],
   "source": [
    "query = '''\n",
    "SELECT *\n",
    "FROM stackoverflow.users\n",
    "LIMIT 10;\n",
    "'''\n",
    "\n",
    "sample_df = pd.read_sql_query(query, con=engine) "
   ]
  },
  {
   "cell_type": "code",
   "execution_count": 5,
   "metadata": {
    "id": "ZpuZ290oDWKk",
    "outputId": "22785a0a-e2bc-4559-ec3c-4879c4b377eb"
   },
   "outputs": [
    {
     "data": {
      "text/html": [
       "<div>\n",
       "<style scoped>\n",
       "    .dataframe tbody tr th:only-of-type {\n",
       "        vertical-align: middle;\n",
       "    }\n",
       "\n",
       "    .dataframe tbody tr th {\n",
       "        vertical-align: top;\n",
       "    }\n",
       "\n",
       "    .dataframe thead th {\n",
       "        text-align: right;\n",
       "    }\n",
       "</style>\n",
       "<table border=\"1\" class=\"dataframe\">\n",
       "  <thead>\n",
       "    <tr style=\"text-align: right;\">\n",
       "      <th></th>\n",
       "      <th>id</th>\n",
       "      <th>creation_date</th>\n",
       "      <th>display_name</th>\n",
       "      <th>last_access_date</th>\n",
       "      <th>location</th>\n",
       "      <th>reputation</th>\n",
       "      <th>views</th>\n",
       "    </tr>\n",
       "  </thead>\n",
       "  <tbody>\n",
       "    <tr>\n",
       "      <td>0</td>\n",
       "      <td>1</td>\n",
       "      <td>2008-07-31 14:22:31</td>\n",
       "      <td>Jeff Atwood</td>\n",
       "      <td>2018-08-29 02:34:23</td>\n",
       "      <td>El Cerrito, CA</td>\n",
       "      <td>44300</td>\n",
       "      <td>408587</td>\n",
       "    </tr>\n",
       "    <tr>\n",
       "      <td>1</td>\n",
       "      <td>2</td>\n",
       "      <td>2008-07-31 14:22:31</td>\n",
       "      <td>Geoff Dalgas</td>\n",
       "      <td>2018-08-23 17:31:56</td>\n",
       "      <td>Corvallis, OR</td>\n",
       "      <td>3491</td>\n",
       "      <td>23966</td>\n",
       "    </tr>\n",
       "    <tr>\n",
       "      <td>2</td>\n",
       "      <td>3</td>\n",
       "      <td>2008-07-31 14:22:31</td>\n",
       "      <td>Jarrod Dixon</td>\n",
       "      <td>2018-08-30 20:56:24</td>\n",
       "      <td>Raleigh, NC, United States</td>\n",
       "      <td>13418</td>\n",
       "      <td>24396</td>\n",
       "    </tr>\n",
       "    <tr>\n",
       "      <td>3</td>\n",
       "      <td>4</td>\n",
       "      <td>2008-07-31 14:22:31</td>\n",
       "      <td>Joel Spolsky</td>\n",
       "      <td>2018-08-14 22:18:15</td>\n",
       "      <td>New York, NY</td>\n",
       "      <td>28768</td>\n",
       "      <td>73755</td>\n",
       "    </tr>\n",
       "    <tr>\n",
       "      <td>4</td>\n",
       "      <td>5</td>\n",
       "      <td>2008-07-31 14:22:31</td>\n",
       "      <td>Jon Galloway</td>\n",
       "      <td>2018-08-29 16:48:36</td>\n",
       "      <td>San Diego, CA</td>\n",
       "      <td>39172</td>\n",
       "      <td>11700</td>\n",
       "    </tr>\n",
       "    <tr>\n",
       "      <td>5</td>\n",
       "      <td>8</td>\n",
       "      <td>2008-07-31 21:33:24</td>\n",
       "      <td>Eggs McLaren</td>\n",
       "      <td>2018-04-09 02:04:56</td>\n",
       "      <td>None</td>\n",
       "      <td>942</td>\n",
       "      <td>6372</td>\n",
       "    </tr>\n",
       "    <tr>\n",
       "      <td>6</td>\n",
       "      <td>9</td>\n",
       "      <td>2008-07-31 21:35:27</td>\n",
       "      <td>Kevin Dente</td>\n",
       "      <td>2018-08-30 18:18:03</td>\n",
       "      <td>Oakland, CA</td>\n",
       "      <td>14337</td>\n",
       "      <td>4949</td>\n",
       "    </tr>\n",
       "    <tr>\n",
       "      <td>7</td>\n",
       "      <td>11</td>\n",
       "      <td>2008-08-01 00:59:11</td>\n",
       "      <td>Anonymous User</td>\n",
       "      <td>2008-08-01 00:59:11</td>\n",
       "      <td>None</td>\n",
       "      <td>1890</td>\n",
       "      <td>2123</td>\n",
       "    </tr>\n",
       "    <tr>\n",
       "      <td>8</td>\n",
       "      <td>13</td>\n",
       "      <td>2008-08-01 04:18:05</td>\n",
       "      <td>Chris Jester-Young</td>\n",
       "      <td>2018-08-30 02:47:23</td>\n",
       "      <td>Raleigh, NC, United States</td>\n",
       "      <td>177138</td>\n",
       "      <td>35414</td>\n",
       "    </tr>\n",
       "    <tr>\n",
       "      <td>9</td>\n",
       "      <td>17</td>\n",
       "      <td>2008-08-01 12:02:22</td>\n",
       "      <td>Nick Berardi</td>\n",
       "      <td>2018-01-22 01:35:38</td>\n",
       "      <td>Issaquah, WA</td>\n",
       "      <td>44443</td>\n",
       "      <td>4786</td>\n",
       "    </tr>\n",
       "  </tbody>\n",
       "</table>\n",
       "</div>"
      ],
      "text/plain": [
       "   id       creation_date        display_name    last_access_date  \\\n",
       "0   1 2008-07-31 14:22:31         Jeff Atwood 2018-08-29 02:34:23   \n",
       "1   2 2008-07-31 14:22:31        Geoff Dalgas 2018-08-23 17:31:56   \n",
       "2   3 2008-07-31 14:22:31        Jarrod Dixon 2018-08-30 20:56:24   \n",
       "3   4 2008-07-31 14:22:31        Joel Spolsky 2018-08-14 22:18:15   \n",
       "4   5 2008-07-31 14:22:31        Jon Galloway 2018-08-29 16:48:36   \n",
       "5   8 2008-07-31 21:33:24        Eggs McLaren 2018-04-09 02:04:56   \n",
       "6   9 2008-07-31 21:35:27         Kevin Dente 2018-08-30 18:18:03   \n",
       "7  11 2008-08-01 00:59:11      Anonymous User 2008-08-01 00:59:11   \n",
       "8  13 2008-08-01 04:18:05  Chris Jester-Young 2018-08-30 02:47:23   \n",
       "9  17 2008-08-01 12:02:22        Nick Berardi 2018-01-22 01:35:38   \n",
       "\n",
       "                     location  reputation   views  \n",
       "0              El Cerrito, CA       44300  408587  \n",
       "1               Corvallis, OR        3491   23966  \n",
       "2  Raleigh, NC, United States       13418   24396  \n",
       "3                New York, NY       28768   73755  \n",
       "4               San Diego, CA       39172   11700  \n",
       "5                        None         942    6372  \n",
       "6                 Oakland, CA       14337    4949  \n",
       "7                        None        1890    2123  \n",
       "8  Raleigh, NC, United States      177138   35414  \n",
       "9                Issaquah, WA       44443    4786  "
      ]
     },
     "execution_count": 5,
     "metadata": {},
     "output_type": "execute_result"
    }
   ],
   "source": [
    "sample_df"
   ]
  },
  {
   "cell_type": "markdown",
   "metadata": {},
   "source": []
  },
  {
   "cell_type": "markdown",
   "metadata": {
    "id": "gnBMXkDBDWKm"
   },
   "source": [
    "# Задание 1"
   ]
  },
  {
   "cell_type": "markdown",
   "metadata": {
    "id": "vHsfOrrNDWKn"
   },
   "source": [
    "Выведите общую сумму просмотров постов за каждый месяц 2008 года. Если данных за какой-либо месяц в базе нет, такой месяц можно пропустить. Результат отсортируйте по убыванию общего количества просмотров."
   ]
  },
  {
   "cell_type": "code",
   "execution_count": 6,
   "metadata": {
    "id": "eWvykcXTDWKo"
   },
   "outputs": [],
   "source": [
    "# напишите запрос\n",
    "query = '''\n",
    "SELECT DATE_TRUNC('month', p.creation_date)::date AS month_date, SUM(p.views_count) AS total_views\n",
    "FROM stackoverflow.posts p\n",
    "WHERE DATE_TRUNC('month', creation_date)::date BETWEEN '2008-01-01' AND '2008-12-31'\n",
    "GROUP BY month_date\n",
    "ORDER BY total_views DESC\n",
    "'''\n",
    "task_1 = pd.read_sql_query(query, con=engine) \n",
    "# выполните запрос"
   ]
  },
  {
   "cell_type": "code",
   "execution_count": 7,
   "metadata": {},
   "outputs": [
    {
     "data": {
      "text/html": [
       "<div>\n",
       "<style scoped>\n",
       "    .dataframe tbody tr th:only-of-type {\n",
       "        vertical-align: middle;\n",
       "    }\n",
       "\n",
       "    .dataframe tbody tr th {\n",
       "        vertical-align: top;\n",
       "    }\n",
       "\n",
       "    .dataframe thead th {\n",
       "        text-align: right;\n",
       "    }\n",
       "</style>\n",
       "<table border=\"1\" class=\"dataframe\">\n",
       "  <thead>\n",
       "    <tr style=\"text-align: right;\">\n",
       "      <th></th>\n",
       "      <th>month_date</th>\n",
       "      <th>total_views</th>\n",
       "    </tr>\n",
       "  </thead>\n",
       "  <tbody>\n",
       "    <tr>\n",
       "      <td>0</td>\n",
       "      <td>2008-09-01</td>\n",
       "      <td>452928568</td>\n",
       "    </tr>\n",
       "    <tr>\n",
       "      <td>1</td>\n",
       "      <td>2008-10-01</td>\n",
       "      <td>365400138</td>\n",
       "    </tr>\n",
       "    <tr>\n",
       "      <td>2</td>\n",
       "      <td>2008-11-01</td>\n",
       "      <td>221759651</td>\n",
       "    </tr>\n",
       "    <tr>\n",
       "      <td>3</td>\n",
       "      <td>2008-12-01</td>\n",
       "      <td>197792841</td>\n",
       "    </tr>\n",
       "    <tr>\n",
       "      <td>4</td>\n",
       "      <td>2008-08-01</td>\n",
       "      <td>131367083</td>\n",
       "    </tr>\n",
       "    <tr>\n",
       "      <td>5</td>\n",
       "      <td>2008-07-01</td>\n",
       "      <td>669895</td>\n",
       "    </tr>\n",
       "  </tbody>\n",
       "</table>\n",
       "</div>"
      ],
      "text/plain": [
       "   month_date  total_views\n",
       "0  2008-09-01    452928568\n",
       "1  2008-10-01    365400138\n",
       "2  2008-11-01    221759651\n",
       "3  2008-12-01    197792841\n",
       "4  2008-08-01    131367083\n",
       "5  2008-07-01       669895"
      ]
     },
     "execution_count": 7,
     "metadata": {},
     "output_type": "execute_result"
    }
   ],
   "source": [
    "task_1"
   ]
  },
  {
   "cell_type": "markdown",
   "metadata": {
    "id": "I_ZvhOxkDWKp"
   },
   "source": [
    "Проанализируйте итоговую таблицу. Отличаются ли данные за разные месяцы? С чем могут быть связаны отличия?"
   ]
  },
  {
   "cell_type": "markdown",
   "metadata": {
    "id": "luxSj17oDWKq"
   },
   "source": [
    "Данные за первое полугодие отсутствуют. Далее наблюдаем стремительный рост кол-ва просмотров в течение 3 месяцев (с июля по сентябрь). С октября и до конца года происходит откат, кол-во просмотров падает.\n",
    "\n",
    "**Эти данные свидетельствуют о том, что:**\n",
    "   * Вероятно сервис запустился в середине 2008 года, поэтому данные за первое полугодие отсутствуют\n",
    "   * Первые 3 месяца сервис активно набирал заинтересованную аудиторию. Возможно у сервиса была активная реклама для раскрутки и привлечения первых пользователей. \n",
    "   * Дальше начался отток аудитории\n",
    "   \n",
    "**Отток аудитории мог происходть по разным причинам. Приведем несколько гипотез:**\n",
    "   * Это могло быть связано с уходом менее заинтересованной в услугах аудитории, которая откликнулась на рекламу, но не получила пользы от реальной услуги.\n",
    "   * На рынке могли появиться конкуренты, которые предложили более интересную, проработанную услугу\n",
    "   * У сервиса могли возникнуть какие-то технические сложности, мешающие комфортно его использовать. ** "
   ]
  },
  {
   "cell_type": "markdown",
   "metadata": {
    "id": "FziIXkn5DWKr"
   },
   "source": [
    "# Задание 2"
   ]
  },
  {
   "cell_type": "markdown",
   "metadata": {
    "id": "fTGESZvYDWKr"
   },
   "source": [
    "Выведите имена самых активных пользователей, которые в первый месяц после регистрации (включая день регистрации) дали больше 100 ответов. Вопросы, которые задавали пользователи, не учитывайте. Для каждого имени пользователя выведите количество уникальных значений `user_id`. Отсортируйте результат по полю с именами в лексикографическом порядке."
   ]
  },
  {
   "cell_type": "code",
   "execution_count": 8,
   "metadata": {
    "id": "fIO-y-YjDWKt"
   },
   "outputs": [],
   "source": [
    "# напишите запрос\n",
    "query = '''\n",
    "SELECT u.display_name, COUNT(DISTINCT u.id)\n",
    "FROM stackoverflow.users u\n",
    "JOIN stackoverflow.posts p ON p.user_id=u.id\n",
    "JOIN stackoverflow.post_types pt ON pt.id=p.post_type_id\n",
    "WHERE (p.creation_date BETWEEN u.creation_date::date AND (u.creation_date::date + INTERVAL '1 month')) AND pt.type = 'Answer'\n",
    "GROUP BY display_name\n",
    "HAVING COUNT(p.id) > 100\n",
    "ORDER BY u.display_name\n",
    "'''\n",
    "task_2 = pd.read_sql_query(query, con=engine) \n",
    "# выполните запрос"
   ]
  },
  {
   "cell_type": "code",
   "execution_count": 9,
   "metadata": {},
   "outputs": [
    {
     "data": {
      "text/html": [
       "<div>\n",
       "<style scoped>\n",
       "    .dataframe tbody tr th:only-of-type {\n",
       "        vertical-align: middle;\n",
       "    }\n",
       "\n",
       "    .dataframe tbody tr th {\n",
       "        vertical-align: top;\n",
       "    }\n",
       "\n",
       "    .dataframe thead th {\n",
       "        text-align: right;\n",
       "    }\n",
       "</style>\n",
       "<table border=\"1\" class=\"dataframe\">\n",
       "  <thead>\n",
       "    <tr style=\"text-align: right;\">\n",
       "      <th></th>\n",
       "      <th>display_name</th>\n",
       "      <th>count</th>\n",
       "    </tr>\n",
       "  </thead>\n",
       "  <tbody>\n",
       "    <tr>\n",
       "      <td>0</td>\n",
       "      <td>1800 INFORMATION</td>\n",
       "      <td>1</td>\n",
       "    </tr>\n",
       "    <tr>\n",
       "      <td>1</td>\n",
       "      <td>Adam Bellaire</td>\n",
       "      <td>1</td>\n",
       "    </tr>\n",
       "    <tr>\n",
       "      <td>2</td>\n",
       "      <td>Adam Davis</td>\n",
       "      <td>1</td>\n",
       "    </tr>\n",
       "    <tr>\n",
       "      <td>3</td>\n",
       "      <td>Adam Liss</td>\n",
       "      <td>1</td>\n",
       "    </tr>\n",
       "    <tr>\n",
       "      <td>4</td>\n",
       "      <td>Alan</td>\n",
       "      <td>8</td>\n",
       "    </tr>\n",
       "    <tr>\n",
       "      <td>...</td>\n",
       "      <td>...</td>\n",
       "      <td>...</td>\n",
       "    </tr>\n",
       "    <tr>\n",
       "      <td>71</td>\n",
       "      <td>leppie</td>\n",
       "      <td>1</td>\n",
       "    </tr>\n",
       "    <tr>\n",
       "      <td>72</td>\n",
       "      <td>lomaxx</td>\n",
       "      <td>1</td>\n",
       "    </tr>\n",
       "    <tr>\n",
       "      <td>73</td>\n",
       "      <td>mattlant</td>\n",
       "      <td>1</td>\n",
       "    </tr>\n",
       "    <tr>\n",
       "      <td>74</td>\n",
       "      <td>paxdiablo</td>\n",
       "      <td>1</td>\n",
       "    </tr>\n",
       "    <tr>\n",
       "      <td>75</td>\n",
       "      <td>tzot</td>\n",
       "      <td>1</td>\n",
       "    </tr>\n",
       "  </tbody>\n",
       "</table>\n",
       "<p>76 rows × 2 columns</p>\n",
       "</div>"
      ],
      "text/plain": [
       "        display_name  count\n",
       "0   1800 INFORMATION      1\n",
       "1      Adam Bellaire      1\n",
       "2         Adam Davis      1\n",
       "3          Adam Liss      1\n",
       "4               Alan      8\n",
       "..               ...    ...\n",
       "71            leppie      1\n",
       "72            lomaxx      1\n",
       "73          mattlant      1\n",
       "74         paxdiablo      1\n",
       "75              tzot      1\n",
       "\n",
       "[76 rows x 2 columns]"
      ]
     },
     "execution_count": 9,
     "metadata": {},
     "output_type": "execute_result"
    }
   ],
   "source": [
    "task_2"
   ]
  },
  {
   "cell_type": "markdown",
   "metadata": {
    "id": "I3Wr82TplKpI"
   },
   "source": [
    "Какие аномалии наблюдаются в данных? О чём они говорят?"
   ]
  },
  {
   "cell_type": "markdown",
   "metadata": {},
   "source": [
    "Всего результат показал 76 различных имен среди активных пользователей сервиса.\n",
    "Вероятнее всего большая часть имен(никнеймов) должна быть уникальна. Проверим какая доля уникальных имен"
   ]
  },
  {
   "cell_type": "code",
   "execution_count": 10,
   "metadata": {},
   "outputs": [
    {
     "data": {
      "text/plain": [
       "75.0"
      ]
     },
     "execution_count": 10,
     "metadata": {},
     "output_type": "execute_result"
    }
   ],
   "source": [
    "(task_2.query('count == 1')['display_name'].count() / task_2['display_name'].count())*100"
   ]
  },
  {
   "cell_type": "markdown",
   "metadata": {},
   "source": [
    "75% никнеймов активных пользователей являются уникальными - повторяются только 1 раз. \n",
    "\n",
    "Поищем аномалии среди имен, которые встречаются более 1 раза"
   ]
  },
  {
   "cell_type": "code",
   "execution_count": 11,
   "metadata": {},
   "outputs": [
    {
     "data": {
      "text/html": [
       "<div>\n",
       "<style scoped>\n",
       "    .dataframe tbody tr th:only-of-type {\n",
       "        vertical-align: middle;\n",
       "    }\n",
       "\n",
       "    .dataframe tbody tr th {\n",
       "        vertical-align: top;\n",
       "    }\n",
       "\n",
       "    .dataframe thead th {\n",
       "        text-align: right;\n",
       "    }\n",
       "</style>\n",
       "<table border=\"1\" class=\"dataframe\">\n",
       "  <thead>\n",
       "    <tr style=\"text-align: right;\">\n",
       "      <th></th>\n",
       "      <th>display_name</th>\n",
       "      <th>count</th>\n",
       "    </tr>\n",
       "  </thead>\n",
       "  <tbody>\n",
       "    <tr>\n",
       "      <td>10</td>\n",
       "      <td>Chris</td>\n",
       "      <td>29</td>\n",
       "    </tr>\n",
       "    <tr>\n",
       "      <td>43</td>\n",
       "      <td>Matt</td>\n",
       "      <td>29</td>\n",
       "    </tr>\n",
       "    <tr>\n",
       "      <td>14</td>\n",
       "      <td>Dan</td>\n",
       "      <td>21</td>\n",
       "    </tr>\n",
       "    <tr>\n",
       "      <td>62</td>\n",
       "      <td>Tom</td>\n",
       "      <td>19</td>\n",
       "    </tr>\n",
       "    <tr>\n",
       "      <td>33</td>\n",
       "      <td>Josh</td>\n",
       "      <td>16</td>\n",
       "    </tr>\n",
       "    <tr>\n",
       "      <td>40</td>\n",
       "      <td>Mark</td>\n",
       "      <td>16</td>\n",
       "    </tr>\n",
       "    <tr>\n",
       "      <td>48</td>\n",
       "      <td>Nick</td>\n",
       "      <td>16</td>\n",
       "    </tr>\n",
       "    <tr>\n",
       "      <td>7</td>\n",
       "      <td>Brian</td>\n",
       "      <td>15</td>\n",
       "    </tr>\n",
       "    <tr>\n",
       "      <td>54</td>\n",
       "      <td>Rob</td>\n",
       "      <td>14</td>\n",
       "    </tr>\n",
       "    <tr>\n",
       "      <td>21</td>\n",
       "      <td>Greg</td>\n",
       "      <td>12</td>\n",
       "    </tr>\n",
       "    <tr>\n",
       "      <td>35</td>\n",
       "      <td>Kevin</td>\n",
       "      <td>11</td>\n",
       "    </tr>\n",
       "    <tr>\n",
       "      <td>57</td>\n",
       "      <td>Ryan</td>\n",
       "      <td>10</td>\n",
       "    </tr>\n",
       "    <tr>\n",
       "      <td>12</td>\n",
       "      <td>Craig</td>\n",
       "      <td>10</td>\n",
       "    </tr>\n",
       "    <tr>\n",
       "      <td>26</td>\n",
       "      <td>Joe</td>\n",
       "      <td>9</td>\n",
       "    </tr>\n",
       "    <tr>\n",
       "      <td>4</td>\n",
       "      <td>Alan</td>\n",
       "      <td>8</td>\n",
       "    </tr>\n",
       "    <tr>\n",
       "      <td>25</td>\n",
       "      <td>Jim</td>\n",
       "      <td>7</td>\n",
       "    </tr>\n",
       "    <tr>\n",
       "      <td>34</td>\n",
       "      <td>Keith</td>\n",
       "      <td>5</td>\n",
       "    </tr>\n",
       "    <tr>\n",
       "      <td>50</td>\n",
       "      <td>Oli</td>\n",
       "      <td>3</td>\n",
       "    </tr>\n",
       "    <tr>\n",
       "      <td>70</td>\n",
       "      <td>jfs</td>\n",
       "      <td>3</td>\n",
       "    </tr>\n",
       "  </tbody>\n",
       "</table>\n",
       "</div>"
      ],
      "text/plain": [
       "   display_name  count\n",
       "10        Chris     29\n",
       "43         Matt     29\n",
       "14          Dan     21\n",
       "62          Tom     19\n",
       "33         Josh     16\n",
       "40         Mark     16\n",
       "48         Nick     16\n",
       "7         Brian     15\n",
       "54          Rob     14\n",
       "21         Greg     12\n",
       "35        Kevin     11\n",
       "57         Ryan     10\n",
       "12        Craig     10\n",
       "26          Joe      9\n",
       "4          Alan      8\n",
       "25          Jim      7\n",
       "34        Keith      5\n",
       "50          Oli      3\n",
       "70          jfs      3"
      ]
     },
     "execution_count": 11,
     "metadata": {},
     "output_type": "execute_result"
    }
   ],
   "source": [
    "task_2.query('count > 1').sort_values(by='count', ascending=False)"
   ]
  },
  {
   "cell_type": "markdown",
   "metadata": {},
   "source": [
    "Практически все повторяющиеся никнеймы являются довольно распространенными именами, поэтому не будем считать их аномалиями.\n",
    "\n",
    "**Однако видим 3 повторения никнейма `jfs`, которое не является именем. Возможно проблема в том, что один пользователь несколько раз проходил регистрацию.**"
   ]
  },
  {
   "cell_type": "markdown",
   "metadata": {
    "id": "JhM2xXj5DWKu"
   },
   "source": [
    "# Задание 3"
   ]
  },
  {
   "cell_type": "markdown",
   "metadata": {
    "id": "IS6xPqyyDWKu"
   },
   "source": [
    "Выведите количество постов за 2008 год по месяцам. Отберите посты от пользователей, которые зарегистрировались в сентябре 2008 года и сделали хотя бы один пост в декабре того же года. Отсортируйте таблицу по значению месяца по убыванию."
   ]
  },
  {
   "cell_type": "code",
   "execution_count": 12,
   "metadata": {
    "id": "kVu0FB8WDWKv"
   },
   "outputs": [],
   "source": [
    "# напишите запрос\n",
    "query = '''\n",
    "SELECT DATE_TRUNC('month', creation_date)::date AS month, COUNT(p.id)\n",
    "FROM stackoverflow.posts p\n",
    "WHERE p.user_id IN (SELECT u.id\n",
    "       FROM stackoverflow.users u\n",
    "       JOIN stackoverflow.posts p ON u.id=p.user_id\n",
    "       WHERE u.creation_date::date BETWEEN '2008-09-01' AND '2008-09-30' AND\n",
    "             p.creation_date::date BETWEEN '2008-12-01' AND '2008-12-31')\n",
    "GROUP BY month\n",
    "ORDER BY month DESC\n",
    "'''\n",
    "\n",
    "# выполните запрос\n",
    "\n",
    "task_3 = pd.read_sql_query(query, con=engine) \n"
   ]
  },
  {
   "cell_type": "code",
   "execution_count": 13,
   "metadata": {},
   "outputs": [
    {
     "data": {
      "text/html": [
       "<div>\n",
       "<style scoped>\n",
       "    .dataframe tbody tr th:only-of-type {\n",
       "        vertical-align: middle;\n",
       "    }\n",
       "\n",
       "    .dataframe tbody tr th {\n",
       "        vertical-align: top;\n",
       "    }\n",
       "\n",
       "    .dataframe thead th {\n",
       "        text-align: right;\n",
       "    }\n",
       "</style>\n",
       "<table border=\"1\" class=\"dataframe\">\n",
       "  <thead>\n",
       "    <tr style=\"text-align: right;\">\n",
       "      <th></th>\n",
       "      <th>month</th>\n",
       "      <th>count</th>\n",
       "    </tr>\n",
       "  </thead>\n",
       "  <tbody>\n",
       "    <tr>\n",
       "      <td>0</td>\n",
       "      <td>2008-12-01</td>\n",
       "      <td>17641</td>\n",
       "    </tr>\n",
       "    <tr>\n",
       "      <td>1</td>\n",
       "      <td>2008-11-01</td>\n",
       "      <td>18294</td>\n",
       "    </tr>\n",
       "    <tr>\n",
       "      <td>2</td>\n",
       "      <td>2008-10-01</td>\n",
       "      <td>27171</td>\n",
       "    </tr>\n",
       "    <tr>\n",
       "      <td>3</td>\n",
       "      <td>2008-09-01</td>\n",
       "      <td>24870</td>\n",
       "    </tr>\n",
       "    <tr>\n",
       "      <td>4</td>\n",
       "      <td>2008-08-01</td>\n",
       "      <td>32</td>\n",
       "    </tr>\n",
       "  </tbody>\n",
       "</table>\n",
       "</div>"
      ],
      "text/plain": [
       "        month  count\n",
       "0  2008-12-01  17641\n",
       "1  2008-11-01  18294\n",
       "2  2008-10-01  27171\n",
       "3  2008-09-01  24870\n",
       "4  2008-08-01     32"
      ]
     },
     "execution_count": 13,
     "metadata": {},
     "output_type": "execute_result"
    }
   ],
   "source": [
    "task_3"
   ]
  },
  {
   "cell_type": "markdown",
   "metadata": {
    "id": "Vnxn9DVHDWKx"
   },
   "source": [
    "Изучите данные: есть ли в них аномалии? Предположите, почему могли появиться аномальные значения."
   ]
  },
  {
   "cell_type": "markdown",
   "metadata": {
    "id": "MMVIz4yMlKpN"
   },
   "source": [
    "По условию необходимо было отфильтровать тех пользователей, которые зарегистрировались в сентября 2008 года. \n",
    "Соответсвенно раньше сентября они не могли написать посты.\n",
    "\n",
    "Однако, в таблице с результатами мы видим 32 поста за август 2008 года. Причина может быть в некорректной информации о дате регистрации пользователей или же в некорректной установленной дате у постов. "
   ]
  },
  {
   "cell_type": "markdown",
   "metadata": {
    "id": "5Pcizm0DDWKz"
   },
   "source": [
    "# Задание 4"
   ]
  },
  {
   "cell_type": "markdown",
   "metadata": {
    "id": "KUZPF6vHDWKz"
   },
   "source": [
    "Используя данные о постах, выведите несколько полей:\n",
    "\n",
    "- идентификатор пользователя, который написал пост;\n",
    "- дата создания поста;\n",
    "- количество просмотров у текущего поста;\n",
    "- сумму просмотров постов автора с накоплением.\n",
    "\n",
    "Данные в таблице должны быть отсортированы по возрастанию идентификаторов пользователей, а данные об одном и том же пользователе — по возрастанию даты создания поста."
   ]
  },
  {
   "cell_type": "code",
   "execution_count": 14,
   "metadata": {
    "id": "hDoJhMzfDWK0"
   },
   "outputs": [],
   "source": [
    "# напишите запрос\n",
    "query = '''\n",
    "SELECT p.user_id, p.creation_date, p.views_count,\n",
    "       SUM(p.views_count) OVER(PARTITION BY p.user_id ORDER BY p.creation_date)\n",
    "FROM  stackoverflow.posts p\n",
    "ORDER BY p.user_id, p.creation_date\n",
    "'''\n",
    "\n",
    "# выполните запрос\n",
    "\n",
    "task_4 = pd.read_sql_query(query, con=engine) \n"
   ]
  },
  {
   "cell_type": "code",
   "execution_count": 15,
   "metadata": {},
   "outputs": [
    {
     "data": {
      "text/html": [
       "<div>\n",
       "<style scoped>\n",
       "    .dataframe tbody tr th:only-of-type {\n",
       "        vertical-align: middle;\n",
       "    }\n",
       "\n",
       "    .dataframe tbody tr th {\n",
       "        vertical-align: top;\n",
       "    }\n",
       "\n",
       "    .dataframe thead th {\n",
       "        text-align: right;\n",
       "    }\n",
       "</style>\n",
       "<table border=\"1\" class=\"dataframe\">\n",
       "  <thead>\n",
       "    <tr style=\"text-align: right;\">\n",
       "      <th></th>\n",
       "      <th>user_id</th>\n",
       "      <th>creation_date</th>\n",
       "      <th>views_count</th>\n",
       "      <th>sum</th>\n",
       "    </tr>\n",
       "  </thead>\n",
       "  <tbody>\n",
       "    <tr>\n",
       "      <td>0</td>\n",
       "      <td>1</td>\n",
       "      <td>2008-07-31 23:41:00</td>\n",
       "      <td>480476</td>\n",
       "      <td>480476</td>\n",
       "    </tr>\n",
       "    <tr>\n",
       "      <td>1</td>\n",
       "      <td>1</td>\n",
       "      <td>2008-07-31 23:55:38</td>\n",
       "      <td>136033</td>\n",
       "      <td>616509</td>\n",
       "    </tr>\n",
       "    <tr>\n",
       "      <td>2</td>\n",
       "      <td>1</td>\n",
       "      <td>2008-07-31 23:56:41</td>\n",
       "      <td>0</td>\n",
       "      <td>616509</td>\n",
       "    </tr>\n",
       "    <tr>\n",
       "      <td>3</td>\n",
       "      <td>1</td>\n",
       "      <td>2008-08-04 02:45:08</td>\n",
       "      <td>0</td>\n",
       "      <td>616509</td>\n",
       "    </tr>\n",
       "    <tr>\n",
       "      <td>4</td>\n",
       "      <td>1</td>\n",
       "      <td>2008-08-04 04:31:03</td>\n",
       "      <td>0</td>\n",
       "      <td>616509</td>\n",
       "    </tr>\n",
       "    <tr>\n",
       "      <td>5</td>\n",
       "      <td>1</td>\n",
       "      <td>2008-08-04 08:04:42</td>\n",
       "      <td>0</td>\n",
       "      <td>616509</td>\n",
       "    </tr>\n",
       "    <tr>\n",
       "      <td>6</td>\n",
       "      <td>1</td>\n",
       "      <td>2008-08-10 08:28:52</td>\n",
       "      <td>0</td>\n",
       "      <td>616509</td>\n",
       "    </tr>\n",
       "    <tr>\n",
       "      <td>7</td>\n",
       "      <td>1</td>\n",
       "      <td>2008-08-11 19:23:47</td>\n",
       "      <td>0</td>\n",
       "      <td>616509</td>\n",
       "    </tr>\n",
       "    <tr>\n",
       "      <td>8</td>\n",
       "      <td>1</td>\n",
       "      <td>2008-08-12 00:30:43</td>\n",
       "      <td>0</td>\n",
       "      <td>616509</td>\n",
       "    </tr>\n",
       "    <tr>\n",
       "      <td>9</td>\n",
       "      <td>1</td>\n",
       "      <td>2008-08-12 04:59:35</td>\n",
       "      <td>72431</td>\n",
       "      <td>688940</td>\n",
       "    </tr>\n",
       "  </tbody>\n",
       "</table>\n",
       "</div>"
      ],
      "text/plain": [
       "   user_id       creation_date  views_count     sum\n",
       "0        1 2008-07-31 23:41:00       480476  480476\n",
       "1        1 2008-07-31 23:55:38       136033  616509\n",
       "2        1 2008-07-31 23:56:41            0  616509\n",
       "3        1 2008-08-04 02:45:08            0  616509\n",
       "4        1 2008-08-04 04:31:03            0  616509\n",
       "5        1 2008-08-04 08:04:42            0  616509\n",
       "6        1 2008-08-10 08:28:52            0  616509\n",
       "7        1 2008-08-11 19:23:47            0  616509\n",
       "8        1 2008-08-12 00:30:43            0  616509\n",
       "9        1 2008-08-12 04:59:35        72431  688940"
      ]
     },
     "execution_count": 15,
     "metadata": {},
     "output_type": "execute_result"
    }
   ],
   "source": [
    "task_4.head(10)"
   ]
  },
  {
   "cell_type": "markdown",
   "metadata": {
    "id": "N0kHRHvIDWK2"
   },
   "source": [
    "# Задание 5"
   ]
  },
  {
   "cell_type": "markdown",
   "metadata": {
    "id": "gBgvmPtODWK2"
   },
   "source": [
    "Найдите среднее количество постов пользователей в день за август 2008 года. Отберите данные о пользователях, которые опубликовали больше 120 постов за август. Дни без публикаций не учитывайте. \n",
    "\n",
    "Отсортируйте результат по возрастанию среднего количества постов. Значения можно не округлять."
   ]
  },
  {
   "cell_type": "code",
   "execution_count": 16,
   "metadata": {
    "id": "YFyPNz5GDWK3"
   },
   "outputs": [],
   "source": [
    "# напишите запрос\n",
    "query = '''\n",
    "WITH aug_posts AS\n",
    "(SELECT DISTINCT p.user_id, DATE_TRUNC('day', p.creation_date)::date AS day, \n",
    "       COUNT(p.id) AS cnt\n",
    "FROM stackoverflow.posts p\n",
    "WHERE p.user_id IN (SELECT p.user_id \n",
    "       FROM stackoverflow.posts p \n",
    "       WHERE p.creation_date::date BETWEEN '2008-08-01' AND '2008-08-31'\n",
    "       GROUP BY p.user_id\n",
    "       HAVING COUNT(p.id) > 120)\n",
    "GROUP BY 1,2)\n",
    "\n",
    "SELECT DISTINCT user_id, AVG(cnt) OVER(PARTITION BY user_id) AS avg_daily \n",
    "FROM aug_posts\n",
    "WHERE day::date BETWEEN '2008-08-01' AND '2008-08-31'\n",
    "ORDER BY avg_daily   \n",
    "       \n",
    "'''\n",
    "\n",
    "task_5 = pd.read_sql_query(query, con=engine) \n",
    "\n",
    "# выполните запрос"
   ]
  },
  {
   "cell_type": "code",
   "execution_count": 17,
   "metadata": {},
   "outputs": [
    {
     "data": {
      "text/html": [
       "<div>\n",
       "<style scoped>\n",
       "    .dataframe tbody tr th:only-of-type {\n",
       "        vertical-align: middle;\n",
       "    }\n",
       "\n",
       "    .dataframe tbody tr th {\n",
       "        vertical-align: top;\n",
       "    }\n",
       "\n",
       "    .dataframe thead th {\n",
       "        text-align: right;\n",
       "    }\n",
       "</style>\n",
       "<table border=\"1\" class=\"dataframe\">\n",
       "  <thead>\n",
       "    <tr style=\"text-align: right;\">\n",
       "      <th></th>\n",
       "      <th>user_id</th>\n",
       "      <th>avg_daily</th>\n",
       "    </tr>\n",
       "  </thead>\n",
       "  <tbody>\n",
       "    <tr>\n",
       "      <td>0</td>\n",
       "      <td>116</td>\n",
       "      <td>4.777778</td>\n",
       "    </tr>\n",
       "    <tr>\n",
       "      <td>1</td>\n",
       "      <td>234</td>\n",
       "      <td>5.208333</td>\n",
       "    </tr>\n",
       "    <tr>\n",
       "      <td>2</td>\n",
       "      <td>91</td>\n",
       "      <td>5.681818</td>\n",
       "    </tr>\n",
       "    <tr>\n",
       "      <td>3</td>\n",
       "      <td>905</td>\n",
       "      <td>7.000000</td>\n",
       "    </tr>\n",
       "    <tr>\n",
       "      <td>4</td>\n",
       "      <td>383</td>\n",
       "      <td>7.277778</td>\n",
       "    </tr>\n",
       "  </tbody>\n",
       "</table>\n",
       "</div>"
      ],
      "text/plain": [
       "   user_id  avg_daily\n",
       "0      116   4.777778\n",
       "1      234   5.208333\n",
       "2       91   5.681818\n",
       "3      905   7.000000\n",
       "4      383   7.277778"
      ]
     },
     "execution_count": 17,
     "metadata": {},
     "output_type": "execute_result"
    }
   ],
   "source": [
    "task_5"
   ]
  },
  {
   "cell_type": "markdown",
   "metadata": {
    "id": "EQ0dcFH4DWK5"
   },
   "source": [
    "# Задание 6"
   ]
  },
  {
   "cell_type": "markdown",
   "metadata": {
    "id": "c7flfg_hDWK5"
   },
   "source": [
    "Сколько в среднем дней в период с 1 по 7 декабря 2008 года пользователи взаимодействовали с платформой? Для каждого пользователя отберите дни, в которые он или она опубликовали хотя бы один пост. Нужно получить одно целое число — не забудьте округлить результат. "
   ]
  },
  {
   "cell_type": "code",
   "execution_count": 18,
   "metadata": {
    "id": "kZ7LXTr6DWK6"
   },
   "outputs": [],
   "source": [
    "# напишите запрос\n",
    "query = '''\n",
    "WITH active_days AS \n",
    "(SELECT user_id, COUNT(DISTINCT DATE_TRUNC('day', creation_date)::date) AS act_days\n",
    "FROM stackoverflow.posts \n",
    "WHERE creation_date::date BETWEEN '2008-12-01' AND '2008-12-07'\n",
    "GROUP BY 1\n",
    "HAVING COUNT(id) >= 1)\n",
    "\n",
    "SELECT ROUND(AVG(act_days)) AS avg_active_days\n",
    "FROM active_days\n",
    "'''\n",
    "\n",
    "# выполните запрос\n",
    "task_6 = pd.read_sql_query(query, con=engine) \n"
   ]
  },
  {
   "cell_type": "code",
   "execution_count": 19,
   "metadata": {},
   "outputs": [
    {
     "data": {
      "text/html": [
       "<div>\n",
       "<style scoped>\n",
       "    .dataframe tbody tr th:only-of-type {\n",
       "        vertical-align: middle;\n",
       "    }\n",
       "\n",
       "    .dataframe tbody tr th {\n",
       "        vertical-align: top;\n",
       "    }\n",
       "\n",
       "    .dataframe thead th {\n",
       "        text-align: right;\n",
       "    }\n",
       "</style>\n",
       "<table border=\"1\" class=\"dataframe\">\n",
       "  <thead>\n",
       "    <tr style=\"text-align: right;\">\n",
       "      <th></th>\n",
       "      <th>avg_active_days</th>\n",
       "    </tr>\n",
       "  </thead>\n",
       "  <tbody>\n",
       "    <tr>\n",
       "      <td>0</td>\n",
       "      <td>2.0</td>\n",
       "    </tr>\n",
       "  </tbody>\n",
       "</table>\n",
       "</div>"
      ],
      "text/plain": [
       "   avg_active_days\n",
       "0              2.0"
      ]
     },
     "execution_count": 19,
     "metadata": {},
     "output_type": "execute_result"
    }
   ],
   "source": [
    "task_6"
   ]
  },
  {
   "cell_type": "markdown",
   "metadata": {
    "id": "UJFtNNggDWK7"
   },
   "source": [
    "Проанализируйте итоговую таблицу — какие выводы можно сделать?"
   ]
  },
  {
   "cell_type": "markdown",
   "metadata": {
    "id": "LfUuYz-1DWK8"
   },
   "source": [
    "В среднем пользователи были активны 2 из 7 дней в первую неделю декабря 2008 года.\n",
    "\n",
    "Это неплохой результат. Значит участники регулярно возвращаются к платформе. \n",
    "Далее будут интересно изучить портрет пользователей, которые каждый день пользуются услугами платформы, и наоборот, тех кто редк на ней появляется. \n",
    "Это позволит в дальнейшем работать над укреплением этого показателя"
   ]
  },
  {
   "cell_type": "markdown",
   "metadata": {
    "id": "wfOmqmfLDWK8"
   },
   "source": [
    "# Задание 7"
   ]
  },
  {
   "cell_type": "markdown",
   "metadata": {
    "id": "X4ARQimADWK9"
   },
   "source": [
    "Выведите историю активности каждого пользователя в таком виде: идентификатор пользователя, дата публикации поста. Отсортируйте вывод по возрастанию идентификаторов пользователей, а для каждого пользователя — по возрастанию даты публикации.\n",
    "\n",
    "Добавьте в таблицу новое поле: для каждого поста в нём будет указано название месяца предпоследней публикации пользователя относительно текущей. Если такой публикации нет, укажите `NULL`.  Python автоматически поменяет `NULL` на `None`, но дополнительно преобразовывать значения `None` вам не нужно.\n",
    "\n",
    "Посмотрите внимательно на образец таблицы: для первых двух постов предпоследней публикации нет, но, начиная с третьего поста, в новое поле входит нужный месяц. Для следующего пользователя в первые две записи поля `second_last_month` тоже войдёт `NULL`."
   ]
  },
  {
   "cell_type": "code",
   "execution_count": 20,
   "metadata": {},
   "outputs": [],
   "source": [
    "#to_char( creation_date, 'Month')"
   ]
  },
  {
   "cell_type": "code",
   "execution_count": 21,
   "metadata": {
    "id": "HzI1vhaMDWK-"
   },
   "outputs": [],
   "source": [
    "# напишите запрос\n",
    "query = '''\n",
    "SELECT user_id, creation_date,\n",
    "        LAG(to_char(creation_date, 'Month'), 2, NULL) OVER(PARTITION BY user_id ORDER BY creation_date)\n",
    "FROM stackoverflow.posts \n",
    "ORDER BY user_id, creation_date\n",
    "'''\n",
    "\n",
    "# выполните запрос\n",
    "task_7 = pd.read_sql_query(query, con=engine) \n"
   ]
  },
  {
   "cell_type": "code",
   "execution_count": 22,
   "metadata": {},
   "outputs": [
    {
     "data": {
      "text/html": [
       "<div>\n",
       "<style scoped>\n",
       "    .dataframe tbody tr th:only-of-type {\n",
       "        vertical-align: middle;\n",
       "    }\n",
       "\n",
       "    .dataframe tbody tr th {\n",
       "        vertical-align: top;\n",
       "    }\n",
       "\n",
       "    .dataframe thead th {\n",
       "        text-align: right;\n",
       "    }\n",
       "</style>\n",
       "<table border=\"1\" class=\"dataframe\">\n",
       "  <thead>\n",
       "    <tr style=\"text-align: right;\">\n",
       "      <th></th>\n",
       "      <th>user_id</th>\n",
       "      <th>creation_date</th>\n",
       "      <th>lag</th>\n",
       "    </tr>\n",
       "  </thead>\n",
       "  <tbody>\n",
       "    <tr>\n",
       "      <td>0</td>\n",
       "      <td>1</td>\n",
       "      <td>2008-07-31 23:41:00</td>\n",
       "      <td>None</td>\n",
       "    </tr>\n",
       "    <tr>\n",
       "      <td>1</td>\n",
       "      <td>1</td>\n",
       "      <td>2008-07-31 23:55:38</td>\n",
       "      <td>None</td>\n",
       "    </tr>\n",
       "    <tr>\n",
       "      <td>2</td>\n",
       "      <td>1</td>\n",
       "      <td>2008-07-31 23:56:41</td>\n",
       "      <td>July</td>\n",
       "    </tr>\n",
       "    <tr>\n",
       "      <td>3</td>\n",
       "      <td>1</td>\n",
       "      <td>2008-08-04 02:45:08</td>\n",
       "      <td>July</td>\n",
       "    </tr>\n",
       "    <tr>\n",
       "      <td>4</td>\n",
       "      <td>1</td>\n",
       "      <td>2008-08-04 04:31:03</td>\n",
       "      <td>July</td>\n",
       "    </tr>\n",
       "    <tr>\n",
       "      <td>...</td>\n",
       "      <td>...</td>\n",
       "      <td>...</td>\n",
       "      <td>...</td>\n",
       "    </tr>\n",
       "    <tr>\n",
       "      <td>243791</td>\n",
       "      <td>5696608</td>\n",
       "      <td>2008-12-23 16:00:37</td>\n",
       "      <td>December</td>\n",
       "    </tr>\n",
       "    <tr>\n",
       "      <td>243792</td>\n",
       "      <td>5696608</td>\n",
       "      <td>2008-12-23 17:35:09</td>\n",
       "      <td>December</td>\n",
       "    </tr>\n",
       "    <tr>\n",
       "      <td>243793</td>\n",
       "      <td>5696608</td>\n",
       "      <td>2008-12-24 01:02:48</td>\n",
       "      <td>December</td>\n",
       "    </tr>\n",
       "    <tr>\n",
       "      <td>243794</td>\n",
       "      <td>5696608</td>\n",
       "      <td>2008-12-30 14:34:45</td>\n",
       "      <td>December</td>\n",
       "    </tr>\n",
       "    <tr>\n",
       "      <td>243795</td>\n",
       "      <td>5696608</td>\n",
       "      <td>2008-12-30 16:32:12</td>\n",
       "      <td>December</td>\n",
       "    </tr>\n",
       "  </tbody>\n",
       "</table>\n",
       "<p>243796 rows × 3 columns</p>\n",
       "</div>"
      ],
      "text/plain": [
       "        user_id       creation_date        lag\n",
       "0             1 2008-07-31 23:41:00       None\n",
       "1             1 2008-07-31 23:55:38       None\n",
       "2             1 2008-07-31 23:56:41  July     \n",
       "3             1 2008-08-04 02:45:08  July     \n",
       "4             1 2008-08-04 04:31:03  July     \n",
       "...         ...                 ...        ...\n",
       "243791  5696608 2008-12-23 16:00:37  December \n",
       "243792  5696608 2008-12-23 17:35:09  December \n",
       "243793  5696608 2008-12-24 01:02:48  December \n",
       "243794  5696608 2008-12-30 14:34:45  December \n",
       "243795  5696608 2008-12-30 16:32:12  December \n",
       "\n",
       "[243796 rows x 3 columns]"
      ]
     },
     "execution_count": 22,
     "metadata": {},
     "output_type": "execute_result"
    }
   ],
   "source": [
    "task_7"
   ]
  },
  {
   "cell_type": "markdown",
   "metadata": {
    "id": "tf9qq2yzDWK_"
   },
   "source": [
    "# Задание 8"
   ]
  },
  {
   "cell_type": "markdown",
   "metadata": {
    "id": "gfwLVXBYDWLA"
   },
   "source": [
    "Рассчитайте аналог Retention Rate по месяцам для пользователей StackOverflow. Объедините пользователей в когорты по месяцу их первого поста. Возвращение определяйте по наличию поста в текущем месяце. "
   ]
  },
  {
   "cell_type": "code",
   "execution_count": 23,
   "metadata": {
    "id": "LUgFmwmTDWLB"
   },
   "outputs": [],
   "source": [
    "# напишите запрос\n",
    "query = '''\n",
    "WITH profile AS (\n",
    " \n",
    "SELECT id, \n",
    "       cohort_dt, \n",
    "       COUNT(id) over(PARTITION BY cohort_dt) AS cohort_users_cnt\n",
    "FROM (SELECT u.id AS id,\n",
    "        MIN(DATE_TRUNC('month', p.creation_date)) AS cohort_dt  \n",
    "      FROM stackoverflow.users u\n",
    "      JOIN stackoverflow.posts p ON u.id = p.user_id\n",
    "      GROUP BY 1) t\n",
    "GROUP BY id, cohort_dt),\n",
    "\n",
    "sessions AS \n",
    "(SELECT user_id,\n",
    "        DATE_TRUNC('month', creation_date)::date AS session_date\n",
    "FROM stackoverflow.posts  \n",
    "GROUP BY 1,\n",
    "         2)   \n",
    "\n",
    "SELECT p.cohort_dt,\n",
    "       s.session_date,\n",
    "       COUNT(id) AS users_cnt, \n",
    "       cohort_users_cnt,\n",
    "       ROUND(COUNT(DISTINCT id) * 100.0 / cohort_users_cnt, 2) AS retention_rate\n",
    "FROM profile p\n",
    "JOIN sessions s ON p.id = s.user_id\n",
    "GROUP BY 1,\n",
    "         2,\n",
    "         4; \n",
    "\n",
    "'''\n",
    "\n",
    "# выполните запрос\n",
    "task_8 = pd.read_sql_query(query, con=engine) \n"
   ]
  },
  {
   "cell_type": "code",
   "execution_count": 24,
   "metadata": {},
   "outputs": [
    {
     "data": {
      "text/html": [
       "<div>\n",
       "<style scoped>\n",
       "    .dataframe tbody tr th:only-of-type {\n",
       "        vertical-align: middle;\n",
       "    }\n",
       "\n",
       "    .dataframe tbody tr th {\n",
       "        vertical-align: top;\n",
       "    }\n",
       "\n",
       "    .dataframe thead th {\n",
       "        text-align: right;\n",
       "    }\n",
       "</style>\n",
       "<table border=\"1\" class=\"dataframe\">\n",
       "  <thead>\n",
       "    <tr style=\"text-align: right;\">\n",
       "      <th></th>\n",
       "      <th>cohort_dt</th>\n",
       "      <th>session_date</th>\n",
       "      <th>users_cnt</th>\n",
       "      <th>cohort_users_cnt</th>\n",
       "      <th>retention_rate</th>\n",
       "    </tr>\n",
       "  </thead>\n",
       "  <tbody>\n",
       "    <tr>\n",
       "      <td>0</td>\n",
       "      <td>2008-07-01</td>\n",
       "      <td>2008-07-01</td>\n",
       "      <td>3</td>\n",
       "      <td>3</td>\n",
       "      <td>100.00</td>\n",
       "    </tr>\n",
       "    <tr>\n",
       "      <td>1</td>\n",
       "      <td>2008-07-01</td>\n",
       "      <td>2008-08-01</td>\n",
       "      <td>2</td>\n",
       "      <td>3</td>\n",
       "      <td>66.67</td>\n",
       "    </tr>\n",
       "    <tr>\n",
       "      <td>2</td>\n",
       "      <td>2008-07-01</td>\n",
       "      <td>2008-09-01</td>\n",
       "      <td>1</td>\n",
       "      <td>3</td>\n",
       "      <td>33.33</td>\n",
       "    </tr>\n",
       "    <tr>\n",
       "      <td>3</td>\n",
       "      <td>2008-07-01</td>\n",
       "      <td>2008-10-01</td>\n",
       "      <td>2</td>\n",
       "      <td>3</td>\n",
       "      <td>66.67</td>\n",
       "    </tr>\n",
       "    <tr>\n",
       "      <td>4</td>\n",
       "      <td>2008-07-01</td>\n",
       "      <td>2008-11-01</td>\n",
       "      <td>1</td>\n",
       "      <td>3</td>\n",
       "      <td>33.33</td>\n",
       "    </tr>\n",
       "    <tr>\n",
       "      <td>5</td>\n",
       "      <td>2008-07-01</td>\n",
       "      <td>2008-12-01</td>\n",
       "      <td>2</td>\n",
       "      <td>3</td>\n",
       "      <td>66.67</td>\n",
       "    </tr>\n",
       "    <tr>\n",
       "      <td>6</td>\n",
       "      <td>2008-08-01</td>\n",
       "      <td>2008-08-01</td>\n",
       "      <td>2151</td>\n",
       "      <td>2151</td>\n",
       "      <td>100.00</td>\n",
       "    </tr>\n",
       "    <tr>\n",
       "      <td>7</td>\n",
       "      <td>2008-08-01</td>\n",
       "      <td>2008-09-01</td>\n",
       "      <td>1571</td>\n",
       "      <td>2151</td>\n",
       "      <td>73.04</td>\n",
       "    </tr>\n",
       "    <tr>\n",
       "      <td>8</td>\n",
       "      <td>2008-08-01</td>\n",
       "      <td>2008-10-01</td>\n",
       "      <td>1275</td>\n",
       "      <td>2151</td>\n",
       "      <td>59.27</td>\n",
       "    </tr>\n",
       "    <tr>\n",
       "      <td>9</td>\n",
       "      <td>2008-08-01</td>\n",
       "      <td>2008-11-01</td>\n",
       "      <td>1050</td>\n",
       "      <td>2151</td>\n",
       "      <td>48.81</td>\n",
       "    </tr>\n",
       "    <tr>\n",
       "      <td>10</td>\n",
       "      <td>2008-08-01</td>\n",
       "      <td>2008-12-01</td>\n",
       "      <td>894</td>\n",
       "      <td>2151</td>\n",
       "      <td>41.56</td>\n",
       "    </tr>\n",
       "    <tr>\n",
       "      <td>11</td>\n",
       "      <td>2008-09-01</td>\n",
       "      <td>2008-09-01</td>\n",
       "      <td>7678</td>\n",
       "      <td>7678</td>\n",
       "      <td>100.00</td>\n",
       "    </tr>\n",
       "    <tr>\n",
       "      <td>12</td>\n",
       "      <td>2008-09-01</td>\n",
       "      <td>2008-10-01</td>\n",
       "      <td>4132</td>\n",
       "      <td>7678</td>\n",
       "      <td>53.82</td>\n",
       "    </tr>\n",
       "    <tr>\n",
       "      <td>13</td>\n",
       "      <td>2008-09-01</td>\n",
       "      <td>2008-11-01</td>\n",
       "      <td>2966</td>\n",
       "      <td>7678</td>\n",
       "      <td>38.63</td>\n",
       "    </tr>\n",
       "    <tr>\n",
       "      <td>14</td>\n",
       "      <td>2008-09-01</td>\n",
       "      <td>2008-12-01</td>\n",
       "      <td>2500</td>\n",
       "      <td>7678</td>\n",
       "      <td>32.56</td>\n",
       "    </tr>\n",
       "    <tr>\n",
       "      <td>15</td>\n",
       "      <td>2008-10-01</td>\n",
       "      <td>2008-10-01</td>\n",
       "      <td>3629</td>\n",
       "      <td>3629</td>\n",
       "      <td>100.00</td>\n",
       "    </tr>\n",
       "    <tr>\n",
       "      <td>16</td>\n",
       "      <td>2008-10-01</td>\n",
       "      <td>2008-11-01</td>\n",
       "      <td>1640</td>\n",
       "      <td>3629</td>\n",
       "      <td>45.19</td>\n",
       "    </tr>\n",
       "    <tr>\n",
       "      <td>17</td>\n",
       "      <td>2008-10-01</td>\n",
       "      <td>2008-12-01</td>\n",
       "      <td>1221</td>\n",
       "      <td>3629</td>\n",
       "      <td>33.65</td>\n",
       "    </tr>\n",
       "    <tr>\n",
       "      <td>18</td>\n",
       "      <td>2008-11-01</td>\n",
       "      <td>2008-11-01</td>\n",
       "      <td>2852</td>\n",
       "      <td>2852</td>\n",
       "      <td>100.00</td>\n",
       "    </tr>\n",
       "    <tr>\n",
       "      <td>19</td>\n",
       "      <td>2008-11-01</td>\n",
       "      <td>2008-12-01</td>\n",
       "      <td>1151</td>\n",
       "      <td>2852</td>\n",
       "      <td>40.36</td>\n",
       "    </tr>\n",
       "    <tr>\n",
       "      <td>20</td>\n",
       "      <td>2008-12-01</td>\n",
       "      <td>2008-12-01</td>\n",
       "      <td>2536</td>\n",
       "      <td>2536</td>\n",
       "      <td>100.00</td>\n",
       "    </tr>\n",
       "  </tbody>\n",
       "</table>\n",
       "</div>"
      ],
      "text/plain": [
       "    cohort_dt session_date  users_cnt  cohort_users_cnt  retention_rate\n",
       "0  2008-07-01   2008-07-01          3                 3          100.00\n",
       "1  2008-07-01   2008-08-01          2                 3           66.67\n",
       "2  2008-07-01   2008-09-01          1                 3           33.33\n",
       "3  2008-07-01   2008-10-01          2                 3           66.67\n",
       "4  2008-07-01   2008-11-01          1                 3           33.33\n",
       "5  2008-07-01   2008-12-01          2                 3           66.67\n",
       "6  2008-08-01   2008-08-01       2151              2151          100.00\n",
       "7  2008-08-01   2008-09-01       1571              2151           73.04\n",
       "8  2008-08-01   2008-10-01       1275              2151           59.27\n",
       "9  2008-08-01   2008-11-01       1050              2151           48.81\n",
       "10 2008-08-01   2008-12-01        894              2151           41.56\n",
       "11 2008-09-01   2008-09-01       7678              7678          100.00\n",
       "12 2008-09-01   2008-10-01       4132              7678           53.82\n",
       "13 2008-09-01   2008-11-01       2966              7678           38.63\n",
       "14 2008-09-01   2008-12-01       2500              7678           32.56\n",
       "15 2008-10-01   2008-10-01       3629              3629          100.00\n",
       "16 2008-10-01   2008-11-01       1640              3629           45.19\n",
       "17 2008-10-01   2008-12-01       1221              3629           33.65\n",
       "18 2008-11-01   2008-11-01       2852              2852          100.00\n",
       "19 2008-11-01   2008-12-01       1151              2852           40.36\n",
       "20 2008-12-01   2008-12-01       2536              2536          100.00"
      ]
     },
     "execution_count": 24,
     "metadata": {},
     "output_type": "execute_result"
    }
   ],
   "source": [
    "task_8"
   ]
  },
  {
   "cell_type": "markdown",
   "metadata": {
    "id": "_msBtnb2DWLC"
   },
   "source": [
    "Постройте тепловую карту Retention Rate. Какие аномалии или другие необычные явления удалось выявить? Сформулируйте гипотезы о возможных причинах."
   ]
  },
  {
   "cell_type": "code",
   "execution_count": 25,
   "metadata": {
    "id": "qAEJc8H1DWLC"
   },
   "outputs": [],
   "source": [
    "# постройте тепловую карту Retention Rate"
   ]
  },
  {
   "cell_type": "code",
   "execution_count": 26,
   "metadata": {},
   "outputs": [],
   "source": [
    "import seaborn as sns\n",
    "import pandas as pd\n",
    "import numpy as np"
   ]
  },
  {
   "cell_type": "code",
   "execution_count": 36,
   "metadata": {},
   "outputs": [
    {
     "data": {
      "text/plain": [
       "Text(0.5, 15.0, 'Лайфтайм')"
      ]
     },
     "execution_count": 36,
     "metadata": {},
     "output_type": "execute_result"
    },
    {
     "data": {
      "image/png": "[encoded data removed]",
      "text/plain": [
       "<Figure size 432x288 with 2 Axes>"
      ]
     },
     "metadata": {
      "needs_background": "light"
     },
     "output_type": "display_data"
    }
   ],
   "source": [
    "retention = task_8.pivot('cohort_dt', 'session_date', 'retention_rate')\n",
    "retention.index = [str(x)[0:10] for x in retention.index]\n",
    "retention.columns = [str(x)[0:10] for x in retention.columns]\n",
    "# Default heatmap\n",
    "\n",
    "retention_rate_hm = sns.heatmap(retention, annot=True, fmt='.0f', annot_kws={\"size\": 10})\n",
    "\n",
    "# Название графика и осей\n",
    "retention_rate_hm.set_title(\"Тепловая карта Retention Rate\")\n",
    "retention_rate_hm.set_ylabel(\"Когорта\")\n",
    "retention_rate_hm.set_xlabel('Лайфтайм')\n"
   ]
  },
  {
   "cell_type": "markdown",
   "metadata": {},
   "source": [
    "Retention Rate у первой когорты (июльская) скачет. То есть пользователи из первой когорты нестабильно возвращались к написанию постов на сервисе.\n",
    "При этом все остальные когорты, как и происходит в большинстве случаев, потихоньку уходили из сервиса. С каждым месяцем возвращалось все меньше и меньше пользователей.\n",
    "\n",
    "\n",
    "**С чем связана особенность первой когорты?**\n",
    "В итоговой таблице видим, что в первую когорту вошли только лишь 3 пользователя, так как сервис только запустился. \n",
    "Поэтому приход/уход каждого пользователя из первой когорты дает слишком сильное изменение показателя. \n",
    "\n",
    "Для дальнейшего анализа первую когорту можно отбросить из-за маленькой выборки."
   ]
  },
  {
   "cell_type": "markdown",
   "metadata": {},
   "source": [
    "<hr style=\"border: 2px solid green;\" />"
   ]
  },
  {
   "cell_type": "markdown",
   "metadata": {
    "id": "1k7oPWt5DWLK"
   },
   "source": [
    "# Задание 9\n"
   ]
  },
  {
   "cell_type": "markdown",
   "metadata": {
    "id": "ALsYVSyRDWLM"
   },
   "source": [
    "На сколько процентов менялось количество постов ежемесячно с 1 сентября по 31 декабря 2008 года? Отобразите таблицу со следующими полями:\n",
    "\n",
    "- номер месяца;\n",
    "- количество постов за месяц;\n",
    "- процент, который показывает, насколько изменилось количество постов в текущем месяце по сравнению с предыдущим.\n",
    "\n",
    "Если постов стало меньше, значение процента должно быть отрицательным, если больше — положительным. Округлите значение процента до двух знаков после запятой.\n",
    "\n",
    "Напомним, что при делении одного целого числа на другое в PostgreSQL в результате получится целое число, округлённое до ближайшего целого вниз. Чтобы этого избежать, переведите делимое в тип `numeric`."
   ]
  },
  {
   "cell_type": "code",
   "execution_count": 29,
   "metadata": {
    "id": "Mb5pShStDWLN",
    "jupyter": {
     "source_hidden": true
    },
    "tags": []
   },
   "outputs": [],
   "source": [
    "# напишите запрос\n",
    "query = '''\n",
    "WITH cnt AS \n",
    "(SELECT DATE_TRUNC('month', creation_date)::date AS creation_month,\n",
    "       COUNT(id) posts_count\n",
    "FROM stackoverflow.posts\n",
    "WHERE creation_date::date BETWEEN '2008-09-01' AND '2008-12-31'\n",
    "GROUP BY creation_month),\n",
    "\n",
    "prev_cnt AS \n",
    "(SELECT EXTRACT('month' from creation_month)::integer creation_month, posts_count, \n",
    "        LAG(posts_count) OVER(ORDER BY creation_month) previous_count\n",
    "FROM cnt)\n",
    "\n",
    "SELECT creation_month, posts_count,\n",
    "       ROUND((((posts_count::numeric - previous_count::numeric) / previous_count)*100), 2) AS percentage\n",
    "FROM prev_cnt\n",
    "'''\n",
    "task_9 = pd.read_sql_query(query, con=engine) \n",
    "\n",
    "# выполните запрос"
   ]
  },
  {
   "cell_type": "code",
   "execution_count": 30,
   "metadata": {},
   "outputs": [
    {
     "data": {
      "text/html": [
       "<div>\n",
       "<style scoped>\n",
       "    .dataframe tbody tr th:only-of-type {\n",
       "        vertical-align: middle;\n",
       "    }\n",
       "\n",
       "    .dataframe tbody tr th {\n",
       "        vertical-align: top;\n",
       "    }\n",
       "\n",
       "    .dataframe thead th {\n",
       "        text-align: right;\n",
       "    }\n",
       "</style>\n",
       "<table border=\"1\" class=\"dataframe\">\n",
       "  <thead>\n",
       "    <tr style=\"text-align: right;\">\n",
       "      <th></th>\n",
       "      <th>creation_month</th>\n",
       "      <th>posts_count</th>\n",
       "      <th>percentage</th>\n",
       "    </tr>\n",
       "  </thead>\n",
       "  <tbody>\n",
       "    <tr>\n",
       "      <td>0</td>\n",
       "      <td>9</td>\n",
       "      <td>70371</td>\n",
       "      <td>NaN</td>\n",
       "    </tr>\n",
       "    <tr>\n",
       "      <td>1</td>\n",
       "      <td>10</td>\n",
       "      <td>63102</td>\n",
       "      <td>-10.33</td>\n",
       "    </tr>\n",
       "    <tr>\n",
       "      <td>2</td>\n",
       "      <td>11</td>\n",
       "      <td>46975</td>\n",
       "      <td>-25.56</td>\n",
       "    </tr>\n",
       "    <tr>\n",
       "      <td>3</td>\n",
       "      <td>12</td>\n",
       "      <td>44592</td>\n",
       "      <td>-5.07</td>\n",
       "    </tr>\n",
       "  </tbody>\n",
       "</table>\n",
       "</div>"
      ],
      "text/plain": [
       "   creation_month  posts_count  percentage\n",
       "0               9        70371         NaN\n",
       "1              10        63102      -10.33\n",
       "2              11        46975      -25.56\n",
       "3              12        44592       -5.07"
      ]
     },
     "execution_count": 30,
     "metadata": {},
     "output_type": "execute_result"
    }
   ],
   "source": [
    "task_9"
   ]
  },
  {
   "cell_type": "markdown",
   "metadata": {
    "id": "9NQE2y_MDWLP"
   },
   "source": [
    "Постройте круговую диаграмму с количеством постов по месяцам."
   ]
  },
  {
   "cell_type": "code",
   "execution_count": 31,
   "metadata": {
    "id": "377ABjiVDWLP"
   },
   "outputs": [
    {
     "data": {
      "text/plain": [
       "Text(0.5, 1.0, 'Количество постов по месяцам в 2008 году')"
      ]
     },
     "execution_count": 31,
     "metadata": {},
     "output_type": "execute_result"
    },
    {
     "data": {
      "image/png": "[encoded data removed]",
      "text/plain": [
       "<Figure size 432x288 with 1 Axes>"
      ]
     },
     "metadata": {},
     "output_type": "display_data"
    }
   ],
   "source": [
    "# постройте круговую диаграмму с количеством постов по месяцам\n",
    "# загружаем библиотеку\n",
    "import matplotlib.pyplot as plt\n",
    "\n",
    "\n",
    "# Создаем круговую диаграмму\n",
    "plt.pie(task_9['posts_count'], labels = task_9['creation_month'], autopct='%.0f%%')\n",
    "plt.title(\"Количество постов по месяцам в 2008 году\")\n"
   ]
  },
  {
   "cell_type": "markdown",
   "metadata": {
    "id": "uw7qMtafDWLP"
   },
   "source": [
    "# Задание 10"
   ]
  },
  {
   "cell_type": "markdown",
   "metadata": {
    "id": "oRBpWKx3DWLQ"
   },
   "source": [
    "Выгрузите данные активности пользователя, который опубликовал больше всего постов за всё время. Выведите данные за октябрь 2008 года в таком виде:\n",
    "\n",
    "- номер недели;\n",
    "- дата и время последнего поста, опубликованного на этой неделе."
   ]
  },
  {
   "cell_type": "code",
   "execution_count": 32,
   "metadata": {
    "id": "r5F5fSkwDWLQ"
   },
   "outputs": [],
   "source": [
    "# напишите запрос\n",
    "query = '''\n",
    "\n",
    "SELECT EXTRACT('week' from creation_date)::integer AS week_creation, MAX(creation_date)\n",
    "FROM stackoverflow.posts\n",
    "WHERE user_id IN (SELECT user_id\n",
    "FROM stackoverflow.posts \n",
    "GROUP BY user_id\n",
    "ORDER BY COUNT(id) DESC\n",
    "LIMIT 1) AND\n",
    "DATE_TRUNC('month', creation_date) = '2008-10-01'\n",
    "GROUP BY week_creation\n",
    "\n",
    "'''\n",
    "task_10 = pd.read_sql_query(query, con=engine) \n",
    "\n",
    "\n",
    "# выполните запрос"
   ]
  },
  {
   "cell_type": "code",
   "execution_count": 33,
   "metadata": {},
   "outputs": [
    {
     "data": {
      "text/html": [
       "<div>\n",
       "<style scoped>\n",
       "    .dataframe tbody tr th:only-of-type {\n",
       "        vertical-align: middle;\n",
       "    }\n",
       "\n",
       "    .dataframe tbody tr th {\n",
       "        vertical-align: top;\n",
       "    }\n",
       "\n",
       "    .dataframe thead th {\n",
       "        text-align: right;\n",
       "    }\n",
       "</style>\n",
       "<table border=\"1\" class=\"dataframe\">\n",
       "  <thead>\n",
       "    <tr style=\"text-align: right;\">\n",
       "      <th></th>\n",
       "      <th>week_creation</th>\n",
       "      <th>max</th>\n",
       "    </tr>\n",
       "  </thead>\n",
       "  <tbody>\n",
       "    <tr>\n",
       "      <td>0</td>\n",
       "      <td>40</td>\n",
       "      <td>2008-10-05 09:00:58</td>\n",
       "    </tr>\n",
       "    <tr>\n",
       "      <td>1</td>\n",
       "      <td>41</td>\n",
       "      <td>2008-10-12 21:22:23</td>\n",
       "    </tr>\n",
       "    <tr>\n",
       "      <td>2</td>\n",
       "      <td>42</td>\n",
       "      <td>2008-10-19 06:49:30</td>\n",
       "    </tr>\n",
       "    <tr>\n",
       "      <td>3</td>\n",
       "      <td>43</td>\n",
       "      <td>2008-10-26 21:44:36</td>\n",
       "    </tr>\n",
       "    <tr>\n",
       "      <td>4</td>\n",
       "      <td>44</td>\n",
       "      <td>2008-10-31 22:16:01</td>\n",
       "    </tr>\n",
       "  </tbody>\n",
       "</table>\n",
       "</div>"
      ],
      "text/plain": [
       "   week_creation                 max\n",
       "0             40 2008-10-05 09:00:58\n",
       "1             41 2008-10-12 21:22:23\n",
       "2             42 2008-10-19 06:49:30\n",
       "3             43 2008-10-26 21:44:36\n",
       "4             44 2008-10-31 22:16:01"
      ]
     },
     "execution_count": 33,
     "metadata": {},
     "output_type": "execute_result"
    }
   ],
   "source": [
    "task_10"
   ]
  }
 ],
 "metadata": {
  "ExecuteTimeLog": [
   {
    "duration": 675,
    "start_time": "2022-03-02T10:35:19.250Z"
   },
   {
    "duration": 4,
    "start_time": "2022-03-02T10:35:19.927Z"
   },
   {
    "duration": 31,
    "start_time": "2022-03-02T10:35:19.935Z"
   },
   {
    "duration": 236,
    "start_time": "2022-03-02T10:35:19.968Z"
   },
   {
    "duration": 13,
    "start_time": "2022-03-02T10:35:20.206Z"
   },
   {
    "duration": 8,
    "start_time": "2022-03-02T10:35:20.221Z"
   },
   {
    "duration": 6,
    "start_time": "2022-03-02T10:35:20.231Z"
   },
   {
    "duration": 4,
    "start_time": "2022-03-02T10:35:20.240Z"
   },
   {
    "duration": 10,
    "start_time": "2022-03-02T10:35:20.246Z"
   },
   {
    "duration": 6,
    "start_time": "2022-03-02T10:35:20.258Z"
   },
   {
    "duration": 7,
    "start_time": "2022-03-02T10:35:20.265Z"
   },
   {
    "duration": 7,
    "start_time": "2022-03-02T10:35:20.274Z"
   },
   {
    "duration": 8,
    "start_time": "2022-03-02T10:35:20.283Z"
   },
   {
    "duration": 3,
    "start_time": "2022-03-02T10:35:20.302Z"
   },
   {
    "duration": 8,
    "start_time": "2022-03-02T10:35:20.306Z"
   },
   {
    "duration": 6,
    "start_time": "2022-03-02T10:35:20.316Z"
   },
   {
    "duration": 8,
    "start_time": "2022-03-02T10:35:20.323Z"
   },
   {
    "duration": 8,
    "start_time": "2022-03-02T10:35:20.333Z"
   },
   {
    "duration": 7,
    "start_time": "2022-03-02T10:35:20.343Z"
   },
   {
    "duration": 7,
    "start_time": "2022-03-02T10:35:20.352Z"
   },
   {
    "duration": 7,
    "start_time": "2022-03-02T10:35:20.360Z"
   },
   {
    "duration": 14,
    "start_time": "2022-03-02T10:35:20.368Z"
   },
   {
    "duration": 293,
    "start_time": "2022-03-02T16:39:00.588Z"
   },
   {
    "duration": 110,
    "start_time": "2022-03-02T16:39:28.543Z"
   },
   {
    "duration": 9,
    "start_time": "2022-03-02T16:39:30.205Z"
   },
   {
    "duration": 109,
    "start_time": "2022-03-02T16:39:55.631Z"
   },
   {
    "duration": 7,
    "start_time": "2022-03-02T16:39:56.372Z"
   },
   {
    "duration": 58,
    "start_time": "2022-03-02T16:41:56.959Z"
   },
   {
    "duration": 371,
    "start_time": "2022-03-03T08:41:26.335Z"
   },
   {
    "duration": 670,
    "start_time": "2022-03-03T08:41:36.030Z"
   },
   {
    "duration": 3,
    "start_time": "2022-03-03T08:41:36.702Z"
   },
   {
    "duration": 27,
    "start_time": "2022-03-03T08:41:36.707Z"
   },
   {
    "duration": 25,
    "start_time": "2022-03-03T08:41:36.736Z"
   },
   {
    "duration": 14,
    "start_time": "2022-03-03T08:41:36.763Z"
   },
   {
    "duration": 75,
    "start_time": "2022-03-03T08:41:36.779Z"
   },
   {
    "duration": 5,
    "start_time": "2022-03-03T08:41:36.856Z"
   },
   {
    "duration": 371,
    "start_time": "2022-03-03T08:41:36.863Z"
   },
   {
    "duration": 156,
    "start_time": "2022-03-03T08:41:37.080Z"
   },
   {
    "duration": 153,
    "start_time": "2022-03-03T08:41:37.084Z"
   },
   {
    "duration": 152,
    "start_time": "2022-03-03T08:41:37.086Z"
   },
   {
    "duration": 152,
    "start_time": "2022-03-03T08:41:37.087Z"
   },
   {
    "duration": 150,
    "start_time": "2022-03-03T08:41:37.089Z"
   },
   {
    "duration": 149,
    "start_time": "2022-03-03T08:41:37.091Z"
   },
   {
    "duration": 149,
    "start_time": "2022-03-03T08:41:37.092Z"
   },
   {
    "duration": 148,
    "start_time": "2022-03-03T08:41:37.094Z"
   },
   {
    "duration": 148,
    "start_time": "2022-03-03T08:41:37.095Z"
   },
   {
    "duration": 147,
    "start_time": "2022-03-03T08:41:37.097Z"
   },
   {
    "duration": 146,
    "start_time": "2022-03-03T08:41:37.099Z"
   },
   {
    "duration": 145,
    "start_time": "2022-03-03T08:41:37.101Z"
   },
   {
    "duration": 145,
    "start_time": "2022-03-03T08:41:37.102Z"
   },
   {
    "duration": 142,
    "start_time": "2022-03-03T08:41:37.105Z"
   },
   {
    "duration": 166,
    "start_time": "2022-03-03T08:41:56.200Z"
   },
   {
    "duration": 8,
    "start_time": "2022-03-03T08:42:04.517Z"
   },
   {
    "duration": 145,
    "start_time": "2022-03-03T08:42:22.021Z"
   },
   {
    "duration": 8,
    "start_time": "2022-03-03T08:42:22.979Z"
   },
   {
    "duration": 738,
    "start_time": "2022-03-03T12:15:42.552Z"
   },
   {
    "duration": 4,
    "start_time": "2022-03-03T12:15:43.292Z"
   },
   {
    "duration": 27,
    "start_time": "2022-03-03T12:15:43.298Z"
   },
   {
    "duration": 173,
    "start_time": "2022-03-03T12:15:43.328Z"
   },
   {
    "duration": 13,
    "start_time": "2022-03-03T12:15:43.503Z"
   },
   {
    "duration": 93,
    "start_time": "2022-03-03T12:15:43.518Z"
   },
   {
    "duration": 6,
    "start_time": "2022-03-03T12:15:43.613Z"
   },
   {
    "duration": 340,
    "start_time": "2022-03-03T12:15:43.621Z"
   },
   {
    "duration": 741,
    "start_time": "2022-03-03T12:15:43.223Z"
   },
   {
    "duration": 740,
    "start_time": "2022-03-03T12:15:43.225Z"
   },
   {
    "duration": 739,
    "start_time": "2022-03-03T12:15:43.227Z"
   },
   {
    "duration": 737,
    "start_time": "2022-03-03T12:15:43.229Z"
   },
   {
    "duration": 736,
    "start_time": "2022-03-03T12:15:43.231Z"
   },
   {
    "duration": 735,
    "start_time": "2022-03-03T12:15:43.233Z"
   },
   {
    "duration": 734,
    "start_time": "2022-03-03T12:15:43.235Z"
   },
   {
    "duration": 733,
    "start_time": "2022-03-03T12:15:43.237Z"
   },
   {
    "duration": 733,
    "start_time": "2022-03-03T12:15:43.238Z"
   },
   {
    "duration": 732,
    "start_time": "2022-03-03T12:15:43.240Z"
   },
   {
    "duration": 731,
    "start_time": "2022-03-03T12:15:43.242Z"
   },
   {
    "duration": 731,
    "start_time": "2022-03-03T12:15:43.243Z"
   },
   {
    "duration": 730,
    "start_time": "2022-03-03T12:15:43.245Z"
   },
   {
    "duration": 728,
    "start_time": "2022-03-03T12:15:43.248Z"
   },
   {
    "duration": 727,
    "start_time": "2022-03-03T12:15:43.250Z"
   },
   {
    "duration": 234,
    "start_time": "2022-03-03T12:15:53.068Z"
   },
   {
    "duration": 9,
    "start_time": "2022-03-03T12:15:53.770Z"
   },
   {
    "duration": 671,
    "start_time": "2022-03-03T19:06:59.906Z"
   },
   {
    "duration": 4,
    "start_time": "2022-03-03T19:07:00.578Z"
   },
   {
    "duration": 35,
    "start_time": "2022-03-03T19:07:00.584Z"
   },
   {
    "duration": 255,
    "start_time": "2022-03-03T19:07:00.621Z"
   },
   {
    "duration": 12,
    "start_time": "2022-03-03T19:07:00.878Z"
   },
   {
    "duration": 112,
    "start_time": "2022-03-03T19:07:00.892Z"
   },
   {
    "duration": 8,
    "start_time": "2022-03-03T19:07:01.006Z"
   },
   {
    "duration": 292,
    "start_time": "2022-03-03T19:07:01.016Z"
   },
   {
    "duration": 460,
    "start_time": "2022-03-03T19:07:00.852Z"
   },
   {
    "duration": 459,
    "start_time": "2022-03-03T19:07:00.854Z"
   },
   {
    "duration": 459,
    "start_time": "2022-03-03T19:07:00.855Z"
   },
   {
    "duration": 459,
    "start_time": "2022-03-03T19:07:00.857Z"
   },
   {
    "duration": 459,
    "start_time": "2022-03-03T19:07:00.858Z"
   },
   {
    "duration": 458,
    "start_time": "2022-03-03T19:07:00.861Z"
   },
   {
    "duration": 452,
    "start_time": "2022-03-03T19:07:00.868Z"
   },
   {
    "duration": 452,
    "start_time": "2022-03-03T19:07:00.870Z"
   },
   {
    "duration": 451,
    "start_time": "2022-03-03T19:07:00.872Z"
   },
   {
    "duration": 450,
    "start_time": "2022-03-03T19:07:00.874Z"
   },
   {
    "duration": 451,
    "start_time": "2022-03-03T19:07:00.875Z"
   },
   {
    "duration": 449,
    "start_time": "2022-03-03T19:07:00.878Z"
   },
   {
    "duration": 444,
    "start_time": "2022-03-03T19:07:00.884Z"
   },
   {
    "duration": 442,
    "start_time": "2022-03-03T19:07:00.887Z"
   },
   {
    "duration": 441,
    "start_time": "2022-03-03T19:07:00.890Z"
   },
   {
    "duration": 161,
    "start_time": "2022-03-03T19:07:14.532Z"
   },
   {
    "duration": 9,
    "start_time": "2022-03-03T19:07:15.451Z"
   },
   {
    "duration": 14,
    "start_time": "2022-03-03T19:09:00.437Z"
   },
   {
    "duration": 11,
    "start_time": "2022-03-03T19:09:31.750Z"
   },
   {
    "duration": 12,
    "start_time": "2022-03-03T19:10:02.165Z"
   },
   {
    "duration": 145,
    "start_time": "2022-03-03T19:11:40.886Z"
   },
   {
    "duration": 154,
    "start_time": "2022-03-03T19:11:44.104Z"
   },
   {
    "duration": 149,
    "start_time": "2022-03-03T19:11:54.876Z"
   },
   {
    "duration": 12,
    "start_time": "2022-03-03T19:12:00.211Z"
   },
   {
    "duration": 10,
    "start_time": "2022-03-03T19:12:05.043Z"
   },
   {
    "duration": 6,
    "start_time": "2022-03-03T19:12:18.665Z"
   },
   {
    "duration": 7,
    "start_time": "2022-03-03T19:12:37.093Z"
   },
   {
    "duration": 6,
    "start_time": "2022-03-03T19:12:48.722Z"
   },
   {
    "duration": 133,
    "start_time": "2022-03-03T19:14:11.794Z"
   },
   {
    "duration": 11,
    "start_time": "2022-03-03T19:14:15.797Z"
   },
   {
    "duration": 10,
    "start_time": "2022-03-03T19:14:24.652Z"
   },
   {
    "duration": 10,
    "start_time": "2022-03-03T19:15:27.196Z"
   },
   {
    "duration": 11,
    "start_time": "2022-03-03T19:18:59.598Z"
   },
   {
    "duration": 113,
    "start_time": "2022-03-03T19:31:48.994Z"
   },
   {
    "duration": 7,
    "start_time": "2022-03-03T19:31:51.005Z"
   },
   {
    "duration": 47,
    "start_time": "2022-03-03T21:27:11.993Z"
   },
   {
    "duration": 176,
    "start_time": "2022-03-03T21:32:36.661Z"
   },
   {
    "duration": 175,
    "start_time": "2022-03-03T21:34:17.474Z"
   },
   {
    "duration": 8,
    "start_time": "2022-03-03T21:34:29.439Z"
   },
   {
    "duration": 205,
    "start_time": "2022-03-03T21:34:57.547Z"
   },
   {
    "duration": 228,
    "start_time": "2022-03-03T21:35:11.684Z"
   },
   {
    "duration": 116,
    "start_time": "2022-03-03T21:35:19.329Z"
   },
   {
    "duration": 79,
    "start_time": "2022-03-03T21:35:19.789Z"
   },
   {
    "duration": 9,
    "start_time": "2022-03-03T21:35:20.271Z"
   },
   {
    "duration": 50,
    "start_time": "2022-03-03T21:36:11.923Z"
   },
   {
    "duration": 2,
    "start_time": "2022-03-03T21:37:09.844Z"
   },
   {
    "duration": 184,
    "start_time": "2022-03-03T21:37:32.211Z"
   },
   {
    "duration": 99,
    "start_time": "2022-03-03T21:37:43.788Z"
   },
   {
    "duration": 6,
    "start_time": "2022-03-03T21:37:46.153Z"
   },
   {
    "duration": 98,
    "start_time": "2022-03-03T21:38:06.818Z"
   },
   {
    "duration": 6,
    "start_time": "2022-03-03T21:38:07.964Z"
   },
   {
    "duration": 2,
    "start_time": "2022-03-03T21:47:19.713Z"
   },
   {
    "duration": 186,
    "start_time": "2022-03-03T21:47:42.709Z"
   },
   {
    "duration": 917,
    "start_time": "2022-03-03T21:48:09.352Z"
   },
   {
    "duration": 11,
    "start_time": "2022-03-03T21:48:16.891Z"
   },
   {
    "duration": 9,
    "start_time": "2022-03-03T21:48:54.263Z"
   },
   {
    "duration": 9,
    "start_time": "2022-03-03T21:49:01.556Z"
   },
   {
    "duration": 3,
    "start_time": "2022-03-03T21:53:40.023Z"
   },
   {
    "duration": 3,
    "start_time": "2022-03-03T22:00:23.466Z"
   },
   {
    "duration": 211,
    "start_time": "2022-03-03T22:00:35.031Z"
   },
   {
    "duration": 180,
    "start_time": "2022-03-03T22:03:04.023Z"
   },
   {
    "duration": 116,
    "start_time": "2022-03-03T22:03:16.947Z"
   },
   {
    "duration": 11,
    "start_time": "2022-03-03T22:03:25.137Z"
   },
   {
    "duration": 100,
    "start_time": "2022-03-03T22:15:13.350Z"
   },
   {
    "duration": 7,
    "start_time": "2022-03-03T22:15:14.206Z"
   },
   {
    "duration": 184,
    "start_time": "2022-03-03T22:16:28.944Z"
   },
   {
    "duration": 91,
    "start_time": "2022-03-03T22:17:25.257Z"
   },
   {
    "duration": 91,
    "start_time": "2022-03-03T22:17:27.175Z"
   },
   {
    "duration": 7,
    "start_time": "2022-03-03T22:17:28.287Z"
   },
   {
    "duration": 1267,
    "start_time": "2022-03-04T13:21:31.313Z"
   },
   {
    "duration": 6,
    "start_time": "2022-03-04T13:21:32.584Z"
   },
   {
    "duration": 56,
    "start_time": "2022-03-04T13:21:32.594Z"
   },
   {
    "duration": 195,
    "start_time": "2022-03-04T13:21:32.654Z"
   },
   {
    "duration": 29,
    "start_time": "2022-03-04T13:21:32.852Z"
   },
   {
    "duration": 105,
    "start_time": "2022-03-04T13:21:32.884Z"
   },
   {
    "duration": 12,
    "start_time": "2022-03-04T13:21:32.993Z"
   },
   {
    "duration": 166,
    "start_time": "2022-03-04T13:21:33.008Z"
   },
   {
    "duration": 15,
    "start_time": "2022-03-04T13:21:33.179Z"
   },
   {
    "duration": 19,
    "start_time": "2022-03-04T13:21:33.198Z"
   },
   {
    "duration": 15,
    "start_time": "2022-03-04T13:21:33.220Z"
   },
   {
    "duration": 94,
    "start_time": "2022-03-04T13:21:33.238Z"
   },
   {
    "duration": 10,
    "start_time": "2022-03-04T13:21:33.335Z"
   },
   {
    "duration": 1292,
    "start_time": "2022-03-04T13:21:33.348Z"
   },
   {
    "duration": 13,
    "start_time": "2022-03-04T13:21:34.643Z"
   },
   {
    "duration": 88,
    "start_time": "2022-03-04T13:21:34.659Z"
   },
   {
    "duration": 8,
    "start_time": "2022-03-04T13:21:34.750Z"
   },
   {
    "duration": 6,
    "start_time": "2022-03-04T13:21:34.760Z"
   },
   {
    "duration": 10,
    "start_time": "2022-03-04T13:21:34.768Z"
   },
   {
    "duration": 31,
    "start_time": "2022-03-04T13:21:34.781Z"
   },
   {
    "duration": 9,
    "start_time": "2022-03-04T13:21:34.815Z"
   },
   {
    "duration": 21,
    "start_time": "2022-03-04T13:21:34.827Z"
   },
   {
    "duration": 17,
    "start_time": "2022-03-04T13:21:34.850Z"
   },
   {
    "duration": 10,
    "start_time": "2022-03-04T13:21:34.869Z"
   },
   {
    "duration": 14,
    "start_time": "2022-03-04T13:21:34.881Z"
   },
   {
    "duration": 10,
    "start_time": "2022-03-04T13:21:34.898Z"
   },
   {
    "duration": 478,
    "start_time": "2022-03-04T13:25:57.349Z"
   },
   {
    "duration": 357,
    "start_time": "2022-03-04T13:26:09.835Z"
   },
   {
    "duration": 88,
    "start_time": "2022-03-04T13:26:32.775Z"
   },
   {
    "duration": 14,
    "start_time": "2022-03-04T13:26:33.482Z"
   },
   {
    "duration": 304,
    "start_time": "2022-03-04T13:28:19.560Z"
   },
   {
    "duration": 646,
    "start_time": "2022-03-04T13:28:19.221Z"
   },
   {
    "duration": 70,
    "start_time": "2022-03-04T13:28:31.536Z"
   },
   {
    "duration": 12,
    "start_time": "2022-03-04T13:28:33.346Z"
   },
   {
    "duration": 297,
    "start_time": "2022-03-04T13:29:15.419Z"
   },
   {
    "duration": 84,
    "start_time": "2022-03-04T13:30:27.560Z"
   },
   {
    "duration": 12,
    "start_time": "2022-03-04T13:30:28.481Z"
   },
   {
    "duration": 55,
    "start_time": "2022-03-04T13:30:39.865Z"
   },
   {
    "duration": 9,
    "start_time": "2022-03-04T13:30:40.707Z"
   },
   {
    "duration": 54,
    "start_time": "2022-03-04T13:30:55.124Z"
   },
   {
    "duration": 8,
    "start_time": "2022-03-04T13:30:55.561Z"
   },
   {
    "duration": 53,
    "start_time": "2022-03-04T13:31:16.552Z"
   },
   {
    "duration": 8,
    "start_time": "2022-03-04T13:31:22.013Z"
   },
   {
    "duration": 866,
    "start_time": "2022-03-04T13:41:31.458Z"
   },
   {
    "duration": 13,
    "start_time": "2022-03-04T13:41:37.229Z"
   },
   {
    "duration": 3,
    "start_time": "2022-03-04T15:45:19.428Z"
   },
   {
    "duration": 309,
    "start_time": "2022-03-04T15:50:56.981Z"
   },
   {
    "duration": 87,
    "start_time": "2022-03-04T15:51:28.812Z"
   },
   {
    "duration": 304,
    "start_time": "2022-03-04T15:51:34.496Z"
   },
   {
    "duration": 323,
    "start_time": "2022-03-04T15:51:54.642Z"
   },
   {
    "duration": 163,
    "start_time": "2022-03-04T15:52:14.996Z"
   },
   {
    "duration": 15,
    "start_time": "2022-03-04T15:52:22.709Z"
   },
   {
    "duration": 4,
    "start_time": "2022-03-04T15:57:37.346Z"
   },
   {
    "duration": 302,
    "start_time": "2022-03-04T15:57:44.787Z"
   },
   {
    "duration": 355,
    "start_time": "2022-03-04T15:58:04.255Z"
   },
   {
    "duration": 16,
    "start_time": "2022-03-04T15:58:10.673Z"
   },
   {
    "duration": 243,
    "start_time": "2022-03-04T15:59:00.631Z"
   },
   {
    "duration": 17,
    "start_time": "2022-03-04T15:59:06.025Z"
   },
   {
    "duration": 369,
    "start_time": "2022-03-04T16:10:33.339Z"
   },
   {
    "duration": 316,
    "start_time": "2022-03-04T16:10:46.134Z"
   },
   {
    "duration": 15,
    "start_time": "2022-03-04T16:10:46.681Z"
   },
   {
    "duration": 364,
    "start_time": "2022-03-04T16:10:59.613Z"
   },
   {
    "duration": 23,
    "start_time": "2022-03-04T16:11:01.797Z"
   },
   {
    "duration": 610,
    "start_time": "2022-03-04T16:14:38.515Z"
   },
   {
    "duration": 335,
    "start_time": "2022-03-04T16:14:58.697Z"
   },
   {
    "duration": 287,
    "start_time": "2022-03-04T16:15:03.439Z"
   },
   {
    "duration": 380,
    "start_time": "2022-03-04T16:15:07.431Z"
   },
   {
    "duration": 15,
    "start_time": "2022-03-04T16:15:08.908Z"
   },
   {
    "duration": 276,
    "start_time": "2022-03-04T16:15:11.466Z"
   },
   {
    "duration": 271,
    "start_time": "2022-03-04T17:01:58.770Z"
   },
   {
    "duration": 74,
    "start_time": "2022-03-04T17:02:07.070Z"
   },
   {
    "duration": 14,
    "start_time": "2022-03-04T17:02:09.530Z"
   },
   {
    "duration": 453,
    "start_time": "2022-03-04T17:02:37.205Z"
   },
   {
    "duration": 473,
    "start_time": "2022-03-04T17:03:08.920Z"
   },
   {
    "duration": 466,
    "start_time": "2022-03-04T17:03:19.942Z"
   },
   {
    "duration": 3,
    "start_time": "2022-03-04T17:12:44.859Z"
   },
   {
    "duration": 336,
    "start_time": "2022-03-04T17:21:06.258Z"
   },
   {
    "duration": 317,
    "start_time": "2022-03-04T17:21:13.566Z"
   },
   {
    "duration": 86,
    "start_time": "2022-03-04T17:21:51.531Z"
   },
   {
    "duration": 12,
    "start_time": "2022-03-04T17:21:58.486Z"
   },
   {
    "duration": 308,
    "start_time": "2022-03-04T18:24:32.902Z"
   },
   {
    "duration": 314,
    "start_time": "2022-03-04T18:24:43.349Z"
   },
   {
    "duration": 302,
    "start_time": "2022-03-04T18:25:21.876Z"
   },
   {
    "duration": 320,
    "start_time": "2022-03-04T18:25:30.871Z"
   },
   {
    "duration": 303,
    "start_time": "2022-03-04T18:34:53.145Z"
   },
   {
    "duration": 78,
    "start_time": "2022-03-04T18:35:09.265Z"
   },
   {
    "duration": 13,
    "start_time": "2022-03-04T18:35:13.407Z"
   },
   {
    "duration": 100,
    "start_time": "2022-03-04T18:36:26.999Z"
   },
   {
    "duration": 82,
    "start_time": "2022-03-04T18:36:41.475Z"
   },
   {
    "duration": 4,
    "start_time": "2022-03-04T18:37:01.545Z"
   },
   {
    "duration": 306,
    "start_time": "2022-03-04T18:37:08.626Z"
   },
   {
    "duration": 84,
    "start_time": "2022-03-04T18:37:19.611Z"
   },
   {
    "duration": 10,
    "start_time": "2022-03-04T18:37:21.262Z"
   },
   {
    "duration": 303,
    "start_time": "2022-03-04T18:38:27.950Z"
   },
   {
    "duration": 315,
    "start_time": "2022-03-04T18:38:43.273Z"
   },
   {
    "duration": 85,
    "start_time": "2022-03-04T18:38:54.878Z"
   },
   {
    "duration": 79,
    "start_time": "2022-03-04T18:39:01.168Z"
   },
   {
    "duration": 9,
    "start_time": "2022-03-04T18:39:03.372Z"
   },
   {
    "duration": 81,
    "start_time": "2022-03-04T18:39:39.030Z"
   },
   {
    "duration": 10,
    "start_time": "2022-03-04T18:39:42.805Z"
   },
   {
    "duration": 83,
    "start_time": "2022-03-04T18:41:23.983Z"
   },
   {
    "duration": 10,
    "start_time": "2022-03-04T18:41:26.574Z"
   },
   {
    "duration": 78,
    "start_time": "2022-03-04T18:41:45.685Z"
   },
   {
    "duration": 11,
    "start_time": "2022-03-04T18:41:47.998Z"
   },
   {
    "duration": 85,
    "start_time": "2022-03-04T18:41:57.624Z"
   },
   {
    "duration": 10,
    "start_time": "2022-03-04T18:41:58.851Z"
   },
   {
    "duration": 316,
    "start_time": "2022-03-04T18:42:08.012Z"
   },
   {
    "duration": 81,
    "start_time": "2022-03-04T18:42:13.537Z"
   },
   {
    "duration": 13,
    "start_time": "2022-03-04T18:42:15.798Z"
   },
   {
    "duration": 82,
    "start_time": "2022-03-04T18:44:44.394Z"
   },
   {
    "duration": 10,
    "start_time": "2022-03-04T18:44:46.768Z"
   },
   {
    "duration": 90,
    "start_time": "2022-03-04T18:44:51.586Z"
   },
   {
    "duration": 12,
    "start_time": "2022-03-04T18:44:53.636Z"
   },
   {
    "duration": 364,
    "start_time": "2022-03-04T18:45:14.901Z"
   },
   {
    "duration": 87,
    "start_time": "2022-03-04T18:45:24.297Z"
   },
   {
    "duration": 10,
    "start_time": "2022-03-04T18:45:26.242Z"
   },
   {
    "duration": 79,
    "start_time": "2022-03-04T18:45:35.448Z"
   },
   {
    "duration": 10,
    "start_time": "2022-03-04T18:45:37.615Z"
   },
   {
    "duration": 80,
    "start_time": "2022-03-04T18:56:50.944Z"
   },
   {
    "duration": 10,
    "start_time": "2022-03-04T18:56:52.866Z"
   },
   {
    "duration": 78,
    "start_time": "2022-03-04T18:57:06.943Z"
   },
   {
    "duration": 10,
    "start_time": "2022-03-04T18:57:09.136Z"
   },
   {
    "duration": 89,
    "start_time": "2022-03-04T18:59:29.400Z"
   },
   {
    "duration": 362,
    "start_time": "2022-03-04T19:00:55.453Z"
   },
   {
    "duration": 100,
    "start_time": "2022-03-04T19:02:28.127Z"
   },
   {
    "duration": 114,
    "start_time": "2022-03-04T19:03:23.202Z"
   },
   {
    "duration": 429,
    "start_time": "2022-03-04T19:04:52.791Z"
   },
   {
    "duration": 467,
    "start_time": "2022-03-04T19:05:08.843Z"
   },
   {
    "duration": 413,
    "start_time": "2022-03-04T19:05:16.071Z"
   },
   {
    "duration": 141,
    "start_time": "2022-03-04T19:08:19.279Z"
   },
   {
    "duration": 227,
    "start_time": "2022-03-04T19:09:00.436Z"
   },
   {
    "duration": 4,
    "start_time": "2022-03-04T19:12:57.494Z"
   },
   {
    "duration": 4,
    "start_time": "2022-03-04T19:17:30.871Z"
   },
   {
    "duration": 87,
    "start_time": "2022-03-04T19:17:45.955Z"
   },
   {
    "duration": 10,
    "start_time": "2022-03-04T19:17:51.349Z"
   },
   {
    "duration": 4,
    "start_time": "2022-03-04T19:36:00.203Z"
   },
   {
    "duration": 354,
    "start_time": "2022-03-04T19:36:09.835Z"
   },
   {
    "duration": 220,
    "start_time": "2022-03-04T19:36:49.721Z"
   },
   {
    "duration": 29,
    "start_time": "2022-03-04T19:36:52.628Z"
   },
   {
    "duration": 291,
    "start_time": "2022-03-04T19:38:46.395Z"
   },
   {
    "duration": 153,
    "start_time": "2022-03-04T19:38:50.827Z"
   },
   {
    "duration": 11,
    "start_time": "2022-03-04T19:38:53.068Z"
   },
   {
    "duration": 126,
    "start_time": "2022-03-04T19:39:55.066Z"
   },
   {
    "duration": 9,
    "start_time": "2022-03-04T19:39:57.219Z"
   },
   {
    "duration": 358,
    "start_time": "2022-03-04T19:43:00.494Z"
   },
   {
    "duration": 4,
    "start_time": "2022-03-04T19:46:54.345Z"
   },
   {
    "duration": 1131,
    "start_time": "2022-03-04T19:49:50.368Z"
   },
   {
    "duration": 15,
    "start_time": "2022-03-04T19:49:52.766Z"
   },
   {
    "duration": 1421,
    "start_time": "2022-03-04T19:50:41.115Z"
   },
   {
    "duration": 14,
    "start_time": "2022-03-04T19:50:42.542Z"
   },
   {
    "duration": 466,
    "start_time": "2022-03-04T19:52:15.452Z"
   },
   {
    "duration": 485,
    "start_time": "2022-03-04T19:53:33.551Z"
   },
   {
    "duration": 834,
    "start_time": "2022-03-05T05:22:22.368Z"
   },
   {
    "duration": 4,
    "start_time": "2022-03-05T05:22:23.204Z"
   },
   {
    "duration": 45,
    "start_time": "2022-03-05T05:22:23.210Z"
   },
   {
    "duration": 232,
    "start_time": "2022-03-05T05:22:23.257Z"
   },
   {
    "duration": 16,
    "start_time": "2022-03-05T05:22:23.491Z"
   },
   {
    "duration": 106,
    "start_time": "2022-03-05T05:22:23.509Z"
   },
   {
    "duration": 7,
    "start_time": "2022-03-05T05:22:23.617Z"
   },
   {
    "duration": 150,
    "start_time": "2022-03-05T05:22:23.627Z"
   },
   {
    "duration": 10,
    "start_time": "2022-03-05T05:22:23.779Z"
   },
   {
    "duration": 11,
    "start_time": "2022-03-05T05:22:23.791Z"
   },
   {
    "duration": 11,
    "start_time": "2022-03-05T05:22:23.804Z"
   },
   {
    "duration": 96,
    "start_time": "2022-03-05T05:22:23.817Z"
   },
   {
    "duration": 7,
    "start_time": "2022-03-05T05:22:23.915Z"
   },
   {
    "duration": 912,
    "start_time": "2022-03-05T05:22:23.924Z"
   },
   {
    "duration": 8,
    "start_time": "2022-03-05T05:22:24.837Z"
   },
   {
    "duration": 92,
    "start_time": "2022-03-05T05:22:24.846Z"
   },
   {
    "duration": 6,
    "start_time": "2022-03-05T05:22:24.940Z"
   },
   {
    "duration": 62,
    "start_time": "2022-03-05T05:22:24.947Z"
   },
   {
    "duration": 5,
    "start_time": "2022-03-05T05:22:25.011Z"
   },
   {
    "duration": 5,
    "start_time": "2022-03-05T05:22:25.017Z"
   },
   {
    "duration": 2536,
    "start_time": "2022-03-05T05:22:25.024Z"
   },
   {
    "duration": 9,
    "start_time": "2022-03-05T05:22:27.562Z"
   },
   {
    "duration": 2088,
    "start_time": "2022-03-05T05:22:27.574Z"
   },
   {
    "duration": 9,
    "start_time": "2022-03-05T05:22:29.664Z"
   },
   {
    "duration": 6,
    "start_time": "2022-03-05T05:22:29.675Z"
   },
   {
    "duration": 411,
    "start_time": "2022-03-05T05:22:29.682Z"
   },
   {
    "duration": 377,
    "start_time": "2022-03-05T05:22:30.094Z"
   },
   {
    "duration": 2,
    "start_time": "2022-03-05T05:22:30.473Z"
   },
   {
    "duration": 92,
    "start_time": "2022-03-05T05:22:30.477Z"
   },
   {
    "duration": 6,
    "start_time": "2022-03-05T05:22:30.571Z"
   },
   {
    "duration": 90,
    "start_time": "2022-03-05T05:22:30.578Z"
   },
   {
    "duration": 124,
    "start_time": "2022-03-05T05:22:30.669Z"
   },
   {
    "duration": 7,
    "start_time": "2022-03-05T05:22:30.795Z"
   },
   {
    "duration": 636,
    "start_time": "2022-03-05T06:33:46.331Z"
   },
   {
    "duration": 3,
    "start_time": "2022-03-05T06:33:46.969Z"
   },
   {
    "duration": 30,
    "start_time": "2022-03-05T06:33:46.976Z"
   },
   {
    "duration": 23,
    "start_time": "2022-03-05T06:33:47.008Z"
   },
   {
    "duration": 11,
    "start_time": "2022-03-05T06:33:47.033Z"
   },
   {
    "duration": 80,
    "start_time": "2022-03-05T06:33:47.045Z"
   },
   {
    "duration": 6,
    "start_time": "2022-03-05T06:33:47.127Z"
   },
   {
    "duration": 134,
    "start_time": "2022-03-05T06:33:47.135Z"
   },
   {
    "duration": 8,
    "start_time": "2022-03-05T06:33:47.271Z"
   },
   {
    "duration": 11,
    "start_time": "2022-03-05T06:33:47.280Z"
   },
   {
    "duration": 8,
    "start_time": "2022-03-05T06:33:47.292Z"
   },
   {
    "duration": 70,
    "start_time": "2022-03-05T06:33:47.301Z"
   },
   {
    "duration": 5,
    "start_time": "2022-03-05T06:33:47.372Z"
   },
   {
    "duration": 844,
    "start_time": "2022-03-05T06:33:47.378Z"
   },
   {
    "duration": 7,
    "start_time": "2022-03-05T06:33:48.223Z"
   },
   {
    "duration": 62,
    "start_time": "2022-03-05T06:33:48.232Z"
   },
   {
    "duration": 5,
    "start_time": "2022-03-05T06:33:48.296Z"
   },
   {
    "duration": 30,
    "start_time": "2022-03-05T06:33:48.302Z"
   },
   {
    "duration": 5,
    "start_time": "2022-03-05T06:33:48.333Z"
   },
   {
    "duration": 4,
    "start_time": "2022-03-05T06:33:48.339Z"
   },
   {
    "duration": 733,
    "start_time": "2022-03-05T06:33:48.344Z"
   },
   {
    "duration": 9,
    "start_time": "2022-03-05T06:33:49.080Z"
   },
   {
    "duration": 324,
    "start_time": "2022-03-05T06:33:49.091Z"
   },
   {
    "duration": 9,
    "start_time": "2022-03-05T06:33:49.416Z"
   },
   {
    "duration": 4,
    "start_time": "2022-03-05T06:33:49.426Z"
   },
   {
    "duration": 359,
    "start_time": "2022-03-05T06:33:49.431Z"
   },
   {
    "duration": 337,
    "start_time": "2022-03-05T06:33:49.791Z"
   },
   {
    "duration": 2,
    "start_time": "2022-03-05T06:33:50.129Z"
   },
   {
    "duration": 62,
    "start_time": "2022-03-05T06:33:50.133Z"
   },
   {
    "duration": 5,
    "start_time": "2022-03-05T06:33:50.197Z"
   },
   {
    "duration": 68,
    "start_time": "2022-03-05T06:33:50.203Z"
   },
   {
    "duration": 95,
    "start_time": "2022-03-05T06:33:50.273Z"
   },
   {
    "duration": 6,
    "start_time": "2022-03-05T06:33:50.370Z"
   },
   {
    "duration": 33,
    "start_time": "2022-03-05T06:34:01.269Z"
   },
   {
    "duration": 341,
    "start_time": "2022-03-05T06:43:07.735Z"
   },
   {
    "duration": 403,
    "start_time": "2022-03-05T06:43:13.640Z"
   },
   {
    "duration": 348,
    "start_time": "2022-03-05T06:43:24.746Z"
   },
   {
    "duration": 302,
    "start_time": "2022-03-05T06:43:28.920Z"
   },
   {
    "duration": 91,
    "start_time": "2022-03-05T06:45:07.705Z"
   },
   {
    "duration": 6,
    "start_time": "2022-03-05T06:45:09.355Z"
   },
   {
    "duration": 88,
    "start_time": "2022-03-05T06:45:54.687Z"
   },
   {
    "duration": 4,
    "start_time": "2022-03-05T06:45:56.130Z"
   },
   {
    "duration": 89,
    "start_time": "2022-03-05T06:46:07.127Z"
   },
   {
    "duration": 5,
    "start_time": "2022-03-05T06:46:07.657Z"
   },
   {
    "duration": 96,
    "start_time": "2022-03-05T06:46:55.566Z"
   },
   {
    "duration": 4,
    "start_time": "2022-03-05T06:46:56.948Z"
   },
   {
    "duration": 624,
    "start_time": "2022-03-05T06:47:50.035Z"
   },
   {
    "duration": 3,
    "start_time": "2022-03-05T06:47:50.660Z"
   },
   {
    "duration": 29,
    "start_time": "2022-03-05T06:47:50.665Z"
   },
   {
    "duration": 19,
    "start_time": "2022-03-05T06:47:50.695Z"
   },
   {
    "duration": 11,
    "start_time": "2022-03-05T06:47:50.715Z"
   },
   {
    "duration": 78,
    "start_time": "2022-03-05T06:47:50.727Z"
   },
   {
    "duration": 5,
    "start_time": "2022-03-05T06:47:50.806Z"
   },
   {
    "duration": 139,
    "start_time": "2022-03-05T06:47:50.812Z"
   },
   {
    "duration": 7,
    "start_time": "2022-03-05T06:47:50.953Z"
   },
   {
    "duration": 8,
    "start_time": "2022-03-05T06:47:50.962Z"
   },
   {
    "duration": 8,
    "start_time": "2022-03-05T06:47:50.971Z"
   },
   {
    "duration": 69,
    "start_time": "2022-03-05T06:47:50.980Z"
   },
   {
    "duration": 5,
    "start_time": "2022-03-05T06:47:51.051Z"
   },
   {
    "duration": 840,
    "start_time": "2022-03-05T06:47:51.057Z"
   },
   {
    "duration": 7,
    "start_time": "2022-03-05T06:47:51.899Z"
   },
   {
    "duration": 70,
    "start_time": "2022-03-05T06:47:51.907Z"
   },
   {
    "duration": 5,
    "start_time": "2022-03-05T06:47:51.978Z"
   },
   {
    "duration": 48,
    "start_time": "2022-03-05T06:47:51.985Z"
   },
   {
    "duration": 4,
    "start_time": "2022-03-05T06:47:52.035Z"
   },
   {
    "duration": 20,
    "start_time": "2022-03-05T06:47:52.040Z"
   },
   {
    "duration": 701,
    "start_time": "2022-03-05T06:47:52.061Z"
   },
   {
    "duration": 9,
    "start_time": "2022-03-05T06:47:52.763Z"
   },
   {
    "duration": 325,
    "start_time": "2022-03-05T06:47:52.773Z"
   },
   {
    "duration": 8,
    "start_time": "2022-03-05T06:47:53.100Z"
   },
   {
    "duration": 4,
    "start_time": "2022-03-05T06:47:53.109Z"
   },
   {
    "duration": 364,
    "start_time": "2022-03-05T06:47:53.114Z"
   },
   {
    "duration": 352,
    "start_time": "2022-03-05T06:47:53.481Z"
   },
   {
    "duration": 2,
    "start_time": "2022-03-05T06:47:53.834Z"
   },
   {
    "duration": 56,
    "start_time": "2022-03-05T06:47:53.838Z"
   },
   {
    "duration": 6,
    "start_time": "2022-03-05T06:47:53.896Z"
   },
   {
    "duration": 67,
    "start_time": "2022-03-05T06:47:53.903Z"
   },
   {
    "duration": 89,
    "start_time": "2022-03-05T06:47:53.972Z"
   },
   {
    "duration": 5,
    "start_time": "2022-03-05T06:47:54.063Z"
   },
   {
    "duration": 347,
    "start_time": "2022-03-05T06:48:42.283Z"
   },
   {
    "duration": 283,
    "start_time": "2022-03-05T06:48:50.149Z"
   },
   {
    "duration": 110,
    "start_time": "2022-03-05T06:48:56.698Z"
   },
   {
    "duration": 5,
    "start_time": "2022-03-05T06:48:57.547Z"
   },
   {
    "duration": 93,
    "start_time": "2022-03-05T06:49:23.188Z"
   },
   {
    "duration": 5,
    "start_time": "2022-03-05T06:49:24.031Z"
   },
   {
    "duration": 87,
    "start_time": "2022-03-05T06:50:41.922Z"
   },
   {
    "duration": 5,
    "start_time": "2022-03-05T06:50:43.473Z"
   },
   {
    "duration": 103,
    "start_time": "2022-03-05T06:51:25.604Z"
   },
   {
    "duration": 6,
    "start_time": "2022-03-05T06:51:26.116Z"
   },
   {
    "duration": 96,
    "start_time": "2022-03-05T06:52:57.159Z"
   },
   {
    "duration": 78,
    "start_time": "2022-03-05T06:53:17.585Z"
   },
   {
    "duration": 91,
    "start_time": "2022-03-05T06:53:28.689Z"
   },
   {
    "duration": 80,
    "start_time": "2022-03-05T06:53:36.541Z"
   },
   {
    "duration": 695,
    "start_time": "2022-03-05T08:59:58.188Z"
   },
   {
    "duration": 4,
    "start_time": "2022-03-05T08:59:58.885Z"
   },
   {
    "duration": 29,
    "start_time": "2022-03-05T08:59:58.891Z"
   },
   {
    "duration": 24,
    "start_time": "2022-03-05T08:59:58.921Z"
   },
   {
    "duration": 11,
    "start_time": "2022-03-05T08:59:58.946Z"
   },
   {
    "duration": 82,
    "start_time": "2022-03-05T08:59:58.959Z"
   },
   {
    "duration": 6,
    "start_time": "2022-03-05T08:59:59.042Z"
   },
   {
    "duration": 132,
    "start_time": "2022-03-05T08:59:59.050Z"
   },
   {
    "duration": 9,
    "start_time": "2022-03-05T08:59:59.184Z"
   },
   {
    "duration": 9,
    "start_time": "2022-03-05T08:59:59.194Z"
   },
   {
    "duration": 9,
    "start_time": "2022-03-05T08:59:59.204Z"
   },
   {
    "duration": 69,
    "start_time": "2022-03-05T08:59:59.215Z"
   },
   {
    "duration": 6,
    "start_time": "2022-03-05T08:59:59.286Z"
   },
   {
    "duration": 877,
    "start_time": "2022-03-05T08:59:59.294Z"
   },
   {
    "duration": 7,
    "start_time": "2022-03-05T09:00:00.173Z"
   },
   {
    "duration": 70,
    "start_time": "2022-03-05T09:00:00.181Z"
   },
   {
    "duration": 5,
    "start_time": "2022-03-05T09:00:00.253Z"
   },
   {
    "duration": 45,
    "start_time": "2022-03-05T09:00:00.260Z"
   },
   {
    "duration": 6,
    "start_time": "2022-03-05T09:00:00.307Z"
   },
   {
    "duration": 6,
    "start_time": "2022-03-05T09:00:00.314Z"
   },
   {
    "duration": 1096,
    "start_time": "2022-03-05T09:00:00.322Z"
   },
   {
    "duration": 11,
    "start_time": "2022-03-05T09:00:01.420Z"
   },
   {
    "duration": 407,
    "start_time": "2022-03-05T09:00:01.435Z"
   },
   {
    "duration": 13,
    "start_time": "2022-03-05T09:00:01.844Z"
   },
   {
    "duration": 31,
    "start_time": "2022-03-05T09:00:01.859Z"
   },
   {
    "duration": 429,
    "start_time": "2022-03-05T09:00:01.891Z"
   },
   {
    "duration": 434,
    "start_time": "2022-03-05T09:00:02.322Z"
   },
   {
    "duration": 2,
    "start_time": "2022-03-05T09:00:02.758Z"
   },
   {
    "duration": 66,
    "start_time": "2022-03-05T09:00:02.761Z"
   },
   {
    "duration": 8,
    "start_time": "2022-03-05T09:00:02.829Z"
   },
   {
    "duration": 70,
    "start_time": "2022-03-05T09:00:02.839Z"
   },
   {
    "duration": 100,
    "start_time": "2022-03-05T09:00:02.911Z"
   },
   {
    "duration": 5,
    "start_time": "2022-03-05T09:00:03.013Z"
   },
   {
    "duration": 325,
    "start_time": "2022-03-05T09:01:50.606Z"
   },
   {
    "duration": 322,
    "start_time": "2022-03-05T09:01:57.647Z"
   },
   {
    "duration": 332,
    "start_time": "2022-03-05T09:03:20.311Z"
   }
  ],
  "colab": {
   "name": "AdvansedSQLProjectTemplate.ipynb",
   "provenance": []
  },
  "kernelspec": {
   "display_name": "Python 3",
   "language": "python",
   "name": "python3"
  },
  "language_info": {
   "codemirror_mode": {
    "name": "ipython",
    "version": 3
   },
   "file_extension": ".py",
   "mimetype": "text/x-python",
   "name": "python",
   "nbconvert_exporter": "python",
   "pygments_lexer": "ipython3",
   "version": "3.8.8"
  },
  "toc": {
   "base_numbering": 1,
   "nav_menu": {},
   "number_sections": true,
   "sideBar": true,
   "skip_h1_title": true,
   "title_cell": "Table of Contents",
   "title_sidebar": "Contents",
   "toc_cell": false,
   "toc_position": {},
   "toc_section_display": true,
   "toc_window_display": false
  }
 },
 "nbformat": 4,
 "nbformat_minor": 4
}
